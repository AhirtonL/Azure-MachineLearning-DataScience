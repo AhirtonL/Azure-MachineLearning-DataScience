{
 "cells": [
  {
   "cell_type": "markdown",
   "metadata": {},
   "source": [
    "### Mircosoft R Services\n",
    "\n",
    "Microsoft R Services is a collection of software, services, and support that make the very \n",
    "popular R statistical computing environment a compelling tool for deployment within an \n",
    "enterprise. A full Microsoft R Services installation includes the following:\n",
    "* Microsoft R Open: High-performance math libraries installed on top of a stable version of Open-Source R, including Base and Recommended Packages.\n",
    "* RevoScaleR: an R package providing high-performance, scalable, parallelized, and distributable “Big Data Big Analytics.”\n",
    "* DeployR: Enables application developers to collaborate with data scientists to deliver actionable intelligence securely and at scale via analytics Web services.\n",
    "* Platform-specific tools: Software and services tuned to specific platforms, including Hadoop clusters, Teradata enterprise data warehouses, and Microsoft Windows desktops.\n",
    "\n",
    "On the data science VM, we have installed the Microsoft R Services developer edition (which includes the Microsoft R Open, RevoScaleR) that you can use for developing your applications. You will need a separate license for production use. You can use the RevoIDE or the Jupyter notebook already installed on this VM to build applications in R. You can also download other IDEs like [RStudio](http://www.rstudio.com/products/rstudio/download/) to develop application with Microsoft R Services. \n",
    "\n",
    "We demonstrate a sample application below. A few more samples are found in:\n",
    "__C:\\Program Files\\Microsoft\\MRO-for-RRE\\8.0\\R-3.2.2\\library\\RevoScaleR\\demoScripts__\n",
    "\n",
    "We have also packaged some sample data sets at:\n",
    "__C:\\Program Files\\Microsoft\\MRO-for-RRE\\8.0\\R-3.2.2\\library\\RevoScaleR\\SampleData__"
   ]
  },
  {
   "cell_type": "code",
   "execution_count": 1,
   "metadata": {
    "collapsed": true
   },
   "outputs": [],
   "source": [
    "#Need to do this first to ensure R device is rendered\n",
    "options(jupyter.plot_mimetypes = 'image/png')"
   ]
  },
  {
   "cell_type": "code",
   "execution_count": 2,
   "metadata": {
    "collapsed": false
   },
   "outputs": [
    {
     "data": {
      "text/html": [
       "\"C:/Aaqs/IPython Notebooks\""
      ],
      "text/latex": [
       "\"C:/Aaqs/IPython Notebooks\""
      ],
      "text/markdown": [
       "\"C:/Aaqs/IPython Notebooks\""
      ],
      "text/plain": [
       "[1] \"C:/Aaqs/IPython Notebooks\""
      ]
     },
     "execution_count": 2,
     "metadata": {},
     "output_type": "execute_result"
    },
    {
     "data": {
      "text/html": [
       "\"C:/Program Files/Microsoft/MRO-for-RRE/8.0/R-3.2.2/library/RevoScaleR/SampleData\""
      ],
      "text/latex": [
       "\"C:/Program Files/Microsoft/MRO-for-RRE/8.0/R-3.2.2/library/RevoScaleR/SampleData\""
      ],
      "text/markdown": [
       "\"C:/Program Files/Microsoft/MRO-for-RRE/8.0/R-3.2.2/library/RevoScaleR/SampleData\""
      ],
      "text/plain": [
       "[1] \"C:/Program Files/Microsoft/MRO-for-RRE/8.0/R-3.2.2/library/RevoScaleR/SampleData\""
      ]
     },
     "execution_count": 2,
     "metadata": {},
     "output_type": "execute_result"
    }
   ],
   "source": [
    "##########################################################\n",
    "# A Tutorial Introduction to RevoScaleR\n",
    "##########################################################\n",
    "  \n",
    "sampleDataDir <- rxGetOption(\"sampleDataDir\")\n",
    "getwd()\n",
    "sampleDataDir\n",
    "  "
   ]
  },
  {
   "cell_type": "code",
   "execution_count": 3,
   "metadata": {
    "collapsed": false
   },
   "outputs": [
    {
     "name": "stdout",
     "output_type": "stream",
     "text": [
      "Rows Read: 500000, Total Rows Processed: 500000, Total Chunk Time: 2.610 seconds\n",
      "Rows Read: 100000, Total Rows Processed: 600000, Total Chunk Time: 1.109 seconds \n",
      "Rows Read: 500000, Total Rows Processed: 500000, Total Chunk Time: 2.765 seconds\n",
      "Rows Read: 100000, Total Rows Processed: 600000, Total Chunk Time: 1.047 seconds \n"
     ]
    }
   ],
   "source": [
    "# Importing the data\n",
    "inputFile <- file.path(sampleDataDir, \"AirlineDemoSmall.csv\")\n",
    "\n",
    "airDS <- rxImport(inData = inputFile, outFile = \"ADS.xdf\", \n",
    "\tmissingValueString = \"M\", stringsAsFactors = TRUE)\n",
    "colInfo <- list(DayOfWeek = list(type = \"factor\",\n",
    "    levels = c(\"Monday\", \"Tuesday\", \"Wednesday\", \"Thursday\", \n",
    "    \"Friday\", \"Saturday\", \"Sunday\")))\n",
    "\n",
    "airDS <- rxImport(inData = inputFile, outFile = \"ADS.xdf\", \n",
    "\tmissingValueString = \"M\", colInfo  = colInfo, overwrite = TRUE)\n",
    "  "
   ]
  },
  {
   "cell_type": "code",
   "execution_count": 4,
   "metadata": {
    "collapsed": false
   },
   "outputs": [
    {
     "data": {
      "text/html": [
       "6e+05"
      ],
      "text/latex": [
       "6e+05"
      ],
      "text/markdown": [
       "6e+05"
      ],
      "text/plain": [
       "[1] 6e+05"
      ]
     },
     "execution_count": 4,
     "metadata": {},
     "output_type": "execute_result"
    },
    {
     "data": {
      "text/html": [
       "3"
      ],
      "text/latex": [
       "3"
      ],
      "text/markdown": [
       "3"
      ],
      "text/plain": [
       "[1] 3"
      ]
     },
     "execution_count": 4,
     "metadata": {},
     "output_type": "execute_result"
    },
    {
     "data": {
      "text/html": [
       "<table>\n",
       "<thead><tr><th></th><th scope=col>ArrDelay</th><th scope=col>CRSDepTime</th><th scope=col>DayOfWeek</th></tr></thead>\n",
       "<tbody>\n",
       "\t<tr><th scope=row>1</th><td>6</td><td>9.666666</td><td>Monday</td></tr>\n",
       "\t<tr><th scope=row>2</th><td>-8</td><td>19.91667</td><td>Monday</td></tr>\n",
       "\t<tr><th scope=row>3</th><td>-2</td><td>13.75</td><td>Monday</td></tr>\n",
       "\t<tr><th scope=row>4</th><td>1</td><td>11.75</td><td>Monday</td></tr>\n",
       "\t<tr><th scope=row>5</th><td>-2</td><td>6.416667</td><td>Monday</td></tr>\n",
       "\t<tr><th scope=row>6</th><td>-14</td><td>13.83333</td><td>Monday</td></tr>\n",
       "</tbody>\n",
       "</table>\n"
      ],
      "text/latex": [
       "\\begin{tabular}{r|lll}\n",
       "  & ArrDelay & CRSDepTime & DayOfWeek\\\\\n",
       "\\hline\n",
       "\t1 & 6 & 9.666666 & Monday\\\\\n",
       "\t2 & -8 & 19.91667 & Monday\\\\\n",
       "\t3 & -2 & 13.75 & Monday\\\\\n",
       "\t4 & 1 & 11.75 & Monday\\\\\n",
       "\t5 & -2 & 6.416667 & Monday\\\\\n",
       "\t6 & -14 & 13.83333 & Monday\\\\\n",
       "\\end{tabular}\n"
      ],
      "text/plain": [
       "  ArrDelay CRSDepTime DayOfWeek\n",
       "1        6   9.666666    Monday\n",
       "2       -8  19.916666    Monday\n",
       "3       -2  13.750000    Monday\n",
       "4        1  11.750000    Monday\n",
       "5       -2   6.416667    Monday\n",
       "6      -14  13.833333    Monday"
      ]
     },
     "execution_count": 4,
     "metadata": {},
     "output_type": "execute_result"
    },
    {
     "data": {
      "text/plain": [
       "Var 1: ArrDelay, Type: integer, Low/High: (-86, 1490)\n",
       "Var 2: CRSDepTime, Type: numeric, Storage: float32, Low/High: (0.0167, 23.9833)\n",
       "Var 3: DayOfWeek\n",
       "       7 factor levels: Monday Tuesday Wednesday Thursday Friday Saturday Sunday"
      ]
     },
     "execution_count": 4,
     "metadata": {},
     "output_type": "execute_result"
    }
   ],
   "source": [
    "# Examining the new data file\n",
    "nrow(airDS)\n",
    "ncol(airDS)\n",
    "head(airDS)\n",
    "\n",
    "rxGetVarInfo(airDS)"
   ]
  },
  {
   "cell_type": "code",
   "execution_count": 5,
   "metadata": {
    "collapsed": false
   },
   "outputs": [
    {
     "name": "stdout",
     "output_type": "stream",
     "text": [
      "Rows Read: 10, Total Rows Processed: 10, Total Chunk Time: 0.078 seconds \n"
     ]
    },
    {
     "data": {
      "text/html": [
       "<table>\n",
       "<thead><tr><th></th><th scope=col>ArrDelay</th><th scope=col>CRSDepTime</th><th scope=col>DayOfWeek</th></tr></thead>\n",
       "<tbody>\n",
       "\t<tr><th scope=row>1</th><td>-2</td><td>11.41667</td><td>Saturday</td></tr>\n",
       "\t<tr><th scope=row>2</th><td>39</td><td>9.916667</td><td>Friday</td></tr>\n",
       "\t<tr><th scope=row>3</th><td>NA</td><td>10.03333</td><td>Monday</td></tr>\n",
       "\t<tr><th scope=row>4</th><td>1</td><td>17</td><td>Friday</td></tr>\n",
       "\t<tr><th scope=row>5</th><td>-17</td><td>9.983334</td><td>Wednesday</td></tr>\n",
       "\t<tr><th scope=row>6</th><td>8</td><td>21.25</td><td>Saturday</td></tr>\n",
       "\t<tr><th scope=row>7</th><td>-9</td><td>6.25</td><td>Friday</td></tr>\n",
       "\t<tr><th scope=row>8</th><td>-11</td><td>15</td><td>Friday</td></tr>\n",
       "\t<tr><th scope=row>9</th><td>4</td><td>20.91667</td><td>Sunday</td></tr>\n",
       "\t<tr><th scope=row>10</th><td>-8</td><td>6.5</td><td>Thursday</td></tr>\n",
       "</tbody>\n",
       "</table>\n"
      ],
      "text/latex": [
       "\\begin{tabular}{r|lll}\n",
       "  & ArrDelay & CRSDepTime & DayOfWeek\\\\\n",
       "\\hline\n",
       "\t1 & -2 & 11.41667 & Saturday\\\\\n",
       "\t2 & 39 & 9.916667 & Friday\\\\\n",
       "\t3 & NA & 10.03333 & Monday\\\\\n",
       "\t4 & 1 & 17 & Friday\\\\\n",
       "\t5 & -17 & 9.983334 & Wednesday\\\\\n",
       "\t6 & 8 & 21.25 & Saturday\\\\\n",
       "\t7 & -9 & 6.25 & Friday\\\\\n",
       "\t8 & -11 & 15 & Friday\\\\\n",
       "\t9 & 4 & 20.91667 & Sunday\\\\\n",
       "\t10 & -8 & 6.5 & Thursday\\\\\n",
       "\\end{tabular}\n"
      ],
      "text/plain": [
       "   ArrDelay CRSDepTime DayOfWeek\n",
       "1        -2  11.416667  Saturday\n",
       "2        39   9.916667    Friday\n",
       "3        NA  10.033334    Monday\n",
       "4         1  17.000000    Friday\n",
       "5       -17   9.983334 Wednesday\n",
       "6         8  21.250000  Saturday\n",
       "7        -9   6.250000    Friday\n",
       "8       -11  15.000000    Friday\n",
       "9         4  20.916666    Sunday\n",
       "10       -8   6.500000  Thursday"
      ]
     },
     "execution_count": 5,
     "metadata": {},
     "output_type": "execute_result"
    },
    {
     "data": {
      "text/html": [
       "<ol class=list-inline>\n",
       "\t<li>\"Monday\"</li>\n",
       "\t<li>\"Tuesday\"</li>\n",
       "\t<li>\"Wednesday\"</li>\n",
       "\t<li>\"Thursday\"</li>\n",
       "\t<li>\"Friday\"</li>\n",
       "\t<li>\"Saturday\"</li>\n",
       "\t<li>\"Sunday\"</li>\n",
       "</ol>\n"
      ],
      "text/latex": [
       "\\begin{enumerate*}\n",
       "\\item \"Monday\"\n",
       "\\item \"Tuesday\"\n",
       "\\item \"Wednesday\"\n",
       "\\item \"Thursday\"\n",
       "\\item \"Friday\"\n",
       "\\item \"Saturday\"\n",
       "\\item \"Sunday\"\n",
       "\\end{enumerate*}\n"
      ],
      "text/markdown": [
       "1. \"Monday\"\n",
       "2. \"Tuesday\"\n",
       "3. \"Wednesday\"\n",
       "4. \"Thursday\"\n",
       "5. \"Friday\"\n",
       "6. \"Saturday\"\n",
       "7. \"Sunday\"\n",
       "\n",
       "\n"
      ],
      "text/plain": [
       "[1] \"Monday\"    \"Tuesday\"   \"Wednesday\" \"Thursday\"  \"Friday\"    \"Saturday\" \n",
       "[7] \"Sunday\"   "
      ]
     },
     "execution_count": 5,
     "metadata": {},
     "output_type": "execute_result"
    },
    {
     "name": "stdout",
     "output_type": "stream",
     "text": [
      "Rows Read: 500000, Total Rows Processed: 500000, Total Chunk Time: 0.047 seconds\n",
      "Rows Read: 100000, Total Rows Processed: 600000, Total Chunk Time: 0.047 seconds \n",
      "Computation time: 0.125 seconds.\n"
     ]
    },
    {
     "data": {
      "text/plain": [
       "Call:\n",
       "rxSummary(formula = form, data = object, byTerm = TRUE, reportProgress = 0L)\n",
       "\n",
       "Summary Statistics Results for: ~ArrDelay + CRSDepTime + DayOfWeek\n",
       "Data: object (RxXdfData Data Source)\n",
       "File name: ADS.xdf\n",
       "Number of valid observations: 6e+05 \n",
       " \n",
       " Name       Mean     StdDev    Min        Max        ValidObs MissingObs\n",
       " ArrDelay   11.31794 40.688536 -86.000000 1490.00000 582628   17372     \n",
       " CRSDepTime 13.48227  4.697566   0.016667   23.98333 600000       0     \n",
       "\n",
       "Category Counts for DayOfWeek\n",
       "Number of categories: 7\n",
       "Number of valid observations: 6e+05\n",
       "Number of missing observations: 0\n",
       "\n",
       " DayOfWeek Counts\n",
       " Monday    97975 \n",
       " Tuesday   77725 \n",
       " Wednesday 78875 \n",
       " Thursday  81304 \n",
       " Friday    82987 \n",
       " Saturday  86159 \n",
       " Sunday    94975 "
      ]
     },
     "execution_count": 5,
     "metadata": {},
     "output_type": "execute_result"
    }
   ],
   "source": [
    "# Read 10 rows into a data frame\n",
    "myData <- rxDataStep(airDS, numRows=10, startRow=100000)\n",
    "myData\n",
    "levels(myData$DayOfWeek)\n",
    "# Summarizing Your Data \n",
    "adsSummary <- rxSummary(~ArrDelay+CRSDepTime+DayOfWeek, data = airDS)\n",
    "adsSummary <- summary( airDS )\n",
    "  \n",
    "adsSummary"
   ]
  },
  {
   "cell_type": "code",
   "execution_count": 6,
   "metadata": {
    "collapsed": false
   },
   "outputs": [
    {
     "name": "stdout",
     "output_type": "stream",
     "text": [
      "Rows Read: 500000, Total Rows Processed: 500000, Total Chunk Time: 0.031 seconds\n",
      "Rows Read: 100000, Total Rows Processed: 600000, Total Chunk Time: 0.025 seconds \n",
      "Computation time: 0.067 seconds.\n"
     ]
    },
    {
     "data": {
      "text/plain": [
       "Call:\n",
       "rxSummary(formula = ~ArrDelay:DayOfWeek, data = airDS)\n",
       "\n",
       "Summary Statistics Results for: ~ArrDelay:DayOfWeek\n",
       "Data: airDS (RxXdfData Data Source)\n",
       "File name: ADS.xdf\n",
       "Number of valid observations: 6e+05 \n",
       " \n",
       " Name               Mean     StdDev   Min Max  ValidObs MissingObs\n",
       " ArrDelay:DayOfWeek 11.31794 40.68854 -86 1490 582628   17372     \n",
       "\n",
       "Statistics by category (7 categories):\n",
       "\n",
       " Category                         DayOfWeek Means     StdDev   Min Max \n",
       " ArrDelay for DayOfWeek=Monday    Monday    12.025604 40.02463 -76 1017\n",
       " ArrDelay for DayOfWeek=Tuesday   Tuesday   11.293808 43.66269 -70 1143\n",
       " ArrDelay for DayOfWeek=Wednesday Wednesday 10.156539 39.58803 -81 1166\n",
       " ArrDelay for DayOfWeek=Thursday  Thursday   8.658007 36.74724 -58 1053\n",
       " ArrDelay for DayOfWeek=Friday    Friday    14.804335 41.79260 -78 1490\n",
       " ArrDelay for DayOfWeek=Saturday  Saturday  11.875326 45.24540 -73 1370\n",
       " ArrDelay for DayOfWeek=Sunday    Sunday    10.331806 37.33348 -86 1202\n",
       " ValidObs\n",
       " 95298   \n",
       " 74011   \n",
       " 76786   \n",
       " 79145   \n",
       " 80142   \n",
       " 83851   \n",
       " 93395   "
      ]
     },
     "execution_count": 6,
     "metadata": {},
     "output_type": "execute_result"
    }
   ],
   "source": [
    "# Computing summary information by category\n",
    "rxSummary(~ArrDelay:DayOfWeek, data = airDS)"
   ]
  },
  {
   "cell_type": "code",
   "execution_count": 7,
   "metadata": {
    "collapsed": false
   },
   "outputs": [
    {
     "name": "stdout",
     "output_type": "stream",
     "text": [
      "Rows Read: 500000, Total Rows Processed: 500000, Total Chunk Time: 0.875 secondsRows Read: 100000, Total Rows Processed: 600000, Total Chunk Time: 0.109 seconds \n",
      "Computation time: 1.011 seconds.\n",
      "Rows Read: 500000, Total Rows Processed: 500000, Total Chunk Time: 0.969 secondsRows Read: 100000, Total Rows Processed: 600000, Total Chunk Time: 0.109 seconds \n",
      "Computation time: 1.125 seconds.\n"
     ]
    },
    {
     "data": {
      "image/png": "[encoded data removed]"
     },
     "metadata": {},
     "output_type": "display_data"
    },
    {
     "name": "stdout",
     "output_type": "stream",
     "text": [
      "Rows Read: 500000, Total Rows Processed: 500000, Total Chunk Time: 0.016 seconds\n",
      "Rows Read: 100000, Total Rows Processed: 600000, Total Chunk Time: 0.015 seconds \n",
      "Computation time: 0.031 seconds.\n"
     ]
    },
    {
     "data": {
      "image/png": "[encoded data removed]"
     },
     "metadata": {},
     "output_type": "display_data"
    },
    {
     "data": {
      "image/png": "[encoded data removed]"
     },
     "metadata": {},
     "output_type": "display_data"
    }
   ],
   "source": [
    "# Drawing histograms for each variable\n",
    "rxHistogram(~ArrDelay, data = airDS)\n",
    "rxHistogram(~CRSDepTime, data = airDS)\n",
    "rxHistogram(~DayOfWeek, data = airDS)\n",
    "  "
   ]
  },
  {
   "cell_type": "code",
   "execution_count": 8,
   "metadata": {
    "collapsed": false
   },
   "outputs": [
    {
     "name": "stdout",
     "output_type": "stream",
     "text": [
      "Rows Read: 500000, Total Rows Processed: 500000, Total Chunk Time: 0.188 secondsRows Read: 100000, Total Rows Processed: 600000, Total Chunk Time: 0.422 seconds \n",
      "Rows Read: 1296, Total Rows Processed: 1296, Total Chunk Time: 0.015 seconds \n",
      "Computation time: 0.015 seconds.\n"
     ]
    },
    {
     "data": {
      "image/png": "[encoded data removed]"
     },
     "metadata": {},
     "output_type": "display_data"
    }
   ],
   "source": [
    "# Extracting a subsample into a data frame\n",
    "myData <- rxDataStep(inData = airDS, \n",
    "rowSelection = ArrDelay > 240 & ArrDelay <= 300, \n",
    "\tvarsToKeep = c(\"ArrDelay\", \"DayOfWeek\"))\n",
    "rxHistogram(~ArrDelay, data = myData)\n",
    "  "
   ]
  },
  {
   "cell_type": "code",
   "execution_count": 9,
   "metadata": {
    "collapsed": false
   },
   "outputs": [
    {
     "name": "stdout",
     "output_type": "stream",
     "text": [
      "Rows Read: 500000, Total Rows Processed: 500000, Total Chunk Time: 0.029 seconds\n",
      "Rows Read: 100000, Total Rows Processed: 600000, Total Chunk Time: 0.015 seconds \n",
      "Computation time: 0.060 seconds.\n"
     ]
    },
    {
     "data": {
      "text/plain": [
       "Call:\n",
       "rxLinMod(formula = ArrDelay ~ DayOfWeek, data = airDS)\n",
       "\n",
       "Linear Regression Results for: ArrDelay ~ DayOfWeek\n",
       "Data: airDS (RxXdfData Data Source)\n",
       "File name: ADS.xdf\n",
       "Dependent variable(s): ArrDelay\n",
       "Total independent variables: 8 (Including number dropped: 1)\n",
       "Number of valid observations: 582628\n",
       "Number of missing observations: 17372 \n",
       " \n",
       "Coefficients: (1 not defined because of singularities)\n",
       "                    Estimate Std. Error t value Pr(>|t|)    \n",
       "(Intercept)          10.3318     0.1330  77.673 2.22e-16 ***\n",
       "DayOfWeek=Monday      1.6938     0.1872   9.049 2.22e-16 ***\n",
       "DayOfWeek=Tuesday     0.9620     0.2001   4.809 1.52e-06 ***\n",
       "DayOfWeek=Wednesday  -0.1753     0.1980  -0.885    0.376    \n",
       "DayOfWeek=Thursday   -1.6738     0.1964  -8.522 2.22e-16 ***\n",
       "DayOfWeek=Friday      4.4725     0.1957  22.850 2.22e-16 ***\n",
       "DayOfWeek=Saturday    1.5435     0.1934   7.981 2.22e-16 ***\n",
       "DayOfWeek=Sunday     Dropped    Dropped Dropped  Dropped    \n",
       "---\n",
       "Signif. codes:  0 '***' 0.001 '**' 0.01 '*' 0.05 '.' 0.1 ' ' 1\n",
       "\n",
       "Residual standard error: 40.65 on 582621 degrees of freedom\n",
       "Multiple R-squared: 0.001869 \n",
       "Adjusted R-squared: 0.001858 \n",
       "F-statistic: 181.8 on 6 and 582621 DF,  p-value: < 2.2e-16 \n",
       "Condition number: 10.5595 "
      ]
     },
     "execution_count": 9,
     "metadata": {},
     "output_type": "execute_result"
    }
   ],
   "source": [
    "# Fitting a simple model\n",
    "arrDelayLm1 <- rxLinMod(ArrDelay ~ DayOfWeek, data = airDS)\n",
    "summary(arrDelayLm1)"
   ]
  },
  {
   "cell_type": "code",
   "execution_count": 10,
   "metadata": {
    "collapsed": false
   },
   "outputs": [
    {
     "name": "stdout",
     "output_type": "stream",
     "text": [
      "Rows Read: 500000, Total Rows Processed: 500000, Total Chunk Time: 0.032 seconds\n",
      "Rows Read: 100000, Total Rows Processed: 600000, Total Chunk Time: 0.015 seconds \n",
      "Computation time: 0.063 seconds.\n"
     ]
    },
    {
     "data": {
      "text/plain": [
       "Call:\n",
       "rxLinMod(formula = ArrDelay ~ DayOfWeek, data = airDS, cube = TRUE)\n",
       "\n",
       "Cube Linear Regression Results for: ArrDelay ~ DayOfWeek\n",
       "Data: airDS (RxXdfData Data Source)\n",
       "File name: ADS.xdf\n",
       "Dependent variable(s): ArrDelay\n",
       "Total independent variables: 7 \n",
       "Number of valid observations: 582628\n",
       "Number of missing observations: 17372 \n",
       " \n",
       "Coefficients:\n",
       "                    Estimate Std. Error t value Pr(>|t|)     | Counts\n",
       "DayOfWeek=Monday     12.0256     0.1317   91.32 2.22e-16 *** |  95298\n",
       "DayOfWeek=Tuesday    11.2938     0.1494   75.58 2.22e-16 *** |  74011\n",
       "DayOfWeek=Wednesday  10.1565     0.1467   69.23 2.22e-16 *** |  76786\n",
       "DayOfWeek=Thursday    8.6580     0.1445   59.92 2.22e-16 *** |  79145\n",
       "DayOfWeek=Friday     14.8043     0.1436  103.10 2.22e-16 *** |  80142\n",
       "DayOfWeek=Saturday   11.8753     0.1404   84.59 2.22e-16 *** |  83851\n",
       "DayOfWeek=Sunday     10.3318     0.1330   77.67 2.22e-16 *** |  93395\n",
       "---\n",
       "Signif. codes:  0 '***' 0.001 '**' 0.01 '*' 0.05 '.' 0.1 ' ' 1\n",
       "\n",
       "Residual standard error: 40.65 on 582621 degrees of freedom\n",
       "Multiple R-squared: 0.001869 (as if intercept included)\n",
       "Adjusted R-squared: 0.001858 \n",
       "F-statistic: 181.8 on 6 and 582621 DF,  p-value: < 2.2e-16 \n",
       "Condition number: 1 "
      ]
     },
     "execution_count": 10,
     "metadata": {},
     "output_type": "execute_result"
    },
    {
     "data": {
      "text/html": [
       "<table>\n",
       "<thead><tr><th></th><th scope=col>DayOfWeek</th><th scope=col>ArrDelay</th><th scope=col>Counts</th></tr></thead>\n",
       "<tbody>\n",
       "\t<tr><th scope=row>1</th><td>Monday</td><td>12.0256</td><td>95298</td></tr>\n",
       "\t<tr><th scope=row>2</th><td>Tuesday</td><td>11.29381</td><td>74011</td></tr>\n",
       "\t<tr><th scope=row>3</th><td>Wednesday</td><td>10.15654</td><td>76786</td></tr>\n",
       "\t<tr><th scope=row>4</th><td>Thursday</td><td>8.658007</td><td>79145</td></tr>\n",
       "\t<tr><th scope=row>5</th><td>Friday</td><td>14.80433</td><td>80142</td></tr>\n",
       "\t<tr><th scope=row>6</th><td>Saturday</td><td>11.87533</td><td>83851</td></tr>\n",
       "\t<tr><th scope=row>7</th><td>Sunday</td><td>10.33181</td><td>93395</td></tr>\n",
       "</tbody>\n",
       "</table>\n"
      ],
      "text/latex": [
       "\\begin{tabular}{r|lll}\n",
       "  & DayOfWeek & ArrDelay & Counts\\\\\n",
       "\\hline\n",
       "\t1 & Monday & 12.0256 & 95298\\\\\n",
       "\t2 & Tuesday & 11.29381 & 74011\\\\\n",
       "\t3 & Wednesday & 10.15654 & 76786\\\\\n",
       "\t4 & Thursday & 8.658007 & 79145\\\\\n",
       "\t5 & Friday & 14.80433 & 80142\\\\\n",
       "\t6 & Saturday & 11.87533 & 83851\\\\\n",
       "\t7 & Sunday & 10.33181 & 93395\\\\\n",
       "\\end{tabular}\n"
      ],
      "text/plain": [
       "  DayOfWeek  ArrDelay Counts\n",
       "1    Monday 12.025604  95298\n",
       "2   Tuesday 11.293808  74011\n",
       "3 Wednesday 10.156539  76786\n",
       "4  Thursday  8.658007  79145\n",
       "5    Friday 14.804335  80142\n",
       "6  Saturday 11.875326  83851\n",
       "7    Sunday 10.331806  93395"
      ]
     },
     "execution_count": 10,
     "metadata": {},
     "output_type": "execute_result"
    },
    {
     "data": {
      "image/png": "[encoded data removed]"
     },
     "metadata": {},
     "output_type": "display_data"
    }
   ],
   "source": [
    "# Using the cube argument\n",
    "arrDelayLm2 <- rxLinMod(ArrDelay ~ DayOfWeek, data = airDS, \n",
    "cube = TRUE)\n",
    "summary(arrDelayLm2)\n",
    "countsDF <- rxResultsDF(arrDelayLm2, type = \"counts\")\n",
    "countsDF\n",
    "rxLinePlot(ArrDelay~DayOfWeek, data = countsDF,\n",
    "    main = \"Average Arrival Delay by Day of Week\")\n"
   ]
  },
  {
   "cell_type": "code",
   "execution_count": 11,
   "metadata": {
    "collapsed": false
   },
   "outputs": [
    {
     "name": "stdout",
     "output_type": "stream",
     "text": [
      "Rows Read: 500000, Total Rows Processed: 500000, Total Chunk Time: 0.046 seconds\n",
      "Rows Read: 100000, Total Rows Processed: 600000, Total Chunk Time: 0.047 seconds \n",
      "Computation time: 0.109 seconds.\n"
     ]
    },
    {
     "data": {
      "text/html": [
       "<table>\n",
       "<thead><tr><th></th><th scope=col>DayOfWeek</th><th scope=col>CRSDepTime</th><th scope=col>ArrDelay</th><th scope=col>Counts</th></tr></thead>\n",
       "<tbody>\n",
       "\t<tr><th scope=row>1</th><td>Monday</td><td>0</td><td>7.43609</td><td>133</td></tr>\n",
       "\t<tr><th scope=row>2</th><td>Tuesday</td><td>0</td><td>7</td><td>107</td></tr>\n",
       "\t<tr><th scope=row>3</th><td>Wednesday</td><td>0</td><td>3.785714</td><td>98</td></tr>\n",
       "\t<tr><th scope=row>4</th><td>Thursday</td><td>0</td><td>3.009709</td><td>103</td></tr>\n",
       "\t<tr><th scope=row>5</th><td>Friday</td><td>0</td><td>4.475248</td><td>101</td></tr>\n",
       "\t<tr><th scope=row>6</th><td>Saturday</td><td>0</td><td>4.546099</td><td>141</td></tr>\n",
       "\t<tr><th scope=row>7</th><td>Sunday</td><td>0</td><td>0.9243697</td><td>119</td></tr>\n",
       "\t<tr><th scope=row>8</th><td>Monday</td><td>1</td><td>2.659091</td><td>44</td></tr>\n",
       "\t<tr><th scope=row>9</th><td>Tuesday</td><td>1</td><td>5.542857</td><td>35</td></tr>\n",
       "\t<tr><th scope=row>10</th><td>Wednesday</td><td>1</td><td>-5.969697</td><td>33</td></tr>\n",
       "\t<tr><th scope=row>11</th><td>Thursday</td><td>1</td><td>5.171429</td><td>35</td></tr>\n",
       "\t<tr><th scope=row>12</th><td>Friday</td><td>1</td><td>-4.90625</td><td>32</td></tr>\n",
       "\t<tr><th scope=row>13</th><td>Saturday</td><td>1</td><td>-4.272727</td><td>44</td></tr>\n",
       "\t<tr><th scope=row>14</th><td>Sunday</td><td>1</td><td>-1.736842</td><td>38</td></tr>\n",
       "\t<tr><th scope=row>15</th><td>Monday</td><td>2</td><td>-0.2</td><td>15</td></tr>\n",
       "</tbody>\n",
       "</table>\n"
      ],
      "text/latex": [
       "\\begin{tabular}{r|llll}\n",
       "  & DayOfWeek & CRSDepTime & ArrDelay & Counts\\\\\n",
       "\\hline\n",
       "\t1 & Monday & 0 & 7.43609 & 133\\\\\n",
       "\t2 & Tuesday & 0 & 7 & 107\\\\\n",
       "\t3 & Wednesday & 0 & 3.785714 & 98\\\\\n",
       "\t4 & Thursday & 0 & 3.009709 & 103\\\\\n",
       "\t5 & Friday & 0 & 4.475248 & 101\\\\\n",
       "\t6 & Saturday & 0 & 4.546099 & 141\\\\\n",
       "\t7 & Sunday & 0 & 0.9243697 & 119\\\\\n",
       "\t8 & Monday & 1 & 2.659091 & 44\\\\\n",
       "\t9 & Tuesday & 1 & 5.542857 & 35\\\\\n",
       "\t10 & Wednesday & 1 & -5.969697 & 33\\\\\n",
       "\t11 & Thursday & 1 & 5.171429 & 35\\\\\n",
       "\t12 & Friday & 1 & -4.90625 & 32\\\\\n",
       "\t13 & Saturday & 1 & -4.272727 & 44\\\\\n",
       "\t14 & Sunday & 1 & -1.736842 & 38\\\\\n",
       "\t15 & Monday & 2 & -0.2 & 15\\\\\n",
       "\\end{tabular}\n"
      ],
      "text/plain": [
       "   DayOfWeek CRSDepTime   ArrDelay Counts\n",
       "1     Monday          0  7.4360902    133\n",
       "2    Tuesday          0  7.0000000    107\n",
       "3  Wednesday          0  3.7857143     98\n",
       "4   Thursday          0  3.0097087    103\n",
       "5     Friday          0  4.4752475    101\n",
       "6   Saturday          0  4.5460993    141\n",
       "7     Sunday          0  0.9243697    119\n",
       "8     Monday          1  2.6590909     44\n",
       "9    Tuesday          1  5.5428571     35\n",
       "10 Wednesday          1 -5.9696970     33\n",
       "11  Thursday          1  5.1714286     35\n",
       "12    Friday          1 -4.9062500     32\n",
       "13  Saturday          1 -4.2727273     44\n",
       "14    Sunday          1 -1.7368421     38\n",
       "15    Monday          2 -0.2000000     15"
      ]
     },
     "execution_count": 11,
     "metadata": {},
     "output_type": "execute_result"
    },
    {
     "data": {
      "image/png": "[encoded data removed]"
     },
     "metadata": {},
     "output_type": "display_data"
    }
   ],
   "source": [
    "# A linear model with multiple independent variables\n",
    "arrDelayLm3 <- rxLinMod(ArrDelay ~ DayOfWeek:F(CRSDepTime), \n",
    "data = airDS, cube = TRUE)\n",
    "arrDelayDT <- rxResultsDF(arrDelayLm3, type = \"counts\")\n",
    "head(arrDelayDT, 15)\n",
    "rxLinePlot( ArrDelay~CRSDepTime|DayOfWeek, data = arrDelayDT,\n",
    "    title = \"Average Arrival Delay by Day of Week by Departure Hour\")\n",
    "  "
   ]
  },
  {
   "cell_type": "code",
   "execution_count": 12,
   "metadata": {
    "collapsed": false
   },
   "outputs": [
    {
     "name": "stdout",
     "output_type": "stream",
     "text": [
      "Rows Read: 500000, Total Rows Processed: 500000, Total Chunk Time: 0.171 secondsRows Read: 100000, Total Rows Processed: 600000, Total Chunk Time: 0.031 seconds \n"
     ]
    },
    {
     "data": {
      "text/html": [
       "2"
      ],
      "text/latex": [
       "2"
      ],
      "text/markdown": [
       "2"
      ],
      "text/plain": [
       "[1] 2"
      ]
     },
     "execution_count": 12,
     "metadata": {},
     "output_type": "execute_result"
    },
    {
     "data": {
      "text/html": [
       "148526"
      ],
      "text/latex": [
       "148526"
      ],
      "text/markdown": [
       "148526"
      ],
      "text/plain": [
       "[1] 148526"
      ]
     },
     "execution_count": 12,
     "metadata": {},
     "output_type": "execute_result"
    },
    {
     "name": "stdout",
     "output_type": "stream",
     "text": [
      "Rows Read: 121833, Total Rows Processed: 121833, Total Chunk Time: Less than .001 seconds\n",
      "Rows Read: 26693, Total Rows Processed: 148526, Total Chunk Time: Less than .001 seconds \n",
      "Computation time: 0.017 seconds.\n"
     ]
    },
    {
     "data": {
      "text/plain": [
       "Call:\n",
       "rxCrossTabs(formula = ArrDelay ~ DayOfWeek, data = airLateDS)\n",
       "\n",
       "Cross Tabulation Results for: ArrDelay ~ DayOfWeek\n",
       "File name: C:\\Aaqs\\IPython Notebooks\\ADS1.xdf\n",
       "Dependent variable(s): ArrDelay\n",
       "Number of valid observations: 148526\n",
       "Number of missing observations: 0 \n",
       "Statistic: means \n",
       " \n",
       "ArrDelay (means):\n",
       "             means  means %\n",
       "Monday    56.94491 13.96327\n",
       "Tuesday   64.28248 15.76249\n",
       "Wednesday 60.12724 14.74360\n",
       "Thursday  55.07093 13.50376\n",
       "Friday    56.11783 13.76047\n",
       "Saturday  61.92247 15.18380\n",
       "Sunday    53.35339 13.08261\n",
       "Col Mean  57.96692         "
      ]
     },
     "execution_count": 12,
     "metadata": {},
     "output_type": "execute_result"
    }
   ],
   "source": [
    "# Creating a subset of the data set and computing a Crosstab\n",
    "airLateDS <- rxDataStep(inData = airDS, outFile = \"ADS1.xdf\", \n",
    "    varsToDrop = c(\"CRSDepTime\"), \n",
    "    rowSelection = ArrDelay > 15)\n",
    "ncol(airLateDS)\n",
    "nrow(airLateDS)\n",
    "myTab <- rxCrossTabs(ArrDelay~DayOfWeek, data = airLateDS)\n",
    "summary(myTab, output = \"means\")\n",
    "  "
   ]
  },
  {
   "cell_type": "code",
   "execution_count": 13,
   "metadata": {
    "collapsed": false
   },
   "outputs": [
    {
     "name": "stdout",
     "output_type": "stream",
     "text": [
      "Rows Read: 500000, Total Rows Processed: 500000, Total Chunk Time: 0.969 secondsRows Read: 100000, Total Rows Processed: 600000, Total Chunk Time: 0.109 seconds \n"
     ]
    },
    {
     "data": {
      "text/plain": [
       "File name: C:\\Aaqs\\IPython Notebooks\\ADS2.xdf \n",
       "Number of observations: 6e+05 \n",
       "Number of variables: 6 \n",
       "Number of blocks: 2 \n",
       "Compression type: zlib \n",
       "Variable information: \n",
       "Var 1: ArrDelay, Type: integer, Low/High: (-86, 1490)\n",
       "Var 2: CRSDepTime, Type: numeric, Storage: float32, Low/High: (0.0167, 23.9833)\n",
       "Var 3: DayOfWeek\n",
       "       7 factor levels: Monday Tuesday Wednesday Thursday Friday Saturday Sunday\n",
       "Var 4: Late, Type: logical, Low/High: (0, 1)\n",
       "Var 5: DepHour, Type: integer, Low/High: (0, 23)\n",
       "Var 6: Night, Type: logical, Low/High: (0, 1)\n",
       "Data (5 rows starting with row 1):\n",
       "  ArrDelay CRSDepTime DayOfWeek  Late DepHour Night\n",
       "1        6   9.666666    Monday FALSE       9 FALSE\n",
       "2       -8  19.916666    Monday FALSE      19 FALSE\n",
       "3       -2  13.750000    Monday FALSE      13 FALSE\n",
       "4        1  11.750000    Monday FALSE      11 FALSE\n",
       "5       -2   6.416667    Monday FALSE       6 FALSE"
      ]
     },
     "execution_count": 13,
     "metadata": {},
     "output_type": "execute_result"
    }
   ],
   "source": [
    "# Creating a new data set with variable transformations\n",
    "airExtraDS <- rxDataStep(inData = airDS, outFile=\"ADS2.xdf\", \n",
    "\ttransforms=list( \n",
    "\t\tLate = ArrDelay > 15, \n",
    "\t\tDepHour = as.integer(CRSDepTime),\n",
    "\t\tNight = DepHour >= 20 | DepHour <= 5))\n",
    "                \n",
    "rxGetInfo(airExtraDS, getVarInfo=TRUE, numRows=5)\n",
    "  "
   ]
  },
  {
   "cell_type": "code",
   "execution_count": 14,
   "metadata": {
    "collapsed": false
   },
   "outputs": [
    {
     "name": "stdout",
     "output_type": "stream",
     "text": [
      "Rows Read: 500000, Total Rows Processed: 500000, Total Chunk Time: 0.031 seconds\n",
      "Rows Read: 100000, Total Rows Processed: 600000, Total Chunk Time: 0.016 seconds \n",
      "\n",
      "Starting values (iteration 1) time: 0.073 secs.\n",
      "Rows Read: 500000, Total Rows Processed: 500000, Total Chunk Time: 0.032 seconds\n",
      "Rows Read: 100000, Total Rows Processed: 600000, Total Chunk Time: 0.062 seconds \n",
      "\n",
      "Iteration 2 time: 0.125 secs.\n",
      "Rows Read: 500000, Total Rows Processed: 500000, Total Chunk Time: 0.037 seconds\n",
      "Rows Read: 100000, Total Rows Processed: 600000, Total Chunk Time: 0.045 seconds \n",
      "\n",
      "Iteration 3 time: 0.126 secs.\n",
      "Rows Read: 500000, Total Rows Processed: 500000, Total Chunk Time: 0.030 seconds\n",
      "Rows Read: 100000, Total Rows Processed: 600000, Total Chunk Time: 0.062 seconds \n",
      "\n",
      "Iteration 4 time: 0.124 secs.\n",
      "\n",
      "Elapsed computation time: 0.448 secs.\n"
     ]
    },
    {
     "data": {
      "text/plain": [
       "Call:\n",
       "rxLogit(formula = Late ~ DepHour + Night, data = airExtraDS)\n",
       "\n",
       "Logistic Regression Results for: Late ~ DepHour + Night\n",
       "Data: airExtraDS (RxXdfData Data Source)\n",
       "File name: C:\\Aaqs\\IPython Notebooks\\ADS2.xdf\n",
       "Dependent variable(s): Late\n",
       "Total independent variables: 3 \n",
       "Number of valid observations: 582628\n",
       "Number of missing observations: 17372 \n",
       "-2*LogLikelihood: 649607.8613 (Residual deviance on 582625 degrees of freedom)\n",
       " \n",
       "Coefficients:\n",
       "              Estimate Std. Error z value Pr(>|z|)    \n",
       "(Intercept) -2.0990076  0.0104460 -200.94 2.22e-16 ***\n",
       "DepHour      0.0790215  0.0007671  103.01 2.22e-16 ***\n",
       "Night       -0.3027030  0.0109914  -27.54 2.22e-16 ***\n",
       "---\n",
       "Signif. codes:  0 '***' 0.001 '**' 0.01 '*' 0.05 '.' 0.1 ' ' 1\n",
       "\n",
       "Condition number of final variance-covariance matrix: 3.0178 \n",
       "Number of iterations: 4"
      ]
     },
     "execution_count": 14,
     "metadata": {},
     "output_type": "execute_result"
    }
   ],
   "source": [
    "# Running a logistic regression using the new data\n",
    "logitObj <- rxLogit(Late~DepHour + Night, data = airExtraDS)\n",
    "summary(logitObj)"
   ]
  },
  {
   "cell_type": "code",
   "execution_count": 15,
   "metadata": {
    "collapsed": false
   },
   "outputs": [
    {
     "name": "stdout",
     "output_type": "stream",
     "text": [
      "Rows Read: 500000, Total Rows Processed: 500000, Total Chunk Time: 0.030 seconds\n",
      "Rows Read: 100000, Total Rows Processed: 600000, Total Chunk Time: 0.078 seconds \n"
     ]
    },
    {
     "data": {
      "text/plain": [
       "File name: C:\\Aaqs\\IPython Notebooks\\ADS2.xdf \n",
       "Number of observations: 6e+05 \n",
       "Number of variables: 7 \n",
       "Number of blocks: 2 \n",
       "Compression type: zlib \n",
       "Variable information: \n",
       "Var 1: ArrDelay, Type: integer, Low/High: (-86, 1490)\n",
       "Var 2: CRSDepTime, Type: numeric, Storage: float32, Low/High: (0.0167, 23.9833)\n",
       "Var 3: DayOfWeek\n",
       "       7 factor levels: Monday Tuesday Wednesday Thursday Friday Saturday Sunday\n",
       "Var 4: Late, Type: logical, Low/High: (0, 1)\n",
       "Var 5: DepHour, Type: integer, Low/High: (0, 23)\n",
       "Var 6: Night, Type: logical, Low/High: (0, 1)\n",
       "Var 7: Late_Pred, Type: numeric, Low/High: (0.0830, 0.3580)\n",
       "Data (5 rows starting with row 1):\n",
       "  ArrDelay CRSDepTime DayOfWeek  Late DepHour Night Late_Pred\n",
       "1        6   9.666666    Monday FALSE       9 FALSE 0.1997569\n",
       "2       -8  19.916666    Monday FALSE      19 FALSE 0.3548931\n",
       "3       -2  13.750000    Monday FALSE      13 FALSE 0.2550745\n",
       "4        1  11.750000    Monday FALSE      11 FALSE 0.2262215\n",
       "5       -2   6.416667    Monday FALSE       6 FALSE 0.1645331"
      ]
     },
     "execution_count": 15,
     "metadata": {},
     "output_type": "execute_result"
    }
   ],
   "source": [
    "# Computing predicted values\n",
    "predictDS <- rxPredict(modelObject = logitObj, data = airExtraDS,\n",
    "outData = airExtraDS)\n",
    "rxGetInfo(predictDS, getVarInfo=TRUE, numRows=5)"
   ]
  },
  {
   "cell_type": "code",
   "execution_count": 16,
   "metadata": {
    "collapsed": false
   },
   "outputs": [
    {
     "data": {
      "text/html": [
       "TRUE"
      ],
      "text/latex": [
       "TRUE"
      ],
      "text/markdown": [
       "TRUE"
      ],
      "text/plain": [
       "[1] TRUE"
      ]
     },
     "execution_count": 16,
     "metadata": {},
     "output_type": "execute_result"
    },
    {
     "data": {
      "text/html": [
       "TRUE"
      ],
      "text/latex": [
       "TRUE"
      ],
      "text/markdown": [
       "TRUE"
      ],
      "text/plain": [
       "[1] TRUE"
      ]
     },
     "execution_count": 16,
     "metadata": {},
     "output_type": "execute_result"
    },
    {
     "data": {
      "text/html": [
       "TRUE"
      ],
      "text/latex": [
       "TRUE"
      ],
      "text/markdown": [
       "TRUE"
      ],
      "text/plain": [
       "[1] TRUE"
      ]
     },
     "execution_count": 16,
     "metadata": {},
     "output_type": "execute_result"
    }
   ],
   "source": [
    "# Clean-up created files\n",
    "if (file.exists(\"ADS.xdf\")) file.remove(\"ADS.xdf\")\n",
    "if (file.exists(\"ADS1.xdf\")) file.remove(\"ADS1.xdf\") \n",
    "if (file.exists(\"ADS2.xdf\")) file.remove(\"ADS2.xdf\")"
   ]
  }
 ],
 "metadata": {
  "kernelspec": {
   "display_name": "R",
   "language": "R",
   "name": "ir"
  },
  "language_info": {
   "codemirror_mode": "r",
   "file_extension": ".r",
   "mimetype": "text/x-r-source",
   "name": "R",
   "pygments_lexer": "r",
   "version": "3.2.2"
  }
 },
 "nbformat": 4,
 "nbformat_minor": 0
}
