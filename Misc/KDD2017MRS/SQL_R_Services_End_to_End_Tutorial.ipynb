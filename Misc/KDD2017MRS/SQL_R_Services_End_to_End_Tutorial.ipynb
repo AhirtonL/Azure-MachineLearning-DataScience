{
 "cells": [
  {
   "cell_type": "markdown",
   "metadata": {},
   "source": [
    "## Configure the sql server credentials"
   ]
  },
  {
   "cell_type": "code",
   "execution_count": null,
   "metadata": {
    "collapsed": true
   },
   "outputs": [],
   "source": [
    "sql_server <- '<input the ip of the sql server on your paper clip>'\n",
    "user_name <- '<input the user name of the sql server on your paper clip>'\n",
    "password <- '<input the password of the sql server user on your paper clip>'"
   ]
  },
  {
   "cell_type": "markdown",
   "metadata": {},
   "source": [
    "## Install necessary libraries if missing"
   ]
  },
  {
   "cell_type": "code",
   "execution_count": null,
   "metadata": {
    "collapsed": false
   },
   "outputs": [],
   "source": [
    "# PreRequisites: You have installed Revolution R Enterprise 7.5.0 or higher on the machine and SQL Server 2016 CTP3 or higher on the database server\n",
    "# Install required R libraries for this walkthrough if they are not installed. \n",
    "\n",
    "if (!('ROCR' %in% rownames(installed.packages()))){\n",
    "  install.packages('ROCR', lib='./libsforjupyter')\n",
    "}\n",
    "if (!('RODBC' %in% rownames(installed.packages()))){\n",
    "  install.packages('RODBC', lib='./libsforjupyter')\n",
    "}\n",
    "\n"
   ]
  },
  {
   "cell_type": "code",
   "execution_count": null,
   "metadata": {
    "collapsed": true
   },
   "outputs": [],
   "source": [
    "# Add local lib directory to libPaths. The Jupyter windows user (LOCAL SERVICE) does not have write permission to global lib\n",
    ".libPaths( c( .libPaths(), \"./libsforjupyter\") )"
   ]
  },
  {
   "cell_type": "markdown",
   "metadata": {},
   "source": [
    "## Confirm that you are running under your own directory"
   ]
  },
  {
   "cell_type": "code",
   "execution_count": null,
   "metadata": {
    "collapsed": false
   },
   "outputs": [],
   "source": [
    "# Confirm you are working in your directory named after your username\n",
    "# The username is also used as prefix for DB objects you will be creating in the tutorial \n",
    "username <- gsub(\"[^a-zA-Z0-9]\", \"\", basename(getwd()))\n",
    "username"
   ]
  },
  {
   "cell_type": "markdown",
   "metadata": {
    "collapsed": false,
    "slideshow": {
     "slide_type": "slide"
    }
   },
   "source": [
    "## Specifying the Database Connection\n",
    "\n",
    "* RODBC style connection string\n",
    "* Compute context can be\n",
    "    * Server: rx Commands will run on the server closer to the data\n",
    "    * Local: Commands will run locally on the client. Data need to brought to the client. \n",
    "\n",
    "\n"
   ]
  },
  {
   "cell_type": "code",
   "execution_count": null,
   "metadata": {
    "collapsed": true
   },
   "outputs": [],
   "source": [
    "connStr <- paste(\"Driver=SQL Server;Server=\", sql_server, \";Database=nyctaxi;Uid=\", user_name, \";Pwd=\", password, sep=\"\")\n",
    "\n",
    "# Set ComputeContext. Needs a temp directory path to serialize R objects back and forth\n",
    "sqlShareDir <- paste(\"C:\\\\AllShare\\\\\",Sys.getenv(\"USERNAME\"),sep=\"\")\n",
    "sqlWait <- TRUE\n",
    "sqlConsoleOutput <- FALSE\n",
    "cc <- RxInSqlServer(connectionString = connStr, shareDir = sqlShareDir, \n",
    "                    wait = sqlWait, consoleOutput = sqlConsoleOutput)\n",
    "rxSetComputeContext(cc)"
   ]
  },
  {
   "cell_type": "markdown",
   "metadata": {},
   "source": [
    "## Setting up R environment to query the database\n",
    "\n",
    "* Define a DataSource (from a select query) to be used to explore the data and generate features from.\n",
    "* Keep in mind that inDataSource is just a reference to the result dataset from the SQL query."
   ]
  },
  {
   "cell_type": "code",
   "execution_count": null,
   "metadata": {
    "collapsed": false
   },
   "outputs": [],
   "source": [
    "\n",
    "sampleDataQuery <- \"select tipped, tip_amount, fare_amount, passenger_count,trip_time_in_secs,trip_distance, \n",
    "pickup_datetime, dropoff_datetime, \n",
    "cast(pickup_longitude as float) as pickup_longitude, \n",
    "cast(pickup_latitude as float) as pickup_latitude, \n",
    "cast(dropoff_longitude as float) as dropoff_longitude, \n",
    "cast(dropoff_latitude as float)  as dropoff_latitude,\n",
    "cast(pickup_longitude as float) * 100 as pickup_longitude2, \n",
    "cast(pickup_latitude as float) * 100 as pickup_latitude2, \n",
    "cast(dropoff_longitude as float) * 100 as dropoff_longitude2, \n",
    "cast(dropoff_latitude as float) * 100 as dropoff_latitude2,\n",
    "payment_type from nyctaxi_sample\n",
    "tablesample (5 percent) repeatable (98052)\n",
    "\"\n",
    "\n",
    "ptypeColInfo <- list(\n",
    "  payment_type = list(\n",
    "    type = \"factor\",\n",
    "    levels = c(\"CSH\", \"CRD\", \"DIS\", \"NOC\", \"UNK\"),\n",
    "    newLevels= c(\"CSH\", \"CRD\", \"DIS\", \"NOC\", \"UNK\")\n",
    "  )\n",
    ")\n",
    "\n",
    "inDataSource <- RxSqlServerData(sqlQuery = sampleDataQuery, connectionString = connStr, colInfo = ptypeColInfo,\n",
    "                                colClasses = c(pickup_longitude = \"numeric\", pickup_latitude = \"numeric\", \n",
    "                                               dropoff_longitude = \"numeric\", dropoff_latitude = \"numeric\"),\n",
    "                                rowsPerRead=500)\n"
   ]
  },
  {
   "cell_type": "markdown",
   "metadata": {},
   "source": [
    "## Understand the data\n",
    "\n",
    "These functions give you basic information about your data source, such as its size and the names of columns in the set:\n",
    "\n",
    "- `rxGetInfo`\n",
    "- `rxGetVarInfo` (same as `rxGetInfo` with `getVarInfo = TRUE`)\n",
    "- `rxGetVarNames`\n",
    "\n",
    "The `rxGetInfo` function offers information on the data location, size, number of columns, and other related information.\n",
    "    \n",
    "## Numerical Data Summaries\n",
    "\n",
    "We now move to quantitative summaries of the data. The `rxSummary` command provides output on the number of observations contained in a data set and for a particular column, the function provides output on the following:\n",
    "\n",
    " - Name\n",
    " - Mean value\n",
    " - Standard Deviation\n",
    " - Minimum and Maximum value\n",
    " - Number of valid observations\n",
    " - Number of missing observations\n",
    "\n",
    "The `rxSummary` function takes a formula as its first argument, and the name of the data set as the second.\n",
    "\n",
    "In addition, column subsets and transformations may also be computed as a sub-call to the function using the transforms (and so forth) commands.\n",
    "\n",
    "If compute context is SQL server, it is executed closer to the data. \n"
   ]
  },
  {
   "cell_type": "code",
   "execution_count": null,
   "metadata": {
    "collapsed": false
   },
   "outputs": [],
   "source": [
    "################################\n",
    "#        Data exploration      #\n",
    "################################\n",
    "# Summarize the Sampled Data\n",
    "rxGetVarInfo(data = inDataSource)\n",
    "rxSummary(~fare_amount:F(passenger_count,1,6), data = inDataSource)"
   ]
  },
  {
   "cell_type": "code",
   "execution_count": null,
   "metadata": {
    "collapsed": false
   },
   "outputs": [],
   "source": [
    "# Understand the relationship between tip amount, passenger count, and trip distance in the sample data\n",
    "cube1 <- rxCube(tip_amount~F(passenger_count,1,6):F(trip_distance,0, 25), data = inDataSource)\n",
    "cubePlot <- rxResultsDF(cube1)\n",
    "cubePlot"
   ]
  },
  {
   "cell_type": "code",
   "execution_count": null,
   "metadata": {
    "collapsed": false
   },
   "outputs": [],
   "source": [
    "################################\n",
    "#       Data Visualization     #\n",
    "################################\n",
    "# Plot fare amount histogram on the SQL Server, and ship the plot to R client to display\n",
    "rxHistogram(~tip_amount | payment_type, data = inDataSource, title = \"Tip Amount Histogram\")\n",
    "rxHistogram(~fare_amount, data = inDataSource, title = \"Fare Amount Histogram\")"
   ]
  },
  {
   "cell_type": "markdown",
   "metadata": {},
   "source": [
    "## Feature engineering"
   ]
  },
  {
   "cell_type": "markdown",
   "metadata": {},
   "source": [
    "### Feature engineering using functions defined in open source R"
   ]
  },
  {
   "cell_type": "code",
   "execution_count": null,
   "metadata": {
    "collapsed": false
   },
   "outputs": [],
   "source": [
    "# Define a function in open source R to calculate the direct distance between pickup and dropoff as a new feature \n",
    "# Use Haversine Formula: https://en.wikipedia.org/wiki/Haversine_formula\n",
    "env <- new.env()\n",
    "\n",
    "env$ComputeDist <- function(pickup_long, pickup_lat, dropoff_long, dropoff_lat){\n",
    "  R <- 6371/1.609344 #radius in mile\n",
    "  delta_lat <- dropoff_lat - pickup_lat\n",
    "  delta_long <- dropoff_long - pickup_long\n",
    "  degrees_to_radians = pi/180.0\n",
    "  a1 <- sin(delta_lat/2*degrees_to_radians)\n",
    "  a2 <- as.numeric(a1)^2\n",
    "  a3 <- cos(pickup_lat*degrees_to_radians)\n",
    "  a4 <- cos(dropoff_lat*degrees_to_radians)\n",
    "  a5 <- sin(delta_long/2*degrees_to_radians)\n",
    "  a6 <- as.numeric(a5)^2\n",
    "  a <- a2+a3*a4*a6\n",
    "  c <- 2*atan2(sqrt(a),sqrt(1-a))\n",
    "  d <- R*c\n",
    "  return (d)\n",
    "}\n",
    "\n",
    "featuretable <- paste0(username , \"_features\")\n",
    "#Define the featureDataSource to be used to store the features, specify types of some variables as numeric\n",
    "featureDataSource <- RxSqlServerData(table = featuretable, \n",
    "                                    colClasses = c(pickup_longitude = \"numeric\", pickup_latitude = \"numeric\", \n",
    "                                                   dropoff_longitude = \"numeric\", dropoff_latitude = \"numeric\",\n",
    "                                                   passenger_count  = \"numeric\", trip_distance  = \"numeric\",\n",
    "                                                   trip_time_in_secs  = \"numeric\", direct_distance  = \"numeric\"),\n",
    "                                    connectionString = connStr)\n",
    "\n",
    "# Create feature (direct distance) by calling rxDataStep() function, which calls the env$ComputeDist function to process records\n",
    "# And output it along with other variables as features to the featureDataSource\n",
    "# This will be the feature set for training machine learning models\n",
    "start.time <- proc.time()\n",
    "rxDataStep(inData = inDataSource, outFile = featureDataSource,  overwrite = TRUE, \n",
    "           varsToKeep=c(\"tipped\", \"fare_amount\", \"passenger_count\",\"trip_time_in_secs\", \n",
    "                        \"trip_distance\", \"pickup_datetime\", \"dropoff_datetime\", \"pickup_longitude\",\n",
    "                        \"pickup_latitude\",\"dropoff_longitude\", \"dropoff_latitude\"),\n",
    "           transforms = list(direct_distance=ComputeDist(pickup_longitude, pickup_latitude, dropoff_longitude, \n",
    "                                                         dropoff_latitude)),\n",
    "           transformEnvir = env, rowsPerRead=10000, reportProgress = 3)\n",
    "used.time <- proc.time() - start.time\n",
    "print(paste(\"It takes CPU Time=\", round(used.time[1]+used.time[2],2), \n",
    "            \" seconds, Elapsed Time=\", round(used.time[3],2), \" seconds to generate features using R functions.\", sep=\"\"))"
   ]
  },
  {
   "cell_type": "markdown",
   "metadata": {},
   "source": [
    "### Feature engineering by calling a stored procedure in SQL Server"
   ]
  },
  {
   "cell_type": "code",
   "execution_count": null,
   "metadata": {
    "collapsed": false
   },
   "outputs": [],
   "source": [
    "# Do feature engineering through a SQL Query\n",
    "\n",
    "ptypeColInfo <- list(\n",
    "  payment_type = list(\n",
    "    type = \"factor\",\n",
    "    levels = c(\"CSH\", \"CRD\", \"DIS\", \"NOC\", \"UNK\"),\n",
    "    newLevels= c(\"CSH\", \"CRD\", \"DIS\", \"NOC\", \"UNK\")\n",
    "  )\n",
    ")\n",
    "# Alternatively, use a user defined function in SQL to create features\n",
    "# Sometimes, feature engineering in SQL might be faster than R\n",
    "# You need to choose the most efficient way based on real situation\n",
    "# Here, featureEngineeringQuery is just a reference to the result from a SQL query. \n",
    "featureEngineeringQuery = \"SELECT tipped, fare_amount, passenger_count,trip_time_in_secs,trip_distance, \n",
    "pickup_datetime, dropoff_datetime, \n",
    "dbo.fnCalculateDistance(pickup_latitude, pickup_longitude,  dropoff_latitude, dropoff_longitude) as direct_distance,\n",
    "pickup_latitude, pickup_longitude,  dropoff_latitude, dropoff_longitude, payment_type\n",
    "FROM nyctaxi_sample\n",
    "tablesample (70 percent) repeatable (98052)\n",
    "\"\n",
    "featureDataSource <- RxSqlServerData(sqlQuery = featureEngineeringQuery, colInfo = ptypeColInfo,\n",
    "                                    colClasses = c(pickup_longitude = \"numeric\", pickup_latitude = \"numeric\", \n",
    "                                                   dropoff_longitude = \"numeric\", dropoff_latitude = \"numeric\",\n",
    "                                                   passenger_count  = \"numeric\", trip_distance  = \"numeric\",\n",
    "                                                   trip_time_in_secs  = \"numeric\", direct_distance  = \"numeric\", fare_amount=\"numeric\"),\n",
    "                                    connectionString = connStr)\n",
    "\n",
    "# summarize the feature table after the feature set is created\n",
    "rxGetVarInfo(data = featureDataSource)"
   ]
  },
  {
   "cell_type": "markdown",
   "metadata": {},
   "source": [
    "## Train logistic regression models to predict tipped or not (binary classification)"
   ]
  },
  {
   "cell_type": "code",
   "execution_count": null,
   "metadata": {
    "collapsed": false
   },
   "outputs": [],
   "source": [
    "################################\n",
    "#        Training models       #\n",
    "################################\n",
    "# build classification model to predict tipped or not\n",
    "system.time(logitObj <- rxLogit(tipped ~  passenger_count + trip_distance + trip_time_in_secs + direct_distance, data = featureDataSource))\n",
    "summary(logitObj)"
   ]
  },
  {
   "cell_type": "markdown",
   "metadata": {},
   "source": [
    "## Make predictions using the trained logistic regression model"
   ]
  },
  {
   "cell_type": "code",
   "execution_count": null,
   "metadata": {
    "collapsed": false
   },
   "outputs": [],
   "source": [
    "# predict and write the prediction results back to SQL Server table\n",
    "outputtable <- paste0(username,\"_scoreoutput\")\n",
    "scoredOutput <- RxSqlServerData(\n",
    "  connectionString = connStr,\n",
    "  table = outputtable\n",
    ")\n",
    "\n",
    "rxPredict(modelObject = logitObj, data = featureDataSource, outData = scoredOutput, \n",
    "          predVarNames = \"Score\", type = \"response\", writeModelVars = TRUE, overwrite = TRUE)"
   ]
  },
  {
   "cell_type": "markdown",
   "metadata": {},
   "source": [
    "## Evaluate the model"
   ]
  },
  {
   "cell_type": "code",
   "execution_count": null,
   "metadata": {
    "collapsed": false
   },
   "outputs": [],
   "source": [
    "# plot ROC curve from local compute context\n",
    "rxSetComputeContext('local') #change compute context to local, meaning that the plotting is done on local machine\n",
    "scoreDF <- rxImport(scoredOutput) # Import data from SQL Server to a data frame on local machine. \n",
    "rxRocCurve(\"tipped\", \"Score\", scoreDF) #plot the ROC curve\n",
    "rxSetComputeContext(cc) # Switch the compute context to be in database"
   ]
  },
  {
   "cell_type": "markdown",
   "metadata": {},
   "source": [
    "## Persist (operationalize) the model as a record in the database"
   ]
  },
  {
   "cell_type": "code",
   "execution_count": null,
   "metadata": {
    "collapsed": false
   },
   "outputs": [],
   "source": [
    "################################\n",
    "#   Model operationalization   #\n",
    "################################\n",
    "# First, serialize a model and put it into a database table\n",
    "modelbin <- serialize(logitObj, NULL)\n",
    "modelbinstr <- paste(modelbin, collapse=\"\")\n",
    "\n",
    "library(RODBC)\n",
    "conn <- odbcDriverConnect(connStr)\n",
    "\n",
    "# Persist model by calling a stored procedure from SQL\n",
    "q <- paste(\"EXEC PersistModel @m='\", modelbinstr,\"', @modeler='\", user_name, \"'\", sep=\"\")\n",
    "sqlQuery(conn, q)"
   ]
  },
  {
   "cell_type": "markdown",
   "metadata": {},
   "source": [
    "## Consume the model persisted in database through stored procedure execution"
   ]
  },
  {
   "cell_type": "markdown",
   "metadata": {},
   "source": [
    "### Request-Response mode"
   ]
  },
  {
   "cell_type": "code",
   "execution_count": null,
   "metadata": {
    "collapsed": false
   },
   "outputs": [],
   "source": [
    "# Consume Model through Stored Proc Execution\n",
    "# There are two stored Procs - One for predicting on single observation and another for predicting a batch of observations\n",
    "\n",
    "# Single Observation prediction\n",
    "q <- paste(\"EXEC PredictTipSingleMode @passenger_count=1, @trip_distance=2.5, @trip_time_in_secs=631, \n",
    "     @pickup_latitude=40.763958,@pickup_longitude=-73.973373, @dropoff_latitude=40.782139,@dropoff_longitude=-73.977303,\n",
    "     @modeler='\", user_name, \"'\", sep=\"\")\n",
    "sqlQuery(conn, q)\n",
    "\n",
    "q <- paste(\"EXEC PredictTipSingleMode @passenger_count=9, @trip_distance=100, @trip_time_in_secs=5214, \n",
    "@pickup_latitude=40.75984, @pickup_longitude=-73.9754, @dropoff_latitude=41.0496, @dropoff_longitude=-73.54097,\n",
    "@modeler='\", user_name, \"'\", sep=\"\")\n",
    "sqlQuery(conn, q)"
   ]
  },
  {
   "cell_type": "markdown",
   "metadata": {},
   "source": [
    "### Batch mode"
   ]
  },
  {
   "cell_type": "code",
   "execution_count": null,
   "metadata": {
    "collapsed": false
   },
   "outputs": [],
   "source": [
    "# Batch mode prediction. Score all data that were not part of the training dataset and select top 10 to preedict\n",
    "input <- \"N'select top 3 a.passenger_count as passenger_count, \n",
    "\ta.trip_time_in_secs as trip_time_in_secs,\n",
    "\ta.trip_distance as trip_distance,\n",
    "\ta.dropoff_datetime as dropoff_datetime,  \n",
    "\tdbo.fnCalculateDistance(pickup_latitude, pickup_longitude, dropoff_latitude,dropoff_longitude) as direct_distance , fare_amount, payment_type\n",
    "from\n",
    "(\n",
    "\tselect medallion, hack_license, pickup_datetime, passenger_count,trip_time_in_secs,trip_distance,  \n",
    "\t\tdropoff_datetime, pickup_latitude, pickup_longitude, dropoff_latitude, dropoff_longitude, fare_amount, payment_type\n",
    "\tfrom nyctaxi_sample\n",
    ")a\n",
    "left outer join\n",
    "(\n",
    "select medallion, hack_license, pickup_datetime\n",
    "from nyctaxi_sample\n",
    "tablesample (70 percent) repeatable (98052)\n",
    ")b\n",
    "on a.medallion=b.medallion and a.hack_license=b.hack_license and a.pickup_datetime=b.pickup_datetime\n",
    "where b.medallion is null\n",
    "'\"\n",
    "q <- paste(\"EXEC PredictTipBatchMode @inquery = \", input, \", @modeler='\", user_name, \"'\",sep=\"\")\n",
    "sqlQuery (conn, q)"
   ]
  },
  {
   "cell_type": "code",
   "execution_count": null,
   "metadata": {
    "collapsed": true
   },
   "outputs": [],
   "source": []
  }
 ],
 "metadata": {
  "anaconda-cloud": {},
  "kernelspec": {
   "display_name": "R",
   "language": "R",
   "name": "ir"
  },
  "language_info": {
   "codemirror_mode": "r",
   "file_extension": ".r",
   "mimetype": "text/x-r-source",
   "name": "R",
   "pygments_lexer": "r",
   "version": "3.3.3"
  }
 },
 "nbformat": 4,
 "nbformat_minor": 0
}
