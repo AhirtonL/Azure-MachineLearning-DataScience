{
 "cells": [
  {
   "cell_type": "markdown",
   "metadata": {},
   "source": [
    "## Create directory for each user on the Jupyter Notebook Server"
   ]
  },
  {
   "cell_type": "code",
   "execution_count": null,
   "metadata": {
    "collapsed": true
   },
   "outputs": [],
   "source": [
    "newDir <- \"<Input a directory name that has high probability to be unique (only characters, numbers, and underlines)>\""
   ]
  },
  {
   "cell_type": "markdown",
   "metadata": {},
   "source": [
    "### Create a directory for a specific user"
   ]
  },
  {
   "cell_type": "code",
   "execution_count": 4,
   "metadata": {
    "collapsed": false
   },
   "outputs": [],
   "source": [
    "if (file.exists(newDir)){\n",
    "    print(paste(\"Directory \", newDir, \" already exists. Please choose another name.\", sep=\"\"))\n",
    "} else{\n",
    "    system(paste(\"mkdir \", newDir, sep=\"\"))\n",
    "}"
   ]
  },
  {
   "cell_type": "markdown",
   "metadata": {},
   "source": [
    "## Copy Jupyter notebook to the directory of the user"
   ]
  },
  {
   "cell_type": "code",
   "execution_count": 12,
   "metadata": {
    "collapsed": false
   },
   "outputs": [],
   "source": [
    "fileName <- 'SQL_R_Services_End_to_End_Tutorial.ipynb'\n",
    "system(paste(\"cp C:\\\\dsvm\\\\notebooks\\\\SQL_R_Services_End_to_End_Tutorial.ipynb \", newDir,\"\\\\.\", sep=\"\"))"
   ]
  }
 ],
 "metadata": {
  "anaconda-cloud": {},
  "kernelspec": {
   "display_name": "R",
   "language": "R",
   "name": "ir"
  },
  "language_info": {
   "codemirror_mode": "r",
   "file_extension": ".r",
   "mimetype": "text/x-r-source",
   "name": "R",
   "pygments_lexer": "r",
   "version": "3.2.2"
  }
 },
 "nbformat": 4,
 "nbformat_minor": 1
}
