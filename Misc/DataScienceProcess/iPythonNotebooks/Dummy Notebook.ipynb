{
 "metadata": {
  "name": "",
  "signature": "sha256:5d5faea1e1a1d8f66d0599127eefe3e7380762bfb2e1e92dceccbd13bc95a50e"
 },
 "nbformat": 3,
 "nbformat_minor": 0,
 "worksheets": [
  {
   "cells": [
    {
     "cell_type": "raw",
     "metadata": {},
     "source": [
      "This is just a dummy iPython Notebook"
     ]
    },
    {
     "cell_type": "code",
     "collapsed": false,
     "input": [
      "print(\"Hello, world!\")"
     ],
     "language": "python",
     "metadata": {},
     "outputs": []
    }
   ],
   "metadata": {}
  }
 ]
}