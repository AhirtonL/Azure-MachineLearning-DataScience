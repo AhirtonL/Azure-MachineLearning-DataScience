{
 "metadata": {
  "name": "",
  "signature": "sha256:20e0e45c11ee7863f419b23c85a23d5d72b33d2fb6c81bb0a23e14c6691ed02f"
 },
 "nbformat": 3,
 "nbformat_minor": 0,
 "worksheets": [
  {
   "cells": [
    {
     "cell_type": "raw",
     "metadata": {},
     "source": [
      "This is just a dummy IPython Notebook"
     ]
    },
    {
     "cell_type": "code",
     "collapsed": false,
     "input": [
      "print(\"Hello, world!\")"
     ],
     "language": "python",
     "metadata": {},
     "outputs": []
    }
   ],
   "metadata": {}
  }
 ]
}