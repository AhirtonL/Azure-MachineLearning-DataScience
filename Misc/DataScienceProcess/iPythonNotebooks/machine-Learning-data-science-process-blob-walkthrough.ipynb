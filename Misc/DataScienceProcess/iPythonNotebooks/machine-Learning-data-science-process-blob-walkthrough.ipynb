{
 "metadata": {
  "name": "",
  "signature": "sha256:cb1059b829e3671a07ccaeb15ba01b8461a2e242eee7f2a02e17fa3648cd0fdf"
 },
 "nbformat": 3,
 "nbformat_minor": 0,
 "worksheets": [
  {
   "cells": [
    {
     "cell_type": "heading",
     "level": 1,
     "metadata": {},
     "source": [
      "License Information"
     ]
    },
    {
     "cell_type": "raw",
     "metadata": {},
     "source": [
      "This sample IPython Notebook is shared by Microsoft under the MIT license. Please check the LICENSE.txt file in the directory where this  IPython Notebook is stored for license information and additional details."
     ]
    },
    {
     "cell_type": "heading",
     "level": 1,
     "metadata": {},
     "source": [
      "NYC Data wrangling using IPython Notebook and Azure Blob Storage"
     ]
    },
    {
     "cell_type": "markdown",
     "metadata": {},
     "source": [
      "This notebook demonstrates data exploration and feature generation using Python for data stored in  Azure Blob storage. We start with reading a sample of the data into a Pandas data frame and visualizing and exploring the data. We end with a few examples of feature generation and how to re-upload the sampled data to Azure Blob Storage for use in Azure Machine Learning.\n",
      "\n",
      "This IPython Notebook uses the New York City Taxi dataset (http://www.andresmh.com/nyctaxitrips/) to demonstrate the above tasks."
     ]
    },
    {
     "cell_type": "heading",
     "level": 2,
     "metadata": {},
     "source": [
      "Step 1. Load the Data"
     ]
    },
    {
     "cell_type": "markdown",
     "metadata": {},
     "source": [
      "We start with loading a sample of the data in a Pandas data frame and performing some explorations on the sample. "
     ]
    },
    {
     "cell_type": "heading",
     "level": 4,
     "metadata": {},
     "source": [
      "Import required packages in this experiment"
     ]
    },
    {
     "cell_type": "code",
     "collapsed": false,
     "input": [
      "import pandas as pd\n",
      "from pandas import Series, DataFrame\n",
      "import numpy as np\n",
      "import matplotlib.pyplot as plt\n",
      "from time import time\n",
      "import pyodbc\n",
      "import os\n",
      "from azure.storage import BlobService\n",
      "import tables\n",
      "import time\n",
      "import zipfile\n",
      "import random"
     ],
     "language": "python",
     "metadata": {},
     "outputs": [],
     "prompt_number": 1
    },
    {
     "cell_type": "heading",
     "level": 4,
     "metadata": {},
     "source": [
      "Set plot inline"
     ]
    },
    {
     "cell_type": "code",
     "collapsed": false,
     "input": [
      "%matplotlib inline"
     ],
     "language": "python",
     "metadata": {},
     "outputs": [],
     "prompt_number": 2
    },
    {
     "cell_type": "heading",
     "level": 4,
     "metadata": {},
     "source": [
      "Initialize Credentials for the Storage Account"
     ]
    },
    {
     "cell_type": "code",
     "collapsed": false,
     "input": [
      "#FOR EXTERNAL SHARE\n",
      "CONTAINERNAME =<container name>\n",
      "STORAGEACCOUNTNAME = <storage account name>\n",
      "STORAGEACCOUNTKEY = <storage account key>\n",
      "BLOBNAME = <blob name>\n",
      "LOCALDIRECTORY = os.getcwd()\n",
      "ZIPPEDLOCALFILE = os.path.join(LOCALDIRECTORY, BLOBNAME)\n",
      "LOCALFILE =  os.path.join(LOCALDIRECTORY, LOCALFILENAME)"
     ],
     "language": "python",
     "metadata": {},
     "outputs": []
    },
    {
     "cell_type": "heading",
     "level": 4,
     "metadata": {},
     "source": [
      "Read in data from Blob "
     ]
    },
    {
     "cell_type": "code",
     "collapsed": false,
     "input": [
      "#download from blob\n",
      "t1=time.time()\n",
      "blob_service=BlobService(account_name=STORAGEACCOUNTNAME,account_key=STORAGEACCOUNTKEY)\n",
      "blob_service.get_blob_to_path(CONTAINERNAME,BLOBNAME,ZIPPEDLOCALFILE)\n",
      "t2=time.time()\n",
      "print((\"It takes %s seconds to download \"+BLOBNAME) % (t2 - t1))\n",
      "\n",
      "\n",
      "##unzipping downloaded files if needed\n",
      "with zipfile.ZipFile(ZIPPEDLOCALFILE, \"r\") as z:\n",
      "    z.extractall(LOCALDIRECTORY)\n",
      "\n",
      "df1 = pd.read_csv(LOCALFILE, header=0)\n",
      "df1.columns=['medallion','hack_license','vendor_id','rate_code','store_and_fwd_flag','pickup_datetime','dropoff_datetime','passenger_count','trip_time_in_secs','trip_distance','pickup_longitude','pickup_latitude','dropoff_longitude','dropoff_latitude']"
     ],
     "language": "python",
     "metadata": {},
     "outputs": [],
     "prompt_number": 23
    },
    {
     "cell_type": "heading",
     "level": 2,
     "metadata": {},
     "source": [
      "Step 2. Check basic statistics of this data set"
     ]
    },
    {
     "cell_type": "heading",
     "level": 4,
     "metadata": {},
     "source": [
      "Check the number of rows and columns in the data frame"
     ]
    },
    {
     "cell_type": "code",
     "collapsed": false,
     "input": [
      "print 'the size of the data is: %d rows and  %d columns' % df1.shape"
     ],
     "language": "python",
     "metadata": {},
     "outputs": [
      {
       "output_type": "stream",
       "stream": "stdout",
       "text": [
        "the size of the data is: 14776615 rows and  14 columns\n"
       ]
      }
     ],
     "prompt_number": 24
    },
    {
     "cell_type": "heading",
     "level": 4,
     "metadata": {},
     "source": [
      "Check the first 10 rows of the data frame"
     ]
    },
    {
     "cell_type": "code",
     "collapsed": false,
     "input": [
      "df1.head(10)"
     ],
     "language": "python",
     "metadata": {},
     "outputs": [
      {
       "html": [
        "<div style=\"max-height:1000px;max-width:1500px;overflow:auto;\">\n",
        "<table border=\"1\" class=\"dataframe\">\n",
        "  <thead>\n",
        "    <tr style=\"text-align: right;\">\n",
        "      <th></th>\n",
        "      <th>medallion</th>\n",
        "      <th>hack_license</th>\n",
        "      <th>vendor_id</th>\n",
        "      <th>pickup_datetime</th>\n",
        "      <th>payment_type</th>\n",
        "      <th>fare_amount</th>\n",
        "      <th>surcharge</th>\n",
        "      <th>mta_tax</th>\n",
        "      <th>tip_amount</th>\n",
        "      <th>tolls_amount</th>\n",
        "      <th>total_amount</th>\n",
        "    </tr>\n",
        "  </thead>\n",
        "  <tbody>\n",
        "    <tr>\n",
        "      <th>0</th>\n",
        "      <td> 89D227B655E5C82AECF13C3F540D4CF4</td>\n",
        "      <td> BA96DE419E711691B9445D6A6307C170</td>\n",
        "      <td> CMT</td>\n",
        "      <td> 2013-01-01 15:11:48</td>\n",
        "      <td> CSH</td>\n",
        "      <td>  6.5</td>\n",
        "      <td> 0.0</td>\n",
        "      <td> 0.5</td>\n",
        "      <td> 0</td>\n",
        "      <td> 0.0</td>\n",
        "      <td>  7.0</td>\n",
        "    </tr>\n",
        "    <tr>\n",
        "      <th>1</th>\n",
        "      <td> 0BD7C8F5BA12B88E0B67BED28BEA73D8</td>\n",
        "      <td> 9FD8F69F0804BDB5549F40E9DA1BE472</td>\n",
        "      <td> CMT</td>\n",
        "      <td> 2013-01-06 00:18:35</td>\n",
        "      <td> CSH</td>\n",
        "      <td>  6.0</td>\n",
        "      <td> 0.5</td>\n",
        "      <td> 0.5</td>\n",
        "      <td> 0</td>\n",
        "      <td> 0.0</td>\n",
        "      <td>  7.0</td>\n",
        "    </tr>\n",
        "    <tr>\n",
        "      <th>2</th>\n",
        "      <td> 0BD7C8F5BA12B88E0B67BED28BEA73D8</td>\n",
        "      <td> 9FD8F69F0804BDB5549F40E9DA1BE472</td>\n",
        "      <td> CMT</td>\n",
        "      <td> 2013-01-05 18:49:41</td>\n",
        "      <td> CSH</td>\n",
        "      <td>  5.5</td>\n",
        "      <td> 1.0</td>\n",
        "      <td> 0.5</td>\n",
        "      <td> 0</td>\n",
        "      <td> 0.0</td>\n",
        "      <td>  7.0</td>\n",
        "    </tr>\n",
        "    <tr>\n",
        "      <th>3</th>\n",
        "      <td> DFD2202EE08F7A8DC9A57B02ACB81FE2</td>\n",
        "      <td> 51EE87E3205C985EF8431D850C786310</td>\n",
        "      <td> CMT</td>\n",
        "      <td> 2013-01-07 23:54:15</td>\n",
        "      <td> CSH</td>\n",
        "      <td>  5.0</td>\n",
        "      <td> 0.5</td>\n",
        "      <td> 0.5</td>\n",
        "      <td> 0</td>\n",
        "      <td> 0.0</td>\n",
        "      <td>  6.0</td>\n",
        "    </tr>\n",
        "    <tr>\n",
        "      <th>4</th>\n",
        "      <td> DFD2202EE08F7A8DC9A57B02ACB81FE2</td>\n",
        "      <td> 51EE87E3205C985EF8431D850C786310</td>\n",
        "      <td> CMT</td>\n",
        "      <td> 2013-01-07 23:25:03</td>\n",
        "      <td> CSH</td>\n",
        "      <td>  9.5</td>\n",
        "      <td> 0.5</td>\n",
        "      <td> 0.5</td>\n",
        "      <td> 0</td>\n",
        "      <td> 0.0</td>\n",
        "      <td> 10.5</td>\n",
        "    </tr>\n",
        "    <tr>\n",
        "      <th>5</th>\n",
        "      <td> 20D9ECB2CA0767CF7A01564DF2844A3E</td>\n",
        "      <td> 598CCE5B9C1918568DEE71F43CF26CD2</td>\n",
        "      <td> CMT</td>\n",
        "      <td> 2013-01-07 15:27:48</td>\n",
        "      <td> CSH</td>\n",
        "      <td>  9.5</td>\n",
        "      <td> 0.0</td>\n",
        "      <td> 0.5</td>\n",
        "      <td> 0</td>\n",
        "      <td> 0.0</td>\n",
        "      <td> 10.0</td>\n",
        "    </tr>\n",
        "    <tr>\n",
        "      <th>6</th>\n",
        "      <td> 496644932DF3932605C22C7926FF0FE0</td>\n",
        "      <td> 513189AD756FF14FE670D10B92FAF04C</td>\n",
        "      <td> CMT</td>\n",
        "      <td> 2013-01-08 11:01:15</td>\n",
        "      <td> CSH</td>\n",
        "      <td>  6.0</td>\n",
        "      <td> 0.0</td>\n",
        "      <td> 0.5</td>\n",
        "      <td> 0</td>\n",
        "      <td> 0.0</td>\n",
        "      <td>  6.5</td>\n",
        "    </tr>\n",
        "    <tr>\n",
        "      <th>7</th>\n",
        "      <td> 0B57B9633A2FECD3D3B1944AFC7471CF</td>\n",
        "      <td> CCD4367B417ED6634D986F573A552A62</td>\n",
        "      <td> CMT</td>\n",
        "      <td> 2013-01-07 12:39:18</td>\n",
        "      <td> CSH</td>\n",
        "      <td> 34.0</td>\n",
        "      <td> 0.0</td>\n",
        "      <td> 0.5</td>\n",
        "      <td> 0</td>\n",
        "      <td> 4.8</td>\n",
        "      <td> 39.3</td>\n",
        "    </tr>\n",
        "    <tr>\n",
        "      <th>8</th>\n",
        "      <td> 2C0E91FF20A856C891483ED63589F982</td>\n",
        "      <td> 1DA2F6543A62B8ED934771661A9D2FA0</td>\n",
        "      <td> CMT</td>\n",
        "      <td> 2013-01-07 18:15:47</td>\n",
        "      <td> CSH</td>\n",
        "      <td>  5.5</td>\n",
        "      <td> 1.0</td>\n",
        "      <td> 0.5</td>\n",
        "      <td> 0</td>\n",
        "      <td> 0.0</td>\n",
        "      <td>  7.0</td>\n",
        "    </tr>\n",
        "    <tr>\n",
        "      <th>9</th>\n",
        "      <td> 2D4B95E2FA7B2E85118EC5CA4570FA58</td>\n",
        "      <td> CD2F522EEE1FF5F5A8D8B679E23576B3</td>\n",
        "      <td> CMT</td>\n",
        "      <td> 2013-01-07 15:33:28</td>\n",
        "      <td> CSH</td>\n",
        "      <td> 13.0</td>\n",
        "      <td> 0.0</td>\n",
        "      <td> 0.5</td>\n",
        "      <td> 0</td>\n",
        "      <td> 0.0</td>\n",
        "      <td> 13.5</td>\n",
        "    </tr>\n",
        "  </tbody>\n",
        "</table>\n",
        "</div>"
       ],
       "metadata": {},
       "output_type": "pyout",
       "prompt_number": 11,
       "text": [
        "                          medallion                      hack_license  \\\n",
        "0  89D227B655E5C82AECF13C3F540D4CF4  BA96DE419E711691B9445D6A6307C170   \n",
        "1  0BD7C8F5BA12B88E0B67BED28BEA73D8  9FD8F69F0804BDB5549F40E9DA1BE472   \n",
        "2  0BD7C8F5BA12B88E0B67BED28BEA73D8  9FD8F69F0804BDB5549F40E9DA1BE472   \n",
        "3  DFD2202EE08F7A8DC9A57B02ACB81FE2  51EE87E3205C985EF8431D850C786310   \n",
        "4  DFD2202EE08F7A8DC9A57B02ACB81FE2  51EE87E3205C985EF8431D850C786310   \n",
        "5  20D9ECB2CA0767CF7A01564DF2844A3E  598CCE5B9C1918568DEE71F43CF26CD2   \n",
        "6  496644932DF3932605C22C7926FF0FE0  513189AD756FF14FE670D10B92FAF04C   \n",
        "7  0B57B9633A2FECD3D3B1944AFC7471CF  CCD4367B417ED6634D986F573A552A62   \n",
        "8  2C0E91FF20A856C891483ED63589F982  1DA2F6543A62B8ED934771661A9D2FA0   \n",
        "9  2D4B95E2FA7B2E85118EC5CA4570FA58  CD2F522EEE1FF5F5A8D8B679E23576B3   \n",
        "\n",
        "  vendor_id      pickup_datetime payment_type  fare_amount  surcharge  \\\n",
        "0       CMT  2013-01-01 15:11:48          CSH          6.5        0.0   \n",
        "1       CMT  2013-01-06 00:18:35          CSH          6.0        0.5   \n",
        "2       CMT  2013-01-05 18:49:41          CSH          5.5        1.0   \n",
        "3       CMT  2013-01-07 23:54:15          CSH          5.0        0.5   \n",
        "4       CMT  2013-01-07 23:25:03          CSH          9.5        0.5   \n",
        "5       CMT  2013-01-07 15:27:48          CSH          9.5        0.0   \n",
        "6       CMT  2013-01-08 11:01:15          CSH          6.0        0.0   \n",
        "7       CMT  2013-01-07 12:39:18          CSH         34.0        0.0   \n",
        "8       CMT  2013-01-07 18:15:47          CSH          5.5        1.0   \n",
        "9       CMT  2013-01-07 15:33:28          CSH         13.0        0.0   \n",
        "\n",
        "   mta_tax  tip_amount  tolls_amount  total_amount  \n",
        "0      0.5           0           0.0           7.0  \n",
        "1      0.5           0           0.0           7.0  \n",
        "2      0.5           0           0.0           7.0  \n",
        "3      0.5           0           0.0           6.0  \n",
        "4      0.5           0           0.0          10.5  \n",
        "5      0.5           0           0.0          10.0  \n",
        "6      0.5           0           0.0           6.5  \n",
        "7      0.5           0           4.8          39.3  \n",
        "8      0.5           0           0.0           7.0  \n",
        "9      0.5           0           0.0          13.5  "
       ]
      }
     ],
     "prompt_number": 11
    },
    {
     "cell_type": "heading",
     "level": 4,
     "metadata": {},
     "source": [
      "Check the last 10 rows of the data set"
     ]
    },
    {
     "cell_type": "code",
     "collapsed": false,
     "input": [
      "df1.tail(10)"
     ],
     "language": "python",
     "metadata": {},
     "outputs": [
      {
       "html": [
        "<div style=\"max-height:1000px;max-width:1500px;overflow:auto;\">\n",
        "<table border=\"1\" class=\"dataframe\">\n",
        "  <thead>\n",
        "    <tr style=\"text-align: right;\">\n",
        "      <th></th>\n",
        "      <th>medallion</th>\n",
        "      <th>hack_license</th>\n",
        "      <th>vendor_id</th>\n",
        "      <th>pickup_datetime</th>\n",
        "      <th>payment_type</th>\n",
        "      <th>fare_amount</th>\n",
        "      <th>surcharge</th>\n",
        "      <th>mta_tax</th>\n",
        "      <th>tip_amount</th>\n",
        "      <th>tolls_amount</th>\n",
        "      <th>total_amount</th>\n",
        "    </tr>\n",
        "  </thead>\n",
        "  <tbody>\n",
        "    <tr>\n",
        "      <th>14776605</th>\n",
        "      <td> A8262FA0AFCB6C7229F6888EAFBDE076</td>\n",
        "      <td> 1BDF89260FEF1AE6FDDE839A0278D31D</td>\n",
        "      <td> CMT</td>\n",
        "      <td> 2013-01-07 07:29:06</td>\n",
        "      <td> CSH</td>\n",
        "      <td> 52.0</td>\n",
        "      <td> 0.0</td>\n",
        "      <td> 0.5</td>\n",
        "      <td> 0</td>\n",
        "      <td> 4.8</td>\n",
        "      <td> 57.3</td>\n",
        "    </tr>\n",
        "    <tr>\n",
        "      <th>14776606</th>\n",
        "      <td> A8262FA0AFCB6C7229F6888EAFBDE076</td>\n",
        "      <td> 1BDF89260FEF1AE6FDDE839A0278D31D</td>\n",
        "      <td> CMT</td>\n",
        "      <td> 2013-01-07 14:30:23</td>\n",
        "      <td> CSH</td>\n",
        "      <td>  9.5</td>\n",
        "      <td> 0.0</td>\n",
        "      <td> 0.5</td>\n",
        "      <td> 0</td>\n",
        "      <td> 0.0</td>\n",
        "      <td> 10.0</td>\n",
        "    </tr>\n",
        "    <tr>\n",
        "      <th>14776607</th>\n",
        "      <td> F33EF464441839C6F0DABAABBC93B45D</td>\n",
        "      <td> 313F66DD09C308EADA3B307F6B8CF7A9</td>\n",
        "      <td> CMT</td>\n",
        "      <td> 2013-01-10 10:56:47</td>\n",
        "      <td> CSH</td>\n",
        "      <td>  7.5</td>\n",
        "      <td> 0.0</td>\n",
        "      <td> 0.5</td>\n",
        "      <td> 0</td>\n",
        "      <td> 0.0</td>\n",
        "      <td>  8.0</td>\n",
        "    </tr>\n",
        "    <tr>\n",
        "      <th>14776608</th>\n",
        "      <td> 56CE01E7DBE0E6449FA1758F082D8884</td>\n",
        "      <td> 4C6FE2FCFED26629D515D291EC1516A0</td>\n",
        "      <td> CMT</td>\n",
        "      <td> 2013-01-10 14:50:01</td>\n",
        "      <td> CSH</td>\n",
        "      <td> 20.0</td>\n",
        "      <td> 0.0</td>\n",
        "      <td> 0.5</td>\n",
        "      <td> 0</td>\n",
        "      <td> 0.0</td>\n",
        "      <td> 20.5</td>\n",
        "    </tr>\n",
        "    <tr>\n",
        "      <th>14776609</th>\n",
        "      <td> 32201027CDC62D654DC3AD9747A07C96</td>\n",
        "      <td> B8DDB9F8143017E22104050B26C2A65D</td>\n",
        "      <td> CMT</td>\n",
        "      <td> 2013-01-05 08:58:18</td>\n",
        "      <td> CSH</td>\n",
        "      <td> 10.5</td>\n",
        "      <td> 0.0</td>\n",
        "      <td> 0.5</td>\n",
        "      <td> 0</td>\n",
        "      <td> 0.0</td>\n",
        "      <td> 11.0</td>\n",
        "    </tr>\n",
        "    <tr>\n",
        "      <th>14776610</th>\n",
        "      <td> B33E71CD9E8FE1BE3B70FEB6E807DD15</td>\n",
        "      <td> BAF57796E45D921BB23217E17A372FF6</td>\n",
        "      <td> CMT</td>\n",
        "      <td> 2013-01-06 04:58:23</td>\n",
        "      <td> CSH</td>\n",
        "      <td> 13.0</td>\n",
        "      <td> 0.5</td>\n",
        "      <td> 0.5</td>\n",
        "      <td> 0</td>\n",
        "      <td> 0.0</td>\n",
        "      <td> 14.0</td>\n",
        "    </tr>\n",
        "    <tr>\n",
        "      <th>14776611</th>\n",
        "      <td> ED160B76D5349C8AC1ECF22CD4B8D538</td>\n",
        "      <td> 3B93F6DA5DEBDE9560993FA624C4FF76</td>\n",
        "      <td> CMT</td>\n",
        "      <td> 2013-01-08 14:42:04</td>\n",
        "      <td> CSH</td>\n",
        "      <td>  7.5</td>\n",
        "      <td> 0.0</td>\n",
        "      <td> 0.5</td>\n",
        "      <td> 0</td>\n",
        "      <td> 0.0</td>\n",
        "      <td>  8.0</td>\n",
        "    </tr>\n",
        "    <tr>\n",
        "      <th>14776612</th>\n",
        "      <td> D83F9AC0E33F6F19869C243BE6AB6FE5</td>\n",
        "      <td> 85A55B6772275374EF90AC9457DC1F83</td>\n",
        "      <td> CMT</td>\n",
        "      <td> 2013-01-10 13:29:23</td>\n",
        "      <td> CSH</td>\n",
        "      <td>  6.0</td>\n",
        "      <td> 0.0</td>\n",
        "      <td> 0.5</td>\n",
        "      <td> 0</td>\n",
        "      <td> 0.0</td>\n",
        "      <td>  6.5</td>\n",
        "    </tr>\n",
        "    <tr>\n",
        "      <th>14776613</th>\n",
        "      <td> 04E59442A7DDBCE515E33CD355D866E7</td>\n",
        "      <td> 7913172189931A1A1632562B10AB53C4</td>\n",
        "      <td> CMT</td>\n",
        "      <td> 2013-01-06 16:30:15</td>\n",
        "      <td> CSH</td>\n",
        "      <td>  9.5</td>\n",
        "      <td> 0.0</td>\n",
        "      <td> 0.5</td>\n",
        "      <td> 0</td>\n",
        "      <td> 0.0</td>\n",
        "      <td> 10.0</td>\n",
        "    </tr>\n",
        "    <tr>\n",
        "      <th>14776614</th>\n",
        "      <td> D30BED60331C79E3F7ACD05B325ED42F</td>\n",
        "      <td> B5E1D2461A5BCC8819188DACEC17CD69</td>\n",
        "      <td> CMT</td>\n",
        "      <td> 2013-01-05 20:38:46</td>\n",
        "      <td> CSH</td>\n",
        "      <td>  5.0</td>\n",
        "      <td> 0.5</td>\n",
        "      <td> 0.5</td>\n",
        "      <td> 0</td>\n",
        "      <td> 0.0</td>\n",
        "      <td>  6.0</td>\n",
        "    </tr>\n",
        "  </tbody>\n",
        "</table>\n",
        "</div>"
       ],
       "metadata": {},
       "output_type": "pyout",
       "prompt_number": 12,
       "text": [
        "                                 medallion                      hack_license  \\\n",
        "14776605  A8262FA0AFCB6C7229F6888EAFBDE076  1BDF89260FEF1AE6FDDE839A0278D31D   \n",
        "14776606  A8262FA0AFCB6C7229F6888EAFBDE076  1BDF89260FEF1AE6FDDE839A0278D31D   \n",
        "14776607  F33EF464441839C6F0DABAABBC93B45D  313F66DD09C308EADA3B307F6B8CF7A9   \n",
        "14776608  56CE01E7DBE0E6449FA1758F082D8884  4C6FE2FCFED26629D515D291EC1516A0   \n",
        "14776609  32201027CDC62D654DC3AD9747A07C96  B8DDB9F8143017E22104050B26C2A65D   \n",
        "14776610  B33E71CD9E8FE1BE3B70FEB6E807DD15  BAF57796E45D921BB23217E17A372FF6   \n",
        "14776611  ED160B76D5349C8AC1ECF22CD4B8D538  3B93F6DA5DEBDE9560993FA624C4FF76   \n",
        "14776612  D83F9AC0E33F6F19869C243BE6AB6FE5  85A55B6772275374EF90AC9457DC1F83   \n",
        "14776613  04E59442A7DDBCE515E33CD355D866E7  7913172189931A1A1632562B10AB53C4   \n",
        "14776614  D30BED60331C79E3F7ACD05B325ED42F  B5E1D2461A5BCC8819188DACEC17CD69   \n",
        "\n",
        "         vendor_id      pickup_datetime payment_type  fare_amount  surcharge  \\\n",
        "14776605       CMT  2013-01-07 07:29:06          CSH         52.0        0.0   \n",
        "14776606       CMT  2013-01-07 14:30:23          CSH          9.5        0.0   \n",
        "14776607       CMT  2013-01-10 10:56:47          CSH          7.5        0.0   \n",
        "14776608       CMT  2013-01-10 14:50:01          CSH         20.0        0.0   \n",
        "14776609       CMT  2013-01-05 08:58:18          CSH         10.5        0.0   \n",
        "14776610       CMT  2013-01-06 04:58:23          CSH         13.0        0.5   \n",
        "14776611       CMT  2013-01-08 14:42:04          CSH          7.5        0.0   \n",
        "14776612       CMT  2013-01-10 13:29:23          CSH          6.0        0.0   \n",
        "14776613       CMT  2013-01-06 16:30:15          CSH          9.5        0.0   \n",
        "14776614       CMT  2013-01-05 20:38:46          CSH          5.0        0.5   \n",
        "\n",
        "          mta_tax  tip_amount  tolls_amount  total_amount  \n",
        "14776605      0.5           0           4.8          57.3  \n",
        "14776606      0.5           0           0.0          10.0  \n",
        "14776607      0.5           0           0.0           8.0  \n",
        "14776608      0.5           0           0.0          20.5  \n",
        "14776609      0.5           0           0.0          11.0  \n",
        "14776610      0.5           0           0.0          14.0  \n",
        "14776611      0.5           0           0.0           8.0  \n",
        "14776612      0.5           0           0.0           6.5  \n",
        "14776613      0.5           0           0.0          10.0  \n",
        "14776614      0.5           0           0.0           6.0  "
       ]
      }
     ],
     "prompt_number": 12
    },
    {
     "cell_type": "heading",
     "level": 4,
     "metadata": {},
     "source": [
      "Check columns vendor_id, passenger_count, trip_time_in_secs, trip_distance in a specific row"
     ]
    },
    {
     "cell_type": "code",
     "collapsed": false,
     "input": [
      "df1.ix[101, ['vendor_id', 'passenger_count', 'trip_time_in_secs', 'trip_distance']]"
     ],
     "language": "python",
     "metadata": {},
     "outputs": [
      {
       "metadata": {},
       "output_type": "pyout",
       "prompt_number": 13,
       "text": [
        "vendor_id            CMT\n",
        "passenger_count      NaN\n",
        "trip_time_in_secs    NaN\n",
        "trip_distance        NaN\n",
        "Name: 101, dtype: object"
       ]
      }
     ],
     "prompt_number": 13
    },
    {
     "cell_type": "heading",
     "level": 4,
     "metadata": {},
     "source": [
      "Show column names and types of the data frame"
     ]
    },
    {
     "cell_type": "code",
     "collapsed": false,
     "input": [
      "for col in df1.columns:\n",
      "    print df1[col].name, ':\\t', df1[col].dtype"
     ],
     "language": "python",
     "metadata": {},
     "outputs": [
      {
       "output_type": "stream",
       "stream": "stdout",
       "text": [
        "medallion :\tobject\n",
        "hack_license :\tobject\n",
        "vendor_id :\tobject\n",
        "pickup_datetime :\tobject\n",
        "payment_type :\tobject\n",
        "fare_amount :\tfloat64\n",
        "surcharge :\tfloat64\n",
        "mta_tax :\tfloat64\n",
        "tip_amount :\tfloat64\n",
        "tolls_amount :\tfloat64\n",
        "total_amount :\tfloat64\n"
       ]
      }
     ],
     "prompt_number": 14
    },
    {
     "cell_type": "heading",
     "level": 4,
     "metadata": {},
     "source": [
      "Check the number of valid values (non-NA) for each column"
     ]
    },
    {
     "cell_type": "code",
     "collapsed": false,
     "input": [
      "cnts = df1.count()\n",
      "print cnts"
     ],
     "language": "python",
     "metadata": {},
     "outputs": [
      {
       "output_type": "stream",
       "stream": "stdout",
       "text": [
        "medallion          14776615\n",
        "hack_license       14776615\n",
        "vendor_id          14776615\n",
        "pickup_datetime    14776615\n",
        "payment_type       14776615\n",
        "fare_amount        14776615\n",
        "surcharge          14776615\n",
        "mta_tax            14776615\n",
        "tip_amount         14776615\n",
        "tolls_amount       14776615\n",
        "total_amount       14776615\n",
        "dtype: int64\n"
       ]
      }
     ],
     "prompt_number": 15
    },
    {
     "cell_type": "heading",
     "level": 4,
     "metadata": {},
     "source": [
      "Check the number of missing values for each column"
     ]
    },
    {
     "cell_type": "code",
     "collapsed": false,
     "input": [
      "miss_num = df1.shape[0] - df1.count()\n",
      "print miss_num"
     ],
     "language": "python",
     "metadata": {},
     "outputs": [
      {
       "output_type": "stream",
       "stream": "stdout",
       "text": [
        "medallion          0\n",
        "hack_license       0\n",
        "vendor_id          0\n",
        "pickup_datetime    0\n",
        "payment_type       0\n",
        "fare_amount        0\n",
        "surcharge          0\n",
        "mta_tax            0\n",
        "tip_amount         0\n",
        "tolls_amount       0\n",
        "total_amount       0\n",
        "dtype: int64\n"
       ]
      }
     ],
     "prompt_number": 16
    },
    {
     "cell_type": "heading",
     "level": 4,
     "metadata": {},
     "source": [
      "Check the basic statistics for all columns"
     ]
    },
    {
     "cell_type": "code",
     "collapsed": false,
     "input": [
      "df1.describe()"
     ],
     "language": "python",
     "metadata": {},
     "outputs": [
      {
       "html": [
        "<div style=\"max-height:1000px;max-width:1500px;overflow:auto;\">\n",
        "<table border=\"1\" class=\"dataframe\">\n",
        "  <thead>\n",
        "    <tr style=\"text-align: right;\">\n",
        "      <th></th>\n",
        "      <th>fare_amount</th>\n",
        "      <th>surcharge</th>\n",
        "      <th>mta_tax</th>\n",
        "      <th>tip_amount</th>\n",
        "      <th>tolls_amount</th>\n",
        "      <th>total_amount</th>\n",
        "    </tr>\n",
        "  </thead>\n",
        "  <tbody>\n",
        "    <tr>\n",
        "      <th>count</th>\n",
        "      <td> 14776615.000000</td>\n",
        "      <td> 14776615.000000</td>\n",
        "      <td> 14776615.000000</td>\n",
        "      <td> 14776615.000000</td>\n",
        "      <td> 14776615.000000</td>\n",
        "      <td> 14776615.000000</td>\n",
        "    </tr>\n",
        "    <tr>\n",
        "      <th>mean</th>\n",
        "      <td>       11.664722</td>\n",
        "      <td>        0.320490</td>\n",
        "      <td>        0.498397</td>\n",
        "      <td>        1.267509</td>\n",
        "      <td>        0.201867</td>\n",
        "      <td>       13.952985</td>\n",
        "    </tr>\n",
        "    <tr>\n",
        "      <th>std</th>\n",
        "      <td>        9.639219</td>\n",
        "      <td>        0.367574</td>\n",
        "      <td>        0.028265</td>\n",
        "      <td>        2.046084</td>\n",
        "      <td>        1.035481</td>\n",
        "      <td>       11.464686</td>\n",
        "    </tr>\n",
        "    <tr>\n",
        "      <th>min</th>\n",
        "      <td>        2.500000</td>\n",
        "      <td>        0.000000</td>\n",
        "      <td>        0.000000</td>\n",
        "      <td>        0.000000</td>\n",
        "      <td>        0.000000</td>\n",
        "      <td>        2.500000</td>\n",
        "    </tr>\n",
        "    <tr>\n",
        "      <th>25%</th>\n",
        "      <td>        6.500000</td>\n",
        "      <td>        0.000000</td>\n",
        "      <td>        0.500000</td>\n",
        "      <td>        0.000000</td>\n",
        "      <td>        0.000000</td>\n",
        "      <td>        7.700000</td>\n",
        "    </tr>\n",
        "    <tr>\n",
        "      <th>50%</th>\n",
        "      <td>        9.000000</td>\n",
        "      <td>        0.000000</td>\n",
        "      <td>        0.500000</td>\n",
        "      <td>        0.800000</td>\n",
        "      <td>        0.000000</td>\n",
        "      <td>       10.500000</td>\n",
        "    </tr>\n",
        "    <tr>\n",
        "      <th>75%</th>\n",
        "      <td>       13.000000</td>\n",
        "      <td>        0.500000</td>\n",
        "      <td>        0.500000</td>\n",
        "      <td>        2.000000</td>\n",
        "      <td>        0.000000</td>\n",
        "      <td>       15.500000</td>\n",
        "    </tr>\n",
        "    <tr>\n",
        "      <th>max</th>\n",
        "      <td>      500.000000</td>\n",
        "      <td>       12.500000</td>\n",
        "      <td>        0.500000</td>\n",
        "      <td>      200.000000</td>\n",
        "      <td>       20.000000</td>\n",
        "      <td>      650.000000</td>\n",
        "    </tr>\n",
        "  </tbody>\n",
        "</table>\n",
        "</div>"
       ],
       "metadata": {},
       "output_type": "pyout",
       "prompt_number": 17,
       "text": [
        "           fare_amount        surcharge          mta_tax       tip_amount  \\\n",
        "count  14776615.000000  14776615.000000  14776615.000000  14776615.000000   \n",
        "mean         11.664722         0.320490         0.498397         1.267509   \n",
        "std           9.639219         0.367574         0.028265         2.046084   \n",
        "min           2.500000         0.000000         0.000000         0.000000   \n",
        "25%           6.500000         0.000000         0.500000         0.000000   \n",
        "50%           9.000000         0.000000         0.500000         0.800000   \n",
        "75%          13.000000         0.500000         0.500000         2.000000   \n",
        "max         500.000000        12.500000         0.500000       200.000000   \n",
        "\n",
        "          tolls_amount     total_amount  \n",
        "count  14776615.000000  14776615.000000  \n",
        "mean          0.201867        13.952985  \n",
        "std           1.035481        11.464686  \n",
        "min           0.000000         2.500000  \n",
        "25%           0.000000         7.700000  \n",
        "50%           0.000000        10.500000  \n",
        "75%           0.000000        15.500000  \n",
        "max          20.000000       650.000000  "
       ]
      }
     ],
     "prompt_number": 17
    },
    {
     "cell_type": "heading",
     "level": 2,
     "metadata": {},
     "source": [
      "Step 3. Missing Value Handling"
     ]
    },
    {
     "cell_type": "heading",
     "level": 4,
     "metadata": {},
     "source": [
      "Missing value handling for store_and_fwd_flag"
     ]
    },
    {
     "cell_type": "markdown",
     "metadata": {},
     "source": [
      "First check all possible values of store_and_fwd_flg"
     ]
    },
    {
     "cell_type": "code",
     "collapsed": false,
     "input": [
      "df1['store_and_fwd_flag'].value_counts()"
     ],
     "language": "python",
     "metadata": {},
     "outputs": [
      {
       "metadata": {},
       "output_type": "pyout",
       "prompt_number": 32,
       "text": [
        "N    7282095\n",
        "Y     165129\n",
        "dtype: int64"
       ]
      }
     ],
     "prompt_number": 32
    },
    {
     "cell_type": "heading",
     "level": 4,
     "metadata": {},
     "source": [
      "Drop rows containing missing values"
     ]
    },
    {
     "cell_type": "code",
     "collapsed": false,
     "input": [
      "df1_noNA = df1.dropna()\n",
      "df1_noNA.shape"
     ],
     "language": "python",
     "metadata": {},
     "outputs": [
      {
       "metadata": {},
       "output_type": "pyout",
       "prompt_number": 33,
       "text": [
        "(7447224, 14)"
       ]
      }
     ],
     "prompt_number": 33
    },
    {
     "cell_type": "heading",
     "level": 4,
     "metadata": {},
     "source": [
      "Set all missing values of store_and_fwd_flg as 'M'"
     ]
    },
    {
     "cell_type": "code",
     "collapsed": false,
     "input": [
      "df2 = df1.fillna({'store_and_fwd_flag':'M'})\n",
      "df2.ix[990:1000,]"
     ],
     "language": "python",
     "metadata": {},
     "outputs": [
      {
       "html": [
        "<div style=\"max-height:1000px;max-width:1500px;overflow:auto;\">\n",
        "<table border=\"1\" class=\"dataframe\">\n",
        "  <thead>\n",
        "    <tr style=\"text-align: right;\">\n",
        "      <th></th>\n",
        "      <th>medallion</th>\n",
        "      <th>hack_license</th>\n",
        "      <th>vendor_id</th>\n",
        "      <th>rate_code</th>\n",
        "      <th>store_and_fwd_flag</th>\n",
        "      <th>pickup_datetime</th>\n",
        "      <th>dropoff_datetime</th>\n",
        "      <th>passenger_count</th>\n",
        "      <th>trip_time_in_secs</th>\n",
        "      <th>trip_distance</th>\n",
        "      <th>pickup_longitude</th>\n",
        "      <th>pickup_latitude</th>\n",
        "      <th>dropoff_longitude</th>\n",
        "      <th>dropoff_latitude</th>\n",
        "    </tr>\n",
        "  </thead>\n",
        "  <tbody>\n",
        "    <tr>\n",
        "      <th>990 </th>\n",
        "      <td> FD25EF27BB88761BACC3734407B49F6F</td>\n",
        "      <td> 9EB2BC74C5FCEA440AFE5A51AAE94AAD</td>\n",
        "      <td> VTS</td>\n",
        "      <td> 1</td>\n",
        "      <td> M</td>\n",
        "      <td> 2013-01-13 11:03:00</td>\n",
        "      <td> 2013-01-13 11:25:00</td>\n",
        "      <td> 1</td>\n",
        "      <td> 1320</td>\n",
        "      <td>  2.95</td>\n",
        "      <td>-73.988037</td>\n",
        "      <td> 40.775211</td>\n",
        "      <td>-73.979874</td>\n",
        "      <td> 40.746582</td>\n",
        "    </tr>\n",
        "    <tr>\n",
        "      <th>991 </th>\n",
        "      <td> 468244D1361B8A3EB8D206CC394BC9E9</td>\n",
        "      <td> BD40831DBE6C587175967E26DC9219EF</td>\n",
        "      <td> VTS</td>\n",
        "      <td> 1</td>\n",
        "      <td> M</td>\n",
        "      <td> 2013-01-13 02:34:00</td>\n",
        "      <td> 2013-01-13 02:42:00</td>\n",
        "      <td> 6</td>\n",
        "      <td>  480</td>\n",
        "      <td>  1.91</td>\n",
        "      <td>-74.003227</td>\n",
        "      <td> 40.741535</td>\n",
        "      <td>-74.005363</td>\n",
        "      <td> 40.719902</td>\n",
        "    </tr>\n",
        "    <tr>\n",
        "      <th>992 </th>\n",
        "      <td> 20823BB1C233831AB24B6C24F119D6F4</td>\n",
        "      <td> 405414BB52CF2F09E4065CD54121C9FF</td>\n",
        "      <td> VTS</td>\n",
        "      <td> 1</td>\n",
        "      <td> M</td>\n",
        "      <td> 2013-01-13 02:38:00</td>\n",
        "      <td> 2013-01-13 02:46:00</td>\n",
        "      <td> 6</td>\n",
        "      <td>  480</td>\n",
        "      <td>  1.82</td>\n",
        "      <td>-73.982330</td>\n",
        "      <td> 40.769741</td>\n",
        "      <td>-73.965714</td>\n",
        "      <td> 40.759373</td>\n",
        "    </tr>\n",
        "    <tr>\n",
        "      <th>993 </th>\n",
        "      <td> 3634D8684835145CC61403DD2E32E383</td>\n",
        "      <td> 29560295BAAB8D9F91043D5E1E774D8C</td>\n",
        "      <td> VTS</td>\n",
        "      <td> 1</td>\n",
        "      <td> M</td>\n",
        "      <td> 2013-01-13 02:42:00</td>\n",
        "      <td> 2013-01-13 02:46:00</td>\n",
        "      <td> 1</td>\n",
        "      <td>  240</td>\n",
        "      <td>  0.91</td>\n",
        "      <td>-73.986862</td>\n",
        "      <td> 40.733109</td>\n",
        "      <td>-73.979446</td>\n",
        "      <td> 40.743923</td>\n",
        "    </tr>\n",
        "    <tr>\n",
        "      <th>994 </th>\n",
        "      <td> 3716EADE180B4801FED314DFB491B6E9</td>\n",
        "      <td> F0179A1F54F50438979BA221FF4FD564</td>\n",
        "      <td> VTS</td>\n",
        "      <td> 1</td>\n",
        "      <td> M</td>\n",
        "      <td> 2013-01-13 02:11:00</td>\n",
        "      <td> 2013-01-13 02:43:00</td>\n",
        "      <td> 1</td>\n",
        "      <td> 1920</td>\n",
        "      <td> 16.70</td>\n",
        "      <td>-73.982552</td>\n",
        "      <td> 40.746078</td>\n",
        "      <td>-73.858109</td>\n",
        "      <td> 40.826244</td>\n",
        "    </tr>\n",
        "    <tr>\n",
        "      <th>995 </th>\n",
        "      <td> 44778A58ED157840CEADB2F0F5EBF907</td>\n",
        "      <td> 81DA9E02488578440E7C4FC3B1BD8717</td>\n",
        "      <td> VTS</td>\n",
        "      <td> 1</td>\n",
        "      <td> M</td>\n",
        "      <td> 2013-01-13 02:19:00</td>\n",
        "      <td> 2013-01-13 02:48:00</td>\n",
        "      <td> 1</td>\n",
        "      <td> 1740</td>\n",
        "      <td>  7.48</td>\n",
        "      <td>-73.987152</td>\n",
        "      <td> 40.733223</td>\n",
        "      <td>-73.913353</td>\n",
        "      <td> 40.686737</td>\n",
        "    </tr>\n",
        "    <tr>\n",
        "      <th>996 </th>\n",
        "      <td> 1B1702630D5909904528C2B149427B5D</td>\n",
        "      <td> 5DDC69BDBDE681EDD75F7F3D4027C6C2</td>\n",
        "      <td> VTS</td>\n",
        "      <td> 1</td>\n",
        "      <td> M</td>\n",
        "      <td> 2013-01-13 02:58:00</td>\n",
        "      <td> 2013-01-13 03:02:00</td>\n",
        "      <td> 6</td>\n",
        "      <td>  240</td>\n",
        "      <td>  1.30</td>\n",
        "      <td>-73.955345</td>\n",
        "      <td> 40.782833</td>\n",
        "      <td>-73.968872</td>\n",
        "      <td> 40.785873</td>\n",
        "    </tr>\n",
        "    <tr>\n",
        "      <th>997 </th>\n",
        "      <td> BD0012DAC5CD31DF6B35EB2AC8F832FC</td>\n",
        "      <td> 4728266EE079E80638A8963202F8A308</td>\n",
        "      <td> VTS</td>\n",
        "      <td> 1</td>\n",
        "      <td> M</td>\n",
        "      <td> 2013-01-13 02:14:00</td>\n",
        "      <td> 2013-01-13 02:42:00</td>\n",
        "      <td> 2</td>\n",
        "      <td> 1680</td>\n",
        "      <td> 11.30</td>\n",
        "      <td>-73.967392</td>\n",
        "      <td> 40.762497</td>\n",
        "      <td>-73.963104</td>\n",
        "      <td> 40.644524</td>\n",
        "    </tr>\n",
        "    <tr>\n",
        "      <th>998 </th>\n",
        "      <td> 7D893939AB6FFDADFD48B2C7C6514DD8</td>\n",
        "      <td> FB9E42ED1CD384EC3DCB67FDB36B8EC2</td>\n",
        "      <td> VTS</td>\n",
        "      <td> 1</td>\n",
        "      <td> M</td>\n",
        "      <td> 2013-01-13 09:36:00</td>\n",
        "      <td> 2013-01-13 09:45:00</td>\n",
        "      <td> 1</td>\n",
        "      <td>  540</td>\n",
        "      <td>  2.33</td>\n",
        "      <td>-73.965302</td>\n",
        "      <td> 40.790756</td>\n",
        "      <td>-73.956253</td>\n",
        "      <td> 40.768177</td>\n",
        "    </tr>\n",
        "    <tr>\n",
        "      <th>999 </th>\n",
        "      <td> 716EC9ABAB6F82141027DA09A290005D</td>\n",
        "      <td> B3C8637D063490373A020C31254278DF</td>\n",
        "      <td> VTS</td>\n",
        "      <td> 1</td>\n",
        "      <td> M</td>\n",
        "      <td> 2013-01-13 02:29:00</td>\n",
        "      <td> 2013-01-13 02:44:00</td>\n",
        "      <td> 1</td>\n",
        "      <td>  900</td>\n",
        "      <td>  4.86</td>\n",
        "      <td>-73.987480</td>\n",
        "      <td> 40.732922</td>\n",
        "      <td>-73.955498</td>\n",
        "      <td> 40.745941</td>\n",
        "    </tr>\n",
        "    <tr>\n",
        "      <th>1000</th>\n",
        "      <td> 22A40B4080862C7FAC42341CB260B99A</td>\n",
        "      <td> 3C80E82705CE0E0A15D12ACD455C0B58</td>\n",
        "      <td> VTS</td>\n",
        "      <td> 1</td>\n",
        "      <td> M</td>\n",
        "      <td> 2013-01-13 02:29:00</td>\n",
        "      <td> 2013-01-13 02:47:00</td>\n",
        "      <td> 1</td>\n",
        "      <td> 1080</td>\n",
        "      <td>  4.44</td>\n",
        "      <td>-74.005974</td>\n",
        "      <td> 40.742847</td>\n",
        "      <td>-73.954582</td>\n",
        "      <td> 40.765717</td>\n",
        "    </tr>\n",
        "  </tbody>\n",
        "</table>\n",
        "</div>"
       ],
       "metadata": {},
       "output_type": "pyout",
       "prompt_number": 34,
       "text": [
        "                             medallion                      hack_license  \\\n",
        "990   FD25EF27BB88761BACC3734407B49F6F  9EB2BC74C5FCEA440AFE5A51AAE94AAD   \n",
        "991   468244D1361B8A3EB8D206CC394BC9E9  BD40831DBE6C587175967E26DC9219EF   \n",
        "992   20823BB1C233831AB24B6C24F119D6F4  405414BB52CF2F09E4065CD54121C9FF   \n",
        "993   3634D8684835145CC61403DD2E32E383  29560295BAAB8D9F91043D5E1E774D8C   \n",
        "994   3716EADE180B4801FED314DFB491B6E9  F0179A1F54F50438979BA221FF4FD564   \n",
        "995   44778A58ED157840CEADB2F0F5EBF907  81DA9E02488578440E7C4FC3B1BD8717   \n",
        "996   1B1702630D5909904528C2B149427B5D  5DDC69BDBDE681EDD75F7F3D4027C6C2   \n",
        "997   BD0012DAC5CD31DF6B35EB2AC8F832FC  4728266EE079E80638A8963202F8A308   \n",
        "998   7D893939AB6FFDADFD48B2C7C6514DD8  FB9E42ED1CD384EC3DCB67FDB36B8EC2   \n",
        "999   716EC9ABAB6F82141027DA09A290005D  B3C8637D063490373A020C31254278DF   \n",
        "1000  22A40B4080862C7FAC42341CB260B99A  3C80E82705CE0E0A15D12ACD455C0B58   \n",
        "\n",
        "     vendor_id  rate_code store_and_fwd_flag      pickup_datetime  \\\n",
        "990        VTS          1                  M  2013-01-13 11:03:00   \n",
        "991        VTS          1                  M  2013-01-13 02:34:00   \n",
        "992        VTS          1                  M  2013-01-13 02:38:00   \n",
        "993        VTS          1                  M  2013-01-13 02:42:00   \n",
        "994        VTS          1                  M  2013-01-13 02:11:00   \n",
        "995        VTS          1                  M  2013-01-13 02:19:00   \n",
        "996        VTS          1                  M  2013-01-13 02:58:00   \n",
        "997        VTS          1                  M  2013-01-13 02:14:00   \n",
        "998        VTS          1                  M  2013-01-13 09:36:00   \n",
        "999        VTS          1                  M  2013-01-13 02:29:00   \n",
        "1000       VTS          1                  M  2013-01-13 02:29:00   \n",
        "\n",
        "         dropoff_datetime  passenger_count  trip_time_in_secs  trip_distance  \\\n",
        "990   2013-01-13 11:25:00                1               1320           2.95   \n",
        "991   2013-01-13 02:42:00                6                480           1.91   \n",
        "992   2013-01-13 02:46:00                6                480           1.82   \n",
        "993   2013-01-13 02:46:00                1                240           0.91   \n",
        "994   2013-01-13 02:43:00                1               1920          16.70   \n",
        "995   2013-01-13 02:48:00                1               1740           7.48   \n",
        "996   2013-01-13 03:02:00                6                240           1.30   \n",
        "997   2013-01-13 02:42:00                2               1680          11.30   \n",
        "998   2013-01-13 09:45:00                1                540           2.33   \n",
        "999   2013-01-13 02:44:00                1                900           4.86   \n",
        "1000  2013-01-13 02:47:00                1               1080           4.44   \n",
        "\n",
        "      pickup_longitude  pickup_latitude  dropoff_longitude  dropoff_latitude  \n",
        "990         -73.988037        40.775211         -73.979874         40.746582  \n",
        "991         -74.003227        40.741535         -74.005363         40.719902  \n",
        "992         -73.982330        40.769741         -73.965714         40.759373  \n",
        "993         -73.986862        40.733109         -73.979446         40.743923  \n",
        "994         -73.982552        40.746078         -73.858109         40.826244  \n",
        "995         -73.987152        40.733223         -73.913353         40.686737  \n",
        "996         -73.955345        40.782833         -73.968872         40.785873  \n",
        "997         -73.967392        40.762497         -73.963104         40.644524  \n",
        "998         -73.965302        40.790756         -73.956253         40.768177  \n",
        "999         -73.987480        40.732922         -73.955498         40.745941  \n",
        "1000        -74.005974        40.742847         -73.954582         40.765717  "
       ]
      }
     ],
     "prompt_number": 34
    },
    {
     "cell_type": "markdown",
     "metadata": {},
     "source": [
      "Set all missing values of store_and_fwd_flg as the mode of this column "
     ]
    },
    {
     "cell_type": "code",
     "collapsed": false,
     "input": [
      "df3 = df1.fillna({'store_and_fwd_flag':df1['store_and_fwd_flag'].mode()[0]})\n",
      "df2.ix[990:1000,]"
     ],
     "language": "python",
     "metadata": {},
     "outputs": [
      {
       "html": [
        "<div style=\"max-height:1000px;max-width:1500px;overflow:auto;\">\n",
        "<table border=\"1\" class=\"dataframe\">\n",
        "  <thead>\n",
        "    <tr style=\"text-align: right;\">\n",
        "      <th></th>\n",
        "      <th>medallion</th>\n",
        "      <th>hack_license</th>\n",
        "      <th>vendor_id</th>\n",
        "      <th>rate_code</th>\n",
        "      <th>store_and_fwd_flag</th>\n",
        "      <th>pickup_datetime</th>\n",
        "      <th>dropoff_datetime</th>\n",
        "      <th>passenger_count</th>\n",
        "      <th>trip_time_in_secs</th>\n",
        "      <th>trip_distance</th>\n",
        "      <th>pickup_longitude</th>\n",
        "      <th>pickup_latitude</th>\n",
        "      <th>dropoff_longitude</th>\n",
        "      <th>dropoff_latitude</th>\n",
        "    </tr>\n",
        "  </thead>\n",
        "  <tbody>\n",
        "    <tr>\n",
        "      <th>990 </th>\n",
        "      <td> FD25EF27BB88761BACC3734407B49F6F</td>\n",
        "      <td> 9EB2BC74C5FCEA440AFE5A51AAE94AAD</td>\n",
        "      <td> VTS</td>\n",
        "      <td> 1</td>\n",
        "      <td> M</td>\n",
        "      <td> 2013-01-13 11:03:00</td>\n",
        "      <td> 2013-01-13 11:25:00</td>\n",
        "      <td> 1</td>\n",
        "      <td> 1320</td>\n",
        "      <td>  2.95</td>\n",
        "      <td>-73.988037</td>\n",
        "      <td> 40.775211</td>\n",
        "      <td>-73.979874</td>\n",
        "      <td> 40.746582</td>\n",
        "    </tr>\n",
        "    <tr>\n",
        "      <th>991 </th>\n",
        "      <td> 468244D1361B8A3EB8D206CC394BC9E9</td>\n",
        "      <td> BD40831DBE6C587175967E26DC9219EF</td>\n",
        "      <td> VTS</td>\n",
        "      <td> 1</td>\n",
        "      <td> M</td>\n",
        "      <td> 2013-01-13 02:34:00</td>\n",
        "      <td> 2013-01-13 02:42:00</td>\n",
        "      <td> 6</td>\n",
        "      <td>  480</td>\n",
        "      <td>  1.91</td>\n",
        "      <td>-74.003227</td>\n",
        "      <td> 40.741535</td>\n",
        "      <td>-74.005363</td>\n",
        "      <td> 40.719902</td>\n",
        "    </tr>\n",
        "    <tr>\n",
        "      <th>992 </th>\n",
        "      <td> 20823BB1C233831AB24B6C24F119D6F4</td>\n",
        "      <td> 405414BB52CF2F09E4065CD54121C9FF</td>\n",
        "      <td> VTS</td>\n",
        "      <td> 1</td>\n",
        "      <td> M</td>\n",
        "      <td> 2013-01-13 02:38:00</td>\n",
        "      <td> 2013-01-13 02:46:00</td>\n",
        "      <td> 6</td>\n",
        "      <td>  480</td>\n",
        "      <td>  1.82</td>\n",
        "      <td>-73.982330</td>\n",
        "      <td> 40.769741</td>\n",
        "      <td>-73.965714</td>\n",
        "      <td> 40.759373</td>\n",
        "    </tr>\n",
        "    <tr>\n",
        "      <th>993 </th>\n",
        "      <td> 3634D8684835145CC61403DD2E32E383</td>\n",
        "      <td> 29560295BAAB8D9F91043D5E1E774D8C</td>\n",
        "      <td> VTS</td>\n",
        "      <td> 1</td>\n",
        "      <td> M</td>\n",
        "      <td> 2013-01-13 02:42:00</td>\n",
        "      <td> 2013-01-13 02:46:00</td>\n",
        "      <td> 1</td>\n",
        "      <td>  240</td>\n",
        "      <td>  0.91</td>\n",
        "      <td>-73.986862</td>\n",
        "      <td> 40.733109</td>\n",
        "      <td>-73.979446</td>\n",
        "      <td> 40.743923</td>\n",
        "    </tr>\n",
        "    <tr>\n",
        "      <th>994 </th>\n",
        "      <td> 3716EADE180B4801FED314DFB491B6E9</td>\n",
        "      <td> F0179A1F54F50438979BA221FF4FD564</td>\n",
        "      <td> VTS</td>\n",
        "      <td> 1</td>\n",
        "      <td> M</td>\n",
        "      <td> 2013-01-13 02:11:00</td>\n",
        "      <td> 2013-01-13 02:43:00</td>\n",
        "      <td> 1</td>\n",
        "      <td> 1920</td>\n",
        "      <td> 16.70</td>\n",
        "      <td>-73.982552</td>\n",
        "      <td> 40.746078</td>\n",
        "      <td>-73.858109</td>\n",
        "      <td> 40.826244</td>\n",
        "    </tr>\n",
        "    <tr>\n",
        "      <th>995 </th>\n",
        "      <td> 44778A58ED157840CEADB2F0F5EBF907</td>\n",
        "      <td> 81DA9E02488578440E7C4FC3B1BD8717</td>\n",
        "      <td> VTS</td>\n",
        "      <td> 1</td>\n",
        "      <td> M</td>\n",
        "      <td> 2013-01-13 02:19:00</td>\n",
        "      <td> 2013-01-13 02:48:00</td>\n",
        "      <td> 1</td>\n",
        "      <td> 1740</td>\n",
        "      <td>  7.48</td>\n",
        "      <td>-73.987152</td>\n",
        "      <td> 40.733223</td>\n",
        "      <td>-73.913353</td>\n",
        "      <td> 40.686737</td>\n",
        "    </tr>\n",
        "    <tr>\n",
        "      <th>996 </th>\n",
        "      <td> 1B1702630D5909904528C2B149427B5D</td>\n",
        "      <td> 5DDC69BDBDE681EDD75F7F3D4027C6C2</td>\n",
        "      <td> VTS</td>\n",
        "      <td> 1</td>\n",
        "      <td> M</td>\n",
        "      <td> 2013-01-13 02:58:00</td>\n",
        "      <td> 2013-01-13 03:02:00</td>\n",
        "      <td> 6</td>\n",
        "      <td>  240</td>\n",
        "      <td>  1.30</td>\n",
        "      <td>-73.955345</td>\n",
        "      <td> 40.782833</td>\n",
        "      <td>-73.968872</td>\n",
        "      <td> 40.785873</td>\n",
        "    </tr>\n",
        "    <tr>\n",
        "      <th>997 </th>\n",
        "      <td> BD0012DAC5CD31DF6B35EB2AC8F832FC</td>\n",
        "      <td> 4728266EE079E80638A8963202F8A308</td>\n",
        "      <td> VTS</td>\n",
        "      <td> 1</td>\n",
        "      <td> M</td>\n",
        "      <td> 2013-01-13 02:14:00</td>\n",
        "      <td> 2013-01-13 02:42:00</td>\n",
        "      <td> 2</td>\n",
        "      <td> 1680</td>\n",
        "      <td> 11.30</td>\n",
        "      <td>-73.967392</td>\n",
        "      <td> 40.762497</td>\n",
        "      <td>-73.963104</td>\n",
        "      <td> 40.644524</td>\n",
        "    </tr>\n",
        "    <tr>\n",
        "      <th>998 </th>\n",
        "      <td> 7D893939AB6FFDADFD48B2C7C6514DD8</td>\n",
        "      <td> FB9E42ED1CD384EC3DCB67FDB36B8EC2</td>\n",
        "      <td> VTS</td>\n",
        "      <td> 1</td>\n",
        "      <td> M</td>\n",
        "      <td> 2013-01-13 09:36:00</td>\n",
        "      <td> 2013-01-13 09:45:00</td>\n",
        "      <td> 1</td>\n",
        "      <td>  540</td>\n",
        "      <td>  2.33</td>\n",
        "      <td>-73.965302</td>\n",
        "      <td> 40.790756</td>\n",
        "      <td>-73.956253</td>\n",
        "      <td> 40.768177</td>\n",
        "    </tr>\n",
        "    <tr>\n",
        "      <th>999 </th>\n",
        "      <td> 716EC9ABAB6F82141027DA09A290005D</td>\n",
        "      <td> B3C8637D063490373A020C31254278DF</td>\n",
        "      <td> VTS</td>\n",
        "      <td> 1</td>\n",
        "      <td> M</td>\n",
        "      <td> 2013-01-13 02:29:00</td>\n",
        "      <td> 2013-01-13 02:44:00</td>\n",
        "      <td> 1</td>\n",
        "      <td>  900</td>\n",
        "      <td>  4.86</td>\n",
        "      <td>-73.987480</td>\n",
        "      <td> 40.732922</td>\n",
        "      <td>-73.955498</td>\n",
        "      <td> 40.745941</td>\n",
        "    </tr>\n",
        "    <tr>\n",
        "      <th>1000</th>\n",
        "      <td> 22A40B4080862C7FAC42341CB260B99A</td>\n",
        "      <td> 3C80E82705CE0E0A15D12ACD455C0B58</td>\n",
        "      <td> VTS</td>\n",
        "      <td> 1</td>\n",
        "      <td> M</td>\n",
        "      <td> 2013-01-13 02:29:00</td>\n",
        "      <td> 2013-01-13 02:47:00</td>\n",
        "      <td> 1</td>\n",
        "      <td> 1080</td>\n",
        "      <td>  4.44</td>\n",
        "      <td>-74.005974</td>\n",
        "      <td> 40.742847</td>\n",
        "      <td>-73.954582</td>\n",
        "      <td> 40.765717</td>\n",
        "    </tr>\n",
        "  </tbody>\n",
        "</table>\n",
        "</div>"
       ],
       "metadata": {},
       "output_type": "pyout",
       "prompt_number": 35,
       "text": [
        "                             medallion                      hack_license  \\\n",
        "990   FD25EF27BB88761BACC3734407B49F6F  9EB2BC74C5FCEA440AFE5A51AAE94AAD   \n",
        "991   468244D1361B8A3EB8D206CC394BC9E9  BD40831DBE6C587175967E26DC9219EF   \n",
        "992   20823BB1C233831AB24B6C24F119D6F4  405414BB52CF2F09E4065CD54121C9FF   \n",
        "993   3634D8684835145CC61403DD2E32E383  29560295BAAB8D9F91043D5E1E774D8C   \n",
        "994   3716EADE180B4801FED314DFB491B6E9  F0179A1F54F50438979BA221FF4FD564   \n",
        "995   44778A58ED157840CEADB2F0F5EBF907  81DA9E02488578440E7C4FC3B1BD8717   \n",
        "996   1B1702630D5909904528C2B149427B5D  5DDC69BDBDE681EDD75F7F3D4027C6C2   \n",
        "997   BD0012DAC5CD31DF6B35EB2AC8F832FC  4728266EE079E80638A8963202F8A308   \n",
        "998   7D893939AB6FFDADFD48B2C7C6514DD8  FB9E42ED1CD384EC3DCB67FDB36B8EC2   \n",
        "999   716EC9ABAB6F82141027DA09A290005D  B3C8637D063490373A020C31254278DF   \n",
        "1000  22A40B4080862C7FAC42341CB260B99A  3C80E82705CE0E0A15D12ACD455C0B58   \n",
        "\n",
        "     vendor_id  rate_code store_and_fwd_flag      pickup_datetime  \\\n",
        "990        VTS          1                  M  2013-01-13 11:03:00   \n",
        "991        VTS          1                  M  2013-01-13 02:34:00   \n",
        "992        VTS          1                  M  2013-01-13 02:38:00   \n",
        "993        VTS          1                  M  2013-01-13 02:42:00   \n",
        "994        VTS          1                  M  2013-01-13 02:11:00   \n",
        "995        VTS          1                  M  2013-01-13 02:19:00   \n",
        "996        VTS          1                  M  2013-01-13 02:58:00   \n",
        "997        VTS          1                  M  2013-01-13 02:14:00   \n",
        "998        VTS          1                  M  2013-01-13 09:36:00   \n",
        "999        VTS          1                  M  2013-01-13 02:29:00   \n",
        "1000       VTS          1                  M  2013-01-13 02:29:00   \n",
        "\n",
        "         dropoff_datetime  passenger_count  trip_time_in_secs  trip_distance  \\\n",
        "990   2013-01-13 11:25:00                1               1320           2.95   \n",
        "991   2013-01-13 02:42:00                6                480           1.91   \n",
        "992   2013-01-13 02:46:00                6                480           1.82   \n",
        "993   2013-01-13 02:46:00                1                240           0.91   \n",
        "994   2013-01-13 02:43:00                1               1920          16.70   \n",
        "995   2013-01-13 02:48:00                1               1740           7.48   \n",
        "996   2013-01-13 03:02:00                6                240           1.30   \n",
        "997   2013-01-13 02:42:00                2               1680          11.30   \n",
        "998   2013-01-13 09:45:00                1                540           2.33   \n",
        "999   2013-01-13 02:44:00                1                900           4.86   \n",
        "1000  2013-01-13 02:47:00                1               1080           4.44   \n",
        "\n",
        "      pickup_longitude  pickup_latitude  dropoff_longitude  dropoff_latitude  \n",
        "990         -73.988037        40.775211         -73.979874         40.746582  \n",
        "991         -74.003227        40.741535         -74.005363         40.719902  \n",
        "992         -73.982330        40.769741         -73.965714         40.759373  \n",
        "993         -73.986862        40.733109         -73.979446         40.743923  \n",
        "994         -73.982552        40.746078         -73.858109         40.826244  \n",
        "995         -73.987152        40.733223         -73.913353         40.686737  \n",
        "996         -73.955345        40.782833         -73.968872         40.785873  \n",
        "997         -73.967392        40.762497         -73.963104         40.644524  \n",
        "998         -73.965302        40.790756         -73.956253         40.768177  \n",
        "999         -73.987480        40.732922         -73.955498         40.745941  \n",
        "1000        -74.005974        40.742847         -73.954582         40.765717  "
       ]
      }
     ],
     "prompt_number": 35
    },
    {
     "cell_type": "markdown",
     "metadata": {},
     "source": [
      "Use \"M\" as the filling value and use inplace option to change df1 directly"
     ]
    },
    {
     "cell_type": "code",
     "collapsed": false,
     "input": [
      "df1.fillna({'store_and_fwd_flag':'M'}, inplace=True)"
     ],
     "language": "python",
     "metadata": {},
     "outputs": [
      {
       "html": [
        "<div style=\"max-height:1000px;max-width:1500px;overflow:auto;\">\n",
        "<table border=\"1\" class=\"dataframe\">\n",
        "  <thead>\n",
        "    <tr style=\"text-align: right;\">\n",
        "      <th></th>\n",
        "      <th>medallion</th>\n",
        "      <th>hack_license</th>\n",
        "      <th>vendor_id</th>\n",
        "      <th>rate_code</th>\n",
        "      <th>store_and_fwd_flag</th>\n",
        "      <th>pickup_datetime</th>\n",
        "      <th>dropoff_datetime</th>\n",
        "      <th>passenger_count</th>\n",
        "      <th>trip_time_in_secs</th>\n",
        "      <th>trip_distance</th>\n",
        "      <th>pickup_longitude</th>\n",
        "      <th>pickup_latitude</th>\n",
        "      <th>dropoff_longitude</th>\n",
        "      <th>dropoff_latitude</th>\n",
        "    </tr>\n",
        "  </thead>\n",
        "  <tbody>\n",
        "    <tr>\n",
        "      <th>0       </th>\n",
        "      <td> DFD2202EE08F7A8DC9A57B02ACB81FE2</td>\n",
        "      <td> 51EE87E3205C985EF8431D850C786310</td>\n",
        "      <td> CMT</td>\n",
        "      <td> 1</td>\n",
        "      <td> N</td>\n",
        "      <td> 2013-01-07 23:25:03</td>\n",
        "      <td> 2013-01-07 23:34:24</td>\n",
        "      <td> 1</td>\n",
        "      <td>  560</td>\n",
        "      <td>  2.10</td>\n",
        "      <td>-73.976250</td>\n",
        "      <td> 40.748528</td>\n",
        "      <td>-74.002586</td>\n",
        "      <td> 40.747868</td>\n",
        "    </tr>\n",
        "    <tr>\n",
        "      <th>1       </th>\n",
        "      <td> 0B57B9633A2FECD3D3B1944AFC7471CF</td>\n",
        "      <td> CCD4367B417ED6634D986F573A552A62</td>\n",
        "      <td> CMT</td>\n",
        "      <td> 1</td>\n",
        "      <td> N</td>\n",
        "      <td> 2013-01-07 12:39:18</td>\n",
        "      <td> 2013-01-07 13:10:56</td>\n",
        "      <td> 3</td>\n",
        "      <td> 1898</td>\n",
        "      <td> 10.70</td>\n",
        "      <td>-73.989937</td>\n",
        "      <td> 40.756775</td>\n",
        "      <td>-73.865250</td>\n",
        "      <td> 40.770630</td>\n",
        "    </tr>\n",
        "    <tr>\n",
        "      <th>2       </th>\n",
        "      <td> E6FBF80668FE0611AEA44FD9574A7E32</td>\n",
        "      <td> 36773E80775F26CD1158EB5450A61C79</td>\n",
        "      <td> CMT</td>\n",
        "      <td> 1</td>\n",
        "      <td> N</td>\n",
        "      <td> 2013-01-07 06:08:51</td>\n",
        "      <td> 2013-01-07 06:13:14</td>\n",
        "      <td> 1</td>\n",
        "      <td>  262</td>\n",
        "      <td>  1.70</td>\n",
        "      <td>-73.962120</td>\n",
        "      <td> 40.769737</td>\n",
        "      <td>-73.979561</td>\n",
        "      <td> 40.755390</td>\n",
        "    </tr>\n",
        "    <tr>\n",
        "      <th>3       </th>\n",
        "      <td> D8AADA4E722C87C10E609654612630DD</td>\n",
        "      <td> 8F1E4F779A4D67431C3FCFA4E70A87DC</td>\n",
        "      <td> CMT</td>\n",
        "      <td> 2</td>\n",
        "      <td> N</td>\n",
        "      <td> 2013-01-10 23:41:51</td>\n",
        "      <td> 2013-01-11 00:09:11</td>\n",
        "      <td> 1</td>\n",
        "      <td> 1640</td>\n",
        "      <td> 17.50</td>\n",
        "      <td>-73.783310</td>\n",
        "      <td> 40.648766</td>\n",
        "      <td>-73.988914</td>\n",
        "      <td> 40.748207</td>\n",
        "    </tr>\n",
        "    <tr>\n",
        "      <th>4       </th>\n",
        "      <td> 4C005EEBAA7BF26B84B21586332488A2</td>\n",
        "      <td> 351BE7D984BE17DB2FA80A748E816472</td>\n",
        "      <td> CMT</td>\n",
        "      <td> 1</td>\n",
        "      <td> N</td>\n",
        "      <td> 2013-01-07 21:13:02</td>\n",
        "      <td> 2013-01-07 21:22:31</td>\n",
        "      <td> 1</td>\n",
        "      <td>  568</td>\n",
        "      <td>  1.10</td>\n",
        "      <td>-73.978439</td>\n",
        "      <td> 40.764679</td>\n",
        "      <td>-73.977684</td>\n",
        "      <td> 40.777004</td>\n",
        "    </tr>\n",
        "    <tr>\n",
        "      <th>5       </th>\n",
        "      <td> E6FBF80668FE0611AEA44FD9574A7E32</td>\n",
        "      <td> 36773E80775F26CD1158EB5450A61C79</td>\n",
        "      <td> CMT</td>\n",
        "      <td> 1</td>\n",
        "      <td> Y</td>\n",
        "      <td> 2013-01-07 08:17:06</td>\n",
        "      <td> 2013-01-07 08:22:46</td>\n",
        "      <td> 1</td>\n",
        "      <td>  340</td>\n",
        "      <td>  1.50</td>\n",
        "      <td>-73.992111</td>\n",
        "      <td> 40.689701</td>\n",
        "      <td>-74.007156</td>\n",
        "      <td> 40.679295</td>\n",
        "    </tr>\n",
        "    <tr>\n",
        "      <th>6       </th>\n",
        "      <td> F1EF8290A54338B1396DD98E38E09143</td>\n",
        "      <td> 0FDDEFAFF6FC38BD632B6DDED47DA618</td>\n",
        "      <td> CMT</td>\n",
        "      <td> 1</td>\n",
        "      <td> N</td>\n",
        "      <td> 2013-01-05 08:16:58</td>\n",
        "      <td> 2013-01-05 08:30:20</td>\n",
        "      <td> 1</td>\n",
        "      <td>  801</td>\n",
        "      <td>  6.50</td>\n",
        "      <td>-73.976318</td>\n",
        "      <td> 40.682724</td>\n",
        "      <td>-73.917915</td>\n",
        "      <td> 40.742664</td>\n",
        "    </tr>\n",
        "    <tr>\n",
        "      <th>7       </th>\n",
        "      <td> FAE1370A694D0621FAE1E62FAFD64080</td>\n",
        "      <td> 265B3D7D30A9B7AE389A2626F6825266</td>\n",
        "      <td> CMT</td>\n",
        "      <td> 1</td>\n",
        "      <td> N</td>\n",
        "      <td> 2013-01-07 10:15:19</td>\n",
        "      <td> 2013-01-07 10:20:10</td>\n",
        "      <td> 1</td>\n",
        "      <td>  290</td>\n",
        "      <td>  1.00</td>\n",
        "      <td>-73.958649</td>\n",
        "      <td> 40.768791</td>\n",
        "      <td>-73.970909</td>\n",
        "      <td> 40.761490</td>\n",
        "    </tr>\n",
        "    <tr>\n",
        "      <th>8       </th>\n",
        "      <td> 1159BD618BE1D4A90D522416A77AC29A</td>\n",
        "      <td> 9964A99249A4888E2C6AE55BA78A6F64</td>\n",
        "      <td> CMT</td>\n",
        "      <td> 1</td>\n",
        "      <td> N</td>\n",
        "      <td> 2013-01-10 15:04:11</td>\n",
        "      <td> 2013-01-10 15:07:35</td>\n",
        "      <td> 1</td>\n",
        "      <td>  204</td>\n",
        "      <td>  0.70</td>\n",
        "      <td>-73.980118</td>\n",
        "      <td> 40.754601</td>\n",
        "      <td>-73.988045</td>\n",
        "      <td> 40.748962</td>\n",
        "    </tr>\n",
        "    <tr>\n",
        "      <th>9       </th>\n",
        "      <td> 7A9728FFD700148BF60616DA97FFC3C3</td>\n",
        "      <td> D25781FA72D2C328B9F120736E6CAA68</td>\n",
        "      <td> CMT</td>\n",
        "      <td> 1</td>\n",
        "      <td> N</td>\n",
        "      <td> 2013-01-08 10:59:25</td>\n",
        "      <td> 2013-01-08 11:04:35</td>\n",
        "      <td> 1</td>\n",
        "      <td>  310</td>\n",
        "      <td>  0.60</td>\n",
        "      <td>-73.960358</td>\n",
        "      <td> 40.769138</td>\n",
        "      <td>-73.961914</td>\n",
        "      <td> 40.775684</td>\n",
        "    </tr>\n",
        "    <tr>\n",
        "      <th>10      </th>\n",
        "      <td> C6CE309A20A523E64FDCDECF150A2EC1</td>\n",
        "      <td> 3DC3C9552D190C5D26B0358C23E449A6</td>\n",
        "      <td> CMT</td>\n",
        "      <td> 1</td>\n",
        "      <td> N</td>\n",
        "      <td> 2013-01-10 12:08:05</td>\n",
        "      <td> 2013-01-10 12:12:11</td>\n",
        "      <td> 1</td>\n",
        "      <td>  245</td>\n",
        "      <td>  0.80</td>\n",
        "      <td>-73.987953</td>\n",
        "      <td> 40.761723</td>\n",
        "      <td>-73.989838</td>\n",
        "      <td> 40.756985</td>\n",
        "    </tr>\n",
        "    <tr>\n",
        "      <th>11      </th>\n",
        "      <td> 961D9C9506D105D3A7E88229F0487033</td>\n",
        "      <td> 65683B8714DEF5F783E75E8111784177</td>\n",
        "      <td> CMT</td>\n",
        "      <td> 1</td>\n",
        "      <td> N</td>\n",
        "      <td> 2013-01-10 16:16:38</td>\n",
        "      <td> 2013-01-10 16:22:03</td>\n",
        "      <td> 2</td>\n",
        "      <td>  324</td>\n",
        "      <td>  1.10</td>\n",
        "      <td>-74.006844</td>\n",
        "      <td> 40.741451</td>\n",
        "      <td>-73.994499</td>\n",
        "      <td> 40.750610</td>\n",
        "    </tr>\n",
        "    <tr>\n",
        "      <th>12      </th>\n",
        "      <td> FC82D4D00FE8AB93B2973EECB3559EA8</td>\n",
        "      <td> F554ED01B1DA0828B956446E40231C46</td>\n",
        "      <td> CMT</td>\n",
        "      <td> 1</td>\n",
        "      <td> N</td>\n",
        "      <td> 2013-01-05 21:28:33</td>\n",
        "      <td> 2013-01-05 21:38:20</td>\n",
        "      <td> 2</td>\n",
        "      <td>  587</td>\n",
        "      <td>  2.90</td>\n",
        "      <td>-73.966156</td>\n",
        "      <td> 40.764412</td>\n",
        "      <td>-73.973183</td>\n",
        "      <td> 40.792542</td>\n",
        "    </tr>\n",
        "    <tr>\n",
        "      <th>13      </th>\n",
        "      <td> 2111CFA825ECEE9430C3F075E8DC2E5A</td>\n",
        "      <td> 3B23D23383A197F51D7B27F2C22D366A</td>\n",
        "      <td> VTS</td>\n",
        "      <td> 1</td>\n",
        "      <td> M</td>\n",
        "      <td> 2013-01-13 04:30:00</td>\n",
        "      <td> 2013-01-13 04:35:00</td>\n",
        "      <td> 1</td>\n",
        "      <td>  300</td>\n",
        "      <td>  2.10</td>\n",
        "      <td>-73.963219</td>\n",
        "      <td> 40.761696</td>\n",
        "      <td>-73.978546</td>\n",
        "      <td> 40.740952</td>\n",
        "    </tr>\n",
        "    <tr>\n",
        "      <th>14      </th>\n",
        "      <td> 867892F8F81A6590EB536BE1D4F6305C</td>\n",
        "      <td> DCAFC607007FA6C88E8331014061CEEA</td>\n",
        "      <td> VTS</td>\n",
        "      <td> 1</td>\n",
        "      <td> M</td>\n",
        "      <td> 2013-01-13 04:16:00</td>\n",
        "      <td> 2013-01-13 04:38:00</td>\n",
        "      <td> 1</td>\n",
        "      <td> 1320</td>\n",
        "      <td>  6.82</td>\n",
        "      <td>-73.998161</td>\n",
        "      <td> 40.735420</td>\n",
        "      <td>-73.920761</td>\n",
        "      <td> 40.766708</td>\n",
        "    </tr>\n",
        "    <tr>\n",
        "      <th>15      </th>\n",
        "      <td> 99274EDFA48DDA7B024A6B8BCA19EAE0</td>\n",
        "      <td> F1F0BF6913FAE17744D8B8B1FAEA5363</td>\n",
        "      <td> VTS</td>\n",
        "      <td> 1</td>\n",
        "      <td> M</td>\n",
        "      <td> 2013-01-13 04:34:00</td>\n",
        "      <td> 2013-01-13 04:44:00</td>\n",
        "      <td> 1</td>\n",
        "      <td>  600</td>\n",
        "      <td>  1.73</td>\n",
        "      <td>-73.960197</td>\n",
        "      <td> 40.757877</td>\n",
        "      <td>-73.985802</td>\n",
        "      <td> 40.767826</td>\n",
        "    </tr>\n",
        "    <tr>\n",
        "      <th>16      </th>\n",
        "      <td> D111EEC901448CEE65D1DF98F4E3CE10</td>\n",
        "      <td> 8962F17FAA0A29BF05C4660AA4F4E514</td>\n",
        "      <td> VTS</td>\n",
        "      <td> 1</td>\n",
        "      <td> M</td>\n",
        "      <td> 2013-01-13 04:25:00</td>\n",
        "      <td> 2013-01-13 04:39:00</td>\n",
        "      <td> 4</td>\n",
        "      <td>  840</td>\n",
        "      <td>  4.81</td>\n",
        "      <td>-73.987656</td>\n",
        "      <td> 40.732533</td>\n",
        "      <td>-73.975540</td>\n",
        "      <td> 40.786926</td>\n",
        "    </tr>\n",
        "    <tr>\n",
        "      <th>17      </th>\n",
        "      <td> 84C5F6C940C24C55D8D7C75F3F75F14F</td>\n",
        "      <td> D48C1097AF78B31964D8DE00A4A71AC2</td>\n",
        "      <td> VTS</td>\n",
        "      <td> 1</td>\n",
        "      <td> M</td>\n",
        "      <td> 2013-01-13 04:34:00</td>\n",
        "      <td> 2013-01-13 04:42:00</td>\n",
        "      <td> 1</td>\n",
        "      <td>  480</td>\n",
        "      <td>  1.52</td>\n",
        "      <td>-73.990540</td>\n",
        "      <td> 40.761196</td>\n",
        "      <td>-73.982239</td>\n",
        "      <td> 40.774769</td>\n",
        "    </tr>\n",
        "    <tr>\n",
        "      <th>18      </th>\n",
        "      <td> ADDB6F51BFFAFA8603840526A7923A51</td>\n",
        "      <td> 93052C01A5C67ACDDB265D7038CB3B44</td>\n",
        "      <td> VTS</td>\n",
        "      <td> 1</td>\n",
        "      <td> M</td>\n",
        "      <td> 2013-01-13 04:40:00</td>\n",
        "      <td> 2013-01-13 04:45:00</td>\n",
        "      <td> 1</td>\n",
        "      <td>  300</td>\n",
        "      <td>  1.33</td>\n",
        "      <td>-73.993446</td>\n",
        "      <td> 40.721489</td>\n",
        "      <td>-73.985611</td>\n",
        "      <td> 40.738251</td>\n",
        "    </tr>\n",
        "    <tr>\n",
        "      <th>19      </th>\n",
        "      <td> 24A79226E819C16546C3634C824EAEB8</td>\n",
        "      <td> 45463936BB36B60963A6F942446AEB59</td>\n",
        "      <td> VTS</td>\n",
        "      <td> 1</td>\n",
        "      <td> M</td>\n",
        "      <td> 2013-01-13 04:37:00</td>\n",
        "      <td> 2013-01-13 04:48:00</td>\n",
        "      <td> 1</td>\n",
        "      <td>  660</td>\n",
        "      <td>  2.90</td>\n",
        "      <td>-73.988518</td>\n",
        "      <td> 40.720043</td>\n",
        "      <td>-73.990250</td>\n",
        "      <td> 40.750816</td>\n",
        "    </tr>\n",
        "    <tr>\n",
        "      <th>20      </th>\n",
        "      <td> EC05D1578FBB29AAC62505CC1683C5E4</td>\n",
        "      <td> 8FAD076F7BA2D0F5F1E32A9EB396ECC3</td>\n",
        "      <td> VTS</td>\n",
        "      <td> 1</td>\n",
        "      <td> M</td>\n",
        "      <td> 2013-01-13 04:14:00</td>\n",
        "      <td> 2013-01-13 04:45:00</td>\n",
        "      <td> 1</td>\n",
        "      <td> 1860</td>\n",
        "      <td>  5.71</td>\n",
        "      <td>-73.988808</td>\n",
        "      <td> 40.722042</td>\n",
        "      <td>-73.920624</td>\n",
        "      <td> 40.688431</td>\n",
        "    </tr>\n",
        "    <tr>\n",
        "      <th>21      </th>\n",
        "      <td> 1A052D0501F70E8A989BA6BF44A72880</td>\n",
        "      <td> 5428D441EB23C859AF5AEA63B3BB6897</td>\n",
        "      <td> VTS</td>\n",
        "      <td> 1</td>\n",
        "      <td> M</td>\n",
        "      <td> 2013-01-13 04:38:00</td>\n",
        "      <td> 2013-01-13 04:46:00</td>\n",
        "      <td> 5</td>\n",
        "      <td>  480</td>\n",
        "      <td>  1.92</td>\n",
        "      <td>-73.971642</td>\n",
        "      <td> 40.762630</td>\n",
        "      <td>-73.997894</td>\n",
        "      <td> 40.722618</td>\n",
        "    </tr>\n",
        "    <tr>\n",
        "      <th>22      </th>\n",
        "      <td> 0E2CA825AD133D022E902949D3D48128</td>\n",
        "      <td> 051E51520D3FF77D6185A9CAF4881877</td>\n",
        "      <td> VTS</td>\n",
        "      <td> 1</td>\n",
        "      <td> M</td>\n",
        "      <td> 2013-01-13 04:50:00</td>\n",
        "      <td> 2013-01-13 04:57:00</td>\n",
        "      <td> 1</td>\n",
        "      <td>  420</td>\n",
        "      <td>  2.50</td>\n",
        "      <td>-73.983078</td>\n",
        "      <td> 40.693710</td>\n",
        "      <td>-74.005981</td>\n",
        "      <td> 40.714344</td>\n",
        "    </tr>\n",
        "    <tr>\n",
        "      <th>23      </th>\n",
        "      <td> E2099162DA383A80E2EEF8D61A2612B3</td>\n",
        "      <td> A40155E00B0D5728EDB91EAB68C0A303</td>\n",
        "      <td> VTS</td>\n",
        "      <td> 1</td>\n",
        "      <td> M</td>\n",
        "      <td> 2013-01-13 11:05:00</td>\n",
        "      <td> 2013-01-13 11:12:00</td>\n",
        "      <td> 1</td>\n",
        "      <td>  420</td>\n",
        "      <td>  1.59</td>\n",
        "      <td>-73.988136</td>\n",
        "      <td> 40.716904</td>\n",
        "      <td>-73.984009</td>\n",
        "      <td> 40.725426</td>\n",
        "    </tr>\n",
        "    <tr>\n",
        "      <th>24      </th>\n",
        "      <td> 6BCA6CE04F3A2391FCA2CACC1EEB3CD3</td>\n",
        "      <td> 7C92D48CDB2FCB5B007E31ACE93CC5E9</td>\n",
        "      <td> VTS</td>\n",
        "      <td> 1</td>\n",
        "      <td> M</td>\n",
        "      <td> 2013-01-13 11:00:00</td>\n",
        "      <td> 2013-01-13 11:06:00</td>\n",
        "      <td> 6</td>\n",
        "      <td>  360</td>\n",
        "      <td>  1.02</td>\n",
        "      <td>-73.993469</td>\n",
        "      <td> 40.742283</td>\n",
        "      <td>-73.983749</td>\n",
        "      <td> 40.746761</td>\n",
        "    </tr>\n",
        "    <tr>\n",
        "      <th>25      </th>\n",
        "      <td> D4677BB37EDBA5626C026695A5384F8E</td>\n",
        "      <td> E32A7CD4BDE9EC17A2EADA7A0662D6B6</td>\n",
        "      <td> VTS</td>\n",
        "      <td> 1</td>\n",
        "      <td> M</td>\n",
        "      <td> 2013-01-13 11:05:00</td>\n",
        "      <td> 2013-01-13 11:08:00</td>\n",
        "      <td> 5</td>\n",
        "      <td>  180</td>\n",
        "      <td>  0.88</td>\n",
        "      <td>-73.960136</td>\n",
        "      <td> 40.776108</td>\n",
        "      <td>-73.965454</td>\n",
        "      <td> 40.765976</td>\n",
        "    </tr>\n",
        "    <tr>\n",
        "      <th>26      </th>\n",
        "      <td> 5562E98BA4BD4057E5626F1C64AF72B3</td>\n",
        "      <td> F4199818A317391BA1E973E0E75A279F</td>\n",
        "      <td> VTS</td>\n",
        "      <td> 1</td>\n",
        "      <td> M</td>\n",
        "      <td> 2013-01-13 11:00:00</td>\n",
        "      <td> 2013-01-13 11:08:00</td>\n",
        "      <td> 2</td>\n",
        "      <td>  480</td>\n",
        "      <td>  1.34</td>\n",
        "      <td>-73.980530</td>\n",
        "      <td> 40.688324</td>\n",
        "      <td>-73.973228</td>\n",
        "      <td> 40.677776</td>\n",
        "    </tr>\n",
        "    <tr>\n",
        "      <th>27      </th>\n",
        "      <td> 1F2826FDE3A968E90FE1D503096804AF</td>\n",
        "      <td> BAC563FFEA61AB268A755A12F2E6561F</td>\n",
        "      <td> VTS</td>\n",
        "      <td> 1</td>\n",
        "      <td> M</td>\n",
        "      <td> 2013-01-13 11:11:00</td>\n",
        "      <td> 2013-01-13 11:13:00</td>\n",
        "      <td> 1</td>\n",
        "      <td>  120</td>\n",
        "      <td>  0.29</td>\n",
        "      <td>-73.968491</td>\n",
        "      <td> 40.767395</td>\n",
        "      <td>-73.966881</td>\n",
        "      <td> 40.769661</td>\n",
        "    </tr>\n",
        "    <tr>\n",
        "      <th>28      </th>\n",
        "      <td> 891EDD34EF8DAD06FF84C2178D7FC346</td>\n",
        "      <td> BF763EFF830D208FFBB97A6FE0375896</td>\n",
        "      <td> VTS</td>\n",
        "      <td> 1</td>\n",
        "      <td> M</td>\n",
        "      <td> 2013-01-13 04:34:00</td>\n",
        "      <td> 2013-01-13 04:37:00</td>\n",
        "      <td> 2</td>\n",
        "      <td>  180</td>\n",
        "      <td>  0.75</td>\n",
        "      <td>-73.913818</td>\n",
        "      <td> 40.765591</td>\n",
        "      <td>-73.905411</td>\n",
        "      <td> 40.772457</td>\n",
        "    </tr>\n",
        "    <tr>\n",
        "      <th>29      </th>\n",
        "      <td> F5B5E83EF52481B2BAD92B1CD8FA9EC7</td>\n",
        "      <td> E3D586168AE361713191D71B8C37F9FC</td>\n",
        "      <td> VTS</td>\n",
        "      <td> 1</td>\n",
        "      <td> M</td>\n",
        "      <td> 2013-01-13 11:06:00</td>\n",
        "      <td> 2013-01-13 11:07:00</td>\n",
        "      <td> 1</td>\n",
        "      <td>   60</td>\n",
        "      <td>  0.61</td>\n",
        "      <td>-73.991760</td>\n",
        "      <td> 40.726768</td>\n",
        "      <td>-73.991760</td>\n",
        "      <td> 40.726768</td>\n",
        "    </tr>\n",
        "    <tr>\n",
        "      <th>...</th>\n",
        "      <td>...</td>\n",
        "      <td>...</td>\n",
        "      <td>...</td>\n",
        "      <td>...</td>\n",
        "      <td>...</td>\n",
        "      <td>...</td>\n",
        "      <td>...</td>\n",
        "      <td>...</td>\n",
        "      <td>...</td>\n",
        "      <td>...</td>\n",
        "      <td>...</td>\n",
        "      <td>...</td>\n",
        "      <td>...</td>\n",
        "      <td>...</td>\n",
        "    </tr>\n",
        "    <tr>\n",
        "      <th>13876585</th>\n",
        "      <td> 237F49C3ECC11F5024B254268F054384</td>\n",
        "      <td> 93C363DDF8ED9385D65FAD07CE3F5F07</td>\n",
        "      <td> CMT</td>\n",
        "      <td> 1</td>\n",
        "      <td> N</td>\n",
        "      <td> 2013-01-07 07:48:00</td>\n",
        "      <td> 2013-01-07 07:59:01</td>\n",
        "      <td> 2</td>\n",
        "      <td>  661</td>\n",
        "      <td>  2.90</td>\n",
        "      <td>-73.982841</td>\n",
        "      <td> 40.755905</td>\n",
        "      <td>-74.005470</td>\n",
        "      <td> 40.720100</td>\n",
        "    </tr>\n",
        "    <tr>\n",
        "      <th>13876586</th>\n",
        "      <td> 237F49C3ECC11F5024B254268F054384</td>\n",
        "      <td> 93C363DDF8ED9385D65FAD07CE3F5F07</td>\n",
        "      <td> CMT</td>\n",
        "      <td> 1</td>\n",
        "      <td> N</td>\n",
        "      <td> 2013-01-07 09:08:37</td>\n",
        "      <td> 2013-01-07 09:13:33</td>\n",
        "      <td> 1</td>\n",
        "      <td>  296</td>\n",
        "      <td>  0.50</td>\n",
        "      <td>-73.976494</td>\n",
        "      <td> 40.751560</td>\n",
        "      <td>-73.982880</td>\n",
        "      <td> 40.755569</td>\n",
        "    </tr>\n",
        "    <tr>\n",
        "      <th>13876587</th>\n",
        "      <td> 4C005EEBAA7BF26B84B21586332488A2</td>\n",
        "      <td> 351BE7D984BE17DB2FA80A748E816472</td>\n",
        "      <td> CMT</td>\n",
        "      <td> 1</td>\n",
        "      <td> N</td>\n",
        "      <td> 2013-01-07 23:47:47</td>\n",
        "      <td> 2013-01-07 23:54:43</td>\n",
        "      <td> 1</td>\n",
        "      <td>  415</td>\n",
        "      <td>  1.50</td>\n",
        "      <td>-73.995262</td>\n",
        "      <td> 40.743820</td>\n",
        "      <td>-73.987274</td>\n",
        "      <td> 40.729321</td>\n",
        "    </tr>\n",
        "    <tr>\n",
        "      <th>13876588</th>\n",
        "      <td> 32D306FD3A4D7CEDCFD8D644294DD5B7</td>\n",
        "      <td> 05EACD5B806FC3D01A377606D37CF327</td>\n",
        "      <td> CMT</td>\n",
        "      <td> 1</td>\n",
        "      <td> N</td>\n",
        "      <td> 2013-01-08 15:11:04</td>\n",
        "      <td> 2013-01-08 15:24:18</td>\n",
        "      <td> 2</td>\n",
        "      <td>  794</td>\n",
        "      <td>  2.10</td>\n",
        "      <td>-73.969620</td>\n",
        "      <td> 40.763390</td>\n",
        "      <td>-73.979118</td>\n",
        "      <td> 40.784794</td>\n",
        "    </tr>\n",
        "    <tr>\n",
        "      <th>13876589</th>\n",
        "      <td> 32D306FD3A4D7CEDCFD8D644294DD5B7</td>\n",
        "      <td> 05EACD5B806FC3D01A377606D37CF327</td>\n",
        "      <td> CMT</td>\n",
        "      <td> 1</td>\n",
        "      <td> N</td>\n",
        "      <td> 2013-01-08 08:25:24</td>\n",
        "      <td> 2013-01-08 08:35:12</td>\n",
        "      <td> 1</td>\n",
        "      <td>  588</td>\n",
        "      <td>  1.20</td>\n",
        "      <td>-73.965637</td>\n",
        "      <td> 40.774376</td>\n",
        "      <td>-73.977936</td>\n",
        "      <td> 40.759560</td>\n",
        "    </tr>\n",
        "    <tr>\n",
        "      <th>13876590</th>\n",
        "      <td> 50296A056AF5D221536DC98ABB1E3274</td>\n",
        "      <td> 4F3E6D0E69CABD8954F8A126D54C5C20</td>\n",
        "      <td> CMT</td>\n",
        "      <td> 1</td>\n",
        "      <td> N</td>\n",
        "      <td> 2013-01-08 02:37:37</td>\n",
        "      <td> 2013-01-08 02:55:20</td>\n",
        "      <td> 3</td>\n",
        "      <td> 1063</td>\n",
        "      <td>  8.70</td>\n",
        "      <td>-74.003082</td>\n",
        "      <td> 40.739986</td>\n",
        "      <td>-73.937691</td>\n",
        "      <td> 40.838692</td>\n",
        "    </tr>\n",
        "    <tr>\n",
        "      <th>13876591</th>\n",
        "      <td> C6CE309A20A523E64FDCDECF150A2EC1</td>\n",
        "      <td> 3DC3C9552D190C5D26B0358C23E449A6</td>\n",
        "      <td> CMT</td>\n",
        "      <td> 1</td>\n",
        "      <td> N</td>\n",
        "      <td> 2013-01-10 08:02:56</td>\n",
        "      <td> 2013-01-10 08:14:24</td>\n",
        "      <td> 1</td>\n",
        "      <td>  687</td>\n",
        "      <td>  2.70</td>\n",
        "      <td>-73.992874</td>\n",
        "      <td> 40.758064</td>\n",
        "      <td>-73.979675</td>\n",
        "      <td> 40.733341</td>\n",
        "    </tr>\n",
        "    <tr>\n",
        "      <th>13876592</th>\n",
        "      <td> C6CE309A20A523E64FDCDECF150A2EC1</td>\n",
        "      <td> 3DC3C9552D190C5D26B0358C23E449A6</td>\n",
        "      <td> CMT</td>\n",
        "      <td> 1</td>\n",
        "      <td> N</td>\n",
        "      <td> 2013-01-10 15:00:16</td>\n",
        "      <td> 2013-01-10 15:09:03</td>\n",
        "      <td> 1</td>\n",
        "      <td>  527</td>\n",
        "      <td>  0.70</td>\n",
        "      <td>-73.974838</td>\n",
        "      <td> 40.761784</td>\n",
        "      <td>-73.985031</td>\n",
        "      <td> 40.758156</td>\n",
        "    </tr>\n",
        "    <tr>\n",
        "      <th>13876593</th>\n",
        "      <td> 5E162F2D7F569949769648C56A23C525</td>\n",
        "      <td> 6F7932F2B112DAABF1F2A385FE2AB819</td>\n",
        "      <td> CMT</td>\n",
        "      <td> 1</td>\n",
        "      <td> N</td>\n",
        "      <td> 2013-01-07 23:16:34</td>\n",
        "      <td> 2013-01-07 23:43:22</td>\n",
        "      <td> 2</td>\n",
        "      <td> 1608</td>\n",
        "      <td> 13.70</td>\n",
        "      <td>-73.982948</td>\n",
        "      <td> 40.750858</td>\n",
        "      <td>-74.033707</td>\n",
        "      <td> 40.617203</td>\n",
        "    </tr>\n",
        "    <tr>\n",
        "      <th>13876594</th>\n",
        "      <td> 1836E1591EE79F810104064B945747AB</td>\n",
        "      <td> 18EDD3FC80A78DC262E2442FEEA55F01</td>\n",
        "      <td> CMT</td>\n",
        "      <td> 1</td>\n",
        "      <td> N</td>\n",
        "      <td> 2013-01-08 03:05:09</td>\n",
        "      <td> 2013-01-08 03:17:28</td>\n",
        "      <td> 1</td>\n",
        "      <td>  739</td>\n",
        "      <td>  4.30</td>\n",
        "      <td>-73.987808</td>\n",
        "      <td> 40.732471</td>\n",
        "      <td>-73.943024</td>\n",
        "      <td> 40.705822</td>\n",
        "    </tr>\n",
        "    <tr>\n",
        "      <th>13876595</th>\n",
        "      <td> 1836E1591EE79F810104064B945747AB</td>\n",
        "      <td> 18EDD3FC80A78DC262E2442FEEA55F01</td>\n",
        "      <td> CMT</td>\n",
        "      <td> 1</td>\n",
        "      <td> N</td>\n",
        "      <td> 2013-01-07 17:54:25</td>\n",
        "      <td> 2013-01-07 18:11:41</td>\n",
        "      <td> 1</td>\n",
        "      <td> 1035</td>\n",
        "      <td>  2.90</td>\n",
        "      <td>-73.996529</td>\n",
        "      <td> 40.732380</td>\n",
        "      <td>-73.966507</td>\n",
        "      <td> 40.760593</td>\n",
        "    </tr>\n",
        "    <tr>\n",
        "      <th>13876596</th>\n",
        "      <td> A5A69FAD94C3DC7854F9DDEA994B6380</td>\n",
        "      <td> 178BA04DD1A4E3A184C86AA3F110A742</td>\n",
        "      <td> CMT</td>\n",
        "      <td> 1</td>\n",
        "      <td> N</td>\n",
        "      <td> 2013-01-10 08:42:47</td>\n",
        "      <td> 2013-01-10 08:53:25</td>\n",
        "      <td> 1</td>\n",
        "      <td>  637</td>\n",
        "      <td>  1.10</td>\n",
        "      <td>-73.971596</td>\n",
        "      <td> 40.750374</td>\n",
        "      <td>-73.972160</td>\n",
        "      <td> 40.763680</td>\n",
        "    </tr>\n",
        "    <tr>\n",
        "      <th>13876597</th>\n",
        "      <td> 5E162F2D7F569949769648C56A23C525</td>\n",
        "      <td> 6F7932F2B112DAABF1F2A385FE2AB819</td>\n",
        "      <td> CMT</td>\n",
        "      <td> 1</td>\n",
        "      <td> N</td>\n",
        "      <td> 2013-01-07 20:01:08</td>\n",
        "      <td> 2013-01-07 20:10:23</td>\n",
        "      <td> 1</td>\n",
        "      <td>  555</td>\n",
        "      <td>  1.70</td>\n",
        "      <td>-73.988129</td>\n",
        "      <td> 40.769798</td>\n",
        "      <td>-73.977654</td>\n",
        "      <td> 40.753460</td>\n",
        "    </tr>\n",
        "    <tr>\n",
        "      <th>13876598</th>\n",
        "      <td> B36D470B76BD8F6D720A83D08891754E</td>\n",
        "      <td> A86011E8B4D0FCC19283230950DFCB3E</td>\n",
        "      <td> CMT</td>\n",
        "      <td> 1</td>\n",
        "      <td> N</td>\n",
        "      <td> 2013-01-07 22:01:57</td>\n",
        "      <td> 2013-01-07 22:17:36</td>\n",
        "      <td> 2</td>\n",
        "      <td>  939</td>\n",
        "      <td>  6.00</td>\n",
        "      <td>-73.984634</td>\n",
        "      <td> 40.718761</td>\n",
        "      <td>-73.981766</td>\n",
        "      <td> 40.675709</td>\n",
        "    </tr>\n",
        "    <tr>\n",
        "      <th>13876599</th>\n",
        "      <td> 47CFD616C057758044C57D1B4BEFE759</td>\n",
        "      <td> A6DCBA545B1E1A2DC24BFEE1C0A54029</td>\n",
        "      <td> CMT</td>\n",
        "      <td> 1</td>\n",
        "      <td> N</td>\n",
        "      <td> 2013-01-07 19:48:22</td>\n",
        "      <td> 2013-01-07 19:51:22</td>\n",
        "      <td> 1</td>\n",
        "      <td>  179</td>\n",
        "      <td>  0.50</td>\n",
        "      <td>-73.972740</td>\n",
        "      <td> 40.792896</td>\n",
        "      <td>-73.967850</td>\n",
        "      <td> 40.800568</td>\n",
        "    </tr>\n",
        "    <tr>\n",
        "      <th>13876600</th>\n",
        "      <td> 0CC08DE5645A7137059499EA11886805</td>\n",
        "      <td> 4F2627F9FD34A9B9EFCCFC5147048345</td>\n",
        "      <td> CMT</td>\n",
        "      <td> 1</td>\n",
        "      <td> N</td>\n",
        "      <td> 2013-01-08 00:26:18</td>\n",
        "      <td> 2013-01-08 00:33:41</td>\n",
        "      <td> 1</td>\n",
        "      <td>  442</td>\n",
        "      <td>  2.20</td>\n",
        "      <td>-74.006546</td>\n",
        "      <td> 40.739670</td>\n",
        "      <td>-73.982872</td>\n",
        "      <td> 40.756832</td>\n",
        "    </tr>\n",
        "    <tr>\n",
        "      <th>13876601</th>\n",
        "      <td> 0CC08DE5645A7137059499EA11886805</td>\n",
        "      <td> 4F2627F9FD34A9B9EFCCFC5147048345</td>\n",
        "      <td> CMT</td>\n",
        "      <td> 1</td>\n",
        "      <td> N</td>\n",
        "      <td> 2013-01-07 19:57:17</td>\n",
        "      <td> 2013-01-07 20:07:02</td>\n",
        "      <td> 1</td>\n",
        "      <td>  585</td>\n",
        "      <td>  4.00</td>\n",
        "      <td>-74.014114</td>\n",
        "      <td> 40.706306</td>\n",
        "      <td>-74.002693</td>\n",
        "      <td> 40.760006</td>\n",
        "    </tr>\n",
        "    <tr>\n",
        "      <th>13876602</th>\n",
        "      <td> B7A16B1C396F4A5113257DDEB043D953</td>\n",
        "      <td> 3DC4ACD88D75EF04FBC9CCDFEEF7C71E</td>\n",
        "      <td> CMT</td>\n",
        "      <td> 1</td>\n",
        "      <td> N</td>\n",
        "      <td> 2013-01-07 18:50:36</td>\n",
        "      <td> 2013-01-07 19:02:03</td>\n",
        "      <td> 1</td>\n",
        "      <td>  686</td>\n",
        "      <td>  2.20</td>\n",
        "      <td>-73.989914</td>\n",
        "      <td> 40.736874</td>\n",
        "      <td>-74.009033</td>\n",
        "      <td> 40.716122</td>\n",
        "    </tr>\n",
        "    <tr>\n",
        "      <th>13876603</th>\n",
        "      <td> E71CDEFCB364DA0D385629612EE30642</td>\n",
        "      <td> C7259B75B62CB850082BDEB4149DC075</td>\n",
        "      <td> CMT</td>\n",
        "      <td> 1</td>\n",
        "      <td> N</td>\n",
        "      <td> 2013-01-07 21:46:45</td>\n",
        "      <td> 2013-01-07 21:50:30</td>\n",
        "      <td> 1</td>\n",
        "      <td>  224</td>\n",
        "      <td>  0.90</td>\n",
        "      <td>-73.961113</td>\n",
        "      <td> 40.765106</td>\n",
        "      <td>-73.959839</td>\n",
        "      <td> 40.776237</td>\n",
        "    </tr>\n",
        "    <tr>\n",
        "      <th>13876604</th>\n",
        "      <td> E71CDEFCB364DA0D385629612EE30642</td>\n",
        "      <td> C7259B75B62CB850082BDEB4149DC075</td>\n",
        "      <td> CMT</td>\n",
        "      <td> 1</td>\n",
        "      <td> N</td>\n",
        "      <td> 2013-01-07 21:53:35</td>\n",
        "      <td> 2013-01-07 21:54:57</td>\n",
        "      <td> 1</td>\n",
        "      <td>   82</td>\n",
        "      <td>  0.50</td>\n",
        "      <td>-73.964081</td>\n",
        "      <td> 40.770279</td>\n",
        "      <td>-73.958977</td>\n",
        "      <td> 40.777237</td>\n",
        "    </tr>\n",
        "    <tr>\n",
        "      <th>13876605</th>\n",
        "      <td> A8262FA0AFCB6C7229F6888EAFBDE076</td>\n",
        "      <td> 1BDF89260FEF1AE6FDDE839A0278D31D</td>\n",
        "      <td> CMT</td>\n",
        "      <td> 2</td>\n",
        "      <td> N</td>\n",
        "      <td> 2013-01-07 07:29:06</td>\n",
        "      <td> 2013-01-07 08:19:39</td>\n",
        "      <td> 1</td>\n",
        "      <td> 3032</td>\n",
        "      <td> 21.30</td>\n",
        "      <td>-73.776794</td>\n",
        "      <td> 40.645775</td>\n",
        "      <td>-74.010933</td>\n",
        "      <td> 40.704960</td>\n",
        "    </tr>\n",
        "    <tr>\n",
        "      <th>13876606</th>\n",
        "      <td> A8262FA0AFCB6C7229F6888EAFBDE076</td>\n",
        "      <td> 1BDF89260FEF1AE6FDDE839A0278D31D</td>\n",
        "      <td> CMT</td>\n",
        "      <td> 1</td>\n",
        "      <td> N</td>\n",
        "      <td> 2013-01-07 14:30:23</td>\n",
        "      <td> 2013-01-07 14:42:14</td>\n",
        "      <td> 1</td>\n",
        "      <td>  711</td>\n",
        "      <td>  1.40</td>\n",
        "      <td>-73.946114</td>\n",
        "      <td> 40.801075</td>\n",
        "      <td>-73.966530</td>\n",
        "      <td> 40.805023</td>\n",
        "    </tr>\n",
        "    <tr>\n",
        "      <th>13876607</th>\n",
        "      <td> F33EF464441839C6F0DABAABBC93B45D</td>\n",
        "      <td> 313F66DD09C308EADA3B307F6B8CF7A9</td>\n",
        "      <td> CMT</td>\n",
        "      <td> 1</td>\n",
        "      <td> N</td>\n",
        "      <td> 2013-01-10 10:56:47</td>\n",
        "      <td> 2013-01-10 11:05:52</td>\n",
        "      <td> 1</td>\n",
        "      <td>  545</td>\n",
        "      <td>  1.40</td>\n",
        "      <td>-73.975410</td>\n",
        "      <td> 40.759106</td>\n",
        "      <td>-73.961830</td>\n",
        "      <td> 40.776527</td>\n",
        "    </tr>\n",
        "    <tr>\n",
        "      <th>13876608</th>\n",
        "      <td> 56CE01E7DBE0E6449FA1758F082D8884</td>\n",
        "      <td> 4C6FE2FCFED26629D515D291EC1516A0</td>\n",
        "      <td> CMT</td>\n",
        "      <td> 1</td>\n",
        "      <td> N</td>\n",
        "      <td> 2013-01-10 14:50:01</td>\n",
        "      <td> 2013-01-10 15:19:10</td>\n",
        "      <td> 1</td>\n",
        "      <td> 1748</td>\n",
        "      <td>  4.00</td>\n",
        "      <td>-73.957344</td>\n",
        "      <td> 40.785732</td>\n",
        "      <td>-73.994942</td>\n",
        "      <td> 40.742931</td>\n",
        "    </tr>\n",
        "    <tr>\n",
        "      <th>13876609</th>\n",
        "      <td> 32201027CDC62D654DC3AD9747A07C96</td>\n",
        "      <td> B8DDB9F8143017E22104050B26C2A65D</td>\n",
        "      <td> CMT</td>\n",
        "      <td> 1</td>\n",
        "      <td> N</td>\n",
        "      <td> 2013-01-05 08:58:18</td>\n",
        "      <td> 2013-01-05 09:05:56</td>\n",
        "      <td> 1</td>\n",
        "      <td>  458</td>\n",
        "      <td>  3.20</td>\n",
        "      <td>-73.998901</td>\n",
        "      <td> 40.734509</td>\n",
        "      <td>-73.966820</td>\n",
        "      <td> 40.770138</td>\n",
        "    </tr>\n",
        "    <tr>\n",
        "      <th>13876610</th>\n",
        "      <td> B33E71CD9E8FE1BE3B70FEB6E807DD15</td>\n",
        "      <td> BAF57796E45D921BB23217E17A372FF6</td>\n",
        "      <td> CMT</td>\n",
        "      <td> 1</td>\n",
        "      <td> N</td>\n",
        "      <td> 2013-01-06 04:58:23</td>\n",
        "      <td> 2013-01-06 05:11:24</td>\n",
        "      <td> 1</td>\n",
        "      <td>  781</td>\n",
        "      <td>  3.30</td>\n",
        "      <td>-73.989029</td>\n",
        "      <td> 40.759327</td>\n",
        "      <td>-73.953743</td>\n",
        "      <td> 40.770672</td>\n",
        "    </tr>\n",
        "    <tr>\n",
        "      <th>13876611</th>\n",
        "      <td> ED160B76D5349C8AC1ECF22CD4B8D538</td>\n",
        "      <td> 3B93F6DA5DEBDE9560993FA624C4FF76</td>\n",
        "      <td> CMT</td>\n",
        "      <td> 1</td>\n",
        "      <td> N</td>\n",
        "      <td> 2013-01-08 14:42:04</td>\n",
        "      <td> 2013-01-08 14:50:27</td>\n",
        "      <td> 1</td>\n",
        "      <td>  503</td>\n",
        "      <td>  1.00</td>\n",
        "      <td>-73.993042</td>\n",
        "      <td> 40.733990</td>\n",
        "      <td>-73.982483</td>\n",
        "      <td> 40.724823</td>\n",
        "    </tr>\n",
        "    <tr>\n",
        "      <th>13876612</th>\n",
        "      <td> D83F9AC0E33F6F19869C243BE6AB6FE5</td>\n",
        "      <td> 85A55B6772275374EF90AC9457DC1F83</td>\n",
        "      <td> CMT</td>\n",
        "      <td> 1</td>\n",
        "      <td> N</td>\n",
        "      <td> 2013-01-10 13:29:23</td>\n",
        "      <td> 2013-01-10 13:34:45</td>\n",
        "      <td> 1</td>\n",
        "      <td>  321</td>\n",
        "      <td>  0.90</td>\n",
        "      <td>-73.979553</td>\n",
        "      <td> 40.785011</td>\n",
        "      <td>-73.968262</td>\n",
        "      <td> 40.788158</td>\n",
        "    </tr>\n",
        "    <tr>\n",
        "      <th>13876613</th>\n",
        "      <td> 04E59442A7DDBCE515E33CD355D866E7</td>\n",
        "      <td> 7913172189931A1A1632562B10AB53C4</td>\n",
        "      <td> CMT</td>\n",
        "      <td> 1</td>\n",
        "      <td> N</td>\n",
        "      <td> 2013-01-06 16:30:15</td>\n",
        "      <td> 2013-01-06 16:42:26</td>\n",
        "      <td> 1</td>\n",
        "      <td>  730</td>\n",
        "      <td>  1.30</td>\n",
        "      <td>-73.968002</td>\n",
        "      <td> 40.762161</td>\n",
        "      <td>-73.985992</td>\n",
        "      <td> 40.770542</td>\n",
        "    </tr>\n",
        "    <tr>\n",
        "      <th>13876614</th>\n",
        "      <td> D30BED60331C79E3F7ACD05B325ED42F</td>\n",
        "      <td> B5E1D2461A5BCC8819188DACEC17CD69</td>\n",
        "      <td> CMT</td>\n",
        "      <td> 1</td>\n",
        "      <td> N</td>\n",
        "      <td> 2013-01-05 20:38:46</td>\n",
        "      <td> 2013-01-05 20:43:06</td>\n",
        "      <td> 1</td>\n",
        "      <td>  260</td>\n",
        "      <td>  0.80</td>\n",
        "      <td>-73.982224</td>\n",
        "      <td> 40.766670</td>\n",
        "      <td>-73.989212</td>\n",
        "      <td> 40.773636</td>\n",
        "    </tr>\n",
        "  </tbody>\n",
        "</table>\n",
        "<p>13876615 rows \u00d7 14 columns</p>\n",
        "</div>"
       ],
       "metadata": {},
       "output_type": "pyout",
       "prompt_number": 36,
       "text": [
        "                                 medallion                      hack_license  \\\n",
        "0         DFD2202EE08F7A8DC9A57B02ACB81FE2  51EE87E3205C985EF8431D850C786310   \n",
        "1         0B57B9633A2FECD3D3B1944AFC7471CF  CCD4367B417ED6634D986F573A552A62   \n",
        "2         E6FBF80668FE0611AEA44FD9574A7E32  36773E80775F26CD1158EB5450A61C79   \n",
        "3         D8AADA4E722C87C10E609654612630DD  8F1E4F779A4D67431C3FCFA4E70A87DC   \n",
        "4         4C005EEBAA7BF26B84B21586332488A2  351BE7D984BE17DB2FA80A748E816472   \n",
        "5         E6FBF80668FE0611AEA44FD9574A7E32  36773E80775F26CD1158EB5450A61C79   \n",
        "6         F1EF8290A54338B1396DD98E38E09143  0FDDEFAFF6FC38BD632B6DDED47DA618   \n",
        "7         FAE1370A694D0621FAE1E62FAFD64080  265B3D7D30A9B7AE389A2626F6825266   \n",
        "8         1159BD618BE1D4A90D522416A77AC29A  9964A99249A4888E2C6AE55BA78A6F64   \n",
        "9         7A9728FFD700148BF60616DA97FFC3C3  D25781FA72D2C328B9F120736E6CAA68   \n",
        "10        C6CE309A20A523E64FDCDECF150A2EC1  3DC3C9552D190C5D26B0358C23E449A6   \n",
        "11        961D9C9506D105D3A7E88229F0487033  65683B8714DEF5F783E75E8111784177   \n",
        "12        FC82D4D00FE8AB93B2973EECB3559EA8  F554ED01B1DA0828B956446E40231C46   \n",
        "13        2111CFA825ECEE9430C3F075E8DC2E5A  3B23D23383A197F51D7B27F2C22D366A   \n",
        "14        867892F8F81A6590EB536BE1D4F6305C  DCAFC607007FA6C88E8331014061CEEA   \n",
        "15        99274EDFA48DDA7B024A6B8BCA19EAE0  F1F0BF6913FAE17744D8B8B1FAEA5363   \n",
        "16        D111EEC901448CEE65D1DF98F4E3CE10  8962F17FAA0A29BF05C4660AA4F4E514   \n",
        "17        84C5F6C940C24C55D8D7C75F3F75F14F  D48C1097AF78B31964D8DE00A4A71AC2   \n",
        "18        ADDB6F51BFFAFA8603840526A7923A51  93052C01A5C67ACDDB265D7038CB3B44   \n",
        "19        24A79226E819C16546C3634C824EAEB8  45463936BB36B60963A6F942446AEB59   \n",
        "20        EC05D1578FBB29AAC62505CC1683C5E4  8FAD076F7BA2D0F5F1E32A9EB396ECC3   \n",
        "21        1A052D0501F70E8A989BA6BF44A72880  5428D441EB23C859AF5AEA63B3BB6897   \n",
        "22        0E2CA825AD133D022E902949D3D48128  051E51520D3FF77D6185A9CAF4881877   \n",
        "23        E2099162DA383A80E2EEF8D61A2612B3  A40155E00B0D5728EDB91EAB68C0A303   \n",
        "24        6BCA6CE04F3A2391FCA2CACC1EEB3CD3  7C92D48CDB2FCB5B007E31ACE93CC5E9   \n",
        "25        D4677BB37EDBA5626C026695A5384F8E  E32A7CD4BDE9EC17A2EADA7A0662D6B6   \n",
        "26        5562E98BA4BD4057E5626F1C64AF72B3  F4199818A317391BA1E973E0E75A279F   \n",
        "27        1F2826FDE3A968E90FE1D503096804AF  BAC563FFEA61AB268A755A12F2E6561F   \n",
        "28        891EDD34EF8DAD06FF84C2178D7FC346  BF763EFF830D208FFBB97A6FE0375896   \n",
        "29        F5B5E83EF52481B2BAD92B1CD8FA9EC7  E3D586168AE361713191D71B8C37F9FC   \n",
        "...                                    ...                               ...   \n",
        "13876585  237F49C3ECC11F5024B254268F054384  93C363DDF8ED9385D65FAD07CE3F5F07   \n",
        "13876586  237F49C3ECC11F5024B254268F054384  93C363DDF8ED9385D65FAD07CE3F5F07   \n",
        "13876587  4C005EEBAA7BF26B84B21586332488A2  351BE7D984BE17DB2FA80A748E816472   \n",
        "13876588  32D306FD3A4D7CEDCFD8D644294DD5B7  05EACD5B806FC3D01A377606D37CF327   \n",
        "13876589  32D306FD3A4D7CEDCFD8D644294DD5B7  05EACD5B806FC3D01A377606D37CF327   \n",
        "13876590  50296A056AF5D221536DC98ABB1E3274  4F3E6D0E69CABD8954F8A126D54C5C20   \n",
        "13876591  C6CE309A20A523E64FDCDECF150A2EC1  3DC3C9552D190C5D26B0358C23E449A6   \n",
        "13876592  C6CE309A20A523E64FDCDECF150A2EC1  3DC3C9552D190C5D26B0358C23E449A6   \n",
        "13876593  5E162F2D7F569949769648C56A23C525  6F7932F2B112DAABF1F2A385FE2AB819   \n",
        "13876594  1836E1591EE79F810104064B945747AB  18EDD3FC80A78DC262E2442FEEA55F01   \n",
        "13876595  1836E1591EE79F810104064B945747AB  18EDD3FC80A78DC262E2442FEEA55F01   \n",
        "13876596  A5A69FAD94C3DC7854F9DDEA994B6380  178BA04DD1A4E3A184C86AA3F110A742   \n",
        "13876597  5E162F2D7F569949769648C56A23C525  6F7932F2B112DAABF1F2A385FE2AB819   \n",
        "13876598  B36D470B76BD8F6D720A83D08891754E  A86011E8B4D0FCC19283230950DFCB3E   \n",
        "13876599  47CFD616C057758044C57D1B4BEFE759  A6DCBA545B1E1A2DC24BFEE1C0A54029   \n",
        "13876600  0CC08DE5645A7137059499EA11886805  4F2627F9FD34A9B9EFCCFC5147048345   \n",
        "13876601  0CC08DE5645A7137059499EA11886805  4F2627F9FD34A9B9EFCCFC5147048345   \n",
        "13876602  B7A16B1C396F4A5113257DDEB043D953  3DC4ACD88D75EF04FBC9CCDFEEF7C71E   \n",
        "13876603  E71CDEFCB364DA0D385629612EE30642  C7259B75B62CB850082BDEB4149DC075   \n",
        "13876604  E71CDEFCB364DA0D385629612EE30642  C7259B75B62CB850082BDEB4149DC075   \n",
        "13876605  A8262FA0AFCB6C7229F6888EAFBDE076  1BDF89260FEF1AE6FDDE839A0278D31D   \n",
        "13876606  A8262FA0AFCB6C7229F6888EAFBDE076  1BDF89260FEF1AE6FDDE839A0278D31D   \n",
        "13876607  F33EF464441839C6F0DABAABBC93B45D  313F66DD09C308EADA3B307F6B8CF7A9   \n",
        "13876608  56CE01E7DBE0E6449FA1758F082D8884  4C6FE2FCFED26629D515D291EC1516A0   \n",
        "13876609  32201027CDC62D654DC3AD9747A07C96  B8DDB9F8143017E22104050B26C2A65D   \n",
        "13876610  B33E71CD9E8FE1BE3B70FEB6E807DD15  BAF57796E45D921BB23217E17A372FF6   \n",
        "13876611  ED160B76D5349C8AC1ECF22CD4B8D538  3B93F6DA5DEBDE9560993FA624C4FF76   \n",
        "13876612  D83F9AC0E33F6F19869C243BE6AB6FE5  85A55B6772275374EF90AC9457DC1F83   \n",
        "13876613  04E59442A7DDBCE515E33CD355D866E7  7913172189931A1A1632562B10AB53C4   \n",
        "13876614  D30BED60331C79E3F7ACD05B325ED42F  B5E1D2461A5BCC8819188DACEC17CD69   \n",
        "\n",
        "         vendor_id  rate_code store_and_fwd_flag      pickup_datetime  \\\n",
        "0              CMT          1                  N  2013-01-07 23:25:03   \n",
        "1              CMT          1                  N  2013-01-07 12:39:18   \n",
        "2              CMT          1                  N  2013-01-07 06:08:51   \n",
        "3              CMT          2                  N  2013-01-10 23:41:51   \n",
        "4              CMT          1                  N  2013-01-07 21:13:02   \n",
        "5              CMT          1                  Y  2013-01-07 08:17:06   \n",
        "6              CMT          1                  N  2013-01-05 08:16:58   \n",
        "7              CMT          1                  N  2013-01-07 10:15:19   \n",
        "8              CMT          1                  N  2013-01-10 15:04:11   \n",
        "9              CMT          1                  N  2013-01-08 10:59:25   \n",
        "10             CMT          1                  N  2013-01-10 12:08:05   \n",
        "11             CMT          1                  N  2013-01-10 16:16:38   \n",
        "12             CMT          1                  N  2013-01-05 21:28:33   \n",
        "13             VTS          1                  M  2013-01-13 04:30:00   \n",
        "14             VTS          1                  M  2013-01-13 04:16:00   \n",
        "15             VTS          1                  M  2013-01-13 04:34:00   \n",
        "16             VTS          1                  M  2013-01-13 04:25:00   \n",
        "17             VTS          1                  M  2013-01-13 04:34:00   \n",
        "18             VTS          1                  M  2013-01-13 04:40:00   \n",
        "19             VTS          1                  M  2013-01-13 04:37:00   \n",
        "20             VTS          1                  M  2013-01-13 04:14:00   \n",
        "21             VTS          1                  M  2013-01-13 04:38:00   \n",
        "22             VTS          1                  M  2013-01-13 04:50:00   \n",
        "23             VTS          1                  M  2013-01-13 11:05:00   \n",
        "24             VTS          1                  M  2013-01-13 11:00:00   \n",
        "25             VTS          1                  M  2013-01-13 11:05:00   \n",
        "26             VTS          1                  M  2013-01-13 11:00:00   \n",
        "27             VTS          1                  M  2013-01-13 11:11:00   \n",
        "28             VTS          1                  M  2013-01-13 04:34:00   \n",
        "29             VTS          1                  M  2013-01-13 11:06:00   \n",
        "...            ...        ...                ...                  ...   \n",
        "13876585       CMT          1                  N  2013-01-07 07:48:00   \n",
        "13876586       CMT          1                  N  2013-01-07 09:08:37   \n",
        "13876587       CMT          1                  N  2013-01-07 23:47:47   \n",
        "13876588       CMT          1                  N  2013-01-08 15:11:04   \n",
        "13876589       CMT          1                  N  2013-01-08 08:25:24   \n",
        "13876590       CMT          1                  N  2013-01-08 02:37:37   \n",
        "13876591       CMT          1                  N  2013-01-10 08:02:56   \n",
        "13876592       CMT          1                  N  2013-01-10 15:00:16   \n",
        "13876593       CMT          1                  N  2013-01-07 23:16:34   \n",
        "13876594       CMT          1                  N  2013-01-08 03:05:09   \n",
        "13876595       CMT          1                  N  2013-01-07 17:54:25   \n",
        "13876596       CMT          1                  N  2013-01-10 08:42:47   \n",
        "13876597       CMT          1                  N  2013-01-07 20:01:08   \n",
        "13876598       CMT          1                  N  2013-01-07 22:01:57   \n",
        "13876599       CMT          1                  N  2013-01-07 19:48:22   \n",
        "13876600       CMT          1                  N  2013-01-08 00:26:18   \n",
        "13876601       CMT          1                  N  2013-01-07 19:57:17   \n",
        "13876602       CMT          1                  N  2013-01-07 18:50:36   \n",
        "13876603       CMT          1                  N  2013-01-07 21:46:45   \n",
        "13876604       CMT          1                  N  2013-01-07 21:53:35   \n",
        "13876605       CMT          2                  N  2013-01-07 07:29:06   \n",
        "13876606       CMT          1                  N  2013-01-07 14:30:23   \n",
        "13876607       CMT          1                  N  2013-01-10 10:56:47   \n",
        "13876608       CMT          1                  N  2013-01-10 14:50:01   \n",
        "13876609       CMT          1                  N  2013-01-05 08:58:18   \n",
        "13876610       CMT          1                  N  2013-01-06 04:58:23   \n",
        "13876611       CMT          1                  N  2013-01-08 14:42:04   \n",
        "13876612       CMT          1                  N  2013-01-10 13:29:23   \n",
        "13876613       CMT          1                  N  2013-01-06 16:30:15   \n",
        "13876614       CMT          1                  N  2013-01-05 20:38:46   \n",
        "\n",
        "             dropoff_datetime  passenger_count  trip_time_in_secs  \\\n",
        "0         2013-01-07 23:34:24                1                560   \n",
        "1         2013-01-07 13:10:56                3               1898   \n",
        "2         2013-01-07 06:13:14                1                262   \n",
        "3         2013-01-11 00:09:11                1               1640   \n",
        "4         2013-01-07 21:22:31                1                568   \n",
        "5         2013-01-07 08:22:46                1                340   \n",
        "6         2013-01-05 08:30:20                1                801   \n",
        "7         2013-01-07 10:20:10                1                290   \n",
        "8         2013-01-10 15:07:35                1                204   \n",
        "9         2013-01-08 11:04:35                1                310   \n",
        "10        2013-01-10 12:12:11                1                245   \n",
        "11        2013-01-10 16:22:03                2                324   \n",
        "12        2013-01-05 21:38:20                2                587   \n",
        "13        2013-01-13 04:35:00                1                300   \n",
        "14        2013-01-13 04:38:00                1               1320   \n",
        "15        2013-01-13 04:44:00                1                600   \n",
        "16        2013-01-13 04:39:00                4                840   \n",
        "17        2013-01-13 04:42:00                1                480   \n",
        "18        2013-01-13 04:45:00                1                300   \n",
        "19        2013-01-13 04:48:00                1                660   \n",
        "20        2013-01-13 04:45:00                1               1860   \n",
        "21        2013-01-13 04:46:00                5                480   \n",
        "22        2013-01-13 04:57:00                1                420   \n",
        "23        2013-01-13 11:12:00                1                420   \n",
        "24        2013-01-13 11:06:00                6                360   \n",
        "25        2013-01-13 11:08:00                5                180   \n",
        "26        2013-01-13 11:08:00                2                480   \n",
        "27        2013-01-13 11:13:00                1                120   \n",
        "28        2013-01-13 04:37:00                2                180   \n",
        "29        2013-01-13 11:07:00                1                 60   \n",
        "...                       ...              ...                ...   \n",
        "13876585  2013-01-07 07:59:01                2                661   \n",
        "13876586  2013-01-07 09:13:33                1                296   \n",
        "13876587  2013-01-07 23:54:43                1                415   \n",
        "13876588  2013-01-08 15:24:18                2                794   \n",
        "13876589  2013-01-08 08:35:12                1                588   \n",
        "13876590  2013-01-08 02:55:20                3               1063   \n",
        "13876591  2013-01-10 08:14:24                1                687   \n",
        "13876592  2013-01-10 15:09:03                1                527   \n",
        "13876593  2013-01-07 23:43:22                2               1608   \n",
        "13876594  2013-01-08 03:17:28                1                739   \n",
        "13876595  2013-01-07 18:11:41                1               1035   \n",
        "13876596  2013-01-10 08:53:25                1                637   \n",
        "13876597  2013-01-07 20:10:23                1                555   \n",
        "13876598  2013-01-07 22:17:36                2                939   \n",
        "13876599  2013-01-07 19:51:22                1                179   \n",
        "13876600  2013-01-08 00:33:41                1                442   \n",
        "13876601  2013-01-07 20:07:02                1                585   \n",
        "13876602  2013-01-07 19:02:03                1                686   \n",
        "13876603  2013-01-07 21:50:30                1                224   \n",
        "13876604  2013-01-07 21:54:57                1                 82   \n",
        "13876605  2013-01-07 08:19:39                1               3032   \n",
        "13876606  2013-01-07 14:42:14                1                711   \n",
        "13876607  2013-01-10 11:05:52                1                545   \n",
        "13876608  2013-01-10 15:19:10                1               1748   \n",
        "13876609  2013-01-05 09:05:56                1                458   \n",
        "13876610  2013-01-06 05:11:24                1                781   \n",
        "13876611  2013-01-08 14:50:27                1                503   \n",
        "13876612  2013-01-10 13:34:45                1                321   \n",
        "13876613  2013-01-06 16:42:26                1                730   \n",
        "13876614  2013-01-05 20:43:06                1                260   \n",
        "\n",
        "          trip_distance  pickup_longitude  pickup_latitude  dropoff_longitude  \\\n",
        "0                  2.10        -73.976250        40.748528         -74.002586   \n",
        "1                 10.70        -73.989937        40.756775         -73.865250   \n",
        "2                  1.70        -73.962120        40.769737         -73.979561   \n",
        "3                 17.50        -73.783310        40.648766         -73.988914   \n",
        "4                  1.10        -73.978439        40.764679         -73.977684   \n",
        "5                  1.50        -73.992111        40.689701         -74.007156   \n",
        "6                  6.50        -73.976318        40.682724         -73.917915   \n",
        "7                  1.00        -73.958649        40.768791         -73.970909   \n",
        "8                  0.70        -73.980118        40.754601         -73.988045   \n",
        "9                  0.60        -73.960358        40.769138         -73.961914   \n",
        "10                 0.80        -73.987953        40.761723         -73.989838   \n",
        "11                 1.10        -74.006844        40.741451         -73.994499   \n",
        "12                 2.90        -73.966156        40.764412         -73.973183   \n",
        "13                 2.10        -73.963219        40.761696         -73.978546   \n",
        "14                 6.82        -73.998161        40.735420         -73.920761   \n",
        "15                 1.73        -73.960197        40.757877         -73.985802   \n",
        "16                 4.81        -73.987656        40.732533         -73.975540   \n",
        "17                 1.52        -73.990540        40.761196         -73.982239   \n",
        "18                 1.33        -73.993446        40.721489         -73.985611   \n",
        "19                 2.90        -73.988518        40.720043         -73.990250   \n",
        "20                 5.71        -73.988808        40.722042         -73.920624   \n",
        "21                 1.92        -73.971642        40.762630         -73.997894   \n",
        "22                 2.50        -73.983078        40.693710         -74.005981   \n",
        "23                 1.59        -73.988136        40.716904         -73.984009   \n",
        "24                 1.02        -73.993469        40.742283         -73.983749   \n",
        "25                 0.88        -73.960136        40.776108         -73.965454   \n",
        "26                 1.34        -73.980530        40.688324         -73.973228   \n",
        "27                 0.29        -73.968491        40.767395         -73.966881   \n",
        "28                 0.75        -73.913818        40.765591         -73.905411   \n",
        "29                 0.61        -73.991760        40.726768         -73.991760   \n",
        "...                 ...               ...              ...                ...   \n",
        "13876585           2.90        -73.982841        40.755905         -74.005470   \n",
        "13876586           0.50        -73.976494        40.751560         -73.982880   \n",
        "13876587           1.50        -73.995262        40.743820         -73.987274   \n",
        "13876588           2.10        -73.969620        40.763390         -73.979118   \n",
        "13876589           1.20        -73.965637        40.774376         -73.977936   \n",
        "13876590           8.70        -74.003082        40.739986         -73.937691   \n",
        "13876591           2.70        -73.992874        40.758064         -73.979675   \n",
        "13876592           0.70        -73.974838        40.761784         -73.985031   \n",
        "13876593          13.70        -73.982948        40.750858         -74.033707   \n",
        "13876594           4.30        -73.987808        40.732471         -73.943024   \n",
        "13876595           2.90        -73.996529        40.732380         -73.966507   \n",
        "13876596           1.10        -73.971596        40.750374         -73.972160   \n",
        "13876597           1.70        -73.988129        40.769798         -73.977654   \n",
        "13876598           6.00        -73.984634        40.718761         -73.981766   \n",
        "13876599           0.50        -73.972740        40.792896         -73.967850   \n",
        "13876600           2.20        -74.006546        40.739670         -73.982872   \n",
        "13876601           4.00        -74.014114        40.706306         -74.002693   \n",
        "13876602           2.20        -73.989914        40.736874         -74.009033   \n",
        "13876603           0.90        -73.961113        40.765106         -73.959839   \n",
        "13876604           0.50        -73.964081        40.770279         -73.958977   \n",
        "13876605          21.30        -73.776794        40.645775         -74.010933   \n",
        "13876606           1.40        -73.946114        40.801075         -73.966530   \n",
        "13876607           1.40        -73.975410        40.759106         -73.961830   \n",
        "13876608           4.00        -73.957344        40.785732         -73.994942   \n",
        "13876609           3.20        -73.998901        40.734509         -73.966820   \n",
        "13876610           3.30        -73.989029        40.759327         -73.953743   \n",
        "13876611           1.00        -73.993042        40.733990         -73.982483   \n",
        "13876612           0.90        -73.979553        40.785011         -73.968262   \n",
        "13876613           1.30        -73.968002        40.762161         -73.985992   \n",
        "13876614           0.80        -73.982224        40.766670         -73.989212   \n",
        "\n",
        "          dropoff_latitude  \n",
        "0                40.747868  \n",
        "1                40.770630  \n",
        "2                40.755390  \n",
        "3                40.748207  \n",
        "4                40.777004  \n",
        "5                40.679295  \n",
        "6                40.742664  \n",
        "7                40.761490  \n",
        "8                40.748962  \n",
        "9                40.775684  \n",
        "10               40.756985  \n",
        "11               40.750610  \n",
        "12               40.792542  \n",
        "13               40.740952  \n",
        "14               40.766708  \n",
        "15               40.767826  \n",
        "16               40.786926  \n",
        "17               40.774769  \n",
        "18               40.738251  \n",
        "19               40.750816  \n",
        "20               40.688431  \n",
        "21               40.722618  \n",
        "22               40.714344  \n",
        "23               40.725426  \n",
        "24               40.746761  \n",
        "25               40.765976  \n",
        "26               40.677776  \n",
        "27               40.769661  \n",
        "28               40.772457  \n",
        "29               40.726768  \n",
        "...                    ...  \n",
        "13876585         40.720100  \n",
        "13876586         40.755569  \n",
        "13876587         40.729321  \n",
        "13876588         40.784794  \n",
        "13876589         40.759560  \n",
        "13876590         40.838692  \n",
        "13876591         40.733341  \n",
        "13876592         40.758156  \n",
        "13876593         40.617203  \n",
        "13876594         40.705822  \n",
        "13876595         40.760593  \n",
        "13876596         40.763680  \n",
        "13876597         40.753460  \n",
        "13876598         40.675709  \n",
        "13876599         40.800568  \n",
        "13876600         40.756832  \n",
        "13876601         40.760006  \n",
        "13876602         40.716122  \n",
        "13876603         40.776237  \n",
        "13876604         40.777237  \n",
        "13876605         40.704960  \n",
        "13876606         40.805023  \n",
        "13876607         40.776527  \n",
        "13876608         40.742931  \n",
        "13876609         40.770138  \n",
        "13876610         40.770672  \n",
        "13876611         40.724823  \n",
        "13876612         40.788158  \n",
        "13876613         40.770542  \n",
        "13876614         40.773636  \n",
        "\n",
        "[13876615 rows x 14 columns]"
       ]
      }
     ],
     "prompt_number": 36
    },
    {
     "cell_type": "heading",
     "level": 2,
     "metadata": {},
     "source": [
      "Step 4. Check detailed statistics for a single column"
     ]
    },
    {
     "cell_type": "heading",
     "level": 4,
     "metadata": {},
     "source": [
      "Check categorical variable vendor_id"
     ]
    },
    {
     "cell_type": "code",
     "collapsed": false,
     "input": [
      "vendor_id_levels = df1['vendor_id'].unique()\n",
      "vendor_id_levels"
     ],
     "language": "python",
     "metadata": {},
     "outputs": [
      {
       "metadata": {},
       "output_type": "pyout",
       "prompt_number": 195,
       "text": [
        "array(['VTS', 'CMT'], dtype=object)"
       ]
      }
     ],
     "prompt_number": 195
    },
    {
     "cell_type": "heading",
     "level": 4,
     "metadata": {},
     "source": [
      "Show the distribution of different levels"
     ]
    },
    {
     "cell_type": "code",
     "collapsed": false,
     "input": [
      "df1['vendor_id'].value_counts()"
     ],
     "language": "python",
     "metadata": {},
     "outputs": [
      {
       "metadata": {},
       "output_type": "pyout",
       "prompt_number": 196,
       "text": [
        "VTS    216595\n",
        "CMT    211279\n",
        "dtype: int64"
       ]
      }
     ],
     "prompt_number": 196
    },
    {
     "cell_type": "heading",
     "level": 4,
     "metadata": {},
     "source": [
      "Show the number of different levels and without sorting levels"
     ]
    },
    {
     "cell_type": "code",
     "collapsed": false,
     "input": [
      "pd.value_counts(df1['vendor_id'], sort=False)"
     ],
     "language": "python",
     "metadata": {},
     "outputs": [
      {
       "metadata": {},
       "output_type": "pyout",
       "prompt_number": 197,
       "text": [
        "CMT    211279\n",
        "VTS    216595\n",
        "dtype: int64"
       ]
      }
     ],
     "prompt_number": 197
    },
    {
     "cell_type": "heading",
     "level": 4,
     "metadata": {},
     "source": [
      "Show the mode of vendor_id"
     ]
    },
    {
     "cell_type": "code",
     "collapsed": false,
     "input": [
      "df1['vendor_id'].mode()"
     ],
     "language": "python",
     "metadata": {},
     "outputs": [
      {
       "metadata": {},
       "output_type": "pyout",
       "prompt_number": 198,
       "text": [
        "0    VTS\n",
        "dtype: object"
       ]
      }
     ],
     "prompt_number": 198
    },
    {
     "cell_type": "heading",
     "level": 4,
     "metadata": {},
     "source": [
      "Show the distribution in bar chart"
     ]
    },
    {
     "cell_type": "code",
     "collapsed": false,
     "input": [
      "df1['vendor_id'].value_counts().plot(kind='bar')"
     ],
     "language": "python",
     "metadata": {},
     "outputs": [
      {
       "metadata": {},
       "output_type": "pyout",
       "prompt_number": 312,
       "text": [
        "<matplotlib.axes._subplots.AxesSubplot at 0x7c4aebe0>"
       ]
      },
      {
       "metadata": {},
       "output_type": "display_data",
       "png": "[encoded data removed]",
       "text": [
        "<matplotlib.figure.Figure at 0x7c4b97f0>"
       ]
      }
     ],
     "prompt_number": 312
    },
    {
     "cell_type": "heading",
     "level": 4,
     "metadata": {},
     "source": [
      "Check categorical variable rate_code"
     ]
    },
    {
     "cell_type": "code",
     "collapsed": false,
     "input": [
      "df1['rate_code'].value_counts()"
     ],
     "language": "python",
     "metadata": {},
     "outputs": [
      {
       "metadata": {},
       "output_type": "pyout",
       "prompt_number": 313,
       "text": [
        "1      174882\n",
        "2        2831\n",
        "5         501\n",
        "3         228\n",
        "4         109\n",
        "0          31\n",
        "6           2\n",
        "dtype: int64"
       ]
      }
     ],
     "prompt_number": 313
    },
    {
     "cell_type": "heading",
     "level": 4,
     "metadata": {},
     "source": [
      "Show the mode of rate_code"
     ]
    },
    {
     "cell_type": "code",
     "collapsed": false,
     "input": [
      "df1['rate_code'].mode()"
     ],
     "language": "python",
     "metadata": {},
     "outputs": [
      {
       "metadata": {},
       "output_type": "pyout",
       "prompt_number": 201,
       "text": [
        "0    1  \n",
        "dtype: object"
       ]
      }
     ],
     "prompt_number": 201
    },
    {
     "cell_type": "heading",
     "level": 4,
     "metadata": {},
     "source": [
      "Show the corresponding bar chart"
     ]
    },
    {
     "cell_type": "code",
     "collapsed": false,
     "input": [
      "df1['rate_code'].value_counts().plot(kind='bar')"
     ],
     "language": "python",
     "metadata": {},
     "outputs": [
      {
       "metadata": {},
       "output_type": "pyout",
       "prompt_number": 314,
       "text": [
        "<matplotlib.axes._subplots.AxesSubplot at 0x7c7524e0>"
       ]
      },
      {
       "metadata": {},
       "output_type": "display_data",
       "png": "[encoded data removed]",
       "text": [
        "<matplotlib.figure.Figure at 0x7f156a20>"
       ]
      }
     ],
     "prompt_number": 314
    },
    {
     "cell_type": "heading",
     "level": 4,
     "metadata": {},
     "source": [
      "Show the bar chart in log scale"
     ]
    },
    {
     "cell_type": "code",
     "collapsed": false,
     "input": [
      "np.log(df1['rate_code'].value_counts()).plot(kind='bar')"
     ],
     "language": "python",
     "metadata": {},
     "outputs": [
      {
       "metadata": {},
       "output_type": "pyout",
       "prompt_number": 315,
       "text": [
        "<matplotlib.axes._subplots.AxesSubplot at 0xf902e320>"
       ]
      },
      {
       "metadata": {},
       "output_type": "display_data",
       "png": "[encoded data removed]",
       "text": [
        "<matplotlib.figure.Figure at 0x7c48de10>"
       ]
      }
     ],
     "prompt_number": 315
    },
    {
     "cell_type": "heading",
     "level": 4,
     "metadata": {},
     "source": [
      "Check numeric variable passenger_count"
     ]
    },
    {
     "cell_type": "code",
     "collapsed": false,
     "input": [
      "df1['passenger_count'].describe()"
     ],
     "language": "python",
     "metadata": {},
     "outputs": [
      {
       "metadata": {},
       "output_type": "pyout",
       "prompt_number": 204,
       "text": [
        "count    427874.000000\n",
        "mean          1.712883\n",
        "std           1.385289\n",
        "min           0.000000\n",
        "25%           1.000000\n",
        "50%           1.000000\n",
        "75%           2.000000\n",
        "max           6.000000\n",
        "Name: passenger_count, dtype: float64"
       ]
      }
     ],
     "prompt_number": 204
    },
    {
     "cell_type": "code",
     "collapsed": false,
     "input": [
      "df1['passenger_count'].value_counts()"
     ],
     "language": "python",
     "metadata": {},
     "outputs": [
      {
       "metadata": {},
       "output_type": "pyout",
       "prompt_number": 205,
       "text": [
        "1    302189\n",
        "2     57176\n",
        "5     25817\n",
        "3     17234\n",
        "6     16897\n",
        "4      8547\n",
        "0        14\n",
        "dtype: int64"
       ]
      }
     ],
     "prompt_number": 205
    },
    {
     "cell_type": "heading",
     "level": 4,
     "metadata": {},
     "source": [
      "Plot the histogram of the passenger_count (after log scale)"
     ]
    },
    {
     "cell_type": "code",
     "collapsed": false,
     "input": [
      "np.log(df1['passenger_count']+1).hist(bins=50)"
     ],
     "language": "python",
     "metadata": {},
     "outputs": [
      {
       "metadata": {},
       "output_type": "pyout",
       "prompt_number": 206,
       "text": [
        "<matplotlib.axes._subplots.AxesSubplot at 0x8634cf98>"
       ]
      },
      {
       "metadata": {},
       "output_type": "display_data",
       "png": "[encoded data removed]",
       "text": [
        "<matplotlib.figure.Figure at 0x406ff160>"
       ]
      }
     ],
     "prompt_number": 206
    },
    {
     "cell_type": "heading",
     "level": 4,
     "metadata": {},
     "source": [
      "Check numeric variable trip_time_in_secs"
     ]
    },
    {
     "cell_type": "code",
     "collapsed": false,
     "input": [
      "df1['trip_time_in_secs'].describe()"
     ],
     "language": "python",
     "metadata": {},
     "outputs": [
      {
       "metadata": {},
       "output_type": "pyout",
       "prompt_number": 207,
       "text": [
        "count     427874.000000\n",
        "mean         792.785100\n",
        "std        13040.447046\n",
        "min          -10.000000\n",
        "25%          360.000000\n",
        "50%          600.000000\n",
        "75%          960.000000\n",
        "max      4293550.000000\n",
        "Name: trip_time_in_secs, dtype: float64"
       ]
      }
     ],
     "prompt_number": 207
    },
    {
     "cell_type": "heading",
     "level": 4,
     "metadata": {},
     "source": [
      "Plot the histogram of trip_time_in_secs"
     ]
    },
    {
     "cell_type": "code",
     "collapsed": false,
     "input": [
      "df1['trip_time_in_secs'].hist(bins=50)"
     ],
     "language": "python",
     "metadata": {},
     "outputs": [
      {
       "metadata": {},
       "output_type": "pyout",
       "prompt_number": 208,
       "text": [
        "<matplotlib.axes._subplots.AxesSubplot at 0x61b24c88>"
       ]
      },
      {
       "metadata": {},
       "output_type": "display_data",
       "png": "[encoded data removed]",
       "text": [
        "<matplotlib.figure.Figure at 0x8634cf28>"
       ]
      }
     ],
     "prompt_number": 208
    },
    {
     "cell_type": "heading",
     "level": 4,
     "metadata": {},
     "source": [
      "Plot the kernel density estimate of trip_time_in_secs"
     ]
    },
    {
     "cell_type": "markdown",
     "metadata": {},
     "source": [
      "Since plotting the kernel density estimate is relatively slow, we sample the data to draw it; you can change the sampling ratio as necessary."
     ]
    },
    {
     "cell_type": "code",
     "collapsed": false,
     "input": [
      "sample_ratio = 0.01"
     ],
     "language": "python",
     "metadata": {},
     "outputs": [],
     "prompt_number": 254
    },
    {
     "cell_type": "code",
     "collapsed": false,
     "input": [
      "sample_size = np.round(df1.shape[0] * sample_ratio)\n",
      "sample_rows = np.random.choice(df1.index.values, sample_size)\n",
      "df1_sample = df1.ix[sample_rows]"
     ],
     "language": "python",
     "metadata": {},
     "outputs": [],
     "prompt_number": 255
    },
    {
     "cell_type": "code",
     "collapsed": false,
     "input": [
      "df1_sample.shape"
     ],
     "language": "python",
     "metadata": {},
     "outputs": [
      {
       "metadata": {},
       "output_type": "pyout",
       "prompt_number": 256,
       "text": [
        "(4279, 14)"
       ]
      }
     ],
     "prompt_number": 256
    },
    {
     "cell_type": "heading",
     "level": 4,
     "metadata": {},
     "source": [
      "Draw the kernel density estimate for the column trip_time_in_secs in df1_sample"
     ]
    },
    {
     "cell_type": "code",
     "collapsed": false,
     "input": [
      "df1_sample['trip_time_in_secs'].plot(kind='kde', style='b-')"
     ],
     "language": "python",
     "metadata": {},
     "outputs": [
      {
       "metadata": {},
       "output_type": "pyout",
       "prompt_number": 257,
       "text": [
        "<matplotlib.axes._subplots.AxesSubplot at 0x54dacac8>"
       ]
      },
      {
       "metadata": {},
       "output_type": "display_data",
       "png": "[encoded data removed]",
       "text": [
        "<matplotlib.figure.Figure at 0x54dac588>"
       ]
      }
     ],
     "prompt_number": 257
    },
    {
     "cell_type": "heading",
     "level": 4,
     "metadata": {},
     "source": [
      "Show histogram and kernel density estimate plot simultaneously"
     ]
    },
    {
     "cell_type": "code",
     "collapsed": false,
     "input": [
      "df1_sample['trip_time_in_secs'].hist(bins=50, color='k', normed=True)\n",
      "df1_sample['trip_time_in_secs'].plot(kind='kde', style='b-')"
     ],
     "language": "python",
     "metadata": {},
     "outputs": [
      {
       "metadata": {},
       "output_type": "pyout",
       "prompt_number": 258,
       "text": [
        "<matplotlib.axes._subplots.AxesSubplot at 0x54db7780>"
       ]
      },
      {
       "metadata": {},
       "output_type": "display_data",
       "png": "[encoded data removed]",
       "text": [
        "<matplotlib.figure.Figure at 0x551cf550>"
       ]
      }
     ],
     "prompt_number": 258
    },
    {
     "cell_type": "heading",
     "level": 4,
     "metadata": {},
     "source": [
      "Or we can show two plots together, but each one is a separate subplot"
     ]
    },
    {
     "cell_type": "code",
     "collapsed": false,
     "input": [
      "fig = plt.figure()\n",
      "ax1 = fig.add_subplot(1,2,1)\n",
      "ax2 = fig.add_subplot(1,2,2)\n",
      "df1_sample['trip_time_in_secs'].plot(ax=ax1,kind='kde', style='b-')\n",
      "df1_sample['trip_time_in_secs'].hist(ax=ax2, bins=50, color='k')"
     ],
     "language": "python",
     "metadata": {},
     "outputs": [
      {
       "metadata": {},
       "output_type": "pyout",
       "prompt_number": 259,
       "text": [
        "<matplotlib.axes._subplots.AxesSubplot at 0x55fc79b0>"
       ]
      },
      {
       "metadata": {},
       "output_type": "display_data",
       "png": "[encoded data removed]",
       "text": [
        "<matplotlib.figure.Figure at 0x56143e80>"
       ]
      }
     ],
     "prompt_number": 259
    },
    {
     "cell_type": "heading",
     "level": 4,
     "metadata": {},
     "source": [
      "Compare histograms of df1 and df1_sample"
     ]
    },
    {
     "cell_type": "code",
     "collapsed": false,
     "input": [
      "fig = plt.figure()\n",
      "ax1 = fig.add_subplot(1,2,1)\n",
      "ax2 = fig.add_subplot(1,2,2)\n",
      "df1['trip_time_in_secs'].hist(ax=ax1, bins=50, color='b')\n",
      "df1_sample['trip_time_in_secs'].hist(ax=ax2, bins=50, color='k')"
     ],
     "language": "python",
     "metadata": {},
     "outputs": [
      {
       "metadata": {},
       "output_type": "pyout",
       "prompt_number": 260,
       "text": [
        "<matplotlib.axes._subplots.AxesSubplot at 0x60773630>"
       ]
      },
      {
       "metadata": {},
       "output_type": "display_data",
       "png": "[encoded data removed]",
       "text": [
        "<matplotlib.figure.Figure at 0x59c619e8>"
       ]
      }
     ],
     "prompt_number": 260
    },
    {
     "cell_type": "heading",
     "level": 4,
     "metadata": {},
     "source": [
      "In the following we show sum basic functions to compute statistics"
     ]
    },
    {
     "cell_type": "code",
     "collapsed": false,
     "input": [
      "df1['trip_time_in_secs'].mean()"
     ],
     "language": "python",
     "metadata": {},
     "outputs": [
      {
       "metadata": {},
       "output_type": "pyout",
       "prompt_number": 261,
       "text": [
        "792.78510028653295"
       ]
      }
     ],
     "prompt_number": 261
    },
    {
     "cell_type": "code",
     "collapsed": false,
     "input": [
      "df1['trip_time_in_secs'].median()"
     ],
     "language": "python",
     "metadata": {},
     "outputs": [
      {
       "metadata": {},
       "output_type": "pyout",
       "prompt_number": 262,
       "text": [
        "600.0"
       ]
      }
     ],
     "prompt_number": 262
    },
    {
     "cell_type": "code",
     "collapsed": false,
     "input": [
      "df1['trip_time_in_secs'].std()"
     ],
     "language": "python",
     "metadata": {},
     "outputs": [
      {
       "metadata": {},
       "output_type": "pyout",
       "prompt_number": 263,
       "text": [
        "13040.447046029065"
       ]
      }
     ],
     "prompt_number": 263
    },
    {
     "cell_type": "code",
     "collapsed": false,
     "input": [
      "df1['trip_time_in_secs'].skew()"
     ],
     "language": "python",
     "metadata": {},
     "outputs": [
      {
       "metadata": {},
       "output_type": "pyout",
       "prompt_number": 264,
       "text": [
        "326.18267205046061"
       ]
      }
     ],
     "prompt_number": 264
    },
    {
     "cell_type": "code",
     "collapsed": false,
     "input": [
      "df1['trip_time_in_secs'].sum()"
     ],
     "language": "python",
     "metadata": {},
     "outputs": [
      {
       "metadata": {},
       "output_type": "pyout",
       "prompt_number": 265,
       "text": [
        "339212132"
       ]
      }
     ],
     "prompt_number": 265
    },
    {
     "cell_type": "code",
     "collapsed": false,
     "input": [
      "df1['trip_time_in_secs'].var()"
     ],
     "language": "python",
     "metadata": {},
     "outputs": [
      {
       "metadata": {},
       "output_type": "pyout",
       "prompt_number": 266,
       "text": [
        "170053259.16028816"
       ]
      }
     ],
     "prompt_number": 266
    },
    {
     "cell_type": "code",
     "collapsed": false,
     "input": [
      "df1['trip_time_in_secs'].quantile(0.25)"
     ],
     "language": "python",
     "metadata": {},
     "outputs": [
      {
       "metadata": {},
       "output_type": "pyout",
       "prompt_number": 267,
       "text": [
        "360.0"
       ]
      }
     ],
     "prompt_number": 267
    },
    {
     "cell_type": "code",
     "collapsed": false,
     "input": [
      "df1['trip_time_in_secs'].quantile(0.05)"
     ],
     "language": "python",
     "metadata": {},
     "outputs": [
      {
       "metadata": {},
       "output_type": "pyout",
       "prompt_number": 268,
       "text": [
        "180.0"
       ]
      }
     ],
     "prompt_number": 268
    },
    {
     "cell_type": "heading",
     "level": 4,
     "metadata": {},
     "source": [
      "Check numeric variable trip_distance"
     ]
    },
    {
     "cell_type": "code",
     "collapsed": false,
     "input": [
      "df1['trip_distance'].describe()"
     ],
     "language": "python",
     "metadata": {},
     "outputs": [
      {
       "metadata": {},
       "output_type": "pyout",
       "prompt_number": 269,
       "text": [
        "count    427874.000000\n",
        "mean          2.884994\n",
        "std           3.387445\n",
        "min           0.000000\n",
        "25%           1.030000\n",
        "50%           1.790000\n",
        "75%           3.200000\n",
        "max         151.000000\n",
        "Name: trip_distance, dtype: float64"
       ]
      }
     ],
     "prompt_number": 269
    },
    {
     "cell_type": "heading",
     "level": 4,
     "metadata": {},
     "source": [
      "Draw boxplot"
     ]
    },
    {
     "cell_type": "code",
     "collapsed": false,
     "input": [
      "df1.boxplot(column='trip_distance',return_type='dict')"
     ],
     "language": "python",
     "metadata": {},
     "outputs": [
      {
       "metadata": {},
       "output_type": "pyout",
       "prompt_number": 270,
       "text": [
        "{'boxes': [<matplotlib.lines.Line2D at 0x5d524cf8>],\n",
        " 'caps': [<matplotlib.lines.Line2D at 0x5d533978>,\n",
        "  <matplotlib.lines.Line2D at 0x5d533ef0>],\n",
        " 'fliers': [<matplotlib.lines.Line2D at 0x5d803a20>],\n",
        " 'means': [],\n",
        " 'medians': [<matplotlib.lines.Line2D at 0x5d8034a8>],\n",
        " 'whiskers': [<matplotlib.lines.Line2D at 0x5d524cc0>,\n",
        "  <matplotlib.lines.Line2D at 0x5d533400>]}"
       ]
      },
      {
       "metadata": {},
       "output_type": "display_data",
       "png": "[encoded data removed]",
       "text": [
        "<matplotlib.figure.Figure at 0x551cf7f0>"
       ]
      }
     ],
     "prompt_number": 270
    },
    {
     "cell_type": "markdown",
     "metadata": {},
     "source": [
      "Show the distribution of trip_distance by showing two plots together. We also use df1_sample since kde plot drawing ins slow"
     ]
    },
    {
     "cell_type": "code",
     "collapsed": false,
     "input": [
      "fig = plt.figure()\n",
      "ax1 = fig.add_subplot(1,2,1)\n",
      "ax2 = fig.add_subplot(1,2,2)\n",
      "df1_sample['trip_distance'].plot(ax=ax1,kind='kde', style='b-')\n",
      "df1_sample['trip_distance'].hist(ax=ax2, bins=100, color='k')"
     ],
     "language": "python",
     "metadata": {},
     "outputs": [
      {
       "metadata": {},
       "output_type": "pyout",
       "prompt_number": 271,
       "text": [
        "<matplotlib.axes._subplots.AxesSubplot at 0x551cfeb8>"
       ]
      },
      {
       "metadata": {},
       "output_type": "display_data",
       "png": "[encoded data removed]",
       "text": [
        "<matplotlib.figure.Figure at 0x5b813d30>"
       ]
      }
     ],
     "prompt_number": 271
    },
    {
     "cell_type": "heading",
     "level": 4,
     "metadata": {},
     "source": [
      "Calculate the number of trip_distance in different groups"
     ]
    },
    {
     "cell_type": "code",
     "collapsed": false,
     "input": [
      "trip_dist_bins = [0, 1, 2, 4, 10, 1000]\n",
      "df1['trip_distance']\n",
      "trip_dist_bin_id = pd.cut(df1['trip_distance'], trip_dist_bins)\n",
      "trip_dist_bin_id"
     ],
     "language": "python",
     "metadata": {},
     "outputs": [
      {
       "metadata": {},
       "output_type": "pyout",
       "prompt_number": 272,
       "text": [
        "0         (2, 4]\n",
        "1         (0, 1]\n",
        "2         (0, 1]\n",
        "3         (0, 1]\n",
        "4         (2, 4]\n",
        "5         (0, 1]\n",
        "6         (2, 4]\n",
        "7         (2, 4]\n",
        "8     (10, 1000]\n",
        "9         (1, 2]\n",
        "10        (2, 4]\n",
        "11        (1, 2]\n",
        "12        (2, 4]\n",
        "13        (0, 1]\n",
        "14        (1, 2]\n",
        "...\n",
        "427859    (4, 10]\n",
        "427860     (0, 1]\n",
        "427861     (1, 2]\n",
        "427862     (1, 2]\n",
        "427863     (0, 1]\n",
        "427864     (1, 2]\n",
        "427865     (1, 2]\n",
        "427866    (4, 10]\n",
        "427867     (0, 1]\n",
        "427868     (0, 1]\n",
        "427869     (0, 1]\n",
        "427870     (0, 1]\n",
        "427871     (1, 2]\n",
        "427872     (0, 1]\n",
        "427873     (0, 1]\n",
        "Name: trip_distance, Length: 427874, dtype: category\n",
        "Categories (5, object): [(0, 1] < (1, 2] < (2, 4] < (4, 10] < (10, 1000]]"
       ]
      }
     ],
     "prompt_number": 272
    },
    {
     "cell_type": "code",
     "collapsed": false,
     "input": [
      "trip_dist_bin_id.value_counts()"
     ],
     "language": "python",
     "metadata": {},
     "outputs": [
      {
       "metadata": {},
       "output_type": "pyout",
       "prompt_number": 273,
       "text": [
        "(1, 2]        138075\n",
        "(2, 4]        107363\n",
        "(0, 1]        101569\n",
        "(4, 10]        57611\n",
        "(10, 1000]     20380\n",
        "dtype: int64"
       ]
      }
     ],
     "prompt_number": 273
    },
    {
     "cell_type": "code",
     "collapsed": false,
     "input": [
      "trip_dist_bin_id.value_counts().plot(kind='bar')"
     ],
     "language": "python",
     "metadata": {},
     "outputs": [
      {
       "metadata": {},
       "output_type": "pyout",
       "prompt_number": 274,
       "text": [
        "<matplotlib.axes._subplots.AxesSubplot at 0x5d005390>"
       ]
      },
      {
       "metadata": {},
       "output_type": "display_data",
       "png": "[encoded data removed]",
       "text": [
        "<matplotlib.figure.Figure at 0x5b18fcf8>"
       ]
      }
     ],
     "prompt_number": 274
    },
    {
     "cell_type": "code",
     "collapsed": false,
     "input": [
      "trip_dist_bin_id.value_counts().plot(kind='line')"
     ],
     "language": "python",
     "metadata": {},
     "outputs": [
      {
       "metadata": {},
       "output_type": "pyout",
       "prompt_number": 275,
       "text": [
        "<matplotlib.axes._subplots.AxesSubplot at 0x5d69b710>"
       ]
      },
      {
       "metadata": {},
       "output_type": "display_data",
       "png": "[encoded data removed]",
       "text": [
        "<matplotlib.figure.Figure at 0x62c465c0>"
       ]
      }
     ],
     "prompt_number": 275
    },
    {
     "cell_type": "heading",
     "level": 2,
     "metadata": {},
     "source": [
      "Step 5. Explore the relationship between two or more columns"
     ]
    },
    {
     "cell_type": "heading",
     "level": 4,
     "metadata": {},
     "source": [
      "Explore the relationship between trip_time_in_secs and trip_distance using scatter plot"
     ]
    },
    {
     "cell_type": "code",
     "collapsed": false,
     "input": [
      "plt.scatter(df1['trip_time_in_secs'], df1['trip_distance'])"
     ],
     "language": "python",
     "metadata": {},
     "outputs": [
      {
       "metadata": {},
       "output_type": "pyout",
       "prompt_number": 276,
       "text": [
        "<matplotlib.collections.PathCollection at 0x63e27f98>"
       ]
      },
      {
       "metadata": {},
       "output_type": "display_data",
       "png": "[encoded data removed]",
       "text": [
        "<matplotlib.figure.Figure at 0x633eeba8>"
       ]
      }
     ],
     "prompt_number": 276
    },
    {
     "cell_type": "heading",
     "level": 4,
     "metadata": {},
     "source": [
      "Plot histograms and scatter plots simultaneously "
     ]
    },
    {
     "cell_type": "code",
     "collapsed": false,
     "input": [
      "df1_2col = df1[['trip_time_in_secs','trip_distance']]\n",
      "pd.scatter_matrix(df1_2col, diagonal='hist', color='b', alpha=0.7, hist_kwds={'bins':100})"
     ],
     "language": "python",
     "metadata": {},
     "outputs": [
      {
       "metadata": {},
       "output_type": "pyout",
       "prompt_number": 277,
       "text": [
        "array([[<matplotlib.axes._subplots.AxesSubplot object at 0x0000000063B6A320>,\n",
        "        <matplotlib.axes._subplots.AxesSubplot object at 0x0000000064635198>],\n",
        "       [<matplotlib.axes._subplots.AxesSubplot object at 0x0000000064EFD780>,\n",
        "        <matplotlib.axes._subplots.AxesSubplot object at 0x000000006541FBE0>]], dtype=object)"
       ]
      },
      {
       "metadata": {},
       "output_type": "display_data",
       "png": "[encoded data removed]",
       "text": [
        "<matplotlib.figure.Figure at 0x63e439e8>"
       ]
      }
     ],
     "prompt_number": 277
    },
    {
     "cell_type": "heading",
     "level": 4,
     "metadata": {},
     "source": [
      "Replace the diagonal plots as kde on the sampled data set (we do not do it on the original data data as kde plot drawing is relatively slow)"
     ]
    },
    {
     "cell_type": "code",
     "collapsed": false,
     "input": [
      "df1_sample_2col = df1_sample[['trip_time_in_secs','trip_distance']]\n",
      "pd.scatter_matrix(df1_sample_2col, diagonal='kde', color='b', alpha=0.7)"
     ],
     "language": "python",
     "metadata": {},
     "outputs": [
      {
       "metadata": {},
       "output_type": "pyout",
       "prompt_number": 278,
       "text": [
        "array([[<matplotlib.axes._subplots.AxesSubplot object at 0x0000000068DD58D0>,\n",
        "        <matplotlib.axes._subplots.AxesSubplot object at 0x0000000069D056D8>],\n",
        "       [<matplotlib.axes._subplots.AxesSubplot object at 0x000000006A2319B0>,\n",
        "        <matplotlib.axes._subplots.AxesSubplot object at 0x000000006A393898>]], dtype=object)"
       ]
      },
      {
       "metadata": {},
       "output_type": "display_data",
       "png": "[encoded data removed]",
       "text": [
        "<matplotlib.figure.Figure at 0x68df4908>"
       ]
      }
     ],
     "prompt_number": 278
    },
    {
     "cell_type": "heading",
     "level": 4,
     "metadata": {},
     "source": [
      "Explore the relationship between rate_code and trip_distance using scatter plot"
     ]
    },
    {
     "cell_type": "code",
     "collapsed": false,
     "input": [
      "plt.scatter(df1['passenger_count'], df1['trip_distance'])"
     ],
     "language": "python",
     "metadata": {},
     "outputs": [
      {
       "metadata": {},
       "output_type": "pyout",
       "prompt_number": 279,
       "text": [
        "<matplotlib.collections.PathCollection at 0x6c2e6198>"
       ]
      },
      {
       "metadata": {},
       "output_type": "display_data",
       "png": "[encoded data removed]",
       "text": [
        "<matplotlib.figure.Figure at 0x6bb4b668>"
       ]
      }
     ],
     "prompt_number": 279
    },
    {
     "cell_type": "heading",
     "level": 4,
     "metadata": {},
     "source": [
      "Explore multiple columns simultaneously using scatter plot and histogram and kde"
     ]
    },
    {
     "cell_type": "code",
     "collapsed": false,
     "input": [
      "df1_sample_3col = df1_sample[['passenger_count', 'trip_time_in_secs', 'trip_distance']]"
     ],
     "language": "python",
     "metadata": {},
     "outputs": [],
     "prompt_number": 280
    },
    {
     "cell_type": "code",
     "collapsed": false,
     "input": [
      "pd.scatter_matrix(df1_sample_3col, diagonal='hist', color='r', alpha=0.7, hist_kwds={'bins':100})"
     ],
     "language": "python",
     "metadata": {},
     "outputs": [
      {
       "metadata": {},
       "output_type": "pyout",
       "prompt_number": 281,
       "text": [
        "array([[<matplotlib.axes._subplots.AxesSubplot object at 0x0000000063E4E048>,\n",
        "        <matplotlib.axes._subplots.AxesSubplot object at 0x000000005889E0B8>,\n",
        "        <matplotlib.axes._subplots.AxesSubplot object at 0x000000006D054828>],\n",
        "       [<matplotlib.axes._subplots.AxesSubplot object at 0x000000006D3C05F8>,\n",
        "        <matplotlib.axes._subplots.AxesSubplot object at 0x000000006DB7CE48>,\n",
        "        <matplotlib.axes._subplots.AxesSubplot object at 0x000000006DD06588>],\n",
        "       [<matplotlib.axes._subplots.AxesSubplot object at 0x000000006E5C4080>,\n",
        "        <matplotlib.axes._subplots.AxesSubplot object at 0x000000006EABF978>,\n",
        "        <matplotlib.axes._subplots.AxesSubplot object at 0x000000006EDE75F8>]], dtype=object)"
       ]
      },
      {
       "metadata": {},
       "output_type": "display_data",
       "png": "[encoded data removed]",
       "text": [
        "<matplotlib.figure.Figure at 0x6c3003c8>"
       ]
      }
     ],
     "prompt_number": 281
    },
    {
     "cell_type": "code",
     "collapsed": false,
     "input": [
      "pd.scatter_matrix(df1_sample_3col, diagonal='kde', color='r', alpha=0.7)"
     ],
     "language": "python",
     "metadata": {},
     "outputs": [
      {
       "metadata": {},
       "output_type": "pyout",
       "prompt_number": 282,
       "text": [
        "array([[<matplotlib.axes._subplots.AxesSubplot object at 0x00000000704A2D68>,\n",
        "        <matplotlib.axes._subplots.AxesSubplot object at 0x0000000076EB1FD0>,\n",
        "        <matplotlib.axes._subplots.AxesSubplot object at 0x0000000076D59390>],\n",
        "       [<matplotlib.axes._subplots.AxesSubplot object at 0x000000007828F048>,\n",
        "        <matplotlib.axes._subplots.AxesSubplot object at 0x00000000785C2B70>,\n",
        "        <matplotlib.axes._subplots.AxesSubplot object at 0x00000000788A3B70>],\n",
        "       [<matplotlib.axes._subplots.AxesSubplot object at 0x0000000078D39CC0>,\n",
        "        <matplotlib.axes._subplots.AxesSubplot object at 0x00000000795446D8>,\n",
        "        <matplotlib.axes._subplots.AxesSubplot object at 0x000000007996E7B8>]], dtype=object)"
       ]
      },
      {
       "metadata": {},
       "output_type": "display_data",
       "png": "[encoded data removed]",
       "text": [
        "<matplotlib.figure.Figure at 0x6fd1b278>"
       ]
      }
     ],
     "prompt_number": 282
    },
    {
     "cell_type": "heading",
     "level": 4,
     "metadata": {},
     "source": [
      "Compute the correlation between trip_time_in_secs and trip_distance"
     ]
    },
    {
     "cell_type": "code",
     "collapsed": false,
     "input": [
      "df1[['trip_time_in_secs', 'trip_distance']].corr()"
     ],
     "language": "python",
     "metadata": {},
     "outputs": [
      {
       "html": [
        "<div style=\"max-height:1000px;max-width:1500px;overflow:auto;\">\n",
        "<table border=\"1\" class=\"dataframe\">\n",
        "  <thead>\n",
        "    <tr style=\"text-align: right;\">\n",
        "      <th></th>\n",
        "      <th>trip_time_in_secs</th>\n",
        "      <th>trip_distance</th>\n",
        "    </tr>\n",
        "  </thead>\n",
        "  <tbody>\n",
        "    <tr>\n",
        "      <th>trip_time_in_secs</th>\n",
        "      <td> 1.000000</td>\n",
        "      <td> 0.035442</td>\n",
        "    </tr>\n",
        "    <tr>\n",
        "      <th>trip_distance</th>\n",
        "      <td> 0.035442</td>\n",
        "      <td> 1.000000</td>\n",
        "    </tr>\n",
        "  </tbody>\n",
        "</table>\n",
        "</div>"
       ],
       "metadata": {},
       "output_type": "pyout",
       "prompt_number": 283,
       "text": [
        "                   trip_time_in_secs  trip_distance\n",
        "trip_time_in_secs           1.000000       0.035442\n",
        "trip_distance               0.035442       1.000000"
       ]
      }
     ],
     "prompt_number": 283
    },
    {
     "cell_type": "heading",
     "level": 4,
     "metadata": {},
     "source": [
      "Compute the correlation involving 3 variables: trip_time_in_secs, trip_distance, and passenger_count"
     ]
    },
    {
     "cell_type": "code",
     "collapsed": false,
     "input": [
      "df1[['trip_time_in_secs', 'trip_distance', 'passenger_count']].corr()"
     ],
     "language": "python",
     "metadata": {},
     "outputs": [
      {
       "html": [
        "<div style=\"max-height:1000px;max-width:1500px;overflow:auto;\">\n",
        "<table border=\"1\" class=\"dataframe\">\n",
        "  <thead>\n",
        "    <tr style=\"text-align: right;\">\n",
        "      <th></th>\n",
        "      <th>trip_time_in_secs</th>\n",
        "      <th>trip_distance</th>\n",
        "      <th>passenger_count</th>\n",
        "    </tr>\n",
        "  </thead>\n",
        "  <tbody>\n",
        "    <tr>\n",
        "      <th>trip_time_in_secs</th>\n",
        "      <td> 1.000000</td>\n",
        "      <td> 0.035442</td>\n",
        "      <td> 0.001735</td>\n",
        "    </tr>\n",
        "    <tr>\n",
        "      <th>trip_distance</th>\n",
        "      <td> 0.035442</td>\n",
        "      <td> 1.000000</td>\n",
        "      <td> 0.016970</td>\n",
        "    </tr>\n",
        "    <tr>\n",
        "      <th>passenger_count</th>\n",
        "      <td> 0.001735</td>\n",
        "      <td> 0.016970</td>\n",
        "      <td> 1.000000</td>\n",
        "    </tr>\n",
        "  </tbody>\n",
        "</table>\n",
        "</div>"
       ],
       "metadata": {},
       "output_type": "pyout",
       "prompt_number": 284,
       "text": [
        "                   trip_time_in_secs  trip_distance  passenger_count\n",
        "trip_time_in_secs           1.000000       0.035442         0.001735\n",
        "trip_distance               0.035442       1.000000         0.016970\n",
        "passenger_count             0.001735       0.016970         1.000000"
       ]
      }
     ],
     "prompt_number": 284
    },
    {
     "cell_type": "heading",
     "level": 4,
     "metadata": {},
     "source": [
      "Compute the covariance between trip_time_in_secs and trip_distance"
     ]
    },
    {
     "cell_type": "code",
     "collapsed": false,
     "input": [
      "df1[['trip_time_in_secs', 'trip_distance']].cov()"
     ],
     "language": "python",
     "metadata": {},
     "outputs": [
      {
       "html": [
        "<div style=\"max-height:1000px;max-width:1500px;overflow:auto;\">\n",
        "<table border=\"1\" class=\"dataframe\">\n",
        "  <thead>\n",
        "    <tr style=\"text-align: right;\">\n",
        "      <th></th>\n",
        "      <th>trip_time_in_secs</th>\n",
        "      <th>trip_distance</th>\n",
        "    </tr>\n",
        "  </thead>\n",
        "  <tbody>\n",
        "    <tr>\n",
        "      <th>trip_time_in_secs</th>\n",
        "      <td> 1.700533e+08</td>\n",
        "      <td> 1565.614772</td>\n",
        "    </tr>\n",
        "    <tr>\n",
        "      <th>trip_distance</th>\n",
        "      <td> 1.565615e+03</td>\n",
        "      <td>   11.474782</td>\n",
        "    </tr>\n",
        "  </tbody>\n",
        "</table>\n",
        "</div>"
       ],
       "metadata": {},
       "output_type": "pyout",
       "prompt_number": 285,
       "text": [
        "                   trip_time_in_secs  trip_distance\n",
        "trip_time_in_secs       1.700533e+08    1565.614772\n",
        "trip_distance           1.565615e+03      11.474782"
       ]
      }
     ],
     "prompt_number": 285
    },
    {
     "cell_type": "heading",
     "level": 4,
     "metadata": {},
     "source": [
      "Compute the covariance involving 3 variables"
     ]
    },
    {
     "cell_type": "code",
     "collapsed": false,
     "input": [
      "df1[['trip_time_in_secs', 'trip_distance', 'passenger_count']].cov()"
     ],
     "language": "python",
     "metadata": {},
     "outputs": [
      {
       "html": [
        "<div style=\"max-height:1000px;max-width:1500px;overflow:auto;\">\n",
        "<table border=\"1\" class=\"dataframe\">\n",
        "  <thead>\n",
        "    <tr style=\"text-align: right;\">\n",
        "      <th></th>\n",
        "      <th>trip_time_in_secs</th>\n",
        "      <th>trip_distance</th>\n",
        "      <th>passenger_count</th>\n",
        "    </tr>\n",
        "  </thead>\n",
        "  <tbody>\n",
        "    <tr>\n",
        "      <th>trip_time_in_secs</th>\n",
        "      <td> 1.700533e+08</td>\n",
        "      <td> 1565.614772</td>\n",
        "      <td> 31.343987</td>\n",
        "    </tr>\n",
        "    <tr>\n",
        "      <th>trip_distance</th>\n",
        "      <td> 1.565615e+03</td>\n",
        "      <td>   11.474782</td>\n",
        "      <td>  0.079632</td>\n",
        "    </tr>\n",
        "    <tr>\n",
        "      <th>passenger_count</th>\n",
        "      <td> 3.134399e+01</td>\n",
        "      <td>    0.079632</td>\n",
        "      <td>  1.919027</td>\n",
        "    </tr>\n",
        "  </tbody>\n",
        "</table>\n",
        "</div>"
       ],
       "metadata": {},
       "output_type": "pyout",
       "prompt_number": 286,
       "text": [
        "                   trip_time_in_secs  trip_distance  passenger_count\n",
        "trip_time_in_secs       1.700533e+08    1565.614772        31.343987\n",
        "trip_distance           1.565615e+03      11.474782         0.079632\n",
        "passenger_count         3.134399e+01       0.079632         1.919027"
       ]
      }
     ],
     "prompt_number": 286
    },
    {
     "cell_type": "heading",
     "level": 4,
     "metadata": {},
     "source": [
      "Explore the relationship between trip_time_in_secs and passenger_count"
     ]
    },
    {
     "cell_type": "code",
     "collapsed": false,
     "input": [
      "df1['passenger_count'].value_counts()"
     ],
     "language": "python",
     "metadata": {},
     "outputs": [
      {
       "metadata": {},
       "output_type": "pyout",
       "prompt_number": 287,
       "text": [
        "1    302189\n",
        "2     57176\n",
        "5     25817\n",
        "3     17234\n",
        "6     16897\n",
        "4      8547\n",
        "0        14\n",
        "dtype: int64"
       ]
      }
     ],
     "prompt_number": 287
    },
    {
     "cell_type": "code",
     "collapsed": false,
     "input": [
      "df1.boxplot(column='trip_time_in_secs', by='passenger_count')"
     ],
     "language": "python",
     "metadata": {},
     "outputs": [
      {
       "metadata": {},
       "output_type": "pyout",
       "prompt_number": 288,
       "text": [
        "<matplotlib.axes._subplots.AxesSubplot at 0x7ad59c50>"
       ]
      },
      {
       "metadata": {},
       "output_type": "display_data",
       "png": "[encoded data removed]",
       "text": [
        "<matplotlib.figure.Figure at 0x7a5dbf98>"
       ]
      }
     ],
     "prompt_number": 288
    },
    {
     "cell_type": "heading",
     "level": 4,
     "metadata": {},
     "source": [
      "Explore the relationship between trip_distance and passenger_count"
     ]
    },
    {
     "cell_type": "code",
     "collapsed": false,
     "input": [
      "df1.boxplot(column='trip_distance', by='passenger_count')"
     ],
     "language": "python",
     "metadata": {},
     "outputs": [
      {
       "metadata": {},
       "output_type": "pyout",
       "prompt_number": 289,
       "text": [
        "<matplotlib.axes._subplots.AxesSubplot at 0x8778f5f8>"
       ]
      },
      {
       "metadata": {},
       "output_type": "display_data",
       "png": "[encoded data removed]",
       "text": [
        "<matplotlib.figure.Figure at 0x8778fda0>"
       ]
      }
     ],
     "prompt_number": 289
    },
    {
     "cell_type": "heading",
     "level": 4,
     "metadata": {},
     "source": [
      "Check the sum of passengers for each vendor"
     ]
    },
    {
     "cell_type": "code",
     "collapsed": false,
     "input": [
      "vendor_passenger_sum = df1.groupby('vendor_id').passenger_count.sum()\n",
      "print vendor_passenger_sum"
     ],
     "language": "python",
     "metadata": {},
     "outputs": [
      {
       "output_type": "stream",
       "stream": "stdout",
       "text": [
        "vendor_id\n",
        "CMT          271363\n",
        "VTS          461535\n",
        "Name: passenger_count, dtype: int64\n"
       ]
      }
     ],
     "prompt_number": 290
    },
    {
     "cell_type": "code",
     "collapsed": false,
     "input": [
      "vendor_passenger_sum.plot(kind='bar')"
     ],
     "language": "python",
     "metadata": {},
     "outputs": [
      {
       "metadata": {},
       "output_type": "pyout",
       "prompt_number": 291,
       "text": [
        "<matplotlib.axes._subplots.AxesSubplot at 0x7f74d0b8>"
       ]
      },
      {
       "metadata": {},
       "output_type": "display_data",
       "png": "[encoded data removed]",
       "text": [
        "<matplotlib.figure.Figure at 0x7b83b6d8>"
       ]
      }
     ],
     "prompt_number": 291
    },
    {
     "cell_type": "heading",
     "level": 2,
     "metadata": {},
     "source": [
      "Step 6. Simple Feature engineering"
     ]
    },
    {
     "cell_type": "heading",
     "level": 4,
     "metadata": {},
     "source": [
      "Convert categorical features to a sequence of dummy features"
     ]
    },
    {
     "cell_type": "code",
     "collapsed": false,
     "input": [
      "df1['rate_code'].value_counts()"
     ],
     "language": "python",
     "metadata": {},
     "outputs": [
      {
       "metadata": {},
       "output_type": "pyout",
       "prompt_number": 37,
       "text": [
        "1      13577293\n",
        "2        223149\n",
        "5         36822\n",
        "4         21851\n",
        "3         16492\n",
        "0           667\n",
        "6           311\n",
        "210          11\n",
        "8             9\n",
        "128           4\n",
        "28            2\n",
        "7             2\n",
        "65            1\n",
        "9             1\n",
        "dtype: int64"
       ]
      }
     ],
     "prompt_number": 37
    },
    {
     "cell_type": "code",
     "collapsed": false,
     "input": [
      "df1_rate_code_dummy = pd.get_dummies(df1['rate_code'], prefix='rate_code_dummy')\n",
      "df1_rate_code_dummy.head()"
     ],
     "language": "python",
     "metadata": {},
     "outputs": [
      {
       "html": [
        "<div style=\"max-height:1000px;max-width:1500px;overflow:auto;\">\n",
        "<table border=\"1\" class=\"dataframe\">\n",
        "  <thead>\n",
        "    <tr style=\"text-align: right;\">\n",
        "      <th></th>\n",
        "      <th>rate_code_dummy_0</th>\n",
        "      <th>rate_code_dummy_1</th>\n",
        "      <th>rate_code_dummy_2</th>\n",
        "      <th>rate_code_dummy_3</th>\n",
        "      <th>rate_code_dummy_4</th>\n",
        "      <th>rate_code_dummy_5</th>\n",
        "      <th>rate_code_dummy_6</th>\n",
        "      <th>rate_code_dummy_7</th>\n",
        "      <th>rate_code_dummy_8</th>\n",
        "      <th>rate_code_dummy_9</th>\n",
        "      <th>rate_code_dummy_28</th>\n",
        "      <th>rate_code_dummy_65</th>\n",
        "      <th>rate_code_dummy_128</th>\n",
        "      <th>rate_code_dummy_210</th>\n",
        "    </tr>\n",
        "  </thead>\n",
        "  <tbody>\n",
        "    <tr>\n",
        "      <th>0</th>\n",
        "      <td> 0</td>\n",
        "      <td> 1</td>\n",
        "      <td> 0</td>\n",
        "      <td> 0</td>\n",
        "      <td> 0</td>\n",
        "      <td> 0</td>\n",
        "      <td> 0</td>\n",
        "      <td> 0</td>\n",
        "      <td> 0</td>\n",
        "      <td> 0</td>\n",
        "      <td> 0</td>\n",
        "      <td> 0</td>\n",
        "      <td> 0</td>\n",
        "      <td> 0</td>\n",
        "    </tr>\n",
        "    <tr>\n",
        "      <th>1</th>\n",
        "      <td> 0</td>\n",
        "      <td> 1</td>\n",
        "      <td> 0</td>\n",
        "      <td> 0</td>\n",
        "      <td> 0</td>\n",
        "      <td> 0</td>\n",
        "      <td> 0</td>\n",
        "      <td> 0</td>\n",
        "      <td> 0</td>\n",
        "      <td> 0</td>\n",
        "      <td> 0</td>\n",
        "      <td> 0</td>\n",
        "      <td> 0</td>\n",
        "      <td> 0</td>\n",
        "    </tr>\n",
        "    <tr>\n",
        "      <th>2</th>\n",
        "      <td> 0</td>\n",
        "      <td> 1</td>\n",
        "      <td> 0</td>\n",
        "      <td> 0</td>\n",
        "      <td> 0</td>\n",
        "      <td> 0</td>\n",
        "      <td> 0</td>\n",
        "      <td> 0</td>\n",
        "      <td> 0</td>\n",
        "      <td> 0</td>\n",
        "      <td> 0</td>\n",
        "      <td> 0</td>\n",
        "      <td> 0</td>\n",
        "      <td> 0</td>\n",
        "    </tr>\n",
        "    <tr>\n",
        "      <th>3</th>\n",
        "      <td> 0</td>\n",
        "      <td> 0</td>\n",
        "      <td> 1</td>\n",
        "      <td> 0</td>\n",
        "      <td> 0</td>\n",
        "      <td> 0</td>\n",
        "      <td> 0</td>\n",
        "      <td> 0</td>\n",
        "      <td> 0</td>\n",
        "      <td> 0</td>\n",
        "      <td> 0</td>\n",
        "      <td> 0</td>\n",
        "      <td> 0</td>\n",
        "      <td> 0</td>\n",
        "    </tr>\n",
        "    <tr>\n",
        "      <th>4</th>\n",
        "      <td> 0</td>\n",
        "      <td> 1</td>\n",
        "      <td> 0</td>\n",
        "      <td> 0</td>\n",
        "      <td> 0</td>\n",
        "      <td> 0</td>\n",
        "      <td> 0</td>\n",
        "      <td> 0</td>\n",
        "      <td> 0</td>\n",
        "      <td> 0</td>\n",
        "      <td> 0</td>\n",
        "      <td> 0</td>\n",
        "      <td> 0</td>\n",
        "      <td> 0</td>\n",
        "    </tr>\n",
        "  </tbody>\n",
        "</table>\n",
        "</div>"
       ],
       "metadata": {},
       "output_type": "pyout",
       "prompt_number": 38,
       "text": [
        "   rate_code_dummy_0  rate_code_dummy_1  rate_code_dummy_2  rate_code_dummy_3  \\\n",
        "0                  0                  1                  0                  0   \n",
        "1                  0                  1                  0                  0   \n",
        "2                  0                  1                  0                  0   \n",
        "3                  0                  0                  1                  0   \n",
        "4                  0                  1                  0                  0   \n",
        "\n",
        "   rate_code_dummy_4  rate_code_dummy_5  rate_code_dummy_6  rate_code_dummy_7  \\\n",
        "0                  0                  0                  0                  0   \n",
        "1                  0                  0                  0                  0   \n",
        "2                  0                  0                  0                  0   \n",
        "3                  0                  0                  0                  0   \n",
        "4                  0                  0                  0                  0   \n",
        "\n",
        "   rate_code_dummy_8  rate_code_dummy_9  rate_code_dummy_28  \\\n",
        "0                  0                  0                   0   \n",
        "1                  0                  0                   0   \n",
        "2                  0                  0                   0   \n",
        "3                  0                  0                   0   \n",
        "4                  0                  0                   0   \n",
        "\n",
        "   rate_code_dummy_65  rate_code_dummy_128  rate_code_dummy_210  \n",
        "0                   0                    0                    0  \n",
        "1                   0                    0                    0  \n",
        "2                   0                    0                    0  \n",
        "3                   0                    0                    0  \n",
        "4                   0                    0                    0  "
       ]
      }
     ],
     "prompt_number": 38
    },
    {
     "cell_type": "heading",
     "level": 4,
     "metadata": {},
     "source": [
      "Join the dummy variables back to the original data frame"
     ]
    },
    {
     "cell_type": "code",
     "collapsed": false,
     "input": [
      "df1_with_dummy = df1.join(df1_rate_code_dummy)\n",
      "df1_with_dummy"
     ],
     "language": "python",
     "metadata": {},
     "outputs": [
      {
       "html": [
        "<div style=\"max-height:1000px;max-width:1500px;overflow:auto;\">\n",
        "<table border=\"1\" class=\"dataframe\">\n",
        "  <thead>\n",
        "    <tr style=\"text-align: right;\">\n",
        "      <th></th>\n",
        "      <th>medallion</th>\n",
        "      <th>hack_license</th>\n",
        "      <th>vendor_id</th>\n",
        "      <th>rate_code</th>\n",
        "      <th>store_and_fwd_flag</th>\n",
        "      <th>pickup_datetime</th>\n",
        "      <th>dropoff_datetime</th>\n",
        "      <th>passenger_count</th>\n",
        "      <th>trip_time_in_secs</th>\n",
        "      <th>trip_distance</th>\n",
        "      <th>...</th>\n",
        "      <th>rate_code_dummy_4</th>\n",
        "      <th>rate_code_dummy_5</th>\n",
        "      <th>rate_code_dummy_6</th>\n",
        "      <th>rate_code_dummy_7</th>\n",
        "      <th>rate_code_dummy_8</th>\n",
        "      <th>rate_code_dummy_9</th>\n",
        "      <th>rate_code_dummy_28</th>\n",
        "      <th>rate_code_dummy_65</th>\n",
        "      <th>rate_code_dummy_128</th>\n",
        "      <th>rate_code_dummy_210</th>\n",
        "    </tr>\n",
        "  </thead>\n",
        "  <tbody>\n",
        "    <tr>\n",
        "      <th>0       </th>\n",
        "      <td> DFD2202EE08F7A8DC9A57B02ACB81FE2</td>\n",
        "      <td> 51EE87E3205C985EF8431D850C786310</td>\n",
        "      <td> CMT</td>\n",
        "      <td> 1</td>\n",
        "      <td> N</td>\n",
        "      <td> 2013-01-07 23:25:03</td>\n",
        "      <td> 2013-01-07 23:34:24</td>\n",
        "      <td> 1</td>\n",
        "      <td>  560</td>\n",
        "      <td>  2.10</td>\n",
        "      <td>...</td>\n",
        "      <td> 0</td>\n",
        "      <td> 0</td>\n",
        "      <td> 0</td>\n",
        "      <td> 0</td>\n",
        "      <td> 0</td>\n",
        "      <td> 0</td>\n",
        "      <td> 0</td>\n",
        "      <td> 0</td>\n",
        "      <td> 0</td>\n",
        "      <td> 0</td>\n",
        "    </tr>\n",
        "    <tr>\n",
        "      <th>1       </th>\n",
        "      <td> 0B57B9633A2FECD3D3B1944AFC7471CF</td>\n",
        "      <td> CCD4367B417ED6634D986F573A552A62</td>\n",
        "      <td> CMT</td>\n",
        "      <td> 1</td>\n",
        "      <td> N</td>\n",
        "      <td> 2013-01-07 12:39:18</td>\n",
        "      <td> 2013-01-07 13:10:56</td>\n",
        "      <td> 3</td>\n",
        "      <td> 1898</td>\n",
        "      <td> 10.70</td>\n",
        "      <td>...</td>\n",
        "      <td> 0</td>\n",
        "      <td> 0</td>\n",
        "      <td> 0</td>\n",
        "      <td> 0</td>\n",
        "      <td> 0</td>\n",
        "      <td> 0</td>\n",
        "      <td> 0</td>\n",
        "      <td> 0</td>\n",
        "      <td> 0</td>\n",
        "      <td> 0</td>\n",
        "    </tr>\n",
        "    <tr>\n",
        "      <th>2       </th>\n",
        "      <td> E6FBF80668FE0611AEA44FD9574A7E32</td>\n",
        "      <td> 36773E80775F26CD1158EB5450A61C79</td>\n",
        "      <td> CMT</td>\n",
        "      <td> 1</td>\n",
        "      <td> N</td>\n",
        "      <td> 2013-01-07 06:08:51</td>\n",
        "      <td> 2013-01-07 06:13:14</td>\n",
        "      <td> 1</td>\n",
        "      <td>  262</td>\n",
        "      <td>  1.70</td>\n",
        "      <td>...</td>\n",
        "      <td> 0</td>\n",
        "      <td> 0</td>\n",
        "      <td> 0</td>\n",
        "      <td> 0</td>\n",
        "      <td> 0</td>\n",
        "      <td> 0</td>\n",
        "      <td> 0</td>\n",
        "      <td> 0</td>\n",
        "      <td> 0</td>\n",
        "      <td> 0</td>\n",
        "    </tr>\n",
        "    <tr>\n",
        "      <th>3       </th>\n",
        "      <td> D8AADA4E722C87C10E609654612630DD</td>\n",
        "      <td> 8F1E4F779A4D67431C3FCFA4E70A87DC</td>\n",
        "      <td> CMT</td>\n",
        "      <td> 2</td>\n",
        "      <td> N</td>\n",
        "      <td> 2013-01-10 23:41:51</td>\n",
        "      <td> 2013-01-11 00:09:11</td>\n",
        "      <td> 1</td>\n",
        "      <td> 1640</td>\n",
        "      <td> 17.50</td>\n",
        "      <td>...</td>\n",
        "      <td> 0</td>\n",
        "      <td> 0</td>\n",
        "      <td> 0</td>\n",
        "      <td> 0</td>\n",
        "      <td> 0</td>\n",
        "      <td> 0</td>\n",
        "      <td> 0</td>\n",
        "      <td> 0</td>\n",
        "      <td> 0</td>\n",
        "      <td> 0</td>\n",
        "    </tr>\n",
        "    <tr>\n",
        "      <th>4       </th>\n",
        "      <td> 4C005EEBAA7BF26B84B21586332488A2</td>\n",
        "      <td> 351BE7D984BE17DB2FA80A748E816472</td>\n",
        "      <td> CMT</td>\n",
        "      <td> 1</td>\n",
        "      <td> N</td>\n",
        "      <td> 2013-01-07 21:13:02</td>\n",
        "      <td> 2013-01-07 21:22:31</td>\n",
        "      <td> 1</td>\n",
        "      <td>  568</td>\n",
        "      <td>  1.10</td>\n",
        "      <td>...</td>\n",
        "      <td> 0</td>\n",
        "      <td> 0</td>\n",
        "      <td> 0</td>\n",
        "      <td> 0</td>\n",
        "      <td> 0</td>\n",
        "      <td> 0</td>\n",
        "      <td> 0</td>\n",
        "      <td> 0</td>\n",
        "      <td> 0</td>\n",
        "      <td> 0</td>\n",
        "    </tr>\n",
        "    <tr>\n",
        "      <th>5       </th>\n",
        "      <td> E6FBF80668FE0611AEA44FD9574A7E32</td>\n",
        "      <td> 36773E80775F26CD1158EB5450A61C79</td>\n",
        "      <td> CMT</td>\n",
        "      <td> 1</td>\n",
        "      <td> Y</td>\n",
        "      <td> 2013-01-07 08:17:06</td>\n",
        "      <td> 2013-01-07 08:22:46</td>\n",
        "      <td> 1</td>\n",
        "      <td>  340</td>\n",
        "      <td>  1.50</td>\n",
        "      <td>...</td>\n",
        "      <td> 0</td>\n",
        "      <td> 0</td>\n",
        "      <td> 0</td>\n",
        "      <td> 0</td>\n",
        "      <td> 0</td>\n",
        "      <td> 0</td>\n",
        "      <td> 0</td>\n",
        "      <td> 0</td>\n",
        "      <td> 0</td>\n",
        "      <td> 0</td>\n",
        "    </tr>\n",
        "    <tr>\n",
        "      <th>6       </th>\n",
        "      <td> F1EF8290A54338B1396DD98E38E09143</td>\n",
        "      <td> 0FDDEFAFF6FC38BD632B6DDED47DA618</td>\n",
        "      <td> CMT</td>\n",
        "      <td> 1</td>\n",
        "      <td> N</td>\n",
        "      <td> 2013-01-05 08:16:58</td>\n",
        "      <td> 2013-01-05 08:30:20</td>\n",
        "      <td> 1</td>\n",
        "      <td>  801</td>\n",
        "      <td>  6.50</td>\n",
        "      <td>...</td>\n",
        "      <td> 0</td>\n",
        "      <td> 0</td>\n",
        "      <td> 0</td>\n",
        "      <td> 0</td>\n",
        "      <td> 0</td>\n",
        "      <td> 0</td>\n",
        "      <td> 0</td>\n",
        "      <td> 0</td>\n",
        "      <td> 0</td>\n",
        "      <td> 0</td>\n",
        "    </tr>\n",
        "    <tr>\n",
        "      <th>7       </th>\n",
        "      <td> FAE1370A694D0621FAE1E62FAFD64080</td>\n",
        "      <td> 265B3D7D30A9B7AE389A2626F6825266</td>\n",
        "      <td> CMT</td>\n",
        "      <td> 1</td>\n",
        "      <td> N</td>\n",
        "      <td> 2013-01-07 10:15:19</td>\n",
        "      <td> 2013-01-07 10:20:10</td>\n",
        "      <td> 1</td>\n",
        "      <td>  290</td>\n",
        "      <td>  1.00</td>\n",
        "      <td>...</td>\n",
        "      <td> 0</td>\n",
        "      <td> 0</td>\n",
        "      <td> 0</td>\n",
        "      <td> 0</td>\n",
        "      <td> 0</td>\n",
        "      <td> 0</td>\n",
        "      <td> 0</td>\n",
        "      <td> 0</td>\n",
        "      <td> 0</td>\n",
        "      <td> 0</td>\n",
        "    </tr>\n",
        "    <tr>\n",
        "      <th>8       </th>\n",
        "      <td> 1159BD618BE1D4A90D522416A77AC29A</td>\n",
        "      <td> 9964A99249A4888E2C6AE55BA78A6F64</td>\n",
        "      <td> CMT</td>\n",
        "      <td> 1</td>\n",
        "      <td> N</td>\n",
        "      <td> 2013-01-10 15:04:11</td>\n",
        "      <td> 2013-01-10 15:07:35</td>\n",
        "      <td> 1</td>\n",
        "      <td>  204</td>\n",
        "      <td>  0.70</td>\n",
        "      <td>...</td>\n",
        "      <td> 0</td>\n",
        "      <td> 0</td>\n",
        "      <td> 0</td>\n",
        "      <td> 0</td>\n",
        "      <td> 0</td>\n",
        "      <td> 0</td>\n",
        "      <td> 0</td>\n",
        "      <td> 0</td>\n",
        "      <td> 0</td>\n",
        "      <td> 0</td>\n",
        "    </tr>\n",
        "    <tr>\n",
        "      <th>9       </th>\n",
        "      <td> 7A9728FFD700148BF60616DA97FFC3C3</td>\n",
        "      <td> D25781FA72D2C328B9F120736E6CAA68</td>\n",
        "      <td> CMT</td>\n",
        "      <td> 1</td>\n",
        "      <td> N</td>\n",
        "      <td> 2013-01-08 10:59:25</td>\n",
        "      <td> 2013-01-08 11:04:35</td>\n",
        "      <td> 1</td>\n",
        "      <td>  310</td>\n",
        "      <td>  0.60</td>\n",
        "      <td>...</td>\n",
        "      <td> 0</td>\n",
        "      <td> 0</td>\n",
        "      <td> 0</td>\n",
        "      <td> 0</td>\n",
        "      <td> 0</td>\n",
        "      <td> 0</td>\n",
        "      <td> 0</td>\n",
        "      <td> 0</td>\n",
        "      <td> 0</td>\n",
        "      <td> 0</td>\n",
        "    </tr>\n",
        "    <tr>\n",
        "      <th>10      </th>\n",
        "      <td> C6CE309A20A523E64FDCDECF150A2EC1</td>\n",
        "      <td> 3DC3C9552D190C5D26B0358C23E449A6</td>\n",
        "      <td> CMT</td>\n",
        "      <td> 1</td>\n",
        "      <td> N</td>\n",
        "      <td> 2013-01-10 12:08:05</td>\n",
        "      <td> 2013-01-10 12:12:11</td>\n",
        "      <td> 1</td>\n",
        "      <td>  245</td>\n",
        "      <td>  0.80</td>\n",
        "      <td>...</td>\n",
        "      <td> 0</td>\n",
        "      <td> 0</td>\n",
        "      <td> 0</td>\n",
        "      <td> 0</td>\n",
        "      <td> 0</td>\n",
        "      <td> 0</td>\n",
        "      <td> 0</td>\n",
        "      <td> 0</td>\n",
        "      <td> 0</td>\n",
        "      <td> 0</td>\n",
        "    </tr>\n",
        "    <tr>\n",
        "      <th>11      </th>\n",
        "      <td> 961D9C9506D105D3A7E88229F0487033</td>\n",
        "      <td> 65683B8714DEF5F783E75E8111784177</td>\n",
        "      <td> CMT</td>\n",
        "      <td> 1</td>\n",
        "      <td> N</td>\n",
        "      <td> 2013-01-10 16:16:38</td>\n",
        "      <td> 2013-01-10 16:22:03</td>\n",
        "      <td> 2</td>\n",
        "      <td>  324</td>\n",
        "      <td>  1.10</td>\n",
        "      <td>...</td>\n",
        "      <td> 0</td>\n",
        "      <td> 0</td>\n",
        "      <td> 0</td>\n",
        "      <td> 0</td>\n",
        "      <td> 0</td>\n",
        "      <td> 0</td>\n",
        "      <td> 0</td>\n",
        "      <td> 0</td>\n",
        "      <td> 0</td>\n",
        "      <td> 0</td>\n",
        "    </tr>\n",
        "    <tr>\n",
        "      <th>12      </th>\n",
        "      <td> FC82D4D00FE8AB93B2973EECB3559EA8</td>\n",
        "      <td> F554ED01B1DA0828B956446E40231C46</td>\n",
        "      <td> CMT</td>\n",
        "      <td> 1</td>\n",
        "      <td> N</td>\n",
        "      <td> 2013-01-05 21:28:33</td>\n",
        "      <td> 2013-01-05 21:38:20</td>\n",
        "      <td> 2</td>\n",
        "      <td>  587</td>\n",
        "      <td>  2.90</td>\n",
        "      <td>...</td>\n",
        "      <td> 0</td>\n",
        "      <td> 0</td>\n",
        "      <td> 0</td>\n",
        "      <td> 0</td>\n",
        "      <td> 0</td>\n",
        "      <td> 0</td>\n",
        "      <td> 0</td>\n",
        "      <td> 0</td>\n",
        "      <td> 0</td>\n",
        "      <td> 0</td>\n",
        "    </tr>\n",
        "    <tr>\n",
        "      <th>13      </th>\n",
        "      <td> 2111CFA825ECEE9430C3F075E8DC2E5A</td>\n",
        "      <td> 3B23D23383A197F51D7B27F2C22D366A</td>\n",
        "      <td> VTS</td>\n",
        "      <td> 1</td>\n",
        "      <td> M</td>\n",
        "      <td> 2013-01-13 04:30:00</td>\n",
        "      <td> 2013-01-13 04:35:00</td>\n",
        "      <td> 1</td>\n",
        "      <td>  300</td>\n",
        "      <td>  2.10</td>\n",
        "      <td>...</td>\n",
        "      <td> 0</td>\n",
        "      <td> 0</td>\n",
        "      <td> 0</td>\n",
        "      <td> 0</td>\n",
        "      <td> 0</td>\n",
        "      <td> 0</td>\n",
        "      <td> 0</td>\n",
        "      <td> 0</td>\n",
        "      <td> 0</td>\n",
        "      <td> 0</td>\n",
        "    </tr>\n",
        "    <tr>\n",
        "      <th>14      </th>\n",
        "      <td> 867892F8F81A6590EB536BE1D4F6305C</td>\n",
        "      <td> DCAFC607007FA6C88E8331014061CEEA</td>\n",
        "      <td> VTS</td>\n",
        "      <td> 1</td>\n",
        "      <td> M</td>\n",
        "      <td> 2013-01-13 04:16:00</td>\n",
        "      <td> 2013-01-13 04:38:00</td>\n",
        "      <td> 1</td>\n",
        "      <td> 1320</td>\n",
        "      <td>  6.82</td>\n",
        "      <td>...</td>\n",
        "      <td> 0</td>\n",
        "      <td> 0</td>\n",
        "      <td> 0</td>\n",
        "      <td> 0</td>\n",
        "      <td> 0</td>\n",
        "      <td> 0</td>\n",
        "      <td> 0</td>\n",
        "      <td> 0</td>\n",
        "      <td> 0</td>\n",
        "      <td> 0</td>\n",
        "    </tr>\n",
        "    <tr>\n",
        "      <th>15      </th>\n",
        "      <td> 99274EDFA48DDA7B024A6B8BCA19EAE0</td>\n",
        "      <td> F1F0BF6913FAE17744D8B8B1FAEA5363</td>\n",
        "      <td> VTS</td>\n",
        "      <td> 1</td>\n",
        "      <td> M</td>\n",
        "      <td> 2013-01-13 04:34:00</td>\n",
        "      <td> 2013-01-13 04:44:00</td>\n",
        "      <td> 1</td>\n",
        "      <td>  600</td>\n",
        "      <td>  1.73</td>\n",
        "      <td>...</td>\n",
        "      <td> 0</td>\n",
        "      <td> 0</td>\n",
        "      <td> 0</td>\n",
        "      <td> 0</td>\n",
        "      <td> 0</td>\n",
        "      <td> 0</td>\n",
        "      <td> 0</td>\n",
        "      <td> 0</td>\n",
        "      <td> 0</td>\n",
        "      <td> 0</td>\n",
        "    </tr>\n",
        "    <tr>\n",
        "      <th>16      </th>\n",
        "      <td> D111EEC901448CEE65D1DF98F4E3CE10</td>\n",
        "      <td> 8962F17FAA0A29BF05C4660AA4F4E514</td>\n",
        "      <td> VTS</td>\n",
        "      <td> 1</td>\n",
        "      <td> M</td>\n",
        "      <td> 2013-01-13 04:25:00</td>\n",
        "      <td> 2013-01-13 04:39:00</td>\n",
        "      <td> 4</td>\n",
        "      <td>  840</td>\n",
        "      <td>  4.81</td>\n",
        "      <td>...</td>\n",
        "      <td> 0</td>\n",
        "      <td> 0</td>\n",
        "      <td> 0</td>\n",
        "      <td> 0</td>\n",
        "      <td> 0</td>\n",
        "      <td> 0</td>\n",
        "      <td> 0</td>\n",
        "      <td> 0</td>\n",
        "      <td> 0</td>\n",
        "      <td> 0</td>\n",
        "    </tr>\n",
        "    <tr>\n",
        "      <th>17      </th>\n",
        "      <td> 84C5F6C940C24C55D8D7C75F3F75F14F</td>\n",
        "      <td> D48C1097AF78B31964D8DE00A4A71AC2</td>\n",
        "      <td> VTS</td>\n",
        "      <td> 1</td>\n",
        "      <td> M</td>\n",
        "      <td> 2013-01-13 04:34:00</td>\n",
        "      <td> 2013-01-13 04:42:00</td>\n",
        "      <td> 1</td>\n",
        "      <td>  480</td>\n",
        "      <td>  1.52</td>\n",
        "      <td>...</td>\n",
        "      <td> 0</td>\n",
        "      <td> 0</td>\n",
        "      <td> 0</td>\n",
        "      <td> 0</td>\n",
        "      <td> 0</td>\n",
        "      <td> 0</td>\n",
        "      <td> 0</td>\n",
        "      <td> 0</td>\n",
        "      <td> 0</td>\n",
        "      <td> 0</td>\n",
        "    </tr>\n",
        "    <tr>\n",
        "      <th>18      </th>\n",
        "      <td> ADDB6F51BFFAFA8603840526A7923A51</td>\n",
        "      <td> 93052C01A5C67ACDDB265D7038CB3B44</td>\n",
        "      <td> VTS</td>\n",
        "      <td> 1</td>\n",
        "      <td> M</td>\n",
        "      <td> 2013-01-13 04:40:00</td>\n",
        "      <td> 2013-01-13 04:45:00</td>\n",
        "      <td> 1</td>\n",
        "      <td>  300</td>\n",
        "      <td>  1.33</td>\n",
        "      <td>...</td>\n",
        "      <td> 0</td>\n",
        "      <td> 0</td>\n",
        "      <td> 0</td>\n",
        "      <td> 0</td>\n",
        "      <td> 0</td>\n",
        "      <td> 0</td>\n",
        "      <td> 0</td>\n",
        "      <td> 0</td>\n",
        "      <td> 0</td>\n",
        "      <td> 0</td>\n",
        "    </tr>\n",
        "    <tr>\n",
        "      <th>19      </th>\n",
        "      <td> 24A79226E819C16546C3634C824EAEB8</td>\n",
        "      <td> 45463936BB36B60963A6F942446AEB59</td>\n",
        "      <td> VTS</td>\n",
        "      <td> 1</td>\n",
        "      <td> M</td>\n",
        "      <td> 2013-01-13 04:37:00</td>\n",
        "      <td> 2013-01-13 04:48:00</td>\n",
        "      <td> 1</td>\n",
        "      <td>  660</td>\n",
        "      <td>  2.90</td>\n",
        "      <td>...</td>\n",
        "      <td> 0</td>\n",
        "      <td> 0</td>\n",
        "      <td> 0</td>\n",
        "      <td> 0</td>\n",
        "      <td> 0</td>\n",
        "      <td> 0</td>\n",
        "      <td> 0</td>\n",
        "      <td> 0</td>\n",
        "      <td> 0</td>\n",
        "      <td> 0</td>\n",
        "    </tr>\n",
        "    <tr>\n",
        "      <th>20      </th>\n",
        "      <td> EC05D1578FBB29AAC62505CC1683C5E4</td>\n",
        "      <td> 8FAD076F7BA2D0F5F1E32A9EB396ECC3</td>\n",
        "      <td> VTS</td>\n",
        "      <td> 1</td>\n",
        "      <td> M</td>\n",
        "      <td> 2013-01-13 04:14:00</td>\n",
        "      <td> 2013-01-13 04:45:00</td>\n",
        "      <td> 1</td>\n",
        "      <td> 1860</td>\n",
        "      <td>  5.71</td>\n",
        "      <td>...</td>\n",
        "      <td> 0</td>\n",
        "      <td> 0</td>\n",
        "      <td> 0</td>\n",
        "      <td> 0</td>\n",
        "      <td> 0</td>\n",
        "      <td> 0</td>\n",
        "      <td> 0</td>\n",
        "      <td> 0</td>\n",
        "      <td> 0</td>\n",
        "      <td> 0</td>\n",
        "    </tr>\n",
        "    <tr>\n",
        "      <th>21      </th>\n",
        "      <td> 1A052D0501F70E8A989BA6BF44A72880</td>\n",
        "      <td> 5428D441EB23C859AF5AEA63B3BB6897</td>\n",
        "      <td> VTS</td>\n",
        "      <td> 1</td>\n",
        "      <td> M</td>\n",
        "      <td> 2013-01-13 04:38:00</td>\n",
        "      <td> 2013-01-13 04:46:00</td>\n",
        "      <td> 5</td>\n",
        "      <td>  480</td>\n",
        "      <td>  1.92</td>\n",
        "      <td>...</td>\n",
        "      <td> 0</td>\n",
        "      <td> 0</td>\n",
        "      <td> 0</td>\n",
        "      <td> 0</td>\n",
        "      <td> 0</td>\n",
        "      <td> 0</td>\n",
        "      <td> 0</td>\n",
        "      <td> 0</td>\n",
        "      <td> 0</td>\n",
        "      <td> 0</td>\n",
        "    </tr>\n",
        "    <tr>\n",
        "      <th>22      </th>\n",
        "      <td> 0E2CA825AD133D022E902949D3D48128</td>\n",
        "      <td> 051E51520D3FF77D6185A9CAF4881877</td>\n",
        "      <td> VTS</td>\n",
        "      <td> 1</td>\n",
        "      <td> M</td>\n",
        "      <td> 2013-01-13 04:50:00</td>\n",
        "      <td> 2013-01-13 04:57:00</td>\n",
        "      <td> 1</td>\n",
        "      <td>  420</td>\n",
        "      <td>  2.50</td>\n",
        "      <td>...</td>\n",
        "      <td> 0</td>\n",
        "      <td> 0</td>\n",
        "      <td> 0</td>\n",
        "      <td> 0</td>\n",
        "      <td> 0</td>\n",
        "      <td> 0</td>\n",
        "      <td> 0</td>\n",
        "      <td> 0</td>\n",
        "      <td> 0</td>\n",
        "      <td> 0</td>\n",
        "    </tr>\n",
        "    <tr>\n",
        "      <th>23      </th>\n",
        "      <td> E2099162DA383A80E2EEF8D61A2612B3</td>\n",
        "      <td> A40155E00B0D5728EDB91EAB68C0A303</td>\n",
        "      <td> VTS</td>\n",
        "      <td> 1</td>\n",
        "      <td> M</td>\n",
        "      <td> 2013-01-13 11:05:00</td>\n",
        "      <td> 2013-01-13 11:12:00</td>\n",
        "      <td> 1</td>\n",
        "      <td>  420</td>\n",
        "      <td>  1.59</td>\n",
        "      <td>...</td>\n",
        "      <td> 0</td>\n",
        "      <td> 0</td>\n",
        "      <td> 0</td>\n",
        "      <td> 0</td>\n",
        "      <td> 0</td>\n",
        "      <td> 0</td>\n",
        "      <td> 0</td>\n",
        "      <td> 0</td>\n",
        "      <td> 0</td>\n",
        "      <td> 0</td>\n",
        "    </tr>\n",
        "    <tr>\n",
        "      <th>24      </th>\n",
        "      <td> 6BCA6CE04F3A2391FCA2CACC1EEB3CD3</td>\n",
        "      <td> 7C92D48CDB2FCB5B007E31ACE93CC5E9</td>\n",
        "      <td> VTS</td>\n",
        "      <td> 1</td>\n",
        "      <td> M</td>\n",
        "      <td> 2013-01-13 11:00:00</td>\n",
        "      <td> 2013-01-13 11:06:00</td>\n",
        "      <td> 6</td>\n",
        "      <td>  360</td>\n",
        "      <td>  1.02</td>\n",
        "      <td>...</td>\n",
        "      <td> 0</td>\n",
        "      <td> 0</td>\n",
        "      <td> 0</td>\n",
        "      <td> 0</td>\n",
        "      <td> 0</td>\n",
        "      <td> 0</td>\n",
        "      <td> 0</td>\n",
        "      <td> 0</td>\n",
        "      <td> 0</td>\n",
        "      <td> 0</td>\n",
        "    </tr>\n",
        "    <tr>\n",
        "      <th>25      </th>\n",
        "      <td> D4677BB37EDBA5626C026695A5384F8E</td>\n",
        "      <td> E32A7CD4BDE9EC17A2EADA7A0662D6B6</td>\n",
        "      <td> VTS</td>\n",
        "      <td> 1</td>\n",
        "      <td> M</td>\n",
        "      <td> 2013-01-13 11:05:00</td>\n",
        "      <td> 2013-01-13 11:08:00</td>\n",
        "      <td> 5</td>\n",
        "      <td>  180</td>\n",
        "      <td>  0.88</td>\n",
        "      <td>...</td>\n",
        "      <td> 0</td>\n",
        "      <td> 0</td>\n",
        "      <td> 0</td>\n",
        "      <td> 0</td>\n",
        "      <td> 0</td>\n",
        "      <td> 0</td>\n",
        "      <td> 0</td>\n",
        "      <td> 0</td>\n",
        "      <td> 0</td>\n",
        "      <td> 0</td>\n",
        "    </tr>\n",
        "    <tr>\n",
        "      <th>26      </th>\n",
        "      <td> 5562E98BA4BD4057E5626F1C64AF72B3</td>\n",
        "      <td> F4199818A317391BA1E973E0E75A279F</td>\n",
        "      <td> VTS</td>\n",
        "      <td> 1</td>\n",
        "      <td> M</td>\n",
        "      <td> 2013-01-13 11:00:00</td>\n",
        "      <td> 2013-01-13 11:08:00</td>\n",
        "      <td> 2</td>\n",
        "      <td>  480</td>\n",
        "      <td>  1.34</td>\n",
        "      <td>...</td>\n",
        "      <td> 0</td>\n",
        "      <td> 0</td>\n",
        "      <td> 0</td>\n",
        "      <td> 0</td>\n",
        "      <td> 0</td>\n",
        "      <td> 0</td>\n",
        "      <td> 0</td>\n",
        "      <td> 0</td>\n",
        "      <td> 0</td>\n",
        "      <td> 0</td>\n",
        "    </tr>\n",
        "    <tr>\n",
        "      <th>27      </th>\n",
        "      <td> 1F2826FDE3A968E90FE1D503096804AF</td>\n",
        "      <td> BAC563FFEA61AB268A755A12F2E6561F</td>\n",
        "      <td> VTS</td>\n",
        "      <td> 1</td>\n",
        "      <td> M</td>\n",
        "      <td> 2013-01-13 11:11:00</td>\n",
        "      <td> 2013-01-13 11:13:00</td>\n",
        "      <td> 1</td>\n",
        "      <td>  120</td>\n",
        "      <td>  0.29</td>\n",
        "      <td>...</td>\n",
        "      <td> 0</td>\n",
        "      <td> 0</td>\n",
        "      <td> 0</td>\n",
        "      <td> 0</td>\n",
        "      <td> 0</td>\n",
        "      <td> 0</td>\n",
        "      <td> 0</td>\n",
        "      <td> 0</td>\n",
        "      <td> 0</td>\n",
        "      <td> 0</td>\n",
        "    </tr>\n",
        "    <tr>\n",
        "      <th>28      </th>\n",
        "      <td> 891EDD34EF8DAD06FF84C2178D7FC346</td>\n",
        "      <td> BF763EFF830D208FFBB97A6FE0375896</td>\n",
        "      <td> VTS</td>\n",
        "      <td> 1</td>\n",
        "      <td> M</td>\n",
        "      <td> 2013-01-13 04:34:00</td>\n",
        "      <td> 2013-01-13 04:37:00</td>\n",
        "      <td> 2</td>\n",
        "      <td>  180</td>\n",
        "      <td>  0.75</td>\n",
        "      <td>...</td>\n",
        "      <td> 0</td>\n",
        "      <td> 0</td>\n",
        "      <td> 0</td>\n",
        "      <td> 0</td>\n",
        "      <td> 0</td>\n",
        "      <td> 0</td>\n",
        "      <td> 0</td>\n",
        "      <td> 0</td>\n",
        "      <td> 0</td>\n",
        "      <td> 0</td>\n",
        "    </tr>\n",
        "    <tr>\n",
        "      <th>29      </th>\n",
        "      <td> F5B5E83EF52481B2BAD92B1CD8FA9EC7</td>\n",
        "      <td> E3D586168AE361713191D71B8C37F9FC</td>\n",
        "      <td> VTS</td>\n",
        "      <td> 1</td>\n",
        "      <td> M</td>\n",
        "      <td> 2013-01-13 11:06:00</td>\n",
        "      <td> 2013-01-13 11:07:00</td>\n",
        "      <td> 1</td>\n",
        "      <td>   60</td>\n",
        "      <td>  0.61</td>\n",
        "      <td>...</td>\n",
        "      <td> 0</td>\n",
        "      <td> 0</td>\n",
        "      <td> 0</td>\n",
        "      <td> 0</td>\n",
        "      <td> 0</td>\n",
        "      <td> 0</td>\n",
        "      <td> 0</td>\n",
        "      <td> 0</td>\n",
        "      <td> 0</td>\n",
        "      <td> 0</td>\n",
        "    </tr>\n",
        "    <tr>\n",
        "      <th>...</th>\n",
        "      <td>...</td>\n",
        "      <td>...</td>\n",
        "      <td>...</td>\n",
        "      <td>...</td>\n",
        "      <td>...</td>\n",
        "      <td>...</td>\n",
        "      <td>...</td>\n",
        "      <td>...</td>\n",
        "      <td>...</td>\n",
        "      <td>...</td>\n",
        "      <td>...</td>\n",
        "      <td>...</td>\n",
        "      <td>...</td>\n",
        "      <td>...</td>\n",
        "      <td>...</td>\n",
        "      <td>...</td>\n",
        "      <td>...</td>\n",
        "      <td>...</td>\n",
        "      <td>...</td>\n",
        "      <td>...</td>\n",
        "      <td>...</td>\n",
        "    </tr>\n",
        "    <tr>\n",
        "      <th>13876585</th>\n",
        "      <td> 237F49C3ECC11F5024B254268F054384</td>\n",
        "      <td> 93C363DDF8ED9385D65FAD07CE3F5F07</td>\n",
        "      <td> CMT</td>\n",
        "      <td> 1</td>\n",
        "      <td> N</td>\n",
        "      <td> 2013-01-07 07:48:00</td>\n",
        "      <td> 2013-01-07 07:59:01</td>\n",
        "      <td> 2</td>\n",
        "      <td>  661</td>\n",
        "      <td>  2.90</td>\n",
        "      <td>...</td>\n",
        "      <td> 0</td>\n",
        "      <td> 0</td>\n",
        "      <td> 0</td>\n",
        "      <td> 0</td>\n",
        "      <td> 0</td>\n",
        "      <td> 0</td>\n",
        "      <td> 0</td>\n",
        "      <td> 0</td>\n",
        "      <td> 0</td>\n",
        "      <td> 0</td>\n",
        "    </tr>\n",
        "    <tr>\n",
        "      <th>13876586</th>\n",
        "      <td> 237F49C3ECC11F5024B254268F054384</td>\n",
        "      <td> 93C363DDF8ED9385D65FAD07CE3F5F07</td>\n",
        "      <td> CMT</td>\n",
        "      <td> 1</td>\n",
        "      <td> N</td>\n",
        "      <td> 2013-01-07 09:08:37</td>\n",
        "      <td> 2013-01-07 09:13:33</td>\n",
        "      <td> 1</td>\n",
        "      <td>  296</td>\n",
        "      <td>  0.50</td>\n",
        "      <td>...</td>\n",
        "      <td> 0</td>\n",
        "      <td> 0</td>\n",
        "      <td> 0</td>\n",
        "      <td> 0</td>\n",
        "      <td> 0</td>\n",
        "      <td> 0</td>\n",
        "      <td> 0</td>\n",
        "      <td> 0</td>\n",
        "      <td> 0</td>\n",
        "      <td> 0</td>\n",
        "    </tr>\n",
        "    <tr>\n",
        "      <th>13876587</th>\n",
        "      <td> 4C005EEBAA7BF26B84B21586332488A2</td>\n",
        "      <td> 351BE7D984BE17DB2FA80A748E816472</td>\n",
        "      <td> CMT</td>\n",
        "      <td> 1</td>\n",
        "      <td> N</td>\n",
        "      <td> 2013-01-07 23:47:47</td>\n",
        "      <td> 2013-01-07 23:54:43</td>\n",
        "      <td> 1</td>\n",
        "      <td>  415</td>\n",
        "      <td>  1.50</td>\n",
        "      <td>...</td>\n",
        "      <td> 0</td>\n",
        "      <td> 0</td>\n",
        "      <td> 0</td>\n",
        "      <td> 0</td>\n",
        "      <td> 0</td>\n",
        "      <td> 0</td>\n",
        "      <td> 0</td>\n",
        "      <td> 0</td>\n",
        "      <td> 0</td>\n",
        "      <td> 0</td>\n",
        "    </tr>\n",
        "    <tr>\n",
        "      <th>13876588</th>\n",
        "      <td> 32D306FD3A4D7CEDCFD8D644294DD5B7</td>\n",
        "      <td> 05EACD5B806FC3D01A377606D37CF327</td>\n",
        "      <td> CMT</td>\n",
        "      <td> 1</td>\n",
        "      <td> N</td>\n",
        "      <td> 2013-01-08 15:11:04</td>\n",
        "      <td> 2013-01-08 15:24:18</td>\n",
        "      <td> 2</td>\n",
        "      <td>  794</td>\n",
        "      <td>  2.10</td>\n",
        "      <td>...</td>\n",
        "      <td> 0</td>\n",
        "      <td> 0</td>\n",
        "      <td> 0</td>\n",
        "      <td> 0</td>\n",
        "      <td> 0</td>\n",
        "      <td> 0</td>\n",
        "      <td> 0</td>\n",
        "      <td> 0</td>\n",
        "      <td> 0</td>\n",
        "      <td> 0</td>\n",
        "    </tr>\n",
        "    <tr>\n",
        "      <th>13876589</th>\n",
        "      <td> 32D306FD3A4D7CEDCFD8D644294DD5B7</td>\n",
        "      <td> 05EACD5B806FC3D01A377606D37CF327</td>\n",
        "      <td> CMT</td>\n",
        "      <td> 1</td>\n",
        "      <td> N</td>\n",
        "      <td> 2013-01-08 08:25:24</td>\n",
        "      <td> 2013-01-08 08:35:12</td>\n",
        "      <td> 1</td>\n",
        "      <td>  588</td>\n",
        "      <td>  1.20</td>\n",
        "      <td>...</td>\n",
        "      <td> 0</td>\n",
        "      <td> 0</td>\n",
        "      <td> 0</td>\n",
        "      <td> 0</td>\n",
        "      <td> 0</td>\n",
        "      <td> 0</td>\n",
        "      <td> 0</td>\n",
        "      <td> 0</td>\n",
        "      <td> 0</td>\n",
        "      <td> 0</td>\n",
        "    </tr>\n",
        "    <tr>\n",
        "      <th>13876590</th>\n",
        "      <td> 50296A056AF5D221536DC98ABB1E3274</td>\n",
        "      <td> 4F3E6D0E69CABD8954F8A126D54C5C20</td>\n",
        "      <td> CMT</td>\n",
        "      <td> 1</td>\n",
        "      <td> N</td>\n",
        "      <td> 2013-01-08 02:37:37</td>\n",
        "      <td> 2013-01-08 02:55:20</td>\n",
        "      <td> 3</td>\n",
        "      <td> 1063</td>\n",
        "      <td>  8.70</td>\n",
        "      <td>...</td>\n",
        "      <td> 0</td>\n",
        "      <td> 0</td>\n",
        "      <td> 0</td>\n",
        "      <td> 0</td>\n",
        "      <td> 0</td>\n",
        "      <td> 0</td>\n",
        "      <td> 0</td>\n",
        "      <td> 0</td>\n",
        "      <td> 0</td>\n",
        "      <td> 0</td>\n",
        "    </tr>\n",
        "    <tr>\n",
        "      <th>13876591</th>\n",
        "      <td> C6CE309A20A523E64FDCDECF150A2EC1</td>\n",
        "      <td> 3DC3C9552D190C5D26B0358C23E449A6</td>\n",
        "      <td> CMT</td>\n",
        "      <td> 1</td>\n",
        "      <td> N</td>\n",
        "      <td> 2013-01-10 08:02:56</td>\n",
        "      <td> 2013-01-10 08:14:24</td>\n",
        "      <td> 1</td>\n",
        "      <td>  687</td>\n",
        "      <td>  2.70</td>\n",
        "      <td>...</td>\n",
        "      <td> 0</td>\n",
        "      <td> 0</td>\n",
        "      <td> 0</td>\n",
        "      <td> 0</td>\n",
        "      <td> 0</td>\n",
        "      <td> 0</td>\n",
        "      <td> 0</td>\n",
        "      <td> 0</td>\n",
        "      <td> 0</td>\n",
        "      <td> 0</td>\n",
        "    </tr>\n",
        "    <tr>\n",
        "      <th>13876592</th>\n",
        "      <td> C6CE309A20A523E64FDCDECF150A2EC1</td>\n",
        "      <td> 3DC3C9552D190C5D26B0358C23E449A6</td>\n",
        "      <td> CMT</td>\n",
        "      <td> 1</td>\n",
        "      <td> N</td>\n",
        "      <td> 2013-01-10 15:00:16</td>\n",
        "      <td> 2013-01-10 15:09:03</td>\n",
        "      <td> 1</td>\n",
        "      <td>  527</td>\n",
        "      <td>  0.70</td>\n",
        "      <td>...</td>\n",
        "      <td> 0</td>\n",
        "      <td> 0</td>\n",
        "      <td> 0</td>\n",
        "      <td> 0</td>\n",
        "      <td> 0</td>\n",
        "      <td> 0</td>\n",
        "      <td> 0</td>\n",
        "      <td> 0</td>\n",
        "      <td> 0</td>\n",
        "      <td> 0</td>\n",
        "    </tr>\n",
        "    <tr>\n",
        "      <th>13876593</th>\n",
        "      <td> 5E162F2D7F569949769648C56A23C525</td>\n",
        "      <td> 6F7932F2B112DAABF1F2A385FE2AB819</td>\n",
        "      <td> CMT</td>\n",
        "      <td> 1</td>\n",
        "      <td> N</td>\n",
        "      <td> 2013-01-07 23:16:34</td>\n",
        "      <td> 2013-01-07 23:43:22</td>\n",
        "      <td> 2</td>\n",
        "      <td> 1608</td>\n",
        "      <td> 13.70</td>\n",
        "      <td>...</td>\n",
        "      <td> 0</td>\n",
        "      <td> 0</td>\n",
        "      <td> 0</td>\n",
        "      <td> 0</td>\n",
        "      <td> 0</td>\n",
        "      <td> 0</td>\n",
        "      <td> 0</td>\n",
        "      <td> 0</td>\n",
        "      <td> 0</td>\n",
        "      <td> 0</td>\n",
        "    </tr>\n",
        "    <tr>\n",
        "      <th>13876594</th>\n",
        "      <td> 1836E1591EE79F810104064B945747AB</td>\n",
        "      <td> 18EDD3FC80A78DC262E2442FEEA55F01</td>\n",
        "      <td> CMT</td>\n",
        "      <td> 1</td>\n",
        "      <td> N</td>\n",
        "      <td> 2013-01-08 03:05:09</td>\n",
        "      <td> 2013-01-08 03:17:28</td>\n",
        "      <td> 1</td>\n",
        "      <td>  739</td>\n",
        "      <td>  4.30</td>\n",
        "      <td>...</td>\n",
        "      <td> 0</td>\n",
        "      <td> 0</td>\n",
        "      <td> 0</td>\n",
        "      <td> 0</td>\n",
        "      <td> 0</td>\n",
        "      <td> 0</td>\n",
        "      <td> 0</td>\n",
        "      <td> 0</td>\n",
        "      <td> 0</td>\n",
        "      <td> 0</td>\n",
        "    </tr>\n",
        "    <tr>\n",
        "      <th>13876595</th>\n",
        "      <td> 1836E1591EE79F810104064B945747AB</td>\n",
        "      <td> 18EDD3FC80A78DC262E2442FEEA55F01</td>\n",
        "      <td> CMT</td>\n",
        "      <td> 1</td>\n",
        "      <td> N</td>\n",
        "      <td> 2013-01-07 17:54:25</td>\n",
        "      <td> 2013-01-07 18:11:41</td>\n",
        "      <td> 1</td>\n",
        "      <td> 1035</td>\n",
        "      <td>  2.90</td>\n",
        "      <td>...</td>\n",
        "      <td> 0</td>\n",
        "      <td> 0</td>\n",
        "      <td> 0</td>\n",
        "      <td> 0</td>\n",
        "      <td> 0</td>\n",
        "      <td> 0</td>\n",
        "      <td> 0</td>\n",
        "      <td> 0</td>\n",
        "      <td> 0</td>\n",
        "      <td> 0</td>\n",
        "    </tr>\n",
        "    <tr>\n",
        "      <th>13876596</th>\n",
        "      <td> A5A69FAD94C3DC7854F9DDEA994B6380</td>\n",
        "      <td> 178BA04DD1A4E3A184C86AA3F110A742</td>\n",
        "      <td> CMT</td>\n",
        "      <td> 1</td>\n",
        "      <td> N</td>\n",
        "      <td> 2013-01-10 08:42:47</td>\n",
        "      <td> 2013-01-10 08:53:25</td>\n",
        "      <td> 1</td>\n",
        "      <td>  637</td>\n",
        "      <td>  1.10</td>\n",
        "      <td>...</td>\n",
        "      <td> 0</td>\n",
        "      <td> 0</td>\n",
        "      <td> 0</td>\n",
        "      <td> 0</td>\n",
        "      <td> 0</td>\n",
        "      <td> 0</td>\n",
        "      <td> 0</td>\n",
        "      <td> 0</td>\n",
        "      <td> 0</td>\n",
        "      <td> 0</td>\n",
        "    </tr>\n",
        "    <tr>\n",
        "      <th>13876597</th>\n",
        "      <td> 5E162F2D7F569949769648C56A23C525</td>\n",
        "      <td> 6F7932F2B112DAABF1F2A385FE2AB819</td>\n",
        "      <td> CMT</td>\n",
        "      <td> 1</td>\n",
        "      <td> N</td>\n",
        "      <td> 2013-01-07 20:01:08</td>\n",
        "      <td> 2013-01-07 20:10:23</td>\n",
        "      <td> 1</td>\n",
        "      <td>  555</td>\n",
        "      <td>  1.70</td>\n",
        "      <td>...</td>\n",
        "      <td> 0</td>\n",
        "      <td> 0</td>\n",
        "      <td> 0</td>\n",
        "      <td> 0</td>\n",
        "      <td> 0</td>\n",
        "      <td> 0</td>\n",
        "      <td> 0</td>\n",
        "      <td> 0</td>\n",
        "      <td> 0</td>\n",
        "      <td> 0</td>\n",
        "    </tr>\n",
        "    <tr>\n",
        "      <th>13876598</th>\n",
        "      <td> B36D470B76BD8F6D720A83D08891754E</td>\n",
        "      <td> A86011E8B4D0FCC19283230950DFCB3E</td>\n",
        "      <td> CMT</td>\n",
        "      <td> 1</td>\n",
        "      <td> N</td>\n",
        "      <td> 2013-01-07 22:01:57</td>\n",
        "      <td> 2013-01-07 22:17:36</td>\n",
        "      <td> 2</td>\n",
        "      <td>  939</td>\n",
        "      <td>  6.00</td>\n",
        "      <td>...</td>\n",
        "      <td> 0</td>\n",
        "      <td> 0</td>\n",
        "      <td> 0</td>\n",
        "      <td> 0</td>\n",
        "      <td> 0</td>\n",
        "      <td> 0</td>\n",
        "      <td> 0</td>\n",
        "      <td> 0</td>\n",
        "      <td> 0</td>\n",
        "      <td> 0</td>\n",
        "    </tr>\n",
        "    <tr>\n",
        "      <th>13876599</th>\n",
        "      <td> 47CFD616C057758044C57D1B4BEFE759</td>\n",
        "      <td> A6DCBA545B1E1A2DC24BFEE1C0A54029</td>\n",
        "      <td> CMT</td>\n",
        "      <td> 1</td>\n",
        "      <td> N</td>\n",
        "      <td> 2013-01-07 19:48:22</td>\n",
        "      <td> 2013-01-07 19:51:22</td>\n",
        "      <td> 1</td>\n",
        "      <td>  179</td>\n",
        "      <td>  0.50</td>\n",
        "      <td>...</td>\n",
        "      <td> 0</td>\n",
        "      <td> 0</td>\n",
        "      <td> 0</td>\n",
        "      <td> 0</td>\n",
        "      <td> 0</td>\n",
        "      <td> 0</td>\n",
        "      <td> 0</td>\n",
        "      <td> 0</td>\n",
        "      <td> 0</td>\n",
        "      <td> 0</td>\n",
        "    </tr>\n",
        "    <tr>\n",
        "      <th>13876600</th>\n",
        "      <td> 0CC08DE5645A7137059499EA11886805</td>\n",
        "      <td> 4F2627F9FD34A9B9EFCCFC5147048345</td>\n",
        "      <td> CMT</td>\n",
        "      <td> 1</td>\n",
        "      <td> N</td>\n",
        "      <td> 2013-01-08 00:26:18</td>\n",
        "      <td> 2013-01-08 00:33:41</td>\n",
        "      <td> 1</td>\n",
        "      <td>  442</td>\n",
        "      <td>  2.20</td>\n",
        "      <td>...</td>\n",
        "      <td> 0</td>\n",
        "      <td> 0</td>\n",
        "      <td> 0</td>\n",
        "      <td> 0</td>\n",
        "      <td> 0</td>\n",
        "      <td> 0</td>\n",
        "      <td> 0</td>\n",
        "      <td> 0</td>\n",
        "      <td> 0</td>\n",
        "      <td> 0</td>\n",
        "    </tr>\n",
        "    <tr>\n",
        "      <th>13876601</th>\n",
        "      <td> 0CC08DE5645A7137059499EA11886805</td>\n",
        "      <td> 4F2627F9FD34A9B9EFCCFC5147048345</td>\n",
        "      <td> CMT</td>\n",
        "      <td> 1</td>\n",
        "      <td> N</td>\n",
        "      <td> 2013-01-07 19:57:17</td>\n",
        "      <td> 2013-01-07 20:07:02</td>\n",
        "      <td> 1</td>\n",
        "      <td>  585</td>\n",
        "      <td>  4.00</td>\n",
        "      <td>...</td>\n",
        "      <td> 0</td>\n",
        "      <td> 0</td>\n",
        "      <td> 0</td>\n",
        "      <td> 0</td>\n",
        "      <td> 0</td>\n",
        "      <td> 0</td>\n",
        "      <td> 0</td>\n",
        "      <td> 0</td>\n",
        "      <td> 0</td>\n",
        "      <td> 0</td>\n",
        "    </tr>\n",
        "    <tr>\n",
        "      <th>13876602</th>\n",
        "      <td> B7A16B1C396F4A5113257DDEB043D953</td>\n",
        "      <td> 3DC4ACD88D75EF04FBC9CCDFEEF7C71E</td>\n",
        "      <td> CMT</td>\n",
        "      <td> 1</td>\n",
        "      <td> N</td>\n",
        "      <td> 2013-01-07 18:50:36</td>\n",
        "      <td> 2013-01-07 19:02:03</td>\n",
        "      <td> 1</td>\n",
        "      <td>  686</td>\n",
        "      <td>  2.20</td>\n",
        "      <td>...</td>\n",
        "      <td> 0</td>\n",
        "      <td> 0</td>\n",
        "      <td> 0</td>\n",
        "      <td> 0</td>\n",
        "      <td> 0</td>\n",
        "      <td> 0</td>\n",
        "      <td> 0</td>\n",
        "      <td> 0</td>\n",
        "      <td> 0</td>\n",
        "      <td> 0</td>\n",
        "    </tr>\n",
        "    <tr>\n",
        "      <th>13876603</th>\n",
        "      <td> E71CDEFCB364DA0D385629612EE30642</td>\n",
        "      <td> C7259B75B62CB850082BDEB4149DC075</td>\n",
        "      <td> CMT</td>\n",
        "      <td> 1</td>\n",
        "      <td> N</td>\n",
        "      <td> 2013-01-07 21:46:45</td>\n",
        "      <td> 2013-01-07 21:50:30</td>\n",
        "      <td> 1</td>\n",
        "      <td>  224</td>\n",
        "      <td>  0.90</td>\n",
        "      <td>...</td>\n",
        "      <td> 0</td>\n",
        "      <td> 0</td>\n",
        "      <td> 0</td>\n",
        "      <td> 0</td>\n",
        "      <td> 0</td>\n",
        "      <td> 0</td>\n",
        "      <td> 0</td>\n",
        "      <td> 0</td>\n",
        "      <td> 0</td>\n",
        "      <td> 0</td>\n",
        "    </tr>\n",
        "    <tr>\n",
        "      <th>13876604</th>\n",
        "      <td> E71CDEFCB364DA0D385629612EE30642</td>\n",
        "      <td> C7259B75B62CB850082BDEB4149DC075</td>\n",
        "      <td> CMT</td>\n",
        "      <td> 1</td>\n",
        "      <td> N</td>\n",
        "      <td> 2013-01-07 21:53:35</td>\n",
        "      <td> 2013-01-07 21:54:57</td>\n",
        "      <td> 1</td>\n",
        "      <td>   82</td>\n",
        "      <td>  0.50</td>\n",
        "      <td>...</td>\n",
        "      <td> 0</td>\n",
        "      <td> 0</td>\n",
        "      <td> 0</td>\n",
        "      <td> 0</td>\n",
        "      <td> 0</td>\n",
        "      <td> 0</td>\n",
        "      <td> 0</td>\n",
        "      <td> 0</td>\n",
        "      <td> 0</td>\n",
        "      <td> 0</td>\n",
        "    </tr>\n",
        "    <tr>\n",
        "      <th>13876605</th>\n",
        "      <td> A8262FA0AFCB6C7229F6888EAFBDE076</td>\n",
        "      <td> 1BDF89260FEF1AE6FDDE839A0278D31D</td>\n",
        "      <td> CMT</td>\n",
        "      <td> 2</td>\n",
        "      <td> N</td>\n",
        "      <td> 2013-01-07 07:29:06</td>\n",
        "      <td> 2013-01-07 08:19:39</td>\n",
        "      <td> 1</td>\n",
        "      <td> 3032</td>\n",
        "      <td> 21.30</td>\n",
        "      <td>...</td>\n",
        "      <td> 0</td>\n",
        "      <td> 0</td>\n",
        "      <td> 0</td>\n",
        "      <td> 0</td>\n",
        "      <td> 0</td>\n",
        "      <td> 0</td>\n",
        "      <td> 0</td>\n",
        "      <td> 0</td>\n",
        "      <td> 0</td>\n",
        "      <td> 0</td>\n",
        "    </tr>\n",
        "    <tr>\n",
        "      <th>13876606</th>\n",
        "      <td> A8262FA0AFCB6C7229F6888EAFBDE076</td>\n",
        "      <td> 1BDF89260FEF1AE6FDDE839A0278D31D</td>\n",
        "      <td> CMT</td>\n",
        "      <td> 1</td>\n",
        "      <td> N</td>\n",
        "      <td> 2013-01-07 14:30:23</td>\n",
        "      <td> 2013-01-07 14:42:14</td>\n",
        "      <td> 1</td>\n",
        "      <td>  711</td>\n",
        "      <td>  1.40</td>\n",
        "      <td>...</td>\n",
        "      <td> 0</td>\n",
        "      <td> 0</td>\n",
        "      <td> 0</td>\n",
        "      <td> 0</td>\n",
        "      <td> 0</td>\n",
        "      <td> 0</td>\n",
        "      <td> 0</td>\n",
        "      <td> 0</td>\n",
        "      <td> 0</td>\n",
        "      <td> 0</td>\n",
        "    </tr>\n",
        "    <tr>\n",
        "      <th>13876607</th>\n",
        "      <td> F33EF464441839C6F0DABAABBC93B45D</td>\n",
        "      <td> 313F66DD09C308EADA3B307F6B8CF7A9</td>\n",
        "      <td> CMT</td>\n",
        "      <td> 1</td>\n",
        "      <td> N</td>\n",
        "      <td> 2013-01-10 10:56:47</td>\n",
        "      <td> 2013-01-10 11:05:52</td>\n",
        "      <td> 1</td>\n",
        "      <td>  545</td>\n",
        "      <td>  1.40</td>\n",
        "      <td>...</td>\n",
        "      <td> 0</td>\n",
        "      <td> 0</td>\n",
        "      <td> 0</td>\n",
        "      <td> 0</td>\n",
        "      <td> 0</td>\n",
        "      <td> 0</td>\n",
        "      <td> 0</td>\n",
        "      <td> 0</td>\n",
        "      <td> 0</td>\n",
        "      <td> 0</td>\n",
        "    </tr>\n",
        "    <tr>\n",
        "      <th>13876608</th>\n",
        "      <td> 56CE01E7DBE0E6449FA1758F082D8884</td>\n",
        "      <td> 4C6FE2FCFED26629D515D291EC1516A0</td>\n",
        "      <td> CMT</td>\n",
        "      <td> 1</td>\n",
        "      <td> N</td>\n",
        "      <td> 2013-01-10 14:50:01</td>\n",
        "      <td> 2013-01-10 15:19:10</td>\n",
        "      <td> 1</td>\n",
        "      <td> 1748</td>\n",
        "      <td>  4.00</td>\n",
        "      <td>...</td>\n",
        "      <td> 0</td>\n",
        "      <td> 0</td>\n",
        "      <td> 0</td>\n",
        "      <td> 0</td>\n",
        "      <td> 0</td>\n",
        "      <td> 0</td>\n",
        "      <td> 0</td>\n",
        "      <td> 0</td>\n",
        "      <td> 0</td>\n",
        "      <td> 0</td>\n",
        "    </tr>\n",
        "    <tr>\n",
        "      <th>13876609</th>\n",
        "      <td> 32201027CDC62D654DC3AD9747A07C96</td>\n",
        "      <td> B8DDB9F8143017E22104050B26C2A65D</td>\n",
        "      <td> CMT</td>\n",
        "      <td> 1</td>\n",
        "      <td> N</td>\n",
        "      <td> 2013-01-05 08:58:18</td>\n",
        "      <td> 2013-01-05 09:05:56</td>\n",
        "      <td> 1</td>\n",
        "      <td>  458</td>\n",
        "      <td>  3.20</td>\n",
        "      <td>...</td>\n",
        "      <td> 0</td>\n",
        "      <td> 0</td>\n",
        "      <td> 0</td>\n",
        "      <td> 0</td>\n",
        "      <td> 0</td>\n",
        "      <td> 0</td>\n",
        "      <td> 0</td>\n",
        "      <td> 0</td>\n",
        "      <td> 0</td>\n",
        "      <td> 0</td>\n",
        "    </tr>\n",
        "    <tr>\n",
        "      <th>13876610</th>\n",
        "      <td> B33E71CD9E8FE1BE3B70FEB6E807DD15</td>\n",
        "      <td> BAF57796E45D921BB23217E17A372FF6</td>\n",
        "      <td> CMT</td>\n",
        "      <td> 1</td>\n",
        "      <td> N</td>\n",
        "      <td> 2013-01-06 04:58:23</td>\n",
        "      <td> 2013-01-06 05:11:24</td>\n",
        "      <td> 1</td>\n",
        "      <td>  781</td>\n",
        "      <td>  3.30</td>\n",
        "      <td>...</td>\n",
        "      <td> 0</td>\n",
        "      <td> 0</td>\n",
        "      <td> 0</td>\n",
        "      <td> 0</td>\n",
        "      <td> 0</td>\n",
        "      <td> 0</td>\n",
        "      <td> 0</td>\n",
        "      <td> 0</td>\n",
        "      <td> 0</td>\n",
        "      <td> 0</td>\n",
        "    </tr>\n",
        "    <tr>\n",
        "      <th>13876611</th>\n",
        "      <td> ED160B76D5349C8AC1ECF22CD4B8D538</td>\n",
        "      <td> 3B93F6DA5DEBDE9560993FA624C4FF76</td>\n",
        "      <td> CMT</td>\n",
        "      <td> 1</td>\n",
        "      <td> N</td>\n",
        "      <td> 2013-01-08 14:42:04</td>\n",
        "      <td> 2013-01-08 14:50:27</td>\n",
        "      <td> 1</td>\n",
        "      <td>  503</td>\n",
        "      <td>  1.00</td>\n",
        "      <td>...</td>\n",
        "      <td> 0</td>\n",
        "      <td> 0</td>\n",
        "      <td> 0</td>\n",
        "      <td> 0</td>\n",
        "      <td> 0</td>\n",
        "      <td> 0</td>\n",
        "      <td> 0</td>\n",
        "      <td> 0</td>\n",
        "      <td> 0</td>\n",
        "      <td> 0</td>\n",
        "    </tr>\n",
        "    <tr>\n",
        "      <th>13876612</th>\n",
        "      <td> D83F9AC0E33F6F19869C243BE6AB6FE5</td>\n",
        "      <td> 85A55B6772275374EF90AC9457DC1F83</td>\n",
        "      <td> CMT</td>\n",
        "      <td> 1</td>\n",
        "      <td> N</td>\n",
        "      <td> 2013-01-10 13:29:23</td>\n",
        "      <td> 2013-01-10 13:34:45</td>\n",
        "      <td> 1</td>\n",
        "      <td>  321</td>\n",
        "      <td>  0.90</td>\n",
        "      <td>...</td>\n",
        "      <td> 0</td>\n",
        "      <td> 0</td>\n",
        "      <td> 0</td>\n",
        "      <td> 0</td>\n",
        "      <td> 0</td>\n",
        "      <td> 0</td>\n",
        "      <td> 0</td>\n",
        "      <td> 0</td>\n",
        "      <td> 0</td>\n",
        "      <td> 0</td>\n",
        "    </tr>\n",
        "    <tr>\n",
        "      <th>13876613</th>\n",
        "      <td> 04E59442A7DDBCE515E33CD355D866E7</td>\n",
        "      <td> 7913172189931A1A1632562B10AB53C4</td>\n",
        "      <td> CMT</td>\n",
        "      <td> 1</td>\n",
        "      <td> N</td>\n",
        "      <td> 2013-01-06 16:30:15</td>\n",
        "      <td> 2013-01-06 16:42:26</td>\n",
        "      <td> 1</td>\n",
        "      <td>  730</td>\n",
        "      <td>  1.30</td>\n",
        "      <td>...</td>\n",
        "      <td> 0</td>\n",
        "      <td> 0</td>\n",
        "      <td> 0</td>\n",
        "      <td> 0</td>\n",
        "      <td> 0</td>\n",
        "      <td> 0</td>\n",
        "      <td> 0</td>\n",
        "      <td> 0</td>\n",
        "      <td> 0</td>\n",
        "      <td> 0</td>\n",
        "    </tr>\n",
        "    <tr>\n",
        "      <th>13876614</th>\n",
        "      <td> D30BED60331C79E3F7ACD05B325ED42F</td>\n",
        "      <td> B5E1D2461A5BCC8819188DACEC17CD69</td>\n",
        "      <td> CMT</td>\n",
        "      <td> 1</td>\n",
        "      <td> N</td>\n",
        "      <td> 2013-01-05 20:38:46</td>\n",
        "      <td> 2013-01-05 20:43:06</td>\n",
        "      <td> 1</td>\n",
        "      <td>  260</td>\n",
        "      <td>  0.80</td>\n",
        "      <td>...</td>\n",
        "      <td> 0</td>\n",
        "      <td> 0</td>\n",
        "      <td> 0</td>\n",
        "      <td> 0</td>\n",
        "      <td> 0</td>\n",
        "      <td> 0</td>\n",
        "      <td> 0</td>\n",
        "      <td> 0</td>\n",
        "      <td> 0</td>\n",
        "      <td> 0</td>\n",
        "    </tr>\n",
        "  </tbody>\n",
        "</table>\n",
        "<p>13876615 rows \u00d7 28 columns</p>\n",
        "</div>"
       ],
       "metadata": {},
       "output_type": "pyout",
       "prompt_number": 39,
       "text": [
        "                                 medallion                      hack_license  \\\n",
        "0         DFD2202EE08F7A8DC9A57B02ACB81FE2  51EE87E3205C985EF8431D850C786310   \n",
        "1         0B57B9633A2FECD3D3B1944AFC7471CF  CCD4367B417ED6634D986F573A552A62   \n",
        "2         E6FBF80668FE0611AEA44FD9574A7E32  36773E80775F26CD1158EB5450A61C79   \n",
        "3         D8AADA4E722C87C10E609654612630DD  8F1E4F779A4D67431C3FCFA4E70A87DC   \n",
        "4         4C005EEBAA7BF26B84B21586332488A2  351BE7D984BE17DB2FA80A748E816472   \n",
        "5         E6FBF80668FE0611AEA44FD9574A7E32  36773E80775F26CD1158EB5450A61C79   \n",
        "6         F1EF8290A54338B1396DD98E38E09143  0FDDEFAFF6FC38BD632B6DDED47DA618   \n",
        "7         FAE1370A694D0621FAE1E62FAFD64080  265B3D7D30A9B7AE389A2626F6825266   \n",
        "8         1159BD618BE1D4A90D522416A77AC29A  9964A99249A4888E2C6AE55BA78A6F64   \n",
        "9         7A9728FFD700148BF60616DA97FFC3C3  D25781FA72D2C328B9F120736E6CAA68   \n",
        "10        C6CE309A20A523E64FDCDECF150A2EC1  3DC3C9552D190C5D26B0358C23E449A6   \n",
        "11        961D9C9506D105D3A7E88229F0487033  65683B8714DEF5F783E75E8111784177   \n",
        "12        FC82D4D00FE8AB93B2973EECB3559EA8  F554ED01B1DA0828B956446E40231C46   \n",
        "13        2111CFA825ECEE9430C3F075E8DC2E5A  3B23D23383A197F51D7B27F2C22D366A   \n",
        "14        867892F8F81A6590EB536BE1D4F6305C  DCAFC607007FA6C88E8331014061CEEA   \n",
        "15        99274EDFA48DDA7B024A6B8BCA19EAE0  F1F0BF6913FAE17744D8B8B1FAEA5363   \n",
        "16        D111EEC901448CEE65D1DF98F4E3CE10  8962F17FAA0A29BF05C4660AA4F4E514   \n",
        "17        84C5F6C940C24C55D8D7C75F3F75F14F  D48C1097AF78B31964D8DE00A4A71AC2   \n",
        "18        ADDB6F51BFFAFA8603840526A7923A51  93052C01A5C67ACDDB265D7038CB3B44   \n",
        "19        24A79226E819C16546C3634C824EAEB8  45463936BB36B60963A6F942446AEB59   \n",
        "20        EC05D1578FBB29AAC62505CC1683C5E4  8FAD076F7BA2D0F5F1E32A9EB396ECC3   \n",
        "21        1A052D0501F70E8A989BA6BF44A72880  5428D441EB23C859AF5AEA63B3BB6897   \n",
        "22        0E2CA825AD133D022E902949D3D48128  051E51520D3FF77D6185A9CAF4881877   \n",
        "23        E2099162DA383A80E2EEF8D61A2612B3  A40155E00B0D5728EDB91EAB68C0A303   \n",
        "24        6BCA6CE04F3A2391FCA2CACC1EEB3CD3  7C92D48CDB2FCB5B007E31ACE93CC5E9   \n",
        "25        D4677BB37EDBA5626C026695A5384F8E  E32A7CD4BDE9EC17A2EADA7A0662D6B6   \n",
        "26        5562E98BA4BD4057E5626F1C64AF72B3  F4199818A317391BA1E973E0E75A279F   \n",
        "27        1F2826FDE3A968E90FE1D503096804AF  BAC563FFEA61AB268A755A12F2E6561F   \n",
        "28        891EDD34EF8DAD06FF84C2178D7FC346  BF763EFF830D208FFBB97A6FE0375896   \n",
        "29        F5B5E83EF52481B2BAD92B1CD8FA9EC7  E3D586168AE361713191D71B8C37F9FC   \n",
        "...                                    ...                               ...   \n",
        "13876585  237F49C3ECC11F5024B254268F054384  93C363DDF8ED9385D65FAD07CE3F5F07   \n",
        "13876586  237F49C3ECC11F5024B254268F054384  93C363DDF8ED9385D65FAD07CE3F5F07   \n",
        "13876587  4C005EEBAA7BF26B84B21586332488A2  351BE7D984BE17DB2FA80A748E816472   \n",
        "13876588  32D306FD3A4D7CEDCFD8D644294DD5B7  05EACD5B806FC3D01A377606D37CF327   \n",
        "13876589  32D306FD3A4D7CEDCFD8D644294DD5B7  05EACD5B806FC3D01A377606D37CF327   \n",
        "13876590  50296A056AF5D221536DC98ABB1E3274  4F3E6D0E69CABD8954F8A126D54C5C20   \n",
        "13876591  C6CE309A20A523E64FDCDECF150A2EC1  3DC3C9552D190C5D26B0358C23E449A6   \n",
        "13876592  C6CE309A20A523E64FDCDECF150A2EC1  3DC3C9552D190C5D26B0358C23E449A6   \n",
        "13876593  5E162F2D7F569949769648C56A23C525  6F7932F2B112DAABF1F2A385FE2AB819   \n",
        "13876594  1836E1591EE79F810104064B945747AB  18EDD3FC80A78DC262E2442FEEA55F01   \n",
        "13876595  1836E1591EE79F810104064B945747AB  18EDD3FC80A78DC262E2442FEEA55F01   \n",
        "13876596  A5A69FAD94C3DC7854F9DDEA994B6380  178BA04DD1A4E3A184C86AA3F110A742   \n",
        "13876597  5E162F2D7F569949769648C56A23C525  6F7932F2B112DAABF1F2A385FE2AB819   \n",
        "13876598  B36D470B76BD8F6D720A83D08891754E  A86011E8B4D0FCC19283230950DFCB3E   \n",
        "13876599  47CFD616C057758044C57D1B4BEFE759  A6DCBA545B1E1A2DC24BFEE1C0A54029   \n",
        "13876600  0CC08DE5645A7137059499EA11886805  4F2627F9FD34A9B9EFCCFC5147048345   \n",
        "13876601  0CC08DE5645A7137059499EA11886805  4F2627F9FD34A9B9EFCCFC5147048345   \n",
        "13876602  B7A16B1C396F4A5113257DDEB043D953  3DC4ACD88D75EF04FBC9CCDFEEF7C71E   \n",
        "13876603  E71CDEFCB364DA0D385629612EE30642  C7259B75B62CB850082BDEB4149DC075   \n",
        "13876604  E71CDEFCB364DA0D385629612EE30642  C7259B75B62CB850082BDEB4149DC075   \n",
        "13876605  A8262FA0AFCB6C7229F6888EAFBDE076  1BDF89260FEF1AE6FDDE839A0278D31D   \n",
        "13876606  A8262FA0AFCB6C7229F6888EAFBDE076  1BDF89260FEF1AE6FDDE839A0278D31D   \n",
        "13876607  F33EF464441839C6F0DABAABBC93B45D  313F66DD09C308EADA3B307F6B8CF7A9   \n",
        "13876608  56CE01E7DBE0E6449FA1758F082D8884  4C6FE2FCFED26629D515D291EC1516A0   \n",
        "13876609  32201027CDC62D654DC3AD9747A07C96  B8DDB9F8143017E22104050B26C2A65D   \n",
        "13876610  B33E71CD9E8FE1BE3B70FEB6E807DD15  BAF57796E45D921BB23217E17A372FF6   \n",
        "13876611  ED160B76D5349C8AC1ECF22CD4B8D538  3B93F6DA5DEBDE9560993FA624C4FF76   \n",
        "13876612  D83F9AC0E33F6F19869C243BE6AB6FE5  85A55B6772275374EF90AC9457DC1F83   \n",
        "13876613  04E59442A7DDBCE515E33CD355D866E7  7913172189931A1A1632562B10AB53C4   \n",
        "13876614  D30BED60331C79E3F7ACD05B325ED42F  B5E1D2461A5BCC8819188DACEC17CD69   \n",
        "\n",
        "         vendor_id  rate_code store_and_fwd_flag      pickup_datetime  \\\n",
        "0              CMT          1                  N  2013-01-07 23:25:03   \n",
        "1              CMT          1                  N  2013-01-07 12:39:18   \n",
        "2              CMT          1                  N  2013-01-07 06:08:51   \n",
        "3              CMT          2                  N  2013-01-10 23:41:51   \n",
        "4              CMT          1                  N  2013-01-07 21:13:02   \n",
        "5              CMT          1                  Y  2013-01-07 08:17:06   \n",
        "6              CMT          1                  N  2013-01-05 08:16:58   \n",
        "7              CMT          1                  N  2013-01-07 10:15:19   \n",
        "8              CMT          1                  N  2013-01-10 15:04:11   \n",
        "9              CMT          1                  N  2013-01-08 10:59:25   \n",
        "10             CMT          1                  N  2013-01-10 12:08:05   \n",
        "11             CMT          1                  N  2013-01-10 16:16:38   \n",
        "12             CMT          1                  N  2013-01-05 21:28:33   \n",
        "13             VTS          1                  M  2013-01-13 04:30:00   \n",
        "14             VTS          1                  M  2013-01-13 04:16:00   \n",
        "15             VTS          1                  M  2013-01-13 04:34:00   \n",
        "16             VTS          1                  M  2013-01-13 04:25:00   \n",
        "17             VTS          1                  M  2013-01-13 04:34:00   \n",
        "18             VTS          1                  M  2013-01-13 04:40:00   \n",
        "19             VTS          1                  M  2013-01-13 04:37:00   \n",
        "20             VTS          1                  M  2013-01-13 04:14:00   \n",
        "21             VTS          1                  M  2013-01-13 04:38:00   \n",
        "22             VTS          1                  M  2013-01-13 04:50:00   \n",
        "23             VTS          1                  M  2013-01-13 11:05:00   \n",
        "24             VTS          1                  M  2013-01-13 11:00:00   \n",
        "25             VTS          1                  M  2013-01-13 11:05:00   \n",
        "26             VTS          1                  M  2013-01-13 11:00:00   \n",
        "27             VTS          1                  M  2013-01-13 11:11:00   \n",
        "28             VTS          1                  M  2013-01-13 04:34:00   \n",
        "29             VTS          1                  M  2013-01-13 11:06:00   \n",
        "...            ...        ...                ...                  ...   \n",
        "13876585       CMT          1                  N  2013-01-07 07:48:00   \n",
        "13876586       CMT          1                  N  2013-01-07 09:08:37   \n",
        "13876587       CMT          1                  N  2013-01-07 23:47:47   \n",
        "13876588       CMT          1                  N  2013-01-08 15:11:04   \n",
        "13876589       CMT          1                  N  2013-01-08 08:25:24   \n",
        "13876590       CMT          1                  N  2013-01-08 02:37:37   \n",
        "13876591       CMT          1                  N  2013-01-10 08:02:56   \n",
        "13876592       CMT          1                  N  2013-01-10 15:00:16   \n",
        "13876593       CMT          1                  N  2013-01-07 23:16:34   \n",
        "13876594       CMT          1                  N  2013-01-08 03:05:09   \n",
        "13876595       CMT          1                  N  2013-01-07 17:54:25   \n",
        "13876596       CMT          1                  N  2013-01-10 08:42:47   \n",
        "13876597       CMT          1                  N  2013-01-07 20:01:08   \n",
        "13876598       CMT          1                  N  2013-01-07 22:01:57   \n",
        "13876599       CMT          1                  N  2013-01-07 19:48:22   \n",
        "13876600       CMT          1                  N  2013-01-08 00:26:18   \n",
        "13876601       CMT          1                  N  2013-01-07 19:57:17   \n",
        "13876602       CMT          1                  N  2013-01-07 18:50:36   \n",
        "13876603       CMT          1                  N  2013-01-07 21:46:45   \n",
        "13876604       CMT          1                  N  2013-01-07 21:53:35   \n",
        "13876605       CMT          2                  N  2013-01-07 07:29:06   \n",
        "13876606       CMT          1                  N  2013-01-07 14:30:23   \n",
        "13876607       CMT          1                  N  2013-01-10 10:56:47   \n",
        "13876608       CMT          1                  N  2013-01-10 14:50:01   \n",
        "13876609       CMT          1                  N  2013-01-05 08:58:18   \n",
        "13876610       CMT          1                  N  2013-01-06 04:58:23   \n",
        "13876611       CMT          1                  N  2013-01-08 14:42:04   \n",
        "13876612       CMT          1                  N  2013-01-10 13:29:23   \n",
        "13876613       CMT          1                  N  2013-01-06 16:30:15   \n",
        "13876614       CMT          1                  N  2013-01-05 20:38:46   \n",
        "\n",
        "             dropoff_datetime  passenger_count  trip_time_in_secs  \\\n",
        "0         2013-01-07 23:34:24                1                560   \n",
        "1         2013-01-07 13:10:56                3               1898   \n",
        "2         2013-01-07 06:13:14                1                262   \n",
        "3         2013-01-11 00:09:11                1               1640   \n",
        "4         2013-01-07 21:22:31                1                568   \n",
        "5         2013-01-07 08:22:46                1                340   \n",
        "6         2013-01-05 08:30:20                1                801   \n",
        "7         2013-01-07 10:20:10                1                290   \n",
        "8         2013-01-10 15:07:35                1                204   \n",
        "9         2013-01-08 11:04:35                1                310   \n",
        "10        2013-01-10 12:12:11                1                245   \n",
        "11        2013-01-10 16:22:03                2                324   \n",
        "12        2013-01-05 21:38:20                2                587   \n",
        "13        2013-01-13 04:35:00                1                300   \n",
        "14        2013-01-13 04:38:00                1               1320   \n",
        "15        2013-01-13 04:44:00                1                600   \n",
        "16        2013-01-13 04:39:00                4                840   \n",
        "17        2013-01-13 04:42:00                1                480   \n",
        "18        2013-01-13 04:45:00                1                300   \n",
        "19        2013-01-13 04:48:00                1                660   \n",
        "20        2013-01-13 04:45:00                1               1860   \n",
        "21        2013-01-13 04:46:00                5                480   \n",
        "22        2013-01-13 04:57:00                1                420   \n",
        "23        2013-01-13 11:12:00                1                420   \n",
        "24        2013-01-13 11:06:00                6                360   \n",
        "25        2013-01-13 11:08:00                5                180   \n",
        "26        2013-01-13 11:08:00                2                480   \n",
        "27        2013-01-13 11:13:00                1                120   \n",
        "28        2013-01-13 04:37:00                2                180   \n",
        "29        2013-01-13 11:07:00                1                 60   \n",
        "...                       ...              ...                ...   \n",
        "13876585  2013-01-07 07:59:01                2                661   \n",
        "13876586  2013-01-07 09:13:33                1                296   \n",
        "13876587  2013-01-07 23:54:43                1                415   \n",
        "13876588  2013-01-08 15:24:18                2                794   \n",
        "13876589  2013-01-08 08:35:12                1                588   \n",
        "13876590  2013-01-08 02:55:20                3               1063   \n",
        "13876591  2013-01-10 08:14:24                1                687   \n",
        "13876592  2013-01-10 15:09:03                1                527   \n",
        "13876593  2013-01-07 23:43:22                2               1608   \n",
        "13876594  2013-01-08 03:17:28                1                739   \n",
        "13876595  2013-01-07 18:11:41                1               1035   \n",
        "13876596  2013-01-10 08:53:25                1                637   \n",
        "13876597  2013-01-07 20:10:23                1                555   \n",
        "13876598  2013-01-07 22:17:36                2                939   \n",
        "13876599  2013-01-07 19:51:22                1                179   \n",
        "13876600  2013-01-08 00:33:41                1                442   \n",
        "13876601  2013-01-07 20:07:02                1                585   \n",
        "13876602  2013-01-07 19:02:03                1                686   \n",
        "13876603  2013-01-07 21:50:30                1                224   \n",
        "13876604  2013-01-07 21:54:57                1                 82   \n",
        "13876605  2013-01-07 08:19:39                1               3032   \n",
        "13876606  2013-01-07 14:42:14                1                711   \n",
        "13876607  2013-01-10 11:05:52                1                545   \n",
        "13876608  2013-01-10 15:19:10                1               1748   \n",
        "13876609  2013-01-05 09:05:56                1                458   \n",
        "13876610  2013-01-06 05:11:24                1                781   \n",
        "13876611  2013-01-08 14:50:27                1                503   \n",
        "13876612  2013-01-10 13:34:45                1                321   \n",
        "13876613  2013-01-06 16:42:26                1                730   \n",
        "13876614  2013-01-05 20:43:06                1                260   \n",
        "\n",
        "          trip_distance      ...        rate_code_dummy_4  rate_code_dummy_5  \\\n",
        "0                  2.10      ...                        0                  0   \n",
        "1                 10.70      ...                        0                  0   \n",
        "2                  1.70      ...                        0                  0   \n",
        "3                 17.50      ...                        0                  0   \n",
        "4                  1.10      ...                        0                  0   \n",
        "5                  1.50      ...                        0                  0   \n",
        "6                  6.50      ...                        0                  0   \n",
        "7                  1.00      ...                        0                  0   \n",
        "8                  0.70      ...                        0                  0   \n",
        "9                  0.60      ...                        0                  0   \n",
        "10                 0.80      ...                        0                  0   \n",
        "11                 1.10      ...                        0                  0   \n",
        "12                 2.90      ...                        0                  0   \n",
        "13                 2.10      ...                        0                  0   \n",
        "14                 6.82      ...                        0                  0   \n",
        "15                 1.73      ...                        0                  0   \n",
        "16                 4.81      ...                        0                  0   \n",
        "17                 1.52      ...                        0                  0   \n",
        "18                 1.33      ...                        0                  0   \n",
        "19                 2.90      ...                        0                  0   \n",
        "20                 5.71      ...                        0                  0   \n",
        "21                 1.92      ...                        0                  0   \n",
        "22                 2.50      ...                        0                  0   \n",
        "23                 1.59      ...                        0                  0   \n",
        "24                 1.02      ...                        0                  0   \n",
        "25                 0.88      ...                        0                  0   \n",
        "26                 1.34      ...                        0                  0   \n",
        "27                 0.29      ...                        0                  0   \n",
        "28                 0.75      ...                        0                  0   \n",
        "29                 0.61      ...                        0                  0   \n",
        "...                 ...      ...                      ...                ...   \n",
        "13876585           2.90      ...                        0                  0   \n",
        "13876586           0.50      ...                        0                  0   \n",
        "13876587           1.50      ...                        0                  0   \n",
        "13876588           2.10      ...                        0                  0   \n",
        "13876589           1.20      ...                        0                  0   \n",
        "13876590           8.70      ...                        0                  0   \n",
        "13876591           2.70      ...                        0                  0   \n",
        "13876592           0.70      ...                        0                  0   \n",
        "13876593          13.70      ...                        0                  0   \n",
        "13876594           4.30      ...                        0                  0   \n",
        "13876595           2.90      ...                        0                  0   \n",
        "13876596           1.10      ...                        0                  0   \n",
        "13876597           1.70      ...                        0                  0   \n",
        "13876598           6.00      ...                        0                  0   \n",
        "13876599           0.50      ...                        0                  0   \n",
        "13876600           2.20      ...                        0                  0   \n",
        "13876601           4.00      ...                        0                  0   \n",
        "13876602           2.20      ...                        0                  0   \n",
        "13876603           0.90      ...                        0                  0   \n",
        "13876604           0.50      ...                        0                  0   \n",
        "13876605          21.30      ...                        0                  0   \n",
        "13876606           1.40      ...                        0                  0   \n",
        "13876607           1.40      ...                        0                  0   \n",
        "13876608           4.00      ...                        0                  0   \n",
        "13876609           3.20      ...                        0                  0   \n",
        "13876610           3.30      ...                        0                  0   \n",
        "13876611           1.00      ...                        0                  0   \n",
        "13876612           0.90      ...                        0                  0   \n",
        "13876613           1.30      ...                        0                  0   \n",
        "13876614           0.80      ...                        0                  0   \n",
        "\n",
        "          rate_code_dummy_6  rate_code_dummy_7  rate_code_dummy_8  \\\n",
        "0                         0                  0                  0   \n",
        "1                         0                  0                  0   \n",
        "2                         0                  0                  0   \n",
        "3                         0                  0                  0   \n",
        "4                         0                  0                  0   \n",
        "5                         0                  0                  0   \n",
        "6                         0                  0                  0   \n",
        "7                         0                  0                  0   \n",
        "8                         0                  0                  0   \n",
        "9                         0                  0                  0   \n",
        "10                        0                  0                  0   \n",
        "11                        0                  0                  0   \n",
        "12                        0                  0                  0   \n",
        "13                        0                  0                  0   \n",
        "14                        0                  0                  0   \n",
        "15                        0                  0                  0   \n",
        "16                        0                  0                  0   \n",
        "17                        0                  0                  0   \n",
        "18                        0                  0                  0   \n",
        "19                        0                  0                  0   \n",
        "20                        0                  0                  0   \n",
        "21                        0                  0                  0   \n",
        "22                        0                  0                  0   \n",
        "23                        0                  0                  0   \n",
        "24                        0                  0                  0   \n",
        "25                        0                  0                  0   \n",
        "26                        0                  0                  0   \n",
        "27                        0                  0                  0   \n",
        "28                        0                  0                  0   \n",
        "29                        0                  0                  0   \n",
        "...                     ...                ...                ...   \n",
        "13876585                  0                  0                  0   \n",
        "13876586                  0                  0                  0   \n",
        "13876587                  0                  0                  0   \n",
        "13876588                  0                  0                  0   \n",
        "13876589                  0                  0                  0   \n",
        "13876590                  0                  0                  0   \n",
        "13876591                  0                  0                  0   \n",
        "13876592                  0                  0                  0   \n",
        "13876593                  0                  0                  0   \n",
        "13876594                  0                  0                  0   \n",
        "13876595                  0                  0                  0   \n",
        "13876596                  0                  0                  0   \n",
        "13876597                  0                  0                  0   \n",
        "13876598                  0                  0                  0   \n",
        "13876599                  0                  0                  0   \n",
        "13876600                  0                  0                  0   \n",
        "13876601                  0                  0                  0   \n",
        "13876602                  0                  0                  0   \n",
        "13876603                  0                  0                  0   \n",
        "13876604                  0                  0                  0   \n",
        "13876605                  0                  0                  0   \n",
        "13876606                  0                  0                  0   \n",
        "13876607                  0                  0                  0   \n",
        "13876608                  0                  0                  0   \n",
        "13876609                  0                  0                  0   \n",
        "13876610                  0                  0                  0   \n",
        "13876611                  0                  0                  0   \n",
        "13876612                  0                  0                  0   \n",
        "13876613                  0                  0                  0   \n",
        "13876614                  0                  0                  0   \n",
        "\n",
        "          rate_code_dummy_9  rate_code_dummy_28  rate_code_dummy_65  \\\n",
        "0                         0                   0                   0   \n",
        "1                         0                   0                   0   \n",
        "2                         0                   0                   0   \n",
        "3                         0                   0                   0   \n",
        "4                         0                   0                   0   \n",
        "5                         0                   0                   0   \n",
        "6                         0                   0                   0   \n",
        "7                         0                   0                   0   \n",
        "8                         0                   0                   0   \n",
        "9                         0                   0                   0   \n",
        "10                        0                   0                   0   \n",
        "11                        0                   0                   0   \n",
        "12                        0                   0                   0   \n",
        "13                        0                   0                   0   \n",
        "14                        0                   0                   0   \n",
        "15                        0                   0                   0   \n",
        "16                        0                   0                   0   \n",
        "17                        0                   0                   0   \n",
        "18                        0                   0                   0   \n",
        "19                        0                   0                   0   \n",
        "20                        0                   0                   0   \n",
        "21                        0                   0                   0   \n",
        "22                        0                   0                   0   \n",
        "23                        0                   0                   0   \n",
        "24                        0                   0                   0   \n",
        "25                        0                   0                   0   \n",
        "26                        0                   0                   0   \n",
        "27                        0                   0                   0   \n",
        "28                        0                   0                   0   \n",
        "29                        0                   0                   0   \n",
        "...                     ...                 ...                 ...   \n",
        "13876585                  0                   0                   0   \n",
        "13876586                  0                   0                   0   \n",
        "13876587                  0                   0                   0   \n",
        "13876588                  0                   0                   0   \n",
        "13876589                  0                   0                   0   \n",
        "13876590                  0                   0                   0   \n",
        "13876591                  0                   0                   0   \n",
        "13876592                  0                   0                   0   \n",
        "13876593                  0                   0                   0   \n",
        "13876594                  0                   0                   0   \n",
        "13876595                  0                   0                   0   \n",
        "13876596                  0                   0                   0   \n",
        "13876597                  0                   0                   0   \n",
        "13876598                  0                   0                   0   \n",
        "13876599                  0                   0                   0   \n",
        "13876600                  0                   0                   0   \n",
        "13876601                  0                   0                   0   \n",
        "13876602                  0                   0                   0   \n",
        "13876603                  0                   0                   0   \n",
        "13876604                  0                   0                   0   \n",
        "13876605                  0                   0                   0   \n",
        "13876606                  0                   0                   0   \n",
        "13876607                  0                   0                   0   \n",
        "13876608                  0                   0                   0   \n",
        "13876609                  0                   0                   0   \n",
        "13876610                  0                   0                   0   \n",
        "13876611                  0                   0                   0   \n",
        "13876612                  0                   0                   0   \n",
        "13876613                  0                   0                   0   \n",
        "13876614                  0                   0                   0   \n",
        "\n",
        "          rate_code_dummy_128  rate_code_dummy_210  \n",
        "0                           0                    0  \n",
        "1                           0                    0  \n",
        "2                           0                    0  \n",
        "3                           0                    0  \n",
        "4                           0                    0  \n",
        "5                           0                    0  \n",
        "6                           0                    0  \n",
        "7                           0                    0  \n",
        "8                           0                    0  \n",
        "9                           0                    0  \n",
        "10                          0                    0  \n",
        "11                          0                    0  \n",
        "12                          0                    0  \n",
        "13                          0                    0  \n",
        "14                          0                    0  \n",
        "15                          0                    0  \n",
        "16                          0                    0  \n",
        "17                          0                    0  \n",
        "18                          0                    0  \n",
        "19                          0                    0  \n",
        "20                          0                    0  \n",
        "21                          0                    0  \n",
        "22                          0                    0  \n",
        "23                          0                    0  \n",
        "24                          0                    0  \n",
        "25                          0                    0  \n",
        "26                          0                    0  \n",
        "27                          0                    0  \n",
        "28                          0                    0  \n",
        "29                          0                    0  \n",
        "...                       ...                  ...  \n",
        "13876585                    0                    0  \n",
        "13876586                    0                    0  \n",
        "13876587                    0                    0  \n",
        "13876588                    0                    0  \n",
        "13876589                    0                    0  \n",
        "13876590                    0                    0  \n",
        "13876591                    0                    0  \n",
        "13876592                    0                    0  \n",
        "13876593                    0                    0  \n",
        "13876594                    0                    0  \n",
        "13876595                    0                    0  \n",
        "13876596                    0                    0  \n",
        "13876597                    0                    0  \n",
        "13876598                    0                    0  \n",
        "13876599                    0                    0  \n",
        "13876600                    0                    0  \n",
        "13876601                    0                    0  \n",
        "13876602                    0                    0  \n",
        "13876603                    0                    0  \n",
        "13876604                    0                    0  \n",
        "13876605                    0                    0  \n",
        "13876606                    0                    0  \n",
        "13876607                    0                    0  \n",
        "13876608                    0                    0  \n",
        "13876609                    0                    0  \n",
        "13876610                    0                    0  \n",
        "13876611                    0                    0  \n",
        "13876612                    0                    0  \n",
        "13876613                    0                    0  \n",
        "13876614                    0                    0  \n",
        "\n",
        "[13876615 rows x 28 columns]"
       ]
      }
     ],
     "prompt_number": 39
    },
    {
     "cell_type": "heading",
     "level": 4,
     "metadata": {},
     "source": [
      "Remove the original column rate_code in df1_with_dummy"
     ]
    },
    {
     "cell_type": "code",
     "collapsed": false,
     "input": [
      "df1_with_dummy.drop('rate_code', axis=1, inplace=True)\n",
      "df1_with_dummy"
     ],
     "language": "python",
     "metadata": {},
     "outputs": [
      {
       "html": [
        "<div style=\"max-height:1000px;max-width:1500px;overflow:auto;\">\n",
        "<table border=\"1\" class=\"dataframe\">\n",
        "  <thead>\n",
        "    <tr style=\"text-align: right;\">\n",
        "      <th></th>\n",
        "      <th>medallion</th>\n",
        "      <th>hack_license</th>\n",
        "      <th>vendor_id</th>\n",
        "      <th>store_and_fwd_flag</th>\n",
        "      <th>pickup_datetime</th>\n",
        "      <th>dropoff_datetime</th>\n",
        "      <th>passenger_count</th>\n",
        "      <th>trip_time_in_secs</th>\n",
        "      <th>trip_distance</th>\n",
        "      <th>pickup_longitude</th>\n",
        "      <th>...</th>\n",
        "      <th>rate_code_dummy_4</th>\n",
        "      <th>rate_code_dummy_5</th>\n",
        "      <th>rate_code_dummy_6</th>\n",
        "      <th>rate_code_dummy_7</th>\n",
        "      <th>rate_code_dummy_8</th>\n",
        "      <th>rate_code_dummy_9</th>\n",
        "      <th>rate_code_dummy_28</th>\n",
        "      <th>rate_code_dummy_65</th>\n",
        "      <th>rate_code_dummy_128</th>\n",
        "      <th>rate_code_dummy_210</th>\n",
        "    </tr>\n",
        "  </thead>\n",
        "  <tbody>\n",
        "    <tr>\n",
        "      <th>0       </th>\n",
        "      <td> DFD2202EE08F7A8DC9A57B02ACB81FE2</td>\n",
        "      <td> 51EE87E3205C985EF8431D850C786310</td>\n",
        "      <td> CMT</td>\n",
        "      <td> N</td>\n",
        "      <td> 2013-01-07 23:25:03</td>\n",
        "      <td> 2013-01-07 23:34:24</td>\n",
        "      <td> 1</td>\n",
        "      <td>  560</td>\n",
        "      <td>  2.10</td>\n",
        "      <td>-73.976250</td>\n",
        "      <td>...</td>\n",
        "      <td> 0</td>\n",
        "      <td> 0</td>\n",
        "      <td> 0</td>\n",
        "      <td> 0</td>\n",
        "      <td> 0</td>\n",
        "      <td> 0</td>\n",
        "      <td> 0</td>\n",
        "      <td> 0</td>\n",
        "      <td> 0</td>\n",
        "      <td> 0</td>\n",
        "    </tr>\n",
        "    <tr>\n",
        "      <th>1       </th>\n",
        "      <td> 0B57B9633A2FECD3D3B1944AFC7471CF</td>\n",
        "      <td> CCD4367B417ED6634D986F573A552A62</td>\n",
        "      <td> CMT</td>\n",
        "      <td> N</td>\n",
        "      <td> 2013-01-07 12:39:18</td>\n",
        "      <td> 2013-01-07 13:10:56</td>\n",
        "      <td> 3</td>\n",
        "      <td> 1898</td>\n",
        "      <td> 10.70</td>\n",
        "      <td>-73.989937</td>\n",
        "      <td>...</td>\n",
        "      <td> 0</td>\n",
        "      <td> 0</td>\n",
        "      <td> 0</td>\n",
        "      <td> 0</td>\n",
        "      <td> 0</td>\n",
        "      <td> 0</td>\n",
        "      <td> 0</td>\n",
        "      <td> 0</td>\n",
        "      <td> 0</td>\n",
        "      <td> 0</td>\n",
        "    </tr>\n",
        "    <tr>\n",
        "      <th>2       </th>\n",
        "      <td> E6FBF80668FE0611AEA44FD9574A7E32</td>\n",
        "      <td> 36773E80775F26CD1158EB5450A61C79</td>\n",
        "      <td> CMT</td>\n",
        "      <td> N</td>\n",
        "      <td> 2013-01-07 06:08:51</td>\n",
        "      <td> 2013-01-07 06:13:14</td>\n",
        "      <td> 1</td>\n",
        "      <td>  262</td>\n",
        "      <td>  1.70</td>\n",
        "      <td>-73.962120</td>\n",
        "      <td>...</td>\n",
        "      <td> 0</td>\n",
        "      <td> 0</td>\n",
        "      <td> 0</td>\n",
        "      <td> 0</td>\n",
        "      <td> 0</td>\n",
        "      <td> 0</td>\n",
        "      <td> 0</td>\n",
        "      <td> 0</td>\n",
        "      <td> 0</td>\n",
        "      <td> 0</td>\n",
        "    </tr>\n",
        "    <tr>\n",
        "      <th>3       </th>\n",
        "      <td> D8AADA4E722C87C10E609654612630DD</td>\n",
        "      <td> 8F1E4F779A4D67431C3FCFA4E70A87DC</td>\n",
        "      <td> CMT</td>\n",
        "      <td> N</td>\n",
        "      <td> 2013-01-10 23:41:51</td>\n",
        "      <td> 2013-01-11 00:09:11</td>\n",
        "      <td> 1</td>\n",
        "      <td> 1640</td>\n",
        "      <td> 17.50</td>\n",
        "      <td>-73.783310</td>\n",
        "      <td>...</td>\n",
        "      <td> 0</td>\n",
        "      <td> 0</td>\n",
        "      <td> 0</td>\n",
        "      <td> 0</td>\n",
        "      <td> 0</td>\n",
        "      <td> 0</td>\n",
        "      <td> 0</td>\n",
        "      <td> 0</td>\n",
        "      <td> 0</td>\n",
        "      <td> 0</td>\n",
        "    </tr>\n",
        "    <tr>\n",
        "      <th>4       </th>\n",
        "      <td> 4C005EEBAA7BF26B84B21586332488A2</td>\n",
        "      <td> 351BE7D984BE17DB2FA80A748E816472</td>\n",
        "      <td> CMT</td>\n",
        "      <td> N</td>\n",
        "      <td> 2013-01-07 21:13:02</td>\n",
        "      <td> 2013-01-07 21:22:31</td>\n",
        "      <td> 1</td>\n",
        "      <td>  568</td>\n",
        "      <td>  1.10</td>\n",
        "      <td>-73.978439</td>\n",
        "      <td>...</td>\n",
        "      <td> 0</td>\n",
        "      <td> 0</td>\n",
        "      <td> 0</td>\n",
        "      <td> 0</td>\n",
        "      <td> 0</td>\n",
        "      <td> 0</td>\n",
        "      <td> 0</td>\n",
        "      <td> 0</td>\n",
        "      <td> 0</td>\n",
        "      <td> 0</td>\n",
        "    </tr>\n",
        "    <tr>\n",
        "      <th>5       </th>\n",
        "      <td> E6FBF80668FE0611AEA44FD9574A7E32</td>\n",
        "      <td> 36773E80775F26CD1158EB5450A61C79</td>\n",
        "      <td> CMT</td>\n",
        "      <td> Y</td>\n",
        "      <td> 2013-01-07 08:17:06</td>\n",
        "      <td> 2013-01-07 08:22:46</td>\n",
        "      <td> 1</td>\n",
        "      <td>  340</td>\n",
        "      <td>  1.50</td>\n",
        "      <td>-73.992111</td>\n",
        "      <td>...</td>\n",
        "      <td> 0</td>\n",
        "      <td> 0</td>\n",
        "      <td> 0</td>\n",
        "      <td> 0</td>\n",
        "      <td> 0</td>\n",
        "      <td> 0</td>\n",
        "      <td> 0</td>\n",
        "      <td> 0</td>\n",
        "      <td> 0</td>\n",
        "      <td> 0</td>\n",
        "    </tr>\n",
        "    <tr>\n",
        "      <th>6       </th>\n",
        "      <td> F1EF8290A54338B1396DD98E38E09143</td>\n",
        "      <td> 0FDDEFAFF6FC38BD632B6DDED47DA618</td>\n",
        "      <td> CMT</td>\n",
        "      <td> N</td>\n",
        "      <td> 2013-01-05 08:16:58</td>\n",
        "      <td> 2013-01-05 08:30:20</td>\n",
        "      <td> 1</td>\n",
        "      <td>  801</td>\n",
        "      <td>  6.50</td>\n",
        "      <td>-73.976318</td>\n",
        "      <td>...</td>\n",
        "      <td> 0</td>\n",
        "      <td> 0</td>\n",
        "      <td> 0</td>\n",
        "      <td> 0</td>\n",
        "      <td> 0</td>\n",
        "      <td> 0</td>\n",
        "      <td> 0</td>\n",
        "      <td> 0</td>\n",
        "      <td> 0</td>\n",
        "      <td> 0</td>\n",
        "    </tr>\n",
        "    <tr>\n",
        "      <th>7       </th>\n",
        "      <td> FAE1370A694D0621FAE1E62FAFD64080</td>\n",
        "      <td> 265B3D7D30A9B7AE389A2626F6825266</td>\n",
        "      <td> CMT</td>\n",
        "      <td> N</td>\n",
        "      <td> 2013-01-07 10:15:19</td>\n",
        "      <td> 2013-01-07 10:20:10</td>\n",
        "      <td> 1</td>\n",
        "      <td>  290</td>\n",
        "      <td>  1.00</td>\n",
        "      <td>-73.958649</td>\n",
        "      <td>...</td>\n",
        "      <td> 0</td>\n",
        "      <td> 0</td>\n",
        "      <td> 0</td>\n",
        "      <td> 0</td>\n",
        "      <td> 0</td>\n",
        "      <td> 0</td>\n",
        "      <td> 0</td>\n",
        "      <td> 0</td>\n",
        "      <td> 0</td>\n",
        "      <td> 0</td>\n",
        "    </tr>\n",
        "    <tr>\n",
        "      <th>8       </th>\n",
        "      <td> 1159BD618BE1D4A90D522416A77AC29A</td>\n",
        "      <td> 9964A99249A4888E2C6AE55BA78A6F64</td>\n",
        "      <td> CMT</td>\n",
        "      <td> N</td>\n",
        "      <td> 2013-01-10 15:04:11</td>\n",
        "      <td> 2013-01-10 15:07:35</td>\n",
        "      <td> 1</td>\n",
        "      <td>  204</td>\n",
        "      <td>  0.70</td>\n",
        "      <td>-73.980118</td>\n",
        "      <td>...</td>\n",
        "      <td> 0</td>\n",
        "      <td> 0</td>\n",
        "      <td> 0</td>\n",
        "      <td> 0</td>\n",
        "      <td> 0</td>\n",
        "      <td> 0</td>\n",
        "      <td> 0</td>\n",
        "      <td> 0</td>\n",
        "      <td> 0</td>\n",
        "      <td> 0</td>\n",
        "    </tr>\n",
        "    <tr>\n",
        "      <th>9       </th>\n",
        "      <td> 7A9728FFD700148BF60616DA97FFC3C3</td>\n",
        "      <td> D25781FA72D2C328B9F120736E6CAA68</td>\n",
        "      <td> CMT</td>\n",
        "      <td> N</td>\n",
        "      <td> 2013-01-08 10:59:25</td>\n",
        "      <td> 2013-01-08 11:04:35</td>\n",
        "      <td> 1</td>\n",
        "      <td>  310</td>\n",
        "      <td>  0.60</td>\n",
        "      <td>-73.960358</td>\n",
        "      <td>...</td>\n",
        "      <td> 0</td>\n",
        "      <td> 0</td>\n",
        "      <td> 0</td>\n",
        "      <td> 0</td>\n",
        "      <td> 0</td>\n",
        "      <td> 0</td>\n",
        "      <td> 0</td>\n",
        "      <td> 0</td>\n",
        "      <td> 0</td>\n",
        "      <td> 0</td>\n",
        "    </tr>\n",
        "    <tr>\n",
        "      <th>10      </th>\n",
        "      <td> C6CE309A20A523E64FDCDECF150A2EC1</td>\n",
        "      <td> 3DC3C9552D190C5D26B0358C23E449A6</td>\n",
        "      <td> CMT</td>\n",
        "      <td> N</td>\n",
        "      <td> 2013-01-10 12:08:05</td>\n",
        "      <td> 2013-01-10 12:12:11</td>\n",
        "      <td> 1</td>\n",
        "      <td>  245</td>\n",
        "      <td>  0.80</td>\n",
        "      <td>-73.987953</td>\n",
        "      <td>...</td>\n",
        "      <td> 0</td>\n",
        "      <td> 0</td>\n",
        "      <td> 0</td>\n",
        "      <td> 0</td>\n",
        "      <td> 0</td>\n",
        "      <td> 0</td>\n",
        "      <td> 0</td>\n",
        "      <td> 0</td>\n",
        "      <td> 0</td>\n",
        "      <td> 0</td>\n",
        "    </tr>\n",
        "    <tr>\n",
        "      <th>11      </th>\n",
        "      <td> 961D9C9506D105D3A7E88229F0487033</td>\n",
        "      <td> 65683B8714DEF5F783E75E8111784177</td>\n",
        "      <td> CMT</td>\n",
        "      <td> N</td>\n",
        "      <td> 2013-01-10 16:16:38</td>\n",
        "      <td> 2013-01-10 16:22:03</td>\n",
        "      <td> 2</td>\n",
        "      <td>  324</td>\n",
        "      <td>  1.10</td>\n",
        "      <td>-74.006844</td>\n",
        "      <td>...</td>\n",
        "      <td> 0</td>\n",
        "      <td> 0</td>\n",
        "      <td> 0</td>\n",
        "      <td> 0</td>\n",
        "      <td> 0</td>\n",
        "      <td> 0</td>\n",
        "      <td> 0</td>\n",
        "      <td> 0</td>\n",
        "      <td> 0</td>\n",
        "      <td> 0</td>\n",
        "    </tr>\n",
        "    <tr>\n",
        "      <th>12      </th>\n",
        "      <td> FC82D4D00FE8AB93B2973EECB3559EA8</td>\n",
        "      <td> F554ED01B1DA0828B956446E40231C46</td>\n",
        "      <td> CMT</td>\n",
        "      <td> N</td>\n",
        "      <td> 2013-01-05 21:28:33</td>\n",
        "      <td> 2013-01-05 21:38:20</td>\n",
        "      <td> 2</td>\n",
        "      <td>  587</td>\n",
        "      <td>  2.90</td>\n",
        "      <td>-73.966156</td>\n",
        "      <td>...</td>\n",
        "      <td> 0</td>\n",
        "      <td> 0</td>\n",
        "      <td> 0</td>\n",
        "      <td> 0</td>\n",
        "      <td> 0</td>\n",
        "      <td> 0</td>\n",
        "      <td> 0</td>\n",
        "      <td> 0</td>\n",
        "      <td> 0</td>\n",
        "      <td> 0</td>\n",
        "    </tr>\n",
        "    <tr>\n",
        "      <th>13      </th>\n",
        "      <td> 2111CFA825ECEE9430C3F075E8DC2E5A</td>\n",
        "      <td> 3B23D23383A197F51D7B27F2C22D366A</td>\n",
        "      <td> VTS</td>\n",
        "      <td> M</td>\n",
        "      <td> 2013-01-13 04:30:00</td>\n",
        "      <td> 2013-01-13 04:35:00</td>\n",
        "      <td> 1</td>\n",
        "      <td>  300</td>\n",
        "      <td>  2.10</td>\n",
        "      <td>-73.963219</td>\n",
        "      <td>...</td>\n",
        "      <td> 0</td>\n",
        "      <td> 0</td>\n",
        "      <td> 0</td>\n",
        "      <td> 0</td>\n",
        "      <td> 0</td>\n",
        "      <td> 0</td>\n",
        "      <td> 0</td>\n",
        "      <td> 0</td>\n",
        "      <td> 0</td>\n",
        "      <td> 0</td>\n",
        "    </tr>\n",
        "    <tr>\n",
        "      <th>14      </th>\n",
        "      <td> 867892F8F81A6590EB536BE1D4F6305C</td>\n",
        "      <td> DCAFC607007FA6C88E8331014061CEEA</td>\n",
        "      <td> VTS</td>\n",
        "      <td> M</td>\n",
        "      <td> 2013-01-13 04:16:00</td>\n",
        "      <td> 2013-01-13 04:38:00</td>\n",
        "      <td> 1</td>\n",
        "      <td> 1320</td>\n",
        "      <td>  6.82</td>\n",
        "      <td>-73.998161</td>\n",
        "      <td>...</td>\n",
        "      <td> 0</td>\n",
        "      <td> 0</td>\n",
        "      <td> 0</td>\n",
        "      <td> 0</td>\n",
        "      <td> 0</td>\n",
        "      <td> 0</td>\n",
        "      <td> 0</td>\n",
        "      <td> 0</td>\n",
        "      <td> 0</td>\n",
        "      <td> 0</td>\n",
        "    </tr>\n",
        "    <tr>\n",
        "      <th>15      </th>\n",
        "      <td> 99274EDFA48DDA7B024A6B8BCA19EAE0</td>\n",
        "      <td> F1F0BF6913FAE17744D8B8B1FAEA5363</td>\n",
        "      <td> VTS</td>\n",
        "      <td> M</td>\n",
        "      <td> 2013-01-13 04:34:00</td>\n",
        "      <td> 2013-01-13 04:44:00</td>\n",
        "      <td> 1</td>\n",
        "      <td>  600</td>\n",
        "      <td>  1.73</td>\n",
        "      <td>-73.960197</td>\n",
        "      <td>...</td>\n",
        "      <td> 0</td>\n",
        "      <td> 0</td>\n",
        "      <td> 0</td>\n",
        "      <td> 0</td>\n",
        "      <td> 0</td>\n",
        "      <td> 0</td>\n",
        "      <td> 0</td>\n",
        "      <td> 0</td>\n",
        "      <td> 0</td>\n",
        "      <td> 0</td>\n",
        "    </tr>\n",
        "    <tr>\n",
        "      <th>16      </th>\n",
        "      <td> D111EEC901448CEE65D1DF98F4E3CE10</td>\n",
        "      <td> 8962F17FAA0A29BF05C4660AA4F4E514</td>\n",
        "      <td> VTS</td>\n",
        "      <td> M</td>\n",
        "      <td> 2013-01-13 04:25:00</td>\n",
        "      <td> 2013-01-13 04:39:00</td>\n",
        "      <td> 4</td>\n",
        "      <td>  840</td>\n",
        "      <td>  4.81</td>\n",
        "      <td>-73.987656</td>\n",
        "      <td>...</td>\n",
        "      <td> 0</td>\n",
        "      <td> 0</td>\n",
        "      <td> 0</td>\n",
        "      <td> 0</td>\n",
        "      <td> 0</td>\n",
        "      <td> 0</td>\n",
        "      <td> 0</td>\n",
        "      <td> 0</td>\n",
        "      <td> 0</td>\n",
        "      <td> 0</td>\n",
        "    </tr>\n",
        "    <tr>\n",
        "      <th>17      </th>\n",
        "      <td> 84C5F6C940C24C55D8D7C75F3F75F14F</td>\n",
        "      <td> D48C1097AF78B31964D8DE00A4A71AC2</td>\n",
        "      <td> VTS</td>\n",
        "      <td> M</td>\n",
        "      <td> 2013-01-13 04:34:00</td>\n",
        "      <td> 2013-01-13 04:42:00</td>\n",
        "      <td> 1</td>\n",
        "      <td>  480</td>\n",
        "      <td>  1.52</td>\n",
        "      <td>-73.990540</td>\n",
        "      <td>...</td>\n",
        "      <td> 0</td>\n",
        "      <td> 0</td>\n",
        "      <td> 0</td>\n",
        "      <td> 0</td>\n",
        "      <td> 0</td>\n",
        "      <td> 0</td>\n",
        "      <td> 0</td>\n",
        "      <td> 0</td>\n",
        "      <td> 0</td>\n",
        "      <td> 0</td>\n",
        "    </tr>\n",
        "    <tr>\n",
        "      <th>18      </th>\n",
        "      <td> ADDB6F51BFFAFA8603840526A7923A51</td>\n",
        "      <td> 93052C01A5C67ACDDB265D7038CB3B44</td>\n",
        "      <td> VTS</td>\n",
        "      <td> M</td>\n",
        "      <td> 2013-01-13 04:40:00</td>\n",
        "      <td> 2013-01-13 04:45:00</td>\n",
        "      <td> 1</td>\n",
        "      <td>  300</td>\n",
        "      <td>  1.33</td>\n",
        "      <td>-73.993446</td>\n",
        "      <td>...</td>\n",
        "      <td> 0</td>\n",
        "      <td> 0</td>\n",
        "      <td> 0</td>\n",
        "      <td> 0</td>\n",
        "      <td> 0</td>\n",
        "      <td> 0</td>\n",
        "      <td> 0</td>\n",
        "      <td> 0</td>\n",
        "      <td> 0</td>\n",
        "      <td> 0</td>\n",
        "    </tr>\n",
        "    <tr>\n",
        "      <th>19      </th>\n",
        "      <td> 24A79226E819C16546C3634C824EAEB8</td>\n",
        "      <td> 45463936BB36B60963A6F942446AEB59</td>\n",
        "      <td> VTS</td>\n",
        "      <td> M</td>\n",
        "      <td> 2013-01-13 04:37:00</td>\n",
        "      <td> 2013-01-13 04:48:00</td>\n",
        "      <td> 1</td>\n",
        "      <td>  660</td>\n",
        "      <td>  2.90</td>\n",
        "      <td>-73.988518</td>\n",
        "      <td>...</td>\n",
        "      <td> 0</td>\n",
        "      <td> 0</td>\n",
        "      <td> 0</td>\n",
        "      <td> 0</td>\n",
        "      <td> 0</td>\n",
        "      <td> 0</td>\n",
        "      <td> 0</td>\n",
        "      <td> 0</td>\n",
        "      <td> 0</td>\n",
        "      <td> 0</td>\n",
        "    </tr>\n",
        "    <tr>\n",
        "      <th>20      </th>\n",
        "      <td> EC05D1578FBB29AAC62505CC1683C5E4</td>\n",
        "      <td> 8FAD076F7BA2D0F5F1E32A9EB396ECC3</td>\n",
        "      <td> VTS</td>\n",
        "      <td> M</td>\n",
        "      <td> 2013-01-13 04:14:00</td>\n",
        "      <td> 2013-01-13 04:45:00</td>\n",
        "      <td> 1</td>\n",
        "      <td> 1860</td>\n",
        "      <td>  5.71</td>\n",
        "      <td>-73.988808</td>\n",
        "      <td>...</td>\n",
        "      <td> 0</td>\n",
        "      <td> 0</td>\n",
        "      <td> 0</td>\n",
        "      <td> 0</td>\n",
        "      <td> 0</td>\n",
        "      <td> 0</td>\n",
        "      <td> 0</td>\n",
        "      <td> 0</td>\n",
        "      <td> 0</td>\n",
        "      <td> 0</td>\n",
        "    </tr>\n",
        "    <tr>\n",
        "      <th>21      </th>\n",
        "      <td> 1A052D0501F70E8A989BA6BF44A72880</td>\n",
        "      <td> 5428D441EB23C859AF5AEA63B3BB6897</td>\n",
        "      <td> VTS</td>\n",
        "      <td> M</td>\n",
        "      <td> 2013-01-13 04:38:00</td>\n",
        "      <td> 2013-01-13 04:46:00</td>\n",
        "      <td> 5</td>\n",
        "      <td>  480</td>\n",
        "      <td>  1.92</td>\n",
        "      <td>-73.971642</td>\n",
        "      <td>...</td>\n",
        "      <td> 0</td>\n",
        "      <td> 0</td>\n",
        "      <td> 0</td>\n",
        "      <td> 0</td>\n",
        "      <td> 0</td>\n",
        "      <td> 0</td>\n",
        "      <td> 0</td>\n",
        "      <td> 0</td>\n",
        "      <td> 0</td>\n",
        "      <td> 0</td>\n",
        "    </tr>\n",
        "    <tr>\n",
        "      <th>22      </th>\n",
        "      <td> 0E2CA825AD133D022E902949D3D48128</td>\n",
        "      <td> 051E51520D3FF77D6185A9CAF4881877</td>\n",
        "      <td> VTS</td>\n",
        "      <td> M</td>\n",
        "      <td> 2013-01-13 04:50:00</td>\n",
        "      <td> 2013-01-13 04:57:00</td>\n",
        "      <td> 1</td>\n",
        "      <td>  420</td>\n",
        "      <td>  2.50</td>\n",
        "      <td>-73.983078</td>\n",
        "      <td>...</td>\n",
        "      <td> 0</td>\n",
        "      <td> 0</td>\n",
        "      <td> 0</td>\n",
        "      <td> 0</td>\n",
        "      <td> 0</td>\n",
        "      <td> 0</td>\n",
        "      <td> 0</td>\n",
        "      <td> 0</td>\n",
        "      <td> 0</td>\n",
        "      <td> 0</td>\n",
        "    </tr>\n",
        "    <tr>\n",
        "      <th>23      </th>\n",
        "      <td> E2099162DA383A80E2EEF8D61A2612B3</td>\n",
        "      <td> A40155E00B0D5728EDB91EAB68C0A303</td>\n",
        "      <td> VTS</td>\n",
        "      <td> M</td>\n",
        "      <td> 2013-01-13 11:05:00</td>\n",
        "      <td> 2013-01-13 11:12:00</td>\n",
        "      <td> 1</td>\n",
        "      <td>  420</td>\n",
        "      <td>  1.59</td>\n",
        "      <td>-73.988136</td>\n",
        "      <td>...</td>\n",
        "      <td> 0</td>\n",
        "      <td> 0</td>\n",
        "      <td> 0</td>\n",
        "      <td> 0</td>\n",
        "      <td> 0</td>\n",
        "      <td> 0</td>\n",
        "      <td> 0</td>\n",
        "      <td> 0</td>\n",
        "      <td> 0</td>\n",
        "      <td> 0</td>\n",
        "    </tr>\n",
        "    <tr>\n",
        "      <th>24      </th>\n",
        "      <td> 6BCA6CE04F3A2391FCA2CACC1EEB3CD3</td>\n",
        "      <td> 7C92D48CDB2FCB5B007E31ACE93CC5E9</td>\n",
        "      <td> VTS</td>\n",
        "      <td> M</td>\n",
        "      <td> 2013-01-13 11:00:00</td>\n",
        "      <td> 2013-01-13 11:06:00</td>\n",
        "      <td> 6</td>\n",
        "      <td>  360</td>\n",
        "      <td>  1.02</td>\n",
        "      <td>-73.993469</td>\n",
        "      <td>...</td>\n",
        "      <td> 0</td>\n",
        "      <td> 0</td>\n",
        "      <td> 0</td>\n",
        "      <td> 0</td>\n",
        "      <td> 0</td>\n",
        "      <td> 0</td>\n",
        "      <td> 0</td>\n",
        "      <td> 0</td>\n",
        "      <td> 0</td>\n",
        "      <td> 0</td>\n",
        "    </tr>\n",
        "    <tr>\n",
        "      <th>25      </th>\n",
        "      <td> D4677BB37EDBA5626C026695A5384F8E</td>\n",
        "      <td> E32A7CD4BDE9EC17A2EADA7A0662D6B6</td>\n",
        "      <td> VTS</td>\n",
        "      <td> M</td>\n",
        "      <td> 2013-01-13 11:05:00</td>\n",
        "      <td> 2013-01-13 11:08:00</td>\n",
        "      <td> 5</td>\n",
        "      <td>  180</td>\n",
        "      <td>  0.88</td>\n",
        "      <td>-73.960136</td>\n",
        "      <td>...</td>\n",
        "      <td> 0</td>\n",
        "      <td> 0</td>\n",
        "      <td> 0</td>\n",
        "      <td> 0</td>\n",
        "      <td> 0</td>\n",
        "      <td> 0</td>\n",
        "      <td> 0</td>\n",
        "      <td> 0</td>\n",
        "      <td> 0</td>\n",
        "      <td> 0</td>\n",
        "    </tr>\n",
        "    <tr>\n",
        "      <th>26      </th>\n",
        "      <td> 5562E98BA4BD4057E5626F1C64AF72B3</td>\n",
        "      <td> F4199818A317391BA1E973E0E75A279F</td>\n",
        "      <td> VTS</td>\n",
        "      <td> M</td>\n",
        "      <td> 2013-01-13 11:00:00</td>\n",
        "      <td> 2013-01-13 11:08:00</td>\n",
        "      <td> 2</td>\n",
        "      <td>  480</td>\n",
        "      <td>  1.34</td>\n",
        "      <td>-73.980530</td>\n",
        "      <td>...</td>\n",
        "      <td> 0</td>\n",
        "      <td> 0</td>\n",
        "      <td> 0</td>\n",
        "      <td> 0</td>\n",
        "      <td> 0</td>\n",
        "      <td> 0</td>\n",
        "      <td> 0</td>\n",
        "      <td> 0</td>\n",
        "      <td> 0</td>\n",
        "      <td> 0</td>\n",
        "    </tr>\n",
        "    <tr>\n",
        "      <th>27      </th>\n",
        "      <td> 1F2826FDE3A968E90FE1D503096804AF</td>\n",
        "      <td> BAC563FFEA61AB268A755A12F2E6561F</td>\n",
        "      <td> VTS</td>\n",
        "      <td> M</td>\n",
        "      <td> 2013-01-13 11:11:00</td>\n",
        "      <td> 2013-01-13 11:13:00</td>\n",
        "      <td> 1</td>\n",
        "      <td>  120</td>\n",
        "      <td>  0.29</td>\n",
        "      <td>-73.968491</td>\n",
        "      <td>...</td>\n",
        "      <td> 0</td>\n",
        "      <td> 0</td>\n",
        "      <td> 0</td>\n",
        "      <td> 0</td>\n",
        "      <td> 0</td>\n",
        "      <td> 0</td>\n",
        "      <td> 0</td>\n",
        "      <td> 0</td>\n",
        "      <td> 0</td>\n",
        "      <td> 0</td>\n",
        "    </tr>\n",
        "    <tr>\n",
        "      <th>28      </th>\n",
        "      <td> 891EDD34EF8DAD06FF84C2178D7FC346</td>\n",
        "      <td> BF763EFF830D208FFBB97A6FE0375896</td>\n",
        "      <td> VTS</td>\n",
        "      <td> M</td>\n",
        "      <td> 2013-01-13 04:34:00</td>\n",
        "      <td> 2013-01-13 04:37:00</td>\n",
        "      <td> 2</td>\n",
        "      <td>  180</td>\n",
        "      <td>  0.75</td>\n",
        "      <td>-73.913818</td>\n",
        "      <td>...</td>\n",
        "      <td> 0</td>\n",
        "      <td> 0</td>\n",
        "      <td> 0</td>\n",
        "      <td> 0</td>\n",
        "      <td> 0</td>\n",
        "      <td> 0</td>\n",
        "      <td> 0</td>\n",
        "      <td> 0</td>\n",
        "      <td> 0</td>\n",
        "      <td> 0</td>\n",
        "    </tr>\n",
        "    <tr>\n",
        "      <th>29      </th>\n",
        "      <td> F5B5E83EF52481B2BAD92B1CD8FA9EC7</td>\n",
        "      <td> E3D586168AE361713191D71B8C37F9FC</td>\n",
        "      <td> VTS</td>\n",
        "      <td> M</td>\n",
        "      <td> 2013-01-13 11:06:00</td>\n",
        "      <td> 2013-01-13 11:07:00</td>\n",
        "      <td> 1</td>\n",
        "      <td>   60</td>\n",
        "      <td>  0.61</td>\n",
        "      <td>-73.991760</td>\n",
        "      <td>...</td>\n",
        "      <td> 0</td>\n",
        "      <td> 0</td>\n",
        "      <td> 0</td>\n",
        "      <td> 0</td>\n",
        "      <td> 0</td>\n",
        "      <td> 0</td>\n",
        "      <td> 0</td>\n",
        "      <td> 0</td>\n",
        "      <td> 0</td>\n",
        "      <td> 0</td>\n",
        "    </tr>\n",
        "    <tr>\n",
        "      <th>...</th>\n",
        "      <td>...</td>\n",
        "      <td>...</td>\n",
        "      <td>...</td>\n",
        "      <td>...</td>\n",
        "      <td>...</td>\n",
        "      <td>...</td>\n",
        "      <td>...</td>\n",
        "      <td>...</td>\n",
        "      <td>...</td>\n",
        "      <td>...</td>\n",
        "      <td>...</td>\n",
        "      <td>...</td>\n",
        "      <td>...</td>\n",
        "      <td>...</td>\n",
        "      <td>...</td>\n",
        "      <td>...</td>\n",
        "      <td>...</td>\n",
        "      <td>...</td>\n",
        "      <td>...</td>\n",
        "      <td>...</td>\n",
        "      <td>...</td>\n",
        "    </tr>\n",
        "    <tr>\n",
        "      <th>13876585</th>\n",
        "      <td> 237F49C3ECC11F5024B254268F054384</td>\n",
        "      <td> 93C363DDF8ED9385D65FAD07CE3F5F07</td>\n",
        "      <td> CMT</td>\n",
        "      <td> N</td>\n",
        "      <td> 2013-01-07 07:48:00</td>\n",
        "      <td> 2013-01-07 07:59:01</td>\n",
        "      <td> 2</td>\n",
        "      <td>  661</td>\n",
        "      <td>  2.90</td>\n",
        "      <td>-73.982841</td>\n",
        "      <td>...</td>\n",
        "      <td> 0</td>\n",
        "      <td> 0</td>\n",
        "      <td> 0</td>\n",
        "      <td> 0</td>\n",
        "      <td> 0</td>\n",
        "      <td> 0</td>\n",
        "      <td> 0</td>\n",
        "      <td> 0</td>\n",
        "      <td> 0</td>\n",
        "      <td> 0</td>\n",
        "    </tr>\n",
        "    <tr>\n",
        "      <th>13876586</th>\n",
        "      <td> 237F49C3ECC11F5024B254268F054384</td>\n",
        "      <td> 93C363DDF8ED9385D65FAD07CE3F5F07</td>\n",
        "      <td> CMT</td>\n",
        "      <td> N</td>\n",
        "      <td> 2013-01-07 09:08:37</td>\n",
        "      <td> 2013-01-07 09:13:33</td>\n",
        "      <td> 1</td>\n",
        "      <td>  296</td>\n",
        "      <td>  0.50</td>\n",
        "      <td>-73.976494</td>\n",
        "      <td>...</td>\n",
        "      <td> 0</td>\n",
        "      <td> 0</td>\n",
        "      <td> 0</td>\n",
        "      <td> 0</td>\n",
        "      <td> 0</td>\n",
        "      <td> 0</td>\n",
        "      <td> 0</td>\n",
        "      <td> 0</td>\n",
        "      <td> 0</td>\n",
        "      <td> 0</td>\n",
        "    </tr>\n",
        "    <tr>\n",
        "      <th>13876587</th>\n",
        "      <td> 4C005EEBAA7BF26B84B21586332488A2</td>\n",
        "      <td> 351BE7D984BE17DB2FA80A748E816472</td>\n",
        "      <td> CMT</td>\n",
        "      <td> N</td>\n",
        "      <td> 2013-01-07 23:47:47</td>\n",
        "      <td> 2013-01-07 23:54:43</td>\n",
        "      <td> 1</td>\n",
        "      <td>  415</td>\n",
        "      <td>  1.50</td>\n",
        "      <td>-73.995262</td>\n",
        "      <td>...</td>\n",
        "      <td> 0</td>\n",
        "      <td> 0</td>\n",
        "      <td> 0</td>\n",
        "      <td> 0</td>\n",
        "      <td> 0</td>\n",
        "      <td> 0</td>\n",
        "      <td> 0</td>\n",
        "      <td> 0</td>\n",
        "      <td> 0</td>\n",
        "      <td> 0</td>\n",
        "    </tr>\n",
        "    <tr>\n",
        "      <th>13876588</th>\n",
        "      <td> 32D306FD3A4D7CEDCFD8D644294DD5B7</td>\n",
        "      <td> 05EACD5B806FC3D01A377606D37CF327</td>\n",
        "      <td> CMT</td>\n",
        "      <td> N</td>\n",
        "      <td> 2013-01-08 15:11:04</td>\n",
        "      <td> 2013-01-08 15:24:18</td>\n",
        "      <td> 2</td>\n",
        "      <td>  794</td>\n",
        "      <td>  2.10</td>\n",
        "      <td>-73.969620</td>\n",
        "      <td>...</td>\n",
        "      <td> 0</td>\n",
        "      <td> 0</td>\n",
        "      <td> 0</td>\n",
        "      <td> 0</td>\n",
        "      <td> 0</td>\n",
        "      <td> 0</td>\n",
        "      <td> 0</td>\n",
        "      <td> 0</td>\n",
        "      <td> 0</td>\n",
        "      <td> 0</td>\n",
        "    </tr>\n",
        "    <tr>\n",
        "      <th>13876589</th>\n",
        "      <td> 32D306FD3A4D7CEDCFD8D644294DD5B7</td>\n",
        "      <td> 05EACD5B806FC3D01A377606D37CF327</td>\n",
        "      <td> CMT</td>\n",
        "      <td> N</td>\n",
        "      <td> 2013-01-08 08:25:24</td>\n",
        "      <td> 2013-01-08 08:35:12</td>\n",
        "      <td> 1</td>\n",
        "      <td>  588</td>\n",
        "      <td>  1.20</td>\n",
        "      <td>-73.965637</td>\n",
        "      <td>...</td>\n",
        "      <td> 0</td>\n",
        "      <td> 0</td>\n",
        "      <td> 0</td>\n",
        "      <td> 0</td>\n",
        "      <td> 0</td>\n",
        "      <td> 0</td>\n",
        "      <td> 0</td>\n",
        "      <td> 0</td>\n",
        "      <td> 0</td>\n",
        "      <td> 0</td>\n",
        "    </tr>\n",
        "    <tr>\n",
        "      <th>13876590</th>\n",
        "      <td> 50296A056AF5D221536DC98ABB1E3274</td>\n",
        "      <td> 4F3E6D0E69CABD8954F8A126D54C5C20</td>\n",
        "      <td> CMT</td>\n",
        "      <td> N</td>\n",
        "      <td> 2013-01-08 02:37:37</td>\n",
        "      <td> 2013-01-08 02:55:20</td>\n",
        "      <td> 3</td>\n",
        "      <td> 1063</td>\n",
        "      <td>  8.70</td>\n",
        "      <td>-74.003082</td>\n",
        "      <td>...</td>\n",
        "      <td> 0</td>\n",
        "      <td> 0</td>\n",
        "      <td> 0</td>\n",
        "      <td> 0</td>\n",
        "      <td> 0</td>\n",
        "      <td> 0</td>\n",
        "      <td> 0</td>\n",
        "      <td> 0</td>\n",
        "      <td> 0</td>\n",
        "      <td> 0</td>\n",
        "    </tr>\n",
        "    <tr>\n",
        "      <th>13876591</th>\n",
        "      <td> C6CE309A20A523E64FDCDECF150A2EC1</td>\n",
        "      <td> 3DC3C9552D190C5D26B0358C23E449A6</td>\n",
        "      <td> CMT</td>\n",
        "      <td> N</td>\n",
        "      <td> 2013-01-10 08:02:56</td>\n",
        "      <td> 2013-01-10 08:14:24</td>\n",
        "      <td> 1</td>\n",
        "      <td>  687</td>\n",
        "      <td>  2.70</td>\n",
        "      <td>-73.992874</td>\n",
        "      <td>...</td>\n",
        "      <td> 0</td>\n",
        "      <td> 0</td>\n",
        "      <td> 0</td>\n",
        "      <td> 0</td>\n",
        "      <td> 0</td>\n",
        "      <td> 0</td>\n",
        "      <td> 0</td>\n",
        "      <td> 0</td>\n",
        "      <td> 0</td>\n",
        "      <td> 0</td>\n",
        "    </tr>\n",
        "    <tr>\n",
        "      <th>13876592</th>\n",
        "      <td> C6CE309A20A523E64FDCDECF150A2EC1</td>\n",
        "      <td> 3DC3C9552D190C5D26B0358C23E449A6</td>\n",
        "      <td> CMT</td>\n",
        "      <td> N</td>\n",
        "      <td> 2013-01-10 15:00:16</td>\n",
        "      <td> 2013-01-10 15:09:03</td>\n",
        "      <td> 1</td>\n",
        "      <td>  527</td>\n",
        "      <td>  0.70</td>\n",
        "      <td>-73.974838</td>\n",
        "      <td>...</td>\n",
        "      <td> 0</td>\n",
        "      <td> 0</td>\n",
        "      <td> 0</td>\n",
        "      <td> 0</td>\n",
        "      <td> 0</td>\n",
        "      <td> 0</td>\n",
        "      <td> 0</td>\n",
        "      <td> 0</td>\n",
        "      <td> 0</td>\n",
        "      <td> 0</td>\n",
        "    </tr>\n",
        "    <tr>\n",
        "      <th>13876593</th>\n",
        "      <td> 5E162F2D7F569949769648C56A23C525</td>\n",
        "      <td> 6F7932F2B112DAABF1F2A385FE2AB819</td>\n",
        "      <td> CMT</td>\n",
        "      <td> N</td>\n",
        "      <td> 2013-01-07 23:16:34</td>\n",
        "      <td> 2013-01-07 23:43:22</td>\n",
        "      <td> 2</td>\n",
        "      <td> 1608</td>\n",
        "      <td> 13.70</td>\n",
        "      <td>-73.982948</td>\n",
        "      <td>...</td>\n",
        "      <td> 0</td>\n",
        "      <td> 0</td>\n",
        "      <td> 0</td>\n",
        "      <td> 0</td>\n",
        "      <td> 0</td>\n",
        "      <td> 0</td>\n",
        "      <td> 0</td>\n",
        "      <td> 0</td>\n",
        "      <td> 0</td>\n",
        "      <td> 0</td>\n",
        "    </tr>\n",
        "    <tr>\n",
        "      <th>13876594</th>\n",
        "      <td> 1836E1591EE79F810104064B945747AB</td>\n",
        "      <td> 18EDD3FC80A78DC262E2442FEEA55F01</td>\n",
        "      <td> CMT</td>\n",
        "      <td> N</td>\n",
        "      <td> 2013-01-08 03:05:09</td>\n",
        "      <td> 2013-01-08 03:17:28</td>\n",
        "      <td> 1</td>\n",
        "      <td>  739</td>\n",
        "      <td>  4.30</td>\n",
        "      <td>-73.987808</td>\n",
        "      <td>...</td>\n",
        "      <td> 0</td>\n",
        "      <td> 0</td>\n",
        "      <td> 0</td>\n",
        "      <td> 0</td>\n",
        "      <td> 0</td>\n",
        "      <td> 0</td>\n",
        "      <td> 0</td>\n",
        "      <td> 0</td>\n",
        "      <td> 0</td>\n",
        "      <td> 0</td>\n",
        "    </tr>\n",
        "    <tr>\n",
        "      <th>13876595</th>\n",
        "      <td> 1836E1591EE79F810104064B945747AB</td>\n",
        "      <td> 18EDD3FC80A78DC262E2442FEEA55F01</td>\n",
        "      <td> CMT</td>\n",
        "      <td> N</td>\n",
        "      <td> 2013-01-07 17:54:25</td>\n",
        "      <td> 2013-01-07 18:11:41</td>\n",
        "      <td> 1</td>\n",
        "      <td> 1035</td>\n",
        "      <td>  2.90</td>\n",
        "      <td>-73.996529</td>\n",
        "      <td>...</td>\n",
        "      <td> 0</td>\n",
        "      <td> 0</td>\n",
        "      <td> 0</td>\n",
        "      <td> 0</td>\n",
        "      <td> 0</td>\n",
        "      <td> 0</td>\n",
        "      <td> 0</td>\n",
        "      <td> 0</td>\n",
        "      <td> 0</td>\n",
        "      <td> 0</td>\n",
        "    </tr>\n",
        "    <tr>\n",
        "      <th>13876596</th>\n",
        "      <td> A5A69FAD94C3DC7854F9DDEA994B6380</td>\n",
        "      <td> 178BA04DD1A4E3A184C86AA3F110A742</td>\n",
        "      <td> CMT</td>\n",
        "      <td> N</td>\n",
        "      <td> 2013-01-10 08:42:47</td>\n",
        "      <td> 2013-01-10 08:53:25</td>\n",
        "      <td> 1</td>\n",
        "      <td>  637</td>\n",
        "      <td>  1.10</td>\n",
        "      <td>-73.971596</td>\n",
        "      <td>...</td>\n",
        "      <td> 0</td>\n",
        "      <td> 0</td>\n",
        "      <td> 0</td>\n",
        "      <td> 0</td>\n",
        "      <td> 0</td>\n",
        "      <td> 0</td>\n",
        "      <td> 0</td>\n",
        "      <td> 0</td>\n",
        "      <td> 0</td>\n",
        "      <td> 0</td>\n",
        "    </tr>\n",
        "    <tr>\n",
        "      <th>13876597</th>\n",
        "      <td> 5E162F2D7F569949769648C56A23C525</td>\n",
        "      <td> 6F7932F2B112DAABF1F2A385FE2AB819</td>\n",
        "      <td> CMT</td>\n",
        "      <td> N</td>\n",
        "      <td> 2013-01-07 20:01:08</td>\n",
        "      <td> 2013-01-07 20:10:23</td>\n",
        "      <td> 1</td>\n",
        "      <td>  555</td>\n",
        "      <td>  1.70</td>\n",
        "      <td>-73.988129</td>\n",
        "      <td>...</td>\n",
        "      <td> 0</td>\n",
        "      <td> 0</td>\n",
        "      <td> 0</td>\n",
        "      <td> 0</td>\n",
        "      <td> 0</td>\n",
        "      <td> 0</td>\n",
        "      <td> 0</td>\n",
        "      <td> 0</td>\n",
        "      <td> 0</td>\n",
        "      <td> 0</td>\n",
        "    </tr>\n",
        "    <tr>\n",
        "      <th>13876598</th>\n",
        "      <td> B36D470B76BD8F6D720A83D08891754E</td>\n",
        "      <td> A86011E8B4D0FCC19283230950DFCB3E</td>\n",
        "      <td> CMT</td>\n",
        "      <td> N</td>\n",
        "      <td> 2013-01-07 22:01:57</td>\n",
        "      <td> 2013-01-07 22:17:36</td>\n",
        "      <td> 2</td>\n",
        "      <td>  939</td>\n",
        "      <td>  6.00</td>\n",
        "      <td>-73.984634</td>\n",
        "      <td>...</td>\n",
        "      <td> 0</td>\n",
        "      <td> 0</td>\n",
        "      <td> 0</td>\n",
        "      <td> 0</td>\n",
        "      <td> 0</td>\n",
        "      <td> 0</td>\n",
        "      <td> 0</td>\n",
        "      <td> 0</td>\n",
        "      <td> 0</td>\n",
        "      <td> 0</td>\n",
        "    </tr>\n",
        "    <tr>\n",
        "      <th>13876599</th>\n",
        "      <td> 47CFD616C057758044C57D1B4BEFE759</td>\n",
        "      <td> A6DCBA545B1E1A2DC24BFEE1C0A54029</td>\n",
        "      <td> CMT</td>\n",
        "      <td> N</td>\n",
        "      <td> 2013-01-07 19:48:22</td>\n",
        "      <td> 2013-01-07 19:51:22</td>\n",
        "      <td> 1</td>\n",
        "      <td>  179</td>\n",
        "      <td>  0.50</td>\n",
        "      <td>-73.972740</td>\n",
        "      <td>...</td>\n",
        "      <td> 0</td>\n",
        "      <td> 0</td>\n",
        "      <td> 0</td>\n",
        "      <td> 0</td>\n",
        "      <td> 0</td>\n",
        "      <td> 0</td>\n",
        "      <td> 0</td>\n",
        "      <td> 0</td>\n",
        "      <td> 0</td>\n",
        "      <td> 0</td>\n",
        "    </tr>\n",
        "    <tr>\n",
        "      <th>13876600</th>\n",
        "      <td> 0CC08DE5645A7137059499EA11886805</td>\n",
        "      <td> 4F2627F9FD34A9B9EFCCFC5147048345</td>\n",
        "      <td> CMT</td>\n",
        "      <td> N</td>\n",
        "      <td> 2013-01-08 00:26:18</td>\n",
        "      <td> 2013-01-08 00:33:41</td>\n",
        "      <td> 1</td>\n",
        "      <td>  442</td>\n",
        "      <td>  2.20</td>\n",
        "      <td>-74.006546</td>\n",
        "      <td>...</td>\n",
        "      <td> 0</td>\n",
        "      <td> 0</td>\n",
        "      <td> 0</td>\n",
        "      <td> 0</td>\n",
        "      <td> 0</td>\n",
        "      <td> 0</td>\n",
        "      <td> 0</td>\n",
        "      <td> 0</td>\n",
        "      <td> 0</td>\n",
        "      <td> 0</td>\n",
        "    </tr>\n",
        "    <tr>\n",
        "      <th>13876601</th>\n",
        "      <td> 0CC08DE5645A7137059499EA11886805</td>\n",
        "      <td> 4F2627F9FD34A9B9EFCCFC5147048345</td>\n",
        "      <td> CMT</td>\n",
        "      <td> N</td>\n",
        "      <td> 2013-01-07 19:57:17</td>\n",
        "      <td> 2013-01-07 20:07:02</td>\n",
        "      <td> 1</td>\n",
        "      <td>  585</td>\n",
        "      <td>  4.00</td>\n",
        "      <td>-74.014114</td>\n",
        "      <td>...</td>\n",
        "      <td> 0</td>\n",
        "      <td> 0</td>\n",
        "      <td> 0</td>\n",
        "      <td> 0</td>\n",
        "      <td> 0</td>\n",
        "      <td> 0</td>\n",
        "      <td> 0</td>\n",
        "      <td> 0</td>\n",
        "      <td> 0</td>\n",
        "      <td> 0</td>\n",
        "    </tr>\n",
        "    <tr>\n",
        "      <th>13876602</th>\n",
        "      <td> B7A16B1C396F4A5113257DDEB043D953</td>\n",
        "      <td> 3DC4ACD88D75EF04FBC9CCDFEEF7C71E</td>\n",
        "      <td> CMT</td>\n",
        "      <td> N</td>\n",
        "      <td> 2013-01-07 18:50:36</td>\n",
        "      <td> 2013-01-07 19:02:03</td>\n",
        "      <td> 1</td>\n",
        "      <td>  686</td>\n",
        "      <td>  2.20</td>\n",
        "      <td>-73.989914</td>\n",
        "      <td>...</td>\n",
        "      <td> 0</td>\n",
        "      <td> 0</td>\n",
        "      <td> 0</td>\n",
        "      <td> 0</td>\n",
        "      <td> 0</td>\n",
        "      <td> 0</td>\n",
        "      <td> 0</td>\n",
        "      <td> 0</td>\n",
        "      <td> 0</td>\n",
        "      <td> 0</td>\n",
        "    </tr>\n",
        "    <tr>\n",
        "      <th>13876603</th>\n",
        "      <td> E71CDEFCB364DA0D385629612EE30642</td>\n",
        "      <td> C7259B75B62CB850082BDEB4149DC075</td>\n",
        "      <td> CMT</td>\n",
        "      <td> N</td>\n",
        "      <td> 2013-01-07 21:46:45</td>\n",
        "      <td> 2013-01-07 21:50:30</td>\n",
        "      <td> 1</td>\n",
        "      <td>  224</td>\n",
        "      <td>  0.90</td>\n",
        "      <td>-73.961113</td>\n",
        "      <td>...</td>\n",
        "      <td> 0</td>\n",
        "      <td> 0</td>\n",
        "      <td> 0</td>\n",
        "      <td> 0</td>\n",
        "      <td> 0</td>\n",
        "      <td> 0</td>\n",
        "      <td> 0</td>\n",
        "      <td> 0</td>\n",
        "      <td> 0</td>\n",
        "      <td> 0</td>\n",
        "    </tr>\n",
        "    <tr>\n",
        "      <th>13876604</th>\n",
        "      <td> E71CDEFCB364DA0D385629612EE30642</td>\n",
        "      <td> C7259B75B62CB850082BDEB4149DC075</td>\n",
        "      <td> CMT</td>\n",
        "      <td> N</td>\n",
        "      <td> 2013-01-07 21:53:35</td>\n",
        "      <td> 2013-01-07 21:54:57</td>\n",
        "      <td> 1</td>\n",
        "      <td>   82</td>\n",
        "      <td>  0.50</td>\n",
        "      <td>-73.964081</td>\n",
        "      <td>...</td>\n",
        "      <td> 0</td>\n",
        "      <td> 0</td>\n",
        "      <td> 0</td>\n",
        "      <td> 0</td>\n",
        "      <td> 0</td>\n",
        "      <td> 0</td>\n",
        "      <td> 0</td>\n",
        "      <td> 0</td>\n",
        "      <td> 0</td>\n",
        "      <td> 0</td>\n",
        "    </tr>\n",
        "    <tr>\n",
        "      <th>13876605</th>\n",
        "      <td> A8262FA0AFCB6C7229F6888EAFBDE076</td>\n",
        "      <td> 1BDF89260FEF1AE6FDDE839A0278D31D</td>\n",
        "      <td> CMT</td>\n",
        "      <td> N</td>\n",
        "      <td> 2013-01-07 07:29:06</td>\n",
        "      <td> 2013-01-07 08:19:39</td>\n",
        "      <td> 1</td>\n",
        "      <td> 3032</td>\n",
        "      <td> 21.30</td>\n",
        "      <td>-73.776794</td>\n",
        "      <td>...</td>\n",
        "      <td> 0</td>\n",
        "      <td> 0</td>\n",
        "      <td> 0</td>\n",
        "      <td> 0</td>\n",
        "      <td> 0</td>\n",
        "      <td> 0</td>\n",
        "      <td> 0</td>\n",
        "      <td> 0</td>\n",
        "      <td> 0</td>\n",
        "      <td> 0</td>\n",
        "    </tr>\n",
        "    <tr>\n",
        "      <th>13876606</th>\n",
        "      <td> A8262FA0AFCB6C7229F6888EAFBDE076</td>\n",
        "      <td> 1BDF89260FEF1AE6FDDE839A0278D31D</td>\n",
        "      <td> CMT</td>\n",
        "      <td> N</td>\n",
        "      <td> 2013-01-07 14:30:23</td>\n",
        "      <td> 2013-01-07 14:42:14</td>\n",
        "      <td> 1</td>\n",
        "      <td>  711</td>\n",
        "      <td>  1.40</td>\n",
        "      <td>-73.946114</td>\n",
        "      <td>...</td>\n",
        "      <td> 0</td>\n",
        "      <td> 0</td>\n",
        "      <td> 0</td>\n",
        "      <td> 0</td>\n",
        "      <td> 0</td>\n",
        "      <td> 0</td>\n",
        "      <td> 0</td>\n",
        "      <td> 0</td>\n",
        "      <td> 0</td>\n",
        "      <td> 0</td>\n",
        "    </tr>\n",
        "    <tr>\n",
        "      <th>13876607</th>\n",
        "      <td> F33EF464441839C6F0DABAABBC93B45D</td>\n",
        "      <td> 313F66DD09C308EADA3B307F6B8CF7A9</td>\n",
        "      <td> CMT</td>\n",
        "      <td> N</td>\n",
        "      <td> 2013-01-10 10:56:47</td>\n",
        "      <td> 2013-01-10 11:05:52</td>\n",
        "      <td> 1</td>\n",
        "      <td>  545</td>\n",
        "      <td>  1.40</td>\n",
        "      <td>-73.975410</td>\n",
        "      <td>...</td>\n",
        "      <td> 0</td>\n",
        "      <td> 0</td>\n",
        "      <td> 0</td>\n",
        "      <td> 0</td>\n",
        "      <td> 0</td>\n",
        "      <td> 0</td>\n",
        "      <td> 0</td>\n",
        "      <td> 0</td>\n",
        "      <td> 0</td>\n",
        "      <td> 0</td>\n",
        "    </tr>\n",
        "    <tr>\n",
        "      <th>13876608</th>\n",
        "      <td> 56CE01E7DBE0E6449FA1758F082D8884</td>\n",
        "      <td> 4C6FE2FCFED26629D515D291EC1516A0</td>\n",
        "      <td> CMT</td>\n",
        "      <td> N</td>\n",
        "      <td> 2013-01-10 14:50:01</td>\n",
        "      <td> 2013-01-10 15:19:10</td>\n",
        "      <td> 1</td>\n",
        "      <td> 1748</td>\n",
        "      <td>  4.00</td>\n",
        "      <td>-73.957344</td>\n",
        "      <td>...</td>\n",
        "      <td> 0</td>\n",
        "      <td> 0</td>\n",
        "      <td> 0</td>\n",
        "      <td> 0</td>\n",
        "      <td> 0</td>\n",
        "      <td> 0</td>\n",
        "      <td> 0</td>\n",
        "      <td> 0</td>\n",
        "      <td> 0</td>\n",
        "      <td> 0</td>\n",
        "    </tr>\n",
        "    <tr>\n",
        "      <th>13876609</th>\n",
        "      <td> 32201027CDC62D654DC3AD9747A07C96</td>\n",
        "      <td> B8DDB9F8143017E22104050B26C2A65D</td>\n",
        "      <td> CMT</td>\n",
        "      <td> N</td>\n",
        "      <td> 2013-01-05 08:58:18</td>\n",
        "      <td> 2013-01-05 09:05:56</td>\n",
        "      <td> 1</td>\n",
        "      <td>  458</td>\n",
        "      <td>  3.20</td>\n",
        "      <td>-73.998901</td>\n",
        "      <td>...</td>\n",
        "      <td> 0</td>\n",
        "      <td> 0</td>\n",
        "      <td> 0</td>\n",
        "      <td> 0</td>\n",
        "      <td> 0</td>\n",
        "      <td> 0</td>\n",
        "      <td> 0</td>\n",
        "      <td> 0</td>\n",
        "      <td> 0</td>\n",
        "      <td> 0</td>\n",
        "    </tr>\n",
        "    <tr>\n",
        "      <th>13876610</th>\n",
        "      <td> B33E71CD9E8FE1BE3B70FEB6E807DD15</td>\n",
        "      <td> BAF57796E45D921BB23217E17A372FF6</td>\n",
        "      <td> CMT</td>\n",
        "      <td> N</td>\n",
        "      <td> 2013-01-06 04:58:23</td>\n",
        "      <td> 2013-01-06 05:11:24</td>\n",
        "      <td> 1</td>\n",
        "      <td>  781</td>\n",
        "      <td>  3.30</td>\n",
        "      <td>-73.989029</td>\n",
        "      <td>...</td>\n",
        "      <td> 0</td>\n",
        "      <td> 0</td>\n",
        "      <td> 0</td>\n",
        "      <td> 0</td>\n",
        "      <td> 0</td>\n",
        "      <td> 0</td>\n",
        "      <td> 0</td>\n",
        "      <td> 0</td>\n",
        "      <td> 0</td>\n",
        "      <td> 0</td>\n",
        "    </tr>\n",
        "    <tr>\n",
        "      <th>13876611</th>\n",
        "      <td> ED160B76D5349C8AC1ECF22CD4B8D538</td>\n",
        "      <td> 3B93F6DA5DEBDE9560993FA624C4FF76</td>\n",
        "      <td> CMT</td>\n",
        "      <td> N</td>\n",
        "      <td> 2013-01-08 14:42:04</td>\n",
        "      <td> 2013-01-08 14:50:27</td>\n",
        "      <td> 1</td>\n",
        "      <td>  503</td>\n",
        "      <td>  1.00</td>\n",
        "      <td>-73.993042</td>\n",
        "      <td>...</td>\n",
        "      <td> 0</td>\n",
        "      <td> 0</td>\n",
        "      <td> 0</td>\n",
        "      <td> 0</td>\n",
        "      <td> 0</td>\n",
        "      <td> 0</td>\n",
        "      <td> 0</td>\n",
        "      <td> 0</td>\n",
        "      <td> 0</td>\n",
        "      <td> 0</td>\n",
        "    </tr>\n",
        "    <tr>\n",
        "      <th>13876612</th>\n",
        "      <td> D83F9AC0E33F6F19869C243BE6AB6FE5</td>\n",
        "      <td> 85A55B6772275374EF90AC9457DC1F83</td>\n",
        "      <td> CMT</td>\n",
        "      <td> N</td>\n",
        "      <td> 2013-01-10 13:29:23</td>\n",
        "      <td> 2013-01-10 13:34:45</td>\n",
        "      <td> 1</td>\n",
        "      <td>  321</td>\n",
        "      <td>  0.90</td>\n",
        "      <td>-73.979553</td>\n",
        "      <td>...</td>\n",
        "      <td> 0</td>\n",
        "      <td> 0</td>\n",
        "      <td> 0</td>\n",
        "      <td> 0</td>\n",
        "      <td> 0</td>\n",
        "      <td> 0</td>\n",
        "      <td> 0</td>\n",
        "      <td> 0</td>\n",
        "      <td> 0</td>\n",
        "      <td> 0</td>\n",
        "    </tr>\n",
        "    <tr>\n",
        "      <th>13876613</th>\n",
        "      <td> 04E59442A7DDBCE515E33CD355D866E7</td>\n",
        "      <td> 7913172189931A1A1632562B10AB53C4</td>\n",
        "      <td> CMT</td>\n",
        "      <td> N</td>\n",
        "      <td> 2013-01-06 16:30:15</td>\n",
        "      <td> 2013-01-06 16:42:26</td>\n",
        "      <td> 1</td>\n",
        "      <td>  730</td>\n",
        "      <td>  1.30</td>\n",
        "      <td>-73.968002</td>\n",
        "      <td>...</td>\n",
        "      <td> 0</td>\n",
        "      <td> 0</td>\n",
        "      <td> 0</td>\n",
        "      <td> 0</td>\n",
        "      <td> 0</td>\n",
        "      <td> 0</td>\n",
        "      <td> 0</td>\n",
        "      <td> 0</td>\n",
        "      <td> 0</td>\n",
        "      <td> 0</td>\n",
        "    </tr>\n",
        "    <tr>\n",
        "      <th>13876614</th>\n",
        "      <td> D30BED60331C79E3F7ACD05B325ED42F</td>\n",
        "      <td> B5E1D2461A5BCC8819188DACEC17CD69</td>\n",
        "      <td> CMT</td>\n",
        "      <td> N</td>\n",
        "      <td> 2013-01-05 20:38:46</td>\n",
        "      <td> 2013-01-05 20:43:06</td>\n",
        "      <td> 1</td>\n",
        "      <td>  260</td>\n",
        "      <td>  0.80</td>\n",
        "      <td>-73.982224</td>\n",
        "      <td>...</td>\n",
        "      <td> 0</td>\n",
        "      <td> 0</td>\n",
        "      <td> 0</td>\n",
        "      <td> 0</td>\n",
        "      <td> 0</td>\n",
        "      <td> 0</td>\n",
        "      <td> 0</td>\n",
        "      <td> 0</td>\n",
        "      <td> 0</td>\n",
        "      <td> 0</td>\n",
        "    </tr>\n",
        "  </tbody>\n",
        "</table>\n",
        "<p>13876615 rows \u00d7 27 columns</p>\n",
        "</div>"
       ],
       "metadata": {},
       "output_type": "pyout",
       "prompt_number": 40,
       "text": [
        "                                 medallion                      hack_license  \\\n",
        "0         DFD2202EE08F7A8DC9A57B02ACB81FE2  51EE87E3205C985EF8431D850C786310   \n",
        "1         0B57B9633A2FECD3D3B1944AFC7471CF  CCD4367B417ED6634D986F573A552A62   \n",
        "2         E6FBF80668FE0611AEA44FD9574A7E32  36773E80775F26CD1158EB5450A61C79   \n",
        "3         D8AADA4E722C87C10E609654612630DD  8F1E4F779A4D67431C3FCFA4E70A87DC   \n",
        "4         4C005EEBAA7BF26B84B21586332488A2  351BE7D984BE17DB2FA80A748E816472   \n",
        "5         E6FBF80668FE0611AEA44FD9574A7E32  36773E80775F26CD1158EB5450A61C79   \n",
        "6         F1EF8290A54338B1396DD98E38E09143  0FDDEFAFF6FC38BD632B6DDED47DA618   \n",
        "7         FAE1370A694D0621FAE1E62FAFD64080  265B3D7D30A9B7AE389A2626F6825266   \n",
        "8         1159BD618BE1D4A90D522416A77AC29A  9964A99249A4888E2C6AE55BA78A6F64   \n",
        "9         7A9728FFD700148BF60616DA97FFC3C3  D25781FA72D2C328B9F120736E6CAA68   \n",
        "10        C6CE309A20A523E64FDCDECF150A2EC1  3DC3C9552D190C5D26B0358C23E449A6   \n",
        "11        961D9C9506D105D3A7E88229F0487033  65683B8714DEF5F783E75E8111784177   \n",
        "12        FC82D4D00FE8AB93B2973EECB3559EA8  F554ED01B1DA0828B956446E40231C46   \n",
        "13        2111CFA825ECEE9430C3F075E8DC2E5A  3B23D23383A197F51D7B27F2C22D366A   \n",
        "14        867892F8F81A6590EB536BE1D4F6305C  DCAFC607007FA6C88E8331014061CEEA   \n",
        "15        99274EDFA48DDA7B024A6B8BCA19EAE0  F1F0BF6913FAE17744D8B8B1FAEA5363   \n",
        "16        D111EEC901448CEE65D1DF98F4E3CE10  8962F17FAA0A29BF05C4660AA4F4E514   \n",
        "17        84C5F6C940C24C55D8D7C75F3F75F14F  D48C1097AF78B31964D8DE00A4A71AC2   \n",
        "18        ADDB6F51BFFAFA8603840526A7923A51  93052C01A5C67ACDDB265D7038CB3B44   \n",
        "19        24A79226E819C16546C3634C824EAEB8  45463936BB36B60963A6F942446AEB59   \n",
        "20        EC05D1578FBB29AAC62505CC1683C5E4  8FAD076F7BA2D0F5F1E32A9EB396ECC3   \n",
        "21        1A052D0501F70E8A989BA6BF44A72880  5428D441EB23C859AF5AEA63B3BB6897   \n",
        "22        0E2CA825AD133D022E902949D3D48128  051E51520D3FF77D6185A9CAF4881877   \n",
        "23        E2099162DA383A80E2EEF8D61A2612B3  A40155E00B0D5728EDB91EAB68C0A303   \n",
        "24        6BCA6CE04F3A2391FCA2CACC1EEB3CD3  7C92D48CDB2FCB5B007E31ACE93CC5E9   \n",
        "25        D4677BB37EDBA5626C026695A5384F8E  E32A7CD4BDE9EC17A2EADA7A0662D6B6   \n",
        "26        5562E98BA4BD4057E5626F1C64AF72B3  F4199818A317391BA1E973E0E75A279F   \n",
        "27        1F2826FDE3A968E90FE1D503096804AF  BAC563FFEA61AB268A755A12F2E6561F   \n",
        "28        891EDD34EF8DAD06FF84C2178D7FC346  BF763EFF830D208FFBB97A6FE0375896   \n",
        "29        F5B5E83EF52481B2BAD92B1CD8FA9EC7  E3D586168AE361713191D71B8C37F9FC   \n",
        "...                                    ...                               ...   \n",
        "13876585  237F49C3ECC11F5024B254268F054384  93C363DDF8ED9385D65FAD07CE3F5F07   \n",
        "13876586  237F49C3ECC11F5024B254268F054384  93C363DDF8ED9385D65FAD07CE3F5F07   \n",
        "13876587  4C005EEBAA7BF26B84B21586332488A2  351BE7D984BE17DB2FA80A748E816472   \n",
        "13876588  32D306FD3A4D7CEDCFD8D644294DD5B7  05EACD5B806FC3D01A377606D37CF327   \n",
        "13876589  32D306FD3A4D7CEDCFD8D644294DD5B7  05EACD5B806FC3D01A377606D37CF327   \n",
        "13876590  50296A056AF5D221536DC98ABB1E3274  4F3E6D0E69CABD8954F8A126D54C5C20   \n",
        "13876591  C6CE309A20A523E64FDCDECF150A2EC1  3DC3C9552D190C5D26B0358C23E449A6   \n",
        "13876592  C6CE309A20A523E64FDCDECF150A2EC1  3DC3C9552D190C5D26B0358C23E449A6   \n",
        "13876593  5E162F2D7F569949769648C56A23C525  6F7932F2B112DAABF1F2A385FE2AB819   \n",
        "13876594  1836E1591EE79F810104064B945747AB  18EDD3FC80A78DC262E2442FEEA55F01   \n",
        "13876595  1836E1591EE79F810104064B945747AB  18EDD3FC80A78DC262E2442FEEA55F01   \n",
        "13876596  A5A69FAD94C3DC7854F9DDEA994B6380  178BA04DD1A4E3A184C86AA3F110A742   \n",
        "13876597  5E162F2D7F569949769648C56A23C525  6F7932F2B112DAABF1F2A385FE2AB819   \n",
        "13876598  B36D470B76BD8F6D720A83D08891754E  A86011E8B4D0FCC19283230950DFCB3E   \n",
        "13876599  47CFD616C057758044C57D1B4BEFE759  A6DCBA545B1E1A2DC24BFEE1C0A54029   \n",
        "13876600  0CC08DE5645A7137059499EA11886805  4F2627F9FD34A9B9EFCCFC5147048345   \n",
        "13876601  0CC08DE5645A7137059499EA11886805  4F2627F9FD34A9B9EFCCFC5147048345   \n",
        "13876602  B7A16B1C396F4A5113257DDEB043D953  3DC4ACD88D75EF04FBC9CCDFEEF7C71E   \n",
        "13876603  E71CDEFCB364DA0D385629612EE30642  C7259B75B62CB850082BDEB4149DC075   \n",
        "13876604  E71CDEFCB364DA0D385629612EE30642  C7259B75B62CB850082BDEB4149DC075   \n",
        "13876605  A8262FA0AFCB6C7229F6888EAFBDE076  1BDF89260FEF1AE6FDDE839A0278D31D   \n",
        "13876606  A8262FA0AFCB6C7229F6888EAFBDE076  1BDF89260FEF1AE6FDDE839A0278D31D   \n",
        "13876607  F33EF464441839C6F0DABAABBC93B45D  313F66DD09C308EADA3B307F6B8CF7A9   \n",
        "13876608  56CE01E7DBE0E6449FA1758F082D8884  4C6FE2FCFED26629D515D291EC1516A0   \n",
        "13876609  32201027CDC62D654DC3AD9747A07C96  B8DDB9F8143017E22104050B26C2A65D   \n",
        "13876610  B33E71CD9E8FE1BE3B70FEB6E807DD15  BAF57796E45D921BB23217E17A372FF6   \n",
        "13876611  ED160B76D5349C8AC1ECF22CD4B8D538  3B93F6DA5DEBDE9560993FA624C4FF76   \n",
        "13876612  D83F9AC0E33F6F19869C243BE6AB6FE5  85A55B6772275374EF90AC9457DC1F83   \n",
        "13876613  04E59442A7DDBCE515E33CD355D866E7  7913172189931A1A1632562B10AB53C4   \n",
        "13876614  D30BED60331C79E3F7ACD05B325ED42F  B5E1D2461A5BCC8819188DACEC17CD69   \n",
        "\n",
        "         vendor_id store_and_fwd_flag      pickup_datetime  \\\n",
        "0              CMT                  N  2013-01-07 23:25:03   \n",
        "1              CMT                  N  2013-01-07 12:39:18   \n",
        "2              CMT                  N  2013-01-07 06:08:51   \n",
        "3              CMT                  N  2013-01-10 23:41:51   \n",
        "4              CMT                  N  2013-01-07 21:13:02   \n",
        "5              CMT                  Y  2013-01-07 08:17:06   \n",
        "6              CMT                  N  2013-01-05 08:16:58   \n",
        "7              CMT                  N  2013-01-07 10:15:19   \n",
        "8              CMT                  N  2013-01-10 15:04:11   \n",
        "9              CMT                  N  2013-01-08 10:59:25   \n",
        "10             CMT                  N  2013-01-10 12:08:05   \n",
        "11             CMT                  N  2013-01-10 16:16:38   \n",
        "12             CMT                  N  2013-01-05 21:28:33   \n",
        "13             VTS                  M  2013-01-13 04:30:00   \n",
        "14             VTS                  M  2013-01-13 04:16:00   \n",
        "15             VTS                  M  2013-01-13 04:34:00   \n",
        "16             VTS                  M  2013-01-13 04:25:00   \n",
        "17             VTS                  M  2013-01-13 04:34:00   \n",
        "18             VTS                  M  2013-01-13 04:40:00   \n",
        "19             VTS                  M  2013-01-13 04:37:00   \n",
        "20             VTS                  M  2013-01-13 04:14:00   \n",
        "21             VTS                  M  2013-01-13 04:38:00   \n",
        "22             VTS                  M  2013-01-13 04:50:00   \n",
        "23             VTS                  M  2013-01-13 11:05:00   \n",
        "24             VTS                  M  2013-01-13 11:00:00   \n",
        "25             VTS                  M  2013-01-13 11:05:00   \n",
        "26             VTS                  M  2013-01-13 11:00:00   \n",
        "27             VTS                  M  2013-01-13 11:11:00   \n",
        "28             VTS                  M  2013-01-13 04:34:00   \n",
        "29             VTS                  M  2013-01-13 11:06:00   \n",
        "...            ...                ...                  ...   \n",
        "13876585       CMT                  N  2013-01-07 07:48:00   \n",
        "13876586       CMT                  N  2013-01-07 09:08:37   \n",
        "13876587       CMT                  N  2013-01-07 23:47:47   \n",
        "13876588       CMT                  N  2013-01-08 15:11:04   \n",
        "13876589       CMT                  N  2013-01-08 08:25:24   \n",
        "13876590       CMT                  N  2013-01-08 02:37:37   \n",
        "13876591       CMT                  N  2013-01-10 08:02:56   \n",
        "13876592       CMT                  N  2013-01-10 15:00:16   \n",
        "13876593       CMT                  N  2013-01-07 23:16:34   \n",
        "13876594       CMT                  N  2013-01-08 03:05:09   \n",
        "13876595       CMT                  N  2013-01-07 17:54:25   \n",
        "13876596       CMT                  N  2013-01-10 08:42:47   \n",
        "13876597       CMT                  N  2013-01-07 20:01:08   \n",
        "13876598       CMT                  N  2013-01-07 22:01:57   \n",
        "13876599       CMT                  N  2013-01-07 19:48:22   \n",
        "13876600       CMT                  N  2013-01-08 00:26:18   \n",
        "13876601       CMT                  N  2013-01-07 19:57:17   \n",
        "13876602       CMT                  N  2013-01-07 18:50:36   \n",
        "13876603       CMT                  N  2013-01-07 21:46:45   \n",
        "13876604       CMT                  N  2013-01-07 21:53:35   \n",
        "13876605       CMT                  N  2013-01-07 07:29:06   \n",
        "13876606       CMT                  N  2013-01-07 14:30:23   \n",
        "13876607       CMT                  N  2013-01-10 10:56:47   \n",
        "13876608       CMT                  N  2013-01-10 14:50:01   \n",
        "13876609       CMT                  N  2013-01-05 08:58:18   \n",
        "13876610       CMT                  N  2013-01-06 04:58:23   \n",
        "13876611       CMT                  N  2013-01-08 14:42:04   \n",
        "13876612       CMT                  N  2013-01-10 13:29:23   \n",
        "13876613       CMT                  N  2013-01-06 16:30:15   \n",
        "13876614       CMT                  N  2013-01-05 20:38:46   \n",
        "\n",
        "             dropoff_datetime  passenger_count  trip_time_in_secs  \\\n",
        "0         2013-01-07 23:34:24                1                560   \n",
        "1         2013-01-07 13:10:56                3               1898   \n",
        "2         2013-01-07 06:13:14                1                262   \n",
        "3         2013-01-11 00:09:11                1               1640   \n",
        "4         2013-01-07 21:22:31                1                568   \n",
        "5         2013-01-07 08:22:46                1                340   \n",
        "6         2013-01-05 08:30:20                1                801   \n",
        "7         2013-01-07 10:20:10                1                290   \n",
        "8         2013-01-10 15:07:35                1                204   \n",
        "9         2013-01-08 11:04:35                1                310   \n",
        "10        2013-01-10 12:12:11                1                245   \n",
        "11        2013-01-10 16:22:03                2                324   \n",
        "12        2013-01-05 21:38:20                2                587   \n",
        "13        2013-01-13 04:35:00                1                300   \n",
        "14        2013-01-13 04:38:00                1               1320   \n",
        "15        2013-01-13 04:44:00                1                600   \n",
        "16        2013-01-13 04:39:00                4                840   \n",
        "17        2013-01-13 04:42:00                1                480   \n",
        "18        2013-01-13 04:45:00                1                300   \n",
        "19        2013-01-13 04:48:00                1                660   \n",
        "20        2013-01-13 04:45:00                1               1860   \n",
        "21        2013-01-13 04:46:00                5                480   \n",
        "22        2013-01-13 04:57:00                1                420   \n",
        "23        2013-01-13 11:12:00                1                420   \n",
        "24        2013-01-13 11:06:00                6                360   \n",
        "25        2013-01-13 11:08:00                5                180   \n",
        "26        2013-01-13 11:08:00                2                480   \n",
        "27        2013-01-13 11:13:00                1                120   \n",
        "28        2013-01-13 04:37:00                2                180   \n",
        "29        2013-01-13 11:07:00                1                 60   \n",
        "...                       ...              ...                ...   \n",
        "13876585  2013-01-07 07:59:01                2                661   \n",
        "13876586  2013-01-07 09:13:33                1                296   \n",
        "13876587  2013-01-07 23:54:43                1                415   \n",
        "13876588  2013-01-08 15:24:18                2                794   \n",
        "13876589  2013-01-08 08:35:12                1                588   \n",
        "13876590  2013-01-08 02:55:20                3               1063   \n",
        "13876591  2013-01-10 08:14:24                1                687   \n",
        "13876592  2013-01-10 15:09:03                1                527   \n",
        "13876593  2013-01-07 23:43:22                2               1608   \n",
        "13876594  2013-01-08 03:17:28                1                739   \n",
        "13876595  2013-01-07 18:11:41                1               1035   \n",
        "13876596  2013-01-10 08:53:25                1                637   \n",
        "13876597  2013-01-07 20:10:23                1                555   \n",
        "13876598  2013-01-07 22:17:36                2                939   \n",
        "13876599  2013-01-07 19:51:22                1                179   \n",
        "13876600  2013-01-08 00:33:41                1                442   \n",
        "13876601  2013-01-07 20:07:02                1                585   \n",
        "13876602  2013-01-07 19:02:03                1                686   \n",
        "13876603  2013-01-07 21:50:30                1                224   \n",
        "13876604  2013-01-07 21:54:57                1                 82   \n",
        "13876605  2013-01-07 08:19:39                1               3032   \n",
        "13876606  2013-01-07 14:42:14                1                711   \n",
        "13876607  2013-01-10 11:05:52                1                545   \n",
        "13876608  2013-01-10 15:19:10                1               1748   \n",
        "13876609  2013-01-05 09:05:56                1                458   \n",
        "13876610  2013-01-06 05:11:24                1                781   \n",
        "13876611  2013-01-08 14:50:27                1                503   \n",
        "13876612  2013-01-10 13:34:45                1                321   \n",
        "13876613  2013-01-06 16:42:26                1                730   \n",
        "13876614  2013-01-05 20:43:06                1                260   \n",
        "\n",
        "          trip_distance  pickup_longitude        ...         \\\n",
        "0                  2.10        -73.976250        ...          \n",
        "1                 10.70        -73.989937        ...          \n",
        "2                  1.70        -73.962120        ...          \n",
        "3                 17.50        -73.783310        ...          \n",
        "4                  1.10        -73.978439        ...          \n",
        "5                  1.50        -73.992111        ...          \n",
        "6                  6.50        -73.976318        ...          \n",
        "7                  1.00        -73.958649        ...          \n",
        "8                  0.70        -73.980118        ...          \n",
        "9                  0.60        -73.960358        ...          \n",
        "10                 0.80        -73.987953        ...          \n",
        "11                 1.10        -74.006844        ...          \n",
        "12                 2.90        -73.966156        ...          \n",
        "13                 2.10        -73.963219        ...          \n",
        "14                 6.82        -73.998161        ...          \n",
        "15                 1.73        -73.960197        ...          \n",
        "16                 4.81        -73.987656        ...          \n",
        "17                 1.52        -73.990540        ...          \n",
        "18                 1.33        -73.993446        ...          \n",
        "19                 2.90        -73.988518        ...          \n",
        "20                 5.71        -73.988808        ...          \n",
        "21                 1.92        -73.971642        ...          \n",
        "22                 2.50        -73.983078        ...          \n",
        "23                 1.59        -73.988136        ...          \n",
        "24                 1.02        -73.993469        ...          \n",
        "25                 0.88        -73.960136        ...          \n",
        "26                 1.34        -73.980530        ...          \n",
        "27                 0.29        -73.968491        ...          \n",
        "28                 0.75        -73.913818        ...          \n",
        "29                 0.61        -73.991760        ...          \n",
        "...                 ...               ...        ...          \n",
        "13876585           2.90        -73.982841        ...          \n",
        "13876586           0.50        -73.976494        ...          \n",
        "13876587           1.50        -73.995262        ...          \n",
        "13876588           2.10        -73.969620        ...          \n",
        "13876589           1.20        -73.965637        ...          \n",
        "13876590           8.70        -74.003082        ...          \n",
        "13876591           2.70        -73.992874        ...          \n",
        "13876592           0.70        -73.974838        ...          \n",
        "13876593          13.70        -73.982948        ...          \n",
        "13876594           4.30        -73.987808        ...          \n",
        "13876595           2.90        -73.996529        ...          \n",
        "13876596           1.10        -73.971596        ...          \n",
        "13876597           1.70        -73.988129        ...          \n",
        "13876598           6.00        -73.984634        ...          \n",
        "13876599           0.50        -73.972740        ...          \n",
        "13876600           2.20        -74.006546        ...          \n",
        "13876601           4.00        -74.014114        ...          \n",
        "13876602           2.20        -73.989914        ...          \n",
        "13876603           0.90        -73.961113        ...          \n",
        "13876604           0.50        -73.964081        ...          \n",
        "13876605          21.30        -73.776794        ...          \n",
        "13876606           1.40        -73.946114        ...          \n",
        "13876607           1.40        -73.975410        ...          \n",
        "13876608           4.00        -73.957344        ...          \n",
        "13876609           3.20        -73.998901        ...          \n",
        "13876610           3.30        -73.989029        ...          \n",
        "13876611           1.00        -73.993042        ...          \n",
        "13876612           0.90        -73.979553        ...          \n",
        "13876613           1.30        -73.968002        ...          \n",
        "13876614           0.80        -73.982224        ...          \n",
        "\n",
        "          rate_code_dummy_4  rate_code_dummy_5  rate_code_dummy_6  \\\n",
        "0                         0                  0                  0   \n",
        "1                         0                  0                  0   \n",
        "2                         0                  0                  0   \n",
        "3                         0                  0                  0   \n",
        "4                         0                  0                  0   \n",
        "5                         0                  0                  0   \n",
        "6                         0                  0                  0   \n",
        "7                         0                  0                  0   \n",
        "8                         0                  0                  0   \n",
        "9                         0                  0                  0   \n",
        "10                        0                  0                  0   \n",
        "11                        0                  0                  0   \n",
        "12                        0                  0                  0   \n",
        "13                        0                  0                  0   \n",
        "14                        0                  0                  0   \n",
        "15                        0                  0                  0   \n",
        "16                        0                  0                  0   \n",
        "17                        0                  0                  0   \n",
        "18                        0                  0                  0   \n",
        "19                        0                  0                  0   \n",
        "20                        0                  0                  0   \n",
        "21                        0                  0                  0   \n",
        "22                        0                  0                  0   \n",
        "23                        0                  0                  0   \n",
        "24                        0                  0                  0   \n",
        "25                        0                  0                  0   \n",
        "26                        0                  0                  0   \n",
        "27                        0                  0                  0   \n",
        "28                        0                  0                  0   \n",
        "29                        0                  0                  0   \n",
        "...                     ...                ...                ...   \n",
        "13876585                  0                  0                  0   \n",
        "13876586                  0                  0                  0   \n",
        "13876587                  0                  0                  0   \n",
        "13876588                  0                  0                  0   \n",
        "13876589                  0                  0                  0   \n",
        "13876590                  0                  0                  0   \n",
        "13876591                  0                  0                  0   \n",
        "13876592                  0                  0                  0   \n",
        "13876593                  0                  0                  0   \n",
        "13876594                  0                  0                  0   \n",
        "13876595                  0                  0                  0   \n",
        "13876596                  0                  0                  0   \n",
        "13876597                  0                  0                  0   \n",
        "13876598                  0                  0                  0   \n",
        "13876599                  0                  0                  0   \n",
        "13876600                  0                  0                  0   \n",
        "13876601                  0                  0                  0   \n",
        "13876602                  0                  0                  0   \n",
        "13876603                  0                  0                  0   \n",
        "13876604                  0                  0                  0   \n",
        "13876605                  0                  0                  0   \n",
        "13876606                  0                  0                  0   \n",
        "13876607                  0                  0                  0   \n",
        "13876608                  0                  0                  0   \n",
        "13876609                  0                  0                  0   \n",
        "13876610                  0                  0                  0   \n",
        "13876611                  0                  0                  0   \n",
        "13876612                  0                  0                  0   \n",
        "13876613                  0                  0                  0   \n",
        "13876614                  0                  0                  0   \n",
        "\n",
        "          rate_code_dummy_7  rate_code_dummy_8  rate_code_dummy_9  \\\n",
        "0                         0                  0                  0   \n",
        "1                         0                  0                  0   \n",
        "2                         0                  0                  0   \n",
        "3                         0                  0                  0   \n",
        "4                         0                  0                  0   \n",
        "5                         0                  0                  0   \n",
        "6                         0                  0                  0   \n",
        "7                         0                  0                  0   \n",
        "8                         0                  0                  0   \n",
        "9                         0                  0                  0   \n",
        "10                        0                  0                  0   \n",
        "11                        0                  0                  0   \n",
        "12                        0                  0                  0   \n",
        "13                        0                  0                  0   \n",
        "14                        0                  0                  0   \n",
        "15                        0                  0                  0   \n",
        "16                        0                  0                  0   \n",
        "17                        0                  0                  0   \n",
        "18                        0                  0                  0   \n",
        "19                        0                  0                  0   \n",
        "20                        0                  0                  0   \n",
        "21                        0                  0                  0   \n",
        "22                        0                  0                  0   \n",
        "23                        0                  0                  0   \n",
        "24                        0                  0                  0   \n",
        "25                        0                  0                  0   \n",
        "26                        0                  0                  0   \n",
        "27                        0                  0                  0   \n",
        "28                        0                  0                  0   \n",
        "29                        0                  0                  0   \n",
        "...                     ...                ...                ...   \n",
        "13876585                  0                  0                  0   \n",
        "13876586                  0                  0                  0   \n",
        "13876587                  0                  0                  0   \n",
        "13876588                  0                  0                  0   \n",
        "13876589                  0                  0                  0   \n",
        "13876590                  0                  0                  0   \n",
        "13876591                  0                  0                  0   \n",
        "13876592                  0                  0                  0   \n",
        "13876593                  0                  0                  0   \n",
        "13876594                  0                  0                  0   \n",
        "13876595                  0                  0                  0   \n",
        "13876596                  0                  0                  0   \n",
        "13876597                  0                  0                  0   \n",
        "13876598                  0                  0                  0   \n",
        "13876599                  0                  0                  0   \n",
        "13876600                  0                  0                  0   \n",
        "13876601                  0                  0                  0   \n",
        "13876602                  0                  0                  0   \n",
        "13876603                  0                  0                  0   \n",
        "13876604                  0                  0                  0   \n",
        "13876605                  0                  0                  0   \n",
        "13876606                  0                  0                  0   \n",
        "13876607                  0                  0                  0   \n",
        "13876608                  0                  0                  0   \n",
        "13876609                  0                  0                  0   \n",
        "13876610                  0                  0                  0   \n",
        "13876611                  0                  0                  0   \n",
        "13876612                  0                  0                  0   \n",
        "13876613                  0                  0                  0   \n",
        "13876614                  0                  0                  0   \n",
        "\n",
        "          rate_code_dummy_28  rate_code_dummy_65  rate_code_dummy_128  \\\n",
        "0                          0                   0                    0   \n",
        "1                          0                   0                    0   \n",
        "2                          0                   0                    0   \n",
        "3                          0                   0                    0   \n",
        "4                          0                   0                    0   \n",
        "5                          0                   0                    0   \n",
        "6                          0                   0                    0   \n",
        "7                          0                   0                    0   \n",
        "8                          0                   0                    0   \n",
        "9                          0                   0                    0   \n",
        "10                         0                   0                    0   \n",
        "11                         0                   0                    0   \n",
        "12                         0                   0                    0   \n",
        "13                         0                   0                    0   \n",
        "14                         0                   0                    0   \n",
        "15                         0                   0                    0   \n",
        "16                         0                   0                    0   \n",
        "17                         0                   0                    0   \n",
        "18                         0                   0                    0   \n",
        "19                         0                   0                    0   \n",
        "20                         0                   0                    0   \n",
        "21                         0                   0                    0   \n",
        "22                         0                   0                    0   \n",
        "23                         0                   0                    0   \n",
        "24                         0                   0                    0   \n",
        "25                         0                   0                    0   \n",
        "26                         0                   0                    0   \n",
        "27                         0                   0                    0   \n",
        "28                         0                   0                    0   \n",
        "29                         0                   0                    0   \n",
        "...                      ...                 ...                  ...   \n",
        "13876585                   0                   0                    0   \n",
        "13876586                   0                   0                    0   \n",
        "13876587                   0                   0                    0   \n",
        "13876588                   0                   0                    0   \n",
        "13876589                   0                   0                    0   \n",
        "13876590                   0                   0                    0   \n",
        "13876591                   0                   0                    0   \n",
        "13876592                   0                   0                    0   \n",
        "13876593                   0                   0                    0   \n",
        "13876594                   0                   0                    0   \n",
        "13876595                   0                   0                    0   \n",
        "13876596                   0                   0                    0   \n",
        "13876597                   0                   0                    0   \n",
        "13876598                   0                   0                    0   \n",
        "13876599                   0                   0                    0   \n",
        "13876600                   0                   0                    0   \n",
        "13876601                   0                   0                    0   \n",
        "13876602                   0                   0                    0   \n",
        "13876603                   0                   0                    0   \n",
        "13876604                   0                   0                    0   \n",
        "13876605                   0                   0                    0   \n",
        "13876606                   0                   0                    0   \n",
        "13876607                   0                   0                    0   \n",
        "13876608                   0                   0                    0   \n",
        "13876609                   0                   0                    0   \n",
        "13876610                   0                   0                    0   \n",
        "13876611                   0                   0                    0   \n",
        "13876612                   0                   0                    0   \n",
        "13876613                   0                   0                    0   \n",
        "13876614                   0                   0                    0   \n",
        "\n",
        "          rate_code_dummy_210  \n",
        "0                           0  \n",
        "1                           0  \n",
        "2                           0  \n",
        "3                           0  \n",
        "4                           0  \n",
        "5                           0  \n",
        "6                           0  \n",
        "7                           0  \n",
        "8                           0  \n",
        "9                           0  \n",
        "10                          0  \n",
        "11                          0  \n",
        "12                          0  \n",
        "13                          0  \n",
        "14                          0  \n",
        "15                          0  \n",
        "16                          0  \n",
        "17                          0  \n",
        "18                          0  \n",
        "19                          0  \n",
        "20                          0  \n",
        "21                          0  \n",
        "22                          0  \n",
        "23                          0  \n",
        "24                          0  \n",
        "25                          0  \n",
        "26                          0  \n",
        "27                          0  \n",
        "28                          0  \n",
        "29                          0  \n",
        "...                       ...  \n",
        "13876585                    0  \n",
        "13876586                    0  \n",
        "13876587                    0  \n",
        "13876588                    0  \n",
        "13876589                    0  \n",
        "13876590                    0  \n",
        "13876591                    0  \n",
        "13876592                    0  \n",
        "13876593                    0  \n",
        "13876594                    0  \n",
        "13876595                    0  \n",
        "13876596                    0  \n",
        "13876597                    0  \n",
        "13876598                    0  \n",
        "13876599                    0  \n",
        "13876600                    0  \n",
        "13876601                    0  \n",
        "13876602                    0  \n",
        "13876603                    0  \n",
        "13876604                    0  \n",
        "13876605                    0  \n",
        "13876606                    0  \n",
        "13876607                    0  \n",
        "13876608                    0  \n",
        "13876609                    0  \n",
        "13876610                    0  \n",
        "13876611                    0  \n",
        "13876612                    0  \n",
        "13876613                    0  \n",
        "13876614                    0  \n",
        "\n",
        "[13876615 rows x 27 columns]"
       ]
      }
     ],
     "prompt_number": 40
    },
    {
     "cell_type": "heading",
     "level": 4,
     "metadata": {},
     "source": [
      "Create bins based on trip_distance"
     ]
    },
    {
     "cell_type": "code",
     "collapsed": false,
     "input": [
      "trip_dist_bins = [0, 1, 2, 4, 10, 40]\n",
      "trip_dist_bin_id = pd.cut(df1['trip_distance'], trip_dist_bins)\n",
      "trip_dist_bin_id"
     ],
     "language": "python",
     "metadata": {},
     "outputs": [
      {
       "metadata": {},
       "output_type": "pyout",
       "prompt_number": 25,
       "text": [
        "   (0, 1]\n",
        "   (1, 2]\n",
        "   (1, 2]\n",
        "   (0, 1]\n",
        "   (2, 4]\n",
        "   (1, 2]\n",
        "   (0, 1]\n",
        " (10, 40]\n",
        "   (0, 1]\n",
        "   (2, 4]\n",
        "   (1, 2]\n",
        "   (0, 1]\n",
        "   (2, 4]\n",
        "...\n",
        "   (2, 4]\n",
        "   (0, 1]\n",
        "   (0, 1]\n",
        " (10, 40]\n",
        "   (1, 2]\n",
        "   (1, 2]\n",
        "   (2, 4]\n",
        "   (2, 4]\n",
        "   (2, 4]\n",
        "   (0, 1]\n",
        "   (0, 1]\n",
        "   (1, 2]\n",
        "   (0, 1]\n",
        "Levels (5): Index(['(0, 1]', '(1, 2]', '(2, 4]', '(4, 10]', '(10, 40]'], dtype=object)\n",
        "Name: trip_distance, Length: 14776615"
       ]
      }
     ],
     "prompt_number": 25
    },
    {
     "cell_type": "markdown",
     "metadata": {},
     "source": [
      "Convert binning to a sequence of boolean variables"
     ]
    },
    {
     "cell_type": "code",
     "collapsed": false,
     "input": [
      "df1_bin_bool = pd.get_dummies(trip_dist_bin_id, prefix='trip_dist')\n",
      "df1_bin_bool"
     ],
     "language": "python",
     "metadata": {},
     "outputs": [
      {
       "html": [
        "<div style=\"max-height:1000px;max-width:1500px;overflow:auto;\">\n",
        "<table border=\"1\" class=\"dataframe\">\n",
        "  <thead>\n",
        "    <tr style=\"text-align: right;\">\n",
        "      <th></th>\n",
        "      <th>trip_dist_(0, 1]</th>\n",
        "      <th>trip_dist_(1, 2]</th>\n",
        "      <th>trip_dist_(10, 40]</th>\n",
        "      <th>trip_dist_(2, 4]</th>\n",
        "      <th>trip_dist_(4, 10]</th>\n",
        "    </tr>\n",
        "  </thead>\n",
        "  <tbody>\n",
        "    <tr>\n",
        "      <th>0       </th>\n",
        "      <td> 1</td>\n",
        "      <td> 0</td>\n",
        "      <td> 0</td>\n",
        "      <td> 0</td>\n",
        "      <td> 0</td>\n",
        "    </tr>\n",
        "    <tr>\n",
        "      <th>1       </th>\n",
        "      <td> 0</td>\n",
        "      <td> 1</td>\n",
        "      <td> 0</td>\n",
        "      <td> 0</td>\n",
        "      <td> 0</td>\n",
        "    </tr>\n",
        "    <tr>\n",
        "      <th>2       </th>\n",
        "      <td> 0</td>\n",
        "      <td> 1</td>\n",
        "      <td> 0</td>\n",
        "      <td> 0</td>\n",
        "      <td> 0</td>\n",
        "    </tr>\n",
        "    <tr>\n",
        "      <th>3       </th>\n",
        "      <td> 1</td>\n",
        "      <td> 0</td>\n",
        "      <td> 0</td>\n",
        "      <td> 0</td>\n",
        "      <td> 0</td>\n",
        "    </tr>\n",
        "    <tr>\n",
        "      <th>4       </th>\n",
        "      <td> 0</td>\n",
        "      <td> 0</td>\n",
        "      <td> 0</td>\n",
        "      <td> 1</td>\n",
        "      <td> 0</td>\n",
        "    </tr>\n",
        "    <tr>\n",
        "      <th>5       </th>\n",
        "      <td> 0</td>\n",
        "      <td> 1</td>\n",
        "      <td> 0</td>\n",
        "      <td> 0</td>\n",
        "      <td> 0</td>\n",
        "    </tr>\n",
        "    <tr>\n",
        "      <th>6       </th>\n",
        "      <td> 1</td>\n",
        "      <td> 0</td>\n",
        "      <td> 0</td>\n",
        "      <td> 0</td>\n",
        "      <td> 0</td>\n",
        "    </tr>\n",
        "    <tr>\n",
        "      <th>7       </th>\n",
        "      <td> 0</td>\n",
        "      <td> 0</td>\n",
        "      <td> 1</td>\n",
        "      <td> 0</td>\n",
        "      <td> 0</td>\n",
        "    </tr>\n",
        "    <tr>\n",
        "      <th>8       </th>\n",
        "      <td> 1</td>\n",
        "      <td> 0</td>\n",
        "      <td> 0</td>\n",
        "      <td> 0</td>\n",
        "      <td> 0</td>\n",
        "    </tr>\n",
        "    <tr>\n",
        "      <th>9       </th>\n",
        "      <td> 0</td>\n",
        "      <td> 0</td>\n",
        "      <td> 0</td>\n",
        "      <td> 1</td>\n",
        "      <td> 0</td>\n",
        "    </tr>\n",
        "    <tr>\n",
        "      <th>10      </th>\n",
        "      <td> 0</td>\n",
        "      <td> 1</td>\n",
        "      <td> 0</td>\n",
        "      <td> 0</td>\n",
        "      <td> 0</td>\n",
        "    </tr>\n",
        "    <tr>\n",
        "      <th>11      </th>\n",
        "      <td> 1</td>\n",
        "      <td> 0</td>\n",
        "      <td> 0</td>\n",
        "      <td> 0</td>\n",
        "      <td> 0</td>\n",
        "    </tr>\n",
        "    <tr>\n",
        "      <th>12      </th>\n",
        "      <td> 0</td>\n",
        "      <td> 0</td>\n",
        "      <td> 0</td>\n",
        "      <td> 1</td>\n",
        "      <td> 0</td>\n",
        "    </tr>\n",
        "    <tr>\n",
        "      <th>13      </th>\n",
        "      <td> 0</td>\n",
        "      <td> 0</td>\n",
        "      <td> 0</td>\n",
        "      <td> 1</td>\n",
        "      <td> 0</td>\n",
        "    </tr>\n",
        "    <tr>\n",
        "      <th>14      </th>\n",
        "      <td> 0</td>\n",
        "      <td> 0</td>\n",
        "      <td> 0</td>\n",
        "      <td> 1</td>\n",
        "      <td> 0</td>\n",
        "    </tr>\n",
        "    <tr>\n",
        "      <th>15      </th>\n",
        "      <td> 0</td>\n",
        "      <td> 0</td>\n",
        "      <td> 0</td>\n",
        "      <td> 0</td>\n",
        "      <td> 1</td>\n",
        "    </tr>\n",
        "    <tr>\n",
        "      <th>16      </th>\n",
        "      <td> 0</td>\n",
        "      <td> 1</td>\n",
        "      <td> 0</td>\n",
        "      <td> 0</td>\n",
        "      <td> 0</td>\n",
        "    </tr>\n",
        "    <tr>\n",
        "      <th>17      </th>\n",
        "      <td> 1</td>\n",
        "      <td> 0</td>\n",
        "      <td> 0</td>\n",
        "      <td> 0</td>\n",
        "      <td> 0</td>\n",
        "    </tr>\n",
        "    <tr>\n",
        "      <th>18      </th>\n",
        "      <td> 0</td>\n",
        "      <td> 1</td>\n",
        "      <td> 0</td>\n",
        "      <td> 0</td>\n",
        "      <td> 0</td>\n",
        "    </tr>\n",
        "    <tr>\n",
        "      <th>19      </th>\n",
        "      <td> 0</td>\n",
        "      <td> 0</td>\n",
        "      <td> 0</td>\n",
        "      <td> 1</td>\n",
        "      <td> 0</td>\n",
        "    </tr>\n",
        "    <tr>\n",
        "      <th>20      </th>\n",
        "      <td> 0</td>\n",
        "      <td> 0</td>\n",
        "      <td> 1</td>\n",
        "      <td> 0</td>\n",
        "      <td> 0</td>\n",
        "    </tr>\n",
        "    <tr>\n",
        "      <th>21      </th>\n",
        "      <td> 0</td>\n",
        "      <td> 0</td>\n",
        "      <td> 0</td>\n",
        "      <td> 1</td>\n",
        "      <td> 0</td>\n",
        "    </tr>\n",
        "    <tr>\n",
        "      <th>22      </th>\n",
        "      <td> 0</td>\n",
        "      <td> 1</td>\n",
        "      <td> 0</td>\n",
        "      <td> 0</td>\n",
        "      <td> 0</td>\n",
        "    </tr>\n",
        "    <tr>\n",
        "      <th>23      </th>\n",
        "      <td> 0</td>\n",
        "      <td> 1</td>\n",
        "      <td> 0</td>\n",
        "      <td> 0</td>\n",
        "      <td> 0</td>\n",
        "    </tr>\n",
        "    <tr>\n",
        "      <th>24      </th>\n",
        "      <td> 1</td>\n",
        "      <td> 0</td>\n",
        "      <td> 0</td>\n",
        "      <td> 0</td>\n",
        "      <td> 0</td>\n",
        "    </tr>\n",
        "    <tr>\n",
        "      <th>25      </th>\n",
        "      <td> 0</td>\n",
        "      <td> 1</td>\n",
        "      <td> 0</td>\n",
        "      <td> 0</td>\n",
        "      <td> 0</td>\n",
        "    </tr>\n",
        "    <tr>\n",
        "      <th>26      </th>\n",
        "      <td> 0</td>\n",
        "      <td> 1</td>\n",
        "      <td> 0</td>\n",
        "      <td> 0</td>\n",
        "      <td> 0</td>\n",
        "    </tr>\n",
        "    <tr>\n",
        "      <th>27      </th>\n",
        "      <td> 1</td>\n",
        "      <td> 0</td>\n",
        "      <td> 0</td>\n",
        "      <td> 0</td>\n",
        "      <td> 0</td>\n",
        "    </tr>\n",
        "    <tr>\n",
        "      <th>28      </th>\n",
        "      <td> 0</td>\n",
        "      <td> 0</td>\n",
        "      <td> 1</td>\n",
        "      <td> 0</td>\n",
        "      <td> 0</td>\n",
        "    </tr>\n",
        "    <tr>\n",
        "      <th>29      </th>\n",
        "      <td> 1</td>\n",
        "      <td> 0</td>\n",
        "      <td> 0</td>\n",
        "      <td> 0</td>\n",
        "      <td> 0</td>\n",
        "    </tr>\n",
        "    <tr>\n",
        "      <th>...</th>\n",
        "      <td>...</td>\n",
        "      <td>...</td>\n",
        "      <td>...</td>\n",
        "      <td>...</td>\n",
        "      <td>...</td>\n",
        "    </tr>\n",
        "    <tr>\n",
        "      <th>14776585</th>\n",
        "      <td> 0</td>\n",
        "      <td> 0</td>\n",
        "      <td> 0</td>\n",
        "      <td> 1</td>\n",
        "      <td> 0</td>\n",
        "    </tr>\n",
        "    <tr>\n",
        "      <th>14776586</th>\n",
        "      <td> 1</td>\n",
        "      <td> 0</td>\n",
        "      <td> 0</td>\n",
        "      <td> 0</td>\n",
        "      <td> 0</td>\n",
        "    </tr>\n",
        "    <tr>\n",
        "      <th>14776587</th>\n",
        "      <td> 0</td>\n",
        "      <td> 1</td>\n",
        "      <td> 0</td>\n",
        "      <td> 0</td>\n",
        "      <td> 0</td>\n",
        "    </tr>\n",
        "    <tr>\n",
        "      <th>14776588</th>\n",
        "      <td> 0</td>\n",
        "      <td> 0</td>\n",
        "      <td> 0</td>\n",
        "      <td> 1</td>\n",
        "      <td> 0</td>\n",
        "    </tr>\n",
        "    <tr>\n",
        "      <th>14776589</th>\n",
        "      <td> 0</td>\n",
        "      <td> 1</td>\n",
        "      <td> 0</td>\n",
        "      <td> 0</td>\n",
        "      <td> 0</td>\n",
        "    </tr>\n",
        "    <tr>\n",
        "      <th>14776590</th>\n",
        "      <td> 0</td>\n",
        "      <td> 0</td>\n",
        "      <td> 0</td>\n",
        "      <td> 0</td>\n",
        "      <td> 1</td>\n",
        "    </tr>\n",
        "    <tr>\n",
        "      <th>14776591</th>\n",
        "      <td> 0</td>\n",
        "      <td> 0</td>\n",
        "      <td> 0</td>\n",
        "      <td> 1</td>\n",
        "      <td> 0</td>\n",
        "    </tr>\n",
        "    <tr>\n",
        "      <th>14776592</th>\n",
        "      <td> 1</td>\n",
        "      <td> 0</td>\n",
        "      <td> 0</td>\n",
        "      <td> 0</td>\n",
        "      <td> 0</td>\n",
        "    </tr>\n",
        "    <tr>\n",
        "      <th>14776593</th>\n",
        "      <td> 0</td>\n",
        "      <td> 0</td>\n",
        "      <td> 1</td>\n",
        "      <td> 0</td>\n",
        "      <td> 0</td>\n",
        "    </tr>\n",
        "    <tr>\n",
        "      <th>14776594</th>\n",
        "      <td> 0</td>\n",
        "      <td> 0</td>\n",
        "      <td> 0</td>\n",
        "      <td> 0</td>\n",
        "      <td> 1</td>\n",
        "    </tr>\n",
        "    <tr>\n",
        "      <th>14776595</th>\n",
        "      <td> 0</td>\n",
        "      <td> 0</td>\n",
        "      <td> 0</td>\n",
        "      <td> 1</td>\n",
        "      <td> 0</td>\n",
        "    </tr>\n",
        "    <tr>\n",
        "      <th>14776596</th>\n",
        "      <td> 0</td>\n",
        "      <td> 1</td>\n",
        "      <td> 0</td>\n",
        "      <td> 0</td>\n",
        "      <td> 0</td>\n",
        "    </tr>\n",
        "    <tr>\n",
        "      <th>14776597</th>\n",
        "      <td> 0</td>\n",
        "      <td> 1</td>\n",
        "      <td> 0</td>\n",
        "      <td> 0</td>\n",
        "      <td> 0</td>\n",
        "    </tr>\n",
        "    <tr>\n",
        "      <th>14776598</th>\n",
        "      <td> 0</td>\n",
        "      <td> 0</td>\n",
        "      <td> 0</td>\n",
        "      <td> 0</td>\n",
        "      <td> 1</td>\n",
        "    </tr>\n",
        "    <tr>\n",
        "      <th>14776599</th>\n",
        "      <td> 1</td>\n",
        "      <td> 0</td>\n",
        "      <td> 0</td>\n",
        "      <td> 0</td>\n",
        "      <td> 0</td>\n",
        "    </tr>\n",
        "    <tr>\n",
        "      <th>14776600</th>\n",
        "      <td> 0</td>\n",
        "      <td> 0</td>\n",
        "      <td> 0</td>\n",
        "      <td> 1</td>\n",
        "      <td> 0</td>\n",
        "    </tr>\n",
        "    <tr>\n",
        "      <th>14776601</th>\n",
        "      <td> 0</td>\n",
        "      <td> 0</td>\n",
        "      <td> 0</td>\n",
        "      <td> 1</td>\n",
        "      <td> 0</td>\n",
        "    </tr>\n",
        "    <tr>\n",
        "      <th>14776602</th>\n",
        "      <td> 0</td>\n",
        "      <td> 0</td>\n",
        "      <td> 0</td>\n",
        "      <td> 1</td>\n",
        "      <td> 0</td>\n",
        "    </tr>\n",
        "    <tr>\n",
        "      <th>14776603</th>\n",
        "      <td> 1</td>\n",
        "      <td> 0</td>\n",
        "      <td> 0</td>\n",
        "      <td> 0</td>\n",
        "      <td> 0</td>\n",
        "    </tr>\n",
        "    <tr>\n",
        "      <th>14776604</th>\n",
        "      <td> 1</td>\n",
        "      <td> 0</td>\n",
        "      <td> 0</td>\n",
        "      <td> 0</td>\n",
        "      <td> 0</td>\n",
        "    </tr>\n",
        "    <tr>\n",
        "      <th>14776605</th>\n",
        "      <td> 0</td>\n",
        "      <td> 0</td>\n",
        "      <td> 1</td>\n",
        "      <td> 0</td>\n",
        "      <td> 0</td>\n",
        "    </tr>\n",
        "    <tr>\n",
        "      <th>14776606</th>\n",
        "      <td> 0</td>\n",
        "      <td> 1</td>\n",
        "      <td> 0</td>\n",
        "      <td> 0</td>\n",
        "      <td> 0</td>\n",
        "    </tr>\n",
        "    <tr>\n",
        "      <th>14776607</th>\n",
        "      <td> 0</td>\n",
        "      <td> 1</td>\n",
        "      <td> 0</td>\n",
        "      <td> 0</td>\n",
        "      <td> 0</td>\n",
        "    </tr>\n",
        "    <tr>\n",
        "      <th>14776608</th>\n",
        "      <td> 0</td>\n",
        "      <td> 0</td>\n",
        "      <td> 0</td>\n",
        "      <td> 1</td>\n",
        "      <td> 0</td>\n",
        "    </tr>\n",
        "    <tr>\n",
        "      <th>14776609</th>\n",
        "      <td> 0</td>\n",
        "      <td> 0</td>\n",
        "      <td> 0</td>\n",
        "      <td> 1</td>\n",
        "      <td> 0</td>\n",
        "    </tr>\n",
        "    <tr>\n",
        "      <th>14776610</th>\n",
        "      <td> 0</td>\n",
        "      <td> 0</td>\n",
        "      <td> 0</td>\n",
        "      <td> 1</td>\n",
        "      <td> 0</td>\n",
        "    </tr>\n",
        "    <tr>\n",
        "      <th>14776611</th>\n",
        "      <td> 1</td>\n",
        "      <td> 0</td>\n",
        "      <td> 0</td>\n",
        "      <td> 0</td>\n",
        "      <td> 0</td>\n",
        "    </tr>\n",
        "    <tr>\n",
        "      <th>14776612</th>\n",
        "      <td> 1</td>\n",
        "      <td> 0</td>\n",
        "      <td> 0</td>\n",
        "      <td> 0</td>\n",
        "      <td> 0</td>\n",
        "    </tr>\n",
        "    <tr>\n",
        "      <th>14776613</th>\n",
        "      <td> 0</td>\n",
        "      <td> 1</td>\n",
        "      <td> 0</td>\n",
        "      <td> 0</td>\n",
        "      <td> 0</td>\n",
        "    </tr>\n",
        "    <tr>\n",
        "      <th>14776614</th>\n",
        "      <td> 1</td>\n",
        "      <td> 0</td>\n",
        "      <td> 0</td>\n",
        "      <td> 0</td>\n",
        "      <td> 0</td>\n",
        "    </tr>\n",
        "  </tbody>\n",
        "</table>\n",
        "<p>14776615 rows \u00d7 5 columns</p>\n",
        "</div>"
       ],
       "metadata": {},
       "output_type": "pyout",
       "prompt_number": 26,
       "text": [
        "          trip_dist_(0, 1]  trip_dist_(1, 2]  trip_dist_(10, 40]  \\\n",
        "0                        1                 0                   0   \n",
        "1                        0                 1                   0   \n",
        "2                        0                 1                   0   \n",
        "3                        1                 0                   0   \n",
        "4                        0                 0                   0   \n",
        "5                        0                 1                   0   \n",
        "6                        1                 0                   0   \n",
        "7                        0                 0                   1   \n",
        "8                        1                 0                   0   \n",
        "9                        0                 0                   0   \n",
        "10                       0                 1                   0   \n",
        "11                       1                 0                   0   \n",
        "12                       0                 0                   0   \n",
        "13                       0                 0                   0   \n",
        "14                       0                 0                   0   \n",
        "15                       0                 0                   0   \n",
        "16                       0                 1                   0   \n",
        "17                       1                 0                   0   \n",
        "18                       0                 1                   0   \n",
        "19                       0                 0                   0   \n",
        "20                       0                 0                   1   \n",
        "21                       0                 0                   0   \n",
        "22                       0                 1                   0   \n",
        "23                       0                 1                   0   \n",
        "24                       1                 0                   0   \n",
        "25                       0                 1                   0   \n",
        "26                       0                 1                   0   \n",
        "27                       1                 0                   0   \n",
        "28                       0                 0                   1   \n",
        "29                       1                 0                   0   \n",
        "...                    ...               ...                 ...   \n",
        "14776585                 0                 0                   0   \n",
        "14776586                 1                 0                   0   \n",
        "14776587                 0                 1                   0   \n",
        "14776588                 0                 0                   0   \n",
        "14776589                 0                 1                   0   \n",
        "14776590                 0                 0                   0   \n",
        "14776591                 0                 0                   0   \n",
        "14776592                 1                 0                   0   \n",
        "14776593                 0                 0                   1   \n",
        "14776594                 0                 0                   0   \n",
        "14776595                 0                 0                   0   \n",
        "14776596                 0                 1                   0   \n",
        "14776597                 0                 1                   0   \n",
        "14776598                 0                 0                   0   \n",
        "14776599                 1                 0                   0   \n",
        "14776600                 0                 0                   0   \n",
        "14776601                 0                 0                   0   \n",
        "14776602                 0                 0                   0   \n",
        "14776603                 1                 0                   0   \n",
        "14776604                 1                 0                   0   \n",
        "14776605                 0                 0                   1   \n",
        "14776606                 0                 1                   0   \n",
        "14776607                 0                 1                   0   \n",
        "14776608                 0                 0                   0   \n",
        "14776609                 0                 0                   0   \n",
        "14776610                 0                 0                   0   \n",
        "14776611                 1                 0                   0   \n",
        "14776612                 1                 0                   0   \n",
        "14776613                 0                 1                   0   \n",
        "14776614                 1                 0                   0   \n",
        "\n",
        "          trip_dist_(2, 4]  trip_dist_(4, 10]  \n",
        "0                        0                  0  \n",
        "1                        0                  0  \n",
        "2                        0                  0  \n",
        "3                        0                  0  \n",
        "4                        1                  0  \n",
        "5                        0                  0  \n",
        "6                        0                  0  \n",
        "7                        0                  0  \n",
        "8                        0                  0  \n",
        "9                        1                  0  \n",
        "10                       0                  0  \n",
        "11                       0                  0  \n",
        "12                       1                  0  \n",
        "13                       1                  0  \n",
        "14                       1                  0  \n",
        "15                       0                  1  \n",
        "16                       0                  0  \n",
        "17                       0                  0  \n",
        "18                       0                  0  \n",
        "19                       1                  0  \n",
        "20                       0                  0  \n",
        "21                       1                  0  \n",
        "22                       0                  0  \n",
        "23                       0                  0  \n",
        "24                       0                  0  \n",
        "25                       0                  0  \n",
        "26                       0                  0  \n",
        "27                       0                  0  \n",
        "28                       0                  0  \n",
        "29                       0                  0  \n",
        "...                    ...                ...  \n",
        "14776585                 1                  0  \n",
        "14776586                 0                  0  \n",
        "14776587                 0                  0  \n",
        "14776588                 1                  0  \n",
        "14776589                 0                  0  \n",
        "14776590                 0                  1  \n",
        "14776591                 1                  0  \n",
        "14776592                 0                  0  \n",
        "14776593                 0                  0  \n",
        "14776594                 0                  1  \n",
        "14776595                 1                  0  \n",
        "14776596                 0                  0  \n",
        "14776597                 0                  0  \n",
        "14776598                 0                  1  \n",
        "14776599                 0                  0  \n",
        "14776600                 1                  0  \n",
        "14776601                 1                  0  \n",
        "14776602                 1                  0  \n",
        "14776603                 0                  0  \n",
        "14776604                 0                  0  \n",
        "14776605                 0                  0  \n",
        "14776606                 0                  0  \n",
        "14776607                 0                  0  \n",
        "14776608                 1                  0  \n",
        "14776609                 1                  0  \n",
        "14776610                 1                  0  \n",
        "14776611                 0                  0  \n",
        "14776612                 0                  0  \n",
        "14776613                 0                  0  \n",
        "14776614                 0                  0  \n",
        "\n",
        "[14776615 rows x 5 columns]"
       ]
      }
     ],
     "prompt_number": 26
    },
    {
     "cell_type": "markdown",
     "metadata": {},
     "source": [
      "Join the dummy variables back to the original data frame"
     ]
    },
    {
     "cell_type": "code",
     "collapsed": false,
     "input": [
      "df1_with_bin_bool = df1.join(df1_bin_bool)\n",
      "df1_with_bin_bool"
     ],
     "language": "python",
     "metadata": {},
     "outputs": [
      {
       "html": [
        "<div style=\"max-height:1000px;max-width:1500px;overflow:auto;\">\n",
        "<table border=\"1\" class=\"dataframe\">\n",
        "  <thead>\n",
        "    <tr style=\"text-align: right;\">\n",
        "      <th></th>\n",
        "      <th>medallion</th>\n",
        "      <th>hack_license</th>\n",
        "      <th>vendor_id</th>\n",
        "      <th>rate_code</th>\n",
        "      <th>store_and_fwd_flag</th>\n",
        "      <th>pickup_datetime</th>\n",
        "      <th>dropoff_datetime</th>\n",
        "      <th>passenger_count</th>\n",
        "      <th>trip_time_in_secs</th>\n",
        "      <th>trip_distance</th>\n",
        "      <th>pickup_longitude</th>\n",
        "      <th>pickup_latitude</th>\n",
        "      <th>dropoff_longitude</th>\n",
        "      <th>dropoff_latitude</th>\n",
        "      <th>trip_dist_(0, 1]</th>\n",
        "      <th>trip_dist_(1, 2]</th>\n",
        "      <th>trip_dist_(10, 40]</th>\n",
        "      <th>trip_dist_(2, 4]</th>\n",
        "      <th>trip_dist_(4, 10]</th>\n",
        "    </tr>\n",
        "  </thead>\n",
        "  <tbody>\n",
        "    <tr>\n",
        "      <th>0       </th>\n",
        "      <td> 89D227B655E5C82AECF13C3F540D4CF4</td>\n",
        "      <td> BA96DE419E711691B9445D6A6307C170</td>\n",
        "      <td> CMT</td>\n",
        "      <td> 1</td>\n",
        "      <td> N</td>\n",
        "      <td> 2013-01-01 15:11:48</td>\n",
        "      <td> 2013-01-01 15:18:10</td>\n",
        "      <td> 4</td>\n",
        "      <td>  382</td>\n",
        "      <td>  1.0</td>\n",
        "      <td>-73.978165</td>\n",
        "      <td> 40.757977</td>\n",
        "      <td>-73.989838</td>\n",
        "      <td> 40.751171</td>\n",
        "      <td> 1</td>\n",
        "      <td> 0</td>\n",
        "      <td> 0</td>\n",
        "      <td> 0</td>\n",
        "      <td> 0</td>\n",
        "    </tr>\n",
        "    <tr>\n",
        "      <th>1       </th>\n",
        "      <td> 0BD7C8F5BA12B88E0B67BED28BEA73D8</td>\n",
        "      <td> 9FD8F69F0804BDB5549F40E9DA1BE472</td>\n",
        "      <td> CMT</td>\n",
        "      <td> 1</td>\n",
        "      <td> N</td>\n",
        "      <td> 2013-01-06 00:18:35</td>\n",
        "      <td> 2013-01-06 00:22:54</td>\n",
        "      <td> 1</td>\n",
        "      <td>  259</td>\n",
        "      <td>  1.5</td>\n",
        "      <td>-74.006683</td>\n",
        "      <td> 40.731781</td>\n",
        "      <td>-73.994499</td>\n",
        "      <td> 40.750660</td>\n",
        "      <td> 0</td>\n",
        "      <td> 1</td>\n",
        "      <td> 0</td>\n",
        "      <td> 0</td>\n",
        "      <td> 0</td>\n",
        "    </tr>\n",
        "    <tr>\n",
        "      <th>2       </th>\n",
        "      <td> 0BD7C8F5BA12B88E0B67BED28BEA73D8</td>\n",
        "      <td> 9FD8F69F0804BDB5549F40E9DA1BE472</td>\n",
        "      <td> CMT</td>\n",
        "      <td> 1</td>\n",
        "      <td> N</td>\n",
        "      <td> 2013-01-05 18:49:41</td>\n",
        "      <td> 2013-01-05 18:54:23</td>\n",
        "      <td> 1</td>\n",
        "      <td>  282</td>\n",
        "      <td>  1.1</td>\n",
        "      <td>-74.004707</td>\n",
        "      <td> 40.737770</td>\n",
        "      <td>-74.009834</td>\n",
        "      <td> 40.726002</td>\n",
        "      <td> 0</td>\n",
        "      <td> 1</td>\n",
        "      <td> 0</td>\n",
        "      <td> 0</td>\n",
        "      <td> 0</td>\n",
        "    </tr>\n",
        "    <tr>\n",
        "      <th>3       </th>\n",
        "      <td> DFD2202EE08F7A8DC9A57B02ACB81FE2</td>\n",
        "      <td> 51EE87E3205C985EF8431D850C786310</td>\n",
        "      <td> CMT</td>\n",
        "      <td> 1</td>\n",
        "      <td> N</td>\n",
        "      <td> 2013-01-07 23:54:15</td>\n",
        "      <td> 2013-01-07 23:58:20</td>\n",
        "      <td> 2</td>\n",
        "      <td>  244</td>\n",
        "      <td>  0.7</td>\n",
        "      <td>-73.974602</td>\n",
        "      <td> 40.759945</td>\n",
        "      <td>-73.984734</td>\n",
        "      <td> 40.759388</td>\n",
        "      <td> 1</td>\n",
        "      <td> 0</td>\n",
        "      <td> 0</td>\n",
        "      <td> 0</td>\n",
        "      <td> 0</td>\n",
        "    </tr>\n",
        "    <tr>\n",
        "      <th>4       </th>\n",
        "      <td> DFD2202EE08F7A8DC9A57B02ACB81FE2</td>\n",
        "      <td> 51EE87E3205C985EF8431D850C786310</td>\n",
        "      <td> CMT</td>\n",
        "      <td> 1</td>\n",
        "      <td> N</td>\n",
        "      <td> 2013-01-07 23:25:03</td>\n",
        "      <td> 2013-01-07 23:34:24</td>\n",
        "      <td> 1</td>\n",
        "      <td>  560</td>\n",
        "      <td>  2.1</td>\n",
        "      <td>-73.976250</td>\n",
        "      <td> 40.748528</td>\n",
        "      <td>-74.002586</td>\n",
        "      <td> 40.747868</td>\n",
        "      <td> 0</td>\n",
        "      <td> 0</td>\n",
        "      <td> 0</td>\n",
        "      <td> 1</td>\n",
        "      <td> 0</td>\n",
        "    </tr>\n",
        "    <tr>\n",
        "      <th>5       </th>\n",
        "      <td> 20D9ECB2CA0767CF7A01564DF2844A3E</td>\n",
        "      <td> 598CCE5B9C1918568DEE71F43CF26CD2</td>\n",
        "      <td> CMT</td>\n",
        "      <td> 1</td>\n",
        "      <td> N</td>\n",
        "      <td> 2013-01-07 15:27:48</td>\n",
        "      <td> 2013-01-07 15:38:37</td>\n",
        "      <td> 1</td>\n",
        "      <td>  648</td>\n",
        "      <td>  1.7</td>\n",
        "      <td>-73.966743</td>\n",
        "      <td> 40.764252</td>\n",
        "      <td>-73.983322</td>\n",
        "      <td> 40.743763</td>\n",
        "      <td> 0</td>\n",
        "      <td> 1</td>\n",
        "      <td> 0</td>\n",
        "      <td> 0</td>\n",
        "      <td> 0</td>\n",
        "    </tr>\n",
        "    <tr>\n",
        "      <th>6       </th>\n",
        "      <td> 496644932DF3932605C22C7926FF0FE0</td>\n",
        "      <td> 513189AD756FF14FE670D10B92FAF04C</td>\n",
        "      <td> CMT</td>\n",
        "      <td> 1</td>\n",
        "      <td> N</td>\n",
        "      <td> 2013-01-08 11:01:15</td>\n",
        "      <td> 2013-01-08 11:08:14</td>\n",
        "      <td> 1</td>\n",
        "      <td>  418</td>\n",
        "      <td>  0.8</td>\n",
        "      <td>-73.995804</td>\n",
        "      <td> 40.743977</td>\n",
        "      <td>-74.007416</td>\n",
        "      <td> 40.744343</td>\n",
        "      <td> 1</td>\n",
        "      <td> 0</td>\n",
        "      <td> 0</td>\n",
        "      <td> 0</td>\n",
        "      <td> 0</td>\n",
        "    </tr>\n",
        "    <tr>\n",
        "      <th>7       </th>\n",
        "      <td> 0B57B9633A2FECD3D3B1944AFC7471CF</td>\n",
        "      <td> CCD4367B417ED6634D986F573A552A62</td>\n",
        "      <td> CMT</td>\n",
        "      <td> 1</td>\n",
        "      <td> N</td>\n",
        "      <td> 2013-01-07 12:39:18</td>\n",
        "      <td> 2013-01-07 13:10:56</td>\n",
        "      <td> 3</td>\n",
        "      <td> 1898</td>\n",
        "      <td> 10.7</td>\n",
        "      <td>-73.989937</td>\n",
        "      <td> 40.756775</td>\n",
        "      <td>-73.865250</td>\n",
        "      <td> 40.770630</td>\n",
        "      <td> 0</td>\n",
        "      <td> 0</td>\n",
        "      <td> 1</td>\n",
        "      <td> 0</td>\n",
        "      <td> 0</td>\n",
        "    </tr>\n",
        "    <tr>\n",
        "      <th>8       </th>\n",
        "      <td> 2C0E91FF20A856C891483ED63589F982</td>\n",
        "      <td> 1DA2F6543A62B8ED934771661A9D2FA0</td>\n",
        "      <td> CMT</td>\n",
        "      <td> 1</td>\n",
        "      <td> N</td>\n",
        "      <td> 2013-01-07 18:15:47</td>\n",
        "      <td> 2013-01-07 18:20:47</td>\n",
        "      <td> 1</td>\n",
        "      <td>  299</td>\n",
        "      <td>  0.8</td>\n",
        "      <td>-73.980072</td>\n",
        "      <td> 40.743137</td>\n",
        "      <td>-73.982712</td>\n",
        "      <td> 40.735336</td>\n",
        "      <td> 1</td>\n",
        "      <td> 0</td>\n",
        "      <td> 0</td>\n",
        "      <td> 0</td>\n",
        "      <td> 0</td>\n",
        "    </tr>\n",
        "    <tr>\n",
        "      <th>9       </th>\n",
        "      <td> 2D4B95E2FA7B2E85118EC5CA4570FA58</td>\n",
        "      <td> CD2F522EEE1FF5F5A8D8B679E23576B3</td>\n",
        "      <td> CMT</td>\n",
        "      <td> 1</td>\n",
        "      <td> N</td>\n",
        "      <td> 2013-01-07 15:33:28</td>\n",
        "      <td> 2013-01-07 15:49:26</td>\n",
        "      <td> 2</td>\n",
        "      <td>  957</td>\n",
        "      <td>  2.5</td>\n",
        "      <td>-73.977936</td>\n",
        "      <td> 40.786983</td>\n",
        "      <td>-73.952919</td>\n",
        "      <td> 40.806370</td>\n",
        "      <td> 0</td>\n",
        "      <td> 0</td>\n",
        "      <td> 0</td>\n",
        "      <td> 1</td>\n",
        "      <td> 0</td>\n",
        "    </tr>\n",
        "    <tr>\n",
        "      <th>10      </th>\n",
        "      <td> E12F6AF991172EAC3553144A0AF75A19</td>\n",
        "      <td> 06918214E951FA0003D1CC54955C2AB0</td>\n",
        "      <td> CMT</td>\n",
        "      <td> 1</td>\n",
        "      <td> N</td>\n",
        "      <td> 2013-01-08 13:11:52</td>\n",
        "      <td> 2013-01-08 13:19:50</td>\n",
        "      <td> 1</td>\n",
        "      <td>  477</td>\n",
        "      <td>  1.3</td>\n",
        "      <td>-73.982452</td>\n",
        "      <td> 40.773167</td>\n",
        "      <td>-73.964134</td>\n",
        "      <td> 40.773815</td>\n",
        "      <td> 0</td>\n",
        "      <td> 1</td>\n",
        "      <td> 0</td>\n",
        "      <td> 0</td>\n",
        "      <td> 0</td>\n",
        "    </tr>\n",
        "    <tr>\n",
        "      <th>11      </th>\n",
        "      <td> E12F6AF991172EAC3553144A0AF75A19</td>\n",
        "      <td> 06918214E951FA0003D1CC54955C2AB0</td>\n",
        "      <td> CMT</td>\n",
        "      <td> 1</td>\n",
        "      <td> N</td>\n",
        "      <td> 2013-01-08 09:50:05</td>\n",
        "      <td> 2013-01-08 10:02:54</td>\n",
        "      <td> 1</td>\n",
        "      <td>  768</td>\n",
        "      <td>  0.7</td>\n",
        "      <td>-73.995560</td>\n",
        "      <td> 40.749294</td>\n",
        "      <td>-73.988686</td>\n",
        "      <td> 40.759052</td>\n",
        "      <td> 1</td>\n",
        "      <td> 0</td>\n",
        "      <td> 0</td>\n",
        "      <td> 0</td>\n",
        "      <td> 0</td>\n",
        "    </tr>\n",
        "    <tr>\n",
        "      <th>12      </th>\n",
        "      <td> 78FFD9CD0CDA541F335EF8B38FB494D6</td>\n",
        "      <td> E949C583ECF62C8F03FDCE1484954A08</td>\n",
        "      <td> CMT</td>\n",
        "      <td> 1</td>\n",
        "      <td> N</td>\n",
        "      <td> 2013-01-10 12:07:08</td>\n",
        "      <td> 2013-01-10 12:17:29</td>\n",
        "      <td> 1</td>\n",
        "      <td>  620</td>\n",
        "      <td>  2.3</td>\n",
        "      <td>-73.971497</td>\n",
        "      <td> 40.791321</td>\n",
        "      <td>-73.964478</td>\n",
        "      <td> 40.775921</td>\n",
        "      <td> 0</td>\n",
        "      <td> 0</td>\n",
        "      <td> 0</td>\n",
        "      <td> 1</td>\n",
        "      <td> 0</td>\n",
        "    </tr>\n",
        "    <tr>\n",
        "      <th>13      </th>\n",
        "      <td> 237F49C3ECC11F5024B254268F054384</td>\n",
        "      <td> 93C363DDF8ED9385D65FAD07CE3F5F07</td>\n",
        "      <td> CMT</td>\n",
        "      <td> 1</td>\n",
        "      <td> N</td>\n",
        "      <td> 2013-01-07 07:35:47</td>\n",
        "      <td> 2013-01-07 07:46:00</td>\n",
        "      <td> 1</td>\n",
        "      <td>  612</td>\n",
        "      <td>  2.3</td>\n",
        "      <td>-73.988510</td>\n",
        "      <td> 40.774307</td>\n",
        "      <td>-73.981094</td>\n",
        "      <td> 40.755325</td>\n",
        "      <td> 0</td>\n",
        "      <td> 0</td>\n",
        "      <td> 0</td>\n",
        "      <td> 1</td>\n",
        "      <td> 0</td>\n",
        "    </tr>\n",
        "    <tr>\n",
        "      <th>14      </th>\n",
        "      <td> 3349F919AA8AE5DC9C50A3773EA45BD8</td>\n",
        "      <td> 7CE849FEF67514F080AF80D990F7EF7F</td>\n",
        "      <td> CMT</td>\n",
        "      <td> 1</td>\n",
        "      <td> N</td>\n",
        "      <td> 2013-01-10 15:42:29</td>\n",
        "      <td> 2013-01-10 16:04:02</td>\n",
        "      <td> 1</td>\n",
        "      <td> 1293</td>\n",
        "      <td>  3.2</td>\n",
        "      <td>-73.994911</td>\n",
        "      <td> 40.723221</td>\n",
        "      <td>-73.971558</td>\n",
        "      <td> 40.761612</td>\n",
        "      <td> 0</td>\n",
        "      <td> 0</td>\n",
        "      <td> 0</td>\n",
        "      <td> 1</td>\n",
        "      <td> 0</td>\n",
        "    </tr>\n",
        "    <tr>\n",
        "      <th>15      </th>\n",
        "      <td> 3349F919AA8AE5DC9C50A3773EA45BD8</td>\n",
        "      <td> 7CE849FEF67514F080AF80D990F7EF7F</td>\n",
        "      <td> CMT</td>\n",
        "      <td> 1</td>\n",
        "      <td> N</td>\n",
        "      <td> 2013-01-10 14:27:28</td>\n",
        "      <td> 2013-01-10 14:45:21</td>\n",
        "      <td> 1</td>\n",
        "      <td> 1073</td>\n",
        "      <td>  4.4</td>\n",
        "      <td>-74.010391</td>\n",
        "      <td> 40.708702</td>\n",
        "      <td>-73.987846</td>\n",
        "      <td> 40.756104</td>\n",
        "      <td> 0</td>\n",
        "      <td> 0</td>\n",
        "      <td> 0</td>\n",
        "      <td> 0</td>\n",
        "      <td> 1</td>\n",
        "    </tr>\n",
        "    <tr>\n",
        "      <th>16      </th>\n",
        "      <td> 4C005EEBAA7BF26B84B21586332488A2</td>\n",
        "      <td> 351BE7D984BE17DB2FA80A748E816472</td>\n",
        "      <td> CMT</td>\n",
        "      <td> 1</td>\n",
        "      <td> N</td>\n",
        "      <td> 2013-01-07 22:09:59</td>\n",
        "      <td> 2013-01-07 22:19:50</td>\n",
        "      <td> 1</td>\n",
        "      <td>  591</td>\n",
        "      <td>  1.7</td>\n",
        "      <td>-73.973732</td>\n",
        "      <td> 40.756287</td>\n",
        "      <td>-73.998413</td>\n",
        "      <td> 40.756832</td>\n",
        "      <td> 0</td>\n",
        "      <td> 1</td>\n",
        "      <td> 0</td>\n",
        "      <td> 0</td>\n",
        "      <td> 0</td>\n",
        "    </tr>\n",
        "    <tr>\n",
        "      <th>17      </th>\n",
        "      <td> 7D99C30FCE69B1A9DD27E2AEAC9BFA0C</td>\n",
        "      <td> 460C3F57DD9CB2265DB75B14CD70224D</td>\n",
        "      <td> CMT</td>\n",
        "      <td> 1</td>\n",
        "      <td> N</td>\n",
        "      <td> 2013-01-07 17:18:16</td>\n",
        "      <td> 2013-01-07 17:20:55</td>\n",
        "      <td> 1</td>\n",
        "      <td>  158</td>\n",
        "      <td>  0.7</td>\n",
        "      <td>-73.968925</td>\n",
        "      <td> 40.767704</td>\n",
        "      <td>-73.961990</td>\n",
        "      <td> 40.776566</td>\n",
        "      <td> 1</td>\n",
        "      <td> 0</td>\n",
        "      <td> 0</td>\n",
        "      <td> 0</td>\n",
        "      <td> 0</td>\n",
        "    </tr>\n",
        "    <tr>\n",
        "      <th>18      </th>\n",
        "      <td> E6FBF80668FE0611AEA44FD9574A7E32</td>\n",
        "      <td> 36773E80775F26CD1158EB5450A61C79</td>\n",
        "      <td> CMT</td>\n",
        "      <td> 1</td>\n",
        "      <td> N</td>\n",
        "      <td> 2013-01-07 06:08:51</td>\n",
        "      <td> 2013-01-07 06:13:14</td>\n",
        "      <td> 1</td>\n",
        "      <td>  262</td>\n",
        "      <td>  1.7</td>\n",
        "      <td>-73.962120</td>\n",
        "      <td> 40.769737</td>\n",
        "      <td>-73.979561</td>\n",
        "      <td> 40.755390</td>\n",
        "      <td> 0</td>\n",
        "      <td> 1</td>\n",
        "      <td> 0</td>\n",
        "      <td> 0</td>\n",
        "      <td> 0</td>\n",
        "    </tr>\n",
        "    <tr>\n",
        "      <th>19      </th>\n",
        "      <td> 0C5296F3C8B16E702F8F2E06F5106552</td>\n",
        "      <td> D2363240A9295EF570FC6069BC4F4C92</td>\n",
        "      <td> CMT</td>\n",
        "      <td> 1</td>\n",
        "      <td> N</td>\n",
        "      <td> 2013-01-07 22:25:46</td>\n",
        "      <td> 2013-01-07 22:36:56</td>\n",
        "      <td> 1</td>\n",
        "      <td>  669</td>\n",
        "      <td>  2.3</td>\n",
        "      <td>-73.989708</td>\n",
        "      <td> 40.756714</td>\n",
        "      <td>-73.977615</td>\n",
        "      <td> 40.787575</td>\n",
        "      <td> 0</td>\n",
        "      <td> 0</td>\n",
        "      <td> 0</td>\n",
        "      <td> 1</td>\n",
        "      <td> 0</td>\n",
        "    </tr>\n",
        "    <tr>\n",
        "      <th>20      </th>\n",
        "      <td> D8AADA4E722C87C10E609654612630DD</td>\n",
        "      <td> 8F1E4F779A4D67431C3FCFA4E70A87DC</td>\n",
        "      <td> CMT</td>\n",
        "      <td> 2</td>\n",
        "      <td> N</td>\n",
        "      <td> 2013-01-10 23:41:51</td>\n",
        "      <td> 2013-01-11 00:09:11</td>\n",
        "      <td> 1</td>\n",
        "      <td> 1640</td>\n",
        "      <td> 17.5</td>\n",
        "      <td>-73.783310</td>\n",
        "      <td> 40.648766</td>\n",
        "      <td>-73.988914</td>\n",
        "      <td> 40.748207</td>\n",
        "      <td> 0</td>\n",
        "      <td> 0</td>\n",
        "      <td> 1</td>\n",
        "      <td> 0</td>\n",
        "      <td> 0</td>\n",
        "    </tr>\n",
        "    <tr>\n",
        "      <th>21      </th>\n",
        "      <td> B6FC8357E0D53B0F1FA897D536A20F5C</td>\n",
        "      <td> 113A5BA8513934DEE97A342E3535DE96</td>\n",
        "      <td> CMT</td>\n",
        "      <td> 1</td>\n",
        "      <td> N</td>\n",
        "      <td> 2013-01-07 18:05:36</td>\n",
        "      <td> 2013-01-07 18:23:50</td>\n",
        "      <td> 4</td>\n",
        "      <td> 1094</td>\n",
        "      <td>  3.8</td>\n",
        "      <td>-73.956505</td>\n",
        "      <td> 40.771278</td>\n",
        "      <td>-73.996368</td>\n",
        "      <td> 40.732460</td>\n",
        "      <td> 0</td>\n",
        "      <td> 0</td>\n",
        "      <td> 0</td>\n",
        "      <td> 1</td>\n",
        "      <td> 0</td>\n",
        "    </tr>\n",
        "    <tr>\n",
        "      <th>22      </th>\n",
        "      <td> E12F6AF991172EAC3553144A0AF75A19</td>\n",
        "      <td> 06918214E951FA0003D1CC54955C2AB0</td>\n",
        "      <td> CMT</td>\n",
        "      <td> 1</td>\n",
        "      <td> N</td>\n",
        "      <td> 2013-01-08 13:29:25</td>\n",
        "      <td> 2013-01-08 13:37:52</td>\n",
        "      <td> 1</td>\n",
        "      <td>  507</td>\n",
        "      <td>  1.2</td>\n",
        "      <td>-73.955780</td>\n",
        "      <td> 40.779320</td>\n",
        "      <td>-73.967285</td>\n",
        "      <td> 40.763344</td>\n",
        "      <td> 0</td>\n",
        "      <td> 1</td>\n",
        "      <td> 0</td>\n",
        "      <td> 0</td>\n",
        "      <td> 0</td>\n",
        "    </tr>\n",
        "    <tr>\n",
        "      <th>23      </th>\n",
        "      <td> 4C005EEBAA7BF26B84B21586332488A2</td>\n",
        "      <td> 351BE7D984BE17DB2FA80A748E816472</td>\n",
        "      <td> CMT</td>\n",
        "      <td> 1</td>\n",
        "      <td> N</td>\n",
        "      <td> 2013-01-07 21:13:02</td>\n",
        "      <td> 2013-01-07 21:22:31</td>\n",
        "      <td> 1</td>\n",
        "      <td>  568</td>\n",
        "      <td>  1.1</td>\n",
        "      <td>-73.978439</td>\n",
        "      <td> 40.764679</td>\n",
        "      <td>-73.977684</td>\n",
        "      <td> 40.777004</td>\n",
        "      <td> 0</td>\n",
        "      <td> 1</td>\n",
        "      <td> 0</td>\n",
        "      <td> 0</td>\n",
        "      <td> 0</td>\n",
        "    </tr>\n",
        "    <tr>\n",
        "      <th>24      </th>\n",
        "      <td> E9BA494DC1A1F26D186394EFBB8327CF</td>\n",
        "      <td> BBF604B3A2426BFBAAC982AAAA0BF1B5</td>\n",
        "      <td> CMT</td>\n",
        "      <td> 1</td>\n",
        "      <td> N</td>\n",
        "      <td> 2013-01-01 18:36:53</td>\n",
        "      <td> 2013-01-01 18:39:04</td>\n",
        "      <td> 1</td>\n",
        "      <td>  131</td>\n",
        "      <td>  0.5</td>\n",
        "      <td>-73.992172</td>\n",
        "      <td> 40.749954</td>\n",
        "      <td>-73.996750</td>\n",
        "      <td> 40.744553</td>\n",
        "      <td> 1</td>\n",
        "      <td> 0</td>\n",
        "      <td> 0</td>\n",
        "      <td> 0</td>\n",
        "      <td> 0</td>\n",
        "    </tr>\n",
        "    <tr>\n",
        "      <th>25      </th>\n",
        "      <td> E6FBF80668FE0611AEA44FD9574A7E32</td>\n",
        "      <td> 36773E80775F26CD1158EB5450A61C79</td>\n",
        "      <td> CMT</td>\n",
        "      <td> 1</td>\n",
        "      <td> Y</td>\n",
        "      <td> 2013-01-07 08:17:06</td>\n",
        "      <td> 2013-01-07 08:22:46</td>\n",
        "      <td> 1</td>\n",
        "      <td>  340</td>\n",
        "      <td>  1.5</td>\n",
        "      <td>-73.992111</td>\n",
        "      <td> 40.689701</td>\n",
        "      <td>-74.007156</td>\n",
        "      <td> 40.679295</td>\n",
        "      <td> 0</td>\n",
        "      <td> 1</td>\n",
        "      <td> 0</td>\n",
        "      <td> 0</td>\n",
        "      <td> 0</td>\n",
        "    </tr>\n",
        "    <tr>\n",
        "      <th>26      </th>\n",
        "      <td> 0C5296F3C8B16E702F8F2E06F5106552</td>\n",
        "      <td> D2363240A9295EF570FC6069BC4F4C92</td>\n",
        "      <td> CMT</td>\n",
        "      <td> 1</td>\n",
        "      <td> N</td>\n",
        "      <td> 2013-01-07 22:39:03</td>\n",
        "      <td> 2013-01-07 22:44:16</td>\n",
        "      <td> 1</td>\n",
        "      <td>  312</td>\n",
        "      <td>  1.5</td>\n",
        "      <td>-73.978653</td>\n",
        "      <td> 40.787735</td>\n",
        "      <td>-73.965790</td>\n",
        "      <td> 40.805321</td>\n",
        "      <td> 0</td>\n",
        "      <td> 1</td>\n",
        "      <td> 0</td>\n",
        "      <td> 0</td>\n",
        "      <td> 0</td>\n",
        "    </tr>\n",
        "    <tr>\n",
        "      <th>27      </th>\n",
        "      <td> A3B17384165197E18CA0A1BB61277EE9</td>\n",
        "      <td> B8396B62883EA332EFD2771A6B031D05</td>\n",
        "      <td> CMT</td>\n",
        "      <td> 1</td>\n",
        "      <td> N</td>\n",
        "      <td> 2013-01-07 06:26:32</td>\n",
        "      <td> 2013-01-07 06:28:24</td>\n",
        "      <td> 2</td>\n",
        "      <td>  111</td>\n",
        "      <td>  0.5</td>\n",
        "      <td>-73.965317</td>\n",
        "      <td> 40.769375</td>\n",
        "      <td>-73.967133</td>\n",
        "      <td> 40.763699</td>\n",
        "      <td> 1</td>\n",
        "      <td> 0</td>\n",
        "      <td> 0</td>\n",
        "      <td> 0</td>\n",
        "      <td> 0</td>\n",
        "    </tr>\n",
        "    <tr>\n",
        "      <th>28      </th>\n",
        "      <td> 8E189DABE265CC03FEF4BFC695B32559</td>\n",
        "      <td> 906939B31C0B93768242A58A682412B8</td>\n",
        "      <td> CMT</td>\n",
        "      <td> 1</td>\n",
        "      <td> N</td>\n",
        "      <td> 2013-01-01 14:02:01</td>\n",
        "      <td> 2013-01-01 14:27:39</td>\n",
        "      <td> 2</td>\n",
        "      <td> 1537</td>\n",
        "      <td> 10.2</td>\n",
        "      <td>-73.862709</td>\n",
        "      <td> 40.769142</td>\n",
        "      <td>-73.982079</td>\n",
        "      <td> 40.762295</td>\n",
        "      <td> 0</td>\n",
        "      <td> 0</td>\n",
        "      <td> 1</td>\n",
        "      <td> 0</td>\n",
        "      <td> 0</td>\n",
        "    </tr>\n",
        "    <tr>\n",
        "      <th>29      </th>\n",
        "      <td> 312E0CB058D7FC1A6494EDB66D360CD2</td>\n",
        "      <td> 7B5156F38990963332B33298C8BAE25E</td>\n",
        "      <td> CMT</td>\n",
        "      <td> 1</td>\n",
        "      <td> N</td>\n",
        "      <td> 2013-01-05 11:54:49</td>\n",
        "      <td> 2013-01-05 12:03:48</td>\n",
        "      <td> 1</td>\n",
        "      <td>  539</td>\n",
        "      <td>  0.8</td>\n",
        "      <td>-73.977127</td>\n",
        "      <td> 40.748310</td>\n",
        "      <td>-73.990913</td>\n",
        "      <td> 40.751053</td>\n",
        "      <td> 1</td>\n",
        "      <td> 0</td>\n",
        "      <td> 0</td>\n",
        "      <td> 0</td>\n",
        "      <td> 0</td>\n",
        "    </tr>\n",
        "    <tr>\n",
        "      <th>...</th>\n",
        "      <td>...</td>\n",
        "      <td>...</td>\n",
        "      <td>...</td>\n",
        "      <td>...</td>\n",
        "      <td>...</td>\n",
        "      <td>...</td>\n",
        "      <td>...</td>\n",
        "      <td>...</td>\n",
        "      <td>...</td>\n",
        "      <td>...</td>\n",
        "      <td>...</td>\n",
        "      <td>...</td>\n",
        "      <td>...</td>\n",
        "      <td>...</td>\n",
        "      <td>...</td>\n",
        "      <td>...</td>\n",
        "      <td>...</td>\n",
        "      <td>...</td>\n",
        "      <td>...</td>\n",
        "    </tr>\n",
        "    <tr>\n",
        "      <th>14776585</th>\n",
        "      <td> 237F49C3ECC11F5024B254268F054384</td>\n",
        "      <td> 93C363DDF8ED9385D65FAD07CE3F5F07</td>\n",
        "      <td> CMT</td>\n",
        "      <td> 1</td>\n",
        "      <td> N</td>\n",
        "      <td> 2013-01-07 07:48:00</td>\n",
        "      <td> 2013-01-07 07:59:01</td>\n",
        "      <td> 2</td>\n",
        "      <td>  661</td>\n",
        "      <td>  2.9</td>\n",
        "      <td>-73.982841</td>\n",
        "      <td> 40.755905</td>\n",
        "      <td>-74.005470</td>\n",
        "      <td> 40.720100</td>\n",
        "      <td> 0</td>\n",
        "      <td> 0</td>\n",
        "      <td> 0</td>\n",
        "      <td> 1</td>\n",
        "      <td> 0</td>\n",
        "    </tr>\n",
        "    <tr>\n",
        "      <th>14776586</th>\n",
        "      <td> 237F49C3ECC11F5024B254268F054384</td>\n",
        "      <td> 93C363DDF8ED9385D65FAD07CE3F5F07</td>\n",
        "      <td> CMT</td>\n",
        "      <td> 1</td>\n",
        "      <td> N</td>\n",
        "      <td> 2013-01-07 09:08:37</td>\n",
        "      <td> 2013-01-07 09:13:33</td>\n",
        "      <td> 1</td>\n",
        "      <td>  296</td>\n",
        "      <td>  0.5</td>\n",
        "      <td>-73.976494</td>\n",
        "      <td> 40.751560</td>\n",
        "      <td>-73.982880</td>\n",
        "      <td> 40.755569</td>\n",
        "      <td> 1</td>\n",
        "      <td> 0</td>\n",
        "      <td> 0</td>\n",
        "      <td> 0</td>\n",
        "      <td> 0</td>\n",
        "    </tr>\n",
        "    <tr>\n",
        "      <th>14776587</th>\n",
        "      <td> 4C005EEBAA7BF26B84B21586332488A2</td>\n",
        "      <td> 351BE7D984BE17DB2FA80A748E816472</td>\n",
        "      <td> CMT</td>\n",
        "      <td> 1</td>\n",
        "      <td> N</td>\n",
        "      <td> 2013-01-07 23:47:47</td>\n",
        "      <td> 2013-01-07 23:54:43</td>\n",
        "      <td> 1</td>\n",
        "      <td>  415</td>\n",
        "      <td>  1.5</td>\n",
        "      <td>-73.995262</td>\n",
        "      <td> 40.743820</td>\n",
        "      <td>-73.987274</td>\n",
        "      <td> 40.729321</td>\n",
        "      <td> 0</td>\n",
        "      <td> 1</td>\n",
        "      <td> 0</td>\n",
        "      <td> 0</td>\n",
        "      <td> 0</td>\n",
        "    </tr>\n",
        "    <tr>\n",
        "      <th>14776588</th>\n",
        "      <td> 32D306FD3A4D7CEDCFD8D644294DD5B7</td>\n",
        "      <td> 05EACD5B806FC3D01A377606D37CF327</td>\n",
        "      <td> CMT</td>\n",
        "      <td> 1</td>\n",
        "      <td> N</td>\n",
        "      <td> 2013-01-08 15:11:04</td>\n",
        "      <td> 2013-01-08 15:24:18</td>\n",
        "      <td> 2</td>\n",
        "      <td>  794</td>\n",
        "      <td>  2.1</td>\n",
        "      <td>-73.969620</td>\n",
        "      <td> 40.763390</td>\n",
        "      <td>-73.979118</td>\n",
        "      <td> 40.784794</td>\n",
        "      <td> 0</td>\n",
        "      <td> 0</td>\n",
        "      <td> 0</td>\n",
        "      <td> 1</td>\n",
        "      <td> 0</td>\n",
        "    </tr>\n",
        "    <tr>\n",
        "      <th>14776589</th>\n",
        "      <td> 32D306FD3A4D7CEDCFD8D644294DD5B7</td>\n",
        "      <td> 05EACD5B806FC3D01A377606D37CF327</td>\n",
        "      <td> CMT</td>\n",
        "      <td> 1</td>\n",
        "      <td> N</td>\n",
        "      <td> 2013-01-08 08:25:24</td>\n",
        "      <td> 2013-01-08 08:35:12</td>\n",
        "      <td> 1</td>\n",
        "      <td>  588</td>\n",
        "      <td>  1.2</td>\n",
        "      <td>-73.965637</td>\n",
        "      <td> 40.774376</td>\n",
        "      <td>-73.977936</td>\n",
        "      <td> 40.759560</td>\n",
        "      <td> 0</td>\n",
        "      <td> 1</td>\n",
        "      <td> 0</td>\n",
        "      <td> 0</td>\n",
        "      <td> 0</td>\n",
        "    </tr>\n",
        "    <tr>\n",
        "      <th>14776590</th>\n",
        "      <td> 50296A056AF5D221536DC98ABB1E3274</td>\n",
        "      <td> 4F3E6D0E69CABD8954F8A126D54C5C20</td>\n",
        "      <td> CMT</td>\n",
        "      <td> 1</td>\n",
        "      <td> N</td>\n",
        "      <td> 2013-01-08 02:37:37</td>\n",
        "      <td> 2013-01-08 02:55:20</td>\n",
        "      <td> 3</td>\n",
        "      <td> 1063</td>\n",
        "      <td>  8.7</td>\n",
        "      <td>-74.003082</td>\n",
        "      <td> 40.739986</td>\n",
        "      <td>-73.937691</td>\n",
        "      <td> 40.838692</td>\n",
        "      <td> 0</td>\n",
        "      <td> 0</td>\n",
        "      <td> 0</td>\n",
        "      <td> 0</td>\n",
        "      <td> 1</td>\n",
        "    </tr>\n",
        "    <tr>\n",
        "      <th>14776591</th>\n",
        "      <td> C6CE309A20A523E64FDCDECF150A2EC1</td>\n",
        "      <td> 3DC3C9552D190C5D26B0358C23E449A6</td>\n",
        "      <td> CMT</td>\n",
        "      <td> 1</td>\n",
        "      <td> N</td>\n",
        "      <td> 2013-01-10 08:02:56</td>\n",
        "      <td> 2013-01-10 08:14:24</td>\n",
        "      <td> 1</td>\n",
        "      <td>  687</td>\n",
        "      <td>  2.7</td>\n",
        "      <td>-73.992874</td>\n",
        "      <td> 40.758064</td>\n",
        "      <td>-73.979675</td>\n",
        "      <td> 40.733341</td>\n",
        "      <td> 0</td>\n",
        "      <td> 0</td>\n",
        "      <td> 0</td>\n",
        "      <td> 1</td>\n",
        "      <td> 0</td>\n",
        "    </tr>\n",
        "    <tr>\n",
        "      <th>14776592</th>\n",
        "      <td> C6CE309A20A523E64FDCDECF150A2EC1</td>\n",
        "      <td> 3DC3C9552D190C5D26B0358C23E449A6</td>\n",
        "      <td> CMT</td>\n",
        "      <td> 1</td>\n",
        "      <td> N</td>\n",
        "      <td> 2013-01-10 15:00:16</td>\n",
        "      <td> 2013-01-10 15:09:03</td>\n",
        "      <td> 1</td>\n",
        "      <td>  527</td>\n",
        "      <td>  0.7</td>\n",
        "      <td>-73.974838</td>\n",
        "      <td> 40.761784</td>\n",
        "      <td>-73.985031</td>\n",
        "      <td> 40.758156</td>\n",
        "      <td> 1</td>\n",
        "      <td> 0</td>\n",
        "      <td> 0</td>\n",
        "      <td> 0</td>\n",
        "      <td> 0</td>\n",
        "    </tr>\n",
        "    <tr>\n",
        "      <th>14776593</th>\n",
        "      <td> 5E162F2D7F569949769648C56A23C525</td>\n",
        "      <td> 6F7932F2B112DAABF1F2A385FE2AB819</td>\n",
        "      <td> CMT</td>\n",
        "      <td> 1</td>\n",
        "      <td> N</td>\n",
        "      <td> 2013-01-07 23:16:34</td>\n",
        "      <td> 2013-01-07 23:43:22</td>\n",
        "      <td> 2</td>\n",
        "      <td> 1608</td>\n",
        "      <td> 13.7</td>\n",
        "      <td>-73.982948</td>\n",
        "      <td> 40.750858</td>\n",
        "      <td>-74.033707</td>\n",
        "      <td> 40.617203</td>\n",
        "      <td> 0</td>\n",
        "      <td> 0</td>\n",
        "      <td> 1</td>\n",
        "      <td> 0</td>\n",
        "      <td> 0</td>\n",
        "    </tr>\n",
        "    <tr>\n",
        "      <th>14776594</th>\n",
        "      <td> 1836E1591EE79F810104064B945747AB</td>\n",
        "      <td> 18EDD3FC80A78DC262E2442FEEA55F01</td>\n",
        "      <td> CMT</td>\n",
        "      <td> 1</td>\n",
        "      <td> N</td>\n",
        "      <td> 2013-01-08 03:05:09</td>\n",
        "      <td> 2013-01-08 03:17:28</td>\n",
        "      <td> 1</td>\n",
        "      <td>  739</td>\n",
        "      <td>  4.3</td>\n",
        "      <td>-73.987808</td>\n",
        "      <td> 40.732471</td>\n",
        "      <td>-73.943024</td>\n",
        "      <td> 40.705822</td>\n",
        "      <td> 0</td>\n",
        "      <td> 0</td>\n",
        "      <td> 0</td>\n",
        "      <td> 0</td>\n",
        "      <td> 1</td>\n",
        "    </tr>\n",
        "    <tr>\n",
        "      <th>14776595</th>\n",
        "      <td> 1836E1591EE79F810104064B945747AB</td>\n",
        "      <td> 18EDD3FC80A78DC262E2442FEEA55F01</td>\n",
        "      <td> CMT</td>\n",
        "      <td> 1</td>\n",
        "      <td> N</td>\n",
        "      <td> 2013-01-07 17:54:25</td>\n",
        "      <td> 2013-01-07 18:11:41</td>\n",
        "      <td> 1</td>\n",
        "      <td> 1035</td>\n",
        "      <td>  2.9</td>\n",
        "      <td>-73.996529</td>\n",
        "      <td> 40.732380</td>\n",
        "      <td>-73.966507</td>\n",
        "      <td> 40.760593</td>\n",
        "      <td> 0</td>\n",
        "      <td> 0</td>\n",
        "      <td> 0</td>\n",
        "      <td> 1</td>\n",
        "      <td> 0</td>\n",
        "    </tr>\n",
        "    <tr>\n",
        "      <th>14776596</th>\n",
        "      <td> A5A69FAD94C3DC7854F9DDEA994B6380</td>\n",
        "      <td> 178BA04DD1A4E3A184C86AA3F110A742</td>\n",
        "      <td> CMT</td>\n",
        "      <td> 1</td>\n",
        "      <td> N</td>\n",
        "      <td> 2013-01-10 08:42:47</td>\n",
        "      <td> 2013-01-10 08:53:25</td>\n",
        "      <td> 1</td>\n",
        "      <td>  637</td>\n",
        "      <td>  1.1</td>\n",
        "      <td>-73.971596</td>\n",
        "      <td> 40.750374</td>\n",
        "      <td>-73.972160</td>\n",
        "      <td> 40.763680</td>\n",
        "      <td> 0</td>\n",
        "      <td> 1</td>\n",
        "      <td> 0</td>\n",
        "      <td> 0</td>\n",
        "      <td> 0</td>\n",
        "    </tr>\n",
        "    <tr>\n",
        "      <th>14776597</th>\n",
        "      <td> 5E162F2D7F569949769648C56A23C525</td>\n",
        "      <td> 6F7932F2B112DAABF1F2A385FE2AB819</td>\n",
        "      <td> CMT</td>\n",
        "      <td> 1</td>\n",
        "      <td> N</td>\n",
        "      <td> 2013-01-07 20:01:08</td>\n",
        "      <td> 2013-01-07 20:10:23</td>\n",
        "      <td> 1</td>\n",
        "      <td>  555</td>\n",
        "      <td>  1.7</td>\n",
        "      <td>-73.988129</td>\n",
        "      <td> 40.769798</td>\n",
        "      <td>-73.977654</td>\n",
        "      <td> 40.753460</td>\n",
        "      <td> 0</td>\n",
        "      <td> 1</td>\n",
        "      <td> 0</td>\n",
        "      <td> 0</td>\n",
        "      <td> 0</td>\n",
        "    </tr>\n",
        "    <tr>\n",
        "      <th>14776598</th>\n",
        "      <td> B36D470B76BD8F6D720A83D08891754E</td>\n",
        "      <td> A86011E8B4D0FCC19283230950DFCB3E</td>\n",
        "      <td> CMT</td>\n",
        "      <td> 1</td>\n",
        "      <td> N</td>\n",
        "      <td> 2013-01-07 22:01:57</td>\n",
        "      <td> 2013-01-07 22:17:36</td>\n",
        "      <td> 2</td>\n",
        "      <td>  939</td>\n",
        "      <td>  6.0</td>\n",
        "      <td>-73.984634</td>\n",
        "      <td> 40.718761</td>\n",
        "      <td>-73.981766</td>\n",
        "      <td> 40.675709</td>\n",
        "      <td> 0</td>\n",
        "      <td> 0</td>\n",
        "      <td> 0</td>\n",
        "      <td> 0</td>\n",
        "      <td> 1</td>\n",
        "    </tr>\n",
        "    <tr>\n",
        "      <th>14776599</th>\n",
        "      <td> 47CFD616C057758044C57D1B4BEFE759</td>\n",
        "      <td> A6DCBA545B1E1A2DC24BFEE1C0A54029</td>\n",
        "      <td> CMT</td>\n",
        "      <td> 1</td>\n",
        "      <td> N</td>\n",
        "      <td> 2013-01-07 19:48:22</td>\n",
        "      <td> 2013-01-07 19:51:22</td>\n",
        "      <td> 1</td>\n",
        "      <td>  179</td>\n",
        "      <td>  0.5</td>\n",
        "      <td>-73.972740</td>\n",
        "      <td> 40.792896</td>\n",
        "      <td>-73.967850</td>\n",
        "      <td> 40.800568</td>\n",
        "      <td> 1</td>\n",
        "      <td> 0</td>\n",
        "      <td> 0</td>\n",
        "      <td> 0</td>\n",
        "      <td> 0</td>\n",
        "    </tr>\n",
        "    <tr>\n",
        "      <th>14776600</th>\n",
        "      <td> 0CC08DE5645A7137059499EA11886805</td>\n",
        "      <td> 4F2627F9FD34A9B9EFCCFC5147048345</td>\n",
        "      <td> CMT</td>\n",
        "      <td> 1</td>\n",
        "      <td> N</td>\n",
        "      <td> 2013-01-08 00:26:18</td>\n",
        "      <td> 2013-01-08 00:33:41</td>\n",
        "      <td> 1</td>\n",
        "      <td>  442</td>\n",
        "      <td>  2.2</td>\n",
        "      <td>-74.006546</td>\n",
        "      <td> 40.739670</td>\n",
        "      <td>-73.982872</td>\n",
        "      <td> 40.756832</td>\n",
        "      <td> 0</td>\n",
        "      <td> 0</td>\n",
        "      <td> 0</td>\n",
        "      <td> 1</td>\n",
        "      <td> 0</td>\n",
        "    </tr>\n",
        "    <tr>\n",
        "      <th>14776601</th>\n",
        "      <td> 0CC08DE5645A7137059499EA11886805</td>\n",
        "      <td> 4F2627F9FD34A9B9EFCCFC5147048345</td>\n",
        "      <td> CMT</td>\n",
        "      <td> 1</td>\n",
        "      <td> N</td>\n",
        "      <td> 2013-01-07 19:57:17</td>\n",
        "      <td> 2013-01-07 20:07:02</td>\n",
        "      <td> 1</td>\n",
        "      <td>  585</td>\n",
        "      <td>  4.0</td>\n",
        "      <td>-74.014114</td>\n",
        "      <td> 40.706306</td>\n",
        "      <td>-74.002693</td>\n",
        "      <td> 40.760006</td>\n",
        "      <td> 0</td>\n",
        "      <td> 0</td>\n",
        "      <td> 0</td>\n",
        "      <td> 1</td>\n",
        "      <td> 0</td>\n",
        "    </tr>\n",
        "    <tr>\n",
        "      <th>14776602</th>\n",
        "      <td> B7A16B1C396F4A5113257DDEB043D953</td>\n",
        "      <td> 3DC4ACD88D75EF04FBC9CCDFEEF7C71E</td>\n",
        "      <td> CMT</td>\n",
        "      <td> 1</td>\n",
        "      <td> N</td>\n",
        "      <td> 2013-01-07 18:50:36</td>\n",
        "      <td> 2013-01-07 19:02:03</td>\n",
        "      <td> 1</td>\n",
        "      <td>  686</td>\n",
        "      <td>  2.2</td>\n",
        "      <td>-73.989914</td>\n",
        "      <td> 40.736874</td>\n",
        "      <td>-74.009033</td>\n",
        "      <td> 40.716122</td>\n",
        "      <td> 0</td>\n",
        "      <td> 0</td>\n",
        "      <td> 0</td>\n",
        "      <td> 1</td>\n",
        "      <td> 0</td>\n",
        "    </tr>\n",
        "    <tr>\n",
        "      <th>14776603</th>\n",
        "      <td> E71CDEFCB364DA0D385629612EE30642</td>\n",
        "      <td> C7259B75B62CB850082BDEB4149DC075</td>\n",
        "      <td> CMT</td>\n",
        "      <td> 1</td>\n",
        "      <td> N</td>\n",
        "      <td> 2013-01-07 21:46:45</td>\n",
        "      <td> 2013-01-07 21:50:30</td>\n",
        "      <td> 1</td>\n",
        "      <td>  224</td>\n",
        "      <td>  0.9</td>\n",
        "      <td>-73.961113</td>\n",
        "      <td> 40.765106</td>\n",
        "      <td>-73.959839</td>\n",
        "      <td> 40.776237</td>\n",
        "      <td> 1</td>\n",
        "      <td> 0</td>\n",
        "      <td> 0</td>\n",
        "      <td> 0</td>\n",
        "      <td> 0</td>\n",
        "    </tr>\n",
        "    <tr>\n",
        "      <th>14776604</th>\n",
        "      <td> E71CDEFCB364DA0D385629612EE30642</td>\n",
        "      <td> C7259B75B62CB850082BDEB4149DC075</td>\n",
        "      <td> CMT</td>\n",
        "      <td> 1</td>\n",
        "      <td> N</td>\n",
        "      <td> 2013-01-07 21:53:35</td>\n",
        "      <td> 2013-01-07 21:54:57</td>\n",
        "      <td> 1</td>\n",
        "      <td>   82</td>\n",
        "      <td>  0.5</td>\n",
        "      <td>-73.964081</td>\n",
        "      <td> 40.770279</td>\n",
        "      <td>-73.958977</td>\n",
        "      <td> 40.777237</td>\n",
        "      <td> 1</td>\n",
        "      <td> 0</td>\n",
        "      <td> 0</td>\n",
        "      <td> 0</td>\n",
        "      <td> 0</td>\n",
        "    </tr>\n",
        "    <tr>\n",
        "      <th>14776605</th>\n",
        "      <td> A8262FA0AFCB6C7229F6888EAFBDE076</td>\n",
        "      <td> 1BDF89260FEF1AE6FDDE839A0278D31D</td>\n",
        "      <td> CMT</td>\n",
        "      <td> 2</td>\n",
        "      <td> N</td>\n",
        "      <td> 2013-01-07 07:29:06</td>\n",
        "      <td> 2013-01-07 08:19:39</td>\n",
        "      <td> 1</td>\n",
        "      <td> 3032</td>\n",
        "      <td> 21.3</td>\n",
        "      <td>-73.776794</td>\n",
        "      <td> 40.645775</td>\n",
        "      <td>-74.010933</td>\n",
        "      <td> 40.704960</td>\n",
        "      <td> 0</td>\n",
        "      <td> 0</td>\n",
        "      <td> 1</td>\n",
        "      <td> 0</td>\n",
        "      <td> 0</td>\n",
        "    </tr>\n",
        "    <tr>\n",
        "      <th>14776606</th>\n",
        "      <td> A8262FA0AFCB6C7229F6888EAFBDE076</td>\n",
        "      <td> 1BDF89260FEF1AE6FDDE839A0278D31D</td>\n",
        "      <td> CMT</td>\n",
        "      <td> 1</td>\n",
        "      <td> N</td>\n",
        "      <td> 2013-01-07 14:30:23</td>\n",
        "      <td> 2013-01-07 14:42:14</td>\n",
        "      <td> 1</td>\n",
        "      <td>  711</td>\n",
        "      <td>  1.4</td>\n",
        "      <td>-73.946114</td>\n",
        "      <td> 40.801075</td>\n",
        "      <td>-73.966530</td>\n",
        "      <td> 40.805023</td>\n",
        "      <td> 0</td>\n",
        "      <td> 1</td>\n",
        "      <td> 0</td>\n",
        "      <td> 0</td>\n",
        "      <td> 0</td>\n",
        "    </tr>\n",
        "    <tr>\n",
        "      <th>14776607</th>\n",
        "      <td> F33EF464441839C6F0DABAABBC93B45D</td>\n",
        "      <td> 313F66DD09C308EADA3B307F6B8CF7A9</td>\n",
        "      <td> CMT</td>\n",
        "      <td> 1</td>\n",
        "      <td> N</td>\n",
        "      <td> 2013-01-10 10:56:47</td>\n",
        "      <td> 2013-01-10 11:05:52</td>\n",
        "      <td> 1</td>\n",
        "      <td>  545</td>\n",
        "      <td>  1.4</td>\n",
        "      <td>-73.975410</td>\n",
        "      <td> 40.759106</td>\n",
        "      <td>-73.961830</td>\n",
        "      <td> 40.776527</td>\n",
        "      <td> 0</td>\n",
        "      <td> 1</td>\n",
        "      <td> 0</td>\n",
        "      <td> 0</td>\n",
        "      <td> 0</td>\n",
        "    </tr>\n",
        "    <tr>\n",
        "      <th>14776608</th>\n",
        "      <td> 56CE01E7DBE0E6449FA1758F082D8884</td>\n",
        "      <td> 4C6FE2FCFED26629D515D291EC1516A0</td>\n",
        "      <td> CMT</td>\n",
        "      <td> 1</td>\n",
        "      <td> N</td>\n",
        "      <td> 2013-01-10 14:50:01</td>\n",
        "      <td> 2013-01-10 15:19:10</td>\n",
        "      <td> 1</td>\n",
        "      <td> 1748</td>\n",
        "      <td>  4.0</td>\n",
        "      <td>-73.957344</td>\n",
        "      <td> 40.785732</td>\n",
        "      <td>-73.994942</td>\n",
        "      <td> 40.742931</td>\n",
        "      <td> 0</td>\n",
        "      <td> 0</td>\n",
        "      <td> 0</td>\n",
        "      <td> 1</td>\n",
        "      <td> 0</td>\n",
        "    </tr>\n",
        "    <tr>\n",
        "      <th>14776609</th>\n",
        "      <td> 32201027CDC62D654DC3AD9747A07C96</td>\n",
        "      <td> B8DDB9F8143017E22104050B26C2A65D</td>\n",
        "      <td> CMT</td>\n",
        "      <td> 1</td>\n",
        "      <td> N</td>\n",
        "      <td> 2013-01-05 08:58:18</td>\n",
        "      <td> 2013-01-05 09:05:56</td>\n",
        "      <td> 1</td>\n",
        "      <td>  458</td>\n",
        "      <td>  3.2</td>\n",
        "      <td>-73.998901</td>\n",
        "      <td> 40.734509</td>\n",
        "      <td>-73.966820</td>\n",
        "      <td> 40.770138</td>\n",
        "      <td> 0</td>\n",
        "      <td> 0</td>\n",
        "      <td> 0</td>\n",
        "      <td> 1</td>\n",
        "      <td> 0</td>\n",
        "    </tr>\n",
        "    <tr>\n",
        "      <th>14776610</th>\n",
        "      <td> B33E71CD9E8FE1BE3B70FEB6E807DD15</td>\n",
        "      <td> BAF57796E45D921BB23217E17A372FF6</td>\n",
        "      <td> CMT</td>\n",
        "      <td> 1</td>\n",
        "      <td> N</td>\n",
        "      <td> 2013-01-06 04:58:23</td>\n",
        "      <td> 2013-01-06 05:11:24</td>\n",
        "      <td> 1</td>\n",
        "      <td>  781</td>\n",
        "      <td>  3.3</td>\n",
        "      <td>-73.989029</td>\n",
        "      <td> 40.759327</td>\n",
        "      <td>-73.953743</td>\n",
        "      <td> 40.770672</td>\n",
        "      <td> 0</td>\n",
        "      <td> 0</td>\n",
        "      <td> 0</td>\n",
        "      <td> 1</td>\n",
        "      <td> 0</td>\n",
        "    </tr>\n",
        "    <tr>\n",
        "      <th>14776611</th>\n",
        "      <td> ED160B76D5349C8AC1ECF22CD4B8D538</td>\n",
        "      <td> 3B93F6DA5DEBDE9560993FA624C4FF76</td>\n",
        "      <td> CMT</td>\n",
        "      <td> 1</td>\n",
        "      <td> N</td>\n",
        "      <td> 2013-01-08 14:42:04</td>\n",
        "      <td> 2013-01-08 14:50:27</td>\n",
        "      <td> 1</td>\n",
        "      <td>  503</td>\n",
        "      <td>  1.0</td>\n",
        "      <td>-73.993042</td>\n",
        "      <td> 40.733990</td>\n",
        "      <td>-73.982483</td>\n",
        "      <td> 40.724823</td>\n",
        "      <td> 1</td>\n",
        "      <td> 0</td>\n",
        "      <td> 0</td>\n",
        "      <td> 0</td>\n",
        "      <td> 0</td>\n",
        "    </tr>\n",
        "    <tr>\n",
        "      <th>14776612</th>\n",
        "      <td> D83F9AC0E33F6F19869C243BE6AB6FE5</td>\n",
        "      <td> 85A55B6772275374EF90AC9457DC1F83</td>\n",
        "      <td> CMT</td>\n",
        "      <td> 1</td>\n",
        "      <td> N</td>\n",
        "      <td> 2013-01-10 13:29:23</td>\n",
        "      <td> 2013-01-10 13:34:45</td>\n",
        "      <td> 1</td>\n",
        "      <td>  321</td>\n",
        "      <td>  0.9</td>\n",
        "      <td>-73.979553</td>\n",
        "      <td> 40.785011</td>\n",
        "      <td>-73.968262</td>\n",
        "      <td> 40.788158</td>\n",
        "      <td> 1</td>\n",
        "      <td> 0</td>\n",
        "      <td> 0</td>\n",
        "      <td> 0</td>\n",
        "      <td> 0</td>\n",
        "    </tr>\n",
        "    <tr>\n",
        "      <th>14776613</th>\n",
        "      <td> 04E59442A7DDBCE515E33CD355D866E7</td>\n",
        "      <td> 7913172189931A1A1632562B10AB53C4</td>\n",
        "      <td> CMT</td>\n",
        "      <td> 1</td>\n",
        "      <td> N</td>\n",
        "      <td> 2013-01-06 16:30:15</td>\n",
        "      <td> 2013-01-06 16:42:26</td>\n",
        "      <td> 1</td>\n",
        "      <td>  730</td>\n",
        "      <td>  1.3</td>\n",
        "      <td>-73.968002</td>\n",
        "      <td> 40.762161</td>\n",
        "      <td>-73.985992</td>\n",
        "      <td> 40.770542</td>\n",
        "      <td> 0</td>\n",
        "      <td> 1</td>\n",
        "      <td> 0</td>\n",
        "      <td> 0</td>\n",
        "      <td> 0</td>\n",
        "    </tr>\n",
        "    <tr>\n",
        "      <th>14776614</th>\n",
        "      <td> D30BED60331C79E3F7ACD05B325ED42F</td>\n",
        "      <td> B5E1D2461A5BCC8819188DACEC17CD69</td>\n",
        "      <td> CMT</td>\n",
        "      <td> 1</td>\n",
        "      <td> N</td>\n",
        "      <td> 2013-01-05 20:38:46</td>\n",
        "      <td> 2013-01-05 20:43:06</td>\n",
        "      <td> 1</td>\n",
        "      <td>  260</td>\n",
        "      <td>  0.8</td>\n",
        "      <td>-73.982224</td>\n",
        "      <td> 40.766670</td>\n",
        "      <td>-73.989212</td>\n",
        "      <td> 40.773636</td>\n",
        "      <td> 1</td>\n",
        "      <td> 0</td>\n",
        "      <td> 0</td>\n",
        "      <td> 0</td>\n",
        "      <td> 0</td>\n",
        "    </tr>\n",
        "  </tbody>\n",
        "</table>\n",
        "<p>14776615 rows \u00d7 19 columns</p>\n",
        "</div>"
       ],
       "metadata": {},
       "output_type": "pyout",
       "prompt_number": 27,
       "text": [
        "                                 medallion                      hack_license  \\\n",
        "0         89D227B655E5C82AECF13C3F540D4CF4  BA96DE419E711691B9445D6A6307C170   \n",
        "1         0BD7C8F5BA12B88E0B67BED28BEA73D8  9FD8F69F0804BDB5549F40E9DA1BE472   \n",
        "2         0BD7C8F5BA12B88E0B67BED28BEA73D8  9FD8F69F0804BDB5549F40E9DA1BE472   \n",
        "3         DFD2202EE08F7A8DC9A57B02ACB81FE2  51EE87E3205C985EF8431D850C786310   \n",
        "4         DFD2202EE08F7A8DC9A57B02ACB81FE2  51EE87E3205C985EF8431D850C786310   \n",
        "5         20D9ECB2CA0767CF7A01564DF2844A3E  598CCE5B9C1918568DEE71F43CF26CD2   \n",
        "6         496644932DF3932605C22C7926FF0FE0  513189AD756FF14FE670D10B92FAF04C   \n",
        "7         0B57B9633A2FECD3D3B1944AFC7471CF  CCD4367B417ED6634D986F573A552A62   \n",
        "8         2C0E91FF20A856C891483ED63589F982  1DA2F6543A62B8ED934771661A9D2FA0   \n",
        "9         2D4B95E2FA7B2E85118EC5CA4570FA58  CD2F522EEE1FF5F5A8D8B679E23576B3   \n",
        "10        E12F6AF991172EAC3553144A0AF75A19  06918214E951FA0003D1CC54955C2AB0   \n",
        "11        E12F6AF991172EAC3553144A0AF75A19  06918214E951FA0003D1CC54955C2AB0   \n",
        "12        78FFD9CD0CDA541F335EF8B38FB494D6  E949C583ECF62C8F03FDCE1484954A08   \n",
        "13        237F49C3ECC11F5024B254268F054384  93C363DDF8ED9385D65FAD07CE3F5F07   \n",
        "14        3349F919AA8AE5DC9C50A3773EA45BD8  7CE849FEF67514F080AF80D990F7EF7F   \n",
        "15        3349F919AA8AE5DC9C50A3773EA45BD8  7CE849FEF67514F080AF80D990F7EF7F   \n",
        "16        4C005EEBAA7BF26B84B21586332488A2  351BE7D984BE17DB2FA80A748E816472   \n",
        "17        7D99C30FCE69B1A9DD27E2AEAC9BFA0C  460C3F57DD9CB2265DB75B14CD70224D   \n",
        "18        E6FBF80668FE0611AEA44FD9574A7E32  36773E80775F26CD1158EB5450A61C79   \n",
        "19        0C5296F3C8B16E702F8F2E06F5106552  D2363240A9295EF570FC6069BC4F4C92   \n",
        "20        D8AADA4E722C87C10E609654612630DD  8F1E4F779A4D67431C3FCFA4E70A87DC   \n",
        "21        B6FC8357E0D53B0F1FA897D536A20F5C  113A5BA8513934DEE97A342E3535DE96   \n",
        "22        E12F6AF991172EAC3553144A0AF75A19  06918214E951FA0003D1CC54955C2AB0   \n",
        "23        4C005EEBAA7BF26B84B21586332488A2  351BE7D984BE17DB2FA80A748E816472   \n",
        "24        E9BA494DC1A1F26D186394EFBB8327CF  BBF604B3A2426BFBAAC982AAAA0BF1B5   \n",
        "25        E6FBF80668FE0611AEA44FD9574A7E32  36773E80775F26CD1158EB5450A61C79   \n",
        "26        0C5296F3C8B16E702F8F2E06F5106552  D2363240A9295EF570FC6069BC4F4C92   \n",
        "27        A3B17384165197E18CA0A1BB61277EE9  B8396B62883EA332EFD2771A6B031D05   \n",
        "28        8E189DABE265CC03FEF4BFC695B32559  906939B31C0B93768242A58A682412B8   \n",
        "29        312E0CB058D7FC1A6494EDB66D360CD2  7B5156F38990963332B33298C8BAE25E   \n",
        "...                                    ...                               ...   \n",
        "14776585  237F49C3ECC11F5024B254268F054384  93C363DDF8ED9385D65FAD07CE3F5F07   \n",
        "14776586  237F49C3ECC11F5024B254268F054384  93C363DDF8ED9385D65FAD07CE3F5F07   \n",
        "14776587  4C005EEBAA7BF26B84B21586332488A2  351BE7D984BE17DB2FA80A748E816472   \n",
        "14776588  32D306FD3A4D7CEDCFD8D644294DD5B7  05EACD5B806FC3D01A377606D37CF327   \n",
        "14776589  32D306FD3A4D7CEDCFD8D644294DD5B7  05EACD5B806FC3D01A377606D37CF327   \n",
        "14776590  50296A056AF5D221536DC98ABB1E3274  4F3E6D0E69CABD8954F8A126D54C5C20   \n",
        "14776591  C6CE309A20A523E64FDCDECF150A2EC1  3DC3C9552D190C5D26B0358C23E449A6   \n",
        "14776592  C6CE309A20A523E64FDCDECF150A2EC1  3DC3C9552D190C5D26B0358C23E449A6   \n",
        "14776593  5E162F2D7F569949769648C56A23C525  6F7932F2B112DAABF1F2A385FE2AB819   \n",
        "14776594  1836E1591EE79F810104064B945747AB  18EDD3FC80A78DC262E2442FEEA55F01   \n",
        "14776595  1836E1591EE79F810104064B945747AB  18EDD3FC80A78DC262E2442FEEA55F01   \n",
        "14776596  A5A69FAD94C3DC7854F9DDEA994B6380  178BA04DD1A4E3A184C86AA3F110A742   \n",
        "14776597  5E162F2D7F569949769648C56A23C525  6F7932F2B112DAABF1F2A385FE2AB819   \n",
        "14776598  B36D470B76BD8F6D720A83D08891754E  A86011E8B4D0FCC19283230950DFCB3E   \n",
        "14776599  47CFD616C057758044C57D1B4BEFE759  A6DCBA545B1E1A2DC24BFEE1C0A54029   \n",
        "14776600  0CC08DE5645A7137059499EA11886805  4F2627F9FD34A9B9EFCCFC5147048345   \n",
        "14776601  0CC08DE5645A7137059499EA11886805  4F2627F9FD34A9B9EFCCFC5147048345   \n",
        "14776602  B7A16B1C396F4A5113257DDEB043D953  3DC4ACD88D75EF04FBC9CCDFEEF7C71E   \n",
        "14776603  E71CDEFCB364DA0D385629612EE30642  C7259B75B62CB850082BDEB4149DC075   \n",
        "14776604  E71CDEFCB364DA0D385629612EE30642  C7259B75B62CB850082BDEB4149DC075   \n",
        "14776605  A8262FA0AFCB6C7229F6888EAFBDE076  1BDF89260FEF1AE6FDDE839A0278D31D   \n",
        "14776606  A8262FA0AFCB6C7229F6888EAFBDE076  1BDF89260FEF1AE6FDDE839A0278D31D   \n",
        "14776607  F33EF464441839C6F0DABAABBC93B45D  313F66DD09C308EADA3B307F6B8CF7A9   \n",
        "14776608  56CE01E7DBE0E6449FA1758F082D8884  4C6FE2FCFED26629D515D291EC1516A0   \n",
        "14776609  32201027CDC62D654DC3AD9747A07C96  B8DDB9F8143017E22104050B26C2A65D   \n",
        "14776610  B33E71CD9E8FE1BE3B70FEB6E807DD15  BAF57796E45D921BB23217E17A372FF6   \n",
        "14776611  ED160B76D5349C8AC1ECF22CD4B8D538  3B93F6DA5DEBDE9560993FA624C4FF76   \n",
        "14776612  D83F9AC0E33F6F19869C243BE6AB6FE5  85A55B6772275374EF90AC9457DC1F83   \n",
        "14776613  04E59442A7DDBCE515E33CD355D866E7  7913172189931A1A1632562B10AB53C4   \n",
        "14776614  D30BED60331C79E3F7ACD05B325ED42F  B5E1D2461A5BCC8819188DACEC17CD69   \n",
        "\n",
        "         vendor_id  rate_code store_and_fwd_flag      pickup_datetime  \\\n",
        "0              CMT          1                  N  2013-01-01 15:11:48   \n",
        "1              CMT          1                  N  2013-01-06 00:18:35   \n",
        "2              CMT          1                  N  2013-01-05 18:49:41   \n",
        "3              CMT          1                  N  2013-01-07 23:54:15   \n",
        "4              CMT          1                  N  2013-01-07 23:25:03   \n",
        "5              CMT          1                  N  2013-01-07 15:27:48   \n",
        "6              CMT          1                  N  2013-01-08 11:01:15   \n",
        "7              CMT          1                  N  2013-01-07 12:39:18   \n",
        "8              CMT          1                  N  2013-01-07 18:15:47   \n",
        "9              CMT          1                  N  2013-01-07 15:33:28   \n",
        "10             CMT          1                  N  2013-01-08 13:11:52   \n",
        "11             CMT          1                  N  2013-01-08 09:50:05   \n",
        "12             CMT          1                  N  2013-01-10 12:07:08   \n",
        "13             CMT          1                  N  2013-01-07 07:35:47   \n",
        "14             CMT          1                  N  2013-01-10 15:42:29   \n",
        "15             CMT          1                  N  2013-01-10 14:27:28   \n",
        "16             CMT          1                  N  2013-01-07 22:09:59   \n",
        "17             CMT          1                  N  2013-01-07 17:18:16   \n",
        "18             CMT          1                  N  2013-01-07 06:08:51   \n",
        "19             CMT          1                  N  2013-01-07 22:25:46   \n",
        "20             CMT          2                  N  2013-01-10 23:41:51   \n",
        "21             CMT          1                  N  2013-01-07 18:05:36   \n",
        "22             CMT          1                  N  2013-01-08 13:29:25   \n",
        "23             CMT          1                  N  2013-01-07 21:13:02   \n",
        "24             CMT          1                  N  2013-01-01 18:36:53   \n",
        "25             CMT          1                  Y  2013-01-07 08:17:06   \n",
        "26             CMT          1                  N  2013-01-07 22:39:03   \n",
        "27             CMT          1                  N  2013-01-07 06:26:32   \n",
        "28             CMT          1                  N  2013-01-01 14:02:01   \n",
        "29             CMT          1                  N  2013-01-05 11:54:49   \n",
        "...            ...        ...                ...                  ...   \n",
        "14776585       CMT          1                  N  2013-01-07 07:48:00   \n",
        "14776586       CMT          1                  N  2013-01-07 09:08:37   \n",
        "14776587       CMT          1                  N  2013-01-07 23:47:47   \n",
        "14776588       CMT          1                  N  2013-01-08 15:11:04   \n",
        "14776589       CMT          1                  N  2013-01-08 08:25:24   \n",
        "14776590       CMT          1                  N  2013-01-08 02:37:37   \n",
        "14776591       CMT          1                  N  2013-01-10 08:02:56   \n",
        "14776592       CMT          1                  N  2013-01-10 15:00:16   \n",
        "14776593       CMT          1                  N  2013-01-07 23:16:34   \n",
        "14776594       CMT          1                  N  2013-01-08 03:05:09   \n",
        "14776595       CMT          1                  N  2013-01-07 17:54:25   \n",
        "14776596       CMT          1                  N  2013-01-10 08:42:47   \n",
        "14776597       CMT          1                  N  2013-01-07 20:01:08   \n",
        "14776598       CMT          1                  N  2013-01-07 22:01:57   \n",
        "14776599       CMT          1                  N  2013-01-07 19:48:22   \n",
        "14776600       CMT          1                  N  2013-01-08 00:26:18   \n",
        "14776601       CMT          1                  N  2013-01-07 19:57:17   \n",
        "14776602       CMT          1                  N  2013-01-07 18:50:36   \n",
        "14776603       CMT          1                  N  2013-01-07 21:46:45   \n",
        "14776604       CMT          1                  N  2013-01-07 21:53:35   \n",
        "14776605       CMT          2                  N  2013-01-07 07:29:06   \n",
        "14776606       CMT          1                  N  2013-01-07 14:30:23   \n",
        "14776607       CMT          1                  N  2013-01-10 10:56:47   \n",
        "14776608       CMT          1                  N  2013-01-10 14:50:01   \n",
        "14776609       CMT          1                  N  2013-01-05 08:58:18   \n",
        "14776610       CMT          1                  N  2013-01-06 04:58:23   \n",
        "14776611       CMT          1                  N  2013-01-08 14:42:04   \n",
        "14776612       CMT          1                  N  2013-01-10 13:29:23   \n",
        "14776613       CMT          1                  N  2013-01-06 16:30:15   \n",
        "14776614       CMT          1                  N  2013-01-05 20:38:46   \n",
        "\n",
        "             dropoff_datetime  passenger_count  trip_time_in_secs  \\\n",
        "0         2013-01-01 15:18:10                4                382   \n",
        "1         2013-01-06 00:22:54                1                259   \n",
        "2         2013-01-05 18:54:23                1                282   \n",
        "3         2013-01-07 23:58:20                2                244   \n",
        "4         2013-01-07 23:34:24                1                560   \n",
        "5         2013-01-07 15:38:37                1                648   \n",
        "6         2013-01-08 11:08:14                1                418   \n",
        "7         2013-01-07 13:10:56                3               1898   \n",
        "8         2013-01-07 18:20:47                1                299   \n",
        "9         2013-01-07 15:49:26                2                957   \n",
        "10        2013-01-08 13:19:50                1                477   \n",
        "11        2013-01-08 10:02:54                1                768   \n",
        "12        2013-01-10 12:17:29                1                620   \n",
        "13        2013-01-07 07:46:00                1                612   \n",
        "14        2013-01-10 16:04:02                1               1293   \n",
        "15        2013-01-10 14:45:21                1               1073   \n",
        "16        2013-01-07 22:19:50                1                591   \n",
        "17        2013-01-07 17:20:55                1                158   \n",
        "18        2013-01-07 06:13:14                1                262   \n",
        "19        2013-01-07 22:36:56                1                669   \n",
        "20        2013-01-11 00:09:11                1               1640   \n",
        "21        2013-01-07 18:23:50                4               1094   \n",
        "22        2013-01-08 13:37:52                1                507   \n",
        "23        2013-01-07 21:22:31                1                568   \n",
        "24        2013-01-01 18:39:04                1                131   \n",
        "25        2013-01-07 08:22:46                1                340   \n",
        "26        2013-01-07 22:44:16                1                312   \n",
        "27        2013-01-07 06:28:24                2                111   \n",
        "28        2013-01-01 14:27:39                2               1537   \n",
        "29        2013-01-05 12:03:48                1                539   \n",
        "...                       ...              ...                ...   \n",
        "14776585  2013-01-07 07:59:01                2                661   \n",
        "14776586  2013-01-07 09:13:33                1                296   \n",
        "14776587  2013-01-07 23:54:43                1                415   \n",
        "14776588  2013-01-08 15:24:18                2                794   \n",
        "14776589  2013-01-08 08:35:12                1                588   \n",
        "14776590  2013-01-08 02:55:20                3               1063   \n",
        "14776591  2013-01-10 08:14:24                1                687   \n",
        "14776592  2013-01-10 15:09:03                1                527   \n",
        "14776593  2013-01-07 23:43:22                2               1608   \n",
        "14776594  2013-01-08 03:17:28                1                739   \n",
        "14776595  2013-01-07 18:11:41                1               1035   \n",
        "14776596  2013-01-10 08:53:25                1                637   \n",
        "14776597  2013-01-07 20:10:23                1                555   \n",
        "14776598  2013-01-07 22:17:36                2                939   \n",
        "14776599  2013-01-07 19:51:22                1                179   \n",
        "14776600  2013-01-08 00:33:41                1                442   \n",
        "14776601  2013-01-07 20:07:02                1                585   \n",
        "14776602  2013-01-07 19:02:03                1                686   \n",
        "14776603  2013-01-07 21:50:30                1                224   \n",
        "14776604  2013-01-07 21:54:57                1                 82   \n",
        "14776605  2013-01-07 08:19:39                1               3032   \n",
        "14776606  2013-01-07 14:42:14                1                711   \n",
        "14776607  2013-01-10 11:05:52                1                545   \n",
        "14776608  2013-01-10 15:19:10                1               1748   \n",
        "14776609  2013-01-05 09:05:56                1                458   \n",
        "14776610  2013-01-06 05:11:24                1                781   \n",
        "14776611  2013-01-08 14:50:27                1                503   \n",
        "14776612  2013-01-10 13:34:45                1                321   \n",
        "14776613  2013-01-06 16:42:26                1                730   \n",
        "14776614  2013-01-05 20:43:06                1                260   \n",
        "\n",
        "          trip_distance  pickup_longitude  pickup_latitude  dropoff_longitude  \\\n",
        "0                   1.0        -73.978165        40.757977         -73.989838   \n",
        "1                   1.5        -74.006683        40.731781         -73.994499   \n",
        "2                   1.1        -74.004707        40.737770         -74.009834   \n",
        "3                   0.7        -73.974602        40.759945         -73.984734   \n",
        "4                   2.1        -73.976250        40.748528         -74.002586   \n",
        "5                   1.7        -73.966743        40.764252         -73.983322   \n",
        "6                   0.8        -73.995804        40.743977         -74.007416   \n",
        "7                  10.7        -73.989937        40.756775         -73.865250   \n",
        "8                   0.8        -73.980072        40.743137         -73.982712   \n",
        "9                   2.5        -73.977936        40.786983         -73.952919   \n",
        "10                  1.3        -73.982452        40.773167         -73.964134   \n",
        "11                  0.7        -73.995560        40.749294         -73.988686   \n",
        "12                  2.3        -73.971497        40.791321         -73.964478   \n",
        "13                  2.3        -73.988510        40.774307         -73.981094   \n",
        "14                  3.2        -73.994911        40.723221         -73.971558   \n",
        "15                  4.4        -74.010391        40.708702         -73.987846   \n",
        "16                  1.7        -73.973732        40.756287         -73.998413   \n",
        "17                  0.7        -73.968925        40.767704         -73.961990   \n",
        "18                  1.7        -73.962120        40.769737         -73.979561   \n",
        "19                  2.3        -73.989708        40.756714         -73.977615   \n",
        "20                 17.5        -73.783310        40.648766         -73.988914   \n",
        "21                  3.8        -73.956505        40.771278         -73.996368   \n",
        "22                  1.2        -73.955780        40.779320         -73.967285   \n",
        "23                  1.1        -73.978439        40.764679         -73.977684   \n",
        "24                  0.5        -73.992172        40.749954         -73.996750   \n",
        "25                  1.5        -73.992111        40.689701         -74.007156   \n",
        "26                  1.5        -73.978653        40.787735         -73.965790   \n",
        "27                  0.5        -73.965317        40.769375         -73.967133   \n",
        "28                 10.2        -73.862709        40.769142         -73.982079   \n",
        "29                  0.8        -73.977127        40.748310         -73.990913   \n",
        "...                 ...               ...              ...                ...   \n",
        "14776585            2.9        -73.982841        40.755905         -74.005470   \n",
        "14776586            0.5        -73.976494        40.751560         -73.982880   \n",
        "14776587            1.5        -73.995262        40.743820         -73.987274   \n",
        "14776588            2.1        -73.969620        40.763390         -73.979118   \n",
        "14776589            1.2        -73.965637        40.774376         -73.977936   \n",
        "14776590            8.7        -74.003082        40.739986         -73.937691   \n",
        "14776591            2.7        -73.992874        40.758064         -73.979675   \n",
        "14776592            0.7        -73.974838        40.761784         -73.985031   \n",
        "14776593           13.7        -73.982948        40.750858         -74.033707   \n",
        "14776594            4.3        -73.987808        40.732471         -73.943024   \n",
        "14776595            2.9        -73.996529        40.732380         -73.966507   \n",
        "14776596            1.1        -73.971596        40.750374         -73.972160   \n",
        "14776597            1.7        -73.988129        40.769798         -73.977654   \n",
        "14776598            6.0        -73.984634        40.718761         -73.981766   \n",
        "14776599            0.5        -73.972740        40.792896         -73.967850   \n",
        "14776600            2.2        -74.006546        40.739670         -73.982872   \n",
        "14776601            4.0        -74.014114        40.706306         -74.002693   \n",
        "14776602            2.2        -73.989914        40.736874         -74.009033   \n",
        "14776603            0.9        -73.961113        40.765106         -73.959839   \n",
        "14776604            0.5        -73.964081        40.770279         -73.958977   \n",
        "14776605           21.3        -73.776794        40.645775         -74.010933   \n",
        "14776606            1.4        -73.946114        40.801075         -73.966530   \n",
        "14776607            1.4        -73.975410        40.759106         -73.961830   \n",
        "14776608            4.0        -73.957344        40.785732         -73.994942   \n",
        "14776609            3.2        -73.998901        40.734509         -73.966820   \n",
        "14776610            3.3        -73.989029        40.759327         -73.953743   \n",
        "14776611            1.0        -73.993042        40.733990         -73.982483   \n",
        "14776612            0.9        -73.979553        40.785011         -73.968262   \n",
        "14776613            1.3        -73.968002        40.762161         -73.985992   \n",
        "14776614            0.8        -73.982224        40.766670         -73.989212   \n",
        "\n",
        "          dropoff_latitude  trip_dist_(0, 1]  trip_dist_(1, 2]  \\\n",
        "0                40.751171                 1                 0   \n",
        "1                40.750660                 0                 1   \n",
        "2                40.726002                 0                 1   \n",
        "3                40.759388                 1                 0   \n",
        "4                40.747868                 0                 0   \n",
        "5                40.743763                 0                 1   \n",
        "6                40.744343                 1                 0   \n",
        "7                40.770630                 0                 0   \n",
        "8                40.735336                 1                 0   \n",
        "9                40.806370                 0                 0   \n",
        "10               40.773815                 0                 1   \n",
        "11               40.759052                 1                 0   \n",
        "12               40.775921                 0                 0   \n",
        "13               40.755325                 0                 0   \n",
        "14               40.761612                 0                 0   \n",
        "15               40.756104                 0                 0   \n",
        "16               40.756832                 0                 1   \n",
        "17               40.776566                 1                 0   \n",
        "18               40.755390                 0                 1   \n",
        "19               40.787575                 0                 0   \n",
        "20               40.748207                 0                 0   \n",
        "21               40.732460                 0                 0   \n",
        "22               40.763344                 0                 1   \n",
        "23               40.777004                 0                 1   \n",
        "24               40.744553                 1                 0   \n",
        "25               40.679295                 0                 1   \n",
        "26               40.805321                 0                 1   \n",
        "27               40.763699                 1                 0   \n",
        "28               40.762295                 0                 0   \n",
        "29               40.751053                 1                 0   \n",
        "...                    ...               ...               ...   \n",
        "14776585         40.720100                 0                 0   \n",
        "14776586         40.755569                 1                 0   \n",
        "14776587         40.729321                 0                 1   \n",
        "14776588         40.784794                 0                 0   \n",
        "14776589         40.759560                 0                 1   \n",
        "14776590         40.838692                 0                 0   \n",
        "14776591         40.733341                 0                 0   \n",
        "14776592         40.758156                 1                 0   \n",
        "14776593         40.617203                 0                 0   \n",
        "14776594         40.705822                 0                 0   \n",
        "14776595         40.760593                 0                 0   \n",
        "14776596         40.763680                 0                 1   \n",
        "14776597         40.753460                 0                 1   \n",
        "14776598         40.675709                 0                 0   \n",
        "14776599         40.800568                 1                 0   \n",
        "14776600         40.756832                 0                 0   \n",
        "14776601         40.760006                 0                 0   \n",
        "14776602         40.716122                 0                 0   \n",
        "14776603         40.776237                 1                 0   \n",
        "14776604         40.777237                 1                 0   \n",
        "14776605         40.704960                 0                 0   \n",
        "14776606         40.805023                 0                 1   \n",
        "14776607         40.776527                 0                 1   \n",
        "14776608         40.742931                 0                 0   \n",
        "14776609         40.770138                 0                 0   \n",
        "14776610         40.770672                 0                 0   \n",
        "14776611         40.724823                 1                 0   \n",
        "14776612         40.788158                 1                 0   \n",
        "14776613         40.770542                 0                 1   \n",
        "14776614         40.773636                 1                 0   \n",
        "\n",
        "          trip_dist_(10, 40]  trip_dist_(2, 4]  trip_dist_(4, 10]  \n",
        "0                          0                 0                  0  \n",
        "1                          0                 0                  0  \n",
        "2                          0                 0                  0  \n",
        "3                          0                 0                  0  \n",
        "4                          0                 1                  0  \n",
        "5                          0                 0                  0  \n",
        "6                          0                 0                  0  \n",
        "7                          1                 0                  0  \n",
        "8                          0                 0                  0  \n",
        "9                          0                 1                  0  \n",
        "10                         0                 0                  0  \n",
        "11                         0                 0                  0  \n",
        "12                         0                 1                  0  \n",
        "13                         0                 1                  0  \n",
        "14                         0                 1                  0  \n",
        "15                         0                 0                  1  \n",
        "16                         0                 0                  0  \n",
        "17                         0                 0                  0  \n",
        "18                         0                 0                  0  \n",
        "19                         0                 1                  0  \n",
        "20                         1                 0                  0  \n",
        "21                         0                 1                  0  \n",
        "22                         0                 0                  0  \n",
        "23                         0                 0                  0  \n",
        "24                         0                 0                  0  \n",
        "25                         0                 0                  0  \n",
        "26                         0                 0                  0  \n",
        "27                         0                 0                  0  \n",
        "28                         1                 0                  0  \n",
        "29                         0                 0                  0  \n",
        "...                      ...               ...                ...  \n",
        "14776585                   0                 1                  0  \n",
        "14776586                   0                 0                  0  \n",
        "14776587                   0                 0                  0  \n",
        "14776588                   0                 1                  0  \n",
        "14776589                   0                 0                  0  \n",
        "14776590                   0                 0                  1  \n",
        "14776591                   0                 1                  0  \n",
        "14776592                   0                 0                  0  \n",
        "14776593                   1                 0                  0  \n",
        "14776594                   0                 0                  1  \n",
        "14776595                   0                 1                  0  \n",
        "14776596                   0                 0                  0  \n",
        "14776597                   0                 0                  0  \n",
        "14776598                   0                 0                  1  \n",
        "14776599                   0                 0                  0  \n",
        "14776600                   0                 1                  0  \n",
        "14776601                   0                 1                  0  \n",
        "14776602                   0                 1                  0  \n",
        "14776603                   0                 0                  0  \n",
        "14776604                   0                 0                  0  \n",
        "14776605                   1                 0                  0  \n",
        "14776606                   0                 0                  0  \n",
        "14776607                   0                 0                  0  \n",
        "14776608                   0                 1                  0  \n",
        "14776609                   0                 1                  0  \n",
        "14776610                   0                 1                  0  \n",
        "14776611                   0                 0                  0  \n",
        "14776612                   0                 0                  0  \n",
        "14776613                   0                 0                  0  \n",
        "14776614                   0                 0                  0  \n",
        "\n",
        "[14776615 rows x 19 columns]"
       ]
      }
     ],
     "prompt_number": 27
    },
    {
     "cell_type": "heading",
     "level": 2,
     "metadata": {},
     "source": [
      "Output Data"
     ]
    },
    {
     "cell_type": "markdown",
     "metadata": {},
     "source": [
      "This section demonstrates how to output to a file and upload it to Azure Blob Storage.\n",
      "\n",
      "First decide what you need to output\n",
      "\n",
      "1. Sample output (replace the data frame [named df1_with_bin_bool] below with df1_sample)\n",
      "2. Derived features (on sample) output (already in the dataframe below [df1_with_bin_bool])"
     ]
    },
    {
     "cell_type": "heading",
     "level": 3,
     "metadata": {},
     "source": [
      "Write to a File"
     ]
    },
    {
     "cell_type": "markdown",
     "metadata": {},
     "source": [
      "Here we show an example of the second case, where we write the featurized dataframe df1_with_bin_bool to the output file"
     ]
    },
    {
     "cell_type": "code",
     "collapsed": false,
     "input": [
      "CONTAINERNAME =<container name>\n",
      "STORAGEACCOUNTNAME = <storage account name>\n",
      "STORAGEACCOUNTKEY = <storage account key>\n",
      "BLOBNAME = <blob name>\n",
      "FEATURIZEDFILENAME = <featurized file name>"
     ],
     "language": "python",
     "metadata": {},
     "outputs": [],
     "prompt_number": 8
    },
    {
     "cell_type": "code",
     "collapsed": false,
     "input": [
      "#this file can be used with bcp or uploaded to blob\n",
      "df1_with_bin_bool.to_csv(os.path.join(os.getcwd(),FEATURIZEDFILENAME), sep='\\t', encoding='utf-8', index=False)"
     ],
     "language": "python",
     "metadata": {},
     "outputs": []
    },
    {
     "cell_type": "heading",
     "level": 3,
     "metadata": {},
     "source": [
      "Upload to Blob"
     ]
    },
    {
     "cell_type": "markdown",
     "metadata": {},
     "source": [
      "Now, we can upload the same output file in previous step to blob using the following code"
     ]
    },
    {
     "cell_type": "code",
     "collapsed": false,
     "input": [
      "#upload to blob\n",
      "output_blob_service=BlobService(account_name=STORAGEACCOUNTNAME,account_key=STORAGEACCOUNTKEY)\n",
      "\n",
      "localfileprocessed = os.path.join(os.getcwd(),FEATURIZEDFILENAME)\n",
      "\n",
      "try:\n",
      "    #upload to blob start timer\n",
      "    t1=time.time()\n",
      "\n",
      "    #perform upload\n",
      "    output_blob_service.put_block_blob_from_path(CONTAINERNAME,BLOBNAME,localfileprocessed)\n",
      "\n",
      "    #time end of upload\n",
      "    t2=time.time()\n",
      "    print((\"It takes %s seconds to upload \"+BLOBNAME) % (t2 - t1))\n",
      "except:\n",
      "    try:\n",
      "        print traceback.format_exc()\n",
      "    except:\n",
      "        print(\"The output file has been closed.\")\n",
      "    print (\"Something went wrong with file %s\" % BLOBNAME)"
     ],
     "language": "python",
     "metadata": {},
     "outputs": [
      {
       "output_type": "stream",
       "stream": "stdout",
       "text": [
        "It takes 334.062000036 seconds to upload trip_data_1.csv.zip\n"
       ]
      }
     ],
     "prompt_number": 10
    },
    {
     "cell_type": "markdown",
     "metadata": {},
     "source": [
      "You are now ready to use this data in Azure Machine Learning, either by uploading the file to your workspace as a dataset or directly reading it from the Blob using the Reader module in the studio."
     ]
    }
   ],
   "metadata": {}
  }
 ]
}