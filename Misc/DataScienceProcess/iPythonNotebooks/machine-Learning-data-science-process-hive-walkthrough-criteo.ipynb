{
 "metadata": {
  "name": "",
  "signature": "sha256:6ca18867271efdb7339f02810974c6b12f53a3da1e1c6cac0cd24050c360e195"
 },
 "nbformat": 3,
 "nbformat_minor": 0,
 "worksheets": [
  {
   "cells": [
    {
     "cell_type": "heading",
     "level": 1,
     "metadata": {},
     "source": [
      "License Information"
     ]
    },
    {
     "cell_type": "raw",
     "metadata": {},
     "source": [
      "This sample IPython Notebook is shared by Microsoft under the MIT license. Please check the LICENSE.txt file in the directory where this  IPython Notebook is stored for license information and additional details."
     ]
    },
    {
     "cell_type": "heading",
     "level": 1,
     "metadata": {},
     "source": [
      "Criteo walkthrough using a Hive ODBC connection"
     ]
    },
    {
     "cell_type": "markdown",
     "metadata": {},
     "source": [
      "The Criteo dataset is a click prediction dataset over 24 days (one gzip file per day) that is publicly available here : http://labs.criteo.com/downloads/download-terabyte-click-logs/ . In this walkthrough, we explore this data set by issuing Hive queries (for more information on Hive, see : https://cwiki.apache.org/confluence/display/Hive/LanguageManual) to a HDInsight cluster (for details on what HDInsight is and how to set up a cluster, please see : http://azure.microsoft.com/en-us/services/hdinsight/) and then down sampling the dataset for building machine learning models in Azure Machine Learning Studio (for details on what Azure Machine Learning is, please see : http://azure.microsoft.com/en-us/documentation/services/machine-learning/). In particular, we build count features on categorical variables using the powerful technique called \"learning with counts\", details on the technique here : http://blogs.technet.com/b/machinelearning/archive/2015/02/17/big-learning-made-easy-with-counts.aspx\n",
      "\n",
      "The following 4 steps allow us to set up our environment for the task of data exploration and data down sampling."
     ]
    },
    {
     "cell_type": "markdown",
     "metadata": {},
     "source": [
      "##Step 1: Azure SDK on the machine hosting the IPython Notebook Server\n",
      "In this walkthrough, we require the instllation of Azure SDK tools for Python. The links to installation packages are http://azure.microsoft.com/en-us/downloads/ (look at the links under Python). \n",
      "\n",
      "If the IPython Notebook server is hosted on an Azure virtual machine that is created by following the instructions in http://azure.microsoft.com/en-us/documentation/articles/machine-learning-data-science-setup-sql-server-virtual-machine/, this step can be skipped. "
     ]
    },
    {
     "cell_type": "markdown",
     "metadata": {},
     "source": [
      "##Step 2 : Set up an HDInsight Hadoop cluster for data science\n",
      "\n",
      "###Note : We will skip this step for the workshop, but show it here for completeness.\n",
      "\n",
      "To set up an HDInsight Hadoop cluster for data science, please see detailed instructions at : https://azure.microsoft.com/en-us/documentation/articles/machine-learning-data-science-process-hive-walkthrough/#setup ; in this setup step, we show how to set up a storage account associated with the HDInsight cluster (this is where all Hadoop logs, Hive tables, and query results reside ), how to provision the desired HDInsight Hadoop cluster ( number and type of data nodes, and enabling custom script actions), and how to set up an Azure Machine Learning workspace (this is mandatory for being able to use Azure Machine Learning for building ML models).\n",
      "\n"
     ]
    },
    {
     "cell_type": "markdown",
     "metadata": {},
     "source": [
      "##Step 3: Get the data set from source\n",
      "To get the Criteo data set from public source, see http://labs.criteo.com/downloads/download-terabyte-click-logs/ under the \"Direct access from Azure\" section for full details. In this section, it is noted that the entire Criteo dataset is present in a storage account \"azuremlsampleexperiments\" under the container \"criteo\". When we start exploring the data, we also demonstrate a way of viewing the contents of the blob storage by issuing Hive queries. \n",
      "\n",
      "Since this is a terabyte scale data set, it is recommended to issue Hive queries directly on the data already present in the \"azuremlsampleexperiments\" storage account under the container \"criteo\" instead of downloading to a local machine. "
     ]
    },
    {
     "cell_type": "markdown",
     "metadata": {},
     "source": [
      "###Step 4: A bit more about the Criteo dataset\n",
      "\n",
      "The dataset consists of a label column, 13 numeric columns, and 26 categorical columns (all hashed) [see \"Format\" section in http://labs.criteo.com/downloads/download-terabyte-click-logs/]. The label column consists of 0 (no click) or 1 (click). In addition to this, the unzipped data are split in the following sub-folders in the container \"criteo\" : raw/count for building counts (day_00 to day_20), raw/train for training data (day_21), and raw/test for test data (day_22 and day_23).\n",
      "\n",
      "We call class 0 the \"negative class\" and class 1 the \"positive class\" throughout. The data is heavily skewed (as expected) towards the negative class, having only 3.3% positive examples. "
     ]
    },
    {
     "cell_type": "heading",
     "level": 1,
     "metadata": {},
     "source": [
      "A note about the data explorations"
     ]
    },
    {
     "cell_type": "markdown",
     "metadata": {},
     "source": [
      "In interests of time, we will show data explorations on the training data set (as mentioned above, that is - a sample of day_21) only. We note that all of these explorations can be done on the entire data set to glean insights on the numeric and categorical variables prior to getting data ready for building models in Azure Machine Learning. "
     ]
    },
    {
     "cell_type": "heading",
     "level": 1,
     "metadata": {},
     "source": [
      "Import required Packages for Hive ODBC connection"
     ]
    },
    {
     "cell_type": "markdown",
     "metadata": {},
     "source": [
      "To issue Hive queries from an iPython notebook, we need to set up an ODBC connection to the HDInsight Hadoop cluster. This enables us to issue Hive queries on the data from the notebook. In particular, we will use Hive queries to explore some numeric and categorical features of the Criteo click prediction data set, and for down sampling the data for use within Azure Machine Learning."
     ]
    },
    {
     "cell_type": "code",
     "collapsed": false,
     "input": [
      "import pyodbc\n",
      "import time as time\n",
      "import json\n",
      "import os\n",
      "import urllib\n",
      "import urllib2\n",
      "import warnings\n",
      "import re\n",
      "import pandas as pd\n",
      "import matplotlib.pyplot as plt\n",
      "from azure.storage import BlobService\n",
      "warnings.filterwarnings(\"ignore\", category=UserWarning, module='urllib2')"
     ],
     "language": "python",
     "metadata": {},
     "outputs": [],
     "prompt_number": 1
    },
    {
     "cell_type": "heading",
     "level": 1,
     "metadata": {},
     "source": [
      "Create Hive ODBC connection to HDInsight Hadoop cluster"
     ]
    },
    {
     "cell_type": "code",
     "collapsed": false,
     "input": [
      "# Credentials \n",
      "\n",
      "# Please enter relevant credentials below\n",
      "\n",
      "# If the cluster name is \"C\", for SERVER_NAME, enter : C.azurehdinsight.net\n",
      "\n",
      "start_time = time.clock()\n",
      "\n",
      "SERVER_NAME='<YOUR_SERVER_NAME>'\n",
      "DATABASE_NAME='default'\n",
      "USERID='<YOUR_USERNAME>'\n",
      "PASSWORD='<YOUR_PASSWORD>'\n",
      "DB_DRIVER='Microsoft Hive ODBC Driver'\n",
      "\n",
      "driver = 'DRIVER={' + DB_DRIVER + '}'\n",
      "server = 'Host=' + SERVER_NAME + ';Port=443'\n",
      "database = 'Schema=' + DATABASE_NAME\n",
      "hiveserv = 'HiveServerType=2'\n",
      "auth = 'AuthMech=6'\n",
      "uid = 'UID=' + USERID \n",
      "pwd = 'PWD=' + PASSWORD\n",
      "\n",
      "CONNECTION_STRING = ';'.join([driver,server,database,hiveserv,auth,uid,pwd])\n",
      "connection = pyodbc.connect(CONNECTION_STRING, autocommit=True)\n",
      "cursor=connection.cursor()\n",
      "\n",
      "end_time = time.clock()\n",
      "\n",
      "print \"Elapsed time =  %f seconds\" % (end_time - start_time)"
     ],
     "language": "python",
     "metadata": {},
     "outputs": [
      {
       "output_type": "stream",
       "stream": "stdout",
       "text": [
        "Elapsed time =  29.042277 seconds\n"
       ]
      }
     ],
     "prompt_number": 2
    },
    {
     "cell_type": "markdown",
     "metadata": {},
     "source": [
      "To see if our ODBC connection works, we examine the contents of the \"default\" database. The standard Hive installation on an HDInsight cluster comes pre-installed with a table called \"hivesampletable\" in the database \"default\", so this is a good first check on whether our ODBC connector is set-up correctly."
     ]
    },
    {
     "cell_type": "heading",
     "level": 2,
     "metadata": {},
     "source": [
      "Examine contents of the \"default\" database"
     ]
    },
    {
     "cell_type": "code",
     "collapsed": false,
     "input": [
      "start_time = time.clock()\n",
      "\n",
      "queryString = \"show tables in default;\"\n",
      "\n",
      "df1 = pd.read_sql(queryString, connection)\n",
      "\n",
      "end_time = time.clock()\n",
      "print \"Elapsed time =  %f seconds\" % (end_time - start_time)\n",
      "df1"
     ],
     "language": "python",
     "metadata": {},
     "outputs": [
      {
       "output_type": "stream",
       "stream": "stdout",
       "text": [
        "Elapsed time =  9.991886 seconds\n"
       ]
      },
      {
       "html": [
        "<div style=\"max-height:1000px;max-width:1500px;overflow:auto;\">\n",
        "<table border=\"1\" class=\"dataframe\">\n",
        "  <thead>\n",
        "    <tr style=\"text-align: right;\">\n",
        "      <th></th>\n",
        "      <th>tab_name</th>\n",
        "    </tr>\n",
        "  </thead>\n",
        "  <tbody>\n",
        "    <tr>\n",
        "      <th>0</th>\n",
        "      <td> hivesampletable</td>\n",
        "    </tr>\n",
        "  </tbody>\n",
        "</table>\n",
        "</div>"
       ],
       "metadata": {},
       "output_type": "pyout",
       "prompt_number": 3,
       "text": [
        "          tab_name\n",
        "0  hivesampletable"
       ]
      }
     ],
     "prompt_number": 3
    },
    {
     "cell_type": "heading",
     "level": 1,
     "metadata": {},
     "source": [
      "Create a Criteo database and tables"
     ]
    },
    {
     "cell_type": "markdown",
     "metadata": {},
     "source": [
      "**Important Note**: To ensure that **every participant** gets a database to set-up and play with, we strongly suggest naming the database to be used as : criteo_USERNAME. For example, if the username is \"user1\", the created database name would be \"criteo_user1\".\n",
      "\n",
      "Moreover - in interests of time and because we would like to use the Criteo data samples to build a model in azure Machine Learning and actually call it as a web-service, we actually run queries on smaller tables in this iPython notebook. Weemphasize that such queries can, in principle, be run for much larger datasets."
     ]
    },
    {
     "cell_type": "heading",
     "level": 2,
     "metadata": {},
     "source": [
      "Create a Criteo database with a unique username"
     ]
    },
    {
     "cell_type": "code",
     "collapsed": false,
     "input": [
      "\n",
      "username = \"NEWUSER2\"\n",
      "\n",
      "dbname = \"criteo_%s\"%(username);\n",
      "\n",
      "#queryString = \"drop table criteo_mohabib.criteo_train_1perc;\"\n",
      "#queryString = \"drop database %s;\" %(dbname)\n",
      "\n",
      "queryString = \"create database if not exists %s;\"%(dbname)\n",
      "\n",
      "start_time = time.clock()\n",
      "\n",
      "cursor.execute(queryString)\n",
      "\n",
      "end_time = time.clock()\n",
      "\n",
      "print \"Elapsed time =  %f seconds\" % (end_time - start_time)"
     ],
     "language": "python",
     "metadata": {},
     "outputs": [
      {
       "output_type": "stream",
       "stream": "stdout",
       "text": [
        "Elapsed time =  21.273619 seconds\n"
       ]
      }
     ],
     "prompt_number": 4
    },
    {
     "cell_type": "heading",
     "level": 2,
     "metadata": {},
     "source": [
      "Check if the new Criteo database has been created"
     ]
    },
    {
     "cell_type": "code",
     "collapsed": false,
     "input": [
      "\n",
      "queryString = \"show databases;\"\n",
      "\n",
      "start_time = time.clock()\n",
      "\n",
      "df1 = pd.read_sql(queryString, connection)\n",
      "\n",
      "end_time = time.clock()\n",
      "\n",
      "print \"Elapsed time =  %f seconds\" % (end_time - start_time)\n",
      "df1"
     ],
     "language": "python",
     "metadata": {},
     "outputs": [
      {
       "output_type": "stream",
       "stream": "stdout",
       "text": [
        "Elapsed time =  5.267582 seconds\n"
       ]
      },
      {
       "html": [
        "<div style=\"max-height:1000px;max-width:1500px;overflow:auto;\">\n",
        "<table border=\"1\" class=\"dataframe\">\n",
        "  <thead>\n",
        "    <tr style=\"text-align: right;\">\n",
        "      <th></th>\n",
        "      <th>database_name</th>\n",
        "    </tr>\n",
        "  </thead>\n",
        "  <tbody>\n",
        "    <tr>\n",
        "      <th>0</th>\n",
        "      <td>  criteo_newuser</td>\n",
        "    </tr>\n",
        "    <tr>\n",
        "      <th>1</th>\n",
        "      <td> criteo_newuser2</td>\n",
        "    </tr>\n",
        "    <tr>\n",
        "      <th>2</th>\n",
        "      <td>         default</td>\n",
        "    </tr>\n",
        "  </tbody>\n",
        "</table>\n",
        "</div>"
       ],
       "metadata": {},
       "output_type": "pyout",
       "prompt_number": 5,
       "text": [
        "     database_name\n",
        "0   criteo_newuser\n",
        "1  criteo_newuser2\n",
        "2          default"
       ]
      }
     ],
     "prompt_number": 5
    },
    {
     "cell_type": "heading",
     "level": 2,
     "metadata": {},
     "source": [
      "Create Criteo training data table"
     ]
    },
    {
     "cell_type": "code",
     "collapsed": false,
     "input": [
      "### Create an internal table that hold training data\n",
      "\n",
      "\n",
      "queryString = \"\"\"\n",
      "                CREATE TABLE IF NOT EXISTS %s.criteo_train (\n",
      "                Col1 string, \n",
      "                Col2 double, Col3 double, Col4 double, Col5 double, Col6 double, Col7 double, \n",
      "                Col8 double, Col9 double, Col10 double,Col11 double, Col12 double, Col13 double, Col14 double, \n",
      "                Col15 string, Col16 string, Col17 string, Col18 string, Col19 string, Col20 string, Col21 string, \n",
      "                Col22 string, Col23 string, Col24 string, Col25 string, Col26 string, Col27 string, Col28 string,\n",
      "                Col29 string, Col30 string, Col31 string, Col32 string, Col33 string, Col34 string, Col35 string, \n",
      "                Col36 string, Col37 string, Col38 string, Col39 string, Col40 string\n",
      "                )\n",
      "                ROW FORMAT DELIMITED FIELDS TERMINATED BY '\\\\t' \n",
      "                LINES TERMINATED BY '\\\\n'\n",
      "                STORED AS TEXTFILE LOCATION 'wasb://criteo@azuremlsampleexperiments.blob.core.windows.net/raw/train';\n",
      "            \"\"\"%(dbname)\n",
      "start_time = time.clock()\n",
      "\n",
      "cursor.execute(queryString)\n",
      "\n",
      "end_time = time.clock()\n",
      "print \"Elapsed time =  %f seconds\" % (end_time - start_time)"
     ],
     "language": "python",
     "metadata": {},
     "outputs": [
      {
       "output_type": "stream",
       "stream": "stdout",
       "text": [
        "Elapsed time =  2.355214 seconds\n"
       ]
      }
     ],
     "prompt_number": 6
    },
    {
     "cell_type": "heading",
     "level": 2,
     "metadata": {},
     "source": [
      "Create Criteo test data table"
     ]
    },
    {
     "cell_type": "markdown",
     "metadata": {},
     "source": [
      "We create, for the purposes of this workshop, a single test tables based on day_22. "
     ]
    },
    {
     "cell_type": "code",
     "collapsed": false,
     "input": [
      "\n",
      "queryString = \"\"\"\n",
      "                CREATE TABLE IF NOT EXISTS %s.criteo_test_day_22 (\n",
      "                Col1 string, \n",
      "                Col2 double, Col3 double, Col4 double, Col5 double, Col6 double, Col7 double, \n",
      "                Col8 double, Col9 double, Col10 double,Col11 double, Col12 double, Col13 double, Col14 double, \n",
      "                Col15 string, Col16 string, Col17 string, Col18 string, Col19 string, Col20 string, Col21 string, \n",
      "                Col22 string, Col23 string, Col24 string, Col25 string, Col26 string, Col27 string, Col28 string,\n",
      "                Col29 string, Col30 string, Col31 string, Col32 string, Col33 string, Col34 string, Col35 string, \n",
      "                Col36 string, Col37 string, Col38 string, Col39 string, Col40 string\n",
      "                )\n",
      "                ROW FORMAT DELIMITED FIELDS TERMINATED BY '\\\\t' \n",
      "                LINES TERMINATED BY '\\\\n'\n",
      "                STORED AS TEXTFILE LOCATION 'wasb://criteo@azuremlsampleexperiments.blob.core.windows.net/raw/test/day_22';\n",
      "            \"\"\"%(dbname)\n",
      "start_time = time.clock()\n",
      "\n",
      "cursor.execute(queryString)\n",
      "\n",
      "end_time = time.clock()\n",
      "\n",
      "print \"Elapsed time =  %f seconds\" % (end_time - start_time)"
     ],
     "language": "python",
     "metadata": {},
     "outputs": [
      {
       "output_type": "stream",
       "stream": "stdout",
       "text": [
        "Elapsed time =  1.939379 seconds\n"
       ]
      }
     ],
     "prompt_number": 7
    },
    {
     "cell_type": "markdown",
     "metadata": {},
     "source": [
      "In the two cells above, we issue a Hive query for the training data table, and oneday of the test data. We will use down sampled versions of these two datasets for model building in Azure Machine Learning.\n",
      "\n",
      "**Note**: In this query, the actual line terminator is '\\n' and row field delimiter is '\\t'. But since '\\' is an escape character in Python, we use '\\\\n' to specify '\\n' and '\\t' to specify '\\t'.\n",
      "\n",
      "**Note**: While we used pd.read_sql to print out the contents of a Hive query to a pandas data frame, we show here the use of the connection cursor to just return a pyodbc.Cursor object at a given memory location. This is useful for queries such as database and table creation where no particular output needs to be returned."
     ]
    },
    {
     "cell_type": "heading",
     "level": 2,
     "metadata": {},
     "source": [
      "A primary goal in this workshop"
     ]
    },
    {
     "cell_type": "markdown",
     "metadata": {},
     "source": [
      "In this workshop, we want to showcase the ease of building and productionizing machine learning models, and work with powerful techniques like \"learning with counts\". to this end, our first exercise before anything else will be to down sample the train and test data to 1% of their original size. This way - even if the clusters are slow because of the number of people bombarding them (!), everyone will be able to build some models in Azure machine learning, and see the power of building conditional count tables!"
     ]
    },
    {
     "cell_type": "heading",
     "level": 2,
     "metadata": {},
     "source": [
      "Down sample the train and the two test data sets to 1% of the original size"
     ]
    },
    {
     "cell_type": "markdown",
     "metadata": {},
     "source": [
      "For purposes of building machine learning models in Azure Machine learning, we down sample our datasets."
     ]
    },
    {
     "cell_type": "heading",
     "level": 3,
     "metadata": {},
     "source": [
      "Create the random 1 percent sample tables"
     ]
    },
    {
     "cell_type": "code",
     "collapsed": false,
     "input": [
      "\n",
      "### Create an internal table that hold a random 1% sample of training data\n",
      "\n",
      "queryString = \"\"\"\n",
      "                CREATE TABLE IF NOT EXISTS %s.criteo_train_1perc (\n",
      "                Col1 string, \n",
      "                Col2 double, Col3 double, Col4 double, Col5 double, Col6 double, Col7 double, \n",
      "                Col8 double, Col9 double, Col10 double,Col11 double, Col12 double, Col13 double, Col14 double, \n",
      "                Col15 string, Col16 string, Col17 string, Col18 string, Col19 string, Col20 string, Col21 string, \n",
      "                Col22 string, Col23 string, Col24 string, Col25 string, Col26 string, Col27 string, Col28 string,\n",
      "                Col29 string, Col30 string, Col31 string, Col32 string, Col33 string, Col34 string, Col35 string, \n",
      "                Col36 string, Col37 string, Col38 string, Col39 string, Col40 string\n",
      "                )\n",
      "                ROW FORMAT DELIMITED FIELDS TERMINATED BY '\\\\t' \n",
      "                LINES TERMINATED BY '\\\\n'\n",
      "                STORED AS TEXTFILE;\n",
      "            \"\"\"%(dbname)\n",
      "\n",
      "start_time = time.clock()\n",
      "\n",
      "cursor.execute(queryString)\n",
      "\n",
      "end_time = time.clock()\n",
      "\n",
      "print \"Elapsed time =  %f seconds\" % (end_time - start_time)\n",
      "\n",
      "### Create an internal table that holds a random 1% sample of the test data - there are two test days day_22 and day_23 and we separate their tables out\n",
      "queryString = \"\"\"\n",
      "                CREATE TABLE IF NOT EXISTS %s.criteo_test_day_22_1perc (\n",
      "                Col1 string, \n",
      "                Col2 double, Col3 double, Col4 double, Col5 double, Col6 double, Col7 double, \n",
      "                Col8 double, Col9 double, Col10 double,Col11 double, Col12 double, Col13 double, Col14 double, \n",
      "                Col15 string, Col16 string, Col17 string, Col18 string, Col19 string, Col20 string, Col21 string, \n",
      "                Col22 string, Col23 string, Col24 string, Col25 string, Col26 string, Col27 string, Col28 string,\n",
      "                Col29 string, Col30 string, Col31 string, Col32 string, Col33 string, Col34 string, Col35 string, \n",
      "                Col36 string, Col37 string, Col38 string, Col39 string, Col40 string\n",
      "                )\n",
      "                ROW FORMAT DELIMITED FIELDS TERMINATED BY '\\\\t' \n",
      "                LINES TERMINATED BY '\\\\n'\n",
      "                STORED AS TEXTFILE;\n",
      "            \"\"\"%(dbname)\n",
      "\n",
      "start_time = time.clock()\n",
      "\n",
      "cursor.execute(queryString)\n",
      "\n",
      "end_time = time.clock()\n",
      "\n",
      "print \"Elapsed time =  %f seconds\" % (end_time - start_time)\n"
     ],
     "language": "python",
     "metadata": {},
     "outputs": [
      {
       "output_type": "stream",
       "stream": "stdout",
       "text": [
        "Elapsed time =  1.926943 seconds\n",
        "Elapsed time =  1.744321 seconds"
       ]
      },
      {
       "output_type": "stream",
       "stream": "stdout",
       "text": [
        "\n"
       ]
      }
     ],
     "prompt_number": 8
    },
    {
     "cell_type": "markdown",
     "metadata": {},
     "source": [
      "Now we use Hive's native RAND() function to get a random 1 percent sample of each table."
     ]
    },
    {
     "cell_type": "heading",
     "level": 3,
     "metadata": {},
     "source": [
      "Populate the 1 percent training and test data tables"
     ]
    },
    {
     "cell_type": "code",
     "collapsed": false,
     "input": [
      "# Down sample training data to a random 1 percent sample\n",
      "\n",
      "queryString = \"INSERT OVERWRITE TABLE %s.criteo_train_1perc SELECT * FROM %s.criteo_train WHERE RAND() <= 0.01;\"%(dbname, dbname)\n",
      "\n",
      "start_time = time.clock()\n",
      "\n",
      "cursor.execute(queryString)\n",
      "\n",
      "end_time = time.clock()\n",
      "\n",
      "print \"Elapsed time =  %f seconds\" % (end_time - start_time)"
     ],
     "language": "python",
     "metadata": {},
     "outputs": [
      {
       "output_type": "stream",
       "stream": "stdout",
       "text": [
        "Elapsed time =  1365.577841 seconds\n"
       ]
      }
     ],
     "prompt_number": 9
    },
    {
     "cell_type": "code",
     "collapsed": false,
     "input": [
      "# Down sample test data for day_22 to a random 1 percent sample\n",
      "\n",
      "queryString = \"INSERT OVERWRITE TABLE %s.criteo_test_day_22_1perc SELECT * FROM %s.criteo_test_day_22 WHERE RAND() <= 0.01;\"%(dbname, dbname)\n",
      "\n",
      "start_time = time.clock()\n",
      "\n",
      "cursor.execute(queryString)\n",
      "\n",
      "end_time = time.clock()\n",
      "\n",
      "print \"Elapsed time =  %f seconds\" % (end_time - start_time)"
     ],
     "language": "python",
     "metadata": {},
     "outputs": [
      {
       "output_type": "stream",
       "stream": "stdout",
       "text": [
        "Elapsed time =  167.524414 seconds\n"
       ]
      }
     ],
     "prompt_number": 33
    },
    {
     "cell_type": "heading",
     "level": 2,
     "metadata": {},
     "source": [
      "A segue into the count data table "
     ]
    },
    {
     "cell_type": "markdown",
     "metadata": {},
     "source": [
      "In addition to our train and test datasets, we also populate the count table data. As a brief segue, we mention that the intent of this data is for use in building conditional counts for the high-dimensional categorical variables. The more traditional methods of dealing with high-dimensional (also called \"high cardinality\") categorical variables is either one-hot encoding (here : http://en.wikipedia.org/wiki/One-hot) or feature hashing (here : http://en.wikipedia.org/wiki/Feature_hashing). In this workshop, we show a powerful, efficient, robust technique for dealing with high-dimensional categorical variables called \"Learning With Counts\". Also, since out count data consists of 21 days - it is a terabyte in size and will not be used in the exploratory analysis that follows. However, we will indicate how to use Azure Machine Learning to build count tables later.\n",
      "\n",
      "We also note that the creation of count tables is exactly the same as that for the training the test data tables, the only thing that changes is the blob storage location being pointed to.\n",
      "\n",
      "Furthermore, for the workshop, we have prepared conditional counts from the count data and stored it as an Azure Machine Learning dataset already."
     ]
    },
    {
     "cell_type": "heading",
     "level": 2,
     "metadata": {},
     "source": [
      "Show tables in the new database "
     ]
    },
    {
     "cell_type": "markdown",
     "metadata": {},
     "source": [
      "We can now check if the creation of the train and test tables was successful, and read a few lines of each table as a confirmation of this."
     ]
    },
    {
     "cell_type": "code",
     "collapsed": false,
     "input": [
      "queryString = \"show tables in %s;\"%(dbname)\n",
      "\n",
      "start_time = time.clock()\n",
      "\n",
      "df1 = pd.read_sql(queryString, connection)\n",
      "\n",
      "end_time = time.clock()\n",
      "\n",
      "print(\"Time taken to execute the query - %s - is %f seconds\"%(queryString, end_time - start_time))\n",
      "df1"
     ],
     "language": "python",
     "metadata": {},
     "outputs": [
      {
       "output_type": "stream",
       "stream": "stdout",
       "text": [
        "Time taken to execute the query - show tables in criteo_ginathan; - is 0.766930 seconds\n"
       ]
      },
      {
       "html": [
        "<div style=\"max-height:1000px;max-width:1500px;overflow:auto;\">\n",
        "<table border=\"1\" class=\"dataframe\">\n",
        "  <thead>\n",
        "    <tr style=\"text-align: right;\">\n",
        "      <th></th>\n",
        "      <th>tab_name</th>\n",
        "    </tr>\n",
        "  </thead>\n",
        "  <tbody>\n",
        "    <tr>\n",
        "      <th>0</th>\n",
        "      <td> criteo_test_day_22</td>\n",
        "    </tr>\n",
        "    <tr>\n",
        "      <th>1</th>\n",
        "      <td>       criteo_train</td>\n",
        "    </tr>\n",
        "  </tbody>\n",
        "</table>\n",
        "</div>"
       ],
       "metadata": {},
       "output_type": "pyout",
       "prompt_number": 8,
       "text": [
        "             tab_name\n",
        "0  criteo_test_day_22\n",
        "1        criteo_train"
       ]
      }
     ],
     "prompt_number": 8
    },
    {
     "cell_type": "heading",
     "level": 2,
     "metadata": {},
     "source": [
      "Check contents of the Criteo train table "
     ]
    },
    {
     "cell_type": "markdown",
     "metadata": {},
     "source": [
      "A quick sanity check of the train and the test tables by examining 5 lines follows."
     ]
    },
    {
     "cell_type": "code",
     "collapsed": false,
     "input": [
      "queryString = \"SELECT * FROM %s.criteo_train LIMIT 5;\"%(dbname)\n",
      "\n",
      "start_time = time.clock()\n",
      "\n",
      "df1 = pd.read_sql(queryString, connection)\n",
      "\n",
      "end_time = time.clock()\n",
      "\n",
      "print \"Elapsed time =  %f seconds\" % (end_time - start_time)\n",
      "df1"
     ],
     "language": "python",
     "metadata": {},
     "outputs": [
      {
       "output_type": "stream",
       "stream": "stdout",
       "text": [
        "Elapsed time =  3.320923 seconds\n"
       ]
      },
      {
       "html": [
        "<div style=\"max-height:1000px;max-width:1500px;overflow:auto;\">\n",
        "<table border=\"1\" class=\"dataframe\">\n",
        "  <thead>\n",
        "    <tr style=\"text-align: right;\">\n",
        "      <th></th>\n",
        "      <th>col1</th>\n",
        "      <th>col2</th>\n",
        "      <th>col3</th>\n",
        "      <th>col4</th>\n",
        "      <th>col5</th>\n",
        "      <th>col6</th>\n",
        "      <th>col7</th>\n",
        "      <th>col8</th>\n",
        "      <th>col9</th>\n",
        "      <th>col10</th>\n",
        "      <th>...</th>\n",
        "      <th>col31</th>\n",
        "      <th>col32</th>\n",
        "      <th>col33</th>\n",
        "      <th>col34</th>\n",
        "      <th>col35</th>\n",
        "      <th>col36</th>\n",
        "      <th>col37</th>\n",
        "      <th>col38</th>\n",
        "      <th>col39</th>\n",
        "      <th>col40</th>\n",
        "    </tr>\n",
        "  </thead>\n",
        "  <tbody>\n",
        "    <tr>\n",
        "      <th>0</th>\n",
        "      <td> 0</td>\n",
        "      <td>  5</td>\n",
        "      <td> 4085</td>\n",
        "      <td>NaN</td>\n",
        "      <td> NaN</td>\n",
        "      <td>NaN</td>\n",
        "      <td>NaN</td>\n",
        "      <td> 0</td>\n",
        "      <td>   6</td>\n",
        "      <td>  0</td>\n",
        "      <td>...</td>\n",
        "      <td>         </td>\n",
        "      <td> 628f1b8d</td>\n",
        "      <td> 108a0699</td>\n",
        "      <td> 47849e55</td>\n",
        "      <td> 73b3f46d</td>\n",
        "      <td> d994ba60</td>\n",
        "      <td>         </td>\n",
        "      <td> 8c573d44</td>\n",
        "      <td> ff654802</td>\n",
        "      <td> 2ba8d787</td>\n",
        "    </tr>\n",
        "    <tr>\n",
        "      <th>1</th>\n",
        "      <td> 0</td>\n",
        "      <td>  6</td>\n",
        "      <td>  NaN</td>\n",
        "      <td>  2</td>\n",
        "      <td>   8</td>\n",
        "      <td>NaN</td>\n",
        "      <td>  0</td>\n",
        "      <td> 0</td>\n",
        "      <td> 166</td>\n",
        "      <td>  4</td>\n",
        "      <td>...</td>\n",
        "      <td> d20856aa</td>\n",
        "      <td> a1eb1511</td>\n",
        "      <td> 9512c20b</td>\n",
        "      <td> 083f581c</td>\n",
        "      <td> 5731c43e</td>\n",
        "      <td> be98cd91</td>\n",
        "      <td> 6cb278e1</td>\n",
        "      <td> c6407bf8</td>\n",
        "      <td> 30436bfc</td>\n",
        "      <td> ed10571d</td>\n",
        "    </tr>\n",
        "    <tr>\n",
        "      <th>2</th>\n",
        "      <td> 0</td>\n",
        "      <td>NaN</td>\n",
        "      <td>  236</td>\n",
        "      <td>  1</td>\n",
        "      <td> 136</td>\n",
        "      <td>  9</td>\n",
        "      <td>  0</td>\n",
        "      <td> 0</td>\n",
        "      <td>   0</td>\n",
        "      <td> 12</td>\n",
        "      <td>...</td>\n",
        "      <td>         </td>\n",
        "      <td> a1eb1511</td>\n",
        "      <td> 9512c20b</td>\n",
        "      <td> 8024f45f</td>\n",
        "      <td> 0683bc6f</td>\n",
        "      <td> fa7eca6c</td>\n",
        "      <td>         </td>\n",
        "      <td> e26a18c3</td>\n",
        "      <td> ff654802</td>\n",
        "      <td> ed10571d</td>\n",
        "    </tr>\n",
        "    <tr>\n",
        "      <th>3</th>\n",
        "      <td> 0</td>\n",
        "      <td>  2</td>\n",
        "      <td>   26</td>\n",
        "      <td>NaN</td>\n",
        "      <td>  25</td>\n",
        "      <td>  1</td>\n",
        "      <td>NaN</td>\n",
        "      <td> 0</td>\n",
        "      <td>   3</td>\n",
        "      <td>  0</td>\n",
        "      <td>...</td>\n",
        "      <td>         </td>\n",
        "      <td> a1eb1511</td>\n",
        "      <td> 9512c20b</td>\n",
        "      <td> df992ef2</td>\n",
        "      <td> 6003c76f</td>\n",
        "      <td> d644a002</td>\n",
        "      <td>         </td>\n",
        "      <td> 2a0f0265</td>\n",
        "      <td> 321935cd</td>\n",
        "      <td> 6c730e3e</td>\n",
        "    </tr>\n",
        "    <tr>\n",
        "      <th>4</th>\n",
        "      <td> 0</td>\n",
        "      <td> 14</td>\n",
        "      <td>  115</td>\n",
        "      <td>  0</td>\n",
        "      <td>   4</td>\n",
        "      <td>NaN</td>\n",
        "      <td> 17</td>\n",
        "      <td> 0</td>\n",
        "      <td>   3</td>\n",
        "      <td>  0</td>\n",
        "      <td>...</td>\n",
        "      <td> 1f7fc70b</td>\n",
        "      <td> a1eb1511</td>\n",
        "      <td> 9512c20b</td>\n",
        "      <td>         </td>\n",
        "      <td>         </td>\n",
        "      <td>         </td>\n",
        "      <td> 4efb9f83</td>\n",
        "      <td> daa22f3d</td>\n",
        "      <td> 337b81aa</td>\n",
        "      <td> 2ccea557</td>\n",
        "    </tr>\n",
        "  </tbody>\n",
        "</table>\n",
        "<p>5 rows \u00d7 40 columns</p>\n",
        "</div>"
       ],
       "metadata": {},
       "output_type": "pyout",
       "prompt_number": 9,
       "text": [
        "  col1  col2  col3  col4  col5  col6  col7  col8  col9  col10  ...    \\\n",
        "0    0     5  4085   NaN   NaN   NaN   NaN     0     6      0  ...     \n",
        "1    0     6   NaN     2     8   NaN     0     0   166      4  ...     \n",
        "2    0   NaN   236     1   136     9     0     0     0     12  ...     \n",
        "3    0     2    26   NaN    25     1   NaN     0     3      0  ...     \n",
        "4    0    14   115     0     4   NaN    17     0     3      0  ...     \n",
        "\n",
        "      col31     col32     col33     col34     col35     col36     col37  \\\n",
        "0            628f1b8d  108a0699  47849e55  73b3f46d  d994ba60             \n",
        "1  d20856aa  a1eb1511  9512c20b  083f581c  5731c43e  be98cd91  6cb278e1   \n",
        "2            a1eb1511  9512c20b  8024f45f  0683bc6f  fa7eca6c             \n",
        "3            a1eb1511  9512c20b  df992ef2  6003c76f  d644a002             \n",
        "4  1f7fc70b  a1eb1511  9512c20b                                4efb9f83   \n",
        "\n",
        "      col38     col39     col40  \n",
        "0  8c573d44  ff654802  2ba8d787  \n",
        "1  c6407bf8  30436bfc  ed10571d  \n",
        "2  e26a18c3  ff654802  ed10571d  \n",
        "3  2a0f0265  321935cd  6c730e3e  \n",
        "4  daa22f3d  337b81aa  2ccea557  \n",
        "\n",
        "[5 rows x 40 columns]"
       ]
      }
     ],
     "prompt_number": 9
    },
    {
     "cell_type": "heading",
     "level": 2,
     "metadata": {},
     "source": [
      "Check contents of the test data table for day_22"
     ]
    },
    {
     "cell_type": "code",
     "collapsed": false,
     "input": [
      "queryString = \"SELECT * FROM %s.criteo_test_day_22 LIMIT 5;\"%(dbname)\n",
      "\n",
      "start_time = time.clock()\n",
      "\n",
      "df1 = pd.read_sql(queryString, connection)\n",
      "\n",
      "end_time = time.clock()\n",
      "\n",
      "print \"Elapsed time =  %f seconds\" % (end_time - start_time)\n",
      "df1"
     ],
     "language": "python",
     "metadata": {},
     "outputs": [
      {
       "output_type": "stream",
       "stream": "stdout",
       "text": [
        "Elapsed time =  3.589535 seconds\n"
       ]
      },
      {
       "html": [
        "<div style=\"max-height:1000px;max-width:1500px;overflow:auto;\">\n",
        "<table border=\"1\" class=\"dataframe\">\n",
        "  <thead>\n",
        "    <tr style=\"text-align: right;\">\n",
        "      <th></th>\n",
        "      <th>col1</th>\n",
        "      <th>col2</th>\n",
        "      <th>col3</th>\n",
        "      <th>col4</th>\n",
        "      <th>col5</th>\n",
        "      <th>col6</th>\n",
        "      <th>col7</th>\n",
        "      <th>col8</th>\n",
        "      <th>col9</th>\n",
        "      <th>col10</th>\n",
        "      <th>...</th>\n",
        "      <th>col31</th>\n",
        "      <th>col32</th>\n",
        "      <th>col33</th>\n",
        "      <th>col34</th>\n",
        "      <th>col35</th>\n",
        "      <th>col36</th>\n",
        "      <th>col37</th>\n",
        "      <th>col38</th>\n",
        "      <th>col39</th>\n",
        "      <th>col40</th>\n",
        "    </tr>\n",
        "  </thead>\n",
        "  <tbody>\n",
        "    <tr>\n",
        "      <th>0</th>\n",
        "      <td> 0</td>\n",
        "      <td> 15</td>\n",
        "      <td> NaN</td>\n",
        "      <td>  0</td>\n",
        "      <td>  0</td>\n",
        "      <td>NaN</td>\n",
        "      <td>  1</td>\n",
        "      <td>  0</td>\n",
        "      <td>    1</td>\n",
        "      <td>  2</td>\n",
        "      <td>...</td>\n",
        "      <td> 753da5f3</td>\n",
        "      <td> a1eb1511</td>\n",
        "      <td> 9512c20b</td>\n",
        "      <td> 84766def</td>\n",
        "      <td> ae55f74b</td>\n",
        "      <td> 6363b555</td>\n",
        "      <td> 0e0a083c</td>\n",
        "      <td> 8a1b8c9e</td>\n",
        "      <td> 57e36578</td>\n",
        "      <td> ed10571d</td>\n",
        "    </tr>\n",
        "    <tr>\n",
        "      <th>1</th>\n",
        "      <td> 0</td>\n",
        "      <td>  2</td>\n",
        "      <td> 187</td>\n",
        "      <td>  1</td>\n",
        "      <td>  2</td>\n",
        "      <td>NaN</td>\n",
        "      <td>  4</td>\n",
        "      <td>  0</td>\n",
        "      <td> 2477</td>\n",
        "      <td>  1</td>\n",
        "      <td>...</td>\n",
        "      <td> 753da5f3</td>\n",
        "      <td> b8170bba</td>\n",
        "      <td> 9512c20b</td>\n",
        "      <td> 0bc36449</td>\n",
        "      <td> 3188e5cc</td>\n",
        "      <td> c4c91266</td>\n",
        "      <td> 2ae1f0a9</td>\n",
        "      <td> db0e410b</td>\n",
        "      <td> 30436bfc</td>\n",
        "      <td> 2ccea557</td>\n",
        "    </tr>\n",
        "    <tr>\n",
        "      <th>2</th>\n",
        "      <td> 0</td>\n",
        "      <td> 32</td>\n",
        "      <td>   1</td>\n",
        "      <td> 11</td>\n",
        "      <td>  4</td>\n",
        "      <td>NaN</td>\n",
        "      <td> 17</td>\n",
        "      <td>  1</td>\n",
        "      <td>    1</td>\n",
        "      <td> 45</td>\n",
        "      <td>...</td>\n",
        "      <td> d20856aa</td>\n",
        "      <td> b8170bba</td>\n",
        "      <td> 55191c09</td>\n",
        "      <td> c09c8dc4</td>\n",
        "      <td> 0dab03ac</td>\n",
        "      <td> f9630b49</td>\n",
        "      <td> 45299dd3</td>\n",
        "      <td> 6741fa77</td>\n",
        "      <td> ff654802</td>\n",
        "      <td> ed10571d</td>\n",
        "    </tr>\n",
        "    <tr>\n",
        "      <th>3</th>\n",
        "      <td> 0</td>\n",
        "      <td>  3</td>\n",
        "      <td> 364</td>\n",
        "      <td>  3</td>\n",
        "      <td>  3</td>\n",
        "      <td>  9</td>\n",
        "      <td>  1</td>\n",
        "      <td>  0</td>\n",
        "      <td>   61</td>\n",
        "      <td>  4</td>\n",
        "      <td>...</td>\n",
        "      <td> d20856aa</td>\n",
        "      <td> b8170bba</td>\n",
        "      <td> 9512c20b</td>\n",
        "      <td> 4c8dfcf1</td>\n",
        "      <td> 8a8cfc98</td>\n",
        "      <td> a266ef24</td>\n",
        "      <td> f7f674c1</td>\n",
        "      <td> d43abaf7</td>\n",
        "      <td> 30436bfc</td>\n",
        "      <td> 2ccea557</td>\n",
        "    </tr>\n",
        "    <tr>\n",
        "      <th>4</th>\n",
        "      <td> 0</td>\n",
        "      <td>  6</td>\n",
        "      <td>  33</td>\n",
        "      <td>NaN</td>\n",
        "      <td>NaN</td>\n",
        "      <td>NaN</td>\n",
        "      <td>NaN</td>\n",
        "      <td>NaN</td>\n",
        "      <td>   10</td>\n",
        "      <td>  0</td>\n",
        "      <td>...</td>\n",
        "      <td> 1f7fc70b</td>\n",
        "      <td> b8170bba</td>\n",
        "      <td> 108a0699</td>\n",
        "      <td> 34b9b378</td>\n",
        "      <td> c4737d48</td>\n",
        "      <td> 67ae5063</td>\n",
        "      <td> af7b1ae6</td>\n",
        "      <td> a2f71d34</td>\n",
        "      <td> 337b81aa</td>\n",
        "      <td> 2ba8d787</td>\n",
        "    </tr>\n",
        "  </tbody>\n",
        "</table>\n",
        "<p>5 rows \u00d7 40 columns</p>\n",
        "</div>"
       ],
       "metadata": {},
       "output_type": "pyout",
       "prompt_number": 10,
       "text": [
        "  col1  col2  col3  col4  col5  col6  col7  col8  col9  col10  ...    \\\n",
        "0    0    15   NaN     0     0   NaN     1     0     1      2  ...     \n",
        "1    0     2   187     1     2   NaN     4     0  2477      1  ...     \n",
        "2    0    32     1    11     4   NaN    17     1     1     45  ...     \n",
        "3    0     3   364     3     3     9     1     0    61      4  ...     \n",
        "4    0     6    33   NaN   NaN   NaN   NaN   NaN    10      0  ...     \n",
        "\n",
        "      col31     col32     col33     col34     col35     col36     col37  \\\n",
        "0  753da5f3  a1eb1511  9512c20b  84766def  ae55f74b  6363b555  0e0a083c   \n",
        "1  753da5f3  b8170bba  9512c20b  0bc36449  3188e5cc  c4c91266  2ae1f0a9   \n",
        "2  d20856aa  b8170bba  55191c09  c09c8dc4  0dab03ac  f9630b49  45299dd3   \n",
        "3  d20856aa  b8170bba  9512c20b  4c8dfcf1  8a8cfc98  a266ef24  f7f674c1   \n",
        "4  1f7fc70b  b8170bba  108a0699  34b9b378  c4737d48  67ae5063  af7b1ae6   \n",
        "\n",
        "      col38     col39     col40  \n",
        "0  8a1b8c9e  57e36578  ed10571d  \n",
        "1  db0e410b  30436bfc  2ccea557  \n",
        "2  6741fa77  ff654802  ed10571d  \n",
        "3  d43abaf7  30436bfc  2ccea557  \n",
        "4  a2f71d34  337b81aa  2ba8d787  \n",
        "\n",
        "[5 rows x 40 columns]"
       ]
      }
     ],
     "prompt_number": 10
    },
    {
     "cell_type": "code",
     "collapsed": false,
     "input": [
      "# Extract a small sample of criteo_train data for exploration\n",
      "queryString = \"SELECT * FROM %s.criteo_train WHERE RAND() <= 0.0005;\" %(dbname)\n",
      "\n",
      "start_time = time.clock()\n",
      "\n",
      "df1 = pd.read_sql(queryString, connection)\n",
      "\n",
      "end_time = time.clock()\n",
      "\n",
      "print \"Elapsed time =  %f seconds\" % (end_time - start_time)\n",
      "df1.head(10)"
     ],
     "language": "python",
     "metadata": {},
     "outputs": [
      {
       "output_type": "stream",
       "stream": "stdout",
       "text": [
        "Elapsed time =  154.636028 seconds\n"
       ]
      },
      {
       "html": [
        "<div style=\"max-height:1000px;max-width:1500px;overflow:auto;\">\n",
        "<table border=\"1\" class=\"dataframe\">\n",
        "  <thead>\n",
        "    <tr style=\"text-align: right;\">\n",
        "      <th></th>\n",
        "      <th>col1</th>\n",
        "      <th>col2</th>\n",
        "      <th>col3</th>\n",
        "      <th>col4</th>\n",
        "      <th>col5</th>\n",
        "      <th>col6</th>\n",
        "      <th>col7</th>\n",
        "      <th>col8</th>\n",
        "      <th>col9</th>\n",
        "      <th>col10</th>\n",
        "      <th>...</th>\n",
        "      <th>col31</th>\n",
        "      <th>col32</th>\n",
        "      <th>col33</th>\n",
        "      <th>col34</th>\n",
        "      <th>col35</th>\n",
        "      <th>col36</th>\n",
        "      <th>col37</th>\n",
        "      <th>col38</th>\n",
        "      <th>col39</th>\n",
        "      <th>col40</th>\n",
        "    </tr>\n",
        "  </thead>\n",
        "  <tbody>\n",
        "    <tr>\n",
        "      <th>0</th>\n",
        "      <td> 0</td>\n",
        "      <td>  35</td>\n",
        "      <td>  956</td>\n",
        "      <td> 10</td>\n",
        "      <td>  NaN</td>\n",
        "      <td>  6</td>\n",
        "      <td>  0</td>\n",
        "      <td> 0</td>\n",
        "      <td>  23</td>\n",
        "      <td> 33</td>\n",
        "      <td>...</td>\n",
        "      <td>         </td>\n",
        "      <td> b8170bba</td>\n",
        "      <td> 9512c20b</td>\n",
        "      <td> 03b8e8f6</td>\n",
        "      <td> 9c23e2ca</td>\n",
        "      <td> 450f4a05</td>\n",
        "      <td>         </td>\n",
        "      <td> 2328199c</td>\n",
        "      <td> 0b3c06d0</td>\n",
        "      <td> 6c730e3e</td>\n",
        "    </tr>\n",
        "    <tr>\n",
        "      <th>1</th>\n",
        "      <td> 0</td>\n",
        "      <td> 126</td>\n",
        "      <td> 1614</td>\n",
        "      <td>NaN</td>\n",
        "      <td> 1695</td>\n",
        "      <td>  4</td>\n",
        "      <td>  0</td>\n",
        "      <td> 0</td>\n",
        "      <td>   0</td>\n",
        "      <td>  2</td>\n",
        "      <td>...</td>\n",
        "      <td> 753da5f3</td>\n",
        "      <td> b8170bba</td>\n",
        "      <td> 64083ab9</td>\n",
        "      <td> 1f2eaf0b</td>\n",
        "      <td> 22311992</td>\n",
        "      <td> 6d141246</td>\n",
        "      <td> 5666d5cf</td>\n",
        "      <td> 9c504208</td>\n",
        "      <td> ff654802</td>\n",
        "      <td> 2f33557c</td>\n",
        "    </tr>\n",
        "    <tr>\n",
        "      <th>2</th>\n",
        "      <td> 0</td>\n",
        "      <td>   3</td>\n",
        "      <td>  761</td>\n",
        "      <td>  6</td>\n",
        "      <td>  500</td>\n",
        "      <td>  6</td>\n",
        "      <td>  0</td>\n",
        "      <td> 0</td>\n",
        "      <td> 125</td>\n",
        "      <td> 10</td>\n",
        "      <td>...</td>\n",
        "      <td> d20856aa</td>\n",
        "      <td> b8170bba</td>\n",
        "      <td> 9512c20b</td>\n",
        "      <td> 5024ffb0</td>\n",
        "      <td> 36afd9d7</td>\n",
        "      <td> 42f86fac</td>\n",
        "      <td> 1cdc8091</td>\n",
        "      <td> f61076e6</td>\n",
        "      <td> 991321ea</td>\n",
        "      <td> b757e957</td>\n",
        "    </tr>\n",
        "    <tr>\n",
        "      <th>3</th>\n",
        "      <td> 0</td>\n",
        "      <td>   1</td>\n",
        "      <td> 1618</td>\n",
        "      <td>NaN</td>\n",
        "      <td>  273</td>\n",
        "      <td>  1</td>\n",
        "      <td>  1</td>\n",
        "      <td> 1</td>\n",
        "      <td>   1</td>\n",
        "      <td> 13</td>\n",
        "      <td>...</td>\n",
        "      <td>         </td>\n",
        "      <td> b7771e51</td>\n",
        "      <td> b49a729d</td>\n",
        "      <td> 47849e55</td>\n",
        "      <td> 73b3f46d</td>\n",
        "      <td> d994ba60</td>\n",
        "      <td>         </td>\n",
        "      <td> 59c61d47</td>\n",
        "      <td> ff654802</td>\n",
        "      <td> 962813c6</td>\n",
        "    </tr>\n",
        "    <tr>\n",
        "      <th>4</th>\n",
        "      <td> 0</td>\n",
        "      <td>  20</td>\n",
        "      <td>  250</td>\n",
        "      <td>  1</td>\n",
        "      <td>  NaN</td>\n",
        "      <td>  5</td>\n",
        "      <td>  0</td>\n",
        "      <td> 0</td>\n",
        "      <td>  92</td>\n",
        "      <td>  2</td>\n",
        "      <td>...</td>\n",
        "      <td> d20856aa</td>\n",
        "      <td> a1eb1511</td>\n",
        "      <td> cc7a7d35</td>\n",
        "      <td> 156cbe87</td>\n",
        "      <td> 96fbe197</td>\n",
        "      <td> 15562d5d</td>\n",
        "      <td> d3df7183</td>\n",
        "      <td> 16e6b497</td>\n",
        "      <td> 30436bfc</td>\n",
        "      <td> e1be5ef2</td>\n",
        "    </tr>\n",
        "    <tr>\n",
        "      <th>5</th>\n",
        "      <td> 0</td>\n",
        "      <td>   5</td>\n",
        "      <td>    1</td>\n",
        "      <td>  2</td>\n",
        "      <td>  NaN</td>\n",
        "      <td>NaN</td>\n",
        "      <td>  0</td>\n",
        "      <td> 0</td>\n",
        "      <td>  29</td>\n",
        "      <td>  0</td>\n",
        "      <td>...</td>\n",
        "      <td> d20856aa</td>\n",
        "      <td> a1eb1511</td>\n",
        "      <td> cc7a7d35</td>\n",
        "      <td> 156cbe87</td>\n",
        "      <td> 96fbe197</td>\n",
        "      <td> 15562d5d</td>\n",
        "      <td> d3df7183</td>\n",
        "      <td> ca6320c1</td>\n",
        "      <td> 30436bfc</td>\n",
        "      <td> e1be5ef2</td>\n",
        "    </tr>\n",
        "    <tr>\n",
        "      <th>6</th>\n",
        "      <td> 0</td>\n",
        "      <td>  50</td>\n",
        "      <td>   59</td>\n",
        "      <td> 30</td>\n",
        "      <td>   30</td>\n",
        "      <td>NaN</td>\n",
        "      <td>  5</td>\n",
        "      <td> 0</td>\n",
        "      <td>   1</td>\n",
        "      <td> 37</td>\n",
        "      <td>...</td>\n",
        "      <td> 753da5f3</td>\n",
        "      <td> b8170bba</td>\n",
        "      <td> 9512c20b</td>\n",
        "      <td> 0de731d8</td>\n",
        "      <td> a2d67fc3</td>\n",
        "      <td> 945520fb</td>\n",
        "      <td> 1cd67f1f</td>\n",
        "      <td> 624fed9d</td>\n",
        "      <td> 30436bfc</td>\n",
        "      <td> 2ccea557</td>\n",
        "    </tr>\n",
        "    <tr>\n",
        "      <th>7</th>\n",
        "      <td> 0</td>\n",
        "      <td>   5</td>\n",
        "      <td>  214</td>\n",
        "      <td>  7</td>\n",
        "      <td>   23</td>\n",
        "      <td>  9</td>\n",
        "      <td> 25</td>\n",
        "      <td> 0</td>\n",
        "      <td>   0</td>\n",
        "      <td> 26</td>\n",
        "      <td>...</td>\n",
        "      <td> 1f7fc70b</td>\n",
        "      <td> 628f1b8d</td>\n",
        "      <td> 9512c20b</td>\n",
        "      <td> f91015de</td>\n",
        "      <td> ef885351</td>\n",
        "      <td> fe8b14a6</td>\n",
        "      <td> 197259b3</td>\n",
        "      <td> 10d61e9a</td>\n",
        "      <td> ff654802</td>\n",
        "      <td> ed10571d</td>\n",
        "    </tr>\n",
        "    <tr>\n",
        "      <th>8</th>\n",
        "      <td> 0</td>\n",
        "      <td>  11</td>\n",
        "      <td>  224</td>\n",
        "      <td> 11</td>\n",
        "      <td>   12</td>\n",
        "      <td> 32</td>\n",
        "      <td>  1</td>\n",
        "      <td> 0</td>\n",
        "      <td> 235</td>\n",
        "      <td> 14</td>\n",
        "      <td>...</td>\n",
        "      <td>         </td>\n",
        "      <td> 628f1b8d</td>\n",
        "      <td> 09c8c22c</td>\n",
        "      <td> 166ac0a8</td>\n",
        "      <td> cc8607c6</td>\n",
        "      <td> d4f3e4eb</td>\n",
        "      <td>         </td>\n",
        "      <td> ccaa0565</td>\n",
        "      <td> ff654802</td>\n",
        "      <td> 2ccea557</td>\n",
        "    </tr>\n",
        "    <tr>\n",
        "      <th>9</th>\n",
        "      <td> 0</td>\n",
        "      <td>  25</td>\n",
        "      <td>    4</td>\n",
        "      <td> 11</td>\n",
        "      <td>  NaN</td>\n",
        "      <td>NaN</td>\n",
        "      <td>  0</td>\n",
        "      <td> 0</td>\n",
        "      <td>   3</td>\n",
        "      <td>  0</td>\n",
        "      <td>...</td>\n",
        "      <td> d20856aa</td>\n",
        "      <td> b8170bba</td>\n",
        "      <td> cc7a7d35</td>\n",
        "      <td> 156cbe87</td>\n",
        "      <td> 96fbe197</td>\n",
        "      <td> 15562d5d</td>\n",
        "      <td> d3df7183</td>\n",
        "      <td> 2fb4a3d0</td>\n",
        "      <td> 991321ea</td>\n",
        "      <td> e1be5ef2</td>\n",
        "    </tr>\n",
        "  </tbody>\n",
        "</table>\n",
        "<p>10 rows \u00d7 40 columns</p>\n",
        "</div>"
       ],
       "metadata": {},
       "output_type": "pyout",
       "prompt_number": 11,
       "text": [
        "  col1  col2  col3  col4  col5  col6  col7  col8  col9  col10  ...    \\\n",
        "0    0    35   956    10   NaN     6     0     0    23     33  ...     \n",
        "1    0   126  1614   NaN  1695     4     0     0     0      2  ...     \n",
        "2    0     3   761     6   500     6     0     0   125     10  ...     \n",
        "3    0     1  1618   NaN   273     1     1     1     1     13  ...     \n",
        "4    0    20   250     1   NaN     5     0     0    92      2  ...     \n",
        "5    0     5     1     2   NaN   NaN     0     0    29      0  ...     \n",
        "6    0    50    59    30    30   NaN     5     0     1     37  ...     \n",
        "7    0     5   214     7    23     9    25     0     0     26  ...     \n",
        "8    0    11   224    11    12    32     1     0   235     14  ...     \n",
        "9    0    25     4    11   NaN   NaN     0     0     3      0  ...     \n",
        "\n",
        "      col31     col32     col33     col34     col35     col36     col37  \\\n",
        "0            b8170bba  9512c20b  03b8e8f6  9c23e2ca  450f4a05             \n",
        "1  753da5f3  b8170bba  64083ab9  1f2eaf0b  22311992  6d141246  5666d5cf   \n",
        "2  d20856aa  b8170bba  9512c20b  5024ffb0  36afd9d7  42f86fac  1cdc8091   \n",
        "3            b7771e51  b49a729d  47849e55  73b3f46d  d994ba60             \n",
        "4  d20856aa  a1eb1511  cc7a7d35  156cbe87  96fbe197  15562d5d  d3df7183   \n",
        "5  d20856aa  a1eb1511  cc7a7d35  156cbe87  96fbe197  15562d5d  d3df7183   \n",
        "6  753da5f3  b8170bba  9512c20b  0de731d8  a2d67fc3  945520fb  1cd67f1f   \n",
        "7  1f7fc70b  628f1b8d  9512c20b  f91015de  ef885351  fe8b14a6  197259b3   \n",
        "8            628f1b8d  09c8c22c  166ac0a8  cc8607c6  d4f3e4eb             \n",
        "9  d20856aa  b8170bba  cc7a7d35  156cbe87  96fbe197  15562d5d  d3df7183   \n",
        "\n",
        "      col38     col39     col40  \n",
        "0  2328199c  0b3c06d0  6c730e3e  \n",
        "1  9c504208  ff654802  2f33557c  \n",
        "2  f61076e6  991321ea  b757e957  \n",
        "3  59c61d47  ff654802  962813c6  \n",
        "4  16e6b497  30436bfc  e1be5ef2  \n",
        "5  ca6320c1  30436bfc  e1be5ef2  \n",
        "6  624fed9d  30436bfc  2ccea557  \n",
        "7  10d61e9a  ff654802  ed10571d  \n",
        "8  ccaa0565  ff654802  2ccea557  \n",
        "9  2fb4a3d0  991321ea  e1be5ef2  \n",
        "\n",
        "[10 rows x 40 columns]"
       ]
      }
     ],
     "prompt_number": 11
    },
    {
     "cell_type": "code",
     "collapsed": false,
     "input": [
      "df1.shape"
     ],
     "language": "python",
     "metadata": {},
     "outputs": [
      {
       "metadata": {},
       "output_type": "pyout",
       "prompt_number": 12,
       "text": [
        "(96578, 40)"
       ]
      }
     ],
     "prompt_number": 12
    },
    {
     "cell_type": "code",
     "collapsed": false,
     "input": [
      "df1.describe()"
     ],
     "language": "python",
     "metadata": {},
     "outputs": [
      {
       "html": [
        "<div style=\"max-height:1000px;max-width:1500px;overflow:auto;\">\n",
        "<table border=\"1\" class=\"dataframe\">\n",
        "  <thead>\n",
        "    <tr style=\"text-align: right;\">\n",
        "      <th></th>\n",
        "      <th>col2</th>\n",
        "      <th>col3</th>\n",
        "      <th>col4</th>\n",
        "      <th>col5</th>\n",
        "      <th>col6</th>\n",
        "      <th>col7</th>\n",
        "      <th>col8</th>\n",
        "      <th>col9</th>\n",
        "      <th>col10</th>\n",
        "      <th>col11</th>\n",
        "      <th>col12</th>\n",
        "      <th>col13</th>\n",
        "      <th>col14</th>\n",
        "    </tr>\n",
        "  </thead>\n",
        "  <tbody>\n",
        "    <tr>\n",
        "      <th>count</th>\n",
        "      <td> 78479.000000</td>\n",
        "      <td> 86002.000000</td>\n",
        "      <td> 72231.000000</td>\n",
        "      <td> 63086.000000</td>\n",
        "      <td> 57549.000000</td>\n",
        "      <td> 87593.000000</td>\n",
        "      <td> 93657.000000</td>\n",
        "      <td> 96578.000000</td>\n",
        "      <td> 96578.000000</td>\n",
        "      <td> 87593.000000</td>\n",
        "      <td> 57549.000000</td>\n",
        "      <td>   94917.000000</td>\n",
        "      <td> 72231.000000</td>\n",
        "    </tr>\n",
        "    <tr>\n",
        "      <th>mean</th>\n",
        "      <td>    35.632793</td>\n",
        "      <td>   405.435734</td>\n",
        "      <td>     6.956044</td>\n",
        "      <td>   125.630710</td>\n",
        "      <td>    23.463900</td>\n",
        "      <td>     1.746841</td>\n",
        "      <td>     0.172897</td>\n",
        "      <td>   115.289528</td>\n",
        "      <td>     9.562364</td>\n",
        "      <td>     0.298814</td>\n",
        "      <td>     4.149507</td>\n",
        "      <td>   20470.271121</td>\n",
        "      <td>     8.562653</td>\n",
        "    </tr>\n",
        "    <tr>\n",
        "      <th>std</th>\n",
        "      <td>   554.434642</td>\n",
        "      <td>   653.778919</td>\n",
        "      <td>     9.272655</td>\n",
        "      <td>   577.587613</td>\n",
        "      <td>    83.875064</td>\n",
        "      <td>     7.049177</td>\n",
        "      <td>     1.825176</td>\n",
        "      <td>   394.542373</td>\n",
        "      <td>    27.324481</td>\n",
        "      <td>     0.570543</td>\n",
        "      <td>     7.147985</td>\n",
        "      <td>   74667.579151</td>\n",
        "      <td>    26.582889</td>\n",
        "    </tr>\n",
        "    <tr>\n",
        "      <th>min</th>\n",
        "      <td>     1.000000</td>\n",
        "      <td>     1.000000</td>\n",
        "      <td>     0.000000</td>\n",
        "      <td>     0.000000</td>\n",
        "      <td>     1.000000</td>\n",
        "      <td>     0.000000</td>\n",
        "      <td>     0.000000</td>\n",
        "      <td>    -1.000000</td>\n",
        "      <td>     0.000000</td>\n",
        "      <td>     0.000000</td>\n",
        "      <td>     1.000000</td>\n",
        "      <td>       0.000000</td>\n",
        "      <td>     0.000000</td>\n",
        "    </tr>\n",
        "    <tr>\n",
        "      <th>25%</th>\n",
        "      <td>     3.000000</td>\n",
        "      <td>    58.000000</td>\n",
        "      <td>     2.000000</td>\n",
        "      <td>     9.000000</td>\n",
        "      <td>     2.000000</td>\n",
        "      <td>     0.000000</td>\n",
        "      <td>     0.000000</td>\n",
        "      <td>     1.000000</td>\n",
        "      <td>     1.000000</td>\n",
        "      <td>     0.000000</td>\n",
        "      <td>     1.000000</td>\n",
        "      <td>     456.000000</td>\n",
        "      <td>     2.000000</td>\n",
        "    </tr>\n",
        "    <tr>\n",
        "      <th>50%</th>\n",
        "      <td>     8.000000</td>\n",
        "      <td>   187.000000</td>\n",
        "      <td>     4.000000</td>\n",
        "      <td>    31.000000</td>\n",
        "      <td>     6.000000</td>\n",
        "      <td>     0.000000</td>\n",
        "      <td>     0.000000</td>\n",
        "      <td>     5.000000</td>\n",
        "      <td>     4.000000</td>\n",
        "      <td>     0.000000</td>\n",
        "      <td>     2.000000</td>\n",
        "      <td>    2819.000000</td>\n",
        "      <td>     4.000000</td>\n",
        "    </tr>\n",
        "    <tr>\n",
        "      <th>75%</th>\n",
        "      <td>    23.000000</td>\n",
        "      <td>   486.000000</td>\n",
        "      <td>     9.000000</td>\n",
        "      <td>    91.000000</td>\n",
        "      <td>    17.000000</td>\n",
        "      <td>     1.000000</td>\n",
        "      <td>     0.000000</td>\n",
        "      <td>    51.000000</td>\n",
        "      <td>    14.000000</td>\n",
        "      <td>     1.000000</td>\n",
        "      <td>     4.000000</td>\n",
        "      <td>   11194.000000</td>\n",
        "      <td>    10.000000</td>\n",
        "    </tr>\n",
        "    <tr>\n",
        "      <th>max</th>\n",
        "      <td> 65535.000000</td>\n",
        "      <td>  7999.000000</td>\n",
        "      <td>   443.000000</td>\n",
        "      <td> 43303.000000</td>\n",
        "      <td>  3761.000000</td>\n",
        "      <td>   275.000000</td>\n",
        "      <td>   199.000000</td>\n",
        "      <td> 20448.000000</td>\n",
        "      <td>  5825.000000</td>\n",
        "      <td>     6.000000</td>\n",
        "      <td>   151.000000</td>\n",
        "      <td> 1703626.000000</td>\n",
        "      <td>  4581.000000</td>\n",
        "    </tr>\n",
        "  </tbody>\n",
        "</table>\n",
        "</div>"
       ],
       "metadata": {},
       "output_type": "pyout",
       "prompt_number": 13,
       "text": [
        "               col2          col3          col4          col5          col6  \\\n",
        "count  78479.000000  86002.000000  72231.000000  63086.000000  57549.000000   \n",
        "mean      35.632793    405.435734      6.956044    125.630710     23.463900   \n",
        "std      554.434642    653.778919      9.272655    577.587613     83.875064   \n",
        "min        1.000000      1.000000      0.000000      0.000000      1.000000   \n",
        "25%        3.000000     58.000000      2.000000      9.000000      2.000000   \n",
        "50%        8.000000    187.000000      4.000000     31.000000      6.000000   \n",
        "75%       23.000000    486.000000      9.000000     91.000000     17.000000   \n",
        "max    65535.000000   7999.000000    443.000000  43303.000000   3761.000000   \n",
        "\n",
        "               col7          col8          col9         col10         col11  \\\n",
        "count  87593.000000  93657.000000  96578.000000  96578.000000  87593.000000   \n",
        "mean       1.746841      0.172897    115.289528      9.562364      0.298814   \n",
        "std        7.049177      1.825176    394.542373     27.324481      0.570543   \n",
        "min        0.000000      0.000000     -1.000000      0.000000      0.000000   \n",
        "25%        0.000000      0.000000      1.000000      1.000000      0.000000   \n",
        "50%        0.000000      0.000000      5.000000      4.000000      0.000000   \n",
        "75%        1.000000      0.000000     51.000000     14.000000      1.000000   \n",
        "max      275.000000    199.000000  20448.000000   5825.000000      6.000000   \n",
        "\n",
        "              col12           col13         col14  \n",
        "count  57549.000000    94917.000000  72231.000000  \n",
        "mean       4.149507    20470.271121      8.562653  \n",
        "std        7.147985    74667.579151     26.582889  \n",
        "min        1.000000        0.000000      0.000000  \n",
        "25%        1.000000      456.000000      2.000000  \n",
        "50%        2.000000     2819.000000      4.000000  \n",
        "75%        4.000000    11194.000000     10.000000  \n",
        "max      151.000000  1703626.000000   4581.000000  "
       ]
      }
     ],
     "prompt_number": 13
    },
    {
     "cell_type": "code",
     "collapsed": false,
     "input": [
      "# look at some quantiles - say the 70th percentile here\n",
      "\n",
      "df1.quantile(.7)"
     ],
     "language": "python",
     "metadata": {},
     "outputs": [
      {
       "metadata": {},
       "output_type": "pyout",
       "prompt_number": 17,
       "text": [
        "col2       18.0\n",
        "col3      396.0\n",
        "col4        7.0\n",
        "col5       72.0\n",
        "col6       13.0\n",
        "col7        0.0\n",
        "col8        0.0\n",
        "col9       34.0\n",
        "col10      11.0\n",
        "col11       0.0\n",
        "col12       3.0\n",
        "col13    8576.4\n",
        "col14       8.0\n",
        "dtype: float64"
       ]
      }
     ],
     "prompt_number": 17
    },
    {
     "cell_type": "code",
     "collapsed": false,
     "input": [
      "%matplotlib inline"
     ],
     "language": "python",
     "metadata": {},
     "outputs": [],
     "prompt_number": 19
    },
    {
     "cell_type": "code",
     "collapsed": false,
     "input": [
      "# Check label distribution\n",
      "fig, ax = plt.subplots()\n",
      "df1['col1'].value_counts().plot(kind='bar')\n",
      "plt.xlabel('Label')\n",
      "plt.ylabel('Records count')"
     ],
     "language": "python",
     "metadata": {},
     "outputs": [
      {
       "metadata": {},
       "output_type": "pyout",
       "prompt_number": 20,
       "text": [
        "<matplotlib.text.Text at 0x143b5c50>"
       ]
      },
      {
       "metadata": {},
       "output_type": "display_data",
       "png": "[encoded data removed]",
       "text": [
        "<matplotlib.figure.Figure at 0x14c99f28>"
       ]
      }
     ],
     "prompt_number": 20
    },
    {
     "cell_type": "code",
     "collapsed": false,
     "input": [
      "# Bin and plot col2 - Method #1\n",
      "series = pd.Series(df1['col2'])\n",
      "fig, ax = plt.subplots()\n",
      "series.hist(ax=ax, bins=100, bottom=0.1)\n",
      "ax.set_yscale('log')\n",
      "plt.xlabel('Col2 - Bin value')\n",
      "plt.ylabel('Histogram count - Log scale')"
     ],
     "language": "python",
     "metadata": {},
     "outputs": [
      {
       "metadata": {},
       "output_type": "pyout",
       "prompt_number": 21,
       "text": [
        "<matplotlib.text.Text at 0x13f89f98>"
       ]
      },
      {
       "metadata": {},
       "output_type": "display_data",
       "png": "[encoded data removed]",
       "text": [
        "<matplotlib.figure.Figure at 0x143bf0b8>"
       ]
      }
     ],
     "prompt_number": 21
    },
    {
     "cell_type": "code",
     "collapsed": false,
     "input": [
      "# Bin and plot col2 - Method #2\n",
      "series = pd.Series(df1['col2'])\n",
      "bins   = pd.cut(series, [0, 1, 2, 4, 10, 25, 50, 75, 100, 500, 1000, 10000, 100000])\n",
      "fig, ax = plt.subplots()\n",
      "pd.Series(bins).value_counts().plot(kind='bar')\n",
      "plt.xlabel('Col2 - Bin value')\n",
      "plt.ylabel('Histogram count')"
     ],
     "language": "python",
     "metadata": {},
     "outputs": [
      {
       "metadata": {},
       "output_type": "pyout",
       "prompt_number": 23,
       "text": [
        "<matplotlib.text.Text at 0x17410748>"
       ]
      },
      {
       "metadata": {},
       "output_type": "display_data",
       "png": "[encoded data removed]",
       "text": [
        "<matplotlib.figure.Figure at 0x18636978>"
       ]
      }
     ],
     "prompt_number": 23
    },
    {
     "cell_type": "code",
     "collapsed": false,
     "input": [
      "# Bin and plot col3 - Method #2\n",
      "series = pd.Series(df1['col3'])\n",
      "bins   = pd.cut(series, [0, 1, 2, 4, 10, 25, 50, 75, 100, 500, 1000, 5000, 10000])\n",
      "fig, ax = plt.subplots()\n",
      "pd.Series(bins).value_counts().plot(kind='bar')\n",
      "plt.xlabel('Col13 - Bin value')\n",
      "plt.ylabel('Histogram count')"
     ],
     "language": "python",
     "metadata": {},
     "outputs": [
      {
       "metadata": {},
       "output_type": "pyout",
       "prompt_number": 24,
       "text": [
        "<matplotlib.text.Text at 0x14999278>"
       ]
      },
      {
       "metadata": {},
       "output_type": "display_data",
       "png": "[encoded data removed]",
       "text": [
        "<matplotlib.figure.Figure at 0x1b9df748>"
       ]
      }
     ],
     "prompt_number": 24
    },
    {
     "cell_type": "heading",
     "level": 2,
     "metadata": {},
     "source": [
      "Distributions on some numeric variables in the training dataset"
     ]
    },
    {
     "cell_type": "markdown",
     "metadata": {},
     "source": [
      "It is useful to plot distributions between the same variables in train and test data. If these distributions are similar and those variables are important, then it is likely that our predictive power on the test data is good. If, however, the distributions are quite different and these variables are important, we might expect that our predictive power on test data is poor -- this is because we are essentially learning on data that is different from what we are predicting (or scoring) on. To illustrate this point, we compare histograms on two numeric variables, Col2 and Col3, between train and test data."
     ]
    },
    {
     "cell_type": "heading",
     "level": 3,
     "metadata": {},
     "source": [
      "Histograms on train data"
     ]
    },
    {
     "cell_type": "markdown",
     "metadata": {},
     "source": [
      "To get some insight into how the numeric variables are distributed, we plot histograms on a few numeric variables and see what the distribution looks like. "
     ]
    },
    {
     "cell_type": "code",
     "collapsed": false,
     "input": [
      "# generate a histogram on Col2 train data\n",
      "\n",
      "queryString = \"SELECT EXPLODE(HISTOGRAM_NUMERIC(Col2,100)) FROM %s.criteo_train;\"%(dbname)\n",
      "\n",
      "start_time = time.clock()\n",
      "\n",
      "p_Col2_histo = pd.read_sql(queryString, connection)\n",
      "\n",
      "end_time = time.clock()\n",
      "\n",
      "print \"Elapsed time =  %f seconds\" % (end_time - start_time)\n",
      "p_Col2_histo"
     ],
     "language": "python",
     "metadata": {},
     "outputs": [
      {
       "output_type": "stream",
       "stream": "stdout",
       "text": [
        "Elapsed time =  122.040065 seconds\n"
       ]
      },
      {
       "html": [
        "<div style=\"max-height:1000px;max-width:1500px;overflow:auto;\">\n",
        "<table border=\"1\" class=\"dataframe\">\n",
        "  <thead>\n",
        "    <tr style=\"text-align: right;\">\n",
        "      <th></th>\n",
        "      <th>col</th>\n",
        "    </tr>\n",
        "  </thead>\n",
        "  <tbody>\n",
        "    <tr>\n",
        "      <th>0 </th>\n",
        "      <td> {\"x\":21.239669861137134,\"y\":1.54649833E8}</td>\n",
        "    </tr>\n",
        "    <tr>\n",
        "      <th>1 </th>\n",
        "      <td>     {\"x\":573.8744147129346,\"y\":1020653.0}</td>\n",
        "    </tr>\n",
        "    <tr>\n",
        "      <th>2 </th>\n",
        "      <td>     {\"x\":1330.1516450884906,\"y\":168380.0}</td>\n",
        "    </tr>\n",
        "    <tr>\n",
        "      <th>3 </th>\n",
        "      <td>      {\"x\":2019.1020254559687,\"y\":74403.0}</td>\n",
        "    </tr>\n",
        "    <tr>\n",
        "      <th>4 </th>\n",
        "      <td>       {\"x\":2688.789207900631,\"y\":24555.0}</td>\n",
        "    </tr>\n",
        "    <tr>\n",
        "      <th>5 </th>\n",
        "      <td>      {\"x\":3316.4484229772943,\"y\":13126.0}</td>\n",
        "    </tr>\n",
        "    <tr>\n",
        "      <th>6 </th>\n",
        "      <td>         {\"x\":3903.60028465076,\"y\":9134.0}</td>\n",
        "    </tr>\n",
        "    <tr>\n",
        "      <th>7 </th>\n",
        "      <td>        {\"x\":4502.562968005439,\"y\":7345.0}</td>\n",
        "    </tr>\n",
        "    <tr>\n",
        "      <th>8 </th>\n",
        "      <td>        {\"x\":5129.783206359728,\"y\":6038.0}</td>\n",
        "    </tr>\n",
        "    <tr>\n",
        "      <th>9 </th>\n",
        "      <td>        {\"x\":5766.867723805698,\"y\":4982.0}</td>\n",
        "    </tr>\n",
        "    <tr>\n",
        "      <th>10</th>\n",
        "      <td>         {\"x\":6363.82593103449,\"y\":3625.0}</td>\n",
        "    </tr>\n",
        "    <tr>\n",
        "      <th>11</th>\n",
        "      <td>        {\"x\":6931.672253922974,\"y\":2804.0}</td>\n",
        "    </tr>\n",
        "    <tr>\n",
        "      <th>12</th>\n",
        "      <td>        {\"x\":7514.734985300296,\"y\":2381.0}</td>\n",
        "    </tr>\n",
        "    <tr>\n",
        "      <th>13</th>\n",
        "      <td>        {\"x\":8117.445845004671,\"y\":2142.0}</td>\n",
        "    </tr>\n",
        "    <tr>\n",
        "      <th>14</th>\n",
        "      <td>         {\"x\":8741.45546461241,\"y\":2077.0}</td>\n",
        "    </tr>\n",
        "    <tr>\n",
        "      <th>15</th>\n",
        "      <td>         {\"x\":9380.45950506187,\"y\":1778.0}</td>\n",
        "    </tr>\n",
        "    <tr>\n",
        "      <th>16</th>\n",
        "      <td>        {\"x\":9969.648271276596,\"y\":1504.0}</td>\n",
        "    </tr>\n",
        "    <tr>\n",
        "      <th>17</th>\n",
        "      <td>        {\"x\":10513.03206239168,\"y\":1154.0}</td>\n",
        "    </tr>\n",
        "    <tr>\n",
        "      <th>18</th>\n",
        "      <td>       {\"x\":11217.443373493976,\"y\":1660.0}</td>\n",
        "    </tr>\n",
        "    <tr>\n",
        "      <th>19</th>\n",
        "      <td>        {\"x\":11948.029058116226,\"y\":998.0}</td>\n",
        "    </tr>\n",
        "    <tr>\n",
        "      <th>20</th>\n",
        "      <td>       {\"x\":12536.354497354472,\"y\":1134.0}</td>\n",
        "    </tr>\n",
        "    <tr>\n",
        "      <th>21</th>\n",
        "      <td>       {\"x\":13207.642681929667,\"y\":1223.0}</td>\n",
        "    </tr>\n",
        "    <tr>\n",
        "      <th>22</th>\n",
        "      <td>       {\"x\":13916.676712328768,\"y\":1095.0}</td>\n",
        "    </tr>\n",
        "    <tr>\n",
        "      <th>23</th>\n",
        "      <td>        {\"x\":14577.912803532005,\"y\":906.0}</td>\n",
        "    </tr>\n",
        "    <tr>\n",
        "      <th>24</th>\n",
        "      <td>        {\"x\":15280.034712950614,\"y\":749.0}</td>\n",
        "    </tr>\n",
        "    <tr>\n",
        "      <th>25</th>\n",
        "      <td>        {\"x\":15880.004878048772,\"y\":615.0}</td>\n",
        "    </tr>\n",
        "    <tr>\n",
        "      <th>26</th>\n",
        "      <td>        {\"x\":16509.929499072357,\"y\":539.0}</td>\n",
        "    </tr>\n",
        "    <tr>\n",
        "      <th>27</th>\n",
        "      <td>         {\"x\":17143.58262711864,\"y\":472.0}</td>\n",
        "    </tr>\n",
        "    <tr>\n",
        "      <th>28</th>\n",
        "      <td>        {\"x\":17680.374677002575,\"y\":387.0}</td>\n",
        "    </tr>\n",
        "    <tr>\n",
        "      <th>29</th>\n",
        "      <td>        {\"x\":18249.465437788025,\"y\":434.0}</td>\n",
        "    </tr>\n",
        "    <tr>\n",
        "      <th>...</th>\n",
        "      <td>...</td>\n",
        "    </tr>\n",
        "    <tr>\n",
        "      <th>70</th>\n",
        "      <td>         {\"x\":45953.10416666665,\"y\":144.0}</td>\n",
        "    </tr>\n",
        "    <tr>\n",
        "      <th>71</th>\n",
        "      <td>          {\"x\":46786.40425531915,\"y\":94.0}</td>\n",
        "    </tr>\n",
        "    <tr>\n",
        "      <th>72</th>\n",
        "      <td>         {\"x\":47478.416666666664,\"y\":60.0}</td>\n",
        "    </tr>\n",
        "    <tr>\n",
        "      <th>73</th>\n",
        "      <td>                  {\"x\":48269.875,\"y\":56.0}</td>\n",
        "    </tr>\n",
        "    <tr>\n",
        "      <th>74</th>\n",
        "      <td>          {\"x\":48811.50649350647,\"y\":77.0}</td>\n",
        "    </tr>\n",
        "    <tr>\n",
        "      <th>75</th>\n",
        "      <td>        {\"x\":49565.117647058825,\"y\":102.0}</td>\n",
        "    </tr>\n",
        "    <tr>\n",
        "      <th>76</th>\n",
        "      <td>         {\"x\":50379.599999999984,\"y\":85.0}</td>\n",
        "    </tr>\n",
        "    <tr>\n",
        "      <th>77</th>\n",
        "      <td>          {\"x\":51106.03076923075,\"y\":65.0}</td>\n",
        "    </tr>\n",
        "    <tr>\n",
        "      <th>78</th>\n",
        "      <td>         {\"x\":51644.044776119394,\"y\":67.0}</td>\n",
        "    </tr>\n",
        "    <tr>\n",
        "      <th>79</th>\n",
        "      <td>          {\"x\":52191.49999999999,\"y\":16.0}</td>\n",
        "    </tr>\n",
        "    <tr>\n",
        "      <th>80</th>\n",
        "      <td>          {\"x\":52654.99999999997,\"y\":63.0}</td>\n",
        "    </tr>\n",
        "    <tr>\n",
        "      <th>81</th>\n",
        "      <td>          {\"x\":53455.66666666668,\"y\":96.0}</td>\n",
        "    </tr>\n",
        "    <tr>\n",
        "      <th>82</th>\n",
        "      <td>                    {\"x\":53906.75,\"y\":4.0}</td>\n",
        "    </tr>\n",
        "    <tr>\n",
        "      <th>83</th>\n",
        "      <td>         {\"x\":54414.511111111126,\"y\":90.0}</td>\n",
        "    </tr>\n",
        "    <tr>\n",
        "      <th>84</th>\n",
        "      <td>          {\"x\":55295.08641975308,\"y\":81.0}</td>\n",
        "    </tr>\n",
        "    <tr>\n",
        "      <th>85</th>\n",
        "      <td>          {\"x\":56019.05102040818,\"y\":98.0}</td>\n",
        "    </tr>\n",
        "    <tr>\n",
        "      <th>86</th>\n",
        "      <td>         {\"x\":56566.13333333334,\"y\":135.0}</td>\n",
        "    </tr>\n",
        "    <tr>\n",
        "      <th>87</th>\n",
        "      <td>          {\"x\":57112.91566265062,\"y\":83.0}</td>\n",
        "    </tr>\n",
        "    <tr>\n",
        "      <th>88</th>\n",
        "      <td>         {\"x\":57700.09999999998,\"y\":110.0}</td>\n",
        "    </tr>\n",
        "    <tr>\n",
        "      <th>89</th>\n",
        "      <td>         {\"x\":58450.743589743586,\"y\":39.0}</td>\n",
        "    </tr>\n",
        "    <tr>\n",
        "      <th>90</th>\n",
        "      <td>          {\"x\":59137.16000000001,\"y\":25.0}</td>\n",
        "    </tr>\n",
        "    <tr>\n",
        "      <th>91</th>\n",
        "      <td>          {\"x\":59747.33333333333,\"y\":27.0}</td>\n",
        "    </tr>\n",
        "    <tr>\n",
        "      <th>92</th>\n",
        "      <td>          {\"x\":60337.05882352942,\"y\":34.0}</td>\n",
        "    </tr>\n",
        "    <tr>\n",
        "      <th>93</th>\n",
        "      <td>          {\"x\":61324.07692307692,\"y\":39.0}</td>\n",
        "    </tr>\n",
        "    <tr>\n",
        "      <th>94</th>\n",
        "      <td>         {\"x\":62198.321428571435,\"y\":28.0}</td>\n",
        "    </tr>\n",
        "    <tr>\n",
        "      <th>95</th>\n",
        "      <td>                     {\"x\":62752.0,\"y\":5.0}</td>\n",
        "    </tr>\n",
        "    <tr>\n",
        "      <th>96</th>\n",
        "      <td>          {\"x\":63281.25925925926,\"y\":27.0}</td>\n",
        "    </tr>\n",
        "    <tr>\n",
        "      <th>97</th>\n",
        "      <td>          {\"x\":64061.18181818182,\"y\":22.0}</td>\n",
        "    </tr>\n",
        "    <tr>\n",
        "      <th>98</th>\n",
        "      <td>          {\"x\":64994.50000000001,\"y\":36.0}</td>\n",
        "    </tr>\n",
        "    <tr>\n",
        "      <th>99</th>\n",
        "      <td>        {\"x\":65534.89596917603,\"y\":3374.0}</td>\n",
        "    </tr>\n",
        "  </tbody>\n",
        "</table>\n",
        "<p>100 rows \u00d7 1 columns</p>\n",
        "</div>"
       ],
       "metadata": {},
       "output_type": "pyout",
       "prompt_number": 25,
       "text": [
        "                                          col\n",
        "0   {\"x\":21.239669861137134,\"y\":1.54649833E8}\n",
        "1       {\"x\":573.8744147129346,\"y\":1020653.0}\n",
        "2       {\"x\":1330.1516450884906,\"y\":168380.0}\n",
        "3        {\"x\":2019.1020254559687,\"y\":74403.0}\n",
        "4         {\"x\":2688.789207900631,\"y\":24555.0}\n",
        "5        {\"x\":3316.4484229772943,\"y\":13126.0}\n",
        "6           {\"x\":3903.60028465076,\"y\":9134.0}\n",
        "7          {\"x\":4502.562968005439,\"y\":7345.0}\n",
        "8          {\"x\":5129.783206359728,\"y\":6038.0}\n",
        "9          {\"x\":5766.867723805698,\"y\":4982.0}\n",
        "10          {\"x\":6363.82593103449,\"y\":3625.0}\n",
        "11         {\"x\":6931.672253922974,\"y\":2804.0}\n",
        "12         {\"x\":7514.734985300296,\"y\":2381.0}\n",
        "13         {\"x\":8117.445845004671,\"y\":2142.0}\n",
        "14          {\"x\":8741.45546461241,\"y\":2077.0}\n",
        "15          {\"x\":9380.45950506187,\"y\":1778.0}\n",
        "16         {\"x\":9969.648271276596,\"y\":1504.0}\n",
        "17         {\"x\":10513.03206239168,\"y\":1154.0}\n",
        "18        {\"x\":11217.443373493976,\"y\":1660.0}\n",
        "19         {\"x\":11948.029058116226,\"y\":998.0}\n",
        "20        {\"x\":12536.354497354472,\"y\":1134.0}\n",
        "21        {\"x\":13207.642681929667,\"y\":1223.0}\n",
        "22        {\"x\":13916.676712328768,\"y\":1095.0}\n",
        "23         {\"x\":14577.912803532005,\"y\":906.0}\n",
        "24         {\"x\":15280.034712950614,\"y\":749.0}\n",
        "25         {\"x\":15880.004878048772,\"y\":615.0}\n",
        "26         {\"x\":16509.929499072357,\"y\":539.0}\n",
        "27          {\"x\":17143.58262711864,\"y\":472.0}\n",
        "28         {\"x\":17680.374677002575,\"y\":387.0}\n",
        "29         {\"x\":18249.465437788025,\"y\":434.0}\n",
        "..                                        ...\n",
        "70          {\"x\":45953.10416666665,\"y\":144.0}\n",
        "71           {\"x\":46786.40425531915,\"y\":94.0}\n",
        "72          {\"x\":47478.416666666664,\"y\":60.0}\n",
        "73                   {\"x\":48269.875,\"y\":56.0}\n",
        "74           {\"x\":48811.50649350647,\"y\":77.0}\n",
        "75         {\"x\":49565.117647058825,\"y\":102.0}\n",
        "76          {\"x\":50379.599999999984,\"y\":85.0}\n",
        "77           {\"x\":51106.03076923075,\"y\":65.0}\n",
        "78          {\"x\":51644.044776119394,\"y\":67.0}\n",
        "79           {\"x\":52191.49999999999,\"y\":16.0}\n",
        "80           {\"x\":52654.99999999997,\"y\":63.0}\n",
        "81           {\"x\":53455.66666666668,\"y\":96.0}\n",
        "82                     {\"x\":53906.75,\"y\":4.0}\n",
        "83          {\"x\":54414.511111111126,\"y\":90.0}\n",
        "84           {\"x\":55295.08641975308,\"y\":81.0}\n",
        "85           {\"x\":56019.05102040818,\"y\":98.0}\n",
        "86          {\"x\":56566.13333333334,\"y\":135.0}\n",
        "87           {\"x\":57112.91566265062,\"y\":83.0}\n",
        "88          {\"x\":57700.09999999998,\"y\":110.0}\n",
        "89          {\"x\":58450.743589743586,\"y\":39.0}\n",
        "90           {\"x\":59137.16000000001,\"y\":25.0}\n",
        "91           {\"x\":59747.33333333333,\"y\":27.0}\n",
        "92           {\"x\":60337.05882352942,\"y\":34.0}\n",
        "93           {\"x\":61324.07692307692,\"y\":39.0}\n",
        "94          {\"x\":62198.321428571435,\"y\":28.0}\n",
        "95                      {\"x\":62752.0,\"y\":5.0}\n",
        "96           {\"x\":63281.25925925926,\"y\":27.0}\n",
        "97           {\"x\":64061.18181818182,\"y\":22.0}\n",
        "98           {\"x\":64994.50000000001,\"y\":36.0}\n",
        "99         {\"x\":65534.89596917603,\"y\":3374.0}\n",
        "\n",
        "[100 rows x 1 columns]"
       ]
      }
     ],
     "prompt_number": 25
    },
    {
     "cell_type": "code",
     "collapsed": false,
     "input": [
      "# Parse the histogram strings to split X and Y values\n",
      "x_train = p_Col2_histo['col'].apply(lambda val: float(re.split('[:,}]', val)[1]))\n",
      "y_train = p_Col2_histo['col'].apply(lambda val: float(re.split('[:,}]', val)[3]))"
     ],
     "language": "python",
     "metadata": {},
     "outputs": [],
     "prompt_number": 26
    },
    {
     "cell_type": "code",
     "collapsed": false,
     "input": [
      "# Plot the histogram with log scale\n",
      "fig, ax = plt.subplots()\n",
      "plt.plot(x_train, y_train,'ro')\n",
      "ax.set_yscale('log')\n",
      "plt.xlabel('Col2 - Bin value')\n",
      "plt.ylabel('Histogram count - Log scale')"
     ],
     "language": "python",
     "metadata": {},
     "outputs": [
      {
       "metadata": {},
       "output_type": "pyout",
       "prompt_number": 27,
       "text": [
        "<matplotlib.text.Text at 0x143cd828>"
       ]
      },
      {
       "metadata": {},
       "output_type": "display_data",
       "png": "[encoded data removed]",
       "text": [
        "<matplotlib.figure.Figure at 0x1b61ee48>"
       ]
      }
     ],
     "prompt_number": 27
    },
    {
     "cell_type": "heading",
     "level": 3,
     "metadata": {},
     "source": [
      "Histogram on test data"
     ]
    },
    {
     "cell_type": "code",
     "collapsed": false,
     "input": [
      "# generate a histogram on Col2  test data\n",
      "\n",
      "queryString = \"SELECT EXPLODE(HISTOGRAM_NUMERIC(Col2,100)) FROM %s.criteo_test_day_22;\"%(dbname)\n",
      "\n",
      "start_time = time.clock()\n",
      "\n",
      "p_Col2_histo_test = pd.read_sql(queryString, connection)\n",
      "\n",
      "end_time = time.clock()\n",
      "\n",
      "print \"Elapsed time =  %f seconds\" % (end_time - start_time)\n",
      "p_Col2_histo_test"
     ],
     "language": "python",
     "metadata": {},
     "outputs": [
      {
       "output_type": "stream",
       "stream": "stdout",
       "text": [
        "Elapsed time =  78.200298 seconds\n"
       ]
      },
      {
       "html": [
        "<div style=\"max-height:1000px;max-width:1500px;overflow:auto;\">\n",
        "<table border=\"1\" class=\"dataframe\">\n",
        "  <thead>\n",
        "    <tr style=\"text-align: right;\">\n",
        "      <th></th>\n",
        "      <th>col</th>\n",
        "    </tr>\n",
        "  </thead>\n",
        "  <tbody>\n",
        "    <tr>\n",
        "      <th>0 </th>\n",
        "      <td> {\"x\":24.766517589344566,\"y\":1.54032147E8}</td>\n",
        "    </tr>\n",
        "    <tr>\n",
        "      <th>1 </th>\n",
        "      <td>       {\"x\":443.0710465881893,\"y\":62269.0}</td>\n",
        "    </tr>\n",
        "    <tr>\n",
        "      <th>2 </th>\n",
        "      <td>     {\"x\":1048.5060252095773,\"y\":281401.0}</td>\n",
        "    </tr>\n",
        "    <tr>\n",
        "      <th>3 </th>\n",
        "      <td>     {\"x\":1797.3620100666863,\"y\":110066.0}</td>\n",
        "    </tr>\n",
        "    <tr>\n",
        "      <th>4 </th>\n",
        "      <td>      {\"x\":2488.5416697451087,\"y\":27070.0}</td>\n",
        "    </tr>\n",
        "    <tr>\n",
        "      <th>5 </th>\n",
        "      <td>      {\"x\":3131.2649158249146,\"y\":14850.0}</td>\n",
        "    </tr>\n",
        "    <tr>\n",
        "      <th>6 </th>\n",
        "      <td>       {\"x\":3716.4961344191356,\"y\":9701.0}</td>\n",
        "    </tr>\n",
        "    <tr>\n",
        "      <th>7 </th>\n",
        "      <td>        {\"x\":4384.003472222225,\"y\":8928.0}</td>\n",
        "    </tr>\n",
        "    <tr>\n",
        "      <th>8 </th>\n",
        "      <td>        {\"x\":5087.768265807765,\"y\":5899.0}</td>\n",
        "    </tr>\n",
        "    <tr>\n",
        "      <th>9 </th>\n",
        "      <td>        {\"x\":5763.033606204217,\"y\":4642.0}</td>\n",
        "    </tr>\n",
        "    <tr>\n",
        "      <th>10</th>\n",
        "      <td>        {\"x\":6381.404115461564,\"y\":3499.0}</td>\n",
        "    </tr>\n",
        "    <tr>\n",
        "      <th>11</th>\n",
        "      <td>       {\"x\":6930.1515837104025,\"y\":2652.0}</td>\n",
        "    </tr>\n",
        "    <tr>\n",
        "      <th>12</th>\n",
        "      <td>        {\"x\":7464.944549763032,\"y\":2110.0}</td>\n",
        "    </tr>\n",
        "    <tr>\n",
        "      <th>13</th>\n",
        "      <td>        {\"x\":8017.544399821503,\"y\":2241.0}</td>\n",
        "    </tr>\n",
        "    <tr>\n",
        "      <th>14</th>\n",
        "      <td>        {\"x\":8644.257698541333,\"y\":1851.0}</td>\n",
        "    </tr>\n",
        "    <tr>\n",
        "      <th>15</th>\n",
        "      <td>        {\"x\":9239.065446868426,\"y\":1421.0}</td>\n",
        "    </tr>\n",
        "    <tr>\n",
        "      <th>16</th>\n",
        "      <td>        {\"x\":9778.459689922467,\"y\":1290.0}</td>\n",
        "    </tr>\n",
        "    <tr>\n",
        "      <th>17</th>\n",
        "      <td>       {\"x\":10350.867768595033,\"y\":1089.0}</td>\n",
        "    </tr>\n",
        "    <tr>\n",
        "      <th>18</th>\n",
        "      <td>         {\"x\":10940.39778449144,\"y\":993.0}</td>\n",
        "    </tr>\n",
        "    <tr>\n",
        "      <th>19</th>\n",
        "      <td>         {\"x\":11587.77239199155,\"y\":949.0}</td>\n",
        "    </tr>\n",
        "    <tr>\n",
        "      <th>20</th>\n",
        "      <td>        {\"x\":12162.492443324909,\"y\":794.0}</td>\n",
        "    </tr>\n",
        "    <tr>\n",
        "      <th>21</th>\n",
        "      <td>        {\"x\":12724.414244186057,\"y\":688.0}</td>\n",
        "    </tr>\n",
        "    <tr>\n",
        "      <th>22</th>\n",
        "      <td>        {\"x\":13274.183471074382,\"y\":605.0}</td>\n",
        "    </tr>\n",
        "    <tr>\n",
        "      <th>23</th>\n",
        "      <td>        {\"x\":13841.947811447802,\"y\":594.0}</td>\n",
        "    </tr>\n",
        "    <tr>\n",
        "      <th>24</th>\n",
        "      <td>        {\"x\":14401.938127090307,\"y\":598.0}</td>\n",
        "    </tr>\n",
        "    <tr>\n",
        "      <th>25</th>\n",
        "      <td>        {\"x\":14934.910256410265,\"y\":624.0}</td>\n",
        "    </tr>\n",
        "    <tr>\n",
        "      <th>26</th>\n",
        "      <td>        {\"x\":15545.793510324485,\"y\":678.0}</td>\n",
        "    </tr>\n",
        "    <tr>\n",
        "      <th>27</th>\n",
        "      <td>        {\"x\":16163.610148514854,\"y\":808.0}</td>\n",
        "    </tr>\n",
        "    <tr>\n",
        "      <th>28</th>\n",
        "      <td>         {\"x\":16870.52941176469,\"y\":782.0}</td>\n",
        "    </tr>\n",
        "    <tr>\n",
        "      <th>29</th>\n",
        "      <td>        {\"x\":17641.429663608556,\"y\":654.0}</td>\n",
        "    </tr>\n",
        "    <tr>\n",
        "      <th>...</th>\n",
        "      <td>...</td>\n",
        "    </tr>\n",
        "    <tr>\n",
        "      <th>70</th>\n",
        "      <td>          {\"x\":45044.56756756758,\"y\":74.0}</td>\n",
        "    </tr>\n",
        "    <tr>\n",
        "      <th>71</th>\n",
        "      <td>          {\"x\":45898.74489795917,\"y\":98.0}</td>\n",
        "    </tr>\n",
        "    <tr>\n",
        "      <th>72</th>\n",
        "      <td>         {\"x\":46436.00775193801,\"y\":129.0}</td>\n",
        "    </tr>\n",
        "    <tr>\n",
        "      <th>73</th>\n",
        "      <td>        {\"x\":46990.258620689696,\"y\":116.0}</td>\n",
        "    </tr>\n",
        "    <tr>\n",
        "      <th>74</th>\n",
        "      <td>         {\"x\":47753.479999999996,\"y\":75.0}</td>\n",
        "    </tr>\n",
        "    <tr>\n",
        "      <th>75</th>\n",
        "      <td>          {\"x\":48537.88607594938,\"y\":79.0}</td>\n",
        "    </tr>\n",
        "    <tr>\n",
        "      <th>76</th>\n",
        "      <td>         {\"x\":49211.048387096766,\"y\":62.0}</td>\n",
        "    </tr>\n",
        "    <tr>\n",
        "      <th>77</th>\n",
        "      <td>          {\"x\":49957.39999999999,\"y\":50.0}</td>\n",
        "    </tr>\n",
        "    <tr>\n",
        "      <th>78</th>\n",
        "      <td>          {\"x\":50868.69333333333,\"y\":75.0}</td>\n",
        "    </tr>\n",
        "    <tr>\n",
        "      <th>79</th>\n",
        "      <td>                     {\"x\":51407.0,\"y\":2.0}</td>\n",
        "    </tr>\n",
        "    <tr>\n",
        "      <th>80</th>\n",
        "      <td>         {\"x\":51856.492957746435,\"y\":71.0}</td>\n",
        "    </tr>\n",
        "    <tr>\n",
        "      <th>81</th>\n",
        "      <td>          {\"x\":52521.29411764706,\"y\":51.0}</td>\n",
        "    </tr>\n",
        "    <tr>\n",
        "      <th>82</th>\n",
        "      <td>           {\"x\":53171.9857142857,\"y\":70.0}</td>\n",
        "    </tr>\n",
        "    <tr>\n",
        "      <th>83</th>\n",
        "      <td>          {\"x\":53884.23076923076,\"y\":39.0}</td>\n",
        "    </tr>\n",
        "    <tr>\n",
        "      <th>84</th>\n",
        "      <td>          {\"x\":54490.09523809524,\"y\":42.0}</td>\n",
        "    </tr>\n",
        "    <tr>\n",
        "      <th>85</th>\n",
        "      <td>          {\"x\":55190.33333333331,\"y\":54.0}</td>\n",
        "    </tr>\n",
        "    <tr>\n",
        "      <th>86</th>\n",
        "      <td>          {\"x\":55865.75555555556,\"y\":45.0}</td>\n",
        "    </tr>\n",
        "    <tr>\n",
        "      <th>87</th>\n",
        "      <td>          {\"x\":56517.38541666671,\"y\":96.0}</td>\n",
        "    </tr>\n",
        "    <tr>\n",
        "      <th>88</th>\n",
        "      <td>          {\"x\":57292.77083333333,\"y\":48.0}</td>\n",
        "    </tr>\n",
        "    <tr>\n",
        "      <th>89</th>\n",
        "      <td>        {\"x\":57976.336134453784,\"y\":119.0}</td>\n",
        "    </tr>\n",
        "    <tr>\n",
        "      <th>90</th>\n",
        "      <td>         {\"x\":58595.77227722774,\"y\":202.0}</td>\n",
        "    </tr>\n",
        "    <tr>\n",
        "      <th>91</th>\n",
        "      <td>         {\"x\":59374.62962962966,\"y\":108.0}</td>\n",
        "    </tr>\n",
        "    <tr>\n",
        "      <th>92</th>\n",
        "      <td>          {\"x\":60219.83673469387,\"y\":49.0}</td>\n",
        "    </tr>\n",
        "    <tr>\n",
        "      <th>93</th>\n",
        "      <td>         {\"x\":60893.073170731725,\"y\":41.0}</td>\n",
        "    </tr>\n",
        "    <tr>\n",
        "      <th>94</th>\n",
        "      <td>                {\"x\":61551.28125,\"y\":32.0}</td>\n",
        "    </tr>\n",
        "    <tr>\n",
        "      <th>95</th>\n",
        "      <td>          {\"x\":62365.19999999999,\"y\":55.0}</td>\n",
        "    </tr>\n",
        "    <tr>\n",
        "      <th>96</th>\n",
        "      <td>         {\"x\":63179.200000000004,\"y\":70.0}</td>\n",
        "    </tr>\n",
        "    <tr>\n",
        "      <th>97</th>\n",
        "      <td>          {\"x\":63831.38461538461,\"y\":26.0}</td>\n",
        "    </tr>\n",
        "    <tr>\n",
        "      <th>98</th>\n",
        "      <td>         {\"x\":64591.625000000015,\"y\":48.0}</td>\n",
        "    </tr>\n",
        "    <tr>\n",
        "      <th>99</th>\n",
        "      <td>        {\"x\":65532.72582738479,\"y\":3082.0}</td>\n",
        "    </tr>\n",
        "  </tbody>\n",
        "</table>\n",
        "<p>100 rows \u00d7 1 columns</p>\n",
        "</div>"
       ],
       "metadata": {},
       "output_type": "pyout",
       "prompt_number": 28,
       "text": [
        "                                          col\n",
        "0   {\"x\":24.766517589344566,\"y\":1.54032147E8}\n",
        "1         {\"x\":443.0710465881893,\"y\":62269.0}\n",
        "2       {\"x\":1048.5060252095773,\"y\":281401.0}\n",
        "3       {\"x\":1797.3620100666863,\"y\":110066.0}\n",
        "4        {\"x\":2488.5416697451087,\"y\":27070.0}\n",
        "5        {\"x\":3131.2649158249146,\"y\":14850.0}\n",
        "6         {\"x\":3716.4961344191356,\"y\":9701.0}\n",
        "7          {\"x\":4384.003472222225,\"y\":8928.0}\n",
        "8          {\"x\":5087.768265807765,\"y\":5899.0}\n",
        "9          {\"x\":5763.033606204217,\"y\":4642.0}\n",
        "10         {\"x\":6381.404115461564,\"y\":3499.0}\n",
        "11        {\"x\":6930.1515837104025,\"y\":2652.0}\n",
        "12         {\"x\":7464.944549763032,\"y\":2110.0}\n",
        "13         {\"x\":8017.544399821503,\"y\":2241.0}\n",
        "14         {\"x\":8644.257698541333,\"y\":1851.0}\n",
        "15         {\"x\":9239.065446868426,\"y\":1421.0}\n",
        "16         {\"x\":9778.459689922467,\"y\":1290.0}\n",
        "17        {\"x\":10350.867768595033,\"y\":1089.0}\n",
        "18          {\"x\":10940.39778449144,\"y\":993.0}\n",
        "19          {\"x\":11587.77239199155,\"y\":949.0}\n",
        "20         {\"x\":12162.492443324909,\"y\":794.0}\n",
        "21         {\"x\":12724.414244186057,\"y\":688.0}\n",
        "22         {\"x\":13274.183471074382,\"y\":605.0}\n",
        "23         {\"x\":13841.947811447802,\"y\":594.0}\n",
        "24         {\"x\":14401.938127090307,\"y\":598.0}\n",
        "25         {\"x\":14934.910256410265,\"y\":624.0}\n",
        "26         {\"x\":15545.793510324485,\"y\":678.0}\n",
        "27         {\"x\":16163.610148514854,\"y\":808.0}\n",
        "28          {\"x\":16870.52941176469,\"y\":782.0}\n",
        "29         {\"x\":17641.429663608556,\"y\":654.0}\n",
        "..                                        ...\n",
        "70           {\"x\":45044.56756756758,\"y\":74.0}\n",
        "71           {\"x\":45898.74489795917,\"y\":98.0}\n",
        "72          {\"x\":46436.00775193801,\"y\":129.0}\n",
        "73         {\"x\":46990.258620689696,\"y\":116.0}\n",
        "74          {\"x\":47753.479999999996,\"y\":75.0}\n",
        "75           {\"x\":48537.88607594938,\"y\":79.0}\n",
        "76          {\"x\":49211.048387096766,\"y\":62.0}\n",
        "77           {\"x\":49957.39999999999,\"y\":50.0}\n",
        "78           {\"x\":50868.69333333333,\"y\":75.0}\n",
        "79                      {\"x\":51407.0,\"y\":2.0}\n",
        "80          {\"x\":51856.492957746435,\"y\":71.0}\n",
        "81           {\"x\":52521.29411764706,\"y\":51.0}\n",
        "82            {\"x\":53171.9857142857,\"y\":70.0}\n",
        "83           {\"x\":53884.23076923076,\"y\":39.0}\n",
        "84           {\"x\":54490.09523809524,\"y\":42.0}\n",
        "85           {\"x\":55190.33333333331,\"y\":54.0}\n",
        "86           {\"x\":55865.75555555556,\"y\":45.0}\n",
        "87           {\"x\":56517.38541666671,\"y\":96.0}\n",
        "88           {\"x\":57292.77083333333,\"y\":48.0}\n",
        "89         {\"x\":57976.336134453784,\"y\":119.0}\n",
        "90          {\"x\":58595.77227722774,\"y\":202.0}\n",
        "91          {\"x\":59374.62962962966,\"y\":108.0}\n",
        "92           {\"x\":60219.83673469387,\"y\":49.0}\n",
        "93          {\"x\":60893.073170731725,\"y\":41.0}\n",
        "94                 {\"x\":61551.28125,\"y\":32.0}\n",
        "95           {\"x\":62365.19999999999,\"y\":55.0}\n",
        "96          {\"x\":63179.200000000004,\"y\":70.0}\n",
        "97           {\"x\":63831.38461538461,\"y\":26.0}\n",
        "98          {\"x\":64591.625000000015,\"y\":48.0}\n",
        "99         {\"x\":65532.72582738479,\"y\":3082.0}\n",
        "\n",
        "[100 rows x 1 columns]"
       ]
      }
     ],
     "prompt_number": 28
    },
    {
     "cell_type": "code",
     "collapsed": false,
     "input": [
      "# Parse the histogram strings to split X and Y values\n",
      "x_test = p_Col2_histo_test['col'].apply(lambda val: float(re.split('[:,}]', val)[1]))\n",
      "y_test = p_Col2_histo_test['col'].apply(lambda val: float(re.split('[:,}]', val)[3]))"
     ],
     "language": "python",
     "metadata": {},
     "outputs": [],
     "prompt_number": 29
    },
    {
     "cell_type": "code",
     "collapsed": false,
     "input": [
      "# Plot the histogram with log scale\n",
      "fig, ax = plt.subplots()\n",
      "plt.plot(x_test, y_test,'ro')\n",
      "ax.set_yscale('log')\n",
      "plt.xlabel('Col2 - Bin value')\n",
      "plt.ylabel('Histogram count - Log scale')"
     ],
     "language": "python",
     "metadata": {},
     "outputs": [
      {
       "metadata": {},
       "output_type": "pyout",
       "prompt_number": 30,
       "text": [
        "<matplotlib.text.Text at 0x19192978>"
       ]
      },
      {
       "metadata": {},
       "output_type": "display_data",
       "png": "[encoded data removed]",
       "text": [
        "<matplotlib.figure.Figure at 0x1352ff98>"
       ]
      }
     ],
     "prompt_number": 30
    },
    {
     "cell_type": "markdown",
     "metadata": {},
     "source": [
      "We see that the values of Col2 are almost monotonically decreasing, except for the tail values - for both train and test data. The histograms of Col2 for both train and test data appear similar from this exercise. We can do such an exercise (and others such as approximate quantile computations using PERCENTILE_APPROX) for other numeric columns as well, to gain some insight into the dataset features. For the next set of explorations on categorical variables, we first down sample the datasets and then run some data exploration Hive queries."
     ]
    },
    {
     "cell_type": "markdown",
     "metadata": {},
     "source": [
      "## Details on the number of examples of the various datasets\n",
      "\n",
      "    The count dataset consisting of 21 days of data (day_00 to day_20) has 3,813,234,616 examples.\n",
      "    The train dataset consisting of day_21 has 192,215,183 examples. \n",
      "    The test dataset consisting of day_22 has 189,747,893 examples.\n",
      "    The test dataset consisting of day_23 has 178,274,637 examples.\n",
      "\n",
      "    \n"
     ]
    },
    {
     "cell_type": "heading",
     "level": 3,
     "metadata": {},
     "source": [
      "Data Explorations 0 : Count the number of training and test examples on the down sampled datasets"
     ]
    },
    {
     "cell_type": "code",
     "collapsed": false,
     "input": [
      "# Count number of training examples on the 1perc sample data now\n",
      "\n",
      "queryString = \"SELECT COUNT(*) FROM %s.criteo_train_1perc;\"%(dbname)\n",
      "\n",
      "start_time = time.clock()\n",
      "\n",
      "df1 = pd.read_sql(queryString, connection)\n",
      "\n",
      "end_time = time.clock()\n",
      "\n",
      "print \"Elapsed time =  %f seconds\" % (end_time - start_time)\n",
      "df1"
     ],
     "language": "python",
     "metadata": {},
     "outputs": [
      {
       "output_type": "stream",
       "stream": "stdout",
       "text": [
        "Elapsed time =  66.412748 seconds\n"
       ]
      },
      {
       "html": [
        "<div style=\"max-height:1000px;max-width:1500px;overflow:auto;\">\n",
        "<table border=\"1\" class=\"dataframe\">\n",
        "  <thead>\n",
        "    <tr style=\"text-align: right;\">\n",
        "      <th></th>\n",
        "      <th>EXPR_1</th>\n",
        "    </tr>\n",
        "  </thead>\n",
        "  <tbody>\n",
        "    <tr>\n",
        "      <th>0</th>\n",
        "      <td> 1921358</td>\n",
        "    </tr>\n",
        "  </tbody>\n",
        "</table>\n",
        "</div>"
       ],
       "metadata": {},
       "output_type": "pyout",
       "prompt_number": 34,
       "text": [
        "    EXPR_1\n",
        "0  1921358"
       ]
      }
     ],
     "prompt_number": 34
    },
    {
     "cell_type": "code",
     "collapsed": false,
     "input": [
      "# Count number of test examples on the 1perc sample data for day_22\n",
      "\n",
      "queryString = \"SELECT COUNT(*) FROM %s.criteo_test_day_22_1perc;\"%(dbname)\n",
      "\n",
      "start_time = time.clock()\n",
      "\n",
      "df1 = pd.read_sql(queryString, connection)\n",
      "\n",
      "end_time = time.clock()\n",
      "\n",
      "print \"Elapsed time =  %f seconds\" % (end_time - start_time)\n",
      "df1"
     ],
     "language": "python",
     "metadata": {},
     "outputs": [
      {
       "output_type": "stream",
       "stream": "stdout",
       "text": [
        "Elapsed time =  74.778724 seconds\n"
       ]
      },
      {
       "html": [
        "<div style=\"max-height:1000px;max-width:1500px;overflow:auto;\">\n",
        "<table border=\"1\" class=\"dataframe\">\n",
        "  <thead>\n",
        "    <tr style=\"text-align: right;\">\n",
        "      <th></th>\n",
        "      <th>EXPR_1</th>\n",
        "    </tr>\n",
        "  </thead>\n",
        "  <tbody>\n",
        "    <tr>\n",
        "      <th>0</th>\n",
        "      <td> 1894876</td>\n",
        "    </tr>\n",
        "  </tbody>\n",
        "</table>\n",
        "</div>"
       ],
       "metadata": {},
       "output_type": "pyout",
       "prompt_number": 35,
       "text": [
        "    EXPR_1\n",
        "0  1894876"
       ]
      }
     ],
     "prompt_number": 35
    },
    {
     "cell_type": "heading",
     "level": 2,
     "metadata": {},
     "source": [
      "Data Explorations 1 : Label distributions on the 1 percent sample training data"
     ]
    },
    {
     "cell_type": "markdown",
     "metadata": {},
     "source": [
      "It is instructive to see the label distributions (recall that 0 means no click and 1 means a click). We see this first on our training data sample."
     ]
    },
    {
     "cell_type": "code",
     "collapsed": false,
     "input": [
      "# label distributions on train data sample\n",
      "\n",
      "queryString = \"SELECT Col1, COUNT(*) AS CT FROM %s.criteo_train_1perc GROUP BY Col1;\"%(dbname)\n",
      "\n",
      "start_time = time.clock()\n",
      "\n",
      "df1 = pd.read_sql(queryString, connection)\n",
      "\n",
      "end_time = time.clock()\n",
      "\n",
      "print \"Elapsed time =  %f seconds\" % (end_time - start_time)\n",
      "df1"
     ],
     "language": "python",
     "metadata": {},
     "outputs": [
      {
       "output_type": "stream",
       "stream": "stdout",
       "text": [
        "Elapsed time =  78.229046 seconds\n"
       ]
      },
      {
       "html": [
        "<div style=\"max-height:1000px;max-width:1500px;overflow:auto;\">\n",
        "<table border=\"1\" class=\"dataframe\">\n",
        "  <thead>\n",
        "    <tr style=\"text-align: right;\">\n",
        "      <th></th>\n",
        "      <th>col1</th>\n",
        "      <th>CT</th>\n",
        "    </tr>\n",
        "  </thead>\n",
        "  <tbody>\n",
        "    <tr>\n",
        "      <th>0</th>\n",
        "      <td> 0</td>\n",
        "      <td> 1858312</td>\n",
        "    </tr>\n",
        "    <tr>\n",
        "      <th>1</th>\n",
        "      <td> 1</td>\n",
        "      <td>   63046</td>\n",
        "    </tr>\n",
        "  </tbody>\n",
        "</table>\n",
        "</div>"
       ],
       "metadata": {},
       "output_type": "pyout",
       "prompt_number": 36,
       "text": [
        "  col1       CT\n",
        "0    0  1858312\n",
        "1    1    63046"
       ]
      }
     ],
     "prompt_number": 36
    },
    {
     "cell_type": "heading",
     "level": 2,
     "metadata": {},
     "source": [
      "Data Explorations 2 : Label distributions on the 1 percent sample test data set(day_22)"
     ]
    },
    {
     "cell_type": "markdown",
     "metadata": {},
     "source": [
      "Now we also look at the label distributions in our two test dataset samples."
     ]
    },
    {
     "cell_type": "code",
     "collapsed": false,
     "input": [
      "# label distributions on test data sample(day_22)\n",
      "\n",
      "queryString = \"SELECT Col1, COUNT(*) AS CT FROM %s.criteo_test_day_22_1perc GROUP BY Col1;\"%(dbname)\n",
      "\n",
      "start_time = time.clock()\n",
      "\n",
      "df1 = pd.read_sql(queryString, connection)\n",
      "\n",
      "end_time = time.clock()\n",
      "\n",
      "print \"Elapsed time =  %f seconds\" % (end_time - start_time)\n",
      "df1"
     ],
     "language": "python",
     "metadata": {},
     "outputs": [
      {
       "output_type": "stream",
       "stream": "stdout",
       "text": [
        "Elapsed time =  61.036218 seconds\n"
       ]
      },
      {
       "html": [
        "<div style=\"max-height:1000px;max-width:1500px;overflow:auto;\">\n",
        "<table border=\"1\" class=\"dataframe\">\n",
        "  <thead>\n",
        "    <tr style=\"text-align: right;\">\n",
        "      <th></th>\n",
        "      <th>col1</th>\n",
        "      <th>CT</th>\n",
        "    </tr>\n",
        "  </thead>\n",
        "  <tbody>\n",
        "    <tr>\n",
        "      <th>0</th>\n",
        "      <td> 0</td>\n",
        "      <td> 1832386</td>\n",
        "    </tr>\n",
        "    <tr>\n",
        "      <th>1</th>\n",
        "      <td> 1</td>\n",
        "      <td>   62490</td>\n",
        "    </tr>\n",
        "  </tbody>\n",
        "</table>\n",
        "</div>"
       ],
       "metadata": {},
       "output_type": "pyout",
       "prompt_number": 37,
       "text": [
        "  col1       CT\n",
        "0    0  1832386\n",
        "1    1    62490"
       ]
      }
     ],
     "prompt_number": 37
    },
    {
     "cell_type": "markdown",
     "metadata": {},
     "source": [
      "The original datasets have 3.3% positive examples; we see that the train and test sample datasets have a similar distribution of positive and negative class examples."
     ]
    },
    {
     "cell_type": "heading",
     "level": 2,
     "metadata": {},
     "source": [
      "Data Explorations 3 : Dealing with high dimensional categorical variables"
     ]
    },
    {
     "cell_type": "markdown",
     "metadata": {},
     "source": [
      "By high-dimensional, we mean categorical variables that take many unique values. In such a case, using more traditional methods like one-hot encoding (http://en.wikipedia.org/wiki/One-hot) typically fails due to an explosion in the feature space. While feature hashing (http://en.wikipedia.org/wiki/Feature_hashing) can be (and has been) used successfully to model such variables, **building conditional counts on the high dimensional categorical variables tends to be more robust and scalable.** We will build models in Azure Machine learning using pre-built count tables where we also explain the technique in some detail."
     ]
    },
    {
     "cell_type": "code",
     "collapsed": false,
     "input": [
      "# find the number of unique values that Col15 takes in the training sample dataset\n",
      "\n",
      "queryString = \"SELECT COUNT(DISTINCT Col15) AS CT FROM %s.criteo_train_1perc;\"%(dbname)\n",
      "\n",
      "start_time = time.clock()\n",
      "\n",
      "df1 = pd.read_sql(queryString, connection)\n",
      "\n",
      "end_time = time.clock()\n",
      "\n",
      "print \"Elapsed time =  %f seconds\" % (end_time - start_time)\n",
      "df1"
     ],
     "language": "python",
     "metadata": {},
     "outputs": [
      {
       "output_type": "stream",
       "stream": "stdout",
       "text": [
        "Elapsed time =  105.709486 seconds\n"
       ]
      },
      {
       "html": [
        "<div style=\"max-height:1000px;max-width:1500px;overflow:auto;\">\n",
        "<table border=\"1\" class=\"dataframe\">\n",
        "  <thead>\n",
        "    <tr style=\"text-align: right;\">\n",
        "      <th></th>\n",
        "      <th>CT</th>\n",
        "    </tr>\n",
        "  </thead>\n",
        "  <tbody>\n",
        "    <tr>\n",
        "      <th>0</th>\n",
        "      <td> 432089</td>\n",
        "    </tr>\n",
        "  </tbody>\n",
        "</table>\n",
        "</div>"
       ],
       "metadata": {},
       "output_type": "pyout",
       "prompt_number": 38,
       "text": [
        "       CT\n",
        "0  432089"
       ]
      }
     ],
     "prompt_number": 38
    },
    {
     "cell_type": "code",
     "collapsed": false,
     "input": [
      "# find the number of unique values that some other categorical variables take in thetrain dataset\n",
      "\n",
      "queryString = \"\"\"\n",
      "                SELECT COUNT(DISTINCT Col16) AS CT1, COUNT(DISTINCT Col17) AS CT2, \n",
      "                COUNT(DISTINCT Col18) AS CT3, COUNT(DISTINCT Col19) AS CT4 \n",
      "                FROM %s.criteo_train_1perc;\n",
      "              \"\"\"%(dbname)\n",
      "\n",
      "start_time = time.clock()\n",
      "\n",
      "df1 = pd.read_sql(queryString, connection)\n",
      "\n",
      "end_time = time.clock()\n",
      "\n",
      "print \"Elapsed time =  %f seconds\" % (end_time - start_time)\n",
      "df1"
     ],
     "language": "python",
     "metadata": {},
     "outputs": [
      {
       "output_type": "stream",
       "stream": "stdout",
       "text": [
        "Elapsed time =  118.103256 seconds\n"
       ]
      },
      {
       "html": [
        "<div style=\"max-height:1000px;max-width:1500px;overflow:auto;\">\n",
        "<table border=\"1\" class=\"dataframe\">\n",
        "  <thead>\n",
        "    <tr style=\"text-align: right;\">\n",
        "      <th></th>\n",
        "      <th>CT1</th>\n",
        "      <th>CT2</th>\n",
        "      <th>CT3</th>\n",
        "      <th>CT4</th>\n",
        "    </tr>\n",
        "  </thead>\n",
        "  <tbody>\n",
        "    <tr>\n",
        "      <th>0</th>\n",
        "      <td> 18441</td>\n",
        "      <td> 13874</td>\n",
        "      <td> 6890</td>\n",
        "      <td> 18581</td>\n",
        "    </tr>\n",
        "  </tbody>\n",
        "</table>\n",
        "</div>"
       ],
       "metadata": {},
       "output_type": "pyout",
       "prompt_number": 39,
       "text": [
        "     CT1    CT2   CT3    CT4\n",
        "0  18441  13874  6890  18581"
       ]
      }
     ],
     "prompt_number": 39
    },
    {
     "cell_type": "markdown",
     "metadata": {},
     "source": [
      "We note that all of the categorical variables we examined have many unique values (or are high-dimensional). The learning with counts approach produces compact representations of such variables. We will discuss this in more detail when we build Azure Machine learning models."
     ]
    },
    {
     "cell_type": "heading",
     "level": 2,
     "metadata": {},
     "source": [
      "Data Explorations 4 : Grouped categorical counts on a few pairs of categorical variables"
     ]
    },
    {
     "cell_type": "markdown",
     "metadata": {},
     "source": [
      "A thing of interest with categorical variables is to see how many times a certain pair of values for (say) two categorical variables occurs. In the next cell, we show how to do this. For two categorical variables, Col15 and Col16, we reverse order their paired values by the number of times they occur and show the top 5 such pairs."
     ]
    },
    {
     "cell_type": "code",
     "collapsed": false,
     "input": [
      "# Grouped categorical counts on Col15 and Col16 for the train data set 1 percent sample\n",
      "\n",
      "queryString = \"SELECT Col15, Col16, COUNT(*) AS CT FROM %s.criteo_train_1perc GROUP BY Col15, Col16 ORDER BY CT DESC LIMIT 5;\"%(dbname)\n",
      "\n",
      "start_time = time.clock()\n",
      "\n",
      "df1 = pd.read_sql(queryString, connection)\n",
      "\n",
      "end_time = time.clock()\n",
      "\n",
      "print \"Elapsed time =  %f seconds\" % (end_time - start_time)\n",
      "df1"
     ],
     "language": "python",
     "metadata": {},
     "outputs": [
      {
       "output_type": "stream",
       "stream": "stdout",
       "text": [
        "Elapsed time =  134.751715 seconds\n"
       ]
      },
      {
       "html": [
        "<div style=\"max-height:1000px;max-width:1500px;overflow:auto;\">\n",
        "<table border=\"1\" class=\"dataframe\">\n",
        "  <thead>\n",
        "    <tr style=\"text-align: right;\">\n",
        "      <th></th>\n",
        "      <th>col15</th>\n",
        "      <th>col16</th>\n",
        "      <th>CT</th>\n",
        "    </tr>\n",
        "  </thead>\n",
        "  <tbody>\n",
        "    <tr>\n",
        "      <th>0</th>\n",
        "      <td> ad98e872</td>\n",
        "      <td> cea68cd3</td>\n",
        "      <td> 89766</td>\n",
        "    </tr>\n",
        "    <tr>\n",
        "      <th>1</th>\n",
        "      <td> ad98e872</td>\n",
        "      <td> 3dbb483e</td>\n",
        "      <td> 84239</td>\n",
        "    </tr>\n",
        "    <tr>\n",
        "      <th>2</th>\n",
        "      <td> ad98e872</td>\n",
        "      <td> 43ced263</td>\n",
        "      <td> 30458</td>\n",
        "    </tr>\n",
        "    <tr>\n",
        "      <th>3</th>\n",
        "      <td> ad98e872</td>\n",
        "      <td> 420acc05</td>\n",
        "      <td> 27071</td>\n",
        "    </tr>\n",
        "    <tr>\n",
        "      <th>4</th>\n",
        "      <td> ad98e872</td>\n",
        "      <td> ac4c5591</td>\n",
        "      <td> 25477</td>\n",
        "    </tr>\n",
        "  </tbody>\n",
        "</table>\n",
        "</div>"
       ],
       "metadata": {},
       "output_type": "pyout",
       "prompt_number": 40,
       "text": [
        "      col15     col16     CT\n",
        "0  ad98e872  cea68cd3  89766\n",
        "1  ad98e872  3dbb483e  84239\n",
        "2  ad98e872  43ced263  30458\n",
        "3  ad98e872  420acc05  27071\n",
        "4  ad98e872  ac4c5591  25477"
       ]
      }
     ],
     "prompt_number": 40
    },
    {
     "cell_type": "heading",
     "level": 2,
     "metadata": {},
     "source": [
      "Building machine learning models in Azure Machine Learning"
     ]
    },
    {
     "cell_type": "markdown",
     "metadata": {},
     "source": [
      "Having done some basic data explorations using Hive queries issued from an iPython notebook (label distributions, grouped categorical counts, looked at various quantiles of a given column or columns), we are now ready to use the sampled data in Azure Machine Learning to build ML models for the click prediction problem. We note that to do this, we simply issue a Hive query in the Reader Module in Azure Machine Learning to do a \"SELECT * FROM our_table_name\" (here \"our_table_name\" would be down sampled data) and then save the data as a Dataset in Azure Machine Learning."
     ]
    },
    {
     "cell_type": "code",
     "collapsed": false,
     "input": [],
     "language": "python",
     "metadata": {},
     "outputs": []
    }
   ],
   "metadata": {}
  }
 ]
}