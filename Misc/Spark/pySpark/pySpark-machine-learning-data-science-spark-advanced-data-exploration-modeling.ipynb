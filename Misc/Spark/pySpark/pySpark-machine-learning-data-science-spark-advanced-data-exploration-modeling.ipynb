{
 "cells": [
  {
   "cell_type": "markdown",
   "metadata": {},
   "source": [
    "# ML Models with Sampled NYC Taxi Trip and Fare Dataset "
   ]
  },
  {
   "cell_type": "markdown",
   "metadata": {},
   "source": [
    "##### Here we show some features and capabilities of Spark's MLlib toolkit for ML problems using the NYC taxi trip and fare data-set from 2013. We take a 0.1% sample of this data-set (about 170K rows) to to show MLlib's modeling features for binary classification and regression problems using this data-set. We have shown relevant plots in Python.\n",
    "\n",
    "OBJECTIVE: Show use of MLlib's functions for ML tasks on a small dataset (~35 Mb).\n",
    "\n",
    "ORGANIZATION: We have organized this walkthrough into 5 major sections: \n",
    "1. Data ingestion\n",
    "2. Data exploration and visualization\n",
    "3. Data preparation, including feature transformation\n",
    "4. Modeling: binary classification problem (tipped: 1/0), regression problem (tip amount $) \n",
    "6. Saving or persisting models in blob for future consumption\n",
    "\n",
    "Majority of the modeling examples are shown for the binary classification problem. We have added simpler examples for the regression task; with additional samples (e.g. CV with parameter sweeping) provided in the appendix section. "
   ]
  },
  {
   "cell_type": "markdown",
   "metadata": {},
   "source": [
    "### Introductory materials\n",
    "\n",
    "1. How to provision a HDI cluster running Spark: \n",
    "https://azure.microsoft.com/en-us/documentation/articles/hdinsight-apache-spark-zeppelin-notebook-jupyter-spark-sql/\n",
    "\n",
    "2. NYC 2013 Taxi data:\n",
    "http://www.andresmh.com/nyctaxitrips/\n",
    "https://azure.microsoft.com/en-us/documentation/articles/machine-learning-data-science-process-hive-walkthrough/"
   ]
  },
  {
   "cell_type": "markdown",
   "metadata": {},
   "source": [
    "### Settting Directory Paths in Mapped Blob Storage Prior to Running\n",
    "\n",
    "Where models/files are being saved in the blob, the path needs to be specified properly. Default container which is attached to the Spark cluster can be referenced as: \"wasb//\".\n",
    "\n",
    "Here we saved models to : \"wasb:///user/remoteuser/NYCTaxi/Models/\". If the path to folder is incorrect, or not existing, models will not be saved in the location you want."
   ]
  },
  {
   "cell_type": "markdown",
   "metadata": {},
   "source": [
    "### Set directory paths and location of files"
   ]
  },
  {
   "cell_type": "code",
   "execution_count": 1,
   "metadata": {
    "collapsed": false
   },
   "outputs": [
    {
     "name": "stdout",
     "output_type": "stream",
     "text": [
      "Creating SparkContext as 'sc'\n",
      "Creating HiveContext as 'sqlContext'\n"
     ]
    }
   ],
   "source": [
    "taxi_train_file_loc = \"wasb://mllibwalkthroughs@cdspsparksamples.blob.core.windows.net/Data/NYCTaxi/JoinedTaxiTripFare.Point1Pct.Train.tsv\";\n",
    "\n",
    "# 2. Set model storage directory path. This is where models will be saved.\n",
    "modelDir = \"wasb:///user/remoteuser/NYCTaxi/Models/\"; # The last backslash is needed;"
   ]
  },
  {
   "cell_type": "markdown",
   "metadata": {},
   "source": [
    "#### PRINT START TIME"
   ]
  },
  {
   "cell_type": "code",
   "execution_count": 2,
   "metadata": {
    "collapsed": false
   },
   "outputs": [
    {
     "name": "stdout",
     "output_type": "stream",
     "text": [
      "datetime.datetime(2016, 4, 25, 23, 32, 26, 790083)"
     ]
    }
   ],
   "source": [
    "import datetime\n",
    "datetime.datetime.now()"
   ]
  },
  {
   "cell_type": "markdown",
   "metadata": {},
   "source": [
    "## Set spark context and import necessary libraries"
   ]
  },
  {
   "cell_type": "code",
   "execution_count": 3,
   "metadata": {
    "collapsed": false
   },
   "outputs": [],
   "source": [
    "import pyspark\n",
    "from pyspark import SparkConf\n",
    "from pyspark import SparkContext\n",
    "from pyspark.sql import SQLContext\n",
    "import matplotlib\n",
    "import matplotlib.pyplot as plt\n",
    "from pyspark.sql import Row\n",
    "from pyspark.sql.functions import UserDefinedFunction\n",
    "from pyspark.sql.types import *\n",
    "import atexit\n",
    "from numpy import array\n",
    "import numpy as np\n",
    "import datetime"
   ]
  },
  {
   "cell_type": "markdown",
   "metadata": {},
   "source": [
    "## Data ingestion: Read in joined 0.1% taxi trip and fare file (as tsv), format and clean data, and create data-frame"
   ]
  },
  {
   "cell_type": "markdown",
   "metadata": {},
   "source": [
    "The taxi trip and fare files were joined based on the instructions provided in: \n",
    "\"https://azure.microsoft.com/en-us/documentation/articles/machine-learning-data-science-process-hive-walkthrough/\"\n",
    "\n",
    "A 0.1% sample of the joined data-set was taken to show the ML examples in this walkthrough."
   ]
  },
  {
   "cell_type": "code",
   "execution_count": 9,
   "metadata": {
    "collapsed": false
   },
   "outputs": [
    {
     "name": "stdout",
     "output_type": "stream",
     "text": [
      "Time taken to execute above cell: 9.02 seconds"
     ]
    }
   ],
   "source": [
    "timestart = datetime.datetime.now()\n",
    "\n",
    "## IMPORT FILE FROM PUBLIC BLOB\n",
    "taxi_train_file = sc.textFile(taxi_train_file_loc)\n",
    "\n",
    "## GET SCHEMA OF THE FILE FROM HEADER\n",
    "schema_string = taxi_train_file.first()\n",
    "fields = [StructField(field_name, StringType(), True) for field_name in schema_string.split('\\t')]\n",
    "fields[7].dataType = IntegerType() #Pickup hour\n",
    "fields[8].dataType = IntegerType() # Pickup week\n",
    "fields[9].dataType = IntegerType() # Weekday\n",
    "fields[10].dataType = IntegerType() # Passenger count\n",
    "fields[11].dataType = FloatType() # Trip time in secs\n",
    "fields[12].dataType = FloatType() # Trip distance\n",
    "fields[19].dataType = FloatType() # Fare amount\n",
    "fields[20].dataType = FloatType() # Surcharge\n",
    "fields[21].dataType = FloatType() # Mta_tax\n",
    "fields[22].dataType = FloatType() # Tip amount\n",
    "fields[23].dataType = FloatType() # Tolls amount\n",
    "fields[24].dataType = FloatType() # Total amount\n",
    "fields[25].dataType = IntegerType() # Tipped or not\n",
    "fields[26].dataType = IntegerType() # Tip class\n",
    "taxi_schema = StructType(fields)\n",
    "\n",
    "## PARSE FIELDS AND CONVERT DATA TYPE FOR SOME FIELDS\n",
    "taxi_header = taxi_train_file.filter(lambda l: \"medallion\" in l)\n",
    "taxi_temp = taxi_train_file.subtract(taxi_header).map(lambda k: k.split(\"\\t\"))\\\n",
    "        .map(lambda p: (p[0],p[1],p[2],p[3],p[4],p[5],p[6],int(p[7]),int(p[8]),int(p[9]),int(p[10]),\n",
    "                        float(p[11]),float(p[12]),p[13],p[14],p[15],p[16],p[17],p[18],float(p[19]),\n",
    "                        float(p[20]),float(p[21]),float(p[22]),float(p[23]),float(p[24]),int(p[25]),int(p[26])))\n",
    "\n",
    "    \n",
    "## CREATE DATA FRAME\n",
    "taxi_train_df = sqlContext.createDataFrame(taxi_temp, taxi_schema)\n",
    "\n",
    "## CREATE A CLEANED DATA-FRAME BY DROPPING SOME UN-NECESSARY COLUMNS & FILTERING FOR UNDESIRED VALUES OR OUTLIERS\n",
    "taxi_df_train_cleaned = taxi_train_df.drop('medallion').drop('hack_license').drop('store_and_fwd_flag').drop('pickup_datetime')\\\n",
    "    .drop('dropoff_datetime').drop('pickup_longitude').drop('pickup_latitude').drop('dropoff_latitude')\\\n",
    "    .drop('dropoff_longitude').drop('tip_class').drop('total_amount').drop('tolls_amount').drop('mta_tax')\\\n",
    "    .drop('direct_distance').drop('surcharge')\\\n",
    "    .filter(\"passenger_count > 0 and passenger_count < 8 AND payment_type in ('CSH', 'CRD') AND tip_amount >= 0 AND tip_amount < 30 AND fare_amount >= 1 AND fare_amount < 150 AND trip_distance > 0 AND trip_distance < 100 AND trip_time_in_secs > 30 AND trip_time_in_secs < 7200\" )\n",
    "\n",
    "## CACHE DATA-FRAME IN MEMORY & MATERIALIZE DF IN MEMORY\n",
    "taxi_df_train_cleaned.cache()\n",
    "taxi_df_train_cleaned.count()\n",
    "\n",
    "## REGISTER DATA-FRAME AS A TEMP-TABLE IN SQL-CONTEXT\n",
    "taxi_df_train_cleaned.registerTempTable(\"taxi_train\")\n",
    "\n",
    "## PRINT HOW MUCH TIME IT TOOK TO RUN THE CELL\n",
    "timeend = datetime.datetime.now()\n",
    "timedelta = round((timeend-timestart).total_seconds(), 2) \n",
    "print \"Time taken to execute above cell: \" + str(timedelta) + \" seconds\"; "
   ]
  },
  {
   "cell_type": "markdown",
   "metadata": {},
   "source": [
    "## Data exploration & visualization: Plotting of target variables and features"
   ]
  },
  {
   "cell_type": "markdown",
   "metadata": {},
   "source": [
    "### Summarize or filter data using SQL and plotting"
   ]
  },
  {
   "cell_type": "markdown",
   "metadata": {},
   "source": [
    "#### Plot frequency of passenger counts in taxi trips"
   ]
  },
  {
   "cell_type": "code",
   "execution_count": 10,
   "metadata": {
    "collapsed": true
   },
   "outputs": [],
   "source": [
    "%%sql -q -o sqlResults\n",
    "SELECT passenger_count, COUNT(*) as trip_counts FROM taxi_train WHERE passenger_count > 0 and passenger_count < 7 GROUP BY passenger_count "
   ]
  },
  {
   "cell_type": "code",
   "execution_count": 11,
   "metadata": {
    "collapsed": false
   },
   "outputs": [
    {
     "data": {
      "image/png": "[encoded data removed]",
      "text/plain": [
       "<matplotlib.figure.Figure at 0x7fd2f0ca0e50>"
      ]
     },
     "metadata": {},
     "output_type": "display_data"
    }
   ],
   "source": [
    "%%local\n",
    "import matplotlib.pyplot as plt\n",
    "%matplotlib inline\n",
    "\n",
    "x_labels = sqlResults['passenger_count'].values\n",
    "fig = sqlResults[['trip_counts']].plot(kind='bar', facecolor='lightblue')\n",
    "fig.set_xticklabels(x_labels)\n",
    "fig.set_title('Counts of trips by passenger count')\n",
    "fig.set_xlabel('Passenger count in trips')\n",
    "fig.set_ylabel('Trip counts')\n",
    "plt.show()"
   ]
  },
  {
   "cell_type": "markdown",
   "metadata": {},
   "source": [
    "#### Plot histogram of tip amount, relationship between tip amount vs. other features"
   ]
  },
  {
   "cell_type": "code",
   "execution_count": 12,
   "metadata": {
    "collapsed": true
   },
   "outputs": [],
   "source": [
    "%%sql -q -o sqlResults\n",
    "SELECT fare_amount, passenger_count, tip_amount, tipped FROM taxi_train WHERE passenger_count > 0 AND passenger_count < 7 AND fare_amount > 0 AND fare_amount < 200 AND payment_type in ('CSH', 'CRD') AND tip_amount > 0 AND tip_amount < 25"
   ]
  },
  {
   "cell_type": "code",
   "execution_count": 13,
   "metadata": {
    "collapsed": false
   },
   "outputs": [
    {
     "data": {
      "image/png": "[encoded data removed]",
      "text/plain": [
       "<matplotlib.figure.Figure at 0x7fd2f0c17610>"
      ]
     },
     "metadata": {},
     "output_type": "display_data"
    },
    {
     "data": {
      "image/png": "[encoded data removed]",
      "text/plain": [
       "<matplotlib.figure.Figure at 0x7fd2f0ca0710>"
      ]
     },
     "metadata": {},
     "output_type": "display_data"
    },
    {
     "data": {
      "image/png": "[encoded data removed]",
      "text/plain": [
       "<matplotlib.figure.Figure at 0x7fd2f0c4b910>"
      ]
     },
     "metadata": {},
     "output_type": "display_data"
    }
   ],
   "source": [
    "%%local\n",
    "%matplotlib inline\n",
    "\n",
    "# TIP BY PAYMENT TYPE AND PASSENGER COUNT\n",
    "ax1 = sqlResults[['tip_amount']].plot(kind='hist', bins=25, facecolor='lightblue')\n",
    "ax1.set_title('Tip amount distribution')\n",
    "ax1.set_xlabel('Tip Amount ($)')\n",
    "ax1.set_ylabel('Counts')\n",
    "plt.suptitle('')\n",
    "plt.show()\n",
    "\n",
    "# TIP BY PASSENGER COUNT\n",
    "ax2 = sqlResults.boxplot(column=['tip_amount'], by=['passenger_count'])\n",
    "ax2.set_title('Tip amount by Passenger count')\n",
    "ax2.set_xlabel('Passenger count')\n",
    "ax2.set_ylabel('Tip Amount ($)')\n",
    "plt.suptitle('')\n",
    "plt.show()\n",
    "\n",
    "# TIP AMOUNT BY FARE AMOUNT, POINTS ARE SCALED BY PASSENGER COUNT\n",
    "ax = sqlResults.plot(kind='scatter', x= 'fare_amount', y = 'tip_amount', c='blue', alpha = 0.10, s=5*(sqlResults.passenger_count))\n",
    "ax.set_title('Tip amount by Fare amount')\n",
    "ax.set_xlabel('Fare Amount ($)')\n",
    "ax.set_ylabel('Tip Amount ($)')\n",
    "plt.axis([-2, 120, -2, 30])\n",
    "plt.show()"
   ]
  },
  {
   "cell_type": "markdown",
   "metadata": {},
   "source": [
    "## Feature transformation and data prep for modeling"
   ]
  },
  {
   "cell_type": "markdown",
   "metadata": {},
   "source": [
    "#### Create a new feature by binning hours into traffic time buckets"
   ]
  },
  {
   "cell_type": "code",
   "execution_count": 14,
   "metadata": {
    "collapsed": false
   },
   "outputs": [
    {
     "name": "stdout",
     "output_type": "stream",
     "text": [
      "126050"
     ]
    }
   ],
   "source": [
    "### CREATE FOUR BUCKETS FOR TRAFFIC TIMES\n",
    "sqlStatement = \"\"\"\n",
    "    SELECT *,\n",
    "    CASE\n",
    "     WHEN (pickup_hour <= 6 OR pickup_hour >= 20) THEN \"Night\" \n",
    "     WHEN (pickup_hour >= 7 AND pickup_hour <= 10) THEN \"AMRush\" \n",
    "     WHEN (pickup_hour >= 11 AND pickup_hour <= 15) THEN \"Afternoon\"\n",
    "     WHEN (pickup_hour >= 16 AND pickup_hour <= 19) THEN \"PMRush\"\n",
    "    END as TrafficTimeBins\n",
    "    FROM taxi_train \n",
    "\"\"\"\n",
    "taxi_df_train_with_newFeatures = sqlContext.sql(sqlStatement)\n",
    "\n",
    "## CACHE DATA-FRAME IN MEMORY & MATERIALIZE DF IN MEMORY\n",
    "taxi_df_train_with_newFeatures.cache()\n",
    "taxi_df_train_with_newFeatures.count()"
   ]
  },
  {
   "cell_type": "markdown",
   "metadata": {},
   "source": [
    "#### Indexing and one-hot encoding of categorical features"
   ]
  },
  {
   "cell_type": "markdown",
   "metadata": {},
   "source": [
    "Here we only transform three variables to show examples, which are character strings. Other variables, such as week-day, which are represented by numerical valies, can also be indexed as categorical variables."
   ]
  },
  {
   "cell_type": "code",
   "execution_count": 15,
   "metadata": {
    "collapsed": false
   },
   "outputs": [
    {
     "name": "stdout",
     "output_type": "stream",
     "text": [
      "Time taken to execute above cell: 2.45 seconds"
     ]
    }
   ],
   "source": [
    "timestart = datetime.datetime.now()\n",
    "\n",
    "from pyspark.ml.feature import OneHotEncoder, StringIndexer, VectorAssembler, VectorIndexer\n",
    "\n",
    "stringIndexer = StringIndexer(inputCol=\"vendor_id\", outputCol=\"vendorIndex\")\n",
    "model = stringIndexer.fit(taxi_df_train_with_newFeatures) # Input data-frame is the cleaned one from above\n",
    "indexed = model.transform(taxi_df_train_with_newFeatures)\n",
    "encoder = OneHotEncoder(dropLast=False, inputCol=\"vendorIndex\", outputCol=\"vendorVec\")\n",
    "encoded1 = encoder.transform(indexed)\n",
    "\n",
    "stringIndexer = StringIndexer(inputCol=\"rate_code\", outputCol=\"rateIndex\")\n",
    "model = stringIndexer.fit(encoded1)\n",
    "indexed = model.transform(encoded1)\n",
    "encoder = OneHotEncoder(dropLast=False, inputCol=\"rateIndex\", outputCol=\"rateVec\")\n",
    "encoded2 = encoder.transform(indexed)\n",
    "\n",
    "stringIndexer = StringIndexer(inputCol=\"payment_type\", outputCol=\"paymentIndex\")\n",
    "model = stringIndexer.fit(encoded2)\n",
    "indexed = model.transform(encoded2)\n",
    "encoder = OneHotEncoder(dropLast=False, inputCol=\"paymentIndex\", outputCol=\"paymentVec\")\n",
    "encoded3 = encoder.transform(indexed)\n",
    "\n",
    "stringIndexer = StringIndexer(inputCol=\"TrafficTimeBins\", outputCol=\"TrafficTimeBinsIndex\")\n",
    "model = stringIndexer.fit(encoded3)\n",
    "indexed = model.transform(encoded3)\n",
    "encoder = OneHotEncoder(dropLast=False, inputCol=\"TrafficTimeBinsIndex\", outputCol=\"TrafficTimeBinsVec\")\n",
    "encodedFinal = encoder.transform(indexed)\n",
    "\n",
    "timeend = datetime.datetime.now()\n",
    "timedelta = round((timeend-timestart).total_seconds(), 2) \n",
    "print \"Time taken to execute above cell: \" + str(timedelta) + \" seconds\"; "
   ]
  },
  {
   "cell_type": "markdown",
   "metadata": {},
   "source": [
    "#### Functions for creating labeledpoint RDD objects for input into logistic regression model, where categorical variables are included with one-hot encoding\n",
    "\n",
    "Labeled point objects are particular RDD formatd that is needed as input data in most of MLlib's ML algorithms. In Labeled point objects, each observation is represented by a vector of features and the target label."
   ]
  },
  {
   "cell_type": "markdown",
   "metadata": {},
   "source": [
    "###### Functions for binary classification: tipped (/10) as binary target variable"
   ]
  },
  {
   "cell_type": "code",
   "execution_count": 16,
   "metadata": {
    "collapsed": false
   },
   "outputs": [],
   "source": [
    "from pyspark.mllib.regression import LabeledPoint\n",
    "from numpy import array\n",
    "\n",
    "# INDEXING CATEGORICAL TEXT FEATURES FOR INPUT INTO TREE-BASED MODELS\n",
    "def parseRowIndexingBinary(line):\n",
    "    features = np.array([line.paymentIndex, line.vendorIndex, line.rateIndex, line.TrafficTimeBinsIndex,\n",
    "                         line.pickup_hour, line.weekday, line.passenger_count, line.trip_time_in_secs, \n",
    "                         line.trip_distance, line.fare_amount])\n",
    "    labPt = LabeledPoint(line.tipped, features)\n",
    "    return  labPt\n",
    "\n",
    "# ONE-HOT ENCODING OF CATEGORICAL TEXT FEATURES FOR INPUT INTO LOGISTIC RERESSION MODELS\n",
    "def parseRowOneHotBinary(line):\n",
    "    features = np.concatenate((np.array([line.pickup_hour, line.weekday, line.passenger_count,\n",
    "                                        line.trip_time_in_secs, line.trip_distance, line.fare_amount]), \n",
    "                                        line.vendorVec.toArray(), line.rateVec.toArray(), \n",
    "                                        line.paymentVec.toArray(), line.TrafficTimeBinsVec.toArray()), axis=0)\n",
    "    labPt = LabeledPoint(line.tipped, features)\n",
    "    return  labPt"
   ]
  },
  {
   "cell_type": "markdown",
   "metadata": {},
   "source": [
    "###### Functions for regression: tip amount ($) as target variable"
   ]
  },
  {
   "cell_type": "code",
   "execution_count": 17,
   "metadata": {
    "collapsed": false
   },
   "outputs": [],
   "source": [
    "# ONE-HOT ENCODING OF CATEGORICAL TEXT FEATURES FOR INPUT INTO TREE-BASED MODELS\n",
    "def parseRowIndexingRegression(line):\n",
    "    features = np.array([line.paymentIndex, line.vendorIndex, line.rateIndex, line.TrafficTimeBinsIndex, \n",
    "                         line.pickup_hour, line.weekday, line.passenger_count, line.trip_time_in_secs, \n",
    "                         line.trip_distance, line.fare_amount])\n",
    "    labPt = LabeledPoint(line.tip_amount, features)\n",
    "    return  labPt\n",
    "\n",
    "# INDEXING CATEGORICAL TEXT FEATURES FOR INPUT INTO LINEAR REGRESSION MODELS\n",
    "def parseRowOneHotRegression(line):\n",
    "    features = np.concatenate((np.array([line.pickup_hour, line.weekday, line.passenger_count,\n",
    "                                        line.trip_time_in_secs, line.trip_distance, line.fare_amount]), \n",
    "                                        line.vendorVec.toArray(), line.rateVec.toArray(), \n",
    "                                        line.paymentVec.toArray(), line.TrafficTimeBinsVec.toArray()), axis=0)\n",
    "    labPt = LabeledPoint(line.tip_amount, features)\n",
    "    return  labPt"
   ]
  },
  {
   "cell_type": "markdown",
   "metadata": {},
   "source": [
    "#### Create a random sampling of the data, as needed (25% is used here). This can save some time while training models. Then, split into train/test, and create one-hot encoded or indexed train/test Labeled point data objects for input into MLlib"
   ]
  },
  {
   "cell_type": "code",
   "execution_count": 18,
   "metadata": {
    "collapsed": false
   },
   "outputs": [
    {
     "name": "stdout",
     "output_type": "stream",
     "text": [
      "Time taken to execute above cell: 0.25 seconds"
     ]
    }
   ],
   "source": [
    "timestart = datetime.datetime.now()\n",
    "\n",
    "# SPECIFY SAMPLING AND SPLITTING FRACTIONS\n",
    "from pyspark.sql.functions import rand\n",
    "\n",
    "samplingFraction = 0.25;\n",
    "trainingFraction = 0.75; testingFraction = (1-trainingFraction);\n",
    "seed = 1234;\n",
    "encodedFinalSampled = encodedFinal.sample(False, samplingFraction, seed=seed)\n",
    "\n",
    "# SPLIT SAMPLED DATA-FRAME INTO TRAIN/TEST, WITH A RANDOM COLUMN ADDED FOR DOING CV (SHOWN LATER)\n",
    "# INCLUDE RAND COLUMN FOR CREATING CROSS-VALIDATION FOLDS\n",
    "dfTmpRand = encodedFinalSampled.select(\"*\", rand(0).alias(\"rand\"));\n",
    "trainData, testData = dfTmpRand.randomSplit([trainingFraction, testingFraction], seed=seed);\n",
    "\n",
    "## CACHE TRAIN AND TEST DATA\n",
    "trainData.cache()\n",
    "testData.cache()\n",
    "\n",
    "# FOR BINARY CLASSIFICATION TRAINING AND TESTING\n",
    "indexedTRAINbinary = trainData.map(parseRowIndexingBinary)\n",
    "indexedTESTbinary = testData.map(parseRowIndexingBinary)\n",
    "oneHotTRAINbinary = trainData.map(parseRowOneHotBinary)\n",
    "oneHotTESTbinary = testData.map(parseRowOneHotBinary)\n",
    "\n",
    "# FOR REGRESSION TRAINING AND TESTING\n",
    "indexedTRAINreg = trainData.map(parseRowIndexingRegression)\n",
    "indexedTESTreg = testData.map(parseRowIndexingRegression)\n",
    "oneHotTRAINreg = trainData.map(parseRowOneHotRegression)\n",
    "oneHotTESTreg = testData.map(parseRowOneHotRegression)\n",
    "\n",
    "timeend = datetime.datetime.now()\n",
    "timedelta = round((timeend-timestart).total_seconds(), 2) \n",
    "print \"Time taken to execute above cell: \" + str(timedelta) + \" seconds\"; "
   ]
  },
  {
   "cell_type": "markdown",
   "metadata": {},
   "source": [
    "#### Feature scaling can be important for some ML algos, e.g. regularized regressionons or SVMs. Here we show feature scaling for use with LinearRegressionwithSGD"
   ]
  },
  {
   "cell_type": "code",
   "execution_count": 19,
   "metadata": {
    "collapsed": false
   },
   "outputs": [
    {
     "name": "stdout",
     "output_type": "stream",
     "text": [
      "Time taken to execute above cell: 10.46 seconds"
     ]
    }
   ],
   "source": [
    "timestart = datetime.datetime.now()\n",
    "\n",
    "from pyspark.mllib.regression import LabeledPoint\n",
    "from pyspark.mllib.linalg import Vectors\n",
    "from pyspark.mllib.feature import StandardScaler, StandardScalerModel\n",
    "from pyspark.mllib.util import MLUtils\n",
    "\n",
    "# SCALE VARIABLES FOR REGULARIZED LINEAR SGD ALGO: We have found LinearRegressionWithSGD to be sensitive to feature scaling\n",
    "label = oneHotTRAINreg.map(lambda x: x.label)\n",
    "features = oneHotTRAINreg.map(lambda x: x.features)\n",
    "scaler = StandardScaler(withMean=False, withStd=True).fit(features)\n",
    "dataTMP = label.zip(scaler.transform(features.map(lambda x: Vectors.dense(x.toArray()))))\n",
    "oneHotTRAINregScaled = dataTMP.map(lambda x: LabeledPoint(x[0], x[1]))\n",
    "\n",
    "label = oneHotTESTreg.map(lambda x: x.label)\n",
    "features = oneHotTESTreg.map(lambda x: x.features)\n",
    "scaler = StandardScaler(withMean=False, withStd=True).fit(features)\n",
    "dataTMP = label.zip(scaler.transform(features.map(lambda x: Vectors.dense(x.toArray()))))\n",
    "oneHotTESTregScaled = dataTMP.map(lambda x: LabeledPoint(x[0], x[1]))\n",
    "\n",
    "timeend = datetime.datetime.now()\n",
    "timedelta = round((timeend-timestart).total_seconds(), 2) \n",
    "print \"Time taken to execute above cell: \" + str(timedelta) + \" seconds\"; "
   ]
  },
  {
   "cell_type": "markdown",
   "metadata": {},
   "source": [
    "#### Cache RDDs and DF Objects for faster running of algorithms with cached objects"
   ]
  },
  {
   "cell_type": "code",
   "execution_count": 20,
   "metadata": {
    "collapsed": false
   },
   "outputs": [
    {
     "name": "stdout",
     "output_type": "stream",
     "text": [
      "Time taken to execute above cell: 0.13 seconds"
     ]
    }
   ],
   "source": [
    "timestart = datetime.datetime.now()\n",
    "\n",
    "# FOR BINARY CLASSIFICATION TRAINING AND TESTING\n",
    "indexedTRAINbinary.cache();\n",
    "indexedTESTbinary.cache();\n",
    "oneHotTRAINbinary.cache();\n",
    "oneHotTESTbinary.cache();\n",
    "\n",
    "# FOR REGRESSION TRAINING AND TESTING\n",
    "indexedTRAINreg.cache();\n",
    "indexedTESTreg.cache();\n",
    "oneHotTRAINreg.cache();\n",
    "oneHotTESTreg.cache();\n",
    "\n",
    "# SCALED FEATURES\n",
    "oneHotTRAINregScaled.cache();\n",
    "oneHotTESTregScaled.cache();\n",
    "\n",
    "timeend = datetime.datetime.now()\n",
    "timedelta = round((timeend-timestart).total_seconds(), 2) \n",
    "print \"Time taken to execute above cell: \" + str(timedelta) + \" seconds\"; "
   ]
  },
  {
   "cell_type": "markdown",
   "metadata": {},
   "source": [
    "## Binary classification model training: Predicting tip or no tip (target: tipped = 1/0)"
   ]
  },
  {
   "cell_type": "markdown",
   "metadata": {},
   "source": [
    "###### We address two learning problems\n",
    "1. Binary classification: Prediction of tip or no-tip (1/0) for a taxi trip\n",
    "2. Regression problem: Prediction of the tip amonut ($)\n",
    "\n",
    "\n",
    "Each model building setion will be split into steps: \n",
    "1. Model training data\n",
    "2. Model evaluation on a test data set with metrics\n",
    "3. Saving model in blob for future consumption\n",
    "\n",
    "We show two ways to do cross-validation with parameter sweeping. In one, we provide a generic method for doing CV and parameter sweeping, which can be applied for any algorithm in MLlib, and for all parameter sets in an algorithm. In the other, we show the use of pySpark's CrossValidator pipeline function. Although convenient, based on our experience, CrossValidator has a few limitations for Spark 1.5.0, viz., \n",
    "1. Pipeline models cannot be saved/persisted for future consumption.\n",
    "2. Cannot be used for every parameter in a model.\n",
    "3. Cannot be used for every MLlib algorithm.\n",
    "\n",
    "For each learning problem (binary classification or regression), we present a linear (logistic or linear regression) approach, followed by Random Forest and Boosted Trees."
   ]
  },
  {
   "cell_type": "markdown",
   "metadata": {
    "collapsed": true
   },
   "source": [
    "### Logistic regression (LogisticRegressionWithLBFGS) with CV and hyperparameter sweeping. Includes evaluation of test data-set, and saving model for consumption"
   ]
  },
  {
   "cell_type": "markdown",
   "metadata": {},
   "source": [
    "#### Custom CV code - which will generaize to all learnering algorithms in MLlib\n",
    "NOTE: Execution of the following cell can take several minutes."
   ]
  },
  {
   "cell_type": "code",
   "execution_count": 21,
   "metadata": {
    "collapsed": false
   },
   "outputs": [
    {
     "name": "stdout",
     "output_type": "stream",
     "text": [
      "Time taken to execute above cell: 142.78 seconds"
     ]
    }
   ],
   "source": [
    "timestart = datetime.datetime.now()\n",
    "\n",
    "from pyspark.mllib.classification import LogisticRegressionWithLBFGS \n",
    "from pyspark.mllib.evaluation import BinaryClassificationMetrics\n",
    "\n",
    "# CREATE PARAMETER GRID FOR LOGISTIC REGRESSION PARAMETER SWEEP\n",
    "from sklearn.grid_search import ParameterGrid\n",
    "grid = [{'regParam': [0.01, 0.1], 'iterations': [5, 10], 'regType': [\"l1\", \"l2\"], 'tolerance': [1e-3, 1e-4]}]\n",
    "paramGrid = list(ParameterGrid(grid))\n",
    "numModels = len(paramGrid)\n",
    "\n",
    "# SET NUM FOLDS AND NUM PARAMETER SETS TO SWEEP ON\n",
    "nFolds = 3;\n",
    "h = 1.0 / nFolds;\n",
    "metricSum = np.zeros(numModels);\n",
    "\n",
    "# BEGIN CV WITH PARAMETER SWEEP\n",
    "for i in range(nFolds):\n",
    "    # Create training and x-validation sets\n",
    "    validateLB = i * h\n",
    "    validateUB = (i + 1) * h\n",
    "    condition = (trainData[\"rand\"] >= validateLB) & (trainData[\"rand\"] < validateUB)\n",
    "    validation = trainData.filter(condition)\n",
    "    # Create labeled points from data-frames\n",
    "    if i > 0:\n",
    "        trainCVLabPt.unpersist()\n",
    "        validationLabPt.unpersist()\n",
    "    trainCV = trainData.filter(~condition)\n",
    "    trainCVLabPt = trainCV.map(parseRowOneHotBinary)\n",
    "    trainCVLabPt.cache()\n",
    "    validationLabPt = validation.map(parseRowOneHotBinary)\n",
    "    validationLabPt.cache()\n",
    "    # For parameter sets compute metrics from x-validation\n",
    "    for j in range(numModels):\n",
    "        regt = paramGrid[j]['regType']\n",
    "        regp = paramGrid[j]['regParam']\n",
    "        iters = paramGrid[j]['iterations']\n",
    "        tol = paramGrid[j]['tolerance']\n",
    "        # Train logistic regression model with hypermarameter set\n",
    "        model = LogisticRegressionWithLBFGS.train(trainCVLabPt, regType=regt, iterations=iters,  \n",
    "                                                  regParam=regp, tolerance = tol, intercept=True)\n",
    "        predictionAndLabels = validationLabPt.map(lambda lp: (float(model.predict(lp.features)), lp.label))\n",
    "        # Use ROC-AUC as accuracy metrics\n",
    "        validMetrics = BinaryClassificationMetrics(predictionAndLabels)\n",
    "        metric = validMetrics.areaUnderROC\n",
    "        metricSum[j] += metric\n",
    "\n",
    "avgAcc = metricSum / nFolds;\n",
    "bestParam = paramGrid[np.argmax(avgAcc)];\n",
    "\n",
    "# Unpersist objects\n",
    "trainCVLabPt.unpersist()\n",
    "validationLabPt.unpersist()\n",
    "    \n",
    "# TRAIN ON FULL TRAIING SET USING BEST PARAMETERS FROM CV/PARAMETER SWEEP\n",
    "logitBest = LogisticRegressionWithLBFGS.train(oneHotTRAINbinary, regType=bestParam['regType'], \n",
    "                                              iterations=bestParam['iterations'], \n",
    "                                              regParam=bestParam['regParam'], tolerance = bestParam['tolerance'], \n",
    "                                              intercept=True)\n",
    "\n",
    "timeend = datetime.datetime.now()\n",
    "timedelta = round((timeend-timestart).total_seconds(), 2) \n",
    "print \"Time taken to execute above cell: \" + str(timedelta) + \" seconds\"; "
   ]
  },
  {
   "cell_type": "markdown",
   "metadata": {},
   "source": [
    "#### Evaluate model with binary classification metrics, and plot ROC curve"
   ]
  },
  {
   "cell_type": "code",
   "execution_count": 22,
   "metadata": {
    "collapsed": false
   },
   "outputs": [
    {
     "name": "stdout",
     "output_type": "stream",
     "text": [
      "Area under PR = 0.984753146176\n",
      "Area under ROC = 0.982986767486\n",
      "Summary Stats\n",
      "Precision = 0.983655467635\n",
      "Recall = 0.983655467635\n",
      "F1 Score = 0.983655467635\n",
      "Time taken to execute above cell: 2.63 seconds"
     ]
    }
   ],
   "source": [
    "timestart = datetime.datetime.now()\n",
    "\n",
    "from sklearn.metrics import roc_curve,auc\n",
    "from pyspark.mllib.evaluation import BinaryClassificationMetrics\n",
    "from pyspark.mllib.evaluation import MulticlassMetrics\n",
    "\n",
    "# PREDICT ON TEST DATA WITH BEST/FINAL MODEL\n",
    "predictionAndLabels = oneHotTESTbinary.map(lambda lp: (float(logitBest.predict(lp.features)), lp.label))\n",
    "\n",
    "# Instantiate metrics object\n",
    "metrics = BinaryClassificationMetrics(predictionAndLabels)\n",
    "# Area under precision-recall curve\n",
    "print(\"Area under PR = %s\" % metrics.areaUnderPR)\n",
    "# Area under ROC curve\n",
    "print(\"Area under ROC = %s\" % metrics.areaUnderROC)\n",
    "metrics = MulticlassMetrics(predictionAndLabels)\n",
    "# Overall statistics\n",
    "precision = metrics.precision()\n",
    "recall = metrics.recall()\n",
    "f1Score = metrics.fMeasure()\n",
    "print(\"Summary Stats\")\n",
    "print(\"Precision = %s\" % precision)\n",
    "print(\"Recall = %s\" % recall)\n",
    "print(\"F1 Score = %s\" % f1Score)\n",
    "\n",
    "# OUTPUT PROBABILITIES AND REGISTER TEMP TABLE\n",
    "logitBest.clearThreshold(); # This clears threshold for classification (0.5) and outputs probabilities\n",
    "predictionAndLabelsDF = predictionAndLabels.toDF()\n",
    "predictionAndLabelsDF.registerTempTable(\"tmp_results\");\n",
    "\n",
    "timeend = datetime.datetime.now()\n",
    "timedelta = round((timeend-timestart).total_seconds(), 2) \n",
    "print \"Time taken to execute above cell: \" + str(timedelta) + \" seconds\"; "
   ]
  },
  {
   "cell_type": "code",
   "execution_count": 23,
   "metadata": {
    "collapsed": true
   },
   "outputs": [],
   "source": [
    "%%sql -q -o sqlResults\n",
    "SELECT * from tmp_results"
   ]
  },
  {
   "cell_type": "code",
   "execution_count": 25,
   "metadata": {
    "collapsed": false
   },
   "outputs": [
    {
     "data": {
      "image/png": "[encoded data removed]",
      "text/plain": [
       "<matplotlib.figure.Figure at 0x7fd2f0ca0090>"
      ]
     },
     "metadata": {},
     "output_type": "display_data"
    }
   ],
   "source": [
    "%%local\n",
    "%matplotlib inline\n",
    "from sklearn.metrics import roc_curve,auc\n",
    "\n",
    "predictions_pddf = sqlResults.rename(columns={'_1': 'probability', '_2': 'label'})\n",
    "prob = predictions_pddf[\"probability\"] \n",
    "fpr, tpr, thresholds = roc_curve(predictions_pddf['label'], prob, pos_label=1);\n",
    "roc_auc = auc(fpr, tpr)\n",
    "\n",
    "plt.figure(figsize=(5,5))\n",
    "plt.plot(fpr, tpr, label='ROC curve (area = %0.2f)' % roc_auc)\n",
    "plt.plot([0, 1], [0, 1], 'k--')\n",
    "plt.xlim([0.0, 1.0])\n",
    "plt.ylim([0.0, 1.05])\n",
    "plt.xlabel('False Positive Rate')\n",
    "plt.ylabel('True Positive Rate')\n",
    "plt.title('ROC Curve')\n",
    "plt.legend(loc=\"lower right\")\n",
    "plt.show()"
   ]
  },
  {
   "cell_type": "markdown",
   "metadata": {},
   "source": [
    "#### Persist model in a blob with a date-stamp for future consumption"
   ]
  },
  {
   "cell_type": "code",
   "execution_count": 26,
   "metadata": {
    "collapsed": false
   },
   "outputs": [
    {
     "name": "stdout",
     "output_type": "stream",
     "text": [
      "Time taken to execute above cell: 23.4 seconds"
     ]
    }
   ],
   "source": [
    "timestart = datetime.datetime.now()\n",
    "\n",
    "from pyspark.mllib.classification import LogisticRegressionModel\n",
    "\n",
    "datestamp = unicode(datetime.datetime.now()).replace(' ','').replace(':','_');\n",
    "logisticregressionfilename = \"LogisticRegressionWithLBFGS_\" + datestamp;\n",
    "dirfilename = modelDir + logisticregressionfilename;\n",
    "\n",
    "logitBest.save(sc, dirfilename);\n",
    "\n",
    "timeend = datetime.datetime.now()\n",
    "timedelta = round((timeend-timestart).total_seconds(), 2) \n",
    "print \"Time taken to execute above cell: \" + str(timedelta) + \" seconds\";"
   ]
  },
  {
   "cell_type": "markdown",
   "metadata": {},
   "source": [
    "#### CV with parameter sweep using MLlib's CrossValidator function with LogisticRegression (Elastic regression) model\n",
    "This code shows an example use of MLlib's CrossValidator pipeline function for CV with parameter sweep\n",
    "\n",
    "NOTE: Execution of the following cell can take several minutes."
   ]
  },
  {
   "cell_type": "code",
   "execution_count": 27,
   "metadata": {
    "collapsed": false
   },
   "outputs": [
    {
     "name": "stdout",
     "output_type": "stream",
     "text": [
      "Time taken to execute above cell: 102.37 seconds\n",
      "/usr/hdp/current/spark-client/python/pyspark/ml/classification.py:207: UserWarning: weights is deprecated. Use coefficients instead.\n",
      "  warnings.warn(\"weights is deprecated. Use coefficients instead.\")"
     ]
    }
   ],
   "source": [
    "timestart = datetime.datetime.now()\n",
    "\n",
    "from pyspark.ml.classification import LogisticRegression\n",
    "from pyspark.ml import Pipeline\n",
    "from pyspark.ml.evaluation import BinaryClassificationEvaluator\n",
    "from pyspark.ml.tuning import CrossValidator, ParamGridBuilder\n",
    "from sklearn.metrics import roc_curve,auc\n",
    "\n",
    "# Define algo / model\n",
    "lr = LogisticRegression()\n",
    "\n",
    "# Define grid parameters\n",
    "paramGrid = ParamGridBuilder().addGrid(lr.regParam, (0.01, 0.1))\\\n",
    "                              .addGrid(lr.maxIter, (5, 10))\\\n",
    "                              .addGrid(lr.tol, (1e-4, 1e-5))\\\n",
    "                              .addGrid(lr.elasticNetParam, (0.25,0.75))\\\n",
    "                              .build()\n",
    "\n",
    "# Define CV with parameter sweep\n",
    "cv = CrossValidator(estimator= lr,\n",
    "                    estimatorParamMaps=paramGrid,\n",
    "                    evaluator=BinaryClassificationEvaluator(),\n",
    "                    numFolds=3)\n",
    "\n",
    "# Convert to data-frame, this won't run on RDDs\n",
    "trainDataFrame = sqlContext.createDataFrame(oneHotTRAINbinary, [\"features\", \"label\"])\n",
    "\n",
    "# Train with cross-validation\n",
    "cv_model = cv.fit(trainDataFrame)\n",
    "\n",
    "\n",
    "########################################\n",
    "## PREDICT AND EVALUATE ON TEST DATA-SET\n",
    "########################################\n",
    "# Use Test data-set for prediction\n",
    "testDataFrame = sqlContext.createDataFrame(oneHotTESTbinary, [\"features\", \"label\"])\n",
    "predictionAndLabels = cv_model.transform(testDataFrame)\n",
    "\n",
    "# Convert to DF and save register DF as table\n",
    "predictionAndLabels.registerTempTable(\"tmp_results\");\n",
    "\n",
    "timeend = datetime.datetime.now()\n",
    "timedelta = round((timeend-timestart).total_seconds(), 2) \n",
    "print \"Time taken to execute above cell: \" + str(timedelta) + \" seconds\";"
   ]
  },
  {
   "cell_type": "code",
   "execution_count": 28,
   "metadata": {
    "collapsed": true
   },
   "outputs": [],
   "source": [
    "%%sql -q -o sqlResults\n",
    "SELECT label, prediction, probability from tmp_results"
   ]
  },
  {
   "cell_type": "code",
   "execution_count": 29,
   "metadata": {
    "collapsed": false
   },
   "outputs": [
    {
     "data": {
      "image/png": "[encoded data removed]",
      "text/plain": [
       "<matplotlib.figure.Figure at 0x7fd2f07a8f50>"
      ]
     },
     "metadata": {},
     "output_type": "display_data"
    }
   ],
   "source": [
    "%%local\n",
    "from sklearn.metrics import roc_curve,auc\n",
    "\n",
    "prob = [x[\"values\"][1] for x in sqlResults[\"probability\"]]\n",
    "fpr, tpr, thresholds = roc_curve(sqlResults['label'], prob, pos_label=1);\n",
    "roc_auc = auc(fpr, tpr)\n",
    "\n",
    "plt.figure(figsize=(5,5))\n",
    "plt.plot(fpr, tpr, label='ROC curve (area = %0.2f)' % roc_auc)\n",
    "plt.plot([0, 1], [0, 1], 'k--')\n",
    "plt.xlim([0.0, 1.0])\n",
    "plt.ylim([0.0, 1.05])\n",
    "plt.xlabel('False Positive Rate')\n",
    "plt.ylabel('True Positive Rate')\n",
    "plt.title('ROC Curve')\n",
    "plt.legend(loc=\"lower right\")\n",
    "plt.show()"
   ]
  },
  {
   "cell_type": "markdown",
   "metadata": {},
   "source": [
    "### Random forest binary classification: modeling, evaluation, saving"
   ]
  },
  {
   "cell_type": "code",
   "execution_count": 30,
   "metadata": {
    "collapsed": false
   },
   "outputs": [
    {
     "name": "stdout",
     "output_type": "stream",
     "text": [
      "Area under ROC = 0.984753146176\n",
      "Time taken to execute above cell: 20.78 seconds"
     ]
    }
   ],
   "source": [
    "timestart = datetime.datetime.now()\n",
    "\n",
    "from pyspark.mllib.tree import RandomForest, RandomForestModel\n",
    "from pyspark.mllib.util import MLUtils\n",
    "from pyspark.mllib.evaluation import BinaryClassificationMetrics\n",
    "from pyspark.mllib.evaluation import MulticlassMetrics\n",
    "\n",
    "# SPECIFY NUMBER OF CATEGORIES FOR CATEGORICAL FEATURES. FEATURE #0 HAS 2 CATEGORIES, FEATURE #2 HAS 2 CATEGORIES, AND SO ON\n",
    "categoricalFeaturesInfo={0:2, 1:2, 2:6, 3:4}\n",
    "\n",
    "# TRAIN RANDOMFOREST MODEL\n",
    "rfModel = RandomForest.trainClassifier(indexedTRAINbinary, numClasses=2, \n",
    "                                       categoricalFeaturesInfo=categoricalFeaturesInfo,\n",
    "                                       numTrees=25, featureSubsetStrategy=\"auto\",\n",
    "                                       impurity='gini', maxDepth=5, maxBins=32)\n",
    "## UN-COMMENT IF YOU WANT TO PRING TREES\n",
    "#print('Learned classification forest model:')\n",
    "#print(rfModel.toDebugString())\n",
    "\n",
    "# PREDICT ON TEST DATA AND EVALUATE\n",
    "predictions = rfModel.predict(indexedTESTbinary.map(lambda x: x.features))\n",
    "predictionAndLabels = indexedTESTbinary.map(lambda lp: lp.label).zip(predictions)\n",
    "\n",
    "# Area under ROC curve\n",
    "metrics = BinaryClassificationMetrics(predictionAndLabels)\n",
    "print(\"Area under ROC = %s\" % metrics.areaUnderROC)\n",
    "\n",
    "# PERSIST MODEL IN BLOB\n",
    "datestamp = unicode(datetime.datetime.now()).replace(' ','').replace(':','_');\n",
    "rfclassificationfilename = \"RandomForestClassification_\" + datestamp;\n",
    "dirfilename = modelDir + rfclassificationfilename;\n",
    "\n",
    "rfModel.save(sc, dirfilename);\n",
    "\n",
    "timeend = datetime.datetime.now()\n",
    "timedelta = round((timeend-timestart).total_seconds(), 2) \n",
    "print \"Time taken to execute above cell: \" + str(timedelta) + \" seconds\"; "
   ]
  },
  {
   "cell_type": "markdown",
   "metadata": {},
   "source": [
    "### Gradient boosting tree binary classification: modeling, evaluation, saving"
   ]
  },
  {
   "cell_type": "code",
   "execution_count": 31,
   "metadata": {
    "collapsed": false
   },
   "outputs": [
    {
     "name": "stdout",
     "output_type": "stream",
     "text": [
      "Area under ROC = 0.984753146176\n",
      "Time taken to execute above cell: 13.87 seconds"
     ]
    }
   ],
   "source": [
    "timestart = datetime.datetime.now()\n",
    "\n",
    "from pyspark.mllib.tree import GradientBoostedTrees, GradientBoostedTreesModel\n",
    "\n",
    "# SPECIFY NUMBER OF CATEGORIES FOR CATEGORICAL FEATURES. FEATURE #0 HAS 2 CATEGORIES, FEATURE #2 HAS 2 CATEGORIES, AND SO ON\n",
    "categoricalFeaturesInfo={0:2, 1:2, 2:6, 3:4}\n",
    "\n",
    "gbtModel = GradientBoostedTrees.trainClassifier(indexedTRAINbinary, categoricalFeaturesInfo=categoricalFeaturesInfo,\n",
    "                                                numIterations=10)\n",
    "## UNCOMMENT IF YOU WANT TO PRINT TREE DETAILS\n",
    "#print('Learned classification GBT model:')\n",
    "#print(bgtModel.toDebugString())\n",
    "\n",
    "# PREDICT ON TEST DATA AND EVALUATE\n",
    "predictions = gbtModel.predict(indexedTESTbinary.map(lambda x: x.features))\n",
    "predictionAndLabels = indexedTESTbinary.map(lambda lp: lp.label).zip(predictions)\n",
    "\n",
    "# Area under ROC curve\n",
    "metrics = BinaryClassificationMetrics(predictionAndLabels)\n",
    "print(\"Area under ROC = %s\" % metrics.areaUnderROC)\n",
    "\n",
    "# PERSIST MODEL IN A BLOB\n",
    "datestamp = unicode(datetime.datetime.now()).replace(' ','').replace(':','_');\n",
    "btclassificationfilename = \"GradientBoostingTreeClassification_\" + datestamp;\n",
    "dirfilename = modelDir + btclassificationfilename;\n",
    "\n",
    "gbtModel.save(sc, dirfilename)\n",
    "\n",
    "timeend = datetime.datetime.now()\n",
    "timedelta = round((timeend-timestart).total_seconds(), 2) \n",
    "print \"Time taken to execute above cell: \" + str(timedelta) + \" seconds\"; "
   ]
  },
  {
   "cell_type": "markdown",
   "metadata": {},
   "source": [
    "## Regression model training: Predicting tip amount ($)"
   ]
  },
  {
   "cell_type": "markdown",
   "metadata": {},
   "source": [
    "### Linear regression with stochastic gradient descent (SGD): modeling, evaluation, saving\n",
    "\n",
    "NOTE: \n",
    "1. Cross-validation with Elastic Net for linear regression is given in Appendix.\n",
    "2. In our experience, there can be frequent issues with convergance of LinearRegressionWithSGD models, and parameters need to be changed/optimized carefully for obtainig a valid model. Scaling of variables significantly helps (shown below). One can also use the elastic net regression which is shown below in the Appendix."
   ]
  },
  {
   "cell_type": "code",
   "execution_count": 32,
   "metadata": {
    "collapsed": false
   },
   "outputs": [
    {
     "name": "stdout",
     "output_type": "stream",
     "text": [
      "RMSE = 1.33377864897\n",
      "R-sqr = 0.585503152994\n",
      "Time taken to execute above cell: 33.26 seconds"
     ]
    }
   ],
   "source": [
    "timestart = datetime.datetime.now()\n",
    "\n",
    "from pyspark.mllib.regression import LabeledPoint, LinearRegressionWithSGD, LinearRegressionModel\n",
    "from pyspark.mllib.evaluation import RegressionMetrics\n",
    "from scipy import stats\n",
    "\n",
    "# USE SCALED FEATURES TO TRAIN MODEL\n",
    "linearModel = LinearRegressionWithSGD.train(oneHotTRAINregScaled, iterations=100, step = 0.1, regType='l2', regParam=0.1, intercept = True)\n",
    "\n",
    "# SCORE ON SCALED TEST DATA-SET & EVALUATE\n",
    "predictionAndLabels = oneHotTESTregScaled.map(lambda lp: (float(linearModel.predict(lp.features)), lp.label))\n",
    "testMetrics = RegressionMetrics(predictionAndLabels)\n",
    "\n",
    "print(\"RMSE = %s\" % testMetrics.rootMeanSquaredError)\n",
    "print(\"R-sqr = %s\" % testMetrics.r2)\n",
    "\n",
    "# SAVE MODEL IN BLOB\n",
    "datestamp = unicode(datetime.datetime.now()).replace(' ','').replace(':','_');\n",
    "linearregressionfilename = \"LinearRegressionWithSGD_\" + datestamp;\n",
    "dirfilename = modelDir + linearregressionfilename;\n",
    "\n",
    "linearModel.save(sc, dirfilename)\n",
    "\n",
    "timeend = datetime.datetime.now()\n",
    "timedelta = round((timeend-timestart).total_seconds(), 2) \n",
    "print \"Time taken to execute above cell: \" + str(timedelta) + \" seconds\"; "
   ]
  },
  {
   "cell_type": "markdown",
   "metadata": {},
   "source": [
    "### Random Forest Regression: modeling, evaluation, saving\n",
    "\n",
    "NOTE: Cross-validation with parameter sweeping using custom code is given in the appendix"
   ]
  },
  {
   "cell_type": "code",
   "execution_count": 33,
   "metadata": {
    "collapsed": false
   },
   "outputs": [
    {
     "name": "stdout",
     "output_type": "stream",
     "text": [
      "RMSE = 1.00996395626\n",
      "R-sqr = 0.673021661896\n",
      "Time taken to execute above cell: 21.85 seconds"
     ]
    }
   ],
   "source": [
    "timestart= datetime.datetime.now()\n",
    "\n",
    "from pyspark.mllib.tree import RandomForest, RandomForestModel\n",
    "from pyspark.mllib.util import MLUtils\n",
    "from pyspark.mllib.evaluation import RegressionMetrics\n",
    "\n",
    "\n",
    "## TRAIN MODEL\n",
    "categoricalFeaturesInfo={0:2, 1:2, 2:6, 3:4}\n",
    "rfModel = RandomForest.trainRegressor(indexedTRAINreg, categoricalFeaturesInfo=categoricalFeaturesInfo,\n",
    "                                    numTrees=25, featureSubsetStrategy=\"auto\",\n",
    "                                    impurity='variance', maxDepth=10, maxBins=32)\n",
    "## UN-COMMENT IF YOU WANT TO PRING TREES\n",
    "#print('Learned classification forest model:')\n",
    "#print(rfModel.toDebugString())\n",
    "\n",
    "## PREDICT AND EVALUATE ON TEST DATA-SET\n",
    "predictions = rfModel.predict(indexedTESTreg.map(lambda x: x.features))\n",
    "predictionAndLabels = oneHotTESTreg.map(lambda lp: lp.label).zip(predictions)\n",
    "\n",
    "testMetrics = RegressionMetrics(predictionAndLabels)\n",
    "print(\"RMSE = %s\" % testMetrics.rootMeanSquaredError)\n",
    "print(\"R-sqr = %s\" % testMetrics.r2)\n",
    "\n",
    "# SAVE MODEL IN BLOB\n",
    "datestamp = unicode(datetime.datetime.now()).replace(' ','').replace(':','_');\n",
    "rfregressionfilename = \"RandomForestRegression_\" + datestamp;\n",
    "dirfilename = modelDir + rfregressionfilename;\n",
    "\n",
    "rfModel.save(sc, dirfilename);\n",
    "\n",
    "timeend = datetime.datetime.now()\n",
    "timedelta = round((timeend-timestart).total_seconds(), 2) \n",
    "print \"Time taken to execute above cell: \" + str(timedelta) + \" seconds\"; "
   ]
  },
  {
   "cell_type": "markdown",
   "metadata": {},
   "source": [
    "### Gradient boosting trees regression: modeling, evaluation, saving"
   ]
  },
  {
   "cell_type": "code",
   "execution_count": 34,
   "metadata": {
    "collapsed": false
   },
   "outputs": [
    {
     "name": "stdout",
     "output_type": "stream",
     "text": [
      "RMSE = 1.01232323826\n",
      "R-sqr = 0.669483122879\n",
      "Time taken to execute above cell: 17.32 seconds"
     ]
    }
   ],
   "source": [
    "timestart= datetime.datetime.now()\n",
    "\n",
    "from pyspark.mllib.tree import GradientBoostedTrees, GradientBoostedTreesModel\n",
    "from pyspark.mllib.util import MLUtils\n",
    "\n",
    "## TRAIN MODEL\n",
    "categoricalFeaturesInfo={0:2, 1:2, 2:6, 3:4}\n",
    "gbtModel = GradientBoostedTrees.trainRegressor(indexedTRAINreg, categoricalFeaturesInfo=categoricalFeaturesInfo, \n",
    "                                                numIterations=10, maxBins=32, maxDepth = 4, learningRate=0.1)\n",
    "\n",
    "## EVALUATE A TEST DATA-SET\n",
    "predictions = gbtModel.predict(indexedTESTreg.map(lambda x: x.features))\n",
    "predictionAndLabels = indexedTESTreg.map(lambda lp: lp.label).zip(predictions)\n",
    "\n",
    "testMetrics = RegressionMetrics(predictionAndLabels)\n",
    "print(\"RMSE = %s\" % testMetrics.rootMeanSquaredError)\n",
    "print(\"R-sqr = %s\" % testMetrics.r2)\n",
    "\n",
    "# PLOT SCATTER-PLOT BETWEEN ACTUAL AND PREDICTED TIP VALUES\n",
    "test_predictions = sqlContext.createDataFrame(predictionAndLabels)\n",
    "test_predictions.registerTempTable(\"tmp_results\");\n",
    "\n",
    "# SAVE MODEL IN BLOB\n",
    "datestamp = unicode(datetime.datetime.now()).replace(' ','').replace(':','_');\n",
    "btregressionfilename = \"GradientBoostingTreeRegression_\" + datestamp;\n",
    "dirfilename = modelDir + btregressionfilename;\n",
    "gbtModel.save(sc, dirfilename)\n",
    "\n",
    "timeend = datetime.datetime.now()\n",
    "timedelta = round((timeend-timestart).total_seconds(), 2) \n",
    "print \"Time taken to execute above cell: \" + str(timedelta) + \" seconds\"; "
   ]
  },
  {
   "cell_type": "code",
   "execution_count": 35,
   "metadata": {
    "collapsed": true
   },
   "outputs": [],
   "source": [
    "%%sql -q -o sqlResults\n",
    "SELECT * from tmp_results"
   ]
  },
  {
   "cell_type": "code",
   "execution_count": 37,
   "metadata": {
    "collapsed": false
   },
   "outputs": [
    {
     "data": {
      "image/png": "[encoded data removed]",
      "text/plain": [
       "<matplotlib.figure.Figure at 0x7fd2f08a8fd0>"
      ]
     },
     "metadata": {},
     "output_type": "display_data"
    }
   ],
   "source": [
    "%%local\n",
    "import numpy as np\n",
    "\n",
    "ax = sqlResults.plot(kind='scatter', figsize = (6,6), x='_1', y='_2', color='blue', alpha = 0.25, label='Actual vs. predicted');\n",
    "fit = np.polyfit(sqlResults['_1'], sqlResults['_2'], deg=1)\n",
    "ax.set_title('Actual vs. Predicted Tip Amounts ($)')\n",
    "ax.set_xlabel(\"Actual\")\n",
    "ax.set_ylabel(\"Predicted\")\n",
    "ax.plot(sqlResults['_1'], fit[0] * sqlResults['_1'] + fit[1], color='magenta')\n",
    "plt.axis([-1, 15, -1, 15])\n",
    "plt.show(ax)"
   ]
  },
  {
   "cell_type": "markdown",
   "metadata": {},
   "source": [
    "## APPENDIX: ADDITIONAL REGRESSION TASKS (CV WITH PARAMETER SWEEPING)"
   ]
  },
  {
   "cell_type": "markdown",
   "metadata": {},
   "source": [
    "### Linear regression (Elastic net) using CrossValidator"
   ]
  },
  {
   "cell_type": "code",
   "execution_count": 38,
   "metadata": {
    "collapsed": false
   },
   "outputs": [
    {
     "name": "stdout",
     "output_type": "stream",
     "text": [
      "Time taken to execute above cell: 150.69 seconds\n",
      "/usr/hdp/current/spark-client/python/pyspark/ml/regression.py:123: UserWarning: weights is deprecated. Use coefficients instead.\n",
      "  warnings.warn(\"weights is deprecated. Use coefficients instead.\")"
     ]
    }
   ],
   "source": [
    "timestart = datetime.datetime.now()\n",
    "\n",
    "from pyspark.ml.regression import LinearRegression\n",
    "from pyspark.ml import Pipeline\n",
    "from pyspark.ml.evaluation import RegressionEvaluator\n",
    "from pyspark.ml.tuning import CrossValidator, ParamGridBuilder\n",
    "\n",
    "# Define algo / model\n",
    "lr = LinearRegression()\n",
    "\n",
    "# Define grid parameters\n",
    "paramGrid = ParamGridBuilder().addGrid(lr.regParam, (0.01, 0.1))\\\n",
    "                              .addGrid(lr.maxIter, (5, 10))\\\n",
    "                              .addGrid(lr.tol, (1e-4, 1e-5))\\\n",
    "                              .addGrid(lr.elasticNetParam, (0.25,0.75))\\\n",
    "                              .build() \n",
    "\n",
    "# Define pipeline, in this case, simply the modeling (without any transformations etc.)\n",
    "pipeline = Pipeline(stages=[lr])\n",
    "\n",
    "# Define CV with parameter sweep\n",
    "cv = CrossValidator(estimator= lr,\n",
    "                    estimatorParamMaps=paramGrid,\n",
    "                    evaluator=RegressionEvaluator(),\n",
    "                    numFolds=3)\n",
    "\n",
    "# Convert to data-frame, as CrossValidator won't run on RDDs\n",
    "trainDataFrame = sqlContext.createDataFrame(oneHotTRAINreg, [\"features\", \"label\"])\n",
    "\n",
    "# Train with cross-validation\n",
    "cv_model = cv.fit(trainDataFrame)\n",
    "\n",
    "timeend = datetime.datetime.now()\n",
    "timeend-timestart\n",
    "\n",
    "##########################################\n",
    "## EVALUATE MODEL ON TEST SET\n",
    "##########################################\n",
    "testDataFrame = sqlContext.createDataFrame(oneHotTESTreg, [\"features\", \"label\"])\n",
    "\n",
    "# Make predictions on test documents. cvModel uses the best model found (lrModel).\n",
    "predictionAndLabels = cv_model.transform(testDataFrame)\n",
    "\n",
    "# Convert to DF and save register DF as table\n",
    "predictionAndLabels.registerTempTable(\"tmp_results\");\n",
    "\n",
    "timeend = datetime.datetime.now()\n",
    "timedelta = round((timeend-timestart).total_seconds(), 2) \n",
    "print \"Time taken to execute above cell: \" + str(timedelta) + \" seconds\"; "
   ]
  },
  {
   "cell_type": "code",
   "execution_count": 39,
   "metadata": {
    "collapsed": true
   },
   "outputs": [],
   "source": [
    "%%sql -q -o sqlResults\n",
    "SELECT label,prediction from tmp_results"
   ]
  },
  {
   "cell_type": "code",
   "execution_count": 40,
   "metadata": {
    "collapsed": false
   },
   "outputs": [
    {
     "name": "stdout",
     "output_type": "stream",
     "text": [
      "R-sqr = 0.564016585075\n"
     ]
    }
   ],
   "source": [
    "%%local\n",
    "from scipy import stats\n",
    "\n",
    "corstats = stats.linregress(sqlResults['label'],sqlResults['prediction'])\n",
    "r2 = (corstats[2]*corstats[2])\n",
    "print(\"R-sqr = %s\" % r2)"
   ]
  },
  {
   "cell_type": "markdown",
   "metadata": {},
   "source": [
    "### Random Forest regression: CV with parameter sweep using custom code"
   ]
  },
  {
   "cell_type": "code",
   "execution_count": 41,
   "metadata": {
    "collapsed": false
   },
   "outputs": [
    {
     "name": "stdout",
     "output_type": "stream",
     "text": [
      "RMSE = 1.00698169839\n",
      "R-sqr = 0.674480212537\n",
      "Time taken to execute above cell: 66.47 seconds"
     ]
    }
   ],
   "source": [
    "timestart= datetime.datetime.now()\n",
    "\n",
    "# GET ACCURARY FOR HYPERPARAMETERS VASED ON CROSS-VALIDATION IN TRAINING DATA-SET\n",
    "from pyspark.mllib.tree import RandomForest, RandomForestModel\n",
    "from pyspark.mllib.util import MLUtils\n",
    "from pyspark.mllib.evaluation import RegressionMetrics\n",
    "from sklearn.grid_search import ParameterGrid\n",
    "\n",
    "## CREATE PARAMETER GRID\n",
    "grid = [{'maxDepth': [5,10], 'numTrees': [25,50]}]\n",
    "paramGrid = list(ParameterGrid(grid))\n",
    "\n",
    "## SPECIFY LEVELS OF CATEGORICAL VARIBLES\n",
    "categoricalFeaturesInfo={0:2, 1:2, 2:6, 3:4}\n",
    "\n",
    "# Specify numfolds and array to hold metrics\n",
    "nFolds = 3;\n",
    "numModels = len(paramGrid)\n",
    "h = 1.0 / nFolds;\n",
    "metricSum = np.zeros(numModels);\n",
    "\n",
    "for i in range(nFolds):\n",
    "    # Create training and x-validation sets\n",
    "    validateLB = i * h\n",
    "    validateUB = (i + 1) * h\n",
    "    condition = (trainData[\"rand\"] >= validateLB) & (trainData[\"rand\"] < validateUB)\n",
    "    validation = trainData.filter(condition)\n",
    "    # Create labeled points from data-frames\n",
    "    if i > 0:\n",
    "        trainCVLabPt.unpersist()\n",
    "        validationLabPt.unpersist()\n",
    "    trainCV = trainData.filter(~condition)\n",
    "    trainCVLabPt = trainCV.map(parseRowIndexingRegression)\n",
    "    trainCVLabPt.cache()\n",
    "    validationLabPt = validation.map(parseRowIndexingRegression)\n",
    "    validationLabPt.cache()\n",
    "    # For parameter sets compute metrics from x-validation\n",
    "    for j in range(numModels):\n",
    "        maxD = paramGrid[j]['maxDepth']\n",
    "        numT = paramGrid[j]['numTrees']\n",
    "        # Train logistic regression model with hypermarameter set\n",
    "        rfModel = RandomForest.trainRegressor(trainCVLabPt, categoricalFeaturesInfo=categoricalFeaturesInfo,\n",
    "                                    numTrees=numT, featureSubsetStrategy=\"auto\",\n",
    "                                    impurity='variance', maxDepth=maxD, maxBins=32)\n",
    "        predictions = rfModel.predict(validationLabPt.map(lambda x: x.features))\n",
    "        predictionAndLabels = validationLabPt.map(lambda lp: lp.label).zip(predictions)\n",
    "        # Use ROC-AUC as accuracy metrics\n",
    "        validMetrics = RegressionMetrics(predictionAndLabels)\n",
    "        metric = validMetrics.rootMeanSquaredError\n",
    "        metricSum[j] += metric\n",
    "\n",
    "avgAcc = metricSum/nFolds;\n",
    "bestParam = paramGrid[np.argmin(avgAcc)];\n",
    "\n",
    "# Unpersist objects\n",
    "trainCVLabPt.unpersist()\n",
    "validationLabPt.unpersist()\n",
    "        \n",
    "## TRAIN FINAL MODL WIHT BEST PARAMETERS\n",
    "rfModel = RandomForest.trainRegressor(indexedTRAINreg, categoricalFeaturesInfo=categoricalFeaturesInfo,\n",
    "                                    numTrees=bestParam['numTrees'], featureSubsetStrategy=\"auto\",\n",
    "                                    impurity='variance', maxDepth=bestParam['maxDepth'], maxBins=32)\n",
    "\n",
    "## EVALUATE MODEL ON TEST DATA\n",
    "predictions = rfModel.predict(indexedTESTreg.map(lambda x: x.features))\n",
    "predictionAndLabels = indexedTESTreg.map(lambda lp: lp.label).zip(predictions)\n",
    "\n",
    "testMetrics = RegressionMetrics(predictionAndLabels)\n",
    "print(\"RMSE = %s\" % testMetrics.rootMeanSquaredError)\n",
    "print(\"R-sqr = %s\" % testMetrics.r2)\n",
    "\n",
    "timeend = datetime.datetime.now()\n",
    "timedelta = round((timeend-timestart).total_seconds(), 2) \n",
    "print \"Time taken to execute above cell: \" + str(timedelta) + \" seconds\"; "
   ]
  },
  {
   "cell_type": "markdown",
   "metadata": {},
   "source": [
    "## Cleanup objects from memory, print final time, and print model locations"
   ]
  },
  {
   "cell_type": "markdown",
   "metadata": {},
   "source": [
    "#### Unpersist objects cached in memory"
   ]
  },
  {
   "cell_type": "code",
   "execution_count": 42,
   "metadata": {
    "collapsed": false
   },
   "outputs": [
    {
     "name": "stdout",
     "output_type": "stream",
     "text": [
      "PythonRDD[162] at RDD at PythonRDD.scala:43"
     ]
    }
   ],
   "source": [
    "# REMOVE ORIGINAL DFs\n",
    "taxi_df_train_cleaned.unpersist()\n",
    "taxi_df_train_with_newFeatures.unpersist()\n",
    "trainData.unpersist()\n",
    "trainData.unpersist()\n",
    "\n",
    "# FOR BINARY CLASSIFICATION TRAINING AND TESTING\n",
    "indexedTRAINbinary.unpersist()\n",
    "indexedTESTbinary.unpersist()\n",
    "oneHotTRAINbinary.unpersist()\n",
    "oneHotTESTbinary.unpersist()\n",
    "\n",
    "# FOR REGRESSION TRAINING AND TESTING\n",
    "indexedTRAINreg.unpersist()\n",
    "indexedTESTreg.unpersist()\n",
    "oneHotTRAINreg.unpersist()\n",
    "oneHotTESTreg.unpersist()\n",
    "\n",
    "# SCALED FEATURES\n",
    "oneHotTRAINregScaled.unpersist()\n",
    "oneHotTESTregScaled.unpersist()"
   ]
  },
  {
   "cell_type": "markdown",
   "metadata": {},
   "source": [
    "#### Print out path to model files to be used in the consumption notebook\n",
    "For consumption and scoring an independent data-set, you will need to copy and paste these file names in the \"Consumption notebook\"."
   ]
  },
  {
   "cell_type": "code",
   "execution_count": 43,
   "metadata": {
    "collapsed": false
   },
   "outputs": [
    {
     "name": "stdout",
     "output_type": "stream",
     "text": [
      "logisticRegFileLoc = modelDir + \"LogisticRegressionWithLBFGS_2016-04-2523_40_16.087332\"\n",
      "linearRegFileLoc = modelDir + \"LinearRegressionWithSGD_2016-04-2523_43_30.058765\"\n",
      "randomForestClassificationFileLoc = modelDir + \"RandomForestClassification_2016-04-2523_42_39.585378\"\n",
      "randomForestRegFileLoc = modelDir + \"RandomForestRegression_2016-04-2523_43_52.456436\"\n",
      "BoostedTreeClassificationFileLoc = modelDir + \"GradientBoostingTreeClassification_2016-04-2523_42_55.680761\"\n",
      "BoostedTreeRegressionFileLoc = modelDir + \"GradientBoostingTreeRegression_2016-04-2523_44_10.079694\""
     ]
    }
   ],
   "source": [
    "## MODEL FILE LOCATIONS FOR CONSUMPTION\n",
    "print \"logisticRegFileLoc = modelDir + \\\"\" + logisticregressionfilename + \"\\\"\";\n",
    "print \"linearRegFileLoc = modelDir + \\\"\" + linearregressionfilename + \"\\\"\";\n",
    "print \"randomForestClassificationFileLoc = modelDir + \\\"\" + rfclassificationfilename + \"\\\"\";\n",
    "print \"randomForestRegFileLoc = modelDir + \\\"\" + rfregressionfilename + \"\\\"\";\n",
    "print \"BoostedTreeClassificationFileLoc = modelDir + \\\"\" + btclassificationfilename + \"\\\"\";\n",
    "print \"BoostedTreeRegressionFileLoc = modelDir + \\\"\" + btregressionfilename + \"\\\"\";"
   ]
  },
  {
   "cell_type": "markdown",
   "metadata": {},
   "source": [
    "#### Print finish time"
   ]
  },
  {
   "cell_type": "code",
   "execution_count": 44,
   "metadata": {
    "collapsed": false
   },
   "outputs": [
    {
     "name": "stdout",
     "output_type": "stream",
     "text": [
      "datetime.datetime(2016, 4, 25, 23, 50, 8, 602433)"
     ]
    }
   ],
   "source": [
    "datetime.datetime.now()"
   ]
  }
 ],
 "metadata": {
  "celltoolbar": "Raw Cell Format",
  "kernelspec": {
   "display_name": "PySpark",
   "language": "",
   "name": "pysparkkernel"
  },
  "language_info": {
   "codemirror_mode": {
    "name": "python"
   },
   "mimetype": "text/x-python",
   "name": "pyspark",
   "pygments_lexer": "python2"
  }
 },
 "nbformat": 4,
 "nbformat_minor": 0
}