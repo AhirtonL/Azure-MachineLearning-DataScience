{
 "cells": [
  {
   "cell_type": "markdown",
   "metadata": {
    "raw_mimetype": "text/markdown"
   },
   "source": [
    "# Data Exploration and ML Modeling using Spark on HDInsight 2.0 cluster"
   ]
  },
  {
   "cell_type": "markdown",
   "metadata": {},
   "source": [
    "------------\n",
    "### Overview\n",
    "\n",
    "This notebook helps you to get started with using Spark HDInsight clusters for data science and machine learning (ML).\n",
    "\n",
    "We have Jupyter notebooks <a href=\"https://github.com/Azure/Azure-MachineLearning-DataScience/blob/master/Misc/Spark/pySpark/Readme.md\" target=\"_blank\">published in GitHub</a>, with detailed descriptions. Notebooks have been published that can be run on both Spark 1.6 and Spark 2.0 clusters. \n",
    "\n",
    "We had previously published a detailed walkthrough <a href=\"https://azure.microsoft.com/en-us/documentation/articles/machine-learning-data-science-spark-overview/\" target=\"_blank\">Data Science Process on Spark</a>, a suite of topics and pySpark notebooks on a public GitHub repository that show how to use HDInsight Spark and the <a href=\"http://spark.apache.org/docs/latest/mllib-guide.html\" target=\"_blank\">MLlib API</a> to conduct common data science and machine learning (ML) tasks, such as:\n",
    "\n",
    "1. Data ingestion\n",
    "\n",
    "2. Data exploration and visualization\n",
    "\n",
    "3. Feature engineering\n",
    "\n",
    "4. Creating ML models and evaluating those models\n",
    "\n",
    "5. Saving ML models and consuming ML models\n",
    "\n",
    "\n",
    "We have now published notebooks that will run on a Spark 2.0 cluster (tested on Spark 2.0.2 HDI cluster)"
   ]
  },
  {
   "cell_type": "markdown",
   "metadata": {},
   "source": [
    "----------\n",
    "### How to load and run the notebooks from GitHub:\n",
    "\n",
    "<a href=\"https://azure.microsoft.com/en-us/documentation/articles/machine-learning-data-science-spark-overview/#execute-code-from-a-jupyter-notebook-on-the-spark-cluster\" target=\"_blank\">Instructions</a> for loading the notebooks are provided in the Overview topic (see section: \"Execute code from a Jupyter notebook on the Spark cluster\"). Note that you will have to load the \"raw\" version of a <a href=\"https://github.com/Azure/Azure-MachineLearning-DataScience/blob/master/Misc/Spark/pySpark/pySpark-machine-learning-data-science-spark-data-exploration-modeling.ipynb\" target=\"_blank\">notebook</a> from GitHub, which you can access by clicking \"Raw\" near the top right of the notebooks."
   ]
  }
 ],
 "metadata": {
  "celltoolbar": "Raw Cell Format",
  "kernelspec": {
   "display_name": "PySpark",
   "language": "",
   "name": "pysparkkernel"
  },
  "language_info": {
   "codemirror_mode": {
    "name": "python",
    "version": 2
   },
   "mimetype": "text/x-python",
   "name": "pyspark",
   "pygments_lexer": "python2"
  }
 },
 "nbformat": 4,
 "nbformat_minor": 0
}