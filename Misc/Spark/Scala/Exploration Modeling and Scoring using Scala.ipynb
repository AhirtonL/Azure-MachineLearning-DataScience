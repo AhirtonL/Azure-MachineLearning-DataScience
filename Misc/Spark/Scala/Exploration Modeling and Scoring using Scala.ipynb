{
 "cells": [
  {
   "cell_type": "markdown",
   "metadata": {},
   "source": [
    "# Exploration and ML Models with Sampled NYC Taxi Trip and Fare Dataset using Scala"
   ]
  },
  {
   "cell_type": "markdown",
   "metadata": {},
   "source": [
    "###### Expected time to run this Notebook: \n",
    "About 5 mins on a HDInsight Spark (version 1.6) cluster with 4 worker nodes (D12)"
   ]
  },
  {
   "cell_type": "markdown",
   "metadata": {},
   "source": [
    "## INTRODUCTION, OBJECTIVE AND ORGANIZATION"
   ]
  },
  {
   "cell_type": "markdown",
   "metadata": {},
   "source": [
    "### INTRODUCTION\n",
    "Here we show some features and capabilities of Spark's MLlib and SparkML toolkits for supervised machine learning (ML) problems using <a href=\"http://www.andresmh.com/nyctaxitrips/\" target=\"_blank\">the NYC taxi trip and fare data-set from 2013</a>. We take a 0.1% sample of this data-set (about 170K rows, 35 Mb) to to show an end-to-end data science process, including data exploration, visualization, modeling, model saving, and scoring for binary classification and regression problems using this data-set. \n",
    "\n",
    "This notebook is written in Scala. We have released similar notebooks in <a href=\"https://azure.microsoft.com/en-us/documentation/articles/machine-learning-data-science-spark-overview/\" target=\"_blank\">Python</a> earlier to show how to perform end-to-end data-science process. We provide a shorter version of the notebook here, showing the process and functions in Scala."
   ]
  },
  {
   "cell_type": "markdown",
   "metadata": {},
   "source": [
    "### OBJECTIVE: To show use of Spark's native Spark ML and MLlib machine learning functions for ML tasks using Scala\n",
    "\n",
    "\n",
    "#### We address two common supervised machine learning tasks\n",
    "1. Regression problem: Prediction of the tip amonut ($)\n",
    "2. Binary classification: Prediction of tip or no-tip (1/0) for a taxi trip\n",
    "\n",
    "#### Modeling section is be split into steps: \n",
    "1. Model training \n",
    "2. Model evaluation on a test data set with relevant accuracy metrics\n",
    "3. Saving model in Azure blob for future consumption\n",
    "4. Loading a saved model to score a data-set\n",
    "\n",
    "We present three appreaches: linear (logistic or linear regression), Random Forest and Boosted Trees.\n",
    "\n",
    "\n",
    "#### NOTES:\n",
    "1. At this time models can be created using MLlib (with RDDs) as well as Spark ML functions (with data-frames). As of Spark version 1.6, there are some limitations in terms of available functions to save/load models created using Spark ML functions (e.g. Cross-validator models from various modeling approaches besides linear models).\n",
    "\n",
    "2. For using tree-based modeling functions from Spark ML and MLlib, target and features have to be indexed or vectorized appropriately. We have shown how to accomplish this in the data preparation and feature engineering section."
   ]
  },
  {
   "cell_type": "markdown",
   "metadata": {},
   "source": [
    "### ORGANIZATION: We have organized this walkthrough into the following sections: "
   ]
  },
  {
   "cell_type": "markdown",
   "metadata": {},
   "source": [
    "#### [1. Data ingestion from public blob](#ingestion)\n",
    "Ingests CSV file, creates data-frame, and registre temporary table"
   ]
  },
  {
   "cell_type": "markdown",
   "metadata": {},
   "source": [
    "#### [2. Data exploration & visualization](#exploration)\n",
    "Visualize data using Jupyter's autovisualization features, as well as, Python's matplotlib functions on pandas data-frames"
   ]
  },
  {
   "cell_type": "markdown",
   "metadata": {},
   "source": [
    "#### [3. Data preparation, feature engineering, and feature transformation](#transformation)\n",
    "Index categorical features, convert numerical variable to categorical using SQL, create RRDs (LabeledPoint) and data-frames for input into modeling functions"
   ]
  },
  {
   "cell_type": "markdown",
   "metadata": {},
   "source": [
    "#### [4. Binary classification problem: Modeling, model evaluation and persistance](#binary)\n",
    "Create binary classification models, save model in blob, and evaluate model on test data"
   ]
  },
  {
   "cell_type": "markdown",
   "metadata": {},
   "source": [
    "#### [5. Regression problem: Modeling, model evaluation, and persistance](#regression)\n",
    "Create regression models, save model in blob, load model, and evaluate test data"
   ]
  },
  {
   "cell_type": "markdown",
   "metadata": {},
   "source": [
    "#### [6. Advanced training with cross-validation and model hyper-parameter tuning](#advanced)\n",
    "We show how to optimize model using CV or train-validation split and model hyper-parameter sweeping"
   ]
  },
  {
   "cell_type": "markdown",
   "metadata": {},
   "source": [
    "#### [7. Automated scoring and consumption of ML models built on Spark](#consumption)\n",
    "We provide pointers describing how a saved ML model can be used to automatically score new data-sets"
   ]
  },
  {
   "cell_type": "markdown",
   "metadata": {},
   "source": [
    "### BACKGROUND\n",
    "\n",
    "1. <a href=\"https://azure.microsoft.com/en-us/documentation/articles/hdinsight-apache-spark-zeppelin-notebook-jupyter-spark-sql/\" target=\"_blank\">How to provision a HDI cluster running Spark</a>\n",
    "\n",
    "2. <a href=\"http://www.andresmh.com/nyctaxitrips/\" target=\"_blank\">NYC 2013 Taxi data</a>"
   ]
  },
  {
   "cell_type": "markdown",
   "metadata": {},
   "source": [
    "<hr>"
   ]
  },
  {
   "cell_type": "code",
   "execution_count": 1,
   "metadata": {
    "collapsed": false
   },
   "outputs": [
    {
     "name": "stdout",
     "output_type": "stream",
     "text": [
      "Creating SparkContext as 'sc'\n",
      "Creating HiveContext as 'sqlContext'\n",
      "beginningTime: java.util.Date = Mon Jun 27 19:46:58 UTC 2016"
     ]
    }
   ],
   "source": [
    "import java.util.Calendar\n",
    "val beginningTime = Calendar.getInstance().getTime()"
   ]
  },
  {
   "cell_type": "markdown",
   "metadata": {},
   "source": [
    "<hr>"
   ]
  },
  {
   "cell_type": "markdown",
   "metadata": {},
   "source": [
    "### IMPORT FUNCTIONS"
   ]
  },
  {
   "cell_type": "code",
   "execution_count": 2,
   "metadata": {
    "collapsed": false
   },
   "outputs": [
    {
     "name": "stdout",
     "output_type": "stream",
     "text": [
      "sqlContext: org.apache.spark.sql.SQLContext = org.apache.spark.sql.SQLContext@f7327e"
     ]
    }
   ],
   "source": [
    "import org.apache.spark.sql.SQLContext\n",
    "import org.apache.spark.sql.functions._\n",
    "import java.text.SimpleDateFormat\n",
    "import java.util.Calendar\n",
    "import sqlContext.implicits._\n",
    "import org.apache.spark.sql.Row\n",
    "\n",
    "// Spark SQL functions\n",
    "import org.apache.spark.sql.types.{StructType, StructField, StringType, IntegerType, FloatType, DoubleType}\n",
    "import org.apache.spark.sql.functions.rand\n",
    "\n",
    "// Spark ML functions\n",
    "import org.apache.spark.ml.Pipeline\n",
    "import org.apache.spark.ml.feature.{StringIndexer, VectorAssembler, OneHotEncoder, VectorIndexer, Binarizer}\n",
    "import org.apache.spark.ml.tuning.{ParamGridBuilder, TrainValidationSplit, CrossValidator}\n",
    "import org.apache.spark.ml.regression.{LinearRegression, LinearRegressionModel, RandomForestRegressor, RandomForestRegressionModel, GBTRegressor, GBTRegressionModel}\n",
    "import org.apache.spark.ml.classification.{LogisticRegression, LogisticRegressionModel, RandomForestClassifier, RandomForestClassificationModel, GBTClassifier, GBTClassificationModel}\n",
    "import org.apache.spark.ml.evaluation.{BinaryClassificationEvaluator, RegressionEvaluator, MulticlassClassificationEvaluator}\n",
    "\n",
    "// MLlib functions\n",
    "import org.apache.spark.mllib.linalg.{Vector, Vectors}\n",
    "import org.apache.spark.mllib.util.MLUtils\n",
    "import org.apache.spark.mllib.classification.{LogisticRegressionWithLBFGS, LogisticRegressionModel}\n",
    "import org.apache.spark.mllib.regression.{LabeledPoint, LinearRegressionWithSGD, LinearRegressionModel}\n",
    "import org.apache.spark.mllib.tree.{GradientBoostedTrees, RandomForest}\n",
    "import org.apache.spark.mllib.tree.configuration.BoostingStrategy\n",
    "import org.apache.spark.mllib.tree.model.{GradientBoostedTreesModel, RandomForestModel, Predict}\n",
    "import org.apache.spark.mllib.evaluation.{BinaryClassificationMetrics, MulticlassMetrics, RegressionMetrics}\n",
    "\n",
    "val sqlContext = new SQLContext(sc)"
   ]
  },
  {
   "cell_type": "markdown",
   "metadata": {},
   "source": [
    "<hr>"
   ]
  },
  {
   "cell_type": "markdown",
   "metadata": {},
   "source": [
    "<a name=\"ingestion\"></a>\n",
    "## 1. DATA INGESTION: Read in joined 0.1% taxi trip and fare file (as tsv), format and clean data, and create data-frame"
   ]
  },
  {
   "cell_type": "markdown",
   "metadata": {},
   "source": [
    "###### Specify location of input file and storage location for models in the Azure blob taht is attached to the cluster"
   ]
  },
  {
   "cell_type": "code",
   "execution_count": 3,
   "metadata": {
    "collapsed": false
   },
   "outputs": [
    {
     "name": "stdout",
     "output_type": "stream",
     "text": [
      "modelDir: String = wasb:///user/remoteuser/NYCTaxi/Models/"
     ]
    }
   ],
   "source": [
    "// Location of training data\n",
    "val taxi_train_file = sc.textFile(\"wasb://mllibwalkthroughs@cdspsparksamples.blob.core.windows.net/Data/NYCTaxi/JoinedTaxiTripFare.Point1Pct.Train.tsv\")\n",
    "val header = taxi_train_file.first;\n",
    "\n",
    "// Set model storage directory path. This is where models will be saved.\n",
    "val modelDir = \"wasb:///user/remoteuser/NYCTaxi/Models/\"; //The last backslash is needed;"
   ]
  },
  {
   "cell_type": "markdown",
   "metadata": {},
   "source": [
    "###### Import data, create RDD and define data-frame according to schema"
   ]
  },
  {
   "cell_type": "code",
   "execution_count": 4,
   "metadata": {
    "collapsed": false
   },
   "outputs": [
    {
     "name": "stdout",
     "output_type": "stream",
     "text": [
      "Time taken to run the above cell: 8 seconds."
     ]
    }
   ],
   "source": [
    "val starttime = Calendar.getInstance().getTime()\n",
    "\n",
    "/* DEFINE SCHEMA BASED ON HEADER OF THE FILE */\n",
    "val sqlContext = new SQLContext(sc)\n",
    "val taxi_schema = StructType(\n",
    "    Array(\n",
    "        StructField(\"medallion\", StringType, true), \n",
    "        StructField(\"hack_license\", StringType, true),\n",
    "        StructField(\"vendor_id\", StringType, true), \n",
    "        StructField(\"rate_code\", DoubleType, true),\n",
    "        StructField(\"store_and_fwd_flag\", StringType, true),\n",
    "        StructField(\"pickup_datetime\", StringType, true),\n",
    "        StructField(\"dropoff_datetime\", StringType, true),\n",
    "        StructField(\"pickup_hour\", DoubleType, true),\n",
    "        StructField(\"pickup_week\", DoubleType, true),\n",
    "        StructField(\"weekday\", DoubleType, true),\n",
    "        StructField(\"passenger_count\", DoubleType, true),\n",
    "        StructField(\"trip_time_in_secs\", DoubleType, true),\n",
    "        StructField(\"trip_distance\", DoubleType, true),\n",
    "        StructField(\"pickup_longitude\", DoubleType, true),\n",
    "        StructField(\"pickup_latitude\", DoubleType, true),\n",
    "        StructField(\"dropoff_longitude\", DoubleType, true),\n",
    "        StructField(\"dropoff_latitude\", DoubleType, true),\n",
    "        StructField(\"direct_distance\", StringType, true),\n",
    "        StructField(\"payment_type\", StringType, true),\n",
    "        StructField(\"fare_amount\", DoubleType, true),\n",
    "        StructField(\"surcharge\", DoubleType, true),\n",
    "        StructField(\"mta_tax\", DoubleType, true),\n",
    "        StructField(\"tip_amount\", DoubleType, true),\n",
    "        StructField(\"tolls_amount\", DoubleType, true),\n",
    "        StructField(\"total_amount\", DoubleType, true),\n",
    "        StructField(\"tipped\", DoubleType, true),\n",
    "        StructField(\"tip_class\", DoubleType, true)\n",
    "        )\n",
    "    )\n",
    "\n",
    "/* CAST VARIABLES ACCORDING TO SCHEMA */\n",
    "val taxi_temp = (taxi_train_file.map(_.split(\"\\t\"))\n",
    "                        .filter((r) => r(0) != \"medallion\")\n",
    "                        .map(p => Row(p(0), p(1), p(2),\n",
    "                            p(3).toDouble, p(4), p(5), p(6), p(7).toDouble, p(8).toDouble, p(9).toDouble, p(10).toDouble,\n",
    "                            p(11).toDouble, p(12).toDouble, p(13).toDouble, p(14).toDouble, p(15).toDouble, p(16).toDouble,\n",
    "                            p(17), p(18), p(19).toDouble, p(20).toDouble, p(21).toDouble, p(22).toDouble,\n",
    "                            p(23).toDouble, p(24).toDouble, p(25).toDouble, p(26).toDouble)))\n",
    "\n",
    "\n",
    "/* CREATE INITIAL DATA-FRAME, DROP COLUMNS, AND CREATE CLEANED DATA-FRAME BY FILTERING FOR UNDESIRED VALUES OR OUTLIERS */\n",
    "val taxi_train_df = sqlContext.createDataFrame(taxi_temp, taxi_schema)\n",
    "\n",
    "val taxi_df_train_cleaned = (taxi_train_df.drop(taxi_train_df.col(\"medallion\"))\n",
    "        .drop(taxi_train_df.col(\"hack_license\")).drop(taxi_train_df.col(\"store_and_fwd_flag\"))\n",
    "        .drop(taxi_train_df.col(\"pickup_datetime\")).drop(taxi_train_df.col(\"dropoff_datetime\"))\n",
    "        .drop(taxi_train_df.col(\"pickup_longitude\")).drop(taxi_train_df.col(\"pickup_latitude\"))\n",
    "        .drop(taxi_train_df.col(\"dropoff_longitude\")).drop(taxi_train_df.col(\"dropoff_latitude\"))\n",
    "        .drop(taxi_train_df.col(\"surcharge\")).drop(taxi_train_df.col(\"mta_tax\"))\n",
    "        .drop(taxi_train_df.col(\"direct_distance\")).drop(taxi_train_df.col(\"tolls_amount\"))\n",
    "        .drop(taxi_train_df.col(\"total_amount\")).drop(taxi_train_df.col(\"tip_class\"))\n",
    "        .filter(\"passenger_count > 0 and passenger_count < 8 AND payment_type in ('CSH', 'CRD') AND tip_amount >= 0 AND tip_amount < 30 AND fare_amount >= 1 AND fare_amount < 150 AND trip_distance > 0 AND trip_distance < 100 AND trip_time_in_secs > 30 AND trip_time_in_secs < 7200\"));\n",
    "\n",
    "/* CACHE AND MATERIALIZE CLEANED DATA-FRAME IN MEMORY */\n",
    "taxi_df_train_cleaned.cache()\n",
    "taxi_df_train_cleaned.count()\n",
    "\n",
    "/* REGISTER DATA-FRAME AS A TEMP-TABLE IN SQL-CONTEXT */\n",
    "taxi_df_train_cleaned.registerTempTable(\"taxi_train\")\n",
    "\n",
    "/* GET TIME TO RUN THE CELL */\n",
    "val endtime = Calendar.getInstance().getTime()\n",
    "val elapsedtime =  ((endtime.getTime() - starttime.getTime())/1000).toString;\n",
    "println(\"Time taken to run the above cell: \" + elapsedtime + \" seconds.\");"
   ]
  },
  {
   "cell_type": "markdown",
   "metadata": {},
   "source": [
    "###### Query table and import results in a data-frame"
   ]
  },
  {
   "cell_type": "code",
   "execution_count": 5,
   "metadata": {
    "collapsed": false
   },
   "outputs": [
    {
     "name": "stdout",
     "output_type": "stream",
     "text": [
      "+-----------+---------------+----------+------+\n",
      "|fare_amount|passenger_count|tip_amount|tipped|\n",
      "+-----------+---------------+----------+------+\n",
      "|       13.5|            1.0|       2.9|   1.0|\n",
      "|       16.0|            2.0|       3.4|   1.0|\n",
      "|       10.5|            2.0|       1.0|   1.0|\n",
      "+-----------+---------------+----------+------+\n",
      "only showing top 3 rows"
     ]
    }
   ],
   "source": [
    "val sqlStatement = \"\"\"\n",
    "    SELECT fare_amount, passenger_count, tip_amount, tipped\n",
    "    FROM taxi_train \n",
    "    WHERE passenger_count > 0 AND passenger_count < 7\n",
    "    AND fare_amount > 0 AND fare_amount < 200\n",
    "    AND payment_type in ('CSH', 'CRD')\n",
    "    AND tip_amount > 0 AND tip_amount < 25\n",
    "\"\"\"\n",
    "val sqlResultsDF = sqlContext.sql(sqlStatement)\n",
    "\n",
    "sqlResultsDF.show(3)"
   ]
  },
  {
   "cell_type": "markdown",
   "metadata": {},
   "source": [
    "<hr>"
   ]
  },
  {
   "cell_type": "markdown",
   "metadata": {},
   "source": [
    "<a name=\"exploration\"></a>\n",
    "## 2. DATA EXPLORATION AND VISUALIZATION: Plotting of target variables and features"
   ]
  },
  {
   "cell_type": "markdown",
   "metadata": {},
   "source": [
    "###### Query a table and import results into data-frame, create a local pandas data-frame, and then visualize using Jupyter's autovisualization feature"
   ]
  },
  {
   "cell_type": "markdown",
   "metadata": {},
   "source": [
    "###### NOTE: \n",
    "You can use the <b>`%%local`</b> magic to run your code locally on the Jupyter server, which is the headnode of the HDInsight cluster. Here's a typical use case for this scenario. \n",
    "\n",
    "By default, the output of any code snippet that you run from a Jupyter notebook is available within the context of the session that is persisted on the worker nodes. However, if you want to save a trip to the worker nodes for every computation, and all the data that you need for your computation is available locally on the Jupyter server node (which is the headnode), you can use the `%%local` magic to run the code snippet on the Jupyter server. Typically, you would use `%%local` magic in conjunction with the `%%sql` magic with `-o` parameter. The `-o` parameter would persist the output of the SQL query locally and then `%%local` magic would trigger the next set of code snippet to run locally against the output of the SQL queries that is persisted locally.\n",
    "\n",
    "In the cells below, the %%local magic creates a local data-frame, sqlResults, which can be used for plotting using matplotlib. This is used multiple times in this walkthrough. <b>If the amount of data is large, please sample to create a data-frame that can fit in local memory</b>."
   ]
  },
  {
   "cell_type": "markdown",
   "metadata": {},
   "source": [
    "----------\n",
    "##### NOTE:\n",
    "\n",
    "Automatic visualization of queries \n",
    "\n",
    "The Pyspark kernel automatically visualizes the output of SQL (HiveQL) queries. You are given the option to choose between several different types of visualizations:\n",
    "- Table\n",
    "- Pie\n",
    "- Line \n",
    "- Area\n",
    "- Bar"
   ]
  },
  {
   "cell_type": "code",
   "execution_count": 6,
   "metadata": {
    "collapsed": false
   },
   "outputs": [],
   "source": [
    "%%sql -q -o sqlResults\n",
    "SELECT fare_amount, passenger_count, tip_amount, tipped FROM taxi_train WHERE passenger_count > 0 AND passenger_count < 7 AND fare_amount > 0 AND fare_amount < 200 AND payment_type in ('CSH', 'CRD') AND tip_amount > 0 AND tip_amount < 25"
   ]
  },
  {
   "cell_type": "markdown",
   "metadata": {},
   "source": [
    "### Visualize using Jupyter autovisualization feature"
   ]
  },
  {
   "cell_type": "code",
   "execution_count": 7,
   "metadata": {
    "collapsed": true
   },
   "outputs": [],
   "source": [
    "%%local\n",
    "sqlResults"
   ]
  },
  {
   "cell_type": "markdown",
   "metadata": {},
   "source": [
    "### One can plot using Python code once the data-frame is in local context as pandas data-frame"
   ]
  },
  {
   "cell_type": "code",
   "execution_count": 8,
   "metadata": {
    "collapsed": false
   },
   "outputs": [
    {
     "data": {
      "image/png": "[encoded data removed]",
      "text/plain": [
       "<matplotlib.figure.Figure at 0x7f47a0013190>"
      ]
     },
     "metadata": {},
     "output_type": "display_data"
    },
    {
     "data": {
      "image/png": "[encoded data removed]",
      "text/plain": [
       "<matplotlib.figure.Figure at 0x7f4798169110>"
      ]
     },
     "metadata": {},
     "output_type": "display_data"
    },
    {
     "data": {
      "image/png": "[encoded data removed]",
      "text/plain": [
       "<matplotlib.figure.Figure at 0x7f478e870b50>"
      ]
     },
     "metadata": {},
     "output_type": "display_data"
    }
   ],
   "source": [
    "%%local\n",
    "import matplotlib.pyplot as plt\n",
    "%matplotlib inline\n",
    "\n",
    "# TIP BY PAYMENT TYPE AND PASSENGER COUNT\n",
    "ax1 = sqlResults[['tip_amount']].plot(kind='hist', bins=25, facecolor='lightblue')\n",
    "ax1.set_title('Tip amount distribution')\n",
    "ax1.set_xlabel('Tip Amount ($)')\n",
    "ax1.set_ylabel('Counts')\n",
    "plt.suptitle('')\n",
    "plt.show()\n",
    "\n",
    "# TIP BY PASSENGER COUNT\n",
    "ax2 = sqlResults.boxplot(column=['tip_amount'], by=['passenger_count'])\n",
    "ax2.set_title('Tip amount by Passenger count')\n",
    "ax2.set_xlabel('Passenger count')\n",
    "ax2.set_ylabel('Tip Amount ($)')\n",
    "plt.suptitle('')\n",
    "plt.show()\n",
    "\n",
    "# TIP AMOUNT BY FARE AMOUNT, POINTS ARE SCALED BY PASSENGER COUNT\n",
    "ax = sqlResults.plot(kind='scatter', x= 'fare_amount', y = 'tip_amount', c='blue', alpha = 0.10, s=5*(sqlResults.passenger_count))\n",
    "ax.set_title('Tip amount by Fare amount')\n",
    "ax.set_xlabel('Fare Amount ($)')\n",
    "ax.set_ylabel('Tip Amount ($)')\n",
    "plt.axis([-2, 80, -2, 20])\n",
    "plt.show()"
   ]
  },
  {
   "cell_type": "markdown",
   "metadata": {},
   "source": [
    "<a name=\"transformation\"></a>\n",
    "## 3. CREATING FEATURES, TRANSFORMATION OF FEATURES, AND DATA PREP FOR INPUT INTO MODELING FUNCTIONS"
   ]
  },
  {
   "cell_type": "markdown",
   "metadata": {},
   "source": [
    "### Create a new feature by binning hours into traffic time buckets"
   ]
  },
  {
   "cell_type": "code",
   "execution_count": 9,
   "metadata": {
    "collapsed": false
   },
   "outputs": [
    {
     "name": "stdout",
     "output_type": "stream",
     "text": [
      "res35: Long = 126050"
     ]
    }
   ],
   "source": [
    "/* CREATE FOUR BUCKETS FOR TRAFFIC TIMES */\n",
    "val sqlStatement = \"\"\"\n",
    "    SELECT *,\n",
    "    CASE\n",
    "     WHEN (pickup_hour <= 6 OR pickup_hour >= 20) THEN \"Night\" \n",
    "     WHEN (pickup_hour >= 7 AND pickup_hour <= 10) THEN \"AMRush\" \n",
    "     WHEN (pickup_hour >= 11 AND pickup_hour <= 15) THEN \"Afternoon\"\n",
    "     WHEN (pickup_hour >= 16 AND pickup_hour <= 19) THEN \"PMRush\"\n",
    "    END as TrafficTimeBins\n",
    "    FROM taxi_train \n",
    "\"\"\"\n",
    "val taxi_df_train_with_newFeatures = sqlContext.sql(sqlStatement)\n",
    "\n",
    "/* CACHE DATA-FRAME IN MEMORY & MATERIALIZE DF IN MEMORY */\n",
    "taxi_df_train_with_newFeatures.cache()\n",
    "taxi_df_train_with_newFeatures.count()"
   ]
  },
  {
   "cell_type": "markdown",
   "metadata": {},
   "source": [
    "### Indexing and one-hot encoding of categorical features"
   ]
  },
  {
   "cell_type": "markdown",
   "metadata": {},
   "source": [
    "Here we only transform four variables to show examples, which are character strings. Other variables, such as week-day, which are represented by numerical valies, can also be indexed as categorical variables.\n",
    "\n",
    "For indexing, we used stringIndexer, and for one-hot encoding, we used OneHotEncoder functions from MLlib."
   ]
  },
  {
   "cell_type": "code",
   "execution_count": 10,
   "metadata": {
    "collapsed": false
   },
   "outputs": [
    {
     "name": "stdout",
     "output_type": "stream",
     "text": [
      "Time taken to run the above cell: 4 seconds."
     ]
    }
   ],
   "source": [
    "// HERE WE CREATE INDEXES, AND ONE-HOT ENCODED VECTORS FOR SEVERAL CATEGORICAL FEATURES\n",
    "val starttime = Calendar.getInstance().getTime()\n",
    "\n",
    "val stringIndexer = new StringIndexer().setInputCol(\"vendor_id\").setOutputCol(\"vendorIndex\").fit(taxi_df_train_with_newFeatures)\n",
    "val indexed = stringIndexer.transform(taxi_df_train_with_newFeatures)\n",
    "val encoder = new OneHotEncoder().setInputCol(\"vendorIndex\").setOutputCol(\"vendorVec\")\n",
    "val encoded1 = encoder.transform(indexed)\n",
    "\n",
    "val stringIndexer = new StringIndexer().setInputCol(\"rate_code\").setOutputCol(\"rateIndex\").fit(encoded1)\n",
    "val indexed = stringIndexer.transform(encoded1)\n",
    "val encoder = new OneHotEncoder().setInputCol(\"rateIndex\").setOutputCol(\"rateVec\")\n",
    "val encoded2 = encoder.transform(indexed)\n",
    "\n",
    "val stringIndexer = new StringIndexer().setInputCol(\"payment_type\").setOutputCol(\"paymentIndex\").fit(encoded2)\n",
    "val indexed = stringIndexer.transform(encoded2)\n",
    "val encoder = new OneHotEncoder().setInputCol(\"paymentIndex\").setOutputCol(\"paymentVec\")\n",
    "val encoded3 = encoder.transform(indexed)\n",
    "\n",
    "val stringIndexer = new StringIndexer().setInputCol(\"TrafficTimeBins\").setOutputCol(\"TrafficTimeBinsIndex\").fit(encoded3)\n",
    "val indexed = stringIndexer.transform(encoded3)\n",
    "val encoder = new OneHotEncoder().setInputCol(\"TrafficTimeBinsIndex\").setOutputCol(\"TrafficTimeBinsVec\")\n",
    "val encodedFinal = encoder.transform(indexed)\n",
    "\n",
    "/* GET TIME TO RUN THE CELL */\n",
    "val endtime = Calendar.getInstance().getTime()\n",
    "val elapsedtime =  ((endtime.getTime() - starttime.getTime())/1000).toString;\n",
    "println(\"Time taken to run the above cell: \" + elapsedtime + \" seconds.\");"
   ]
  },
  {
   "cell_type": "markdown",
   "metadata": {},
   "source": [
    "### Split data-set into training and test. Add a random number (between 0 and 1) to reach row (in \"rand\" column). The rand column can be used to select cross-validation folds during training"
   ]
  },
  {
   "cell_type": "code",
   "execution_count": 11,
   "metadata": {
    "collapsed": false
   },
   "outputs": [
    {
     "name": "stdout",
     "output_type": "stream",
     "text": [
      "Time taken to run the above cell: 2 seconds."
     ]
    }
   ],
   "source": [
    "val starttime = Calendar.getInstance().getTime()\n",
    "\n",
    "val samplingFraction = 0.25;\n",
    "val trainingFraction = 0.75; \n",
    "val testingFraction = (1-trainingFraction);\n",
    "val seed = 1234;\n",
    "val encodedFinalSampledTmp = encodedFinal.sample(withReplacement = false, fraction = samplingFraction, seed = seed)\n",
    "val sampledDFcount = encodedFinalSampledTmp.count().toInt\n",
    "\n",
    "val generateRandomDouble = udf(() => {\n",
    "    scala.util.Random.nextDouble\n",
    "})\n",
    "\n",
    "val encodedFinalSampled = encodedFinalSampledTmp.withColumn(\"rand\", generateRandomDouble());\n",
    "\n",
    "// SPLIT SAMPLED DATA-FRAME INTO TRAIN/TEST, WITH A RANDOM COLUMN ADDED FOR DOING CV (SHOWN LATER)\n",
    "// INCLUDE RAND COLUMN FOR CREATING CROSS-VALIDATION FOLDS\n",
    "val splits = encodedFinalSampled.randomSplit(Array(trainingFraction, testingFraction), seed = seed)\n",
    "val trainData = splits(0)\n",
    "val testData = splits(1)\n",
    "\n",
    "/* GET TIME TO RUN THE CELL */\n",
    "val endtime = Calendar.getInstance().getTime()\n",
    "val elapsedtime =  ((endtime.getTime() - starttime.getTime())/1000).toString;\n",
    "println(\"Time taken to run the above cell: \" + elapsedtime + \" seconds.\");"
   ]
  },
  {
   "cell_type": "markdown",
   "metadata": {},
   "source": [
    "### Specify target (dependant) variable and features to be used training. Create indexed or one-hot encoded training and testing input LabeledPoint RDDs or Data-Frames. "
   ]
  },
  {
   "cell_type": "code",
   "execution_count": 12,
   "metadata": {
    "collapsed": false
   },
   "outputs": [
    {
     "name": "stdout",
     "output_type": "stream",
     "text": [
      "Time taken to run the above cell: 4 seconds."
     ]
    }
   ],
   "source": [
    "val starttime = Calendar.getInstance().getTime()\n",
    "\n",
    "// MAP NAMES OF FEATURES AND TARGETS FOR CLASSIFICATION AND REGRESSION PROBLEMS.\n",
    "val featuresIndOneHot = List(\"paymentVec\", \"vendorVec\", \"rateVec\", \"TrafficTimeBinsVec\", \"pickup_hour\", \"weekday\", \"passenger_count\", \"trip_time_in_secs\", \"trip_distance\", \"fare_amount\").map(encodedFinalSampled.columns.indexOf(_))\n",
    "val featuresIndIndex = List(\"paymentIndex\", \"vendorIndex\", \"rateIndex\", \"TrafficTimeBinsIndex\", \"pickup_hour\", \"weekday\", \"passenger_count\", \"trip_time_in_secs\", \"trip_distance\", \"fare_amount\").map(encodedFinalSampled.columns.indexOf(_))\n",
    "\n",
    "// Specify the target for classification ('tipped') and regression ('tip_amount') problems\n",
    "val targetIndBinary = List(\"tipped\").map(encodedFinalSampled.columns.indexOf(_))\n",
    "val targetIndRegression = List(\"tip_amount\").map(encodedFinalSampled.columns.indexOf(_))\n",
    "\n",
    "// Indexed LabeledPoint RDD objects\n",
    "val indexedTRAINbinary = trainData.rdd.map(r => LabeledPoint(r.getDouble(targetIndBinary(0).toInt), Vectors.dense(featuresIndIndex.map(r.getDouble(_)).toArray)))\n",
    "val indexedTESTbinary = testData.rdd.map(r => LabeledPoint(r.getDouble(targetIndBinary(0).toInt), Vectors.dense(featuresIndIndex.map(r.getDouble(_)).toArray)))\n",
    "val indexedTRAINreg = trainData.rdd.map(r => LabeledPoint(r.getDouble(targetIndRegression(0).toInt), Vectors.dense(featuresIndIndex.map(r.getDouble(_)).toArray)))\n",
    "val indexedTESTreg = testData.rdd.map(r => LabeledPoint(r.getDouble(targetIndRegression(0).toInt), Vectors.dense(featuresIndIndex.map(r.getDouble(_)).toArray)))\n",
    "\n",
    "//Indexed DFs that can be used for training using Spark ML functions\n",
    "val indexedTRAINbinaryDF = indexedTRAINbinary.toDF()\n",
    "val indexedTESTbinaryDF = indexedTESTbinary.toDF()\n",
    "val indexedTRAINregDF = indexedTRAINreg.toDF()\n",
    "val indexedTESTregDF = indexedTESTreg.toDF()\n",
    "\n",
    "// One-hot encoded (vectorized) DFs that can be used for training using Spark ML functions\n",
    "val assemblerOneHot = new VectorAssembler().setInputCols(Array(\"paymentVec\", \"vendorVec\", \"rateVec\", \"TrafficTimeBinsVec\", \"pickup_hour\", \"weekday\", \"passenger_count\", \"trip_time_in_secs\", \"trip_distance\", \"fare_amount\")).setOutputCol(\"features\")\n",
    "val OneHotTRAIN = assemblerOneHot.transform(trainData) \n",
    "val OneHotTEST = assemblerOneHot.transform(testData)\n",
    "\n",
    "/* GET TIME TO RUN THE CELL */\n",
    "val endtime = Calendar.getInstance().getTime()\n",
    "val elapsedtime =  ((endtime.getTime() - starttime.getTime())/1000).toString;\n",
    "println(\"Time taken to run the above cell: \" + elapsedtime + \" seconds.\");"
   ]
  },
  {
   "cell_type": "markdown",
   "metadata": {},
   "source": [
    "### Automaticall categorizing and vectorizing features and target for use as input in tree-based modeling functions in Spark ML\n",
    "Properly categorize target and features for use in tree-based modeling functions in Spark ML. \n",
    "1. Target for binary classification (tipped - 0/1) is binarized based on threshold of 0.5\n",
    "2. Features are automatically categorized. If number of distinct numerical values for any of the features is < 32, that feature is that features is categorized."
   ]
  },
  {
   "cell_type": "code",
   "execution_count": 13,
   "metadata": {
    "collapsed": false
   },
   "outputs": [
    {
     "name": "stdout",
     "output_type": "stream",
     "text": [
      "indexedTESTwithCatFeat: org.apache.spark.sql.DataFrame = [label: double, features: vector, featuresCat: vector]"
     ]
    }
   ],
   "source": [
    "// CATEGORIZE FEATURES AND BINARIZE TARGET FOR BINARY CLASSIFICATION PROBLEM  //\n",
    "//Train data\n",
    "val indexer = new VectorIndexer().setInputCol(\"features\").setOutputCol(\"featuresCat\").setMaxCategories(32)\n",
    "val indexerModel = indexer.fit(indexedTRAINbinaryDF)\n",
    "val indexedTrainwithCatFeat = indexerModel.transform(indexedTRAINbinaryDF)\n",
    "val binarizer: Binarizer = new Binarizer().setInputCol(\"label\").setOutputCol(\"labelBin\").setThreshold(0.5)\n",
    "val indexedTRAINwithCatFeatBinTarget = binarizer.transform(indexedTrainwithCatFeat)\n",
    "\n",
    "//Test data\n",
    "val indexerModel = indexer.fit(indexedTESTbinaryDF)\n",
    "val indexedTrainwithCatFeat = indexerModel.transform(indexedTESTbinaryDF)\n",
    "val binarizer: Binarizer = new Binarizer().setInputCol(\"label\").setOutputCol(\"labelBin\").setThreshold(0.5)\n",
    "val indexedTESTwithCatFeatBinTarget = binarizer.transform(indexedTrainwithCatFeat)\n",
    "\n",
    "// CATEGORIZE FEATURES FOR REGRESSION PROBLEM //\n",
    "// Create properly indexed and categorized DFs for tree-based models\n",
    "//Train data\n",
    "val indexer = new VectorIndexer().setInputCol(\"features\").setOutputCol(\"featuresCat\").setMaxCategories(32)\n",
    "val indexerModel = indexer.fit(indexedTRAINregDF)\n",
    "val indexedTRAINwithCatFeat = indexerModel.transform(indexedTRAINregDF)\n",
    "\n",
    "//Test data\n",
    "val indexerModel = indexer.fit(indexedTESTbinaryDF)\n",
    "val indexedTESTwithCatFeat = indexerModel.transform(indexedTESTregDF)"
   ]
  },
  {
   "cell_type": "markdown",
   "metadata": {},
   "source": [
    "<hr>"
   ]
  },
  {
   "cell_type": "markdown",
   "metadata": {},
   "source": [
    "<a name=\"binary\"></a>\n",
    "## 4. BINARY CLASSIFICATION MODEL TRAINING: Predicting tip or no tip (target: tipped = 1/0)"
   ]
  },
  {
   "cell_type": "markdown",
   "metadata": {},
   "source": [
    "### Create a Logistic regression model using SparkML's LogisticRession function, save model in blob, and predict on test data"
   ]
  },
  {
   "cell_type": "code",
   "execution_count": 14,
   "metadata": {
    "collapsed": false
   },
   "outputs": [],
   "source": [
    "// Create Logistic regression model \n",
    "val lr = new LogisticRegression().setLabelCol(\"tipped\").setFeaturesCol(\"features\").setMaxIter(10).setRegParam(0.3).setElasticNetParam(0.8)\n",
    "val lrModel = lr.fit(OneHotTRAIN)\n",
    "\n",
    "// Predict on test data-set\n",
    "val predictions = lrModel.transform(OneHotTEST)\n",
    "\n",
    "// Select BinaryClassificationEvaluator to compute test error\n",
    "val evaluator = new BinaryClassificationEvaluator().setLabelCol(\"tipped\").setRawPredictionCol(\"probability\").setMetricName(\"areaUnderROC\")\n",
    "val ROC = evaluator.evaluate(predictions)\n",
    "println(\"ROC on test data = \" + ROC)\n",
    "\n",
    "// Save Model\n",
    "val datestamp = Calendar.getInstance().getTime().toString.replaceAll(\" \", \".\").replaceAll(\":\", \"_\");\n",
    "val modelName = \"LogisticRegression__\"\n",
    "val filename = modelDir.concat(modelName).concat(datestamp)\n",
    "lrModel.save(filename);"
   ]
  },
  {
   "cell_type": "markdown",
   "metadata": {},
   "source": [
    "##### Example: Load saved model and score test data-set"
   ]
  },
  {
   "cell_type": "code",
   "execution_count": 15,
   "metadata": {
    "collapsed": false
   },
   "outputs": [
    {
     "name": "stdout",
     "output_type": "stream",
     "text": [
      "ROC on test data = 0.9827381497557599"
     ]
    }
   ],
   "source": [
    "val starttime = Calendar.getInstance().getTime()\n",
    "\n",
    "val savedModel = org.apache.spark.ml.classification.LogisticRegressionModel.load(filename)\n",
    "println(s\"Coefficients: ${savedModel.coefficients} Intercept: ${savedModel.intercept}\")\n",
    "\n",
    "// score the model on test data.\n",
    "val predictions = savedModel.transform(OneHotTEST).select(\"tipped\",\"probability\",\"rawPrediction\")\n",
    "predictions.registerTempTable(\"testResults\")\n",
    "\n",
    "// Select BinaryClassificationEvaluator to compute test error\n",
    "val evaluator = new BinaryClassificationEvaluator().setLabelCol(\"tipped\").setRawPredictionCol(\"probability\").setMetricName(\"areaUnderROC\")\n",
    "val ROC = evaluator.evaluate(predictions)\n",
    "\n",
    "/* GET TIME TO RUN THE CELL */\n",
    "val endtime = Calendar.getInstance().getTime()\n",
    "val elapsedtime =  ((endtime.getTime() - starttime.getTime())/1000).toString;\n",
    "println(\"Time taken to run the above cell: \" + elapsedtime + \" seconds.\");\n",
    "\n",
    "println(\"ROC on test data = \" + ROC)"
   ]
  },
  {
   "cell_type": "markdown",
   "metadata": {},
   "source": [
    "##### Example: Use Python on local pandas data-frames to plot ROC curve"
   ]
  },
  {
   "cell_type": "code",
   "execution_count": 16,
   "metadata": {
    "collapsed": true
   },
   "outputs": [],
   "source": [
    "%%sql -q -o sqlResults\n",
    "select tipped, probability from testResults"
   ]
  },
  {
   "cell_type": "code",
   "execution_count": 17,
   "metadata": {
    "collapsed": false
   },
   "outputs": [
    {
     "data": {
      "image/png": "[encoded data removed]",
      "text/plain": [
       "<matplotlib.figure.Figure at 0x7f478e737b10>"
      ]
     },
     "metadata": {},
     "output_type": "display_data"
    }
   ],
   "source": [
    "%%local\n",
    "%matplotlib inline\n",
    "from sklearn.metrics import roc_curve,auc\n",
    "\n",
    "sqlResults['probFloat'] = sqlResults.apply(lambda row: row['probability'].values()[0][1], axis=1)\n",
    "predictions_pddf = sqlResults[[\"tipped\",\"probFloat\"]]\n",
    "\n",
    "#predictions_pddf = sqlResults.rename(columns={'_1': 'probability', 'tipped': 'label'})\n",
    "prob = predictions_pddf[\"probFloat\"] \n",
    "fpr, tpr, thresholds = roc_curve(predictions_pddf['tipped'], prob, pos_label=1);\n",
    "roc_auc = auc(fpr, tpr)\n",
    "\n",
    "plt.figure(figsize=(5,5))\n",
    "plt.plot(fpr, tpr, label='ROC curve (area = %0.2f)' % roc_auc)\n",
    "plt.plot([0, 1], [0, 1], 'k--')\n",
    "plt.xlim([0.0, 1.0])\n",
    "plt.ylim([0.0, 1.05])\n",
    "plt.xlabel('False Positive Rate')\n",
    "plt.ylabel('True Positive Rate')\n",
    "plt.title('ROC Curve')\n",
    "plt.legend(loc=\"lower right\")\n",
    "plt.show()"
   ]
  },
  {
   "cell_type": "markdown",
   "metadata": {},
   "source": [
    "### Create Random Forest classification model using Spark ML RandomForestClassifier function, and evaluate model on test-data"
   ]
  },
  {
   "cell_type": "code",
   "execution_count": 18,
   "metadata": {
    "collapsed": false
   },
   "outputs": [
    {
     "name": "stdout",
     "output_type": "stream",
     "text": [
      "ROC on test data = 0.9847103571552683"
     ]
    }
   ],
   "source": [
    "val starttime = Calendar.getInstance().getTime()\n",
    "\n",
    "// Random Forest Classifier with Spark ML\n",
    "val rf = new RandomForestClassifier().setLabelCol(\"labelBin\").setFeaturesCol(\"featuresCat\").setNumTrees(10).setSeed(1234)\n",
    "\n",
    "// Fit the model\n",
    "val rfModel = rf.fit(indexedTRAINwithCatFeatBinTarget)\n",
    "val predictions = rfModel.transform(indexedTESTwithCatFeatBinTarget)\n",
    "\n",
    "val evaluator = new MulticlassClassificationEvaluator().setLabelCol(\"label\").setPredictionCol(\"prediction\").setMetricName(\"f1\")\n",
    "val Test_f1Score = evaluator.evaluate(predictions)\n",
    "println(\"F1 score on test data: \" + Test_f1Score);\n",
    "\n",
    "/* GET TIME TO RUN THE CELL */\n",
    "val endtime = Calendar.getInstance().getTime()\n",
    "val elapsedtime =  ((endtime.getTime() - starttime.getTime())/1000).toString;\n",
    "println(\"Time taken to run the above cell: \" + elapsedtime + \" seconds.\");\n",
    "\n",
    "//* Binary classification evaluation metrics*//\n",
    "val evaluator = new BinaryClassificationEvaluator().setLabelCol(\"label\").setRawPredictionCol(\"probability\").setMetricName(\"areaUnderROC\")\n",
    "val ROC = evaluator.evaluate(predictions)\n",
    "println(\"ROC on test data = \" + ROC)"
   ]
  },
  {
   "cell_type": "markdown",
   "metadata": {},
   "source": [
    "### Create Gradient boosting tree classification model using MLlib's GradientBoostedTrees function, and evaluate model on test-data"
   ]
  },
  {
   "cell_type": "code",
   "execution_count": 19,
   "metadata": {
    "collapsed": false
   },
   "outputs": [
    {
     "name": "stdout",
     "output_type": "stream",
     "text": [
      "Area under ROC curve: 0.9846895479241554"
     ]
    }
   ],
   "source": [
    "// Train a GBT Classiication model using MLlib and LabeledPoint\n",
    "val starttime = Calendar.getInstance().getTime()\n",
    "\n",
    "val boostingStrategy = BoostingStrategy.defaultParams(\"Classification\")\n",
    "boostingStrategy.numIterations = 20\n",
    "boostingStrategy.treeStrategy.numClasses = 2\n",
    "boostingStrategy.treeStrategy.maxDepth = 5\n",
    "boostingStrategy.treeStrategy.categoricalFeaturesInfo = Map[Int, Int]((0,2),(1,2),(2,6),(3,4))\n",
    "\n",
    "val gbtModel = GradientBoostedTrees.train(indexedTRAINbinary, boostingStrategy)\n",
    "\n",
    "// Save Model in blob location\n",
    "val datestamp = Calendar.getInstance().getTime().toString.replaceAll(\" \", \".\").replaceAll(\":\", \"_\");\n",
    "val modelName = \"GBT_Classification__\"\n",
    "val filename = modelDir.concat(modelName).concat(datestamp)\n",
    "gbtModel.save(sc, filename);\n",
    "\n",
    "// Evaluate model on test instances and compute test error\n",
    "val labelAndPreds = indexedTESTbinary.map { point =>\n",
    "  val prediction = gbtModel.predict(point.features)\n",
    "  (point.label, prediction)\n",
    "}\n",
    "val testErr = labelAndPreds.filter(r => r._1 != r._2).count.toDouble / indexedTRAINbinary.count()\n",
    "//println(\"Learned classification GBT model:\\n\" + gbtModel.toDebugString)\n",
    "println(\"Test Error = \" + testErr)\n",
    "\n",
    "// Use Binary and Multiclass Metrics to evaluate model on Test data\n",
    "val metrics = new MulticlassMetrics(labelAndPreds)\n",
    "println(s\"Precision: ${metrics.precision}\")\n",
    "println(s\"Recall: ${metrics.recall}\")\n",
    "println(s\"F1 Score: ${metrics.fMeasure}\")\n",
    "\n",
    "val metrics = new BinaryClassificationMetrics(labelAndPreds)\n",
    "println(s\"Area under PR curve: ${metrics.areaUnderPR}\")\n",
    "println(s\"Area under ROC curve: ${metrics.areaUnderROC}\")\n",
    "\n",
    "/* GET TIME TO RUN THE CELL */\n",
    "val endtime = Calendar.getInstance().getTime()\n",
    "val elapsedtime =  ((endtime.getTime() - starttime.getTime())/1000).toString;\n",
    "println(\"Time taken to run the above cell: \" + elapsedtime + \" seconds.\");\n",
    "\n",
    "println(s\"Area under ROC curve: ${metrics.areaUnderROC}\")"
   ]
  },
  {
   "cell_type": "markdown",
   "metadata": {},
   "source": [
    "<hr>"
   ]
  },
  {
   "cell_type": "markdown",
   "metadata": {},
   "source": [
    "<a name=\"regression\"></a>\n",
    "## 5. REGRESSION MODEL TRAINING: Predicting tip amount"
   ]
  },
  {
   "cell_type": "markdown",
   "metadata": {},
   "source": [
    "### Create Linear Regression model using Spark ML LinearRegression function, save model and evaluate model on test-data"
   ]
  },
  {
   "cell_type": "code",
   "execution_count": 20,
   "metadata": {
    "collapsed": false
   },
   "outputs": [
    {
     "name": "stdout",
     "output_type": "stream",
     "text": [
      "Time taken to run the above cell: 13 seconds."
     ]
    }
   ],
   "source": [
    "// Create Regularized Linear Regression model using Spark ML function and data-frame\n",
    "val starttime = Calendar.getInstance().getTime()\n",
    "\n",
    "val lr = new LinearRegression().setLabelCol(\"tip_amount\").setFeaturesCol(\"features\").setMaxIter(10).setRegParam(0.3).setElasticNetParam(0.8)\n",
    "\n",
    "// Fit the model using data-frame\n",
    "val lrModel = lr.fit(OneHotTRAIN)\n",
    "println(s\"Coefficients: ${lrModel.coefficients} Intercept: ${lrModel.intercept}\")\n",
    "\n",
    "// Summarize the model over the training set and print out some metrics\n",
    "val trainingSummary = lrModel.summary\n",
    "println(s\"numIterations: ${trainingSummary.totalIterations}\")\n",
    "println(s\"objectiveHistory: ${trainingSummary.objectiveHistory.toList}\")\n",
    "trainingSummary.residuals.show()\n",
    "println(s\"RMSE: ${trainingSummary.rootMeanSquaredError}\")\n",
    "println(s\"r2: ${trainingSummary.r2}\")\n",
    "\n",
    "// Save Model in blob\n",
    "val datestamp = Calendar.getInstance().getTime().toString.replaceAll(\" \", \".\").replaceAll(\":\", \"_\");\n",
    "val modelName = \"LinearRegression__\"\n",
    "val filename = modelDir.concat(modelName).concat(datestamp)\n",
    "lrModel.save(filename);\n",
    "\n",
    "// Print coefficients\n",
    "println(s\"Coefficients: ${lrModel.coefficients} Intercept: ${lrModel.intercept}\")\n",
    "\n",
    "// score the model on test data.\n",
    "val predictions = lrModel.transform(OneHotTEST)\n",
    "\n",
    "// evaluate the model on Test data\n",
    "val evaluator = new RegressionEvaluator().setLabelCol(\"tip_amount\").setPredictionCol(\"prediction\").setMetricName(\"r2\")\n",
    "val r2 = evaluator.evaluate(predictions)\n",
    "println(\"R-sqr on test data = \" + r2)\n",
    "\n",
    "/* GET TIME TO RUN THE CELL */\n",
    "val endtime = Calendar.getInstance().getTime()\n",
    "val elapsedtime =  ((endtime.getTime() - starttime.getTime())/1000).toString;\n",
    "println(\"Time taken to run the above cell: \" + elapsedtime + \" seconds.\");"
   ]
  },
  {
   "cell_type": "markdown",
   "metadata": {},
   "source": [
    "##### EXAMPLE: Load a saved LinearRegression model from blob and score test data-set"
   ]
  },
  {
   "cell_type": "code",
   "execution_count": 21,
   "metadata": {
    "collapsed": false
   },
   "outputs": [
    {
     "name": "stdout",
     "output_type": "stream",
     "text": [
      "R-sqr on test data = 0.5960320470835743"
     ]
    }
   ],
   "source": [
    "val starttime = Calendar.getInstance().getTime()\n",
    "\n",
    "val savedModel = org.apache.spark.ml.regression.LinearRegressionModel.load(filename)\n",
    "println(s\"Coefficients: ${savedModel.coefficients} Intercept: ${savedModel.intercept}\")\n",
    "\n",
    "// score the model on test data.\n",
    "val predictions = savedModel.transform(OneHotTEST).select(\"tip_amount\",\"prediction\")\n",
    "predictions.registerTempTable(\"testResults\")\n",
    "\n",
    "// evaluate the model on Test data\n",
    "val evaluator = new RegressionEvaluator().setLabelCol(\"tip_amount\").setPredictionCol(\"prediction\").setMetricName(\"r2\")\n",
    "val r2 = evaluator.evaluate(predictions)\n",
    "println(\"R-sqr on test data = \" + r2)\n",
    "\n",
    "/* GET TIME TO RUN THE CELL */\n",
    "val endtime = Calendar.getInstance().getTime()\n",
    "val elapsedtime =  ((endtime.getTime() - starttime.getTime())/1000).toString;\n",
    "println(\"Time taken to run the above cell: \" + elapsedtime + \" seconds.\");\n",
    "\n",
    "println(\"R-sqr on test data = \" + r2)"
   ]
  },
  {
   "cell_type": "markdown",
   "metadata": {},
   "source": [
    "##### Example: Query test results as data-frame and visualize using Jupyter autoviz & Python matplotlib"
   ]
  },
  {
   "cell_type": "code",
   "execution_count": 22,
   "metadata": {
    "collapsed": false
   },
   "outputs": [],
   "source": [
    "%%sql -q -o sqlResults\n",
    "select * from testResults"
   ]
  },
  {
   "cell_type": "code",
   "execution_count": 23,
   "metadata": {
    "collapsed": true
   },
   "outputs": [],
   "source": [
    "%%local\n",
    "sqlResults"
   ]
  },
  {
   "cell_type": "markdown",
   "metadata": {},
   "source": [
    "##### Create plots using Python matplotlib"
   ]
  },
  {
   "cell_type": "code",
   "execution_count": 24,
   "metadata": {
    "collapsed": false
   },
   "outputs": [
    {
     "data": {
      "image/png": "[encoded data removed]",
      "text/plain": [
       "<matplotlib.figure.Figure at 0x7f478e592a50>"
      ]
     },
     "metadata": {},
     "output_type": "display_data"
    }
   ],
   "source": [
    "%%local\n",
    "sqlResults\n",
    "%matplotlib inline\n",
    "import numpy as np\n",
    "\n",
    "ax = sqlResults.plot(kind='scatter', figsize = (6,6), x='tip_amount', y='prediction', color='blue', alpha = 0.25, label='Actual vs. predicted');\n",
    "fit = np.polyfit(sqlResults['tip_amount'], sqlResults['prediction'], deg=1)\n",
    "ax.set_title('Actual vs. Predicted Tip Amounts ($)')\n",
    "ax.set_xlabel(\"Actual\")\n",
    "ax.set_ylabel(\"Predicted\")\n",
    "#ax.plot(sqlResults['tip_amount'], fit[0] * sqlResults['prediction'] + fit[1], color='magenta')\n",
    "plt.axis([-1, 15, -1, 8])\n",
    "plt.show(ax)"
   ]
  },
  {
   "cell_type": "markdown",
   "metadata": {},
   "source": [
    "### Create Gradient boosting tree regression model using Spark ML GBTRegressor function, and evaluate model on test-data"
   ]
  },
  {
   "cell_type": "code",
   "execution_count": 25,
   "metadata": {
    "collapsed": false
   },
   "outputs": [
    {
     "name": "stdout",
     "output_type": "stream",
     "text": [
      "Test R-sqr is: 0.7655383534596654"
     ]
    }
   ],
   "source": [
    "val starttime = Calendar.getInstance().getTime()\n",
    "\n",
    "// Train a GBT Regression model.\n",
    "val gbt = new GBTRegressor().setLabelCol(\"label\").setFeaturesCol(\"featuresCat\").setMaxIter(10)\n",
    "val gbtModel = gbt.fit(indexedTRAINwithCatFeat)\n",
    "\n",
    "// Make predictions.\n",
    "val predictions = gbtModel.transform(indexedTESTwithCatFeat)\n",
    "\n",
    "// Compute Test set R2\n",
    "val evaluator = new RegressionEvaluator().setLabelCol(\"label\").setPredictionCol(\"prediction\").setMetricName(\"r2\")\n",
    "val Test_R2 = evaluator.evaluate(predictions)\n",
    "\n",
    "\n",
    "/* GET TIME TO RUN THE CELL */\n",
    "val endtime = Calendar.getInstance().getTime()\n",
    "val elapsedtime =  ((endtime.getTime() - starttime.getTime())/1000).toString;\n",
    "println(\"Time taken to run the above cell: \" + elapsedtime + \" seconds.\");\n",
    "\n",
    "println(\"Test R-sqr is: \" + Test_R2);"
   ]
  },
  {
   "cell_type": "markdown",
   "metadata": {},
   "source": [
    "<hr>"
   ]
  },
  {
   "cell_type": "markdown",
   "metadata": {},
   "source": [
    "<a name=\"advanced\"></a>\n",
    "## 6. ADVANCED MODELING UTILITIES: In this section, we show ML utilities that are frequently used for model optimization\n",
    "\n",
    "<b>We show three different ways to optimize ML models using parameter sweeping:</b>\n",
    "1. Split data into train & validation sets, optimize model using hyper-parameter sweeeping on training set and evaluation on validation set (Linear Regression)\n",
    "2. Optimize model using cross-validation and hyper-parameter sweeping, using Spark ML's CrossValidator function (Binary Classification)\n",
    "3. Optimize model using custom cross-validation and parameter-sweeping code to to utilize any ML function and parameter-set (Linear Regression)"
   ]
  },
  {
   "cell_type": "markdown",
   "metadata": {
    "collapsed": true
   },
   "source": [
    "### Split data into train & validation sets, optimize model using hyper-parameter sweeeping on training set and evaluation on validation set (Linear Regression)"
   ]
  },
  {
   "cell_type": "code",
   "execution_count": 26,
   "metadata": {
    "collapsed": false
   },
   "outputs": [
    {
     "name": "stdout",
     "output_type": "stream",
     "text": [
      "Test R-sqr is: 0.6226484708501209"
     ]
    }
   ],
   "source": [
    "val starttime = Calendar.getInstance().getTime()\n",
    "\n",
    "// Rename tip_amount as label\n",
    "val OneHotTRAINLabeled = OneHotTRAIN.select(\"tip_amount\",\"features\").withColumnRenamed(existingName=\"tip_amount\",newName=\"label\") \n",
    "val OneHotTESTLabeled = OneHotTEST.select(\"tip_amount\",\"features\").withColumnRenamed(existingName=\"tip_amount\",newName=\"label\")\n",
    "OneHotTRAINLabeled.cache()\n",
    "OneHotTESTLabeled.cache()\n",
    "\n",
    "// Define the estimator function: LineareRegression function\n",
    "val lr = new LinearRegression().setLabelCol(\"label\").setFeaturesCol(\"features\").setMaxIter(10)\n",
    "\n",
    "// Define parameter grid\n",
    "val paramGrid = new ParamGridBuilder().addGrid(lr.regParam, Array(0.1, 0.01, 0.001)).addGrid(lr.fitIntercept).addGrid(lr.elasticNetParam, Array(0.1, 0.5, 0.9)).build()\n",
    "\n",
    "// Define pipeline with train-validation split, with 75% in training set, specify estimator, evaluator, parameter grid\n",
    "val trainPct = 0.75\n",
    "val trainValidationSplit = new TrainValidationSplit().setEstimator(lr).setEvaluator(new RegressionEvaluator).setEstimatorParamMaps(paramGrid).setTrainRatio(trainPct)\n",
    "\n",
    "// Run train validation split, and choose the best set of parameters.\n",
    "val model = trainValidationSplit.fit(OneHotTRAINLabeled)\n",
    "\n",
    "// Make predictions on test data. model is the model with combination of parameters that performed best.\n",
    "val testResults = model.transform(OneHotTESTLabeled).select(\"label\", \"prediction\")\n",
    "\n",
    "// Compute Test set R2\n",
    "val evaluator = new RegressionEvaluator().setLabelCol(\"label\").setPredictionCol(\"prediction\").setMetricName(\"r2\")\n",
    "val Test_R2 = evaluator.evaluate(testResults)\n",
    "\n",
    "/* GET TIME TO RUN THE CELL */\n",
    "val endtime = Calendar.getInstance().getTime()\n",
    "val elapsedtime =  ((endtime.getTime() - starttime.getTime())/1000).toString;\n",
    "println(\"Time taken to run the above cell: \" + elapsedtime + \" seconds.\");\n",
    "\n",
    "println(\"Test R-sqr is: \" + Test_R2);"
   ]
  },
  {
   "cell_type": "markdown",
   "metadata": {},
   "source": [
    "### Optimize model using cross-validation and hyper-parameter sweeping, using Spark ML's CrossValidator function (Binary Classification)"
   ]
  },
  {
   "cell_type": "code",
   "execution_count": 27,
   "metadata": {
    "collapsed": false
   },
   "outputs": [
    {
     "name": "stdout",
     "output_type": "stream",
     "text": [
      "Time taken to run the above cell: 33 seconds."
     ]
    }
   ],
   "source": [
    "val starttime = Calendar.getInstance().getTime()\n",
    "\n",
    "// Create data-frames with properly labeled columns for use with train/test split\n",
    "val indexedTRAINwithCatFeatBinTargetRF = indexedTRAINwithCatFeatBinTarget.select(\"labelBin\",\"featuresCat\").withColumnRenamed(existingName=\"labelBin\",newName=\"label\").withColumnRenamed(existingName=\"featuresCat\",newName=\"features\")\n",
    "val indexedTESTwithCatFeatBinTargetRF = indexedTESTwithCatFeatBinTarget.select(\"labelBin\",\"featuresCat\").withColumnRenamed(existingName=\"labelBin\",newName=\"label\").withColumnRenamed(existingName=\"featuresCat\",newName=\"features\")\n",
    "indexedTRAINwithCatFeatBinTargetRF.cache()\n",
    "indexedTESTwithCatFeatBinTargetRF.cache()\n",
    "\n",
    "// Define the estimator function\n",
    "val rf = new RandomForestClassifier().setLabelCol(\"label\").setFeaturesCol(\"features\").setImpurity(\"gini\").setSeed(1234).setFeatureSubsetStrategy(\"auto\").setMaxBins(32)\n",
    "\n",
    "// Define parameter grid\n",
    "val paramGrid = new ParamGridBuilder().addGrid(rf.maxDepth, Array(4,8)).addGrid(rf.numTrees, Array(5,10)).addGrid(rf.minInstancesPerNode, Array(100,300)).build()\n",
    "\n",
    "// Specify number of folds\n",
    "val numFolds = 3\n",
    "\n",
    "// Define train-test validation split, with 75% in training set\n",
    "val CrossValidator = new CrossValidator().setEstimator(rf).setEvaluator(new BinaryClassificationEvaluator).setEstimatorParamMaps(paramGrid).setNumFolds(numFolds)\n",
    "\n",
    "// Run train validation split, and choose the best set of parameters.\n",
    "val model = CrossValidator.fit(indexedTRAINwithCatFeatBinTargetRF)\n",
    "\n",
    "// Make predictions on test data. model is the model with combination of parameters that performed best.\n",
    "val testResults = model.transform(indexedTESTwithCatFeatBinTargetRF).select(\"label\", \"prediction\")\n",
    "\n",
    "// Compute Test F1 score\n",
    "val evaluator = new MulticlassClassificationEvaluator().setLabelCol(\"label\").setPredictionCol(\"prediction\").setMetricName(\"f1\")\n",
    "val Test_f1Score = evaluator.evaluate(testResults)\n",
    "\n",
    "/* GET TIME TO RUN THE CELL */\n",
    "val endtime = Calendar.getInstance().getTime()\n",
    "val elapsedtime =  ((endtime.getTime() - starttime.getTime())/1000).toString;\n",
    "println(\"Time taken to run the above cell: \" + elapsedtime + \" seconds.\");"
   ]
  },
  {
   "cell_type": "markdown",
   "metadata": {},
   "source": [
    "### Optimize model using custom cross-validation and parameter-sweeping code to utilize any ML function and parameter-set (Linear Regression)\n",
    "\n",
    "#### Optimize model using custom code. Then identify best model parameters based on highest accuracy, create final model, and evaluate model on test data. Save model in blog. Load model and score test-data and evaluate accuracy."
   ]
  },
  {
   "cell_type": "code",
   "execution_count": 28,
   "metadata": {
    "collapsed": false
   },
   "outputs": [
    {
     "name": "stdout",
     "output_type": "stream",
     "text": [
      "Time taken to run the above cell: 61 seconds."
     ]
    }
   ],
   "source": [
    "val starttime = Calendar.getInstance().getTime()\n",
    "\n",
    "// Define parameter grid and number of folds\n",
    "val paramGrid = new ParamGridBuilder().addGrid(rf.maxDepth, Array(5,10)).addGrid(rf.numTrees, Array(10,25,50)).build()\n",
    "\n",
    "val nFolds = 3\n",
    "val numModels = paramGrid.size\n",
    "val numParamsinGrid = 2\n",
    "\n",
    "// Specify the number of categories of categorical variables\n",
    "val categoricalFeaturesInfo = Map[Int, Int]((0,2),(1,2),(2,6),(3,4))\n",
    "\n",
    "var maxDepth = -1\n",
    "var numTrees = -1\n",
    "var param = \"\"\n",
    "var paramval = -1\n",
    "var validateLB = -1.0\n",
    "var validateUB = -1.0\n",
    "val h = 1.0 / nFolds;\n",
    "val RMSE  = Array.fill(numModels)(0.0)\n",
    "\n",
    "// Create k folds\n",
    "val splits = MLUtils.kFold(indexedTRAINbinary, numFolds = nFolds, seed=1234)\n",
    "\n",
    "\n",
    "// Loop through k-folds and parameter grid to get and identify best parameter set by best accuracy\n",
    "for (i <- 0 to (nFolds-1)) {\n",
    "    validateLB = i * h\n",
    "    validateUB = (i + 1) * h\n",
    "    val validationCV = trainData.filter($\"rand\" >= validateLB  && $\"rand\" < validateUB)\n",
    "    val trainCV = trainData.filter($\"rand\" < validateLB  || $\"rand\" >= validateUB)\n",
    "    val validationLabPt = validationCV.rdd.map(r => LabeledPoint(r.getDouble(targetIndRegression(0).toInt), Vectors.dense(featuresIndIndex.map(r.getDouble(_)).toArray)));\n",
    "    val trainCVLabPt = trainCV.rdd.map(r => LabeledPoint(r.getDouble(targetIndRegression(0).toInt), Vectors.dense(featuresIndIndex.map(r.getDouble(_)).toArray)));\n",
    "    validationLabPt.cache()\n",
    "    trainCVLabPt.cache()\n",
    "\n",
    "    for (nParamSets <- 0 to (numModels-1)) {\n",
    "        for (nParams <- 0 to (numParamsinGrid-1)) {\n",
    "            param = paramGrid(nParamSets).toSeq(nParams).param.toString.split(\"__\")(1)\n",
    "            paramval = paramGrid(nParamSets).toSeq(nParams).value.toString.toInt\n",
    "            if (param == \"maxDepth\") {maxDepth = paramval}\n",
    "            if (param == \"numTrees\") {numTrees = paramval}\n",
    "        }\n",
    "        val rfModel = RandomForest.trainRegressor(trainCVLabPt, categoricalFeaturesInfo=categoricalFeaturesInfo,\n",
    "                                                  numTrees=numTrees, maxDepth=maxDepth,\n",
    "                                                  featureSubsetStrategy=\"auto\",impurity=\"variance\", maxBins=32)\n",
    "        val labelAndPreds = validationLabPt.map { point =>\n",
    "                                                 val prediction = rfModel.predict(point.features)\n",
    "                                                 ( prediction, point.label )\n",
    "                                                }\n",
    "        val validMetrics = new RegressionMetrics(labelAndPreds)\n",
    "        val rmse = validMetrics.rootMeanSquaredError\n",
    "        RMSE(nParamSets) += rmse\n",
    "    }\n",
    "    validationLabPt.unpersist();\n",
    "    trainCVLabPt.unpersist();\n",
    "}\n",
    "val minRMSEindex = RMSE.indexOf(RMSE.min)\n",
    "\n",
    "// Get  best parameters from CV and parameter sweep\n",
    "var best_maxDepth = -1\n",
    "var best_numTrees = -1\n",
    "for (nParams <- 0 to (numParamsinGrid-1)) {\n",
    "    param = paramGrid(minRMSEindex).toSeq(nParams).param.toString.split(\"__\")(1)\n",
    "    paramval = paramGrid(minRMSEindex).toSeq(nParams).value.toString.toInt\n",
    "    if (param == \"maxDepth\") {best_maxDepth = paramval}\n",
    "    if (param == \"numTrees\") {best_numTrees = paramval}\n",
    "}\n",
    "\n",
    "// Create best model with best parameters and full training data-set\n",
    "val best_rfModel = RandomForest.trainRegressor(indexedTRAINreg, categoricalFeaturesInfo=categoricalFeaturesInfo,\n",
    "                                                  numTrees=best_numTrees, maxDepth=best_maxDepth,\n",
    "                                                  featureSubsetStrategy=\"auto\",impurity=\"variance\", maxBins=32)\n",
    "\n",
    "// Save best RF model in blob\n",
    "val datestamp = Calendar.getInstance().getTime().toString.replaceAll(\" \", \".\").replaceAll(\":\", \"_\");\n",
    "val modelName = \"BestCV_RF_Regression__\"\n",
    "val filename = modelDir.concat(modelName).concat(datestamp)\n",
    "best_rfModel.save(sc, filename);\n",
    "\n",
    "// Predict on Training set with best model and evaluate\n",
    "val labelAndPreds = indexedTESTreg.map { point =>\n",
    "                                        val prediction = best_rfModel.predict(point.features)\n",
    "                                        ( prediction, point.label )\n",
    "                                       }\n",
    "\n",
    "val test_rmse = new RegressionMetrics(labelAndPreds).rootMeanSquaredError\n",
    "val test_rsqr = new RegressionMetrics(labelAndPreds).r2\n",
    "\n",
    "/* GET TIME TO RUN THE CELL */\n",
    "val endtime = Calendar.getInstance().getTime()\n",
    "val elapsedtime =  ((endtime.getTime() - starttime.getTime())/1000).toString;\n",
    "println(\"Time taken to run the above cell: \" + elapsedtime + \" seconds.\");"
   ]
  },
  {
   "cell_type": "markdown",
   "metadata": {},
   "source": [
    "##### Load best RF model from blob and score test file"
   ]
  },
  {
   "cell_type": "code",
   "execution_count": 29,
   "metadata": {
    "collapsed": false
   },
   "outputs": [
    {
     "name": "stdout",
     "output_type": "stream",
     "text": [
      "test_rsqr: Double = 0.785399549439923"
     ]
    }
   ],
   "source": [
    "val savedRFModel = RandomForestModel.load(sc, filename)\n",
    "\n",
    "val labelAndPreds = indexedTESTreg.map { point =>\n",
    "                                        val prediction = savedRFModel.predict(point.features)\n",
    "                                        ( prediction, point.label )\n",
    "                                       }\n",
    "val test_rmse = new RegressionMetrics(labelAndPreds).rootMeanSquaredError\n",
    "val test_rsqr = new RegressionMetrics(labelAndPreds).r2"
   ]
  },
  {
   "cell_type": "markdown",
   "metadata": {},
   "source": [
    "<hr>"
   ]
  },
  {
   "cell_type": "markdown",
   "metadata": {},
   "source": [
    "<a name=\"consumption\"></a>\n",
    "## 7. AUTOMATICALLY CONSUMING SPARK-BUILT ML MODELS\n",
    "\n",
    "We have previously published a description and code (pySpark) to show how one can automatically load and score new data-sets with ML models built in Spark and saved in Azure blobs. We do not repeat that description here, but simply point the users to the <a href=\"https://azure.microsoft.com/en-us/documentation/articles/machine-learning-data-science-spark-overview/\" target=\"_blank\">previously published description on automated model consumption</a>. Users need to follow the instructions provided earlier, and replace the python code with Scala code shown above to enable automated consumption."
   ]
  },
  {
   "cell_type": "markdown",
   "metadata": {},
   "source": [
    "<hr>"
   ]
  },
  {
   "cell_type": "code",
   "execution_count": 30,
   "metadata": {
    "collapsed": false
   },
   "outputs": [
    {
     "name": "stdout",
     "output_type": "stream",
     "text": [
      "Time taken to run the above cell: 286 seconds."
     ]
    }
   ],
   "source": [
    "/* GET TIME TO RUN THE NOTEBOOK */\n",
    "val finalTime = Calendar.getInstance().getTime()\n",
    "val totalTime =  ((finalTime.getTime() - beginningTime.getTime())/1000).toString;\n",
    "println(\"Time taken to run the above cell: \" + totalTime + \" seconds.\");"
   ]
  }
 ],
 "metadata": {
  "kernelspec": {
   "display_name": "Spark",
   "language": "",
   "name": "sparkkernel"
  },
  "language_info": {
   "codemirror_mode": "text/x-scala",
   "mimetype": "text/x-scala",
   "name": "scala",
   "pygments_lexer": "scala"
  }
 },
 "nbformat": 4,
 "nbformat_minor": 0
}